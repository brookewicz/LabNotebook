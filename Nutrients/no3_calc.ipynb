{
 "cells": [
  {
   "cell_type": "markdown",
   "id": "0ddb159e-6e10-44b3-95cc-58a90d3699b4",
   "metadata": {},
   "source": [
    "# NO3 Plate Processing"
   ]
  },
  {
   "cell_type": "markdown",
   "id": "bb00be3b-534a-4125-b755-38b5e1f20ddc",
   "metadata": {
    "jp-MarkdownHeadingCollapsed": true
   },
   "source": [
    "### upload"
   ]
  },
  {
   "cell_type": "code",
   "execution_count": 323,
   "id": "ad5e82bf-60f6-40b9-a0c5-bd4ed54b7e3a",
   "metadata": {},
   "outputs": [],
   "source": [
    "#install.packages('tibble')"
   ]
  },
  {
   "cell_type": "code",
   "execution_count": 324,
   "id": "04c93854-4078-4667-8d91-407ae5127896",
   "metadata": {},
   "outputs": [],
   "source": [
    "library(readxl)\n",
    "library(tidyverse)\n",
    "library(dplyr)\n",
    "library(ggplot2)"
   ]
  },
  {
   "cell_type": "code",
   "execution_count": 325,
   "id": "bf4230a9-655b-4294-a1dc-337f60ad07b3",
   "metadata": {},
   "outputs": [
    {
     "data": {
      "text/html": [
       "'/Users/brookesienkiewicz/Documents/LabNotebook/Nutrients'"
      ],
      "text/latex": [
       "'/Users/brookesienkiewicz/Documents/LabNotebook/Nutrients'"
      ],
      "text/markdown": [
       "'/Users/brookesienkiewicz/Documents/LabNotebook/Nutrients'"
      ],
      "text/plain": [
       "[1] \"/Users/brookesienkiewicz/Documents/LabNotebook/Nutrients\""
      ]
     },
     "metadata": {},
     "output_type": "display_data"
    }
   ],
   "source": [
    "getwd()"
   ]
  },
  {
   "cell_type": "code",
   "execution_count": 326,
   "id": "79c2b4c0-3da8-48b3-b86e-b5d408e6cc55",
   "metadata": {
    "scrolled": true
   },
   "outputs": [
    {
     "name": "stderr",
     "output_type": "stream",
     "text": [
      "\u001b[1m\u001b[22mNew names:\n",
      "\u001b[36m•\u001b[39m `` -> `...3`\n",
      "\u001b[36m•\u001b[39m `` -> `...4`\n",
      "\u001b[36m•\u001b[39m `` -> `...5`\n",
      "\u001b[36m•\u001b[39m `` -> `...6`\n",
      "\u001b[36m•\u001b[39m `` -> `...7`\n",
      "\u001b[36m•\u001b[39m `` -> `...8`\n",
      "\u001b[36m•\u001b[39m `` -> `...9`\n",
      "\u001b[36m•\u001b[39m `` -> `...10`\n",
      "\u001b[36m•\u001b[39m `` -> `...11`\n",
      "\u001b[36m•\u001b[39m `` -> `...12`\n",
      "\u001b[36m•\u001b[39m `` -> `...13`\n",
      "\u001b[36m•\u001b[39m `` -> `...14`\n",
      "\u001b[36m•\u001b[39m `` -> `...15`\n"
     ]
    }
   ],
   "source": [
    "# load plate raws \n",
    "test <- read_excel(\"plate_results/stnd_test2.xlsx\")"
   ]
  },
  {
   "cell_type": "code",
   "execution_count": 327,
   "id": "fd4131eb-1080-4126-9759-db58a7ebf1cf",
   "metadata": {},
   "outputs": [
    {
     "data": {
      "text/html": [
       "<table class=\"dataframe\">\n",
       "<caption>A tibble: 6 × 15</caption>\n",
       "<thead>\n",
       "\t<tr><th scope=col>Software Version</th><th scope=col>3.16.10</th><th scope=col>...3</th><th scope=col>...4</th><th scope=col>...5</th><th scope=col>...6</th><th scope=col>...7</th><th scope=col>...8</th><th scope=col>...9</th><th scope=col>...10</th><th scope=col>...11</th><th scope=col>...12</th><th scope=col>...13</th><th scope=col>...14</th><th scope=col>...15</th></tr>\n",
       "\t<tr><th scope=col>&lt;chr&gt;</th><th scope=col>&lt;chr&gt;</th><th scope=col>&lt;chr&gt;</th><th scope=col>&lt;chr&gt;</th><th scope=col>&lt;chr&gt;</th><th scope=col>&lt;chr&gt;</th><th scope=col>&lt;chr&gt;</th><th scope=col>&lt;chr&gt;</th><th scope=col>&lt;chr&gt;</th><th scope=col>&lt;chr&gt;</th><th scope=col>&lt;chr&gt;</th><th scope=col>&lt;chr&gt;</th><th scope=col>&lt;chr&gt;</th><th scope=col>&lt;chr&gt;</th><th scope=col>&lt;chr&gt;</th></tr>\n",
       "</thead>\n",
       "<tbody>\n",
       "\t<tr><td>NA                   </td><td>NA                                                                                   </td><td>NA</td><td>NA</td><td>NA</td><td>NA</td><td>NA</td><td>NA</td><td>NA</td><td>NA</td><td>NA</td><td>NA</td><td>NA</td><td>NA</td><td>NA</td></tr>\n",
       "\t<tr><td>Experiment File Path:</td><td>C:\\Users\\Public\\Documents\\Experiments\\sienkiewicz_winbourne\\std_test.xpt       </td><td>NA</td><td>NA</td><td>NA</td><td>NA</td><td>NA</td><td>NA</td><td>NA</td><td>NA</td><td>NA</td><td>NA</td><td>NA</td><td>NA</td><td>NA</td></tr>\n",
       "\t<tr><td>Protocol File Path:  </td><td>C:\\Users\\Public\\Documents\\Experiments\\sienkiewicz_winbourne\\nitrate_updated.prt</td><td>NA</td><td>NA</td><td>NA</td><td>NA</td><td>NA</td><td>NA</td><td>NA</td><td>NA</td><td>NA</td><td>NA</td><td>NA</td><td>NA</td><td>NA</td></tr>\n",
       "\t<tr><td>Plate Number         </td><td>Plate 3                                                                              </td><td>NA</td><td>NA</td><td>NA</td><td>NA</td><td>NA</td><td>NA</td><td>NA</td><td>NA</td><td>NA</td><td>NA</td><td>NA</td><td>NA</td><td>NA</td></tr>\n",
       "\t<tr><td>Date                 </td><td>45721                                                                                </td><td>NA</td><td>NA</td><td>NA</td><td>NA</td><td>NA</td><td>NA</td><td>NA</td><td>NA</td><td>NA</td><td>NA</td><td>NA</td><td>NA</td><td>NA</td></tr>\n",
       "\t<tr><td>Time                 </td><td>0.75908564814814816                                                                  </td><td>NA</td><td>NA</td><td>NA</td><td>NA</td><td>NA</td><td>NA</td><td>NA</td><td>NA</td><td>NA</td><td>NA</td><td>NA</td><td>NA</td><td>NA</td></tr>\n",
       "</tbody>\n",
       "</table>\n"
      ],
      "text/latex": [
       "A tibble: 6 × 15\n",
       "\\begin{tabular}{lllllllllllllll}\n",
       " Software Version & 3.16.10 & ...3 & ...4 & ...5 & ...6 & ...7 & ...8 & ...9 & ...10 & ...11 & ...12 & ...13 & ...14 & ...15\\\\\n",
       " <chr> & <chr> & <chr> & <chr> & <chr> & <chr> & <chr> & <chr> & <chr> & <chr> & <chr> & <chr> & <chr> & <chr> & <chr>\\\\\n",
       "\\hline\n",
       "\t NA                    & NA                                                                                    & NA & NA & NA & NA & NA & NA & NA & NA & NA & NA & NA & NA & NA\\\\\n",
       "\t Experiment File Path: & C:\\textbackslash{}Users\\textbackslash{}Public\\textbackslash{}Documents\\textbackslash{}Experiments\\textbackslash{}sienkiewicz\\_winbourne\\textbackslash{}std\\_test.xpt        & NA & NA & NA & NA & NA & NA & NA & NA & NA & NA & NA & NA & NA\\\\\n",
       "\t Protocol File Path:   & C:\\textbackslash{}Users\\textbackslash{}Public\\textbackslash{}Documents\\textbackslash{}Experiments\\textbackslash{}sienkiewicz\\_winbourne\\textbackslash{}nitrate\\_updated.prt & NA & NA & NA & NA & NA & NA & NA & NA & NA & NA & NA & NA & NA\\\\\n",
       "\t Plate Number          & Plate 3                                                                               & NA & NA & NA & NA & NA & NA & NA & NA & NA & NA & NA & NA & NA\\\\\n",
       "\t Date                  & 45721                                                                                 & NA & NA & NA & NA & NA & NA & NA & NA & NA & NA & NA & NA & NA\\\\\n",
       "\t Time                  & 0.75908564814814816                                                                   & NA & NA & NA & NA & NA & NA & NA & NA & NA & NA & NA & NA & NA\\\\\n",
       "\\end{tabular}\n"
      ],
      "text/markdown": [
       "\n",
       "A tibble: 6 × 15\n",
       "\n",
       "| Software Version &lt;chr&gt; | 3.16.10 &lt;chr&gt; | ...3 &lt;chr&gt; | ...4 &lt;chr&gt; | ...5 &lt;chr&gt; | ...6 &lt;chr&gt; | ...7 &lt;chr&gt; | ...8 &lt;chr&gt; | ...9 &lt;chr&gt; | ...10 &lt;chr&gt; | ...11 &lt;chr&gt; | ...12 &lt;chr&gt; | ...13 &lt;chr&gt; | ...14 &lt;chr&gt; | ...15 &lt;chr&gt; |\n",
       "|---|---|---|---|---|---|---|---|---|---|---|---|---|---|---|\n",
       "| NA                    | NA                                                                                    | NA | NA | NA | NA | NA | NA | NA | NA | NA | NA | NA | NA | NA |\n",
       "| Experiment File Path: | C:\\Users\\Public\\Documents\\Experiments\\sienkiewicz_winbourne\\std_test.xpt        | NA | NA | NA | NA | NA | NA | NA | NA | NA | NA | NA | NA | NA |\n",
       "| Protocol File Path:   | C:\\Users\\Public\\Documents\\Experiments\\sienkiewicz_winbourne\\nitrate_updated.prt | NA | NA | NA | NA | NA | NA | NA | NA | NA | NA | NA | NA | NA |\n",
       "| Plate Number          | Plate 3                                                                               | NA | NA | NA | NA | NA | NA | NA | NA | NA | NA | NA | NA | NA |\n",
       "| Date                  | 45721                                                                                 | NA | NA | NA | NA | NA | NA | NA | NA | NA | NA | NA | NA | NA |\n",
       "| Time                  | 0.75908564814814816                                                                   | NA | NA | NA | NA | NA | NA | NA | NA | NA | NA | NA | NA | NA |\n",
       "\n"
      ],
      "text/plain": [
       "  Software Version     \n",
       "1 NA                   \n",
       "2 Experiment File Path:\n",
       "3 Protocol File Path:  \n",
       "4 Plate Number         \n",
       "5 Date                 \n",
       "6 Time                 \n",
       "  3.16.10                                                                              \n",
       "1 NA                                                                                   \n",
       "2 C:\\\\Users\\\\Public\\\\Documents\\\\Experiments\\\\sienkiewicz_winbourne\\\\std_test.xpt       \n",
       "3 C:\\\\Users\\\\Public\\\\Documents\\\\Experiments\\\\sienkiewicz_winbourne\\\\nitrate_updated.prt\n",
       "4 Plate 3                                                                              \n",
       "5 45721                                                                                \n",
       "6 0.75908564814814816                                                                  \n",
       "  ...3 ...4 ...5 ...6 ...7 ...8 ...9 ...10 ...11 ...12 ...13 ...14 ...15\n",
       "1 NA   NA   NA   NA   NA   NA   NA   NA    NA    NA    NA    NA    NA   \n",
       "2 NA   NA   NA   NA   NA   NA   NA   NA    NA    NA    NA    NA    NA   \n",
       "3 NA   NA   NA   NA   NA   NA   NA   NA    NA    NA    NA    NA    NA   \n",
       "4 NA   NA   NA   NA   NA   NA   NA   NA    NA    NA    NA    NA    NA   \n",
       "5 NA   NA   NA   NA   NA   NA   NA   NA    NA    NA    NA    NA    NA   \n",
       "6 NA   NA   NA   NA   NA   NA   NA   NA    NA    NA    NA    NA    NA   "
      ]
     },
     "metadata": {},
     "output_type": "display_data"
    }
   ],
   "source": [
    "head(test)"
   ]
  },
  {
   "cell_type": "code",
   "execution_count": 328,
   "id": "2d717bcf-b899-40f1-9dd5-314ec9dc7aab",
   "metadata": {},
   "outputs": [],
   "source": [
    "options(scipen = 999)\n",
    "options(digits = 5)  "
   ]
  },
  {
   "cell_type": "code",
   "execution_count": 329,
   "id": "1db1db59-a589-416f-bc94-87eae209db3f",
   "metadata": {},
   "outputs": [
    {
     "name": "stderr",
     "output_type": "stream",
     "text": [
      "Warning message:\n",
      "“\u001b[1m\u001b[22mThere was 1 warning in `mutate()`.\n",
      "\u001b[1m\u001b[22m\u001b[36mℹ\u001b[39m In argument: `across(everything(), ~as.numeric(.))`.\n",
      "Caused by warning:\n",
      "\u001b[33m!\u001b[39m NAs introduced by coercion”\n"
     ]
    },
    {
     "data": {
      "text/html": [
       "<table class=\"dataframe\">\n",
       "<caption>A tibble: 6 × 13</caption>\n",
       "<thead>\n",
       "\t<tr><th scope=col>3.16.10</th><th scope=col>...3</th><th scope=col>...4</th><th scope=col>...5</th><th scope=col>...6</th><th scope=col>...7</th><th scope=col>...8</th><th scope=col>...9</th><th scope=col>...10</th><th scope=col>...11</th><th scope=col>...12</th><th scope=col>...13</th><th scope=col>...14</th></tr>\n",
       "\t<tr><th scope=col>&lt;dbl&gt;</th><th scope=col>&lt;dbl&gt;</th><th scope=col>&lt;dbl&gt;</th><th scope=col>&lt;dbl&gt;</th><th scope=col>&lt;dbl&gt;</th><th scope=col>&lt;dbl&gt;</th><th scope=col>&lt;dbl&gt;</th><th scope=col>&lt;dbl&gt;</th><th scope=col>&lt;dbl&gt;</th><th scope=col>&lt;dbl&gt;</th><th scope=col>&lt;dbl&gt;</th><th scope=col>&lt;dbl&gt;</th><th scope=col>&lt;dbl&gt;</th></tr>\n",
       "</thead>\n",
       "<tbody>\n",
       "\t<tr><td>NA</td><td>1.000</td><td>2.000</td><td>3.000</td><td>4.000</td><td>5.000</td><td>6.000</td><td>7.000</td><td> 8.000</td><td>9.000</td><td>10.000</td><td>11.000</td><td>12.000</td></tr>\n",
       "\t<tr><td>NA</td><td>0.079</td><td>0.098</td><td>0.082</td><td>0.092</td><td>0.145</td><td>0.114</td><td>0.121</td><td> 0.066</td><td>0.847</td><td> 0.474</td><td> 0.125</td><td> 0.079</td></tr>\n",
       "\t<tr><td>NA</td><td>0.014</td><td>0.033</td><td>0.017</td><td>0.027</td><td>0.080</td><td>0.049</td><td>0.056</td><td> 0.002</td><td>0.782</td><td> 0.409</td><td> 0.060</td><td> 0.014</td></tr>\n",
       "\t<tr><td>NA</td><td>0.070</td><td>0.086</td><td>0.112</td><td>0.168</td><td>0.310</td><td>0.614</td><td>0.964</td><td> 0.064</td><td>0.846</td><td> 0.484</td><td> 0.118</td><td> 0.077</td></tr>\n",
       "\t<tr><td>NA</td><td>0.006</td><td>0.021</td><td>0.047</td><td>0.103</td><td>0.246</td><td>0.549</td><td>0.899</td><td>-0.001</td><td>0.781</td><td> 0.419</td><td> 0.054</td><td> 0.012</td></tr>\n",
       "\t<tr><td>NA</td><td>0.074</td><td>0.072</td><td>0.070</td><td>0.071</td><td>0.071</td><td>0.073</td><td>0.846</td><td> 0.119</td><td>0.066</td><td> 0.065</td><td> 0.064</td><td> 0.087</td></tr>\n",
       "</tbody>\n",
       "</table>\n"
      ],
      "text/latex": [
       "A tibble: 6 × 13\n",
       "\\begin{tabular}{lllllllllllll}\n",
       " 3.16.10 & ...3 & ...4 & ...5 & ...6 & ...7 & ...8 & ...9 & ...10 & ...11 & ...12 & ...13 & ...14\\\\\n",
       " <dbl> & <dbl> & <dbl> & <dbl> & <dbl> & <dbl> & <dbl> & <dbl> & <dbl> & <dbl> & <dbl> & <dbl> & <dbl>\\\\\n",
       "\\hline\n",
       "\t NA & 1.000 & 2.000 & 3.000 & 4.000 & 5.000 & 6.000 & 7.000 &  8.000 & 9.000 & 10.000 & 11.000 & 12.000\\\\\n",
       "\t NA & 0.079 & 0.098 & 0.082 & 0.092 & 0.145 & 0.114 & 0.121 &  0.066 & 0.847 &  0.474 &  0.125 &  0.079\\\\\n",
       "\t NA & 0.014 & 0.033 & 0.017 & 0.027 & 0.080 & 0.049 & 0.056 &  0.002 & 0.782 &  0.409 &  0.060 &  0.014\\\\\n",
       "\t NA & 0.070 & 0.086 & 0.112 & 0.168 & 0.310 & 0.614 & 0.964 &  0.064 & 0.846 &  0.484 &  0.118 &  0.077\\\\\n",
       "\t NA & 0.006 & 0.021 & 0.047 & 0.103 & 0.246 & 0.549 & 0.899 & -0.001 & 0.781 &  0.419 &  0.054 &  0.012\\\\\n",
       "\t NA & 0.074 & 0.072 & 0.070 & 0.071 & 0.071 & 0.073 & 0.846 &  0.119 & 0.066 &  0.065 &  0.064 &  0.087\\\\\n",
       "\\end{tabular}\n"
      ],
      "text/markdown": [
       "\n",
       "A tibble: 6 × 13\n",
       "\n",
       "| 3.16.10 &lt;dbl&gt; | ...3 &lt;dbl&gt; | ...4 &lt;dbl&gt; | ...5 &lt;dbl&gt; | ...6 &lt;dbl&gt; | ...7 &lt;dbl&gt; | ...8 &lt;dbl&gt; | ...9 &lt;dbl&gt; | ...10 &lt;dbl&gt; | ...11 &lt;dbl&gt; | ...12 &lt;dbl&gt; | ...13 &lt;dbl&gt; | ...14 &lt;dbl&gt; |\n",
       "|---|---|---|---|---|---|---|---|---|---|---|---|---|\n",
       "| NA | 1.000 | 2.000 | 3.000 | 4.000 | 5.000 | 6.000 | 7.000 |  8.000 | 9.000 | 10.000 | 11.000 | 12.000 |\n",
       "| NA | 0.079 | 0.098 | 0.082 | 0.092 | 0.145 | 0.114 | 0.121 |  0.066 | 0.847 |  0.474 |  0.125 |  0.079 |\n",
       "| NA | 0.014 | 0.033 | 0.017 | 0.027 | 0.080 | 0.049 | 0.056 |  0.002 | 0.782 |  0.409 |  0.060 |  0.014 |\n",
       "| NA | 0.070 | 0.086 | 0.112 | 0.168 | 0.310 | 0.614 | 0.964 |  0.064 | 0.846 |  0.484 |  0.118 |  0.077 |\n",
       "| NA | 0.006 | 0.021 | 0.047 | 0.103 | 0.246 | 0.549 | 0.899 | -0.001 | 0.781 |  0.419 |  0.054 |  0.012 |\n",
       "| NA | 0.074 | 0.072 | 0.070 | 0.071 | 0.071 | 0.073 | 0.846 |  0.119 | 0.066 |  0.065 |  0.064 |  0.087 |\n",
       "\n"
      ],
      "text/plain": [
       "  3.16.10 ...3  ...4  ...5  ...6  ...7  ...8  ...9  ...10  ...11 ...12  ...13 \n",
       "1 NA      1.000 2.000 3.000 4.000 5.000 6.000 7.000  8.000 9.000 10.000 11.000\n",
       "2 NA      0.079 0.098 0.082 0.092 0.145 0.114 0.121  0.066 0.847  0.474  0.125\n",
       "3 NA      0.014 0.033 0.017 0.027 0.080 0.049 0.056  0.002 0.782  0.409  0.060\n",
       "4 NA      0.070 0.086 0.112 0.168 0.310 0.614 0.964  0.064 0.846  0.484  0.118\n",
       "5 NA      0.006 0.021 0.047 0.103 0.246 0.549 0.899 -0.001 0.781  0.419  0.054\n",
       "6 NA      0.074 0.072 0.070 0.071 0.071 0.073 0.846  0.119 0.066  0.065  0.064\n",
       "  ...14 \n",
       "1 12.000\n",
       "2  0.079\n",
       "3  0.014\n",
       "4  0.077\n",
       "5  0.012\n",
       "6  0.087"
      ]
     },
     "metadata": {},
     "output_type": "display_data"
    }
   ],
   "source": [
    "# pull out raw results \n",
    "raw <-test %>%\n",
    "    select(2:14) %>%\n",
    "        slice(c(42:57)) %>%\n",
    "# get rid of scientific notation\n",
    "            mutate(across(everything(), ~ as.numeric(.))) %>% \n",
    "                mutate(across(everything(), ~ round(., 4))) \n",
    "head(raw)"
   ]
  },
  {
   "cell_type": "code",
   "execution_count": 330,
   "id": "903635cd-1dae-4dc9-a9eb-4e258e734d78",
   "metadata": {},
   "outputs": [
    {
     "data": {
      "text/html": [
       "<table class=\"dataframe\">\n",
       "<caption>A data.frame: 15 × 13</caption>\n",
       "<thead>\n",
       "\t<tr><th scope=col>letter</th><th scope=col>1</th><th scope=col>2</th><th scope=col>3</th><th scope=col>4</th><th scope=col>5</th><th scope=col>6</th><th scope=col>7</th><th scope=col>8</th><th scope=col>9</th><th scope=col>10</th><th scope=col>11</th><th scope=col>12</th></tr>\n",
       "\t<tr><th scope=col>&lt;dbl&gt;</th><th scope=col>&lt;dbl&gt;</th><th scope=col>&lt;dbl&gt;</th><th scope=col>&lt;dbl&gt;</th><th scope=col>&lt;dbl&gt;</th><th scope=col>&lt;dbl&gt;</th><th scope=col>&lt;dbl&gt;</th><th scope=col>&lt;dbl&gt;</th><th scope=col>&lt;dbl&gt;</th><th scope=col>&lt;dbl&gt;</th><th scope=col>&lt;dbl&gt;</th><th scope=col>&lt;dbl&gt;</th><th scope=col>&lt;dbl&gt;</th></tr>\n",
       "</thead>\n",
       "<tbody>\n",
       "\t<tr><td>NA</td><td>0.079</td><td>0.098</td><td>0.082</td><td>0.092</td><td>0.145</td><td>0.114</td><td>0.121</td><td> 0.066</td><td> 0.847</td><td>0.474</td><td> 0.125</td><td>0.079</td></tr>\n",
       "\t<tr><td>NA</td><td>0.014</td><td>0.033</td><td>0.017</td><td>0.027</td><td>0.080</td><td>0.049</td><td>0.056</td><td> 0.002</td><td> 0.782</td><td>0.409</td><td> 0.060</td><td>0.014</td></tr>\n",
       "\t<tr><td>NA</td><td>0.070</td><td>0.086</td><td>0.112</td><td>0.168</td><td>0.310</td><td>0.614</td><td>0.964</td><td> 0.064</td><td> 0.846</td><td>0.484</td><td> 0.118</td><td>0.077</td></tr>\n",
       "\t<tr><td>NA</td><td>0.006</td><td>0.021</td><td>0.047</td><td>0.103</td><td>0.246</td><td>0.549</td><td>0.899</td><td>-0.001</td><td> 0.781</td><td>0.419</td><td> 0.054</td><td>0.012</td></tr>\n",
       "\t<tr><td>NA</td><td>0.074</td><td>0.072</td><td>0.070</td><td>0.071</td><td>0.071</td><td>0.073</td><td>0.846</td><td> 0.119</td><td> 0.066</td><td>0.065</td><td> 0.064</td><td>0.087</td></tr>\n",
       "\t<tr><td>NA</td><td>0.010</td><td>0.007</td><td>0.005</td><td>0.006</td><td>0.006</td><td>0.008</td><td>0.781</td><td> 0.054</td><td> 0.002</td><td>0.000</td><td>-0.001</td><td>0.022</td></tr>\n",
       "\t<tr><td>NA</td><td>0.080</td><td>0.071</td><td>0.072</td><td>0.068</td><td>0.066</td><td>0.067</td><td>0.478</td><td> 0.064</td><td> 0.064</td><td>0.064</td><td> 0.064</td><td>0.098</td></tr>\n",
       "\t<tr><td>NA</td><td>0.015</td><td>0.007</td><td>0.008</td><td>0.003</td><td>0.001</td><td>0.002</td><td>0.413</td><td>-0.001</td><td>-0.001</td><td>0.000</td><td>-0.001</td><td>0.033</td></tr>\n",
       "\t<tr><td>NA</td><td>0.072</td><td>0.073</td><td>0.107</td><td>0.092</td><td>0.098</td><td>0.106</td><td>0.199</td><td> 0.064</td><td> 0.848</td><td>0.485</td><td> 0.121</td><td>0.109</td></tr>\n",
       "\t<tr><td>NA</td><td>0.007</td><td>0.008</td><td>0.043</td><td>0.028</td><td>0.033</td><td>0.041</td><td>0.134</td><td>-0.001</td><td> 0.783</td><td>0.420</td><td> 0.057</td><td>0.044</td></tr>\n",
       "\t<tr><td>NA</td><td>0.082</td><td>0.093</td><td>0.122</td><td>0.166</td><td>0.272</td><td>0.615</td><td>0.980</td><td> 0.067</td><td> 0.842</td><td>0.486</td><td> 0.119</td><td>0.171</td></tr>\n",
       "\t<tr><td>NA</td><td>0.018</td><td>0.029</td><td>0.058</td><td>0.101</td><td>0.207</td><td>0.550</td><td>0.915</td><td> 0.002</td><td> 0.777</td><td>0.421</td><td> 0.055</td><td>0.106</td></tr>\n",
       "\t<tr><td>NA</td><td>   NA</td><td>   NA</td><td>   NA</td><td>   NA</td><td>   NA</td><td>   NA</td><td>   NA</td><td>    NA</td><td>    NA</td><td>   NA</td><td>    NA</td><td>   NA</td></tr>\n",
       "\t<tr><td>NA</td><td>   NA</td><td>   NA</td><td>   NA</td><td>   NA</td><td>   NA</td><td>   NA</td><td>   NA</td><td>    NA</td><td>    NA</td><td>   NA</td><td>    NA</td><td>   NA</td></tr>\n",
       "\t<tr><td>NA</td><td>   NA</td><td>   NA</td><td>   NA</td><td>   NA</td><td>   NA</td><td>   NA</td><td>   NA</td><td>    NA</td><td>    NA</td><td>   NA</td><td>    NA</td><td>   NA</td></tr>\n",
       "</tbody>\n",
       "</table>\n"
      ],
      "text/latex": [
       "A data.frame: 15 × 13\n",
       "\\begin{tabular}{lllllllllllll}\n",
       " letter & 1 & 2 & 3 & 4 & 5 & 6 & 7 & 8 & 9 & 10 & 11 & 12\\\\\n",
       " <dbl> & <dbl> & <dbl> & <dbl> & <dbl> & <dbl> & <dbl> & <dbl> & <dbl> & <dbl> & <dbl> & <dbl> & <dbl>\\\\\n",
       "\\hline\n",
       "\t NA & 0.079 & 0.098 & 0.082 & 0.092 & 0.145 & 0.114 & 0.121 &  0.066 &  0.847 & 0.474 &  0.125 & 0.079\\\\\n",
       "\t NA & 0.014 & 0.033 & 0.017 & 0.027 & 0.080 & 0.049 & 0.056 &  0.002 &  0.782 & 0.409 &  0.060 & 0.014\\\\\n",
       "\t NA & 0.070 & 0.086 & 0.112 & 0.168 & 0.310 & 0.614 & 0.964 &  0.064 &  0.846 & 0.484 &  0.118 & 0.077\\\\\n",
       "\t NA & 0.006 & 0.021 & 0.047 & 0.103 & 0.246 & 0.549 & 0.899 & -0.001 &  0.781 & 0.419 &  0.054 & 0.012\\\\\n",
       "\t NA & 0.074 & 0.072 & 0.070 & 0.071 & 0.071 & 0.073 & 0.846 &  0.119 &  0.066 & 0.065 &  0.064 & 0.087\\\\\n",
       "\t NA & 0.010 & 0.007 & 0.005 & 0.006 & 0.006 & 0.008 & 0.781 &  0.054 &  0.002 & 0.000 & -0.001 & 0.022\\\\\n",
       "\t NA & 0.080 & 0.071 & 0.072 & 0.068 & 0.066 & 0.067 & 0.478 &  0.064 &  0.064 & 0.064 &  0.064 & 0.098\\\\\n",
       "\t NA & 0.015 & 0.007 & 0.008 & 0.003 & 0.001 & 0.002 & 0.413 & -0.001 & -0.001 & 0.000 & -0.001 & 0.033\\\\\n",
       "\t NA & 0.072 & 0.073 & 0.107 & 0.092 & 0.098 & 0.106 & 0.199 &  0.064 &  0.848 & 0.485 &  0.121 & 0.109\\\\\n",
       "\t NA & 0.007 & 0.008 & 0.043 & 0.028 & 0.033 & 0.041 & 0.134 & -0.001 &  0.783 & 0.420 &  0.057 & 0.044\\\\\n",
       "\t NA & 0.082 & 0.093 & 0.122 & 0.166 & 0.272 & 0.615 & 0.980 &  0.067 &  0.842 & 0.486 &  0.119 & 0.171\\\\\n",
       "\t NA & 0.018 & 0.029 & 0.058 & 0.101 & 0.207 & 0.550 & 0.915 &  0.002 &  0.777 & 0.421 &  0.055 & 0.106\\\\\n",
       "\t NA &    NA &    NA &    NA &    NA &    NA &    NA &    NA &     NA &     NA &    NA &     NA &    NA\\\\\n",
       "\t NA &    NA &    NA &    NA &    NA &    NA &    NA &    NA &     NA &     NA &    NA &     NA &    NA\\\\\n",
       "\t NA &    NA &    NA &    NA &    NA &    NA &    NA &    NA &     NA &     NA &    NA &     NA &    NA\\\\\n",
       "\\end{tabular}\n"
      ],
      "text/markdown": [
       "\n",
       "A data.frame: 15 × 13\n",
       "\n",
       "| letter &lt;dbl&gt; | 1 &lt;dbl&gt; | 2 &lt;dbl&gt; | 3 &lt;dbl&gt; | 4 &lt;dbl&gt; | 5 &lt;dbl&gt; | 6 &lt;dbl&gt; | 7 &lt;dbl&gt; | 8 &lt;dbl&gt; | 9 &lt;dbl&gt; | 10 &lt;dbl&gt; | 11 &lt;dbl&gt; | 12 &lt;dbl&gt; |\n",
       "|---|---|---|---|---|---|---|---|---|---|---|---|---|\n",
       "| NA | 0.079 | 0.098 | 0.082 | 0.092 | 0.145 | 0.114 | 0.121 |  0.066 |  0.847 | 0.474 |  0.125 | 0.079 |\n",
       "| NA | 0.014 | 0.033 | 0.017 | 0.027 | 0.080 | 0.049 | 0.056 |  0.002 |  0.782 | 0.409 |  0.060 | 0.014 |\n",
       "| NA | 0.070 | 0.086 | 0.112 | 0.168 | 0.310 | 0.614 | 0.964 |  0.064 |  0.846 | 0.484 |  0.118 | 0.077 |\n",
       "| NA | 0.006 | 0.021 | 0.047 | 0.103 | 0.246 | 0.549 | 0.899 | -0.001 |  0.781 | 0.419 |  0.054 | 0.012 |\n",
       "| NA | 0.074 | 0.072 | 0.070 | 0.071 | 0.071 | 0.073 | 0.846 |  0.119 |  0.066 | 0.065 |  0.064 | 0.087 |\n",
       "| NA | 0.010 | 0.007 | 0.005 | 0.006 | 0.006 | 0.008 | 0.781 |  0.054 |  0.002 | 0.000 | -0.001 | 0.022 |\n",
       "| NA | 0.080 | 0.071 | 0.072 | 0.068 | 0.066 | 0.067 | 0.478 |  0.064 |  0.064 | 0.064 |  0.064 | 0.098 |\n",
       "| NA | 0.015 | 0.007 | 0.008 | 0.003 | 0.001 | 0.002 | 0.413 | -0.001 | -0.001 | 0.000 | -0.001 | 0.033 |\n",
       "| NA | 0.072 | 0.073 | 0.107 | 0.092 | 0.098 | 0.106 | 0.199 |  0.064 |  0.848 | 0.485 |  0.121 | 0.109 |\n",
       "| NA | 0.007 | 0.008 | 0.043 | 0.028 | 0.033 | 0.041 | 0.134 | -0.001 |  0.783 | 0.420 |  0.057 | 0.044 |\n",
       "| NA | 0.082 | 0.093 | 0.122 | 0.166 | 0.272 | 0.615 | 0.980 |  0.067 |  0.842 | 0.486 |  0.119 | 0.171 |\n",
       "| NA | 0.018 | 0.029 | 0.058 | 0.101 | 0.207 | 0.550 | 0.915 |  0.002 |  0.777 | 0.421 |  0.055 | 0.106 |\n",
       "| NA |    NA |    NA |    NA |    NA |    NA |    NA |    NA |     NA |     NA |    NA |     NA |    NA |\n",
       "| NA |    NA |    NA |    NA |    NA |    NA |    NA |    NA |     NA |     NA |    NA |     NA |    NA |\n",
       "| NA |    NA |    NA |    NA |    NA |    NA |    NA |    NA |     NA |     NA |    NA |     NA |    NA |\n",
       "\n"
      ],
      "text/plain": [
       "   letter 1     2     3     4     5     6     7     8      9      10    11    \n",
       "1  NA     0.079 0.098 0.082 0.092 0.145 0.114 0.121  0.066  0.847 0.474  0.125\n",
       "2  NA     0.014 0.033 0.017 0.027 0.080 0.049 0.056  0.002  0.782 0.409  0.060\n",
       "3  NA     0.070 0.086 0.112 0.168 0.310 0.614 0.964  0.064  0.846 0.484  0.118\n",
       "4  NA     0.006 0.021 0.047 0.103 0.246 0.549 0.899 -0.001  0.781 0.419  0.054\n",
       "5  NA     0.074 0.072 0.070 0.071 0.071 0.073 0.846  0.119  0.066 0.065  0.064\n",
       "6  NA     0.010 0.007 0.005 0.006 0.006 0.008 0.781  0.054  0.002 0.000 -0.001\n",
       "7  NA     0.080 0.071 0.072 0.068 0.066 0.067 0.478  0.064  0.064 0.064  0.064\n",
       "8  NA     0.015 0.007 0.008 0.003 0.001 0.002 0.413 -0.001 -0.001 0.000 -0.001\n",
       "9  NA     0.072 0.073 0.107 0.092 0.098 0.106 0.199  0.064  0.848 0.485  0.121\n",
       "10 NA     0.007 0.008 0.043 0.028 0.033 0.041 0.134 -0.001  0.783 0.420  0.057\n",
       "11 NA     0.082 0.093 0.122 0.166 0.272 0.615 0.980  0.067  0.842 0.486  0.119\n",
       "12 NA     0.018 0.029 0.058 0.101 0.207 0.550 0.915  0.002  0.777 0.421  0.055\n",
       "13 NA        NA    NA    NA    NA    NA    NA    NA     NA     NA    NA     NA\n",
       "14 NA        NA    NA    NA    NA    NA    NA    NA     NA     NA    NA     NA\n",
       "15 NA        NA    NA    NA    NA    NA    NA    NA     NA     NA    NA     NA\n",
       "   12   \n",
       "1  0.079\n",
       "2  0.014\n",
       "3  0.077\n",
       "4  0.012\n",
       "5  0.087\n",
       "6  0.022\n",
       "7  0.098\n",
       "8  0.033\n",
       "9  0.109\n",
       "10 0.044\n",
       "11 0.171\n",
       "12 0.106\n",
       "13    NA\n",
       "14    NA\n",
       "15    NA"
      ]
     },
     "metadata": {},
     "output_type": "display_data"
    }
   ],
   "source": [
    "## data cleanup \n",
    "# fix colnames \n",
    "colnames(raw) <- raw[1, ]\n",
    "colnames(raw)[1] <- \"letter\"\n",
    "# remove first row \n",
    "raw <- raw[-1,]\n",
    "# convert to df\n",
    "raw <- as.data.frame(raw)\n",
    "raw"
   ]
  },
  {
   "cell_type": "code",
   "execution_count": 331,
   "id": "85805d32-d1f3-49ff-9696-f9a320463a36",
   "metadata": {},
   "outputs": [
    {
     "data": {
      "text/html": [
       "<table class=\"dataframe\">\n",
       "<caption>A data.frame: 15 × 12</caption>\n",
       "<thead>\n",
       "\t<tr><th></th><th scope=col>1</th><th scope=col>2</th><th scope=col>3</th><th scope=col>4</th><th scope=col>5</th><th scope=col>6</th><th scope=col>7</th><th scope=col>8</th><th scope=col>9</th><th scope=col>10</th><th scope=col>11</th><th scope=col>12</th></tr>\n",
       "\t<tr><th></th><th scope=col>&lt;dbl&gt;</th><th scope=col>&lt;dbl&gt;</th><th scope=col>&lt;dbl&gt;</th><th scope=col>&lt;dbl&gt;</th><th scope=col>&lt;dbl&gt;</th><th scope=col>&lt;dbl&gt;</th><th scope=col>&lt;dbl&gt;</th><th scope=col>&lt;dbl&gt;</th><th scope=col>&lt;dbl&gt;</th><th scope=col>&lt;dbl&gt;</th><th scope=col>&lt;dbl&gt;</th><th scope=col>&lt;dbl&gt;</th></tr>\n",
       "</thead>\n",
       "<tbody>\n",
       "\t<tr><th scope=row>a</th><td>0.079</td><td>0.098</td><td>0.082</td><td>0.092</td><td>0.145</td><td>0.114</td><td>0.121</td><td> 0.066</td><td> 0.847</td><td>0.474</td><td> 0.125</td><td>0.079</td></tr>\n",
       "\t<tr><th scope=row>a_blank</th><td>0.014</td><td>0.033</td><td>0.017</td><td>0.027</td><td>0.080</td><td>0.049</td><td>0.056</td><td> 0.002</td><td> 0.782</td><td>0.409</td><td> 0.060</td><td>0.014</td></tr>\n",
       "\t<tr><th scope=row>b</th><td>0.070</td><td>0.086</td><td>0.112</td><td>0.168</td><td>0.310</td><td>0.614</td><td>0.964</td><td> 0.064</td><td> 0.846</td><td>0.484</td><td> 0.118</td><td>0.077</td></tr>\n",
       "\t<tr><th scope=row>b_blank</th><td>0.006</td><td>0.021</td><td>0.047</td><td>0.103</td><td>0.246</td><td>0.549</td><td>0.899</td><td>-0.001</td><td> 0.781</td><td>0.419</td><td> 0.054</td><td>0.012</td></tr>\n",
       "\t<tr><th scope=row>c</th><td>0.074</td><td>0.072</td><td>0.070</td><td>0.071</td><td>0.071</td><td>0.073</td><td>0.846</td><td> 0.119</td><td> 0.066</td><td>0.065</td><td> 0.064</td><td>0.087</td></tr>\n",
       "\t<tr><th scope=row>c_blank</th><td>0.010</td><td>0.007</td><td>0.005</td><td>0.006</td><td>0.006</td><td>0.008</td><td>0.781</td><td> 0.054</td><td> 0.002</td><td>0.000</td><td>-0.001</td><td>0.022</td></tr>\n",
       "\t<tr><th scope=row>d</th><td>0.080</td><td>0.071</td><td>0.072</td><td>0.068</td><td>0.066</td><td>0.067</td><td>0.478</td><td> 0.064</td><td> 0.064</td><td>0.064</td><td> 0.064</td><td>0.098</td></tr>\n",
       "\t<tr><th scope=row>d_blank</th><td>0.015</td><td>0.007</td><td>0.008</td><td>0.003</td><td>0.001</td><td>0.002</td><td>0.413</td><td>-0.001</td><td>-0.001</td><td>0.000</td><td>-0.001</td><td>0.033</td></tr>\n",
       "\t<tr><th scope=row>e</th><td>0.072</td><td>0.073</td><td>0.107</td><td>0.092</td><td>0.098</td><td>0.106</td><td>0.199</td><td> 0.064</td><td> 0.848</td><td>0.485</td><td> 0.121</td><td>0.109</td></tr>\n",
       "\t<tr><th scope=row>e_blank</th><td>0.007</td><td>0.008</td><td>0.043</td><td>0.028</td><td>0.033</td><td>0.041</td><td>0.134</td><td>-0.001</td><td> 0.783</td><td>0.420</td><td> 0.057</td><td>0.044</td></tr>\n",
       "\t<tr><th scope=row>f</th><td>0.082</td><td>0.093</td><td>0.122</td><td>0.166</td><td>0.272</td><td>0.615</td><td>0.980</td><td> 0.067</td><td> 0.842</td><td>0.486</td><td> 0.119</td><td>0.171</td></tr>\n",
       "\t<tr><th scope=row>f_blank</th><td>0.018</td><td>0.029</td><td>0.058</td><td>0.101</td><td>0.207</td><td>0.550</td><td>0.915</td><td> 0.002</td><td> 0.777</td><td>0.421</td><td> 0.055</td><td>0.106</td></tr>\n",
       "\t<tr><th scope=row>g</th><td>   NA</td><td>   NA</td><td>   NA</td><td>   NA</td><td>   NA</td><td>   NA</td><td>   NA</td><td>    NA</td><td>    NA</td><td>   NA</td><td>    NA</td><td>   NA</td></tr>\n",
       "\t<tr><th scope=row>g_blank</th><td>   NA</td><td>   NA</td><td>   NA</td><td>   NA</td><td>   NA</td><td>   NA</td><td>   NA</td><td>    NA</td><td>    NA</td><td>   NA</td><td>    NA</td><td>   NA</td></tr>\n",
       "\t<tr><th scope=row>h</th><td>   NA</td><td>   NA</td><td>   NA</td><td>   NA</td><td>   NA</td><td>   NA</td><td>   NA</td><td>    NA</td><td>    NA</td><td>   NA</td><td>    NA</td><td>   NA</td></tr>\n",
       "</tbody>\n",
       "</table>\n"
      ],
      "text/latex": [
       "A data.frame: 15 × 12\n",
       "\\begin{tabular}{r|llllllllllll}\n",
       "  & 1 & 2 & 3 & 4 & 5 & 6 & 7 & 8 & 9 & 10 & 11 & 12\\\\\n",
       "  & <dbl> & <dbl> & <dbl> & <dbl> & <dbl> & <dbl> & <dbl> & <dbl> & <dbl> & <dbl> & <dbl> & <dbl>\\\\\n",
       "\\hline\n",
       "\ta & 0.079 & 0.098 & 0.082 & 0.092 & 0.145 & 0.114 & 0.121 &  0.066 &  0.847 & 0.474 &  0.125 & 0.079\\\\\n",
       "\ta\\_blank & 0.014 & 0.033 & 0.017 & 0.027 & 0.080 & 0.049 & 0.056 &  0.002 &  0.782 & 0.409 &  0.060 & 0.014\\\\\n",
       "\tb & 0.070 & 0.086 & 0.112 & 0.168 & 0.310 & 0.614 & 0.964 &  0.064 &  0.846 & 0.484 &  0.118 & 0.077\\\\\n",
       "\tb\\_blank & 0.006 & 0.021 & 0.047 & 0.103 & 0.246 & 0.549 & 0.899 & -0.001 &  0.781 & 0.419 &  0.054 & 0.012\\\\\n",
       "\tc & 0.074 & 0.072 & 0.070 & 0.071 & 0.071 & 0.073 & 0.846 &  0.119 &  0.066 & 0.065 &  0.064 & 0.087\\\\\n",
       "\tc\\_blank & 0.010 & 0.007 & 0.005 & 0.006 & 0.006 & 0.008 & 0.781 &  0.054 &  0.002 & 0.000 & -0.001 & 0.022\\\\\n",
       "\td & 0.080 & 0.071 & 0.072 & 0.068 & 0.066 & 0.067 & 0.478 &  0.064 &  0.064 & 0.064 &  0.064 & 0.098\\\\\n",
       "\td\\_blank & 0.015 & 0.007 & 0.008 & 0.003 & 0.001 & 0.002 & 0.413 & -0.001 & -0.001 & 0.000 & -0.001 & 0.033\\\\\n",
       "\te & 0.072 & 0.073 & 0.107 & 0.092 & 0.098 & 0.106 & 0.199 &  0.064 &  0.848 & 0.485 &  0.121 & 0.109\\\\\n",
       "\te\\_blank & 0.007 & 0.008 & 0.043 & 0.028 & 0.033 & 0.041 & 0.134 & -0.001 &  0.783 & 0.420 &  0.057 & 0.044\\\\\n",
       "\tf & 0.082 & 0.093 & 0.122 & 0.166 & 0.272 & 0.615 & 0.980 &  0.067 &  0.842 & 0.486 &  0.119 & 0.171\\\\\n",
       "\tf\\_blank & 0.018 & 0.029 & 0.058 & 0.101 & 0.207 & 0.550 & 0.915 &  0.002 &  0.777 & 0.421 &  0.055 & 0.106\\\\\n",
       "\tg &    NA &    NA &    NA &    NA &    NA &    NA &    NA &     NA &     NA &    NA &     NA &    NA\\\\\n",
       "\tg\\_blank &    NA &    NA &    NA &    NA &    NA &    NA &    NA &     NA &     NA &    NA &     NA &    NA\\\\\n",
       "\th &    NA &    NA &    NA &    NA &    NA &    NA &    NA &     NA &     NA &    NA &     NA &    NA\\\\\n",
       "\\end{tabular}\n"
      ],
      "text/markdown": [
       "\n",
       "A data.frame: 15 × 12\n",
       "\n",
       "| <!--/--> | 1 &lt;dbl&gt; | 2 &lt;dbl&gt; | 3 &lt;dbl&gt; | 4 &lt;dbl&gt; | 5 &lt;dbl&gt; | 6 &lt;dbl&gt; | 7 &lt;dbl&gt; | 8 &lt;dbl&gt; | 9 &lt;dbl&gt; | 10 &lt;dbl&gt; | 11 &lt;dbl&gt; | 12 &lt;dbl&gt; |\n",
       "|---|---|---|---|---|---|---|---|---|---|---|---|---|\n",
       "| a | 0.079 | 0.098 | 0.082 | 0.092 | 0.145 | 0.114 | 0.121 |  0.066 |  0.847 | 0.474 |  0.125 | 0.079 |\n",
       "| a_blank | 0.014 | 0.033 | 0.017 | 0.027 | 0.080 | 0.049 | 0.056 |  0.002 |  0.782 | 0.409 |  0.060 | 0.014 |\n",
       "| b | 0.070 | 0.086 | 0.112 | 0.168 | 0.310 | 0.614 | 0.964 |  0.064 |  0.846 | 0.484 |  0.118 | 0.077 |\n",
       "| b_blank | 0.006 | 0.021 | 0.047 | 0.103 | 0.246 | 0.549 | 0.899 | -0.001 |  0.781 | 0.419 |  0.054 | 0.012 |\n",
       "| c | 0.074 | 0.072 | 0.070 | 0.071 | 0.071 | 0.073 | 0.846 |  0.119 |  0.066 | 0.065 |  0.064 | 0.087 |\n",
       "| c_blank | 0.010 | 0.007 | 0.005 | 0.006 | 0.006 | 0.008 | 0.781 |  0.054 |  0.002 | 0.000 | -0.001 | 0.022 |\n",
       "| d | 0.080 | 0.071 | 0.072 | 0.068 | 0.066 | 0.067 | 0.478 |  0.064 |  0.064 | 0.064 |  0.064 | 0.098 |\n",
       "| d_blank | 0.015 | 0.007 | 0.008 | 0.003 | 0.001 | 0.002 | 0.413 | -0.001 | -0.001 | 0.000 | -0.001 | 0.033 |\n",
       "| e | 0.072 | 0.073 | 0.107 | 0.092 | 0.098 | 0.106 | 0.199 |  0.064 |  0.848 | 0.485 |  0.121 | 0.109 |\n",
       "| e_blank | 0.007 | 0.008 | 0.043 | 0.028 | 0.033 | 0.041 | 0.134 | -0.001 |  0.783 | 0.420 |  0.057 | 0.044 |\n",
       "| f | 0.082 | 0.093 | 0.122 | 0.166 | 0.272 | 0.615 | 0.980 |  0.067 |  0.842 | 0.486 |  0.119 | 0.171 |\n",
       "| f_blank | 0.018 | 0.029 | 0.058 | 0.101 | 0.207 | 0.550 | 0.915 |  0.002 |  0.777 | 0.421 |  0.055 | 0.106 |\n",
       "| g |    NA |    NA |    NA |    NA |    NA |    NA |    NA |     NA |     NA |    NA |     NA |    NA |\n",
       "| g_blank |    NA |    NA |    NA |    NA |    NA |    NA |    NA |     NA |     NA |    NA |     NA |    NA |\n",
       "| h |    NA |    NA |    NA |    NA |    NA |    NA |    NA |     NA |     NA |    NA |     NA |    NA |\n",
       "\n"
      ],
      "text/plain": [
       "        1     2     3     4     5     6     7     8      9      10    11    \n",
       "a       0.079 0.098 0.082 0.092 0.145 0.114 0.121  0.066  0.847 0.474  0.125\n",
       "a_blank 0.014 0.033 0.017 0.027 0.080 0.049 0.056  0.002  0.782 0.409  0.060\n",
       "b       0.070 0.086 0.112 0.168 0.310 0.614 0.964  0.064  0.846 0.484  0.118\n",
       "b_blank 0.006 0.021 0.047 0.103 0.246 0.549 0.899 -0.001  0.781 0.419  0.054\n",
       "c       0.074 0.072 0.070 0.071 0.071 0.073 0.846  0.119  0.066 0.065  0.064\n",
       "c_blank 0.010 0.007 0.005 0.006 0.006 0.008 0.781  0.054  0.002 0.000 -0.001\n",
       "d       0.080 0.071 0.072 0.068 0.066 0.067 0.478  0.064  0.064 0.064  0.064\n",
       "d_blank 0.015 0.007 0.008 0.003 0.001 0.002 0.413 -0.001 -0.001 0.000 -0.001\n",
       "e       0.072 0.073 0.107 0.092 0.098 0.106 0.199  0.064  0.848 0.485  0.121\n",
       "e_blank 0.007 0.008 0.043 0.028 0.033 0.041 0.134 -0.001  0.783 0.420  0.057\n",
       "f       0.082 0.093 0.122 0.166 0.272 0.615 0.980  0.067  0.842 0.486  0.119\n",
       "f_blank 0.018 0.029 0.058 0.101 0.207 0.550 0.915  0.002  0.777 0.421  0.055\n",
       "g          NA    NA    NA    NA    NA    NA    NA     NA     NA    NA     NA\n",
       "g_blank    NA    NA    NA    NA    NA    NA    NA     NA     NA    NA     NA\n",
       "h          NA    NA    NA    NA    NA    NA    NA     NA     NA    NA     NA\n",
       "        12   \n",
       "a       0.079\n",
       "a_blank 0.014\n",
       "b       0.077\n",
       "b_blank 0.012\n",
       "c       0.087\n",
       "c_blank 0.022\n",
       "d       0.098\n",
       "d_blank 0.033\n",
       "e       0.109\n",
       "e_blank 0.044\n",
       "f       0.171\n",
       "f_blank 0.106\n",
       "g          NA\n",
       "g_blank    NA\n",
       "h          NA"
      ]
     },
     "metadata": {},
     "output_type": "display_data"
    }
   ],
   "source": [
    "# rename rows with letter and letter_blank\n",
    "n_rows <- nrow(raw)\n",
    "letters_vec <- letters[1:((n_rows + 1) %/% 2)]\n",
    "rownames(raw) <- paste0(rep(letters_vec, each = 2)[1:n_rows], \n",
    "                              c(rep(c(\"\", \"_blank\"), length(letters_vec)), FALSE)[1:n_rows])\n",
    "# remove first columns\n",
    "raw <- raw[, -1]\n",
    "raw"
   ]
  },
  {
   "cell_type": "markdown",
   "id": "17171a56-f856-4c99-a88e-0cce50f0e6ec",
   "metadata": {},
   "source": [
    "## Standard Test - processing \n",
    "- for now, not worring about the 'blank' reading by the plate reader\n",
    "- didn't use the last 2 rows\n",
    "- 3x **low (0 - 0.05 ppm)**\n",
    "- and 2x **normal standards (0 - 1 ppm)**\n",
    "- 2 duplicate test samples \n",
    "- 3x 3 QC checks using ERA standard "
   ]
  },
  {
   "cell_type": "code",
   "execution_count": 332,
   "id": "f3d57903-5251-4705-9949-4b5b7db870ff",
   "metadata": {},
   "outputs": [
    {
     "data": {
      "text/html": [
       "<table class=\"dataframe\">\n",
       "<caption>A data.frame: 6 × 13</caption>\n",
       "<thead>\n",
       "\t<tr><th></th><th scope=col>3.16.10</th><th scope=col>...3</th><th scope=col>...4</th><th scope=col>...5</th><th scope=col>...6</th><th scope=col>...7</th><th scope=col>...8</th><th scope=col>...9</th><th scope=col>...10</th><th scope=col>...11</th><th scope=col>...12</th><th scope=col>...13</th><th scope=col>...14</th></tr>\n",
       "\t<tr><th></th><th scope=col>&lt;chr&gt;</th><th scope=col>&lt;chr&gt;</th><th scope=col>&lt;chr&gt;</th><th scope=col>&lt;chr&gt;</th><th scope=col>&lt;chr&gt;</th><th scope=col>&lt;chr&gt;</th><th scope=col>&lt;chr&gt;</th><th scope=col>&lt;chr&gt;</th><th scope=col>&lt;chr&gt;</th><th scope=col>&lt;chr&gt;</th><th scope=col>&lt;chr&gt;</th><th scope=col>&lt;chr&gt;</th><th scope=col>&lt;chr&gt;</th></tr>\n",
       "</thead>\n",
       "<tbody>\n",
       "\t<tr><th scope=row>1</th><td>A </td><td>STD1 </td><td>STD2                 </td><td>STD3 </td><td>STD4 </td><td>STD5 </td><td>STD6 </td><td>STD7 </td><td>BLK </td><td>QC:1</td><td>QC:2</td><td>QC:3</td><td>STD2                 </td></tr>\n",
       "\t<tr><th scope=row>2</th><td>NA</td><td>0    </td><td>5.0000000000000001E-3</td><td>0.01 </td><td>0.02 </td><td>0.03 </td><td>0.04 </td><td>0.05 </td><td>NA  </td><td>1   </td><td>0.5 </td><td>0.05</td><td>5.0000000000000001E-3</td></tr>\n",
       "\t<tr><th scope=row>3</th><td>B </td><td>STDB1</td><td>STDB2                </td><td>STDB3</td><td>STDB4</td><td>STDB5</td><td>STDB6</td><td>STDB7</td><td>BLK </td><td>QC:1</td><td>QC:2</td><td>QC:3</td><td>STD3                 </td></tr>\n",
       "\t<tr><th scope=row>4</th><td>NA</td><td>0    </td><td>0.02                 </td><td>0.05 </td><td>0.1  </td><td>0.2  </td><td>0.5  </td><td>1    </td><td>NA  </td><td>1   </td><td>0.5 </td><td>0.05</td><td>0.01                 </td></tr>\n",
       "\t<tr><th scope=row>5</th><td>C </td><td>SPL1 </td><td>SPL1                 </td><td>SPL1 </td><td>SPL2 </td><td>SPL2 </td><td>SPL2 </td><td>QC:1 </td><td>QC:3</td><td>BLK </td><td>BLK </td><td>BLK </td><td>STD4                 </td></tr>\n",
       "\t<tr><th scope=row>6</th><td>NA</td><td>NA   </td><td>NA                   </td><td>NA   </td><td>NA   </td><td>NA   </td><td>NA   </td><td>1    </td><td>0.05</td><td>NA  </td><td>NA  </td><td>NA  </td><td>0.02                 </td></tr>\n",
       "</tbody>\n",
       "</table>\n"
      ],
      "text/latex": [
       "A data.frame: 6 × 13\n",
       "\\begin{tabular}{r|lllllllllllll}\n",
       "  & 3.16.10 & ...3 & ...4 & ...5 & ...6 & ...7 & ...8 & ...9 & ...10 & ...11 & ...12 & ...13 & ...14\\\\\n",
       "  & <chr> & <chr> & <chr> & <chr> & <chr> & <chr> & <chr> & <chr> & <chr> & <chr> & <chr> & <chr> & <chr>\\\\\n",
       "\\hline\n",
       "\t1 & A  & STD1  & STD2                  & STD3  & STD4  & STD5  & STD6  & STD7  & BLK  & QC:1 & QC:2 & QC:3 & STD2                 \\\\\n",
       "\t2 & NA & 0     & 5.0000000000000001E-3 & 0.01  & 0.02  & 0.03  & 0.04  & 0.05  & NA   & 1    & 0.5  & 0.05 & 5.0000000000000001E-3\\\\\n",
       "\t3 & B  & STDB1 & STDB2                 & STDB3 & STDB4 & STDB5 & STDB6 & STDB7 & BLK  & QC:1 & QC:2 & QC:3 & STD3                 \\\\\n",
       "\t4 & NA & 0     & 0.02                  & 0.05  & 0.1   & 0.2   & 0.5   & 1     & NA   & 1    & 0.5  & 0.05 & 0.01                 \\\\\n",
       "\t5 & C  & SPL1  & SPL1                  & SPL1  & SPL2  & SPL2  & SPL2  & QC:1  & QC:3 & BLK  & BLK  & BLK  & STD4                 \\\\\n",
       "\t6 & NA & NA    & NA                    & NA    & NA    & NA    & NA    & 1     & 0.05 & NA   & NA   & NA   & 0.02                 \\\\\n",
       "\\end{tabular}\n"
      ],
      "text/markdown": [
       "\n",
       "A data.frame: 6 × 13\n",
       "\n",
       "| <!--/--> | 3.16.10 &lt;chr&gt; | ...3 &lt;chr&gt; | ...4 &lt;chr&gt; | ...5 &lt;chr&gt; | ...6 &lt;chr&gt; | ...7 &lt;chr&gt; | ...8 &lt;chr&gt; | ...9 &lt;chr&gt; | ...10 &lt;chr&gt; | ...11 &lt;chr&gt; | ...12 &lt;chr&gt; | ...13 &lt;chr&gt; | ...14 &lt;chr&gt; |\n",
       "|---|---|---|---|---|---|---|---|---|---|---|---|---|---|\n",
       "| 1 | A  | STD1  | STD2                  | STD3  | STD4  | STD5  | STD6  | STD7  | BLK  | QC:1 | QC:2 | QC:3 | STD2                  |\n",
       "| 2 | NA | 0     | 5.0000000000000001E-3 | 0.01  | 0.02  | 0.03  | 0.04  | 0.05  | NA   | 1    | 0.5  | 0.05 | 5.0000000000000001E-3 |\n",
       "| 3 | B  | STDB1 | STDB2                 | STDB3 | STDB4 | STDB5 | STDB6 | STDB7 | BLK  | QC:1 | QC:2 | QC:3 | STD3                  |\n",
       "| 4 | NA | 0     | 0.02                  | 0.05  | 0.1   | 0.2   | 0.5   | 1     | NA   | 1    | 0.5  | 0.05 | 0.01                  |\n",
       "| 5 | C  | SPL1  | SPL1                  | SPL1  | SPL2  | SPL2  | SPL2  | QC:1  | QC:3 | BLK  | BLK  | BLK  | STD4                  |\n",
       "| 6 | NA | NA    | NA                    | NA    | NA    | NA    | NA    | 1     | 0.05 | NA   | NA   | NA   | 0.02                  |\n",
       "\n"
      ],
      "text/plain": [
       "  3.16.10 ...3  ...4                  ...5  ...6  ...7  ...8  ...9  ...10 ...11\n",
       "1 A       STD1  STD2                  STD3  STD4  STD5  STD6  STD7  BLK   QC:1 \n",
       "2 NA      0     5.0000000000000001E-3 0.01  0.02  0.03  0.04  0.05  NA    1    \n",
       "3 B       STDB1 STDB2                 STDB3 STDB4 STDB5 STDB6 STDB7 BLK   QC:1 \n",
       "4 NA      0     0.02                  0.05  0.1   0.2   0.5   1     NA    1    \n",
       "5 C       SPL1  SPL1                  SPL1  SPL2  SPL2  SPL2  QC:1  QC:3  BLK  \n",
       "6 NA      NA    NA                    NA    NA    NA    NA    1     0.05  NA   \n",
       "  ...12 ...13 ...14                \n",
       "1 QC:2  QC:3  STD2                 \n",
       "2 0.5   0.05  5.0000000000000001E-3\n",
       "3 QC:2  QC:3  STD3                 \n",
       "4 0.5   0.05  0.01                 \n",
       "5 BLK   BLK   STD4                 \n",
       "6 NA    NA    0.02                 "
      ]
     },
     "metadata": {},
     "output_type": "display_data"
    }
   ],
   "source": [
    "# calculate standard curve of low stnd using linear model \n",
    "# pull out plate setup \n",
    "plate_setup<-test %>%\n",
    " select(2:14) %>%\n",
    "        slice(c(22:36)) \n",
    "\n",
    "plate_setup <- as.data.frame(plate_setup)\n",
    "head(plate_setup)"
   ]
  },
  {
   "cell_type": "markdown",
   "id": "737babf7-2bc3-404f-9787-ff9147d43ce5",
   "metadata": {},
   "source": [
    "### Low "
   ]
  },
  {
   "cell_type": "markdown",
   "id": "cd5e9fde-2364-4f84-88d5-a80a93a5a46b",
   "metadata": {},
   "source": [
    "#### add data "
   ]
  },
  {
   "cell_type": "code",
   "execution_count": 333,
   "id": "66f564ac-a6a9-42d1-b13b-dc3323ee421e",
   "metadata": {},
   "outputs": [],
   "source": [
    "# rename rows\n",
    "n_rows <- nrow(plate_setup)\n",
    "letters_vec <- letters[1:((n_rows + 1) %/% 2)]\n",
    "rownames(plate_setup) <- paste0(rep(letters_vec, each = 2)[1:n_rows], \n",
    "                              c(rep(c(\"\", \"_blank\"), length(letters_vec)), FALSE)[1:n_rows])\n",
    "\n",
    "#remove first col \n",
    "plate_setup <- plate_setup[, -1]\n",
    "#rename cols \n",
    "colnames(plate_setup) <- as.character(1:12)"
   ]
  },
  {
   "cell_type": "code",
   "execution_count": 334,
   "id": "4d1b72ed-fa40-4d19-bcbb-053579a04c9d",
   "metadata": {},
   "outputs": [
    {
     "data": {
      "text/html": [
       "<table class=\"dataframe\">\n",
       "<caption>A data.frame: 15 × 12</caption>\n",
       "<thead>\n",
       "\t<tr><th></th><th scope=col>1</th><th scope=col>2</th><th scope=col>3</th><th scope=col>4</th><th scope=col>5</th><th scope=col>6</th><th scope=col>7</th><th scope=col>8</th><th scope=col>9</th><th scope=col>10</th><th scope=col>11</th><th scope=col>12</th></tr>\n",
       "\t<tr><th></th><th scope=col>&lt;chr&gt;</th><th scope=col>&lt;chr&gt;</th><th scope=col>&lt;chr&gt;</th><th scope=col>&lt;chr&gt;</th><th scope=col>&lt;chr&gt;</th><th scope=col>&lt;chr&gt;</th><th scope=col>&lt;chr&gt;</th><th scope=col>&lt;chr&gt;</th><th scope=col>&lt;chr&gt;</th><th scope=col>&lt;chr&gt;</th><th scope=col>&lt;chr&gt;</th><th scope=col>&lt;chr&gt;</th></tr>\n",
       "</thead>\n",
       "<tbody>\n",
       "\t<tr><th scope=row>a</th><td>STD1 </td><td>STD2                 </td><td>STD3 </td><td>STD4 </td><td>STD5 </td><td>STD6 </td><td>STD7 </td><td>BLK </td><td>QC:1</td><td>QC:2</td><td>QC:3</td><td>STD2                 </td></tr>\n",
       "\t<tr><th scope=row>a_blank</th><td>0    </td><td>5.0000000000000001E-3</td><td>0.01 </td><td>0.02 </td><td>0.03 </td><td>0.04 </td><td>0.05 </td><td>NA  </td><td>1   </td><td>0.5 </td><td>0.05</td><td>5.0000000000000001E-3</td></tr>\n",
       "\t<tr><th scope=row>b</th><td>STDB1</td><td>STDB2                </td><td>STDB3</td><td>STDB4</td><td>STDB5</td><td>STDB6</td><td>STDB7</td><td>BLK </td><td>QC:1</td><td>QC:2</td><td>QC:3</td><td>STD3                 </td></tr>\n",
       "\t<tr><th scope=row>b_blank</th><td>0    </td><td>0.02                 </td><td>0.05 </td><td>0.1  </td><td>0.2  </td><td>0.5  </td><td>1    </td><td>NA  </td><td>1   </td><td>0.5 </td><td>0.05</td><td>0.01                 </td></tr>\n",
       "\t<tr><th scope=row>c</th><td>SPL1 </td><td>SPL1                 </td><td>SPL1 </td><td>SPL2 </td><td>SPL2 </td><td>SPL2 </td><td>QC:1 </td><td>QC:3</td><td>BLK </td><td>BLK </td><td>BLK </td><td>STD4                 </td></tr>\n",
       "\t<tr><th scope=row>c_blank</th><td>NA   </td><td>NA                   </td><td>NA   </td><td>NA   </td><td>NA   </td><td>NA   </td><td>1    </td><td>0.05</td><td>NA  </td><td>NA  </td><td>NA  </td><td>0.02                 </td></tr>\n",
       "\t<tr><th scope=row>d</th><td>SPL1 </td><td>SPL1                 </td><td>SPL1 </td><td>SPL2 </td><td>SPL2 </td><td>SPL2 </td><td>QC:2 </td><td>BLK </td><td>BLK </td><td>BLK </td><td>BLK </td><td>STD5                 </td></tr>\n",
       "\t<tr><th scope=row>d_blank</th><td>NA   </td><td>NA                   </td><td>NA   </td><td>NA   </td><td>NA   </td><td>NA   </td><td>0.5  </td><td>NA  </td><td>NA  </td><td>NA  </td><td>NA  </td><td>0.03                 </td></tr>\n",
       "\t<tr><th scope=row>e</th><td>STD1 </td><td>STD2                 </td><td>STD3 </td><td>STD4 </td><td>STD5 </td><td>STD6 </td><td>STD7 </td><td>BLK </td><td>QC:1</td><td>QC:2</td><td>QC:3</td><td>STD6                 </td></tr>\n",
       "\t<tr><th scope=row>e_blank</th><td>0    </td><td>5.0000000000000001E-3</td><td>0.01 </td><td>0.02 </td><td>0.03 </td><td>0.04 </td><td>0.05 </td><td>NA  </td><td>1   </td><td>0.5 </td><td>0.05</td><td>0.04                 </td></tr>\n",
       "\t<tr><th scope=row>f</th><td>STDB1</td><td>STDB2                </td><td>STDB3</td><td>STDB4</td><td>STDB5</td><td>STDB6</td><td>STDB7</td><td>BLK </td><td>QC:1</td><td>QC:2</td><td>QC:3</td><td>STD7                 </td></tr>\n",
       "\t<tr><th scope=row>f_blank</th><td>0    </td><td>0.02                 </td><td>0.05 </td><td>0.1  </td><td>0.2  </td><td>0.5  </td><td>1    </td><td>NA  </td><td>1   </td><td>0.5 </td><td>0.05</td><td>0.05                 </td></tr>\n",
       "\t<tr><th scope=row>g</th><td>NA   </td><td>NA                   </td><td>NA   </td><td>NA   </td><td>NA   </td><td>NA   </td><td>NA   </td><td>NA  </td><td>NA  </td><td>NA  </td><td>NA  </td><td>NA                   </td></tr>\n",
       "\t<tr><th scope=row>g_blank</th><td>NA   </td><td>NA                   </td><td>NA   </td><td>NA   </td><td>NA   </td><td>NA   </td><td>NA   </td><td>NA  </td><td>NA  </td><td>NA  </td><td>NA  </td><td>NA                   </td></tr>\n",
       "\t<tr><th scope=row>h</th><td>NA   </td><td>NA                   </td><td>NA   </td><td>NA   </td><td>NA   </td><td>NA   </td><td>NA   </td><td>NA  </td><td>NA  </td><td>NA  </td><td>NA  </td><td>NA                   </td></tr>\n",
       "</tbody>\n",
       "</table>\n"
      ],
      "text/latex": [
       "A data.frame: 15 × 12\n",
       "\\begin{tabular}{r|llllllllllll}\n",
       "  & 1 & 2 & 3 & 4 & 5 & 6 & 7 & 8 & 9 & 10 & 11 & 12\\\\\n",
       "  & <chr> & <chr> & <chr> & <chr> & <chr> & <chr> & <chr> & <chr> & <chr> & <chr> & <chr> & <chr>\\\\\n",
       "\\hline\n",
       "\ta & STD1  & STD2                  & STD3  & STD4  & STD5  & STD6  & STD7  & BLK  & QC:1 & QC:2 & QC:3 & STD2                 \\\\\n",
       "\ta\\_blank & 0     & 5.0000000000000001E-3 & 0.01  & 0.02  & 0.03  & 0.04  & 0.05  & NA   & 1    & 0.5  & 0.05 & 5.0000000000000001E-3\\\\\n",
       "\tb & STDB1 & STDB2                 & STDB3 & STDB4 & STDB5 & STDB6 & STDB7 & BLK  & QC:1 & QC:2 & QC:3 & STD3                 \\\\\n",
       "\tb\\_blank & 0     & 0.02                  & 0.05  & 0.1   & 0.2   & 0.5   & 1     & NA   & 1    & 0.5  & 0.05 & 0.01                 \\\\\n",
       "\tc & SPL1  & SPL1                  & SPL1  & SPL2  & SPL2  & SPL2  & QC:1  & QC:3 & BLK  & BLK  & BLK  & STD4                 \\\\\n",
       "\tc\\_blank & NA    & NA                    & NA    & NA    & NA    & NA    & 1     & 0.05 & NA   & NA   & NA   & 0.02                 \\\\\n",
       "\td & SPL1  & SPL1                  & SPL1  & SPL2  & SPL2  & SPL2  & QC:2  & BLK  & BLK  & BLK  & BLK  & STD5                 \\\\\n",
       "\td\\_blank & NA    & NA                    & NA    & NA    & NA    & NA    & 0.5   & NA   & NA   & NA   & NA   & 0.03                 \\\\\n",
       "\te & STD1  & STD2                  & STD3  & STD4  & STD5  & STD6  & STD7  & BLK  & QC:1 & QC:2 & QC:3 & STD6                 \\\\\n",
       "\te\\_blank & 0     & 5.0000000000000001E-3 & 0.01  & 0.02  & 0.03  & 0.04  & 0.05  & NA   & 1    & 0.5  & 0.05 & 0.04                 \\\\\n",
       "\tf & STDB1 & STDB2                 & STDB3 & STDB4 & STDB5 & STDB6 & STDB7 & BLK  & QC:1 & QC:2 & QC:3 & STD7                 \\\\\n",
       "\tf\\_blank & 0     & 0.02                  & 0.05  & 0.1   & 0.2   & 0.5   & 1     & NA   & 1    & 0.5  & 0.05 & 0.05                 \\\\\n",
       "\tg & NA    & NA                    & NA    & NA    & NA    & NA    & NA    & NA   & NA   & NA   & NA   & NA                   \\\\\n",
       "\tg\\_blank & NA    & NA                    & NA    & NA    & NA    & NA    & NA    & NA   & NA   & NA   & NA   & NA                   \\\\\n",
       "\th & NA    & NA                    & NA    & NA    & NA    & NA    & NA    & NA   & NA   & NA   & NA   & NA                   \\\\\n",
       "\\end{tabular}\n"
      ],
      "text/markdown": [
       "\n",
       "A data.frame: 15 × 12\n",
       "\n",
       "| <!--/--> | 1 &lt;chr&gt; | 2 &lt;chr&gt; | 3 &lt;chr&gt; | 4 &lt;chr&gt; | 5 &lt;chr&gt; | 6 &lt;chr&gt; | 7 &lt;chr&gt; | 8 &lt;chr&gt; | 9 &lt;chr&gt; | 10 &lt;chr&gt; | 11 &lt;chr&gt; | 12 &lt;chr&gt; |\n",
       "|---|---|---|---|---|---|---|---|---|---|---|---|---|\n",
       "| a | STD1  | STD2                  | STD3  | STD4  | STD5  | STD6  | STD7  | BLK  | QC:1 | QC:2 | QC:3 | STD2                  |\n",
       "| a_blank | 0     | 5.0000000000000001E-3 | 0.01  | 0.02  | 0.03  | 0.04  | 0.05  | NA   | 1    | 0.5  | 0.05 | 5.0000000000000001E-3 |\n",
       "| b | STDB1 | STDB2                 | STDB3 | STDB4 | STDB5 | STDB6 | STDB7 | BLK  | QC:1 | QC:2 | QC:3 | STD3                  |\n",
       "| b_blank | 0     | 0.02                  | 0.05  | 0.1   | 0.2   | 0.5   | 1     | NA   | 1    | 0.5  | 0.05 | 0.01                  |\n",
       "| c | SPL1  | SPL1                  | SPL1  | SPL2  | SPL2  | SPL2  | QC:1  | QC:3 | BLK  | BLK  | BLK  | STD4                  |\n",
       "| c_blank | NA    | NA                    | NA    | NA    | NA    | NA    | 1     | 0.05 | NA   | NA   | NA   | 0.02                  |\n",
       "| d | SPL1  | SPL1                  | SPL1  | SPL2  | SPL2  | SPL2  | QC:2  | BLK  | BLK  | BLK  | BLK  | STD5                  |\n",
       "| d_blank | NA    | NA                    | NA    | NA    | NA    | NA    | 0.5   | NA   | NA   | NA   | NA   | 0.03                  |\n",
       "| e | STD1  | STD2                  | STD3  | STD4  | STD5  | STD6  | STD7  | BLK  | QC:1 | QC:2 | QC:3 | STD6                  |\n",
       "| e_blank | 0     | 5.0000000000000001E-3 | 0.01  | 0.02  | 0.03  | 0.04  | 0.05  | NA   | 1    | 0.5  | 0.05 | 0.04                  |\n",
       "| f | STDB1 | STDB2                 | STDB3 | STDB4 | STDB5 | STDB6 | STDB7 | BLK  | QC:1 | QC:2 | QC:3 | STD7                  |\n",
       "| f_blank | 0     | 0.02                  | 0.05  | 0.1   | 0.2   | 0.5   | 1     | NA   | 1    | 0.5  | 0.05 | 0.05                  |\n",
       "| g | NA    | NA                    | NA    | NA    | NA    | NA    | NA    | NA   | NA   | NA   | NA   | NA                    |\n",
       "| g_blank | NA    | NA                    | NA    | NA    | NA    | NA    | NA    | NA   | NA   | NA   | NA   | NA                    |\n",
       "| h | NA    | NA                    | NA    | NA    | NA    | NA    | NA    | NA   | NA   | NA   | NA   | NA                    |\n",
       "\n"
      ],
      "text/plain": [
       "        1     2                     3     4     5     6     7     8    9   \n",
       "a       STD1  STD2                  STD3  STD4  STD5  STD6  STD7  BLK  QC:1\n",
       "a_blank 0     5.0000000000000001E-3 0.01  0.02  0.03  0.04  0.05  NA   1   \n",
       "b       STDB1 STDB2                 STDB3 STDB4 STDB5 STDB6 STDB7 BLK  QC:1\n",
       "b_blank 0     0.02                  0.05  0.1   0.2   0.5   1     NA   1   \n",
       "c       SPL1  SPL1                  SPL1  SPL2  SPL2  SPL2  QC:1  QC:3 BLK \n",
       "c_blank NA    NA                    NA    NA    NA    NA    1     0.05 NA  \n",
       "d       SPL1  SPL1                  SPL1  SPL2  SPL2  SPL2  QC:2  BLK  BLK \n",
       "d_blank NA    NA                    NA    NA    NA    NA    0.5   NA   NA  \n",
       "e       STD1  STD2                  STD3  STD4  STD5  STD6  STD7  BLK  QC:1\n",
       "e_blank 0     5.0000000000000001E-3 0.01  0.02  0.03  0.04  0.05  NA   1   \n",
       "f       STDB1 STDB2                 STDB3 STDB4 STDB5 STDB6 STDB7 BLK  QC:1\n",
       "f_blank 0     0.02                  0.05  0.1   0.2   0.5   1     NA   1   \n",
       "g       NA    NA                    NA    NA    NA    NA    NA    NA   NA  \n",
       "g_blank NA    NA                    NA    NA    NA    NA    NA    NA   NA  \n",
       "h       NA    NA                    NA    NA    NA    NA    NA    NA   NA  \n",
       "        10   11   12                   \n",
       "a       QC:2 QC:3 STD2                 \n",
       "a_blank 0.5  0.05 5.0000000000000001E-3\n",
       "b       QC:2 QC:3 STD3                 \n",
       "b_blank 0.5  0.05 0.01                 \n",
       "c       BLK  BLK  STD4                 \n",
       "c_blank NA   NA   0.02                 \n",
       "d       BLK  BLK  STD5                 \n",
       "d_blank NA   NA   0.03                 \n",
       "e       QC:2 QC:3 STD6                 \n",
       "e_blank 0.5  0.05 0.04                 \n",
       "f       QC:2 QC:3 STD7                 \n",
       "f_blank 0.5  0.05 0.05                 \n",
       "g       NA   NA   NA                   \n",
       "g_blank NA   NA   NA                   \n",
       "h       NA   NA   NA                   "
      ]
     },
     "metadata": {},
     "output_type": "display_data"
    }
   ],
   "source": [
    "plate_setup"
   ]
  },
  {
   "cell_type": "code",
   "execution_count": 335,
   "id": "c6c6d63e-5beb-4043-ae84-2c66e3cf4f02",
   "metadata": {},
   "outputs": [],
   "source": [
    "# convert numbers to numeric and get rid of scientific notation\n",
    "plate_setup[grepl(\"blank\", rownames(plate_setup)), ] <- \n",
    "  lapply(plate_setup[grepl(\"blank\", rownames(plate_setup)), ], function(x) round(as.numeric(x), 4))"
   ]
  },
  {
   "cell_type": "code",
   "execution_count": 336,
   "id": "f872b6ba-b2e7-4b96-97a9-aebb07fad1e9",
   "metadata": {},
   "outputs": [
    {
     "data": {
      "text/html": [
       "<table class=\"dataframe\">\n",
       "<caption>A data.frame: 15 × 12</caption>\n",
       "<thead>\n",
       "\t<tr><th></th><th scope=col>1</th><th scope=col>2</th><th scope=col>3</th><th scope=col>4</th><th scope=col>5</th><th scope=col>6</th><th scope=col>7</th><th scope=col>8</th><th scope=col>9</th><th scope=col>10</th><th scope=col>11</th><th scope=col>12</th></tr>\n",
       "\t<tr><th></th><th scope=col>&lt;chr&gt;</th><th scope=col>&lt;chr&gt;</th><th scope=col>&lt;chr&gt;</th><th scope=col>&lt;chr&gt;</th><th scope=col>&lt;chr&gt;</th><th scope=col>&lt;chr&gt;</th><th scope=col>&lt;chr&gt;</th><th scope=col>&lt;chr&gt;</th><th scope=col>&lt;chr&gt;</th><th scope=col>&lt;chr&gt;</th><th scope=col>&lt;chr&gt;</th><th scope=col>&lt;chr&gt;</th></tr>\n",
       "</thead>\n",
       "<tbody>\n",
       "\t<tr><th scope=row>a</th><td>STD1 </td><td>STD2 </td><td>STD3 </td><td>STD4 </td><td>STD5 </td><td>STD6 </td><td>STD7 </td><td>BLK </td><td>QC:1</td><td>QC:2</td><td>QC:3</td><td>STD2 </td></tr>\n",
       "\t<tr><th scope=row>a_blank</th><td>0    </td><td>0.005</td><td>0.01 </td><td>0.02 </td><td>0.03 </td><td>0.04 </td><td>0.05 </td><td>NA  </td><td>1   </td><td>0.5 </td><td>0.05</td><td>0.005</td></tr>\n",
       "\t<tr><th scope=row>b</th><td>STDB1</td><td>STDB2</td><td>STDB3</td><td>STDB4</td><td>STDB5</td><td>STDB6</td><td>STDB7</td><td>BLK </td><td>QC:1</td><td>QC:2</td><td>QC:3</td><td>STD3 </td></tr>\n",
       "\t<tr><th scope=row>b_blank</th><td>0    </td><td>0.02 </td><td>0.05 </td><td>0.1  </td><td>0.2  </td><td>0.5  </td><td>1    </td><td>NA  </td><td>1   </td><td>0.5 </td><td>0.05</td><td>0.01 </td></tr>\n",
       "\t<tr><th scope=row>c</th><td>SPL1 </td><td>SPL1 </td><td>SPL1 </td><td>SPL2 </td><td>SPL2 </td><td>SPL2 </td><td>QC:1 </td><td>QC:3</td><td>BLK </td><td>BLK </td><td>BLK </td><td>STD4 </td></tr>\n",
       "\t<tr><th scope=row>c_blank</th><td>NA   </td><td>NA   </td><td>NA   </td><td>NA   </td><td>NA   </td><td>NA   </td><td>1    </td><td>0.05</td><td>NA  </td><td>NA  </td><td>NA  </td><td>0.02 </td></tr>\n",
       "\t<tr><th scope=row>d</th><td>SPL1 </td><td>SPL1 </td><td>SPL1 </td><td>SPL2 </td><td>SPL2 </td><td>SPL2 </td><td>QC:2 </td><td>BLK </td><td>BLK </td><td>BLK </td><td>BLK </td><td>STD5 </td></tr>\n",
       "\t<tr><th scope=row>d_blank</th><td>NA   </td><td>NA   </td><td>NA   </td><td>NA   </td><td>NA   </td><td>NA   </td><td>0.5  </td><td>NA  </td><td>NA  </td><td>NA  </td><td>NA  </td><td>0.03 </td></tr>\n",
       "\t<tr><th scope=row>e</th><td>STD1 </td><td>STD2 </td><td>STD3 </td><td>STD4 </td><td>STD5 </td><td>STD6 </td><td>STD7 </td><td>BLK </td><td>QC:1</td><td>QC:2</td><td>QC:3</td><td>STD6 </td></tr>\n",
       "\t<tr><th scope=row>e_blank</th><td>0    </td><td>0.005</td><td>0.01 </td><td>0.02 </td><td>0.03 </td><td>0.04 </td><td>0.05 </td><td>NA  </td><td>1   </td><td>0.5 </td><td>0.05</td><td>0.04 </td></tr>\n",
       "\t<tr><th scope=row>f</th><td>STDB1</td><td>STDB2</td><td>STDB3</td><td>STDB4</td><td>STDB5</td><td>STDB6</td><td>STDB7</td><td>BLK </td><td>QC:1</td><td>QC:2</td><td>QC:3</td><td>STD7 </td></tr>\n",
       "\t<tr><th scope=row>f_blank</th><td>0    </td><td>0.02 </td><td>0.05 </td><td>0.1  </td><td>0.2  </td><td>0.5  </td><td>1    </td><td>NA  </td><td>1   </td><td>0.5 </td><td>0.05</td><td>0.05 </td></tr>\n",
       "\t<tr><th scope=row>g</th><td>NA   </td><td>NA   </td><td>NA   </td><td>NA   </td><td>NA   </td><td>NA   </td><td>NA   </td><td>NA  </td><td>NA  </td><td>NA  </td><td>NA  </td><td>NA   </td></tr>\n",
       "\t<tr><th scope=row>g_blank</th><td>NA   </td><td>NA   </td><td>NA   </td><td>NA   </td><td>NA   </td><td>NA   </td><td>NA   </td><td>NA  </td><td>NA  </td><td>NA  </td><td>NA  </td><td>NA   </td></tr>\n",
       "\t<tr><th scope=row>h</th><td>NA   </td><td>NA   </td><td>NA   </td><td>NA   </td><td>NA   </td><td>NA   </td><td>NA   </td><td>NA  </td><td>NA  </td><td>NA  </td><td>NA  </td><td>NA   </td></tr>\n",
       "</tbody>\n",
       "</table>\n"
      ],
      "text/latex": [
       "A data.frame: 15 × 12\n",
       "\\begin{tabular}{r|llllllllllll}\n",
       "  & 1 & 2 & 3 & 4 & 5 & 6 & 7 & 8 & 9 & 10 & 11 & 12\\\\\n",
       "  & <chr> & <chr> & <chr> & <chr> & <chr> & <chr> & <chr> & <chr> & <chr> & <chr> & <chr> & <chr>\\\\\n",
       "\\hline\n",
       "\ta & STD1  & STD2  & STD3  & STD4  & STD5  & STD6  & STD7  & BLK  & QC:1 & QC:2 & QC:3 & STD2 \\\\\n",
       "\ta\\_blank & 0     & 0.005 & 0.01  & 0.02  & 0.03  & 0.04  & 0.05  & NA   & 1    & 0.5  & 0.05 & 0.005\\\\\n",
       "\tb & STDB1 & STDB2 & STDB3 & STDB4 & STDB5 & STDB6 & STDB7 & BLK  & QC:1 & QC:2 & QC:3 & STD3 \\\\\n",
       "\tb\\_blank & 0     & 0.02  & 0.05  & 0.1   & 0.2   & 0.5   & 1     & NA   & 1    & 0.5  & 0.05 & 0.01 \\\\\n",
       "\tc & SPL1  & SPL1  & SPL1  & SPL2  & SPL2  & SPL2  & QC:1  & QC:3 & BLK  & BLK  & BLK  & STD4 \\\\\n",
       "\tc\\_blank & NA    & NA    & NA    & NA    & NA    & NA    & 1     & 0.05 & NA   & NA   & NA   & 0.02 \\\\\n",
       "\td & SPL1  & SPL1  & SPL1  & SPL2  & SPL2  & SPL2  & QC:2  & BLK  & BLK  & BLK  & BLK  & STD5 \\\\\n",
       "\td\\_blank & NA    & NA    & NA    & NA    & NA    & NA    & 0.5   & NA   & NA   & NA   & NA   & 0.03 \\\\\n",
       "\te & STD1  & STD2  & STD3  & STD4  & STD5  & STD6  & STD7  & BLK  & QC:1 & QC:2 & QC:3 & STD6 \\\\\n",
       "\te\\_blank & 0     & 0.005 & 0.01  & 0.02  & 0.03  & 0.04  & 0.05  & NA   & 1    & 0.5  & 0.05 & 0.04 \\\\\n",
       "\tf & STDB1 & STDB2 & STDB3 & STDB4 & STDB5 & STDB6 & STDB7 & BLK  & QC:1 & QC:2 & QC:3 & STD7 \\\\\n",
       "\tf\\_blank & 0     & 0.02  & 0.05  & 0.1   & 0.2   & 0.5   & 1     & NA   & 1    & 0.5  & 0.05 & 0.05 \\\\\n",
       "\tg & NA    & NA    & NA    & NA    & NA    & NA    & NA    & NA   & NA   & NA   & NA   & NA   \\\\\n",
       "\tg\\_blank & NA    & NA    & NA    & NA    & NA    & NA    & NA    & NA   & NA   & NA   & NA   & NA   \\\\\n",
       "\th & NA    & NA    & NA    & NA    & NA    & NA    & NA    & NA   & NA   & NA   & NA   & NA   \\\\\n",
       "\\end{tabular}\n"
      ],
      "text/markdown": [
       "\n",
       "A data.frame: 15 × 12\n",
       "\n",
       "| <!--/--> | 1 &lt;chr&gt; | 2 &lt;chr&gt; | 3 &lt;chr&gt; | 4 &lt;chr&gt; | 5 &lt;chr&gt; | 6 &lt;chr&gt; | 7 &lt;chr&gt; | 8 &lt;chr&gt; | 9 &lt;chr&gt; | 10 &lt;chr&gt; | 11 &lt;chr&gt; | 12 &lt;chr&gt; |\n",
       "|---|---|---|---|---|---|---|---|---|---|---|---|---|\n",
       "| a | STD1  | STD2  | STD3  | STD4  | STD5  | STD6  | STD7  | BLK  | QC:1 | QC:2 | QC:3 | STD2  |\n",
       "| a_blank | 0     | 0.005 | 0.01  | 0.02  | 0.03  | 0.04  | 0.05  | NA   | 1    | 0.5  | 0.05 | 0.005 |\n",
       "| b | STDB1 | STDB2 | STDB3 | STDB4 | STDB5 | STDB6 | STDB7 | BLK  | QC:1 | QC:2 | QC:3 | STD3  |\n",
       "| b_blank | 0     | 0.02  | 0.05  | 0.1   | 0.2   | 0.5   | 1     | NA   | 1    | 0.5  | 0.05 | 0.01  |\n",
       "| c | SPL1  | SPL1  | SPL1  | SPL2  | SPL2  | SPL2  | QC:1  | QC:3 | BLK  | BLK  | BLK  | STD4  |\n",
       "| c_blank | NA    | NA    | NA    | NA    | NA    | NA    | 1     | 0.05 | NA   | NA   | NA   | 0.02  |\n",
       "| d | SPL1  | SPL1  | SPL1  | SPL2  | SPL2  | SPL2  | QC:2  | BLK  | BLK  | BLK  | BLK  | STD5  |\n",
       "| d_blank | NA    | NA    | NA    | NA    | NA    | NA    | 0.5   | NA   | NA   | NA   | NA   | 0.03  |\n",
       "| e | STD1  | STD2  | STD3  | STD4  | STD5  | STD6  | STD7  | BLK  | QC:1 | QC:2 | QC:3 | STD6  |\n",
       "| e_blank | 0     | 0.005 | 0.01  | 0.02  | 0.03  | 0.04  | 0.05  | NA   | 1    | 0.5  | 0.05 | 0.04  |\n",
       "| f | STDB1 | STDB2 | STDB3 | STDB4 | STDB5 | STDB6 | STDB7 | BLK  | QC:1 | QC:2 | QC:3 | STD7  |\n",
       "| f_blank | 0     | 0.02  | 0.05  | 0.1   | 0.2   | 0.5   | 1     | NA   | 1    | 0.5  | 0.05 | 0.05  |\n",
       "| g | NA    | NA    | NA    | NA    | NA    | NA    | NA    | NA   | NA   | NA   | NA   | NA    |\n",
       "| g_blank | NA    | NA    | NA    | NA    | NA    | NA    | NA    | NA   | NA   | NA   | NA   | NA    |\n",
       "| h | NA    | NA    | NA    | NA    | NA    | NA    | NA    | NA   | NA   | NA   | NA   | NA    |\n",
       "\n"
      ],
      "text/plain": [
       "        1     2     3     4     5     6     7     8    9    10   11   12   \n",
       "a       STD1  STD2  STD3  STD4  STD5  STD6  STD7  BLK  QC:1 QC:2 QC:3 STD2 \n",
       "a_blank 0     0.005 0.01  0.02  0.03  0.04  0.05  NA   1    0.5  0.05 0.005\n",
       "b       STDB1 STDB2 STDB3 STDB4 STDB5 STDB6 STDB7 BLK  QC:1 QC:2 QC:3 STD3 \n",
       "b_blank 0     0.02  0.05  0.1   0.2   0.5   1     NA   1    0.5  0.05 0.01 \n",
       "c       SPL1  SPL1  SPL1  SPL2  SPL2  SPL2  QC:1  QC:3 BLK  BLK  BLK  STD4 \n",
       "c_blank NA    NA    NA    NA    NA    NA    1     0.05 NA   NA   NA   0.02 \n",
       "d       SPL1  SPL1  SPL1  SPL2  SPL2  SPL2  QC:2  BLK  BLK  BLK  BLK  STD5 \n",
       "d_blank NA    NA    NA    NA    NA    NA    0.5   NA   NA   NA   NA   0.03 \n",
       "e       STD1  STD2  STD3  STD4  STD5  STD6  STD7  BLK  QC:1 QC:2 QC:3 STD6 \n",
       "e_blank 0     0.005 0.01  0.02  0.03  0.04  0.05  NA   1    0.5  0.05 0.04 \n",
       "f       STDB1 STDB2 STDB3 STDB4 STDB5 STDB6 STDB7 BLK  QC:1 QC:2 QC:3 STD7 \n",
       "f_blank 0     0.02  0.05  0.1   0.2   0.5   1     NA   1    0.5  0.05 0.05 \n",
       "g       NA    NA    NA    NA    NA    NA    NA    NA   NA   NA   NA   NA   \n",
       "g_blank NA    NA    NA    NA    NA    NA    NA    NA   NA   NA   NA   NA   \n",
       "h       NA    NA    NA    NA    NA    NA    NA    NA   NA   NA   NA   NA   "
      ]
     },
     "metadata": {},
     "output_type": "display_data"
    }
   ],
   "source": [
    "plate_setup"
   ]
  },
  {
   "cell_type": "code",
   "execution_count": 337,
   "id": "aa307666-ccf3-45b1-bf3d-38a1535157fa",
   "metadata": {},
   "outputs": [
    {
     "data": {
      "text/html": [
       "<table class=\"dataframe\">\n",
       "<caption>A data.frame: 7 × 4</caption>\n",
       "<thead>\n",
       "\t<tr><th></th><th scope=col>id</th><th scope=col>conc</th><th scope=col>od</th><th scope=col>od2</th></tr>\n",
       "\t<tr><th></th><th scope=col>&lt;chr&gt;</th><th scope=col>&lt;chr&gt;</th><th scope=col>&lt;dbl&gt;</th><th scope=col>&lt;dbl&gt;</th></tr>\n",
       "</thead>\n",
       "<tbody>\n",
       "\t<tr><th scope=row>1</th><td>STD1</td><td>0    </td><td>0.079</td><td>0.072</td></tr>\n",
       "\t<tr><th scope=row>2</th><td>STD2</td><td>0.005</td><td>0.098</td><td>0.073</td></tr>\n",
       "\t<tr><th scope=row>3</th><td>STD3</td><td>0.01 </td><td>0.082</td><td>0.107</td></tr>\n",
       "\t<tr><th scope=row>4</th><td>STD4</td><td>0.02 </td><td>0.092</td><td>0.092</td></tr>\n",
       "\t<tr><th scope=row>5</th><td>STD5</td><td>0.03 </td><td>0.145</td><td>0.098</td></tr>\n",
       "\t<tr><th scope=row>6</th><td>STD6</td><td>0.04 </td><td>0.114</td><td>0.106</td></tr>\n",
       "\t<tr><th scope=row>7</th><td>STD7</td><td>0.05 </td><td>0.121</td><td>0.199</td></tr>\n",
       "</tbody>\n",
       "</table>\n"
      ],
      "text/latex": [
       "A data.frame: 7 × 4\n",
       "\\begin{tabular}{r|llll}\n",
       "  & id & conc & od & od2\\\\\n",
       "  & <chr> & <chr> & <dbl> & <dbl>\\\\\n",
       "\\hline\n",
       "\t1 & STD1 & 0     & 0.079 & 0.072\\\\\n",
       "\t2 & STD2 & 0.005 & 0.098 & 0.073\\\\\n",
       "\t3 & STD3 & 0.01  & 0.082 & 0.107\\\\\n",
       "\t4 & STD4 & 0.02  & 0.092 & 0.092\\\\\n",
       "\t5 & STD5 & 0.03  & 0.145 & 0.098\\\\\n",
       "\t6 & STD6 & 0.04  & 0.114 & 0.106\\\\\n",
       "\t7 & STD7 & 0.05  & 0.121 & 0.199\\\\\n",
       "\\end{tabular}\n"
      ],
      "text/markdown": [
       "\n",
       "A data.frame: 7 × 4\n",
       "\n",
       "| <!--/--> | id &lt;chr&gt; | conc &lt;chr&gt; | od &lt;dbl&gt; | od2 &lt;dbl&gt; |\n",
       "|---|---|---|---|---|\n",
       "| 1 | STD1 | 0     | 0.079 | 0.072 |\n",
       "| 2 | STD2 | 0.005 | 0.098 | 0.073 |\n",
       "| 3 | STD3 | 0.01  | 0.082 | 0.107 |\n",
       "| 4 | STD4 | 0.02  | 0.092 | 0.092 |\n",
       "| 5 | STD5 | 0.03  | 0.145 | 0.098 |\n",
       "| 6 | STD6 | 0.04  | 0.114 | 0.106 |\n",
       "| 7 | STD7 | 0.05  | 0.121 | 0.199 |\n",
       "\n"
      ],
      "text/plain": [
       "  id   conc  od    od2  \n",
       "1 STD1 0     0.079 0.072\n",
       "2 STD2 0.005 0.098 0.073\n",
       "3 STD3 0.01  0.082 0.107\n",
       "4 STD4 0.02  0.092 0.092\n",
       "5 STD5 0.03  0.145 0.098\n",
       "6 STD6 0.04  0.114 0.106\n",
       "7 STD7 0.05  0.121 0.199"
      ]
     },
     "metadata": {},
     "output_type": "display_data"
    }
   ],
   "source": [
    "low <- data.frame(id = unlist(plate_setup[1, 1:7]),\n",
    "                    conc = unlist(plate_setup[2, 1:7]),\n",
    "                    od = unlist(raw[1, 1:7]),\n",
    "                    od2 = unlist(raw['e', 1:7])\n",
    "                 )\n",
    "low"
   ]
  },
  {
   "cell_type": "code",
   "execution_count": 338,
   "id": "8a960900-108e-4a31-a9fa-72fe37ab361a",
   "metadata": {},
   "outputs": [
    {
     "data": {
      "text/html": [
       "<table class=\"dataframe\">\n",
       "<caption>A data.frame: 7 × 5</caption>\n",
       "<thead>\n",
       "\t<tr><th></th><th scope=col>id</th><th scope=col>conc</th><th scope=col>od</th><th scope=col>od2</th><th scope=col>od3</th></tr>\n",
       "\t<tr><th></th><th scope=col>&lt;chr&gt;</th><th scope=col>&lt;chr&gt;</th><th scope=col>&lt;dbl&gt;</th><th scope=col>&lt;dbl&gt;</th><th scope=col>&lt;dbl&gt;</th></tr>\n",
       "</thead>\n",
       "<tbody>\n",
       "\t<tr><th scope=row>1</th><td>STD1</td><td>0    </td><td>0.079</td><td>0.072</td><td>0.066</td></tr>\n",
       "\t<tr><th scope=row>2</th><td>STD2</td><td>0.005</td><td>0.098</td><td>0.073</td><td>0.079</td></tr>\n",
       "\t<tr><th scope=row>3</th><td>STD3</td><td>0.01 </td><td>0.082</td><td>0.107</td><td>0.077</td></tr>\n",
       "\t<tr><th scope=row>4</th><td>STD4</td><td>0.02 </td><td>0.092</td><td>0.092</td><td>0.087</td></tr>\n",
       "\t<tr><th scope=row>5</th><td>STD5</td><td>0.03 </td><td>0.145</td><td>0.098</td><td>0.098</td></tr>\n",
       "\t<tr><th scope=row>6</th><td>STD6</td><td>0.04 </td><td>0.114</td><td>0.106</td><td>0.109</td></tr>\n",
       "\t<tr><th scope=row>7</th><td>STD7</td><td>0.05 </td><td>0.121</td><td>0.199</td><td>0.171</td></tr>\n",
       "</tbody>\n",
       "</table>\n"
      ],
      "text/latex": [
       "A data.frame: 7 × 5\n",
       "\\begin{tabular}{r|lllll}\n",
       "  & id & conc & od & od2 & od3\\\\\n",
       "  & <chr> & <chr> & <dbl> & <dbl> & <dbl>\\\\\n",
       "\\hline\n",
       "\t1 & STD1 & 0     & 0.079 & 0.072 & 0.066\\\\\n",
       "\t2 & STD2 & 0.005 & 0.098 & 0.073 & 0.079\\\\\n",
       "\t3 & STD3 & 0.01  & 0.082 & 0.107 & 0.077\\\\\n",
       "\t4 & STD4 & 0.02  & 0.092 & 0.092 & 0.087\\\\\n",
       "\t5 & STD5 & 0.03  & 0.145 & 0.098 & 0.098\\\\\n",
       "\t6 & STD6 & 0.04  & 0.114 & 0.106 & 0.109\\\\\n",
       "\t7 & STD7 & 0.05  & 0.121 & 0.199 & 0.171\\\\\n",
       "\\end{tabular}\n"
      ],
      "text/markdown": [
       "\n",
       "A data.frame: 7 × 5\n",
       "\n",
       "| <!--/--> | id &lt;chr&gt; | conc &lt;chr&gt; | od &lt;dbl&gt; | od2 &lt;dbl&gt; | od3 &lt;dbl&gt; |\n",
       "|---|---|---|---|---|---|\n",
       "| 1 | STD1 | 0     | 0.079 | 0.072 | 0.066 |\n",
       "| 2 | STD2 | 0.005 | 0.098 | 0.073 | 0.079 |\n",
       "| 3 | STD3 | 0.01  | 0.082 | 0.107 | 0.077 |\n",
       "| 4 | STD4 | 0.02  | 0.092 | 0.092 | 0.087 |\n",
       "| 5 | STD5 | 0.03  | 0.145 | 0.098 | 0.098 |\n",
       "| 6 | STD6 | 0.04  | 0.114 | 0.106 | 0.109 |\n",
       "| 7 | STD7 | 0.05  | 0.121 | 0.199 | 0.171 |\n",
       "\n"
      ],
      "text/plain": [
       "  id   conc  od    od2   od3  \n",
       "1 STD1 0     0.079 0.072 0.066\n",
       "2 STD2 0.005 0.098 0.073 0.079\n",
       "3 STD3 0.01  0.082 0.107 0.077\n",
       "4 STD4 0.02  0.092 0.092 0.087\n",
       "5 STD5 0.03  0.145 0.098 0.098\n",
       "6 STD6 0.04  0.114 0.106 0.109\n",
       "7 STD7 0.05  0.121 0.199 0.171"
      ]
     },
     "metadata": {},
     "output_type": "display_data"
    }
   ],
   "source": [
    "#blank as std 1 (for 3rd rep)\n",
    "low$od3 <- raw['a', 8] \n",
    "# rest of stds from 3rd rep  \n",
    "low[2:7,'od3'] <- raw[seq(from = 1, to = 11, by = 2), 12]\n",
    "low"
   ]
  },
  {
   "cell_type": "code",
   "execution_count": 339,
   "id": "edb37357-549b-4077-9061-45c06261818b",
   "metadata": {},
   "outputs": [
    {
     "name": "stdout",
     "output_type": "stream",
     "text": [
      "'data.frame':\t7 obs. of  5 variables:\n",
      " $ id  : chr  \"STD1\" \"STD2\" \"STD3\" \"STD4\" ...\n",
      " $ conc: chr  \"0\" \"0.005\" \"0.01\" \"0.02\" ...\n",
      " $ od  : num  0.079 0.098 0.082 0.092 0.145 0.114 0.121\n",
      " $ od2 : num  0.072 0.073 0.107 0.092 0.098 0.106 0.199\n",
      " $ od3 : num  0.066 0.079 0.077 0.087 0.098 0.109 0.171\n"
     ]
    }
   ],
   "source": [
    "# check character types (all need to be numeric to run model)\n",
    "str(low)"
   ]
  },
  {
   "cell_type": "code",
   "execution_count": 340,
   "id": "7c14a56c-191c-4f03-a06e-b18c49be9df7",
   "metadata": {},
   "outputs": [],
   "source": [
    "# convert concentration to numeric \n",
    "low$conc <- as.numeric(as.character(low$conc))"
   ]
  },
  {
   "cell_type": "code",
   "execution_count": 341,
   "id": "61d3d7e4-4e93-4215-9f9a-97c5a51148c4",
   "metadata": {},
   "outputs": [],
   "source": [
    "# calculate avg, standard deviation  and pivot \n",
    "low$avg_od <- rowMeans(low[, c(\"od\", \"od2\", \"od3\")])\n",
    "\n",
    "# pivot\n",
    "low_long<-low %>% pivot_longer(cols = c(\"od\", \"od2\", \"od3\"),\n",
    "             names_to = 'rep',\n",
    "             values_to = 'od')\n",
    "# std dev\n",
    "low_long <- low_long %>%\n",
    "  group_by(id) %>%\n",
    "  mutate(sd = sd(od)) %>%\n",
    "  ungroup()"
   ]
  },
  {
   "cell_type": "code",
   "execution_count": 418,
   "id": "dbf1e64b-a306-48d6-bec6-d6fdec504dc5",
   "metadata": {},
   "outputs": [
    {
     "data": {
      "text/html": [
       "<table class=\"dataframe\">\n",
       "<caption>A tibble: 7 × 6</caption>\n",
       "<thead>\n",
       "\t<tr><th scope=col>id</th><th scope=col>conc</th><th scope=col>avg_od</th><th scope=col>rep</th><th scope=col>od</th><th scope=col>sd</th></tr>\n",
       "\t<tr><th scope=col>&lt;chr&gt;</th><th scope=col>&lt;dbl&gt;</th><th scope=col>&lt;dbl&gt;</th><th scope=col>&lt;chr&gt;</th><th scope=col>&lt;dbl&gt;</th><th scope=col>&lt;dbl&gt;</th></tr>\n",
       "</thead>\n",
       "<tbody>\n",
       "\t<tr><td>STD1</td><td>0.000</td><td>0.072333</td><td>od</td><td>0.079</td><td>0.0065064</td></tr>\n",
       "\t<tr><td>STD2</td><td>0.005</td><td>0.083333</td><td>od</td><td>0.098</td><td>0.0130512</td></tr>\n",
       "\t<tr><td>STD3</td><td>0.010</td><td>0.088667</td><td>od</td><td>0.082</td><td>0.0160728</td></tr>\n",
       "\t<tr><td>STD4</td><td>0.020</td><td>0.090333</td><td>od</td><td>0.092</td><td>0.0028868</td></tr>\n",
       "\t<tr><td>STD5</td><td>0.030</td><td>0.113667</td><td>od</td><td>0.145</td><td>0.0271355</td></tr>\n",
       "\t<tr><td>STD6</td><td>0.040</td><td>0.109667</td><td>od</td><td>0.114</td><td>0.0040415</td></tr>\n",
       "\t<tr><td>STD7</td><td>0.050</td><td>0.163667</td><td>od</td><td>0.121</td><td>0.0395137</td></tr>\n",
       "</tbody>\n",
       "</table>\n"
      ],
      "text/latex": [
       "A tibble: 7 × 6\n",
       "\\begin{tabular}{llllll}\n",
       " id & conc & avg\\_od & rep & od & sd\\\\\n",
       " <chr> & <dbl> & <dbl> & <chr> & <dbl> & <dbl>\\\\\n",
       "\\hline\n",
       "\t STD1 & 0.000 & 0.072333 & od & 0.079 & 0.0065064\\\\\n",
       "\t STD2 & 0.005 & 0.083333 & od & 0.098 & 0.0130512\\\\\n",
       "\t STD3 & 0.010 & 0.088667 & od & 0.082 & 0.0160728\\\\\n",
       "\t STD4 & 0.020 & 0.090333 & od & 0.092 & 0.0028868\\\\\n",
       "\t STD5 & 0.030 & 0.113667 & od & 0.145 & 0.0271355\\\\\n",
       "\t STD6 & 0.040 & 0.109667 & od & 0.114 & 0.0040415\\\\\n",
       "\t STD7 & 0.050 & 0.163667 & od & 0.121 & 0.0395137\\\\\n",
       "\\end{tabular}\n"
      ],
      "text/markdown": [
       "\n",
       "A tibble: 7 × 6\n",
       "\n",
       "| id &lt;chr&gt; | conc &lt;dbl&gt; | avg_od &lt;dbl&gt; | rep &lt;chr&gt; | od &lt;dbl&gt; | sd &lt;dbl&gt; |\n",
       "|---|---|---|---|---|---|\n",
       "| STD1 | 0.000 | 0.072333 | od | 0.079 | 0.0065064 |\n",
       "| STD2 | 0.005 | 0.083333 | od | 0.098 | 0.0130512 |\n",
       "| STD3 | 0.010 | 0.088667 | od | 0.082 | 0.0160728 |\n",
       "| STD4 | 0.020 | 0.090333 | od | 0.092 | 0.0028868 |\n",
       "| STD5 | 0.030 | 0.113667 | od | 0.145 | 0.0271355 |\n",
       "| STD6 | 0.040 | 0.109667 | od | 0.114 | 0.0040415 |\n",
       "| STD7 | 0.050 | 0.163667 | od | 0.121 | 0.0395137 |\n",
       "\n"
      ],
      "text/plain": [
       "  id   conc  avg_od   rep od    sd       \n",
       "1 STD1 0.000 0.072333 od  0.079 0.0065064\n",
       "2 STD2 0.005 0.083333 od  0.098 0.0130512\n",
       "3 STD3 0.010 0.088667 od  0.082 0.0160728\n",
       "4 STD4 0.020 0.090333 od  0.092 0.0028868\n",
       "5 STD5 0.030 0.113667 od  0.145 0.0271355\n",
       "6 STD6 0.040 0.109667 od  0.114 0.0040415\n",
       "7 STD7 0.050 0.163667 od  0.121 0.0395137"
      ]
     },
     "metadata": {},
     "output_type": "display_data"
    }
   ],
   "source": [
    "low_long %>%\n",
    "  distinct(id, .keep_all = TRUE)"
   ]
  },
  {
   "cell_type": "markdown",
   "id": "f812944a-9843-4d0d-bd86-df1b802e2e67",
   "metadata": {},
   "source": [
    "### Standard curve"
   ]
  },
  {
   "cell_type": "code",
   "execution_count": 342,
   "id": "b4a331fe-8694-4250-b0b2-40e118397cc0",
   "metadata": {},
   "outputs": [
    {
     "data": {
      "text/plain": [
       "\n",
       "Call:\n",
       "lm(formula = conc ~ od, data = low_long)\n",
       "\n",
       "Residuals:\n",
       "     Min       1Q   Median       3Q      Max \n",
       "-0.01500 -0.00906 -0.00117  0.01000  0.02033 \n",
       "\n",
       "Coefficients:\n",
       "            Estimate Std. Error t value Pr(>|t|)    \n",
       "(Intercept) -0.02122    0.00808   -2.63    0.017 *  \n",
       "od           0.42065    0.07473    5.63  0.00002 ***\n",
       "---\n",
       "Signif. codes:  0 ‘***’ 0.001 ‘**’ 0.01 ‘*’ 0.05 ‘.’ 0.1 ‘ ’ 1\n",
       "\n",
       "Residual standard error: 0.0111 on 19 degrees of freedom\n",
       "Multiple R-squared:  0.625,\tAdjusted R-squared:  0.605 \n",
       "F-statistic: 31.7 on 1 and 19 DF,  p-value: 0.0000199\n"
      ]
     },
     "metadata": {},
     "output_type": "display_data"
    }
   ],
   "source": [
    "# create linear standard curve \n",
    "# lm(target(y) ~ predictor(x))\n",
    "# normally concentration is predictor (x), absorbance is response variable (y)\n",
    "# but since we need to predict concentration, switching variables. since they are a linear relationship this should be fine. \n",
    "# SO: conc ~ od means absorbance is predictor (x) and concentration is response (y)\n",
    "low_model <- lm(conc ~ od, data = low_long)\n",
    "# view summary stats (R-squared)\n",
    "summary(low_model)"
   ]
  },
  {
   "cell_type": "code",
   "execution_count": 343,
   "id": "54bd8e7c-9e4b-44c2-b5b8-21e9a96d6dc9",
   "metadata": {},
   "outputs": [
    {
     "data": {
      "text/plain": [
       "\n",
       "Call:\n",
       "lm(formula = conc ~ avg_od, data = low_long)\n",
       "\n",
       "Residuals:\n",
       "     Min       1Q   Median       3Q      Max \n",
       "-0.00620 -0.00603 -0.00403  0.00503  0.01416 \n",
       "\n",
       "Coefficients:\n",
       "            Estimate Std. Error t value    Pr(>|t|)    \n",
       "(Intercept) -0.03582    0.00611   -5.86 0.000012132 ***\n",
       "avg_od       0.56226    0.05722    9.83 0.000000007 ***\n",
       "---\n",
       "Signif. codes:  0 ‘***’ 0.001 ‘**’ 0.01 ‘*’ 0.05 ‘.’ 0.1 ‘ ’ 1\n",
       "\n",
       "Residual standard error: 0.00737 on 19 degrees of freedom\n",
       "Multiple R-squared:  0.836,\tAdjusted R-squared:  0.827 \n",
       "F-statistic: 96.6 on 1 and 19 DF,  p-value: 0.00000000697\n"
      ]
     },
     "metadata": {},
     "output_type": "display_data"
    }
   ],
   "source": [
    "## use the averages for the curve \n",
    "low_avg_model <- lm(conc ~ avg_od, data = low_long)\n",
    "summary(low_avg_model)"
   ]
  },
  {
   "cell_type": "code",
   "execution_count": 344,
   "id": "db7deb57-be34-439f-a34b-03597bafaf49",
   "metadata": {},
   "outputs": [
    {
     "data": {
      "text/html": [
       "<table class=\"dataframe\">\n",
       "<caption>A data.frame: 2 × 2</caption>\n",
       "<thead>\n",
       "\t<tr><th></th><th scope=col>df</th><th scope=col>AIC</th></tr>\n",
       "\t<tr><th></th><th scope=col>&lt;dbl&gt;</th><th scope=col>&lt;dbl&gt;</th></tr>\n",
       "</thead>\n",
       "<tbody>\n",
       "\t<tr><th scope=row>low_model</th><td>3</td><td>-125.43</td></tr>\n",
       "\t<tr><th scope=row>low_avg_model</th><td>3</td><td>-142.73</td></tr>\n",
       "</tbody>\n",
       "</table>\n"
      ],
      "text/latex": [
       "A data.frame: 2 × 2\n",
       "\\begin{tabular}{r|ll}\n",
       "  & df & AIC\\\\\n",
       "  & <dbl> & <dbl>\\\\\n",
       "\\hline\n",
       "\tlow\\_model & 3 & -125.43\\\\\n",
       "\tlow\\_avg\\_model & 3 & -142.73\\\\\n",
       "\\end{tabular}\n"
      ],
      "text/markdown": [
       "\n",
       "A data.frame: 2 × 2\n",
       "\n",
       "| <!--/--> | df &lt;dbl&gt; | AIC &lt;dbl&gt; |\n",
       "|---|---|---|\n",
       "| low_model | 3 | -125.43 |\n",
       "| low_avg_model | 3 | -142.73 |\n",
       "\n"
      ],
      "text/plain": [
       "              df AIC    \n",
       "low_model     3  -125.43\n",
       "low_avg_model 3  -142.73"
      ]
     },
     "metadata": {},
     "output_type": "display_data"
    }
   ],
   "source": [
    "aic <- AIC(low_model, low_avg_model)\n",
    "aic"
   ]
  },
  {
   "cell_type": "code",
   "execution_count": 345,
   "id": "e22a17a5-8af8-473b-a0ec-8353cf091f77",
   "metadata": {},
   "outputs": [
    {
     "name": "stderr",
     "output_type": "stream",
     "text": [
      "\u001b[1m\u001b[22m`geom_smooth()` using formula = 'y ~ x'\n"
     ]
    },
    {
     "data": {
      "image/png": "[encoded data removed]",
      "text/plain": [
       "plot without title"
      ]
     },
     "metadata": {
      "image/png": {
       "height": 420,
       "width": 420
      }
     },
     "output_type": "display_data"
    }
   ],
   "source": [
    "# Plot the data with the regression line\n",
    "ggplot(low_long, aes(x = od, y = conc, color = rep)) +\n",
    "       geom_point() +\n",
    "       geom_smooth(method = \"lm\", se = FALSE)"
   ]
  },
  {
   "cell_type": "code",
   "execution_count": 346,
   "id": "37b3405b-760f-4385-95ac-a792b2b471d4",
   "metadata": {},
   "outputs": [
    {
     "name": "stderr",
     "output_type": "stream",
     "text": [
      "\u001b[1m\u001b[22m`geom_smooth()` using formula = 'y ~ x'\n"
     ]
    },
    {
     "data": {
      "image/png": "[encoded data removed]",
      "text/plain": [
       "plot without title"
      ]
     },
     "metadata": {
      "image/png": {
       "height": 420,
       "width": 420
      }
     },
     "output_type": "display_data"
    }
   ],
   "source": [
    "ggplot(low_long, aes(x = avg_od, y = conc)) + \n",
    "  geom_point() +  # Plot the average OD\n",
    "  geom_errorbarh(aes(xmin = avg_od - sd, xmax = avg_od + sd)) +  # Add horizontal error bars\n",
    "  geom_smooth(method = \"lm\", se = FALSE, linetype = \"solid\") +  # Add regression line\n",
    "  theme_minimal()"
   ]
  },
  {
   "cell_type": "markdown",
   "id": "8687fa6e-2500-4105-9ded-aafdea1feff6",
   "metadata": {},
   "source": [
    "## Samples and QC from low standard curve "
   ]
  },
  {
   "cell_type": "code",
   "execution_count": 347,
   "id": "94095944-7b68-463b-a0ab-50f335bfb0ec",
   "metadata": {},
   "outputs": [
    {
     "data": {
      "text/html": [
       "<table class=\"dataframe\">\n",
       "<caption>A tibble: 5 × 4</caption>\n",
       "<thead>\n",
       "\t<tr><th scope=col>sample</th><th scope=col>avg_od</th><th scope=col>predicted_avg_conc</th><th scope=col>actual_conc</th></tr>\n",
       "\t<tr><th scope=col>&lt;chr&gt;</th><th scope=col>&lt;dbl&gt;</th><th scope=col>&lt;dbl&gt;</th><th scope=col>&lt;chr&gt;</th></tr>\n",
       "</thead>\n",
       "<tbody>\n",
       "\t<tr><td>qc1 </td><td>0.845800</td><td>0.4397329</td><td>1   </td></tr>\n",
       "\t<tr><td>qc2 </td><td>0.481400</td><td>0.2348469</td><td>0.5 </td></tr>\n",
       "\t<tr><td>qc3 </td><td>0.120400</td><td>0.0318726</td><td>0.05</td></tr>\n",
       "\t<tr><td>s123</td><td>0.073167</td><td>0.0053153</td><td>NA  </td></tr>\n",
       "\t<tr><td>s159</td><td>0.069333</td><td>0.0031600</td><td>NA  </td></tr>\n",
       "</tbody>\n",
       "</table>\n"
      ],
      "text/latex": [
       "A tibble: 5 × 4\n",
       "\\begin{tabular}{llll}\n",
       " sample & avg\\_od & predicted\\_avg\\_conc & actual\\_conc\\\\\n",
       " <chr> & <dbl> & <dbl> & <chr>\\\\\n",
       "\\hline\n",
       "\t qc1  & 0.845800 & 0.4397329 & 1   \\\\\n",
       "\t qc2  & 0.481400 & 0.2348469 & 0.5 \\\\\n",
       "\t qc3  & 0.120400 & 0.0318726 & 0.05\\\\\n",
       "\t s123 & 0.073167 & 0.0053153 & NA  \\\\\n",
       "\t s159 & 0.069333 & 0.0031600 & NA  \\\\\n",
       "\\end{tabular}\n"
      ],
      "text/markdown": [
       "\n",
       "A tibble: 5 × 4\n",
       "\n",
       "| sample &lt;chr&gt; | avg_od &lt;dbl&gt; | predicted_avg_conc &lt;dbl&gt; | actual_conc &lt;chr&gt; |\n",
       "|---|---|---|---|\n",
       "| qc1  | 0.845800 | 0.4397329 | 1    |\n",
       "| qc2  | 0.481400 | 0.2348469 | 0.5  |\n",
       "| qc3  | 0.120400 | 0.0318726 | 0.05 |\n",
       "| s123 | 0.073167 | 0.0053153 | NA   |\n",
       "| s159 | 0.069333 | 0.0031600 | NA   |\n",
       "\n"
      ],
      "text/plain": [
       "  sample avg_od   predicted_avg_conc actual_conc\n",
       "1 qc1    0.845800 0.4397329          1          \n",
       "2 qc2    0.481400 0.2348469          0.5        \n",
       "3 qc3    0.120400 0.0318726          0.05       \n",
       "4 s123   0.073167 0.0053153          NA         \n",
       "5 s159   0.069333 0.0031600          NA         "
      ]
     },
     "metadata": {},
     "output_type": "display_data"
    }
   ],
   "source": [
    "sample_avg"
   ]
  },
  {
   "cell_type": "code",
   "execution_count": 348,
   "id": "5140f5ab-0abf-4d15-8946-19530b21dfdf",
   "metadata": {},
   "outputs": [],
   "source": [
    "# pull out sample data (samples, QCs, blanks) and use stnd curve to calculate concentrations"
   ]
  },
  {
   "cell_type": "code",
   "execution_count": 349,
   "id": "5ceca172-345e-4556-b409-028a6ba70086",
   "metadata": {},
   "outputs": [
    {
     "data": {
      "text/html": [
       "<table class=\"dataframe\">\n",
       "<caption>A tibble: 12 × 3</caption>\n",
       "<thead>\n",
       "\t<tr><th scope=col>sample</th><th scope=col>rep</th><th scope=col>od</th></tr>\n",
       "\t<tr><th scope=col>&lt;chr&gt;</th><th scope=col>&lt;chr&gt;</th><th scope=col>&lt;dbl&gt;</th></tr>\n",
       "</thead>\n",
       "<tbody>\n",
       "\t<tr><td>s123</td><td>1</td><td>0.074</td></tr>\n",
       "\t<tr><td>s123</td><td>2</td><td>0.072</td></tr>\n",
       "\t<tr><td>s123</td><td>3</td><td>0.070</td></tr>\n",
       "\t<tr><td>s123</td><td>1</td><td>0.080</td></tr>\n",
       "\t<tr><td>s123</td><td>2</td><td>0.071</td></tr>\n",
       "\t<tr><td>s123</td><td>3</td><td>0.072</td></tr>\n",
       "\t<tr><td>s159</td><td>1</td><td>0.071</td></tr>\n",
       "\t<tr><td>s159</td><td>2</td><td>0.071</td></tr>\n",
       "\t<tr><td>s159</td><td>3</td><td>0.073</td></tr>\n",
       "\t<tr><td>s159</td><td>1</td><td>0.068</td></tr>\n",
       "\t<tr><td>s159</td><td>2</td><td>0.066</td></tr>\n",
       "\t<tr><td>s159</td><td>3</td><td>0.067</td></tr>\n",
       "</tbody>\n",
       "</table>\n"
      ],
      "text/latex": [
       "A tibble: 12 × 3\n",
       "\\begin{tabular}{lll}\n",
       " sample & rep & od\\\\\n",
       " <chr> & <chr> & <dbl>\\\\\n",
       "\\hline\n",
       "\t s123 & 1 & 0.074\\\\\n",
       "\t s123 & 2 & 0.072\\\\\n",
       "\t s123 & 3 & 0.070\\\\\n",
       "\t s123 & 1 & 0.080\\\\\n",
       "\t s123 & 2 & 0.071\\\\\n",
       "\t s123 & 3 & 0.072\\\\\n",
       "\t s159 & 1 & 0.071\\\\\n",
       "\t s159 & 2 & 0.071\\\\\n",
       "\t s159 & 3 & 0.073\\\\\n",
       "\t s159 & 1 & 0.068\\\\\n",
       "\t s159 & 2 & 0.066\\\\\n",
       "\t s159 & 3 & 0.067\\\\\n",
       "\\end{tabular}\n"
      ],
      "text/markdown": [
       "\n",
       "A tibble: 12 × 3\n",
       "\n",
       "| sample &lt;chr&gt; | rep &lt;chr&gt; | od &lt;dbl&gt; |\n",
       "|---|---|---|\n",
       "| s123 | 1 | 0.074 |\n",
       "| s123 | 2 | 0.072 |\n",
       "| s123 | 3 | 0.070 |\n",
       "| s123 | 1 | 0.080 |\n",
       "| s123 | 2 | 0.071 |\n",
       "| s123 | 3 | 0.072 |\n",
       "| s159 | 1 | 0.071 |\n",
       "| s159 | 2 | 0.071 |\n",
       "| s159 | 3 | 0.073 |\n",
       "| s159 | 1 | 0.068 |\n",
       "| s159 | 2 | 0.066 |\n",
       "| s159 | 3 | 0.067 |\n",
       "\n"
      ],
      "text/plain": [
       "   sample rep od   \n",
       "1  s123   1   0.074\n",
       "2  s123   2   0.072\n",
       "3  s123   3   0.070\n",
       "4  s123   1   0.080\n",
       "5  s123   2   0.071\n",
       "6  s123   3   0.072\n",
       "7  s159   1   0.071\n",
       "8  s159   2   0.071\n",
       "9  s159   3   0.073\n",
       "10 s159   1   0.068\n",
       "11 s159   2   0.066\n",
       "12 s159   3   0.067"
      ]
     },
     "metadata": {},
     "output_type": "display_data"
    }
   ],
   "source": [
    "# samples\n",
    "#S123: C & D 1-3 \n",
    "#S159: C & D 4-6\n",
    "\n",
    "s123 <- raw[c(\"c\", \"d\"),1:3] %>%\n",
    "    mutate(sample = 's123')\n",
    "s159 <- raw[c(\"c\", \"d\"),4:6] %>% \n",
    "    mutate(sample = 's159') \n",
    "names(s159) <- c(1,2,3,'sample')\n",
    "samples <- rbind(s123, s159) %>%\n",
    "    pivot_longer(cols = 1:3,\n",
    "                names_to = 'rep',\n",
    "                 values_to = 'od')\n",
    "samples"
   ]
  },
  {
   "cell_type": "code",
   "execution_count": 350,
   "id": "94aa7012-91c2-46e8-8a62-28265f01e8c4",
   "metadata": {
    "scrolled": true
   },
   "outputs": [
    {
     "data": {
      "text/html": [
       "<table class=\"dataframe\">\n",
       "<caption>A data.frame: 15 × 3</caption>\n",
       "<thead>\n",
       "\t<tr><th scope=col>rep</th><th scope=col>od</th><th scope=col>sample</th></tr>\n",
       "\t<tr><th scope=col>&lt;dbl&gt;</th><th scope=col>&lt;dbl&gt;</th><th scope=col>&lt;chr&gt;</th></tr>\n",
       "</thead>\n",
       "<tbody>\n",
       "\t<tr><td>1</td><td>0.847</td><td>qc1</td></tr>\n",
       "\t<tr><td>2</td><td>0.846</td><td>qc1</td></tr>\n",
       "\t<tr><td>3</td><td>0.848</td><td>qc1</td></tr>\n",
       "\t<tr><td>4</td><td>0.842</td><td>qc1</td></tr>\n",
       "\t<tr><td>5</td><td>0.846</td><td>qc1</td></tr>\n",
       "\t<tr><td>1</td><td>0.474</td><td>qc2</td></tr>\n",
       "\t<tr><td>2</td><td>0.484</td><td>qc2</td></tr>\n",
       "\t<tr><td>3</td><td>0.485</td><td>qc2</td></tr>\n",
       "\t<tr><td>4</td><td>0.486</td><td>qc2</td></tr>\n",
       "\t<tr><td>5</td><td>0.478</td><td>qc2</td></tr>\n",
       "\t<tr><td>1</td><td>0.125</td><td>qc3</td></tr>\n",
       "\t<tr><td>2</td><td>0.118</td><td>qc3</td></tr>\n",
       "\t<tr><td>3</td><td>0.121</td><td>qc3</td></tr>\n",
       "\t<tr><td>4</td><td>0.119</td><td>qc3</td></tr>\n",
       "\t<tr><td>5</td><td>0.119</td><td>qc3</td></tr>\n",
       "</tbody>\n",
       "</table>\n"
      ],
      "text/latex": [
       "A data.frame: 15 × 3\n",
       "\\begin{tabular}{lll}\n",
       " rep & od & sample\\\\\n",
       " <dbl> & <dbl> & <chr>\\\\\n",
       "\\hline\n",
       "\t 1 & 0.847 & qc1\\\\\n",
       "\t 2 & 0.846 & qc1\\\\\n",
       "\t 3 & 0.848 & qc1\\\\\n",
       "\t 4 & 0.842 & qc1\\\\\n",
       "\t 5 & 0.846 & qc1\\\\\n",
       "\t 1 & 0.474 & qc2\\\\\n",
       "\t 2 & 0.484 & qc2\\\\\n",
       "\t 3 & 0.485 & qc2\\\\\n",
       "\t 4 & 0.486 & qc2\\\\\n",
       "\t 5 & 0.478 & qc2\\\\\n",
       "\t 1 & 0.125 & qc3\\\\\n",
       "\t 2 & 0.118 & qc3\\\\\n",
       "\t 3 & 0.121 & qc3\\\\\n",
       "\t 4 & 0.119 & qc3\\\\\n",
       "\t 5 & 0.119 & qc3\\\\\n",
       "\\end{tabular}\n"
      ],
      "text/markdown": [
       "\n",
       "A data.frame: 15 × 3\n",
       "\n",
       "| rep &lt;dbl&gt; | od &lt;dbl&gt; | sample &lt;chr&gt; |\n",
       "|---|---|---|\n",
       "| 1 | 0.847 | qc1 |\n",
       "| 2 | 0.846 | qc1 |\n",
       "| 3 | 0.848 | qc1 |\n",
       "| 4 | 0.842 | qc1 |\n",
       "| 5 | 0.846 | qc1 |\n",
       "| 1 | 0.474 | qc2 |\n",
       "| 2 | 0.484 | qc2 |\n",
       "| 3 | 0.485 | qc2 |\n",
       "| 4 | 0.486 | qc2 |\n",
       "| 5 | 0.478 | qc2 |\n",
       "| 1 | 0.125 | qc3 |\n",
       "| 2 | 0.118 | qc3 |\n",
       "| 3 | 0.121 | qc3 |\n",
       "| 4 | 0.119 | qc3 |\n",
       "| 5 | 0.119 | qc3 |\n",
       "\n"
      ],
      "text/plain": [
       "   rep od    sample\n",
       "1  1   0.847 qc1   \n",
       "2  2   0.846 qc1   \n",
       "3  3   0.848 qc1   \n",
       "4  4   0.842 qc1   \n",
       "5  5   0.846 qc1   \n",
       "6  1   0.474 qc2   \n",
       "7  2   0.484 qc2   \n",
       "8  3   0.485 qc2   \n",
       "9  4   0.486 qc2   \n",
       "10 5   0.478 qc2   \n",
       "11 1   0.125 qc3   \n",
       "12 2   0.118 qc3   \n",
       "13 3   0.121 qc3   \n",
       "14 4   0.119 qc3   \n",
       "15 5   0.119 qc3   "
      ]
     },
     "metadata": {},
     "output_type": "display_data"
    }
   ],
   "source": [
    "# QC1 (1ppm): A,B,E,F 9 & C7 \n",
    "# QC2 (0.5 ppm): A,B,E,F 10 & D7 \n",
    "# QC3 (0.05 ppm): A,B,E,F 11 & C8\n",
    "\n",
    "qc1 <- data.frame(\n",
    "  rep = c(1, 2, 3, 4, 5), # Replicate numbers\n",
    "  od = c(raw[\"a\", 9], raw[\"b\", 9], raw[\"e\", 9], raw[\"f\", 9], raw[\"c\", 7]), # Extract specific values\n",
    "  sample = \"qc1\"\n",
    ")\n",
    "\n",
    "qc2 <- data.frame(\n",
    "  rep = c(1, 2, 3, 4, 5),\n",
    "  od = c(raw[\"a\", 10], raw[\"b\", 10], raw[\"e\", 10], raw[\"f\", 10], raw[\"d\", 7]),\n",
    "  sample = \"qc2\" \n",
    ")\n",
    "\n",
    "qc3 <- data.frame(\n",
    "  rep = c(1, 2, 3, 4, 5), \n",
    "  od = c(raw[\"a\", 11], raw[\"b\", 11], raw[\"e\", 11], raw[\"f\", 11], raw[\"c\", 8]), \n",
    "  sample = \"qc3\" \n",
    ")\n",
    "\n",
    "# Combine\n",
    "qc_long <- bind_rows(qc1, qc2, qc3)\n",
    "qc_long"
   ]
  },
  {
   "cell_type": "code",
   "execution_count": 351,
   "id": "7d9de043-d70a-414c-b0a2-d51fb8f9e07a",
   "metadata": {},
   "outputs": [
    {
     "data": {
      "text/html": [
       "<table class=\"dataframe\">\n",
       "<caption>A data.frame: 11 × 3</caption>\n",
       "<thead>\n",
       "\t<tr><th scope=col>rep</th><th scope=col>od</th><th scope=col>sample</th></tr>\n",
       "\t<tr><th scope=col>&lt;int&gt;</th><th scope=col>&lt;dbl&gt;</th><th scope=col>&lt;chr&gt;</th></tr>\n",
       "</thead>\n",
       "<tbody>\n",
       "\t<tr><td> 1</td><td>0.066</td><td>blank</td></tr>\n",
       "\t<tr><td> 2</td><td>0.064</td><td>blank</td></tr>\n",
       "\t<tr><td> 3</td><td>0.064</td><td>blank</td></tr>\n",
       "\t<tr><td> 4</td><td>0.064</td><td>blank</td></tr>\n",
       "\t<tr><td> 5</td><td>0.067</td><td>blank</td></tr>\n",
       "\t<tr><td> 6</td><td>0.066</td><td>blank</td></tr>\n",
       "\t<tr><td> 7</td><td>0.064</td><td>blank</td></tr>\n",
       "\t<tr><td> 8</td><td>0.065</td><td>blank</td></tr>\n",
       "\t<tr><td> 9</td><td>0.064</td><td>blank</td></tr>\n",
       "\t<tr><td>10</td><td>0.064</td><td>blank</td></tr>\n",
       "\t<tr><td>11</td><td>0.064</td><td>blank</td></tr>\n",
       "</tbody>\n",
       "</table>\n"
      ],
      "text/latex": [
       "A data.frame: 11 × 3\n",
       "\\begin{tabular}{lll}\n",
       " rep & od & sample\\\\\n",
       " <int> & <dbl> & <chr>\\\\\n",
       "\\hline\n",
       "\t  1 & 0.066 & blank\\\\\n",
       "\t  2 & 0.064 & blank\\\\\n",
       "\t  3 & 0.064 & blank\\\\\n",
       "\t  4 & 0.064 & blank\\\\\n",
       "\t  5 & 0.067 & blank\\\\\n",
       "\t  6 & 0.066 & blank\\\\\n",
       "\t  7 & 0.064 & blank\\\\\n",
       "\t  8 & 0.065 & blank\\\\\n",
       "\t  9 & 0.064 & blank\\\\\n",
       "\t 10 & 0.064 & blank\\\\\n",
       "\t 11 & 0.064 & blank\\\\\n",
       "\\end{tabular}\n"
      ],
      "text/markdown": [
       "\n",
       "A data.frame: 11 × 3\n",
       "\n",
       "| rep &lt;int&gt; | od &lt;dbl&gt; | sample &lt;chr&gt; |\n",
       "|---|---|---|\n",
       "|  1 | 0.066 | blank |\n",
       "|  2 | 0.064 | blank |\n",
       "|  3 | 0.064 | blank |\n",
       "|  4 | 0.064 | blank |\n",
       "|  5 | 0.067 | blank |\n",
       "|  6 | 0.066 | blank |\n",
       "|  7 | 0.064 | blank |\n",
       "|  8 | 0.065 | blank |\n",
       "|  9 | 0.064 | blank |\n",
       "| 10 | 0.064 | blank |\n",
       "| 11 | 0.064 | blank |\n",
       "\n"
      ],
      "text/plain": [
       "   rep od    sample\n",
       "1   1  0.066 blank \n",
       "2   2  0.064 blank \n",
       "3   3  0.064 blank \n",
       "4   4  0.064 blank \n",
       "5   5  0.067 blank \n",
       "6   6  0.066 blank \n",
       "7   7  0.064 blank \n",
       "8   8  0.065 blank \n",
       "9   9  0.064 blank \n",
       "10 10  0.064 blank \n",
       "11 11  0.064 blank "
      ]
     },
     "metadata": {},
     "output_type": "display_data"
    }
   ],
   "source": [
    "#blanks \n",
    "# A,B,D, E, F 8\n",
    "# C 9-11\n",
    "# D 9-11\n",
    "blanks <- data.frame(\n",
    "  rep = c(seq(1:11)), # Replicate numbers\n",
    "  od = c(raw[\"a\", 8], raw[\"b\", 8],  raw[\"d\", 8], raw[\"e\", 8], raw[\"f\", 8], \n",
    "         raw[\"c\", 9], raw[\"d\", 9], raw[\"c\", 10], raw[\"d\", 10], raw[\"c\", 11], raw[\"d\", 11]),\n",
    "  sample = \"blank\"\n",
    ")\n",
    "blanks  "
   ]
  },
  {
   "cell_type": "code",
   "execution_count": 352,
   "id": "12b68a12-ca1e-4873-9454-3726a3ddb03b",
   "metadata": {
    "scrolled": true
   },
   "outputs": [],
   "source": [
    "samples<-rbind(samples, qc_long)\n",
    "samples<-rbind(samples, blanks)"
   ]
  },
  {
   "cell_type": "code",
   "execution_count": 353,
   "id": "c5607a82-2d17-4de7-b2ca-0400e6bfa1a2",
   "metadata": {
    "scrolled": true
   },
   "outputs": [
    {
     "data": {
      "text/html": [
       "<table class=\"dataframe\">\n",
       "<caption>A tibble: 38 × 5</caption>\n",
       "<thead>\n",
       "\t<tr><th scope=col>sample</th><th scope=col>rep</th><th scope=col>od</th><th scope=col>avg_od</th><th scope=col>sd_od</th></tr>\n",
       "\t<tr><th scope=col>&lt;chr&gt;</th><th scope=col>&lt;chr&gt;</th><th scope=col>&lt;dbl&gt;</th><th scope=col>&lt;dbl&gt;</th><th scope=col>&lt;dbl&gt;</th></tr>\n",
       "</thead>\n",
       "<tbody>\n",
       "\t<tr><td>s123 </td><td>1 </td><td>0.074</td><td>0.073167</td><td>0.0036009</td></tr>\n",
       "\t<tr><td>s123 </td><td>2 </td><td>0.072</td><td>0.073167</td><td>0.0036009</td></tr>\n",
       "\t<tr><td>s123 </td><td>3 </td><td>0.070</td><td>0.073167</td><td>0.0036009</td></tr>\n",
       "\t<tr><td>s123 </td><td>1 </td><td>0.080</td><td>0.073167</td><td>0.0036009</td></tr>\n",
       "\t<tr><td>s123 </td><td>2 </td><td>0.071</td><td>0.073167</td><td>0.0036009</td></tr>\n",
       "\t<tr><td>s123 </td><td>3 </td><td>0.072</td><td>0.073167</td><td>0.0036009</td></tr>\n",
       "\t<tr><td>s159 </td><td>1 </td><td>0.071</td><td>0.069333</td><td>0.0027325</td></tr>\n",
       "\t<tr><td>s159 </td><td>2 </td><td>0.071</td><td>0.069333</td><td>0.0027325</td></tr>\n",
       "\t<tr><td>s159 </td><td>3 </td><td>0.073</td><td>0.069333</td><td>0.0027325</td></tr>\n",
       "\t<tr><td>s159 </td><td>1 </td><td>0.068</td><td>0.069333</td><td>0.0027325</td></tr>\n",
       "\t<tr><td>s159 </td><td>2 </td><td>0.066</td><td>0.069333</td><td>0.0027325</td></tr>\n",
       "\t<tr><td>s159 </td><td>3 </td><td>0.067</td><td>0.069333</td><td>0.0027325</td></tr>\n",
       "\t<tr><td>qc1  </td><td>1 </td><td>0.847</td><td>0.845800</td><td>0.0022804</td></tr>\n",
       "\t<tr><td>qc1  </td><td>2 </td><td>0.846</td><td>0.845800</td><td>0.0022804</td></tr>\n",
       "\t<tr><td>qc1  </td><td>3 </td><td>0.848</td><td>0.845800</td><td>0.0022804</td></tr>\n",
       "\t<tr><td>qc1  </td><td>4 </td><td>0.842</td><td>0.845800</td><td>0.0022804</td></tr>\n",
       "\t<tr><td>qc1  </td><td>5 </td><td>0.846</td><td>0.845800</td><td>0.0022804</td></tr>\n",
       "\t<tr><td>qc2  </td><td>1 </td><td>0.474</td><td>0.481400</td><td>0.0051769</td></tr>\n",
       "\t<tr><td>qc2  </td><td>2 </td><td>0.484</td><td>0.481400</td><td>0.0051769</td></tr>\n",
       "\t<tr><td>qc2  </td><td>3 </td><td>0.485</td><td>0.481400</td><td>0.0051769</td></tr>\n",
       "\t<tr><td>qc2  </td><td>4 </td><td>0.486</td><td>0.481400</td><td>0.0051769</td></tr>\n",
       "\t<tr><td>qc2  </td><td>5 </td><td>0.478</td><td>0.481400</td><td>0.0051769</td></tr>\n",
       "\t<tr><td>qc3  </td><td>1 </td><td>0.125</td><td>0.120400</td><td>0.0027928</td></tr>\n",
       "\t<tr><td>qc3  </td><td>2 </td><td>0.118</td><td>0.120400</td><td>0.0027928</td></tr>\n",
       "\t<tr><td>qc3  </td><td>3 </td><td>0.121</td><td>0.120400</td><td>0.0027928</td></tr>\n",
       "\t<tr><td>qc3  </td><td>4 </td><td>0.119</td><td>0.120400</td><td>0.0027928</td></tr>\n",
       "\t<tr><td>qc3  </td><td>5 </td><td>0.119</td><td>0.120400</td><td>0.0027928</td></tr>\n",
       "\t<tr><td>blank</td><td>1 </td><td>0.066</td><td>0.064727</td><td>0.0011037</td></tr>\n",
       "\t<tr><td>blank</td><td>2 </td><td>0.064</td><td>0.064727</td><td>0.0011037</td></tr>\n",
       "\t<tr><td>blank</td><td>3 </td><td>0.064</td><td>0.064727</td><td>0.0011037</td></tr>\n",
       "\t<tr><td>blank</td><td>4 </td><td>0.064</td><td>0.064727</td><td>0.0011037</td></tr>\n",
       "\t<tr><td>blank</td><td>5 </td><td>0.067</td><td>0.064727</td><td>0.0011037</td></tr>\n",
       "\t<tr><td>blank</td><td>6 </td><td>0.066</td><td>0.064727</td><td>0.0011037</td></tr>\n",
       "\t<tr><td>blank</td><td>7 </td><td>0.064</td><td>0.064727</td><td>0.0011037</td></tr>\n",
       "\t<tr><td>blank</td><td>8 </td><td>0.065</td><td>0.064727</td><td>0.0011037</td></tr>\n",
       "\t<tr><td>blank</td><td>9 </td><td>0.064</td><td>0.064727</td><td>0.0011037</td></tr>\n",
       "\t<tr><td>blank</td><td>10</td><td>0.064</td><td>0.064727</td><td>0.0011037</td></tr>\n",
       "\t<tr><td>blank</td><td>11</td><td>0.064</td><td>0.064727</td><td>0.0011037</td></tr>\n",
       "</tbody>\n",
       "</table>\n"
      ],
      "text/latex": [
       "A tibble: 38 × 5\n",
       "\\begin{tabular}{lllll}\n",
       " sample & rep & od & avg\\_od & sd\\_od\\\\\n",
       " <chr> & <chr> & <dbl> & <dbl> & <dbl>\\\\\n",
       "\\hline\n",
       "\t s123  & 1  & 0.074 & 0.073167 & 0.0036009\\\\\n",
       "\t s123  & 2  & 0.072 & 0.073167 & 0.0036009\\\\\n",
       "\t s123  & 3  & 0.070 & 0.073167 & 0.0036009\\\\\n",
       "\t s123  & 1  & 0.080 & 0.073167 & 0.0036009\\\\\n",
       "\t s123  & 2  & 0.071 & 0.073167 & 0.0036009\\\\\n",
       "\t s123  & 3  & 0.072 & 0.073167 & 0.0036009\\\\\n",
       "\t s159  & 1  & 0.071 & 0.069333 & 0.0027325\\\\\n",
       "\t s159  & 2  & 0.071 & 0.069333 & 0.0027325\\\\\n",
       "\t s159  & 3  & 0.073 & 0.069333 & 0.0027325\\\\\n",
       "\t s159  & 1  & 0.068 & 0.069333 & 0.0027325\\\\\n",
       "\t s159  & 2  & 0.066 & 0.069333 & 0.0027325\\\\\n",
       "\t s159  & 3  & 0.067 & 0.069333 & 0.0027325\\\\\n",
       "\t qc1   & 1  & 0.847 & 0.845800 & 0.0022804\\\\\n",
       "\t qc1   & 2  & 0.846 & 0.845800 & 0.0022804\\\\\n",
       "\t qc1   & 3  & 0.848 & 0.845800 & 0.0022804\\\\\n",
       "\t qc1   & 4  & 0.842 & 0.845800 & 0.0022804\\\\\n",
       "\t qc1   & 5  & 0.846 & 0.845800 & 0.0022804\\\\\n",
       "\t qc2   & 1  & 0.474 & 0.481400 & 0.0051769\\\\\n",
       "\t qc2   & 2  & 0.484 & 0.481400 & 0.0051769\\\\\n",
       "\t qc2   & 3  & 0.485 & 0.481400 & 0.0051769\\\\\n",
       "\t qc2   & 4  & 0.486 & 0.481400 & 0.0051769\\\\\n",
       "\t qc2   & 5  & 0.478 & 0.481400 & 0.0051769\\\\\n",
       "\t qc3   & 1  & 0.125 & 0.120400 & 0.0027928\\\\\n",
       "\t qc3   & 2  & 0.118 & 0.120400 & 0.0027928\\\\\n",
       "\t qc3   & 3  & 0.121 & 0.120400 & 0.0027928\\\\\n",
       "\t qc3   & 4  & 0.119 & 0.120400 & 0.0027928\\\\\n",
       "\t qc3   & 5  & 0.119 & 0.120400 & 0.0027928\\\\\n",
       "\t blank & 1  & 0.066 & 0.064727 & 0.0011037\\\\\n",
       "\t blank & 2  & 0.064 & 0.064727 & 0.0011037\\\\\n",
       "\t blank & 3  & 0.064 & 0.064727 & 0.0011037\\\\\n",
       "\t blank & 4  & 0.064 & 0.064727 & 0.0011037\\\\\n",
       "\t blank & 5  & 0.067 & 0.064727 & 0.0011037\\\\\n",
       "\t blank & 6  & 0.066 & 0.064727 & 0.0011037\\\\\n",
       "\t blank & 7  & 0.064 & 0.064727 & 0.0011037\\\\\n",
       "\t blank & 8  & 0.065 & 0.064727 & 0.0011037\\\\\n",
       "\t blank & 9  & 0.064 & 0.064727 & 0.0011037\\\\\n",
       "\t blank & 10 & 0.064 & 0.064727 & 0.0011037\\\\\n",
       "\t blank & 11 & 0.064 & 0.064727 & 0.0011037\\\\\n",
       "\\end{tabular}\n"
      ],
      "text/markdown": [
       "\n",
       "A tibble: 38 × 5\n",
       "\n",
       "| sample &lt;chr&gt; | rep &lt;chr&gt; | od &lt;dbl&gt; | avg_od &lt;dbl&gt; | sd_od &lt;dbl&gt; |\n",
       "|---|---|---|---|---|\n",
       "| s123  | 1  | 0.074 | 0.073167 | 0.0036009 |\n",
       "| s123  | 2  | 0.072 | 0.073167 | 0.0036009 |\n",
       "| s123  | 3  | 0.070 | 0.073167 | 0.0036009 |\n",
       "| s123  | 1  | 0.080 | 0.073167 | 0.0036009 |\n",
       "| s123  | 2  | 0.071 | 0.073167 | 0.0036009 |\n",
       "| s123  | 3  | 0.072 | 0.073167 | 0.0036009 |\n",
       "| s159  | 1  | 0.071 | 0.069333 | 0.0027325 |\n",
       "| s159  | 2  | 0.071 | 0.069333 | 0.0027325 |\n",
       "| s159  | 3  | 0.073 | 0.069333 | 0.0027325 |\n",
       "| s159  | 1  | 0.068 | 0.069333 | 0.0027325 |\n",
       "| s159  | 2  | 0.066 | 0.069333 | 0.0027325 |\n",
       "| s159  | 3  | 0.067 | 0.069333 | 0.0027325 |\n",
       "| qc1   | 1  | 0.847 | 0.845800 | 0.0022804 |\n",
       "| qc1   | 2  | 0.846 | 0.845800 | 0.0022804 |\n",
       "| qc1   | 3  | 0.848 | 0.845800 | 0.0022804 |\n",
       "| qc1   | 4  | 0.842 | 0.845800 | 0.0022804 |\n",
       "| qc1   | 5  | 0.846 | 0.845800 | 0.0022804 |\n",
       "| qc2   | 1  | 0.474 | 0.481400 | 0.0051769 |\n",
       "| qc2   | 2  | 0.484 | 0.481400 | 0.0051769 |\n",
       "| qc2   | 3  | 0.485 | 0.481400 | 0.0051769 |\n",
       "| qc2   | 4  | 0.486 | 0.481400 | 0.0051769 |\n",
       "| qc2   | 5  | 0.478 | 0.481400 | 0.0051769 |\n",
       "| qc3   | 1  | 0.125 | 0.120400 | 0.0027928 |\n",
       "| qc3   | 2  | 0.118 | 0.120400 | 0.0027928 |\n",
       "| qc3   | 3  | 0.121 | 0.120400 | 0.0027928 |\n",
       "| qc3   | 4  | 0.119 | 0.120400 | 0.0027928 |\n",
       "| qc3   | 5  | 0.119 | 0.120400 | 0.0027928 |\n",
       "| blank | 1  | 0.066 | 0.064727 | 0.0011037 |\n",
       "| blank | 2  | 0.064 | 0.064727 | 0.0011037 |\n",
       "| blank | 3  | 0.064 | 0.064727 | 0.0011037 |\n",
       "| blank | 4  | 0.064 | 0.064727 | 0.0011037 |\n",
       "| blank | 5  | 0.067 | 0.064727 | 0.0011037 |\n",
       "| blank | 6  | 0.066 | 0.064727 | 0.0011037 |\n",
       "| blank | 7  | 0.064 | 0.064727 | 0.0011037 |\n",
       "| blank | 8  | 0.065 | 0.064727 | 0.0011037 |\n",
       "| blank | 9  | 0.064 | 0.064727 | 0.0011037 |\n",
       "| blank | 10 | 0.064 | 0.064727 | 0.0011037 |\n",
       "| blank | 11 | 0.064 | 0.064727 | 0.0011037 |\n",
       "\n"
      ],
      "text/plain": [
       "   sample rep od    avg_od   sd_od    \n",
       "1  s123   1   0.074 0.073167 0.0036009\n",
       "2  s123   2   0.072 0.073167 0.0036009\n",
       "3  s123   3   0.070 0.073167 0.0036009\n",
       "4  s123   1   0.080 0.073167 0.0036009\n",
       "5  s123   2   0.071 0.073167 0.0036009\n",
       "6  s123   3   0.072 0.073167 0.0036009\n",
       "7  s159   1   0.071 0.069333 0.0027325\n",
       "8  s159   2   0.071 0.069333 0.0027325\n",
       "9  s159   3   0.073 0.069333 0.0027325\n",
       "10 s159   1   0.068 0.069333 0.0027325\n",
       "11 s159   2   0.066 0.069333 0.0027325\n",
       "12 s159   3   0.067 0.069333 0.0027325\n",
       "13 qc1    1   0.847 0.845800 0.0022804\n",
       "14 qc1    2   0.846 0.845800 0.0022804\n",
       "15 qc1    3   0.848 0.845800 0.0022804\n",
       "16 qc1    4   0.842 0.845800 0.0022804\n",
       "17 qc1    5   0.846 0.845800 0.0022804\n",
       "18 qc2    1   0.474 0.481400 0.0051769\n",
       "19 qc2    2   0.484 0.481400 0.0051769\n",
       "20 qc2    3   0.485 0.481400 0.0051769\n",
       "21 qc2    4   0.486 0.481400 0.0051769\n",
       "22 qc2    5   0.478 0.481400 0.0051769\n",
       "23 qc3    1   0.125 0.120400 0.0027928\n",
       "24 qc3    2   0.118 0.120400 0.0027928\n",
       "25 qc3    3   0.121 0.120400 0.0027928\n",
       "26 qc3    4   0.119 0.120400 0.0027928\n",
       "27 qc3    5   0.119 0.120400 0.0027928\n",
       "28 blank  1   0.066 0.064727 0.0011037\n",
       "29 blank  2   0.064 0.064727 0.0011037\n",
       "30 blank  3   0.064 0.064727 0.0011037\n",
       "31 blank  4   0.064 0.064727 0.0011037\n",
       "32 blank  5   0.067 0.064727 0.0011037\n",
       "33 blank  6   0.066 0.064727 0.0011037\n",
       "34 blank  7   0.064 0.064727 0.0011037\n",
       "35 blank  8   0.065 0.064727 0.0011037\n",
       "36 blank  9   0.064 0.064727 0.0011037\n",
       "37 blank  10  0.064 0.064727 0.0011037\n",
       "38 blank  11  0.064 0.064727 0.0011037"
      ]
     },
     "metadata": {},
     "output_type": "display_data"
    }
   ],
   "source": [
    "samples <- samples %>%\n",
    "    group_by(sample) %>%\n",
    "    mutate(avg_od = mean(od)) %>% # Calculate mean within each group and add it as a new column\n",
    "    mutate(sd_od = sd(od)) %>%\n",
    "    ungroup() # Remove grouping for subsequent operations\n",
    "samples"
   ]
  },
  {
   "cell_type": "markdown",
   "id": "6b339a98-5457-4040-9dca-aac6d90b0d83",
   "metadata": {},
   "source": [
    "### predicted values based on averages (and lm average)"
   ]
  },
  {
   "cell_type": "code",
   "execution_count": 354,
   "id": "7a8b592b-392d-4673-8f53-f785bd309151",
   "metadata": {},
   "outputs": [
    {
     "data": {
      "text/html": [
       "<table class=\"dataframe\">\n",
       "<caption>A tibble: 6 × 2</caption>\n",
       "<thead>\n",
       "\t<tr><th scope=col>sample</th><th scope=col>avg_od</th></tr>\n",
       "\t<tr><th scope=col>&lt;chr&gt;</th><th scope=col>&lt;dbl&gt;</th></tr>\n",
       "</thead>\n",
       "<tbody>\n",
       "\t<tr><td>blank</td><td>0.064727</td></tr>\n",
       "\t<tr><td>qc1  </td><td>0.845800</td></tr>\n",
       "\t<tr><td>qc2  </td><td>0.481400</td></tr>\n",
       "\t<tr><td>qc3  </td><td>0.120400</td></tr>\n",
       "\t<tr><td>s123 </td><td>0.073167</td></tr>\n",
       "\t<tr><td>s159 </td><td>0.069333</td></tr>\n",
       "</tbody>\n",
       "</table>\n"
      ],
      "text/latex": [
       "A tibble: 6 × 2\n",
       "\\begin{tabular}{ll}\n",
       " sample & avg\\_od\\\\\n",
       " <chr> & <dbl>\\\\\n",
       "\\hline\n",
       "\t blank & 0.064727\\\\\n",
       "\t qc1   & 0.845800\\\\\n",
       "\t qc2   & 0.481400\\\\\n",
       "\t qc3   & 0.120400\\\\\n",
       "\t s123  & 0.073167\\\\\n",
       "\t s159  & 0.069333\\\\\n",
       "\\end{tabular}\n"
      ],
      "text/markdown": [
       "\n",
       "A tibble: 6 × 2\n",
       "\n",
       "| sample &lt;chr&gt; | avg_od &lt;dbl&gt; |\n",
       "|---|---|\n",
       "| blank | 0.064727 |\n",
       "| qc1   | 0.845800 |\n",
       "| qc2   | 0.481400 |\n",
       "| qc3   | 0.120400 |\n",
       "| s123  | 0.073167 |\n",
       "| s159  | 0.069333 |\n",
       "\n"
      ],
      "text/plain": [
       "  sample avg_od  \n",
       "1 blank  0.064727\n",
       "2 qc1    0.845800\n",
       "3 qc2    0.481400\n",
       "4 qc3    0.120400\n",
       "5 s123   0.073167\n",
       "6 s159   0.069333"
      ]
     },
     "metadata": {},
     "output_type": "display_data"
    }
   ],
   "source": [
    "sample_avg<-samples %>% \n",
    "    group_by(sample) %>% \n",
    "        summarise(avg_od = mean(od))\n",
    "sample_avg"
   ]
  },
  {
   "cell_type": "code",
   "execution_count": 355,
   "id": "ae6743cd-0611-42b3-8c69-5f8b0b24958b",
   "metadata": {},
   "outputs": [
    {
     "data": {
      "text/html": [
       "<table class=\"dataframe\">\n",
       "<caption>A tibble: 6 × 3</caption>\n",
       "<thead>\n",
       "\t<tr><th scope=col>sample</th><th scope=col>avg_od</th><th scope=col>predicted_avg_conc</th></tr>\n",
       "\t<tr><th scope=col>&lt;chr&gt;</th><th scope=col>&lt;dbl&gt;</th><th scope=col>&lt;dbl&gt;</th></tr>\n",
       "</thead>\n",
       "<tbody>\n",
       "\t<tr><td>blank</td><td>0.064727</td><td>0.00057025</td></tr>\n",
       "\t<tr><td>qc1  </td><td>0.845800</td><td>0.43973287</td></tr>\n",
       "\t<tr><td>qc2  </td><td>0.481400</td><td>0.23484688</td></tr>\n",
       "\t<tr><td>qc3  </td><td>0.120400</td><td>0.03187256</td></tr>\n",
       "\t<tr><td>s123 </td><td>0.073167</td><td>0.00531535</td></tr>\n",
       "\t<tr><td>s159 </td><td>0.069333</td><td>0.00316003</td></tr>\n",
       "</tbody>\n",
       "</table>\n"
      ],
      "text/latex": [
       "A tibble: 6 × 3\n",
       "\\begin{tabular}{lll}\n",
       " sample & avg\\_od & predicted\\_avg\\_conc\\\\\n",
       " <chr> & <dbl> & <dbl>\\\\\n",
       "\\hline\n",
       "\t blank & 0.064727 & 0.00057025\\\\\n",
       "\t qc1   & 0.845800 & 0.43973287\\\\\n",
       "\t qc2   & 0.481400 & 0.23484688\\\\\n",
       "\t qc3   & 0.120400 & 0.03187256\\\\\n",
       "\t s123  & 0.073167 & 0.00531535\\\\\n",
       "\t s159  & 0.069333 & 0.00316003\\\\\n",
       "\\end{tabular}\n"
      ],
      "text/markdown": [
       "\n",
       "A tibble: 6 × 3\n",
       "\n",
       "| sample &lt;chr&gt; | avg_od &lt;dbl&gt; | predicted_avg_conc &lt;dbl&gt; |\n",
       "|---|---|---|\n",
       "| blank | 0.064727 | 0.00057025 |\n",
       "| qc1   | 0.845800 | 0.43973287 |\n",
       "| qc2   | 0.481400 | 0.23484688 |\n",
       "| qc3   | 0.120400 | 0.03187256 |\n",
       "| s123  | 0.073167 | 0.00531535 |\n",
       "| s159  | 0.069333 | 0.00316003 |\n",
       "\n"
      ],
      "text/plain": [
       "  sample avg_od   predicted_avg_conc\n",
       "1 blank  0.064727 0.00057025        \n",
       "2 qc1    0.845800 0.43973287        \n",
       "3 qc2    0.481400 0.23484688        \n",
       "4 qc3    0.120400 0.03187256        \n",
       "5 s123   0.073167 0.00531535        \n",
       "6 s159   0.069333 0.00316003        "
      ]
     },
     "metadata": {},
     "output_type": "display_data"
    }
   ],
   "source": [
    "sample_avg$predicted_avg_conc <- predict(low_avg_model, newdata = sample_avg)\n",
    "sample_avg"
   ]
  },
  {
   "cell_type": "code",
   "execution_count": 357,
   "id": "8dca775a-b977-49e6-9f73-c2b5a00f69a5",
   "metadata": {
    "scrolled": true
   },
   "outputs": [
    {
     "data": {
      "text/html": [
       "<table class=\"dataframe\">\n",
       "<caption>A tibble: 6 × 4</caption>\n",
       "<thead>\n",
       "\t<tr><th scope=col>sample</th><th scope=col>avg_od</th><th scope=col>predicted_avg_conc</th><th scope=col>actual_conc</th></tr>\n",
       "\t<tr><th scope=col>&lt;chr&gt;</th><th scope=col>&lt;dbl&gt;</th><th scope=col>&lt;dbl&gt;</th><th scope=col>&lt;dbl&gt;</th></tr>\n",
       "</thead>\n",
       "<tbody>\n",
       "\t<tr><td>blank</td><td>0.064727</td><td>0.00057025</td><td>0.00</td></tr>\n",
       "\t<tr><td>qc1  </td><td>0.845800</td><td>0.43973287</td><td>1.00</td></tr>\n",
       "\t<tr><td>qc2  </td><td>0.481400</td><td>0.23484688</td><td>0.50</td></tr>\n",
       "\t<tr><td>qc3  </td><td>0.120400</td><td>0.03187256</td><td>0.05</td></tr>\n",
       "\t<tr><td>s123 </td><td>0.073167</td><td>0.00531535</td><td>  NA</td></tr>\n",
       "\t<tr><td>s159 </td><td>0.069333</td><td>0.00316003</td><td>  NA</td></tr>\n",
       "</tbody>\n",
       "</table>\n"
      ],
      "text/latex": [
       "A tibble: 6 × 4\n",
       "\\begin{tabular}{llll}\n",
       " sample & avg\\_od & predicted\\_avg\\_conc & actual\\_conc\\\\\n",
       " <chr> & <dbl> & <dbl> & <dbl>\\\\\n",
       "\\hline\n",
       "\t blank & 0.064727 & 0.00057025 & 0.00\\\\\n",
       "\t qc1   & 0.845800 & 0.43973287 & 1.00\\\\\n",
       "\t qc2   & 0.481400 & 0.23484688 & 0.50\\\\\n",
       "\t qc3   & 0.120400 & 0.03187256 & 0.05\\\\\n",
       "\t s123  & 0.073167 & 0.00531535 &   NA\\\\\n",
       "\t s159  & 0.069333 & 0.00316003 &   NA\\\\\n",
       "\\end{tabular}\n"
      ],
      "text/markdown": [
       "\n",
       "A tibble: 6 × 4\n",
       "\n",
       "| sample &lt;chr&gt; | avg_od &lt;dbl&gt; | predicted_avg_conc &lt;dbl&gt; | actual_conc &lt;dbl&gt; |\n",
       "|---|---|---|---|\n",
       "| blank | 0.064727 | 0.00057025 | 0.00 |\n",
       "| qc1   | 0.845800 | 0.43973287 | 1.00 |\n",
       "| qc2   | 0.481400 | 0.23484688 | 0.50 |\n",
       "| qc3   | 0.120400 | 0.03187256 | 0.05 |\n",
       "| s123  | 0.073167 | 0.00531535 |   NA |\n",
       "| s159  | 0.069333 | 0.00316003 |   NA |\n",
       "\n"
      ],
      "text/plain": [
       "  sample avg_od   predicted_avg_conc actual_conc\n",
       "1 blank  0.064727 0.00057025         0.00       \n",
       "2 qc1    0.845800 0.43973287         1.00       \n",
       "3 qc2    0.481400 0.23484688         0.50       \n",
       "4 qc3    0.120400 0.03187256         0.05       \n",
       "5 s123   0.073167 0.00531535           NA       \n",
       "6 s159   0.069333 0.00316003           NA       "
      ]
     },
     "metadata": {},
     "output_type": "display_data"
    }
   ],
   "source": [
    "sample_avg$actual_conc <- c(0,1,0.5,0.05,NA,NA)\n",
    "sample_avg"
   ]
  },
  {
   "cell_type": "code",
   "execution_count": 358,
   "id": "ff628884-8a16-443f-9529-d6f181d83450",
   "metadata": {},
   "outputs": [
    {
     "name": "stderr",
     "output_type": "stream",
     "text": [
      "\u001b[1m\u001b[22m`geom_smooth()` using formula = 'y ~ x'\n"
     ]
    },
    {
     "data": {
      "image/png": "[encoded data removed]",
      "text/plain": [
       "plot without title"
      ]
     },
     "metadata": {
      "image/png": {
       "height": 420,
       "width": 420
      }
     },
     "output_type": "display_data"
    }
   ],
   "source": [
    "ggplot(sample_avg, aes(x = avg_od, y = predicted_avg_conc)) + \n",
    "  geom_point() +  # Plot the average OD\n",
    "  #geom_errorbarh(aes(xmin = avg_od - sd, xmax = avg_od + sd)) +  # Add horizontal error bars\n",
    "  geom_smooth(method = \"lm\", se = FALSE, linetype = \"dashed\") +  # Add regression line\n",
    "  theme_minimal()\n"
   ]
  },
  {
   "cell_type": "markdown",
   "id": "6c3c0611-3544-4508-8003-993425c016c3",
   "metadata": {},
   "source": [
    "### predicted values based on individual od (lm model) "
   ]
  },
  {
   "cell_type": "code",
   "execution_count": 374,
   "id": "92b9c265-3d33-4f4c-8167-7afce1ec6b99",
   "metadata": {},
   "outputs": [
    {
     "data": {
      "text/html": [
       "<table class=\"dataframe\">\n",
       "<caption>A tibble: 10 × 9</caption>\n",
       "<thead>\n",
       "\t<tr><th scope=col>sample</th><th scope=col>rep</th><th scope=col>od</th><th scope=col>avg_od</th><th scope=col>sd_od</th><th scope=col>predicted_conc</th><th scope=col>avg_predicted_conc</th><th scope=col>sd_predicted_conc</th><th scope=col>percent_error</th></tr>\n",
       "\t<tr><th scope=col>&lt;chr&gt;</th><th scope=col>&lt;chr&gt;</th><th scope=col>&lt;dbl&gt;</th><th scope=col>&lt;dbl&gt;</th><th scope=col>&lt;dbl&gt;</th><th scope=col>&lt;dbl&gt;</th><th scope=col>&lt;dbl&gt;</th><th scope=col>&lt;dbl&gt;</th><th scope=col>&lt;dbl&gt;</th></tr>\n",
       "</thead>\n",
       "<tbody>\n",
       "\t<tr><td>s123</td><td>1</td><td>0.074</td><td>0.073167</td><td>0.0036009</td><td>0.0099040</td><td>0.0095535</td><td>0.0015147</td><td>NA</td></tr>\n",
       "\t<tr><td>s123</td><td>2</td><td>0.072</td><td>0.073167</td><td>0.0036009</td><td>0.0090627</td><td>0.0095535</td><td>0.0015147</td><td>NA</td></tr>\n",
       "\t<tr><td>s123</td><td>3</td><td>0.070</td><td>0.073167</td><td>0.0036009</td><td>0.0082214</td><td>0.0095535</td><td>0.0015147</td><td>NA</td></tr>\n",
       "\t<tr><td>s123</td><td>1</td><td>0.080</td><td>0.073167</td><td>0.0036009</td><td>0.0124279</td><td>0.0095535</td><td>0.0015147</td><td>NA</td></tr>\n",
       "\t<tr><td>s123</td><td>2</td><td>0.071</td><td>0.073167</td><td>0.0036009</td><td>0.0086421</td><td>0.0095535</td><td>0.0015147</td><td>NA</td></tr>\n",
       "\t<tr><td>s123</td><td>3</td><td>0.072</td><td>0.073167</td><td>0.0036009</td><td>0.0090627</td><td>0.0095535</td><td>0.0015147</td><td>NA</td></tr>\n",
       "\t<tr><td>s159</td><td>1</td><td>0.071</td><td>0.069333</td><td>0.0027325</td><td>0.0086421</td><td>0.0079410</td><td>0.0011494</td><td>NA</td></tr>\n",
       "\t<tr><td>s159</td><td>2</td><td>0.071</td><td>0.069333</td><td>0.0027325</td><td>0.0086421</td><td>0.0079410</td><td>0.0011494</td><td>NA</td></tr>\n",
       "\t<tr><td>s159</td><td>3</td><td>0.073</td><td>0.069333</td><td>0.0027325</td><td>0.0094834</td><td>0.0079410</td><td>0.0011494</td><td>NA</td></tr>\n",
       "\t<tr><td>s159</td><td>1</td><td>0.068</td><td>0.069333</td><td>0.0027325</td><td>0.0073801</td><td>0.0079410</td><td>0.0011494</td><td>NA</td></tr>\n",
       "</tbody>\n",
       "</table>\n"
      ],
      "text/latex": [
       "A tibble: 10 × 9\n",
       "\\begin{tabular}{lllllllll}\n",
       " sample & rep & od & avg\\_od & sd\\_od & predicted\\_conc & avg\\_predicted\\_conc & sd\\_predicted\\_conc & percent\\_error\\\\\n",
       " <chr> & <chr> & <dbl> & <dbl> & <dbl> & <dbl> & <dbl> & <dbl> & <dbl>\\\\\n",
       "\\hline\n",
       "\t s123 & 1 & 0.074 & 0.073167 & 0.0036009 & 0.0099040 & 0.0095535 & 0.0015147 & NA\\\\\n",
       "\t s123 & 2 & 0.072 & 0.073167 & 0.0036009 & 0.0090627 & 0.0095535 & 0.0015147 & NA\\\\\n",
       "\t s123 & 3 & 0.070 & 0.073167 & 0.0036009 & 0.0082214 & 0.0095535 & 0.0015147 & NA\\\\\n",
       "\t s123 & 1 & 0.080 & 0.073167 & 0.0036009 & 0.0124279 & 0.0095535 & 0.0015147 & NA\\\\\n",
       "\t s123 & 2 & 0.071 & 0.073167 & 0.0036009 & 0.0086421 & 0.0095535 & 0.0015147 & NA\\\\\n",
       "\t s123 & 3 & 0.072 & 0.073167 & 0.0036009 & 0.0090627 & 0.0095535 & 0.0015147 & NA\\\\\n",
       "\t s159 & 1 & 0.071 & 0.069333 & 0.0027325 & 0.0086421 & 0.0079410 & 0.0011494 & NA\\\\\n",
       "\t s159 & 2 & 0.071 & 0.069333 & 0.0027325 & 0.0086421 & 0.0079410 & 0.0011494 & NA\\\\\n",
       "\t s159 & 3 & 0.073 & 0.069333 & 0.0027325 & 0.0094834 & 0.0079410 & 0.0011494 & NA\\\\\n",
       "\t s159 & 1 & 0.068 & 0.069333 & 0.0027325 & 0.0073801 & 0.0079410 & 0.0011494 & NA\\\\\n",
       "\\end{tabular}\n"
      ],
      "text/markdown": [
       "\n",
       "A tibble: 10 × 9\n",
       "\n",
       "| sample &lt;chr&gt; | rep &lt;chr&gt; | od &lt;dbl&gt; | avg_od &lt;dbl&gt; | sd_od &lt;dbl&gt; | predicted_conc &lt;dbl&gt; | avg_predicted_conc &lt;dbl&gt; | sd_predicted_conc &lt;dbl&gt; | percent_error &lt;dbl&gt; |\n",
       "|---|---|---|---|---|---|---|---|---|\n",
       "| s123 | 1 | 0.074 | 0.073167 | 0.0036009 | 0.0099040 | 0.0095535 | 0.0015147 | NA |\n",
       "| s123 | 2 | 0.072 | 0.073167 | 0.0036009 | 0.0090627 | 0.0095535 | 0.0015147 | NA |\n",
       "| s123 | 3 | 0.070 | 0.073167 | 0.0036009 | 0.0082214 | 0.0095535 | 0.0015147 | NA |\n",
       "| s123 | 1 | 0.080 | 0.073167 | 0.0036009 | 0.0124279 | 0.0095535 | 0.0015147 | NA |\n",
       "| s123 | 2 | 0.071 | 0.073167 | 0.0036009 | 0.0086421 | 0.0095535 | 0.0015147 | NA |\n",
       "| s123 | 3 | 0.072 | 0.073167 | 0.0036009 | 0.0090627 | 0.0095535 | 0.0015147 | NA |\n",
       "| s159 | 1 | 0.071 | 0.069333 | 0.0027325 | 0.0086421 | 0.0079410 | 0.0011494 | NA |\n",
       "| s159 | 2 | 0.071 | 0.069333 | 0.0027325 | 0.0086421 | 0.0079410 | 0.0011494 | NA |\n",
       "| s159 | 3 | 0.073 | 0.069333 | 0.0027325 | 0.0094834 | 0.0079410 | 0.0011494 | NA |\n",
       "| s159 | 1 | 0.068 | 0.069333 | 0.0027325 | 0.0073801 | 0.0079410 | 0.0011494 | NA |\n",
       "\n"
      ],
      "text/plain": [
       "   sample rep od    avg_od   sd_od     predicted_conc avg_predicted_conc\n",
       "1  s123   1   0.074 0.073167 0.0036009 0.0099040      0.0095535         \n",
       "2  s123   2   0.072 0.073167 0.0036009 0.0090627      0.0095535         \n",
       "3  s123   3   0.070 0.073167 0.0036009 0.0082214      0.0095535         \n",
       "4  s123   1   0.080 0.073167 0.0036009 0.0124279      0.0095535         \n",
       "5  s123   2   0.071 0.073167 0.0036009 0.0086421      0.0095535         \n",
       "6  s123   3   0.072 0.073167 0.0036009 0.0090627      0.0095535         \n",
       "7  s159   1   0.071 0.069333 0.0027325 0.0086421      0.0079410         \n",
       "8  s159   2   0.071 0.069333 0.0027325 0.0086421      0.0079410         \n",
       "9  s159   3   0.073 0.069333 0.0027325 0.0094834      0.0079410         \n",
       "10 s159   1   0.068 0.069333 0.0027325 0.0073801      0.0079410         \n",
       "   sd_predicted_conc percent_error\n",
       "1  0.0015147         NA           \n",
       "2  0.0015147         NA           \n",
       "3  0.0015147         NA           \n",
       "4  0.0015147         NA           \n",
       "5  0.0015147         NA           \n",
       "6  0.0015147         NA           \n",
       "7  0.0011494         NA           \n",
       "8  0.0011494         NA           \n",
       "9  0.0011494         NA           \n",
       "10 0.0011494         NA           "
      ]
     },
     "metadata": {},
     "output_type": "display_data"
    }
   ],
   "source": [
    "# calculate concentrations\n",
    "samples$predicted_conc <- predict(low_model, newdata = samples)\n",
    "#calculate avgs and sd of predicted conc\n",
    "samples<-samples %>%\n",
    "    group_by(sample) %>%\n",
    "        mutate(avg_predicted_conc = mean(predicted_conc)) %>%\n",
    "        mutate(sd_predicted_conc = sd(predicted_conc)) %>%\n",
    "            ungroup()\n",
    "\n",
    "head(samples,10)"
   ]
  },
  {
   "cell_type": "code",
   "execution_count": 370,
   "id": "d082769d-1cf6-44f4-a2ba-251f8871e5ed",
   "metadata": {},
   "outputs": [
    {
     "data": {
      "text/html": [
       "<table class=\"dataframe\">\n",
       "<caption>A tibble: 12 × 9</caption>\n",
       "<thead>\n",
       "\t<tr><th scope=col>sample</th><th scope=col>rep</th><th scope=col>od</th><th scope=col>avg_od</th><th scope=col>sd_od</th><th scope=col>predicted_conc</th><th scope=col>avg_predicted_conc</th><th scope=col>sd_predicted_conc</th><th scope=col>percent_error</th></tr>\n",
       "\t<tr><th scope=col>&lt;chr&gt;</th><th scope=col>&lt;chr&gt;</th><th scope=col>&lt;dbl&gt;</th><th scope=col>&lt;dbl&gt;</th><th scope=col>&lt;dbl&gt;</th><th scope=col>&lt;dbl&gt;</th><th scope=col>&lt;dbl&gt;</th><th scope=col>&lt;dbl&gt;</th><th scope=col>&lt;dbl&gt;</th></tr>\n",
       "</thead>\n",
       "<tbody>\n",
       "\t<tr><td>qc3  </td><td>5 </td><td>0.119</td><td>0.120400</td><td>0.0027928</td><td>0.0288331</td><td>0.0294221</td><td>0.00117480</td><td>42.334</td></tr>\n",
       "\t<tr><td>blank</td><td>1 </td><td>0.066</td><td>0.064727</td><td>0.0011037</td><td>0.0065389</td><td>0.0060035</td><td>0.00046427</td><td>    NA</td></tr>\n",
       "\t<tr><td>blank</td><td>2 </td><td>0.064</td><td>0.064727</td><td>0.0011037</td><td>0.0056976</td><td>0.0060035</td><td>0.00046427</td><td>    NA</td></tr>\n",
       "\t<tr><td>blank</td><td>3 </td><td>0.064</td><td>0.064727</td><td>0.0011037</td><td>0.0056976</td><td>0.0060035</td><td>0.00046427</td><td>    NA</td></tr>\n",
       "\t<tr><td>blank</td><td>4 </td><td>0.064</td><td>0.064727</td><td>0.0011037</td><td>0.0056976</td><td>0.0060035</td><td>0.00046427</td><td>    NA</td></tr>\n",
       "\t<tr><td>blank</td><td>5 </td><td>0.067</td><td>0.064727</td><td>0.0011037</td><td>0.0069595</td><td>0.0060035</td><td>0.00046427</td><td>    NA</td></tr>\n",
       "\t<tr><td>blank</td><td>6 </td><td>0.066</td><td>0.064727</td><td>0.0011037</td><td>0.0065389</td><td>0.0060035</td><td>0.00046427</td><td>    NA</td></tr>\n",
       "\t<tr><td>blank</td><td>7 </td><td>0.064</td><td>0.064727</td><td>0.0011037</td><td>0.0056976</td><td>0.0060035</td><td>0.00046427</td><td>    NA</td></tr>\n",
       "\t<tr><td>blank</td><td>8 </td><td>0.065</td><td>0.064727</td><td>0.0011037</td><td>0.0061182</td><td>0.0060035</td><td>0.00046427</td><td>    NA</td></tr>\n",
       "\t<tr><td>blank</td><td>9 </td><td>0.064</td><td>0.064727</td><td>0.0011037</td><td>0.0056976</td><td>0.0060035</td><td>0.00046427</td><td>    NA</td></tr>\n",
       "\t<tr><td>blank</td><td>10</td><td>0.064</td><td>0.064727</td><td>0.0011037</td><td>0.0056976</td><td>0.0060035</td><td>0.00046427</td><td>    NA</td></tr>\n",
       "\t<tr><td>blank</td><td>11</td><td>0.064</td><td>0.064727</td><td>0.0011037</td><td>0.0056976</td><td>0.0060035</td><td>0.00046427</td><td>    NA</td></tr>\n",
       "</tbody>\n",
       "</table>\n"
      ],
      "text/latex": [
       "A tibble: 12 × 9\n",
       "\\begin{tabular}{lllllllll}\n",
       " sample & rep & od & avg\\_od & sd\\_od & predicted\\_conc & avg\\_predicted\\_conc & sd\\_predicted\\_conc & percent\\_error\\\\\n",
       " <chr> & <chr> & <dbl> & <dbl> & <dbl> & <dbl> & <dbl> & <dbl> & <dbl>\\\\\n",
       "\\hline\n",
       "\t qc3   & 5  & 0.119 & 0.120400 & 0.0027928 & 0.0288331 & 0.0294221 & 0.00117480 & 42.334\\\\\n",
       "\t blank & 1  & 0.066 & 0.064727 & 0.0011037 & 0.0065389 & 0.0060035 & 0.00046427 &     NA\\\\\n",
       "\t blank & 2  & 0.064 & 0.064727 & 0.0011037 & 0.0056976 & 0.0060035 & 0.00046427 &     NA\\\\\n",
       "\t blank & 3  & 0.064 & 0.064727 & 0.0011037 & 0.0056976 & 0.0060035 & 0.00046427 &     NA\\\\\n",
       "\t blank & 4  & 0.064 & 0.064727 & 0.0011037 & 0.0056976 & 0.0060035 & 0.00046427 &     NA\\\\\n",
       "\t blank & 5  & 0.067 & 0.064727 & 0.0011037 & 0.0069595 & 0.0060035 & 0.00046427 &     NA\\\\\n",
       "\t blank & 6  & 0.066 & 0.064727 & 0.0011037 & 0.0065389 & 0.0060035 & 0.00046427 &     NA\\\\\n",
       "\t blank & 7  & 0.064 & 0.064727 & 0.0011037 & 0.0056976 & 0.0060035 & 0.00046427 &     NA\\\\\n",
       "\t blank & 8  & 0.065 & 0.064727 & 0.0011037 & 0.0061182 & 0.0060035 & 0.00046427 &     NA\\\\\n",
       "\t blank & 9  & 0.064 & 0.064727 & 0.0011037 & 0.0056976 & 0.0060035 & 0.00046427 &     NA\\\\\n",
       "\t blank & 10 & 0.064 & 0.064727 & 0.0011037 & 0.0056976 & 0.0060035 & 0.00046427 &     NA\\\\\n",
       "\t blank & 11 & 0.064 & 0.064727 & 0.0011037 & 0.0056976 & 0.0060035 & 0.00046427 &     NA\\\\\n",
       "\\end{tabular}\n"
      ],
      "text/markdown": [
       "\n",
       "A tibble: 12 × 9\n",
       "\n",
       "| sample &lt;chr&gt; | rep &lt;chr&gt; | od &lt;dbl&gt; | avg_od &lt;dbl&gt; | sd_od &lt;dbl&gt; | predicted_conc &lt;dbl&gt; | avg_predicted_conc &lt;dbl&gt; | sd_predicted_conc &lt;dbl&gt; | percent_error &lt;dbl&gt; |\n",
       "|---|---|---|---|---|---|---|---|---|\n",
       "| qc3   | 5  | 0.119 | 0.120400 | 0.0027928 | 0.0288331 | 0.0294221 | 0.00117480 | 42.334 |\n",
       "| blank | 1  | 0.066 | 0.064727 | 0.0011037 | 0.0065389 | 0.0060035 | 0.00046427 |     NA |\n",
       "| blank | 2  | 0.064 | 0.064727 | 0.0011037 | 0.0056976 | 0.0060035 | 0.00046427 |     NA |\n",
       "| blank | 3  | 0.064 | 0.064727 | 0.0011037 | 0.0056976 | 0.0060035 | 0.00046427 |     NA |\n",
       "| blank | 4  | 0.064 | 0.064727 | 0.0011037 | 0.0056976 | 0.0060035 | 0.00046427 |     NA |\n",
       "| blank | 5  | 0.067 | 0.064727 | 0.0011037 | 0.0069595 | 0.0060035 | 0.00046427 |     NA |\n",
       "| blank | 6  | 0.066 | 0.064727 | 0.0011037 | 0.0065389 | 0.0060035 | 0.00046427 |     NA |\n",
       "| blank | 7  | 0.064 | 0.064727 | 0.0011037 | 0.0056976 | 0.0060035 | 0.00046427 |     NA |\n",
       "| blank | 8  | 0.065 | 0.064727 | 0.0011037 | 0.0061182 | 0.0060035 | 0.00046427 |     NA |\n",
       "| blank | 9  | 0.064 | 0.064727 | 0.0011037 | 0.0056976 | 0.0060035 | 0.00046427 |     NA |\n",
       "| blank | 10 | 0.064 | 0.064727 | 0.0011037 | 0.0056976 | 0.0060035 | 0.00046427 |     NA |\n",
       "| blank | 11 | 0.064 | 0.064727 | 0.0011037 | 0.0056976 | 0.0060035 | 0.00046427 |     NA |\n",
       "\n"
      ],
      "text/plain": [
       "   sample rep od    avg_od   sd_od     predicted_conc avg_predicted_conc\n",
       "27 qc3    5   0.119 0.120400 0.0027928 0.0288331      0.0294221         \n",
       "28 blank  1   0.066 0.064727 0.0011037 0.0065389      0.0060035         \n",
       "29 blank  2   0.064 0.064727 0.0011037 0.0056976      0.0060035         \n",
       "30 blank  3   0.064 0.064727 0.0011037 0.0056976      0.0060035         \n",
       "31 blank  4   0.064 0.064727 0.0011037 0.0056976      0.0060035         \n",
       "32 blank  5   0.067 0.064727 0.0011037 0.0069595      0.0060035         \n",
       "33 blank  6   0.066 0.064727 0.0011037 0.0065389      0.0060035         \n",
       "34 blank  7   0.064 0.064727 0.0011037 0.0056976      0.0060035         \n",
       "35 blank  8   0.065 0.064727 0.0011037 0.0061182      0.0060035         \n",
       "36 blank  9   0.064 0.064727 0.0011037 0.0056976      0.0060035         \n",
       "37 blank  10  0.064 0.064727 0.0011037 0.0056976      0.0060035         \n",
       "38 blank  11  0.064 0.064727 0.0011037 0.0056976      0.0060035         \n",
       "   sd_predicted_conc percent_error\n",
       "27 0.00117480        42.334       \n",
       "28 0.00046427            NA       \n",
       "29 0.00046427            NA       \n",
       "30 0.00046427            NA       \n",
       "31 0.00046427            NA       \n",
       "32 0.00046427            NA       \n",
       "33 0.00046427            NA       \n",
       "34 0.00046427            NA       \n",
       "35 0.00046427            NA       \n",
       "36 0.00046427            NA       \n",
       "37 0.00046427            NA       \n",
       "38 0.00046427            NA       "
      ]
     },
     "metadata": {},
     "output_type": "display_data"
    }
   ],
   "source": [
    "# calculate % error for qcs (individually, by rep)\n",
    "# make lists to loop through \n",
    "qc_list <- c('qc1','qc2','qc3')\n",
    "expected_conc <- c(1,0.5,0.05)\n",
    "\n",
    "# Add a percent_error column initialized with NA\n",
    "samples <- samples %>%\n",
    "  mutate(percent_error = NA_real_)\n",
    "\n",
    "# Loop through each QC sample\n",
    "for (q in c(1:length(qc_list))) {\n",
    "  # Update percent_error for matching QC samples and set others to NA\n",
    "  samples <- samples %>%\n",
    "    mutate(percent_error = ifelse(\n",
    "      sample == qc_list[q],  # Only apply to matching QC samples\n",
    "      (abs(predicted_conc - expected_conc[q]) / expected_conc[q]) * 100,  # Calculate % error\n",
    "      percent_error  # For non-matching rows, retain NA\n",
    "    ))\n",
    "}"
   ]
  },
  {
   "cell_type": "code",
   "execution_count": 398,
   "id": "c156a0e9-b8cc-4d27-bc20-9214f8a8de99",
   "metadata": {},
   "outputs": [
    {
     "name": "stdout",
     "output_type": "stream",
     "text": [
      "[1] \"ME of blank: 0.000274368156290383\"\n",
      "[1] \"ME of me_s123: 0.00121202768199367\"\n",
      "[1] \"ME of me_s159: 0.000919732953907519\"\n"
     ]
    }
   ],
   "source": [
    "# margin of error \n",
    "# Margin of Error= z * s/sqrt(n)\n",
    "# z score = 1.96 for 95% confidence\n",
    "# s = stnd dev\n",
    "# n = sample size \n",
    "sd<-pull(samples[samples$sample == 'blank' & samples$rep == 1, 'sd_predicted_conc'][1])\n",
    "me_blank <- 1.96 * sd/sqrt(11)\n",
    "print(paste('ME of blank:', me_blank))\n",
    "\n",
    "sd<-samples %>%\n",
    "  filter(sample == 's123' & rep == 1) %>%\n",
    "  pull(sd_predicted_conc) %>%\n",
    "  .[1]\n",
    "me_s123 <- 1.96* sd/sqrt(6)\n",
    "print(paste('ME of me_s123:', me_s123))\n",
    "\n",
    "sd<-samples %>%\n",
    "  filter(sample == 's159' & rep == 1) %>%\n",
    "  pull(sd_predicted_conc) %>%\n",
    "  .[1]\n",
    "me_s159 <- 1.96* sd/sqrt(6)\n",
    "print(paste('ME of me_s159:', me_s159))"
   ]
  },
  {
   "cell_type": "code",
   "execution_count": 419,
   "id": "a14d73b1-5e7c-4094-b3de-4f9c481c503a",
   "metadata": {},
   "outputs": [
    {
     "name": "stdout",
     "output_type": "stream",
     "text": [
      "[1] \"blanks + or - margin of error\"\n"
     ]
    },
    {
     "data": {
      "text/html": [
       "0.00627785117872716"
      ],
      "text/latex": [
       "0.00627785117872716"
      ],
      "text/markdown": [
       "0.00627785117872716"
      ],
      "text/plain": [
       "[1] 0.0062779"
      ]
     },
     "metadata": {},
     "output_type": "display_data"
    },
    {
     "data": {
      "text/html": [
       "0.00572911486614639"
      ],
      "text/latex": [
       "0.00572911486614639"
      ],
      "text/markdown": [
       "0.00572911486614639"
      ],
      "text/plain": [
       "[1] 0.0057291"
      ]
     },
     "metadata": {},
     "output_type": "display_data"
    }
   ],
   "source": [
    "# blanks + or - margin of error\n",
    "print('blanks + or - margin of error:')\n",
    "pull(samples[samples$sample == 'blank' & samples$rep == 1, 'avg_predicted_conc'][1])+me_blank\n",
    "pull(samples[samples$sample == 'blank' & samples$rep == 1, 'avg_predicted_conc'][1])-me_blank"
   ]
  },
  {
   "cell_type": "code",
   "execution_count": 420,
   "id": "ed8b0a52-3f8a-4a20-88d5-7d1b3a0719d5",
   "metadata": {},
   "outputs": [
    {
     "name": "stdout",
     "output_type": "stream",
     "text": [
      "[1] \"s123 + or - margin of error:\"\n"
     ]
    },
    {
     "data": {
      "text/html": [
       "<style>\n",
       ".list-inline {list-style: none; margin:0; padding: 0}\n",
       ".list-inline>li {display: inline-block}\n",
       ".list-inline>li:not(:last-child)::after {content: \"\\00b7\"; padding: 0 .5ex}\n",
       "</style>\n",
       "<ol class=list-inline><li>0.0107655174569702</li><li>0.0107655174569702</li></ol>\n"
      ],
      "text/latex": [
       "\\begin{enumerate*}\n",
       "\\item 0.0107655174569702\n",
       "\\item 0.0107655174569702\n",
       "\\end{enumerate*}\n"
      ],
      "text/markdown": [
       "1. 0.0107655174569702\n",
       "2. 0.0107655174569702\n",
       "\n",
       "\n"
      ],
      "text/plain": [
       "[1] 0.010766 0.010766"
      ]
     },
     "metadata": {},
     "output_type": "display_data"
    },
    {
     "data": {
      "text/html": [
       "<style>\n",
       ".list-inline {list-style: none; margin:0; padding: 0}\n",
       ".list-inline>li {display: inline-block}\n",
       ".list-inline>li:not(:last-child)::after {content: \"\\00b7\"; padding: 0 .5ex}\n",
       "</style>\n",
       "<ol class=list-inline><li>0.00834146209298282</li><li>0.00834146209298282</li></ol>\n"
      ],
      "text/latex": [
       "\\begin{enumerate*}\n",
       "\\item 0.00834146209298282\n",
       "\\item 0.00834146209298282\n",
       "\\end{enumerate*}\n"
      ],
      "text/markdown": [
       "1. 0.00834146209298282\n",
       "2. 0.00834146209298282\n",
       "\n",
       "\n"
      ],
      "text/plain": [
       "[1] 0.0083415 0.0083415"
      ]
     },
     "metadata": {},
     "output_type": "display_data"
    }
   ],
   "source": [
    "# s123 + or - me \n",
    "print('s123 + or - margin of error:')\n",
    "pull(samples[samples$sample == 's123' & samples$rep == 1, 'avg_predicted_conc'][1])+me_s123\n",
    "pull(samples[samples$sample == 's123' & samples$rep == 1, 'avg_predicted_conc'][1])-me_s123"
   ]
  },
  {
   "cell_type": "code",
   "execution_count": 421,
   "id": "8ca5e3a0-64a1-4250-bac1-4ad3db5b3e1a",
   "metadata": {},
   "outputs": [
    {
     "name": "stdout",
     "output_type": "stream",
     "text": [
      "[1] \"s159 + or - margin of error:\"\n"
     ]
    },
    {
     "data": {
      "text/html": [
       "<style>\n",
       ".list-inline {list-style: none; margin:0; padding: 0}\n",
       ".list-inline>li {display: inline-block}\n",
       ".list-inline>li:not(:last-child)::after {content: \"\\00b7\"; padding: 0 .5ex}\n",
       "</style>\n",
       "<ol class=list-inline><li>0.00886074210340367</li><li>0.00886074210340367</li></ol>\n"
      ],
      "text/latex": [
       "\\begin{enumerate*}\n",
       "\\item 0.00886074210340367\n",
       "\\item 0.00886074210340367\n",
       "\\end{enumerate*}\n"
      ],
      "text/markdown": [
       "1. 0.00886074210340367\n",
       "2. 0.00886074210340367\n",
       "\n",
       "\n"
      ],
      "text/plain": [
       "[1] 0.0088607 0.0088607"
      ]
     },
     "metadata": {},
     "output_type": "display_data"
    },
    {
     "data": {
      "text/html": [
       "<style>\n",
       ".list-inline {list-style: none; margin:0; padding: 0}\n",
       ".list-inline>li {display: inline-block}\n",
       ".list-inline>li:not(:last-child)::after {content: \"\\00b7\"; padding: 0 .5ex}\n",
       "</style>\n",
       "<ol class=list-inline><li>0.00702127619558863</li><li>0.00702127619558863</li></ol>\n"
      ],
      "text/latex": [
       "\\begin{enumerate*}\n",
       "\\item 0.00702127619558863\n",
       "\\item 0.00702127619558863\n",
       "\\end{enumerate*}\n"
      ],
      "text/markdown": [
       "1. 0.00702127619558863\n",
       "2. 0.00702127619558863\n",
       "\n",
       "\n"
      ],
      "text/plain": [
       "[1] 0.0070213 0.0070213"
      ]
     },
     "metadata": {},
     "output_type": "display_data"
    }
   ],
   "source": [
    "# s159 + or - me \n",
    "print('s159 + or - margin of error:')\n",
    "pull(samples[samples$sample == 's159' & samples$rep == 1, 'avg_predicted_conc'][1])+me_s159\n",
    "pull(samples[samples$sample == 's159' & samples$rep == 1, 'avg_predicted_conc'][1])-me_s159"
   ]
  },
  {
   "cell_type": "code",
   "execution_count": null,
   "id": "366e7d15-5dd0-44c8-8407-cdef9e22d42b",
   "metadata": {},
   "outputs": [],
   "source": [
    "# -> the samples are outside of the margin of error of blanks "
   ]
  },
  {
   "cell_type": "code",
   "execution_count": 361,
   "id": "f1ce2181-e0b7-4eb6-ade0-6ecd0902c4a9",
   "metadata": {},
   "outputs": [
    {
     "name": "stderr",
     "output_type": "stream",
     "text": [
      "\u001b[1m\u001b[22m`geom_smooth()` using formula = 'y ~ x'\n"
     ]
    },
    {
     "data": {
      "image/png": "[encoded data removed]",
      "text/plain": [
       "plot without title"
      ]
     },
     "metadata": {
      "image/png": {
       "height": 420,
       "width": 420
      }
     },
     "output_type": "display_data"
    }
   ],
   "source": [
    "ggplot(samples, aes(x = avg_od, y = avg_predicted_conc)) + \n",
    "  geom_point() +  # Plot the average OD\n",
    "  geom_errorbar(aes(ymin = avg_predicted_conc - sd_predicted_conc, ymax = avg_predicted_conc + sd_predicted_conc)) + \n",
    "  geom_smooth(method = \"lm\", se = FALSE, linetype = \"dashed\") + \n",
    "  geom_text(aes(label = sample), vjust = -1, hjust = 0.5, size = 3) +  # sample labels \n",
    "  theme_minimal()"
   ]
  },
  {
   "cell_type": "code",
   "execution_count": 362,
   "id": "67c3dec0-acea-45d6-a3f3-b21e301d4c22",
   "metadata": {},
   "outputs": [
    {
     "name": "stderr",
     "output_type": "stream",
     "text": [
      "\u001b[1m\u001b[22m`geom_smooth()` using formula = 'y ~ x'\n"
     ]
    },
    {
     "data": {
      "image/png": "[encoded data removed]",
      "text/plain": [
       "plot without title"
      ]
     },
     "metadata": {
      "image/png": {
       "height": 420,
       "width": 420
      }
     },
     "output_type": "display_data"
    }
   ],
   "source": [
    "# zoom in on low concentrations (samples and blanks )\n",
    "samples_noq <- samples %>%\n",
    "    filter(!sample %in% c('qc1', 'qc2'))\n",
    "\n",
    "ggplot(samples_noq, aes(x = avg_od, y = avg_predicted_conc)) + \n",
    "  geom_point() +  # Plot the average OD\n",
    "  geom_errorbar(aes(ymin = avg_predicted_conc - sd_predicted_conc, ymax = avg_predicted_conc + sd_predicted_conc)) + \n",
    "  geom_smooth(method = \"lm\", se = FALSE, linetype = \"dashed\") + \n",
    "  geom_text(aes(label = sample), vjust = -1, hjust = 0.5, size = 3) +  # sample labels \n",
    "  theme_minimal()"
   ]
  },
  {
   "cell_type": "code",
   "execution_count": null,
   "id": "05ba8673-7b8f-4293-a624-d41c618221ae",
   "metadata": {},
   "outputs": [],
   "source": []
  },
  {
   "cell_type": "code",
   "execution_count": null,
   "id": "3ef3f477-e202-47a8-b54a-a54ec65c5f12",
   "metadata": {},
   "outputs": [],
   "source": []
  }
 ],
 "metadata": {
  "kernelspec": {
   "display_name": "R",
   "language": "R",
   "name": "ir"
  },
  "language_info": {
   "codemirror_mode": "r",
   "file_extension": ".r",
   "mimetype": "text/x-r-source",
   "name": "R",
   "pygments_lexer": "r",
   "version": "4.3.3"
  }
 },
 "nbformat": 4,
 "nbformat_minor": 5
}
