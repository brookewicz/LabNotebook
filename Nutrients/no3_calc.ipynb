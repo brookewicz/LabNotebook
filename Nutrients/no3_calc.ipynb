{
 "cells": [
  {
   "cell_type": "markdown",
   "id": "0ddb159e-6e10-44b3-95cc-58a90d3699b4",
   "metadata": {},
   "source": [
    "# NO3 Plate Processing"
   ]
  },
  {
   "cell_type": "markdown",
   "id": "bb00be3b-534a-4125-b755-38b5e1f20ddc",
   "metadata": {
    "jp-MarkdownHeadingCollapsed": true
   },
   "source": [
    "### upload"
   ]
  },
  {
   "cell_type": "code",
   "execution_count": 587,
   "id": "ad5e82bf-60f6-40b9-a0c5-bd4ed54b7e3a",
   "metadata": {},
   "outputs": [],
   "source": [
    "#install.packages('tibble')"
   ]
  },
  {
   "cell_type": "code",
   "execution_count": 588,
   "id": "04c93854-4078-4667-8d91-407ae5127896",
   "metadata": {},
   "outputs": [],
   "source": [
    "library(readxl)\n",
    "library(tidyverse)\n",
    "library(dplyr)\n",
    "library(ggplot2)"
   ]
  },
  {
   "cell_type": "code",
   "execution_count": 589,
   "id": "bf4230a9-655b-4294-a1dc-337f60ad07b3",
   "metadata": {},
   "outputs": [
    {
     "data": {
      "text/html": [
       "'/Users/brookesienkiewicz/Documents/LabNotebook/Nutrients'"
      ],
      "text/latex": [
       "'/Users/brookesienkiewicz/Documents/LabNotebook/Nutrients'"
      ],
      "text/markdown": [
       "'/Users/brookesienkiewicz/Documents/LabNotebook/Nutrients'"
      ],
      "text/plain": [
       "[1] \"/Users/brookesienkiewicz/Documents/LabNotebook/Nutrients\""
      ]
     },
     "metadata": {},
     "output_type": "display_data"
    }
   ],
   "source": [
    "getwd()"
   ]
  },
  {
   "cell_type": "code",
   "execution_count": 590,
   "id": "79c2b4c0-3da8-48b3-b86e-b5d408e6cc55",
   "metadata": {
    "scrolled": true
   },
   "outputs": [
    {
     "name": "stderr",
     "output_type": "stream",
     "text": [
      "\u001b[1m\u001b[22mNew names:\n",
      "\u001b[36m•\u001b[39m `` -> `...3`\n",
      "\u001b[36m•\u001b[39m `` -> `...4`\n",
      "\u001b[36m•\u001b[39m `` -> `...5`\n",
      "\u001b[36m•\u001b[39m `` -> `...6`\n",
      "\u001b[36m•\u001b[39m `` -> `...7`\n",
      "\u001b[36m•\u001b[39m `` -> `...8`\n",
      "\u001b[36m•\u001b[39m `` -> `...9`\n",
      "\u001b[36m•\u001b[39m `` -> `...10`\n",
      "\u001b[36m•\u001b[39m `` -> `...11`\n",
      "\u001b[36m•\u001b[39m `` -> `...12`\n",
      "\u001b[36m•\u001b[39m `` -> `...13`\n",
      "\u001b[36m•\u001b[39m `` -> `...14`\n",
      "\u001b[36m•\u001b[39m `` -> `...15`\n"
     ]
    }
   ],
   "source": [
    "# load plate raws \n",
    "test <- read_excel(\"plate_results/stnd_test2.xlsx\")"
   ]
  },
  {
   "cell_type": "code",
   "execution_count": 591,
   "id": "fd4131eb-1080-4126-9759-db58a7ebf1cf",
   "metadata": {},
   "outputs": [
    {
     "data": {
      "text/html": [
       "<table class=\"dataframe\">\n",
       "<caption>A tibble: 6 × 15</caption>\n",
       "<thead>\n",
       "\t<tr><th scope=col>Software Version</th><th scope=col>3.16.10</th><th scope=col>...3</th><th scope=col>...4</th><th scope=col>...5</th><th scope=col>...6</th><th scope=col>...7</th><th scope=col>...8</th><th scope=col>...9</th><th scope=col>...10</th><th scope=col>...11</th><th scope=col>...12</th><th scope=col>...13</th><th scope=col>...14</th><th scope=col>...15</th></tr>\n",
       "\t<tr><th scope=col>&lt;chr&gt;</th><th scope=col>&lt;chr&gt;</th><th scope=col>&lt;chr&gt;</th><th scope=col>&lt;chr&gt;</th><th scope=col>&lt;chr&gt;</th><th scope=col>&lt;chr&gt;</th><th scope=col>&lt;chr&gt;</th><th scope=col>&lt;chr&gt;</th><th scope=col>&lt;chr&gt;</th><th scope=col>&lt;chr&gt;</th><th scope=col>&lt;chr&gt;</th><th scope=col>&lt;chr&gt;</th><th scope=col>&lt;chr&gt;</th><th scope=col>&lt;chr&gt;</th><th scope=col>&lt;chr&gt;</th></tr>\n",
       "</thead>\n",
       "<tbody>\n",
       "\t<tr><td>NA                   </td><td>NA                                                                                   </td><td>NA</td><td>NA</td><td>NA</td><td>NA</td><td>NA</td><td>NA</td><td>NA</td><td>NA</td><td>NA</td><td>NA</td><td>NA</td><td>NA</td><td>NA</td></tr>\n",
       "\t<tr><td>Experiment File Path:</td><td>C:\\Users\\Public\\Documents\\Experiments\\sienkiewicz_winbourne\\std_test.xpt       </td><td>NA</td><td>NA</td><td>NA</td><td>NA</td><td>NA</td><td>NA</td><td>NA</td><td>NA</td><td>NA</td><td>NA</td><td>NA</td><td>NA</td><td>NA</td></tr>\n",
       "\t<tr><td>Protocol File Path:  </td><td>C:\\Users\\Public\\Documents\\Experiments\\sienkiewicz_winbourne\\nitrate_updated.prt</td><td>NA</td><td>NA</td><td>NA</td><td>NA</td><td>NA</td><td>NA</td><td>NA</td><td>NA</td><td>NA</td><td>NA</td><td>NA</td><td>NA</td><td>NA</td></tr>\n",
       "\t<tr><td>Plate Number         </td><td>Plate 3                                                                              </td><td>NA</td><td>NA</td><td>NA</td><td>NA</td><td>NA</td><td>NA</td><td>NA</td><td>NA</td><td>NA</td><td>NA</td><td>NA</td><td>NA</td><td>NA</td></tr>\n",
       "\t<tr><td>Date                 </td><td>45721                                                                                </td><td>NA</td><td>NA</td><td>NA</td><td>NA</td><td>NA</td><td>NA</td><td>NA</td><td>NA</td><td>NA</td><td>NA</td><td>NA</td><td>NA</td><td>NA</td></tr>\n",
       "\t<tr><td>Time                 </td><td>0.75908564814814816                                                                  </td><td>NA</td><td>NA</td><td>NA</td><td>NA</td><td>NA</td><td>NA</td><td>NA</td><td>NA</td><td>NA</td><td>NA</td><td>NA</td><td>NA</td><td>NA</td></tr>\n",
       "</tbody>\n",
       "</table>\n"
      ],
      "text/latex": [
       "A tibble: 6 × 15\n",
       "\\begin{tabular}{lllllllllllllll}\n",
       " Software Version & 3.16.10 & ...3 & ...4 & ...5 & ...6 & ...7 & ...8 & ...9 & ...10 & ...11 & ...12 & ...13 & ...14 & ...15\\\\\n",
       " <chr> & <chr> & <chr> & <chr> & <chr> & <chr> & <chr> & <chr> & <chr> & <chr> & <chr> & <chr> & <chr> & <chr> & <chr>\\\\\n",
       "\\hline\n",
       "\t NA                    & NA                                                                                    & NA & NA & NA & NA & NA & NA & NA & NA & NA & NA & NA & NA & NA\\\\\n",
       "\t Experiment File Path: & C:\\textbackslash{}Users\\textbackslash{}Public\\textbackslash{}Documents\\textbackslash{}Experiments\\textbackslash{}sienkiewicz\\_winbourne\\textbackslash{}std\\_test.xpt        & NA & NA & NA & NA & NA & NA & NA & NA & NA & NA & NA & NA & NA\\\\\n",
       "\t Protocol File Path:   & C:\\textbackslash{}Users\\textbackslash{}Public\\textbackslash{}Documents\\textbackslash{}Experiments\\textbackslash{}sienkiewicz\\_winbourne\\textbackslash{}nitrate\\_updated.prt & NA & NA & NA & NA & NA & NA & NA & NA & NA & NA & NA & NA & NA\\\\\n",
       "\t Plate Number          & Plate 3                                                                               & NA & NA & NA & NA & NA & NA & NA & NA & NA & NA & NA & NA & NA\\\\\n",
       "\t Date                  & 45721                                                                                 & NA & NA & NA & NA & NA & NA & NA & NA & NA & NA & NA & NA & NA\\\\\n",
       "\t Time                  & 0.75908564814814816                                                                   & NA & NA & NA & NA & NA & NA & NA & NA & NA & NA & NA & NA & NA\\\\\n",
       "\\end{tabular}\n"
      ],
      "text/markdown": [
       "\n",
       "A tibble: 6 × 15\n",
       "\n",
       "| Software Version &lt;chr&gt; | 3.16.10 &lt;chr&gt; | ...3 &lt;chr&gt; | ...4 &lt;chr&gt; | ...5 &lt;chr&gt; | ...6 &lt;chr&gt; | ...7 &lt;chr&gt; | ...8 &lt;chr&gt; | ...9 &lt;chr&gt; | ...10 &lt;chr&gt; | ...11 &lt;chr&gt; | ...12 &lt;chr&gt; | ...13 &lt;chr&gt; | ...14 &lt;chr&gt; | ...15 &lt;chr&gt; |\n",
       "|---|---|---|---|---|---|---|---|---|---|---|---|---|---|---|\n",
       "| NA                    | NA                                                                                    | NA | NA | NA | NA | NA | NA | NA | NA | NA | NA | NA | NA | NA |\n",
       "| Experiment File Path: | C:\\Users\\Public\\Documents\\Experiments\\sienkiewicz_winbourne\\std_test.xpt        | NA | NA | NA | NA | NA | NA | NA | NA | NA | NA | NA | NA | NA |\n",
       "| Protocol File Path:   | C:\\Users\\Public\\Documents\\Experiments\\sienkiewicz_winbourne\\nitrate_updated.prt | NA | NA | NA | NA | NA | NA | NA | NA | NA | NA | NA | NA | NA |\n",
       "| Plate Number          | Plate 3                                                                               | NA | NA | NA | NA | NA | NA | NA | NA | NA | NA | NA | NA | NA |\n",
       "| Date                  | 45721                                                                                 | NA | NA | NA | NA | NA | NA | NA | NA | NA | NA | NA | NA | NA |\n",
       "| Time                  | 0.75908564814814816                                                                   | NA | NA | NA | NA | NA | NA | NA | NA | NA | NA | NA | NA | NA |\n",
       "\n"
      ],
      "text/plain": [
       "  Software Version     \n",
       "1 NA                   \n",
       "2 Experiment File Path:\n",
       "3 Protocol File Path:  \n",
       "4 Plate Number         \n",
       "5 Date                 \n",
       "6 Time                 \n",
       "  3.16.10                                                                              \n",
       "1 NA                                                                                   \n",
       "2 C:\\\\Users\\\\Public\\\\Documents\\\\Experiments\\\\sienkiewicz_winbourne\\\\std_test.xpt       \n",
       "3 C:\\\\Users\\\\Public\\\\Documents\\\\Experiments\\\\sienkiewicz_winbourne\\\\nitrate_updated.prt\n",
       "4 Plate 3                                                                              \n",
       "5 45721                                                                                \n",
       "6 0.75908564814814816                                                                  \n",
       "  ...3 ...4 ...5 ...6 ...7 ...8 ...9 ...10 ...11 ...12 ...13 ...14 ...15\n",
       "1 NA   NA   NA   NA   NA   NA   NA   NA    NA    NA    NA    NA    NA   \n",
       "2 NA   NA   NA   NA   NA   NA   NA   NA    NA    NA    NA    NA    NA   \n",
       "3 NA   NA   NA   NA   NA   NA   NA   NA    NA    NA    NA    NA    NA   \n",
       "4 NA   NA   NA   NA   NA   NA   NA   NA    NA    NA    NA    NA    NA   \n",
       "5 NA   NA   NA   NA   NA   NA   NA   NA    NA    NA    NA    NA    NA   \n",
       "6 NA   NA   NA   NA   NA   NA   NA   NA    NA    NA    NA    NA    NA   "
      ]
     },
     "metadata": {},
     "output_type": "display_data"
    }
   ],
   "source": [
    "head(test)"
   ]
  },
  {
   "cell_type": "code",
   "execution_count": 592,
   "id": "2d717bcf-b899-40f1-9dd5-314ec9dc7aab",
   "metadata": {},
   "outputs": [],
   "source": [
    "options(scipen = 999)\n",
    "options(digits = 5)  "
   ]
  },
  {
   "cell_type": "code",
   "execution_count": 593,
   "id": "1db1db59-a589-416f-bc94-87eae209db3f",
   "metadata": {},
   "outputs": [
    {
     "name": "stderr",
     "output_type": "stream",
     "text": [
      "Warning message:\n",
      "“\u001b[1m\u001b[22mThere was 1 warning in `mutate()`.\n",
      "\u001b[1m\u001b[22m\u001b[36mℹ\u001b[39m In argument: `across(everything(), ~as.numeric(.))`.\n",
      "Caused by warning:\n",
      "\u001b[33m!\u001b[39m NAs introduced by coercion”\n"
     ]
    },
    {
     "data": {
      "text/html": [
       "<table class=\"dataframe\">\n",
       "<caption>A tibble: 6 × 13</caption>\n",
       "<thead>\n",
       "\t<tr><th scope=col>3.16.10</th><th scope=col>...3</th><th scope=col>...4</th><th scope=col>...5</th><th scope=col>...6</th><th scope=col>...7</th><th scope=col>...8</th><th scope=col>...9</th><th scope=col>...10</th><th scope=col>...11</th><th scope=col>...12</th><th scope=col>...13</th><th scope=col>...14</th></tr>\n",
       "\t<tr><th scope=col>&lt;dbl&gt;</th><th scope=col>&lt;dbl&gt;</th><th scope=col>&lt;dbl&gt;</th><th scope=col>&lt;dbl&gt;</th><th scope=col>&lt;dbl&gt;</th><th scope=col>&lt;dbl&gt;</th><th scope=col>&lt;dbl&gt;</th><th scope=col>&lt;dbl&gt;</th><th scope=col>&lt;dbl&gt;</th><th scope=col>&lt;dbl&gt;</th><th scope=col>&lt;dbl&gt;</th><th scope=col>&lt;dbl&gt;</th><th scope=col>&lt;dbl&gt;</th></tr>\n",
       "</thead>\n",
       "<tbody>\n",
       "\t<tr><td>NA</td><td>1.000</td><td>2.000</td><td>3.000</td><td>4.000</td><td>5.000</td><td>6.000</td><td>7.000</td><td> 8.000</td><td>9.000</td><td>10.000</td><td>11.000</td><td>12.000</td></tr>\n",
       "\t<tr><td>NA</td><td>0.079</td><td>0.098</td><td>0.082</td><td>0.092</td><td>0.145</td><td>0.114</td><td>0.121</td><td> 0.066</td><td>0.847</td><td> 0.474</td><td> 0.125</td><td> 0.079</td></tr>\n",
       "\t<tr><td>NA</td><td>0.014</td><td>0.033</td><td>0.017</td><td>0.027</td><td>0.080</td><td>0.049</td><td>0.056</td><td> 0.002</td><td>0.782</td><td> 0.409</td><td> 0.060</td><td> 0.014</td></tr>\n",
       "\t<tr><td>NA</td><td>0.070</td><td>0.086</td><td>0.112</td><td>0.168</td><td>0.310</td><td>0.614</td><td>0.964</td><td> 0.064</td><td>0.846</td><td> 0.484</td><td> 0.118</td><td> 0.077</td></tr>\n",
       "\t<tr><td>NA</td><td>0.006</td><td>0.021</td><td>0.047</td><td>0.103</td><td>0.246</td><td>0.549</td><td>0.899</td><td>-0.001</td><td>0.781</td><td> 0.419</td><td> 0.054</td><td> 0.012</td></tr>\n",
       "\t<tr><td>NA</td><td>0.074</td><td>0.072</td><td>0.070</td><td>0.071</td><td>0.071</td><td>0.073</td><td>0.846</td><td> 0.119</td><td>0.066</td><td> 0.065</td><td> 0.064</td><td> 0.087</td></tr>\n",
       "</tbody>\n",
       "</table>\n"
      ],
      "text/latex": [
       "A tibble: 6 × 13\n",
       "\\begin{tabular}{lllllllllllll}\n",
       " 3.16.10 & ...3 & ...4 & ...5 & ...6 & ...7 & ...8 & ...9 & ...10 & ...11 & ...12 & ...13 & ...14\\\\\n",
       " <dbl> & <dbl> & <dbl> & <dbl> & <dbl> & <dbl> & <dbl> & <dbl> & <dbl> & <dbl> & <dbl> & <dbl> & <dbl>\\\\\n",
       "\\hline\n",
       "\t NA & 1.000 & 2.000 & 3.000 & 4.000 & 5.000 & 6.000 & 7.000 &  8.000 & 9.000 & 10.000 & 11.000 & 12.000\\\\\n",
       "\t NA & 0.079 & 0.098 & 0.082 & 0.092 & 0.145 & 0.114 & 0.121 &  0.066 & 0.847 &  0.474 &  0.125 &  0.079\\\\\n",
       "\t NA & 0.014 & 0.033 & 0.017 & 0.027 & 0.080 & 0.049 & 0.056 &  0.002 & 0.782 &  0.409 &  0.060 &  0.014\\\\\n",
       "\t NA & 0.070 & 0.086 & 0.112 & 0.168 & 0.310 & 0.614 & 0.964 &  0.064 & 0.846 &  0.484 &  0.118 &  0.077\\\\\n",
       "\t NA & 0.006 & 0.021 & 0.047 & 0.103 & 0.246 & 0.549 & 0.899 & -0.001 & 0.781 &  0.419 &  0.054 &  0.012\\\\\n",
       "\t NA & 0.074 & 0.072 & 0.070 & 0.071 & 0.071 & 0.073 & 0.846 &  0.119 & 0.066 &  0.065 &  0.064 &  0.087\\\\\n",
       "\\end{tabular}\n"
      ],
      "text/markdown": [
       "\n",
       "A tibble: 6 × 13\n",
       "\n",
       "| 3.16.10 &lt;dbl&gt; | ...3 &lt;dbl&gt; | ...4 &lt;dbl&gt; | ...5 &lt;dbl&gt; | ...6 &lt;dbl&gt; | ...7 &lt;dbl&gt; | ...8 &lt;dbl&gt; | ...9 &lt;dbl&gt; | ...10 &lt;dbl&gt; | ...11 &lt;dbl&gt; | ...12 &lt;dbl&gt; | ...13 &lt;dbl&gt; | ...14 &lt;dbl&gt; |\n",
       "|---|---|---|---|---|---|---|---|---|---|---|---|---|\n",
       "| NA | 1.000 | 2.000 | 3.000 | 4.000 | 5.000 | 6.000 | 7.000 |  8.000 | 9.000 | 10.000 | 11.000 | 12.000 |\n",
       "| NA | 0.079 | 0.098 | 0.082 | 0.092 | 0.145 | 0.114 | 0.121 |  0.066 | 0.847 |  0.474 |  0.125 |  0.079 |\n",
       "| NA | 0.014 | 0.033 | 0.017 | 0.027 | 0.080 | 0.049 | 0.056 |  0.002 | 0.782 |  0.409 |  0.060 |  0.014 |\n",
       "| NA | 0.070 | 0.086 | 0.112 | 0.168 | 0.310 | 0.614 | 0.964 |  0.064 | 0.846 |  0.484 |  0.118 |  0.077 |\n",
       "| NA | 0.006 | 0.021 | 0.047 | 0.103 | 0.246 | 0.549 | 0.899 | -0.001 | 0.781 |  0.419 |  0.054 |  0.012 |\n",
       "| NA | 0.074 | 0.072 | 0.070 | 0.071 | 0.071 | 0.073 | 0.846 |  0.119 | 0.066 |  0.065 |  0.064 |  0.087 |\n",
       "\n"
      ],
      "text/plain": [
       "  3.16.10 ...3  ...4  ...5  ...6  ...7  ...8  ...9  ...10  ...11 ...12  ...13 \n",
       "1 NA      1.000 2.000 3.000 4.000 5.000 6.000 7.000  8.000 9.000 10.000 11.000\n",
       "2 NA      0.079 0.098 0.082 0.092 0.145 0.114 0.121  0.066 0.847  0.474  0.125\n",
       "3 NA      0.014 0.033 0.017 0.027 0.080 0.049 0.056  0.002 0.782  0.409  0.060\n",
       "4 NA      0.070 0.086 0.112 0.168 0.310 0.614 0.964  0.064 0.846  0.484  0.118\n",
       "5 NA      0.006 0.021 0.047 0.103 0.246 0.549 0.899 -0.001 0.781  0.419  0.054\n",
       "6 NA      0.074 0.072 0.070 0.071 0.071 0.073 0.846  0.119 0.066  0.065  0.064\n",
       "  ...14 \n",
       "1 12.000\n",
       "2  0.079\n",
       "3  0.014\n",
       "4  0.077\n",
       "5  0.012\n",
       "6  0.087"
      ]
     },
     "metadata": {},
     "output_type": "display_data"
    }
   ],
   "source": [
    "# pull out raw results \n",
    "raw <-test %>%\n",
    "    select(2:14) %>%\n",
    "        slice(c(42:57)) %>%\n",
    "# get rid of scientific notation\n",
    "            mutate(across(everything(), ~ as.numeric(.))) %>% \n",
    "                mutate(across(everything(), ~ round(., 4))) \n",
    "head(raw)"
   ]
  },
  {
   "cell_type": "code",
   "execution_count": 594,
   "id": "903635cd-1dae-4dc9-a9eb-4e258e734d78",
   "metadata": {},
   "outputs": [
    {
     "data": {
      "text/html": [
       "<table class=\"dataframe\">\n",
       "<caption>A data.frame: 15 × 13</caption>\n",
       "<thead>\n",
       "\t<tr><th scope=col>letter</th><th scope=col>1</th><th scope=col>2</th><th scope=col>3</th><th scope=col>4</th><th scope=col>5</th><th scope=col>6</th><th scope=col>7</th><th scope=col>8</th><th scope=col>9</th><th scope=col>10</th><th scope=col>11</th><th scope=col>12</th></tr>\n",
       "\t<tr><th scope=col>&lt;dbl&gt;</th><th scope=col>&lt;dbl&gt;</th><th scope=col>&lt;dbl&gt;</th><th scope=col>&lt;dbl&gt;</th><th scope=col>&lt;dbl&gt;</th><th scope=col>&lt;dbl&gt;</th><th scope=col>&lt;dbl&gt;</th><th scope=col>&lt;dbl&gt;</th><th scope=col>&lt;dbl&gt;</th><th scope=col>&lt;dbl&gt;</th><th scope=col>&lt;dbl&gt;</th><th scope=col>&lt;dbl&gt;</th><th scope=col>&lt;dbl&gt;</th></tr>\n",
       "</thead>\n",
       "<tbody>\n",
       "\t<tr><td>NA</td><td>0.079</td><td>0.098</td><td>0.082</td><td>0.092</td><td>0.145</td><td>0.114</td><td>0.121</td><td> 0.066</td><td> 0.847</td><td>0.474</td><td> 0.125</td><td>0.079</td></tr>\n",
       "\t<tr><td>NA</td><td>0.014</td><td>0.033</td><td>0.017</td><td>0.027</td><td>0.080</td><td>0.049</td><td>0.056</td><td> 0.002</td><td> 0.782</td><td>0.409</td><td> 0.060</td><td>0.014</td></tr>\n",
       "\t<tr><td>NA</td><td>0.070</td><td>0.086</td><td>0.112</td><td>0.168</td><td>0.310</td><td>0.614</td><td>0.964</td><td> 0.064</td><td> 0.846</td><td>0.484</td><td> 0.118</td><td>0.077</td></tr>\n",
       "\t<tr><td>NA</td><td>0.006</td><td>0.021</td><td>0.047</td><td>0.103</td><td>0.246</td><td>0.549</td><td>0.899</td><td>-0.001</td><td> 0.781</td><td>0.419</td><td> 0.054</td><td>0.012</td></tr>\n",
       "\t<tr><td>NA</td><td>0.074</td><td>0.072</td><td>0.070</td><td>0.071</td><td>0.071</td><td>0.073</td><td>0.846</td><td> 0.119</td><td> 0.066</td><td>0.065</td><td> 0.064</td><td>0.087</td></tr>\n",
       "\t<tr><td>NA</td><td>0.010</td><td>0.007</td><td>0.005</td><td>0.006</td><td>0.006</td><td>0.008</td><td>0.781</td><td> 0.054</td><td> 0.002</td><td>0.000</td><td>-0.001</td><td>0.022</td></tr>\n",
       "\t<tr><td>NA</td><td>0.080</td><td>0.071</td><td>0.072</td><td>0.068</td><td>0.066</td><td>0.067</td><td>0.478</td><td> 0.064</td><td> 0.064</td><td>0.064</td><td> 0.064</td><td>0.098</td></tr>\n",
       "\t<tr><td>NA</td><td>0.015</td><td>0.007</td><td>0.008</td><td>0.003</td><td>0.001</td><td>0.002</td><td>0.413</td><td>-0.001</td><td>-0.001</td><td>0.000</td><td>-0.001</td><td>0.033</td></tr>\n",
       "\t<tr><td>NA</td><td>0.072</td><td>0.073</td><td>0.107</td><td>0.092</td><td>0.098</td><td>0.106</td><td>0.199</td><td> 0.064</td><td> 0.848</td><td>0.485</td><td> 0.121</td><td>0.109</td></tr>\n",
       "\t<tr><td>NA</td><td>0.007</td><td>0.008</td><td>0.043</td><td>0.028</td><td>0.033</td><td>0.041</td><td>0.134</td><td>-0.001</td><td> 0.783</td><td>0.420</td><td> 0.057</td><td>0.044</td></tr>\n",
       "\t<tr><td>NA</td><td>0.082</td><td>0.093</td><td>0.122</td><td>0.166</td><td>0.272</td><td>0.615</td><td>0.980</td><td> 0.067</td><td> 0.842</td><td>0.486</td><td> 0.119</td><td>0.171</td></tr>\n",
       "\t<tr><td>NA</td><td>0.018</td><td>0.029</td><td>0.058</td><td>0.101</td><td>0.207</td><td>0.550</td><td>0.915</td><td> 0.002</td><td> 0.777</td><td>0.421</td><td> 0.055</td><td>0.106</td></tr>\n",
       "\t<tr><td>NA</td><td>   NA</td><td>   NA</td><td>   NA</td><td>   NA</td><td>   NA</td><td>   NA</td><td>   NA</td><td>    NA</td><td>    NA</td><td>   NA</td><td>    NA</td><td>   NA</td></tr>\n",
       "\t<tr><td>NA</td><td>   NA</td><td>   NA</td><td>   NA</td><td>   NA</td><td>   NA</td><td>   NA</td><td>   NA</td><td>    NA</td><td>    NA</td><td>   NA</td><td>    NA</td><td>   NA</td></tr>\n",
       "\t<tr><td>NA</td><td>   NA</td><td>   NA</td><td>   NA</td><td>   NA</td><td>   NA</td><td>   NA</td><td>   NA</td><td>    NA</td><td>    NA</td><td>   NA</td><td>    NA</td><td>   NA</td></tr>\n",
       "</tbody>\n",
       "</table>\n"
      ],
      "text/latex": [
       "A data.frame: 15 × 13\n",
       "\\begin{tabular}{lllllllllllll}\n",
       " letter & 1 & 2 & 3 & 4 & 5 & 6 & 7 & 8 & 9 & 10 & 11 & 12\\\\\n",
       " <dbl> & <dbl> & <dbl> & <dbl> & <dbl> & <dbl> & <dbl> & <dbl> & <dbl> & <dbl> & <dbl> & <dbl> & <dbl>\\\\\n",
       "\\hline\n",
       "\t NA & 0.079 & 0.098 & 0.082 & 0.092 & 0.145 & 0.114 & 0.121 &  0.066 &  0.847 & 0.474 &  0.125 & 0.079\\\\\n",
       "\t NA & 0.014 & 0.033 & 0.017 & 0.027 & 0.080 & 0.049 & 0.056 &  0.002 &  0.782 & 0.409 &  0.060 & 0.014\\\\\n",
       "\t NA & 0.070 & 0.086 & 0.112 & 0.168 & 0.310 & 0.614 & 0.964 &  0.064 &  0.846 & 0.484 &  0.118 & 0.077\\\\\n",
       "\t NA & 0.006 & 0.021 & 0.047 & 0.103 & 0.246 & 0.549 & 0.899 & -0.001 &  0.781 & 0.419 &  0.054 & 0.012\\\\\n",
       "\t NA & 0.074 & 0.072 & 0.070 & 0.071 & 0.071 & 0.073 & 0.846 &  0.119 &  0.066 & 0.065 &  0.064 & 0.087\\\\\n",
       "\t NA & 0.010 & 0.007 & 0.005 & 0.006 & 0.006 & 0.008 & 0.781 &  0.054 &  0.002 & 0.000 & -0.001 & 0.022\\\\\n",
       "\t NA & 0.080 & 0.071 & 0.072 & 0.068 & 0.066 & 0.067 & 0.478 &  0.064 &  0.064 & 0.064 &  0.064 & 0.098\\\\\n",
       "\t NA & 0.015 & 0.007 & 0.008 & 0.003 & 0.001 & 0.002 & 0.413 & -0.001 & -0.001 & 0.000 & -0.001 & 0.033\\\\\n",
       "\t NA & 0.072 & 0.073 & 0.107 & 0.092 & 0.098 & 0.106 & 0.199 &  0.064 &  0.848 & 0.485 &  0.121 & 0.109\\\\\n",
       "\t NA & 0.007 & 0.008 & 0.043 & 0.028 & 0.033 & 0.041 & 0.134 & -0.001 &  0.783 & 0.420 &  0.057 & 0.044\\\\\n",
       "\t NA & 0.082 & 0.093 & 0.122 & 0.166 & 0.272 & 0.615 & 0.980 &  0.067 &  0.842 & 0.486 &  0.119 & 0.171\\\\\n",
       "\t NA & 0.018 & 0.029 & 0.058 & 0.101 & 0.207 & 0.550 & 0.915 &  0.002 &  0.777 & 0.421 &  0.055 & 0.106\\\\\n",
       "\t NA &    NA &    NA &    NA &    NA &    NA &    NA &    NA &     NA &     NA &    NA &     NA &    NA\\\\\n",
       "\t NA &    NA &    NA &    NA &    NA &    NA &    NA &    NA &     NA &     NA &    NA &     NA &    NA\\\\\n",
       "\t NA &    NA &    NA &    NA &    NA &    NA &    NA &    NA &     NA &     NA &    NA &     NA &    NA\\\\\n",
       "\\end{tabular}\n"
      ],
      "text/markdown": [
       "\n",
       "A data.frame: 15 × 13\n",
       "\n",
       "| letter &lt;dbl&gt; | 1 &lt;dbl&gt; | 2 &lt;dbl&gt; | 3 &lt;dbl&gt; | 4 &lt;dbl&gt; | 5 &lt;dbl&gt; | 6 &lt;dbl&gt; | 7 &lt;dbl&gt; | 8 &lt;dbl&gt; | 9 &lt;dbl&gt; | 10 &lt;dbl&gt; | 11 &lt;dbl&gt; | 12 &lt;dbl&gt; |\n",
       "|---|---|---|---|---|---|---|---|---|---|---|---|---|\n",
       "| NA | 0.079 | 0.098 | 0.082 | 0.092 | 0.145 | 0.114 | 0.121 |  0.066 |  0.847 | 0.474 |  0.125 | 0.079 |\n",
       "| NA | 0.014 | 0.033 | 0.017 | 0.027 | 0.080 | 0.049 | 0.056 |  0.002 |  0.782 | 0.409 |  0.060 | 0.014 |\n",
       "| NA | 0.070 | 0.086 | 0.112 | 0.168 | 0.310 | 0.614 | 0.964 |  0.064 |  0.846 | 0.484 |  0.118 | 0.077 |\n",
       "| NA | 0.006 | 0.021 | 0.047 | 0.103 | 0.246 | 0.549 | 0.899 | -0.001 |  0.781 | 0.419 |  0.054 | 0.012 |\n",
       "| NA | 0.074 | 0.072 | 0.070 | 0.071 | 0.071 | 0.073 | 0.846 |  0.119 |  0.066 | 0.065 |  0.064 | 0.087 |\n",
       "| NA | 0.010 | 0.007 | 0.005 | 0.006 | 0.006 | 0.008 | 0.781 |  0.054 |  0.002 | 0.000 | -0.001 | 0.022 |\n",
       "| NA | 0.080 | 0.071 | 0.072 | 0.068 | 0.066 | 0.067 | 0.478 |  0.064 |  0.064 | 0.064 |  0.064 | 0.098 |\n",
       "| NA | 0.015 | 0.007 | 0.008 | 0.003 | 0.001 | 0.002 | 0.413 | -0.001 | -0.001 | 0.000 | -0.001 | 0.033 |\n",
       "| NA | 0.072 | 0.073 | 0.107 | 0.092 | 0.098 | 0.106 | 0.199 |  0.064 |  0.848 | 0.485 |  0.121 | 0.109 |\n",
       "| NA | 0.007 | 0.008 | 0.043 | 0.028 | 0.033 | 0.041 | 0.134 | -0.001 |  0.783 | 0.420 |  0.057 | 0.044 |\n",
       "| NA | 0.082 | 0.093 | 0.122 | 0.166 | 0.272 | 0.615 | 0.980 |  0.067 |  0.842 | 0.486 |  0.119 | 0.171 |\n",
       "| NA | 0.018 | 0.029 | 0.058 | 0.101 | 0.207 | 0.550 | 0.915 |  0.002 |  0.777 | 0.421 |  0.055 | 0.106 |\n",
       "| NA |    NA |    NA |    NA |    NA |    NA |    NA |    NA |     NA |     NA |    NA |     NA |    NA |\n",
       "| NA |    NA |    NA |    NA |    NA |    NA |    NA |    NA |     NA |     NA |    NA |     NA |    NA |\n",
       "| NA |    NA |    NA |    NA |    NA |    NA |    NA |    NA |     NA |     NA |    NA |     NA |    NA |\n",
       "\n"
      ],
      "text/plain": [
       "   letter 1     2     3     4     5     6     7     8      9      10    11    \n",
       "1  NA     0.079 0.098 0.082 0.092 0.145 0.114 0.121  0.066  0.847 0.474  0.125\n",
       "2  NA     0.014 0.033 0.017 0.027 0.080 0.049 0.056  0.002  0.782 0.409  0.060\n",
       "3  NA     0.070 0.086 0.112 0.168 0.310 0.614 0.964  0.064  0.846 0.484  0.118\n",
       "4  NA     0.006 0.021 0.047 0.103 0.246 0.549 0.899 -0.001  0.781 0.419  0.054\n",
       "5  NA     0.074 0.072 0.070 0.071 0.071 0.073 0.846  0.119  0.066 0.065  0.064\n",
       "6  NA     0.010 0.007 0.005 0.006 0.006 0.008 0.781  0.054  0.002 0.000 -0.001\n",
       "7  NA     0.080 0.071 0.072 0.068 0.066 0.067 0.478  0.064  0.064 0.064  0.064\n",
       "8  NA     0.015 0.007 0.008 0.003 0.001 0.002 0.413 -0.001 -0.001 0.000 -0.001\n",
       "9  NA     0.072 0.073 0.107 0.092 0.098 0.106 0.199  0.064  0.848 0.485  0.121\n",
       "10 NA     0.007 0.008 0.043 0.028 0.033 0.041 0.134 -0.001  0.783 0.420  0.057\n",
       "11 NA     0.082 0.093 0.122 0.166 0.272 0.615 0.980  0.067  0.842 0.486  0.119\n",
       "12 NA     0.018 0.029 0.058 0.101 0.207 0.550 0.915  0.002  0.777 0.421  0.055\n",
       "13 NA        NA    NA    NA    NA    NA    NA    NA     NA     NA    NA     NA\n",
       "14 NA        NA    NA    NA    NA    NA    NA    NA     NA     NA    NA     NA\n",
       "15 NA        NA    NA    NA    NA    NA    NA    NA     NA     NA    NA     NA\n",
       "   12   \n",
       "1  0.079\n",
       "2  0.014\n",
       "3  0.077\n",
       "4  0.012\n",
       "5  0.087\n",
       "6  0.022\n",
       "7  0.098\n",
       "8  0.033\n",
       "9  0.109\n",
       "10 0.044\n",
       "11 0.171\n",
       "12 0.106\n",
       "13    NA\n",
       "14    NA\n",
       "15    NA"
      ]
     },
     "metadata": {},
     "output_type": "display_data"
    }
   ],
   "source": [
    "## data cleanup \n",
    "# fix colnames \n",
    "colnames(raw) <- raw[1, ]\n",
    "colnames(raw)[1] <- \"letter\"\n",
    "# remove first row \n",
    "raw <- raw[-1,]\n",
    "# convert to df\n",
    "raw <- as.data.frame(raw)\n",
    "raw"
   ]
  },
  {
   "cell_type": "code",
   "execution_count": 595,
   "id": "85805d32-d1f3-49ff-9696-f9a320463a36",
   "metadata": {},
   "outputs": [
    {
     "data": {
      "text/html": [
       "<table class=\"dataframe\">\n",
       "<caption>A data.frame: 15 × 12</caption>\n",
       "<thead>\n",
       "\t<tr><th></th><th scope=col>1</th><th scope=col>2</th><th scope=col>3</th><th scope=col>4</th><th scope=col>5</th><th scope=col>6</th><th scope=col>7</th><th scope=col>8</th><th scope=col>9</th><th scope=col>10</th><th scope=col>11</th><th scope=col>12</th></tr>\n",
       "\t<tr><th></th><th scope=col>&lt;dbl&gt;</th><th scope=col>&lt;dbl&gt;</th><th scope=col>&lt;dbl&gt;</th><th scope=col>&lt;dbl&gt;</th><th scope=col>&lt;dbl&gt;</th><th scope=col>&lt;dbl&gt;</th><th scope=col>&lt;dbl&gt;</th><th scope=col>&lt;dbl&gt;</th><th scope=col>&lt;dbl&gt;</th><th scope=col>&lt;dbl&gt;</th><th scope=col>&lt;dbl&gt;</th><th scope=col>&lt;dbl&gt;</th></tr>\n",
       "</thead>\n",
       "<tbody>\n",
       "\t<tr><th scope=row>a</th><td>0.079</td><td>0.098</td><td>0.082</td><td>0.092</td><td>0.145</td><td>0.114</td><td>0.121</td><td> 0.066</td><td> 0.847</td><td>0.474</td><td> 0.125</td><td>0.079</td></tr>\n",
       "\t<tr><th scope=row>a_blank</th><td>0.014</td><td>0.033</td><td>0.017</td><td>0.027</td><td>0.080</td><td>0.049</td><td>0.056</td><td> 0.002</td><td> 0.782</td><td>0.409</td><td> 0.060</td><td>0.014</td></tr>\n",
       "\t<tr><th scope=row>b</th><td>0.070</td><td>0.086</td><td>0.112</td><td>0.168</td><td>0.310</td><td>0.614</td><td>0.964</td><td> 0.064</td><td> 0.846</td><td>0.484</td><td> 0.118</td><td>0.077</td></tr>\n",
       "\t<tr><th scope=row>b_blank</th><td>0.006</td><td>0.021</td><td>0.047</td><td>0.103</td><td>0.246</td><td>0.549</td><td>0.899</td><td>-0.001</td><td> 0.781</td><td>0.419</td><td> 0.054</td><td>0.012</td></tr>\n",
       "\t<tr><th scope=row>c</th><td>0.074</td><td>0.072</td><td>0.070</td><td>0.071</td><td>0.071</td><td>0.073</td><td>0.846</td><td> 0.119</td><td> 0.066</td><td>0.065</td><td> 0.064</td><td>0.087</td></tr>\n",
       "\t<tr><th scope=row>c_blank</th><td>0.010</td><td>0.007</td><td>0.005</td><td>0.006</td><td>0.006</td><td>0.008</td><td>0.781</td><td> 0.054</td><td> 0.002</td><td>0.000</td><td>-0.001</td><td>0.022</td></tr>\n",
       "\t<tr><th scope=row>d</th><td>0.080</td><td>0.071</td><td>0.072</td><td>0.068</td><td>0.066</td><td>0.067</td><td>0.478</td><td> 0.064</td><td> 0.064</td><td>0.064</td><td> 0.064</td><td>0.098</td></tr>\n",
       "\t<tr><th scope=row>d_blank</th><td>0.015</td><td>0.007</td><td>0.008</td><td>0.003</td><td>0.001</td><td>0.002</td><td>0.413</td><td>-0.001</td><td>-0.001</td><td>0.000</td><td>-0.001</td><td>0.033</td></tr>\n",
       "\t<tr><th scope=row>e</th><td>0.072</td><td>0.073</td><td>0.107</td><td>0.092</td><td>0.098</td><td>0.106</td><td>0.199</td><td> 0.064</td><td> 0.848</td><td>0.485</td><td> 0.121</td><td>0.109</td></tr>\n",
       "\t<tr><th scope=row>e_blank</th><td>0.007</td><td>0.008</td><td>0.043</td><td>0.028</td><td>0.033</td><td>0.041</td><td>0.134</td><td>-0.001</td><td> 0.783</td><td>0.420</td><td> 0.057</td><td>0.044</td></tr>\n",
       "\t<tr><th scope=row>f</th><td>0.082</td><td>0.093</td><td>0.122</td><td>0.166</td><td>0.272</td><td>0.615</td><td>0.980</td><td> 0.067</td><td> 0.842</td><td>0.486</td><td> 0.119</td><td>0.171</td></tr>\n",
       "\t<tr><th scope=row>f_blank</th><td>0.018</td><td>0.029</td><td>0.058</td><td>0.101</td><td>0.207</td><td>0.550</td><td>0.915</td><td> 0.002</td><td> 0.777</td><td>0.421</td><td> 0.055</td><td>0.106</td></tr>\n",
       "\t<tr><th scope=row>g</th><td>   NA</td><td>   NA</td><td>   NA</td><td>   NA</td><td>   NA</td><td>   NA</td><td>   NA</td><td>    NA</td><td>    NA</td><td>   NA</td><td>    NA</td><td>   NA</td></tr>\n",
       "\t<tr><th scope=row>g_blank</th><td>   NA</td><td>   NA</td><td>   NA</td><td>   NA</td><td>   NA</td><td>   NA</td><td>   NA</td><td>    NA</td><td>    NA</td><td>   NA</td><td>    NA</td><td>   NA</td></tr>\n",
       "\t<tr><th scope=row>h</th><td>   NA</td><td>   NA</td><td>   NA</td><td>   NA</td><td>   NA</td><td>   NA</td><td>   NA</td><td>    NA</td><td>    NA</td><td>   NA</td><td>    NA</td><td>   NA</td></tr>\n",
       "</tbody>\n",
       "</table>\n"
      ],
      "text/latex": [
       "A data.frame: 15 × 12\n",
       "\\begin{tabular}{r|llllllllllll}\n",
       "  & 1 & 2 & 3 & 4 & 5 & 6 & 7 & 8 & 9 & 10 & 11 & 12\\\\\n",
       "  & <dbl> & <dbl> & <dbl> & <dbl> & <dbl> & <dbl> & <dbl> & <dbl> & <dbl> & <dbl> & <dbl> & <dbl>\\\\\n",
       "\\hline\n",
       "\ta & 0.079 & 0.098 & 0.082 & 0.092 & 0.145 & 0.114 & 0.121 &  0.066 &  0.847 & 0.474 &  0.125 & 0.079\\\\\n",
       "\ta\\_blank & 0.014 & 0.033 & 0.017 & 0.027 & 0.080 & 0.049 & 0.056 &  0.002 &  0.782 & 0.409 &  0.060 & 0.014\\\\\n",
       "\tb & 0.070 & 0.086 & 0.112 & 0.168 & 0.310 & 0.614 & 0.964 &  0.064 &  0.846 & 0.484 &  0.118 & 0.077\\\\\n",
       "\tb\\_blank & 0.006 & 0.021 & 0.047 & 0.103 & 0.246 & 0.549 & 0.899 & -0.001 &  0.781 & 0.419 &  0.054 & 0.012\\\\\n",
       "\tc & 0.074 & 0.072 & 0.070 & 0.071 & 0.071 & 0.073 & 0.846 &  0.119 &  0.066 & 0.065 &  0.064 & 0.087\\\\\n",
       "\tc\\_blank & 0.010 & 0.007 & 0.005 & 0.006 & 0.006 & 0.008 & 0.781 &  0.054 &  0.002 & 0.000 & -0.001 & 0.022\\\\\n",
       "\td & 0.080 & 0.071 & 0.072 & 0.068 & 0.066 & 0.067 & 0.478 &  0.064 &  0.064 & 0.064 &  0.064 & 0.098\\\\\n",
       "\td\\_blank & 0.015 & 0.007 & 0.008 & 0.003 & 0.001 & 0.002 & 0.413 & -0.001 & -0.001 & 0.000 & -0.001 & 0.033\\\\\n",
       "\te & 0.072 & 0.073 & 0.107 & 0.092 & 0.098 & 0.106 & 0.199 &  0.064 &  0.848 & 0.485 &  0.121 & 0.109\\\\\n",
       "\te\\_blank & 0.007 & 0.008 & 0.043 & 0.028 & 0.033 & 0.041 & 0.134 & -0.001 &  0.783 & 0.420 &  0.057 & 0.044\\\\\n",
       "\tf & 0.082 & 0.093 & 0.122 & 0.166 & 0.272 & 0.615 & 0.980 &  0.067 &  0.842 & 0.486 &  0.119 & 0.171\\\\\n",
       "\tf\\_blank & 0.018 & 0.029 & 0.058 & 0.101 & 0.207 & 0.550 & 0.915 &  0.002 &  0.777 & 0.421 &  0.055 & 0.106\\\\\n",
       "\tg &    NA &    NA &    NA &    NA &    NA &    NA &    NA &     NA &     NA &    NA &     NA &    NA\\\\\n",
       "\tg\\_blank &    NA &    NA &    NA &    NA &    NA &    NA &    NA &     NA &     NA &    NA &     NA &    NA\\\\\n",
       "\th &    NA &    NA &    NA &    NA &    NA &    NA &    NA &     NA &     NA &    NA &     NA &    NA\\\\\n",
       "\\end{tabular}\n"
      ],
      "text/markdown": [
       "\n",
       "A data.frame: 15 × 12\n",
       "\n",
       "| <!--/--> | 1 &lt;dbl&gt; | 2 &lt;dbl&gt; | 3 &lt;dbl&gt; | 4 &lt;dbl&gt; | 5 &lt;dbl&gt; | 6 &lt;dbl&gt; | 7 &lt;dbl&gt; | 8 &lt;dbl&gt; | 9 &lt;dbl&gt; | 10 &lt;dbl&gt; | 11 &lt;dbl&gt; | 12 &lt;dbl&gt; |\n",
       "|---|---|---|---|---|---|---|---|---|---|---|---|---|\n",
       "| a | 0.079 | 0.098 | 0.082 | 0.092 | 0.145 | 0.114 | 0.121 |  0.066 |  0.847 | 0.474 |  0.125 | 0.079 |\n",
       "| a_blank | 0.014 | 0.033 | 0.017 | 0.027 | 0.080 | 0.049 | 0.056 |  0.002 |  0.782 | 0.409 |  0.060 | 0.014 |\n",
       "| b | 0.070 | 0.086 | 0.112 | 0.168 | 0.310 | 0.614 | 0.964 |  0.064 |  0.846 | 0.484 |  0.118 | 0.077 |\n",
       "| b_blank | 0.006 | 0.021 | 0.047 | 0.103 | 0.246 | 0.549 | 0.899 | -0.001 |  0.781 | 0.419 |  0.054 | 0.012 |\n",
       "| c | 0.074 | 0.072 | 0.070 | 0.071 | 0.071 | 0.073 | 0.846 |  0.119 |  0.066 | 0.065 |  0.064 | 0.087 |\n",
       "| c_blank | 0.010 | 0.007 | 0.005 | 0.006 | 0.006 | 0.008 | 0.781 |  0.054 |  0.002 | 0.000 | -0.001 | 0.022 |\n",
       "| d | 0.080 | 0.071 | 0.072 | 0.068 | 0.066 | 0.067 | 0.478 |  0.064 |  0.064 | 0.064 |  0.064 | 0.098 |\n",
       "| d_blank | 0.015 | 0.007 | 0.008 | 0.003 | 0.001 | 0.002 | 0.413 | -0.001 | -0.001 | 0.000 | -0.001 | 0.033 |\n",
       "| e | 0.072 | 0.073 | 0.107 | 0.092 | 0.098 | 0.106 | 0.199 |  0.064 |  0.848 | 0.485 |  0.121 | 0.109 |\n",
       "| e_blank | 0.007 | 0.008 | 0.043 | 0.028 | 0.033 | 0.041 | 0.134 | -0.001 |  0.783 | 0.420 |  0.057 | 0.044 |\n",
       "| f | 0.082 | 0.093 | 0.122 | 0.166 | 0.272 | 0.615 | 0.980 |  0.067 |  0.842 | 0.486 |  0.119 | 0.171 |\n",
       "| f_blank | 0.018 | 0.029 | 0.058 | 0.101 | 0.207 | 0.550 | 0.915 |  0.002 |  0.777 | 0.421 |  0.055 | 0.106 |\n",
       "| g |    NA |    NA |    NA |    NA |    NA |    NA |    NA |     NA |     NA |    NA |     NA |    NA |\n",
       "| g_blank |    NA |    NA |    NA |    NA |    NA |    NA |    NA |     NA |     NA |    NA |     NA |    NA |\n",
       "| h |    NA |    NA |    NA |    NA |    NA |    NA |    NA |     NA |     NA |    NA |     NA |    NA |\n",
       "\n"
      ],
      "text/plain": [
       "        1     2     3     4     5     6     7     8      9      10    11    \n",
       "a       0.079 0.098 0.082 0.092 0.145 0.114 0.121  0.066  0.847 0.474  0.125\n",
       "a_blank 0.014 0.033 0.017 0.027 0.080 0.049 0.056  0.002  0.782 0.409  0.060\n",
       "b       0.070 0.086 0.112 0.168 0.310 0.614 0.964  0.064  0.846 0.484  0.118\n",
       "b_blank 0.006 0.021 0.047 0.103 0.246 0.549 0.899 -0.001  0.781 0.419  0.054\n",
       "c       0.074 0.072 0.070 0.071 0.071 0.073 0.846  0.119  0.066 0.065  0.064\n",
       "c_blank 0.010 0.007 0.005 0.006 0.006 0.008 0.781  0.054  0.002 0.000 -0.001\n",
       "d       0.080 0.071 0.072 0.068 0.066 0.067 0.478  0.064  0.064 0.064  0.064\n",
       "d_blank 0.015 0.007 0.008 0.003 0.001 0.002 0.413 -0.001 -0.001 0.000 -0.001\n",
       "e       0.072 0.073 0.107 0.092 0.098 0.106 0.199  0.064  0.848 0.485  0.121\n",
       "e_blank 0.007 0.008 0.043 0.028 0.033 0.041 0.134 -0.001  0.783 0.420  0.057\n",
       "f       0.082 0.093 0.122 0.166 0.272 0.615 0.980  0.067  0.842 0.486  0.119\n",
       "f_blank 0.018 0.029 0.058 0.101 0.207 0.550 0.915  0.002  0.777 0.421  0.055\n",
       "g          NA    NA    NA    NA    NA    NA    NA     NA     NA    NA     NA\n",
       "g_blank    NA    NA    NA    NA    NA    NA    NA     NA     NA    NA     NA\n",
       "h          NA    NA    NA    NA    NA    NA    NA     NA     NA    NA     NA\n",
       "        12   \n",
       "a       0.079\n",
       "a_blank 0.014\n",
       "b       0.077\n",
       "b_blank 0.012\n",
       "c       0.087\n",
       "c_blank 0.022\n",
       "d       0.098\n",
       "d_blank 0.033\n",
       "e       0.109\n",
       "e_blank 0.044\n",
       "f       0.171\n",
       "f_blank 0.106\n",
       "g          NA\n",
       "g_blank    NA\n",
       "h          NA"
      ]
     },
     "metadata": {},
     "output_type": "display_data"
    }
   ],
   "source": [
    "# rename rows with letter and letter_blank\n",
    "n_rows <- nrow(raw)\n",
    "letters_vec <- letters[1:((n_rows + 1) %/% 2)]\n",
    "rownames(raw) <- paste0(rep(letters_vec, each = 2)[1:n_rows], \n",
    "                              c(rep(c(\"\", \"_blank\"), length(letters_vec)), FALSE)[1:n_rows])\n",
    "# remove first columns\n",
    "raw <- raw[, -1]\n",
    "raw"
   ]
  },
  {
   "cell_type": "markdown",
   "id": "17171a56-f856-4c99-a88e-0cce50f0e6ec",
   "metadata": {},
   "source": [
    "## Standard Test - processing \n",
    "this standards test plate was run on 3/5/25\n",
    "- for now, not worring about the 'blank' reading by the plate reader\n",
    "- didn't use the last 2 rows\n",
    "- 3x **low (0 - 0.05 ppm)**\n",
    "- and 2x **normal standards (0 - 1 ppm)**\n",
    "- 2 duplicate test samples \n",
    "- 3x 3 QC checks using ERA standard "
   ]
  },
  {
   "cell_type": "code",
   "execution_count": 596,
   "id": "f3d57903-5251-4705-9949-4b5b7db870ff",
   "metadata": {},
   "outputs": [
    {
     "data": {
      "text/html": [
       "<table class=\"dataframe\">\n",
       "<caption>A data.frame: 6 × 13</caption>\n",
       "<thead>\n",
       "\t<tr><th></th><th scope=col>3.16.10</th><th scope=col>...3</th><th scope=col>...4</th><th scope=col>...5</th><th scope=col>...6</th><th scope=col>...7</th><th scope=col>...8</th><th scope=col>...9</th><th scope=col>...10</th><th scope=col>...11</th><th scope=col>...12</th><th scope=col>...13</th><th scope=col>...14</th></tr>\n",
       "\t<tr><th></th><th scope=col>&lt;chr&gt;</th><th scope=col>&lt;chr&gt;</th><th scope=col>&lt;chr&gt;</th><th scope=col>&lt;chr&gt;</th><th scope=col>&lt;chr&gt;</th><th scope=col>&lt;chr&gt;</th><th scope=col>&lt;chr&gt;</th><th scope=col>&lt;chr&gt;</th><th scope=col>&lt;chr&gt;</th><th scope=col>&lt;chr&gt;</th><th scope=col>&lt;chr&gt;</th><th scope=col>&lt;chr&gt;</th><th scope=col>&lt;chr&gt;</th></tr>\n",
       "</thead>\n",
       "<tbody>\n",
       "\t<tr><th scope=row>1</th><td>A </td><td>STD1 </td><td>STD2                 </td><td>STD3 </td><td>STD4 </td><td>STD5 </td><td>STD6 </td><td>STD7 </td><td>BLK </td><td>QC:1</td><td>QC:2</td><td>QC:3</td><td>STD2                 </td></tr>\n",
       "\t<tr><th scope=row>2</th><td>NA</td><td>0    </td><td>5.0000000000000001E-3</td><td>0.01 </td><td>0.02 </td><td>0.03 </td><td>0.04 </td><td>0.05 </td><td>NA  </td><td>1   </td><td>0.5 </td><td>0.05</td><td>5.0000000000000001E-3</td></tr>\n",
       "\t<tr><th scope=row>3</th><td>B </td><td>STDB1</td><td>STDB2                </td><td>STDB3</td><td>STDB4</td><td>STDB5</td><td>STDB6</td><td>STDB7</td><td>BLK </td><td>QC:1</td><td>QC:2</td><td>QC:3</td><td>STD3                 </td></tr>\n",
       "\t<tr><th scope=row>4</th><td>NA</td><td>0    </td><td>0.02                 </td><td>0.05 </td><td>0.1  </td><td>0.2  </td><td>0.5  </td><td>1    </td><td>NA  </td><td>1   </td><td>0.5 </td><td>0.05</td><td>0.01                 </td></tr>\n",
       "\t<tr><th scope=row>5</th><td>C </td><td>SPL1 </td><td>SPL1                 </td><td>SPL1 </td><td>SPL2 </td><td>SPL2 </td><td>SPL2 </td><td>QC:1 </td><td>QC:3</td><td>BLK </td><td>BLK </td><td>BLK </td><td>STD4                 </td></tr>\n",
       "\t<tr><th scope=row>6</th><td>NA</td><td>NA   </td><td>NA                   </td><td>NA   </td><td>NA   </td><td>NA   </td><td>NA   </td><td>1    </td><td>0.05</td><td>NA  </td><td>NA  </td><td>NA  </td><td>0.02                 </td></tr>\n",
       "</tbody>\n",
       "</table>\n"
      ],
      "text/latex": [
       "A data.frame: 6 × 13\n",
       "\\begin{tabular}{r|lllllllllllll}\n",
       "  & 3.16.10 & ...3 & ...4 & ...5 & ...6 & ...7 & ...8 & ...9 & ...10 & ...11 & ...12 & ...13 & ...14\\\\\n",
       "  & <chr> & <chr> & <chr> & <chr> & <chr> & <chr> & <chr> & <chr> & <chr> & <chr> & <chr> & <chr> & <chr>\\\\\n",
       "\\hline\n",
       "\t1 & A  & STD1  & STD2                  & STD3  & STD4  & STD5  & STD6  & STD7  & BLK  & QC:1 & QC:2 & QC:3 & STD2                 \\\\\n",
       "\t2 & NA & 0     & 5.0000000000000001E-3 & 0.01  & 0.02  & 0.03  & 0.04  & 0.05  & NA   & 1    & 0.5  & 0.05 & 5.0000000000000001E-3\\\\\n",
       "\t3 & B  & STDB1 & STDB2                 & STDB3 & STDB4 & STDB5 & STDB6 & STDB7 & BLK  & QC:1 & QC:2 & QC:3 & STD3                 \\\\\n",
       "\t4 & NA & 0     & 0.02                  & 0.05  & 0.1   & 0.2   & 0.5   & 1     & NA   & 1    & 0.5  & 0.05 & 0.01                 \\\\\n",
       "\t5 & C  & SPL1  & SPL1                  & SPL1  & SPL2  & SPL2  & SPL2  & QC:1  & QC:3 & BLK  & BLK  & BLK  & STD4                 \\\\\n",
       "\t6 & NA & NA    & NA                    & NA    & NA    & NA    & NA    & 1     & 0.05 & NA   & NA   & NA   & 0.02                 \\\\\n",
       "\\end{tabular}\n"
      ],
      "text/markdown": [
       "\n",
       "A data.frame: 6 × 13\n",
       "\n",
       "| <!--/--> | 3.16.10 &lt;chr&gt; | ...3 &lt;chr&gt; | ...4 &lt;chr&gt; | ...5 &lt;chr&gt; | ...6 &lt;chr&gt; | ...7 &lt;chr&gt; | ...8 &lt;chr&gt; | ...9 &lt;chr&gt; | ...10 &lt;chr&gt; | ...11 &lt;chr&gt; | ...12 &lt;chr&gt; | ...13 &lt;chr&gt; | ...14 &lt;chr&gt; |\n",
       "|---|---|---|---|---|---|---|---|---|---|---|---|---|---|\n",
       "| 1 | A  | STD1  | STD2                  | STD3  | STD4  | STD5  | STD6  | STD7  | BLK  | QC:1 | QC:2 | QC:3 | STD2                  |\n",
       "| 2 | NA | 0     | 5.0000000000000001E-3 | 0.01  | 0.02  | 0.03  | 0.04  | 0.05  | NA   | 1    | 0.5  | 0.05 | 5.0000000000000001E-3 |\n",
       "| 3 | B  | STDB1 | STDB2                 | STDB3 | STDB4 | STDB5 | STDB6 | STDB7 | BLK  | QC:1 | QC:2 | QC:3 | STD3                  |\n",
       "| 4 | NA | 0     | 0.02                  | 0.05  | 0.1   | 0.2   | 0.5   | 1     | NA   | 1    | 0.5  | 0.05 | 0.01                  |\n",
       "| 5 | C  | SPL1  | SPL1                  | SPL1  | SPL2  | SPL2  | SPL2  | QC:1  | QC:3 | BLK  | BLK  | BLK  | STD4                  |\n",
       "| 6 | NA | NA    | NA                    | NA    | NA    | NA    | NA    | 1     | 0.05 | NA   | NA   | NA   | 0.02                  |\n",
       "\n"
      ],
      "text/plain": [
       "  3.16.10 ...3  ...4                  ...5  ...6  ...7  ...8  ...9  ...10 ...11\n",
       "1 A       STD1  STD2                  STD3  STD4  STD5  STD6  STD7  BLK   QC:1 \n",
       "2 NA      0     5.0000000000000001E-3 0.01  0.02  0.03  0.04  0.05  NA    1    \n",
       "3 B       STDB1 STDB2                 STDB3 STDB4 STDB5 STDB6 STDB7 BLK   QC:1 \n",
       "4 NA      0     0.02                  0.05  0.1   0.2   0.5   1     NA    1    \n",
       "5 C       SPL1  SPL1                  SPL1  SPL2  SPL2  SPL2  QC:1  QC:3  BLK  \n",
       "6 NA      NA    NA                    NA    NA    NA    NA    1     0.05  NA   \n",
       "  ...12 ...13 ...14                \n",
       "1 QC:2  QC:3  STD2                 \n",
       "2 0.5   0.05  5.0000000000000001E-3\n",
       "3 QC:2  QC:3  STD3                 \n",
       "4 0.5   0.05  0.01                 \n",
       "5 BLK   BLK   STD4                 \n",
       "6 NA    NA    0.02                 "
      ]
     },
     "metadata": {},
     "output_type": "display_data"
    }
   ],
   "source": [
    "# calculate standard curve of low stnd using linear model \n",
    "# pull out plate setup \n",
    "plate_setup<-test %>%\n",
    " select(2:14) %>%\n",
    "        slice(c(22:36)) \n",
    "\n",
    "plate_setup <- as.data.frame(plate_setup)\n",
    "head(plate_setup)"
   ]
  },
  {
   "cell_type": "markdown",
   "id": "737babf7-2bc3-404f-9787-ff9147d43ce5",
   "metadata": {},
   "source": [
    "### Low "
   ]
  },
  {
   "cell_type": "markdown",
   "id": "cd5e9fde-2364-4f84-88d5-a80a93a5a46b",
   "metadata": {},
   "source": [
    "#### add data "
   ]
  },
  {
   "cell_type": "code",
   "execution_count": 597,
   "id": "66f564ac-a6a9-42d1-b13b-dc3323ee421e",
   "metadata": {},
   "outputs": [],
   "source": [
    "# rename rows\n",
    "n_rows <- nrow(plate_setup)\n",
    "letters_vec <- letters[1:((n_rows + 1) %/% 2)]\n",
    "rownames(plate_setup) <- paste0(rep(letters_vec, each = 2)[1:n_rows], \n",
    "                              c(rep(c(\"\", \"_blank\"), length(letters_vec)), FALSE)[1:n_rows])\n",
    "\n",
    "#remove first col \n",
    "plate_setup <- plate_setup[, -1]\n",
    "#rename cols \n",
    "colnames(plate_setup) <- as.character(1:12)"
   ]
  },
  {
   "cell_type": "code",
   "execution_count": 598,
   "id": "4d1b72ed-fa40-4d19-bcbb-053579a04c9d",
   "metadata": {},
   "outputs": [
    {
     "data": {
      "text/html": [
       "<table class=\"dataframe\">\n",
       "<caption>A data.frame: 15 × 12</caption>\n",
       "<thead>\n",
       "\t<tr><th></th><th scope=col>1</th><th scope=col>2</th><th scope=col>3</th><th scope=col>4</th><th scope=col>5</th><th scope=col>6</th><th scope=col>7</th><th scope=col>8</th><th scope=col>9</th><th scope=col>10</th><th scope=col>11</th><th scope=col>12</th></tr>\n",
       "\t<tr><th></th><th scope=col>&lt;chr&gt;</th><th scope=col>&lt;chr&gt;</th><th scope=col>&lt;chr&gt;</th><th scope=col>&lt;chr&gt;</th><th scope=col>&lt;chr&gt;</th><th scope=col>&lt;chr&gt;</th><th scope=col>&lt;chr&gt;</th><th scope=col>&lt;chr&gt;</th><th scope=col>&lt;chr&gt;</th><th scope=col>&lt;chr&gt;</th><th scope=col>&lt;chr&gt;</th><th scope=col>&lt;chr&gt;</th></tr>\n",
       "</thead>\n",
       "<tbody>\n",
       "\t<tr><th scope=row>a</th><td>STD1 </td><td>STD2                 </td><td>STD3 </td><td>STD4 </td><td>STD5 </td><td>STD6 </td><td>STD7 </td><td>BLK </td><td>QC:1</td><td>QC:2</td><td>QC:3</td><td>STD2                 </td></tr>\n",
       "\t<tr><th scope=row>a_blank</th><td>0    </td><td>5.0000000000000001E-3</td><td>0.01 </td><td>0.02 </td><td>0.03 </td><td>0.04 </td><td>0.05 </td><td>NA  </td><td>1   </td><td>0.5 </td><td>0.05</td><td>5.0000000000000001E-3</td></tr>\n",
       "\t<tr><th scope=row>b</th><td>STDB1</td><td>STDB2                </td><td>STDB3</td><td>STDB4</td><td>STDB5</td><td>STDB6</td><td>STDB7</td><td>BLK </td><td>QC:1</td><td>QC:2</td><td>QC:3</td><td>STD3                 </td></tr>\n",
       "\t<tr><th scope=row>b_blank</th><td>0    </td><td>0.02                 </td><td>0.05 </td><td>0.1  </td><td>0.2  </td><td>0.5  </td><td>1    </td><td>NA  </td><td>1   </td><td>0.5 </td><td>0.05</td><td>0.01                 </td></tr>\n",
       "\t<tr><th scope=row>c</th><td>SPL1 </td><td>SPL1                 </td><td>SPL1 </td><td>SPL2 </td><td>SPL2 </td><td>SPL2 </td><td>QC:1 </td><td>QC:3</td><td>BLK </td><td>BLK </td><td>BLK </td><td>STD4                 </td></tr>\n",
       "\t<tr><th scope=row>c_blank</th><td>NA   </td><td>NA                   </td><td>NA   </td><td>NA   </td><td>NA   </td><td>NA   </td><td>1    </td><td>0.05</td><td>NA  </td><td>NA  </td><td>NA  </td><td>0.02                 </td></tr>\n",
       "\t<tr><th scope=row>d</th><td>SPL1 </td><td>SPL1                 </td><td>SPL1 </td><td>SPL2 </td><td>SPL2 </td><td>SPL2 </td><td>QC:2 </td><td>BLK </td><td>BLK </td><td>BLK </td><td>BLK </td><td>STD5                 </td></tr>\n",
       "\t<tr><th scope=row>d_blank</th><td>NA   </td><td>NA                   </td><td>NA   </td><td>NA   </td><td>NA   </td><td>NA   </td><td>0.5  </td><td>NA  </td><td>NA  </td><td>NA  </td><td>NA  </td><td>0.03                 </td></tr>\n",
       "\t<tr><th scope=row>e</th><td>STD1 </td><td>STD2                 </td><td>STD3 </td><td>STD4 </td><td>STD5 </td><td>STD6 </td><td>STD7 </td><td>BLK </td><td>QC:1</td><td>QC:2</td><td>QC:3</td><td>STD6                 </td></tr>\n",
       "\t<tr><th scope=row>e_blank</th><td>0    </td><td>5.0000000000000001E-3</td><td>0.01 </td><td>0.02 </td><td>0.03 </td><td>0.04 </td><td>0.05 </td><td>NA  </td><td>1   </td><td>0.5 </td><td>0.05</td><td>0.04                 </td></tr>\n",
       "\t<tr><th scope=row>f</th><td>STDB1</td><td>STDB2                </td><td>STDB3</td><td>STDB4</td><td>STDB5</td><td>STDB6</td><td>STDB7</td><td>BLK </td><td>QC:1</td><td>QC:2</td><td>QC:3</td><td>STD7                 </td></tr>\n",
       "\t<tr><th scope=row>f_blank</th><td>0    </td><td>0.02                 </td><td>0.05 </td><td>0.1  </td><td>0.2  </td><td>0.5  </td><td>1    </td><td>NA  </td><td>1   </td><td>0.5 </td><td>0.05</td><td>0.05                 </td></tr>\n",
       "\t<tr><th scope=row>g</th><td>NA   </td><td>NA                   </td><td>NA   </td><td>NA   </td><td>NA   </td><td>NA   </td><td>NA   </td><td>NA  </td><td>NA  </td><td>NA  </td><td>NA  </td><td>NA                   </td></tr>\n",
       "\t<tr><th scope=row>g_blank</th><td>NA   </td><td>NA                   </td><td>NA   </td><td>NA   </td><td>NA   </td><td>NA   </td><td>NA   </td><td>NA  </td><td>NA  </td><td>NA  </td><td>NA  </td><td>NA                   </td></tr>\n",
       "\t<tr><th scope=row>h</th><td>NA   </td><td>NA                   </td><td>NA   </td><td>NA   </td><td>NA   </td><td>NA   </td><td>NA   </td><td>NA  </td><td>NA  </td><td>NA  </td><td>NA  </td><td>NA                   </td></tr>\n",
       "</tbody>\n",
       "</table>\n"
      ],
      "text/latex": [
       "A data.frame: 15 × 12\n",
       "\\begin{tabular}{r|llllllllllll}\n",
       "  & 1 & 2 & 3 & 4 & 5 & 6 & 7 & 8 & 9 & 10 & 11 & 12\\\\\n",
       "  & <chr> & <chr> & <chr> & <chr> & <chr> & <chr> & <chr> & <chr> & <chr> & <chr> & <chr> & <chr>\\\\\n",
       "\\hline\n",
       "\ta & STD1  & STD2                  & STD3  & STD4  & STD5  & STD6  & STD7  & BLK  & QC:1 & QC:2 & QC:3 & STD2                 \\\\\n",
       "\ta\\_blank & 0     & 5.0000000000000001E-3 & 0.01  & 0.02  & 0.03  & 0.04  & 0.05  & NA   & 1    & 0.5  & 0.05 & 5.0000000000000001E-3\\\\\n",
       "\tb & STDB1 & STDB2                 & STDB3 & STDB4 & STDB5 & STDB6 & STDB7 & BLK  & QC:1 & QC:2 & QC:3 & STD3                 \\\\\n",
       "\tb\\_blank & 0     & 0.02                  & 0.05  & 0.1   & 0.2   & 0.5   & 1     & NA   & 1    & 0.5  & 0.05 & 0.01                 \\\\\n",
       "\tc & SPL1  & SPL1                  & SPL1  & SPL2  & SPL2  & SPL2  & QC:1  & QC:3 & BLK  & BLK  & BLK  & STD4                 \\\\\n",
       "\tc\\_blank & NA    & NA                    & NA    & NA    & NA    & NA    & 1     & 0.05 & NA   & NA   & NA   & 0.02                 \\\\\n",
       "\td & SPL1  & SPL1                  & SPL1  & SPL2  & SPL2  & SPL2  & QC:2  & BLK  & BLK  & BLK  & BLK  & STD5                 \\\\\n",
       "\td\\_blank & NA    & NA                    & NA    & NA    & NA    & NA    & 0.5   & NA   & NA   & NA   & NA   & 0.03                 \\\\\n",
       "\te & STD1  & STD2                  & STD3  & STD4  & STD5  & STD6  & STD7  & BLK  & QC:1 & QC:2 & QC:3 & STD6                 \\\\\n",
       "\te\\_blank & 0     & 5.0000000000000001E-3 & 0.01  & 0.02  & 0.03  & 0.04  & 0.05  & NA   & 1    & 0.5  & 0.05 & 0.04                 \\\\\n",
       "\tf & STDB1 & STDB2                 & STDB3 & STDB4 & STDB5 & STDB6 & STDB7 & BLK  & QC:1 & QC:2 & QC:3 & STD7                 \\\\\n",
       "\tf\\_blank & 0     & 0.02                  & 0.05  & 0.1   & 0.2   & 0.5   & 1     & NA   & 1    & 0.5  & 0.05 & 0.05                 \\\\\n",
       "\tg & NA    & NA                    & NA    & NA    & NA    & NA    & NA    & NA   & NA   & NA   & NA   & NA                   \\\\\n",
       "\tg\\_blank & NA    & NA                    & NA    & NA    & NA    & NA    & NA    & NA   & NA   & NA   & NA   & NA                   \\\\\n",
       "\th & NA    & NA                    & NA    & NA    & NA    & NA    & NA    & NA   & NA   & NA   & NA   & NA                   \\\\\n",
       "\\end{tabular}\n"
      ],
      "text/markdown": [
       "\n",
       "A data.frame: 15 × 12\n",
       "\n",
       "| <!--/--> | 1 &lt;chr&gt; | 2 &lt;chr&gt; | 3 &lt;chr&gt; | 4 &lt;chr&gt; | 5 &lt;chr&gt; | 6 &lt;chr&gt; | 7 &lt;chr&gt; | 8 &lt;chr&gt; | 9 &lt;chr&gt; | 10 &lt;chr&gt; | 11 &lt;chr&gt; | 12 &lt;chr&gt; |\n",
       "|---|---|---|---|---|---|---|---|---|---|---|---|---|\n",
       "| a | STD1  | STD2                  | STD3  | STD4  | STD5  | STD6  | STD7  | BLK  | QC:1 | QC:2 | QC:3 | STD2                  |\n",
       "| a_blank | 0     | 5.0000000000000001E-3 | 0.01  | 0.02  | 0.03  | 0.04  | 0.05  | NA   | 1    | 0.5  | 0.05 | 5.0000000000000001E-3 |\n",
       "| b | STDB1 | STDB2                 | STDB3 | STDB4 | STDB5 | STDB6 | STDB7 | BLK  | QC:1 | QC:2 | QC:3 | STD3                  |\n",
       "| b_blank | 0     | 0.02                  | 0.05  | 0.1   | 0.2   | 0.5   | 1     | NA   | 1    | 0.5  | 0.05 | 0.01                  |\n",
       "| c | SPL1  | SPL1                  | SPL1  | SPL2  | SPL2  | SPL2  | QC:1  | QC:3 | BLK  | BLK  | BLK  | STD4                  |\n",
       "| c_blank | NA    | NA                    | NA    | NA    | NA    | NA    | 1     | 0.05 | NA   | NA   | NA   | 0.02                  |\n",
       "| d | SPL1  | SPL1                  | SPL1  | SPL2  | SPL2  | SPL2  | QC:2  | BLK  | BLK  | BLK  | BLK  | STD5                  |\n",
       "| d_blank | NA    | NA                    | NA    | NA    | NA    | NA    | 0.5   | NA   | NA   | NA   | NA   | 0.03                  |\n",
       "| e | STD1  | STD2                  | STD3  | STD4  | STD5  | STD6  | STD7  | BLK  | QC:1 | QC:2 | QC:3 | STD6                  |\n",
       "| e_blank | 0     | 5.0000000000000001E-3 | 0.01  | 0.02  | 0.03  | 0.04  | 0.05  | NA   | 1    | 0.5  | 0.05 | 0.04                  |\n",
       "| f | STDB1 | STDB2                 | STDB3 | STDB4 | STDB5 | STDB6 | STDB7 | BLK  | QC:1 | QC:2 | QC:3 | STD7                  |\n",
       "| f_blank | 0     | 0.02                  | 0.05  | 0.1   | 0.2   | 0.5   | 1     | NA   | 1    | 0.5  | 0.05 | 0.05                  |\n",
       "| g | NA    | NA                    | NA    | NA    | NA    | NA    | NA    | NA   | NA   | NA   | NA   | NA                    |\n",
       "| g_blank | NA    | NA                    | NA    | NA    | NA    | NA    | NA    | NA   | NA   | NA   | NA   | NA                    |\n",
       "| h | NA    | NA                    | NA    | NA    | NA    | NA    | NA    | NA   | NA   | NA   | NA   | NA                    |\n",
       "\n"
      ],
      "text/plain": [
       "        1     2                     3     4     5     6     7     8    9   \n",
       "a       STD1  STD2                  STD3  STD4  STD5  STD6  STD7  BLK  QC:1\n",
       "a_blank 0     5.0000000000000001E-3 0.01  0.02  0.03  0.04  0.05  NA   1   \n",
       "b       STDB1 STDB2                 STDB3 STDB4 STDB5 STDB6 STDB7 BLK  QC:1\n",
       "b_blank 0     0.02                  0.05  0.1   0.2   0.5   1     NA   1   \n",
       "c       SPL1  SPL1                  SPL1  SPL2  SPL2  SPL2  QC:1  QC:3 BLK \n",
       "c_blank NA    NA                    NA    NA    NA    NA    1     0.05 NA  \n",
       "d       SPL1  SPL1                  SPL1  SPL2  SPL2  SPL2  QC:2  BLK  BLK \n",
       "d_blank NA    NA                    NA    NA    NA    NA    0.5   NA   NA  \n",
       "e       STD1  STD2                  STD3  STD4  STD5  STD6  STD7  BLK  QC:1\n",
       "e_blank 0     5.0000000000000001E-3 0.01  0.02  0.03  0.04  0.05  NA   1   \n",
       "f       STDB1 STDB2                 STDB3 STDB4 STDB5 STDB6 STDB7 BLK  QC:1\n",
       "f_blank 0     0.02                  0.05  0.1   0.2   0.5   1     NA   1   \n",
       "g       NA    NA                    NA    NA    NA    NA    NA    NA   NA  \n",
       "g_blank NA    NA                    NA    NA    NA    NA    NA    NA   NA  \n",
       "h       NA    NA                    NA    NA    NA    NA    NA    NA   NA  \n",
       "        10   11   12                   \n",
       "a       QC:2 QC:3 STD2                 \n",
       "a_blank 0.5  0.05 5.0000000000000001E-3\n",
       "b       QC:2 QC:3 STD3                 \n",
       "b_blank 0.5  0.05 0.01                 \n",
       "c       BLK  BLK  STD4                 \n",
       "c_blank NA   NA   0.02                 \n",
       "d       BLK  BLK  STD5                 \n",
       "d_blank NA   NA   0.03                 \n",
       "e       QC:2 QC:3 STD6                 \n",
       "e_blank 0.5  0.05 0.04                 \n",
       "f       QC:2 QC:3 STD7                 \n",
       "f_blank 0.5  0.05 0.05                 \n",
       "g       NA   NA   NA                   \n",
       "g_blank NA   NA   NA                   \n",
       "h       NA   NA   NA                   "
      ]
     },
     "metadata": {},
     "output_type": "display_data"
    }
   ],
   "source": [
    "plate_setup"
   ]
  },
  {
   "cell_type": "code",
   "execution_count": 599,
   "id": "c6c6d63e-5beb-4043-ae84-2c66e3cf4f02",
   "metadata": {},
   "outputs": [],
   "source": [
    "# convert numbers to numeric and get rid of scientific notation\n",
    "plate_setup[grepl(\"blank\", rownames(plate_setup)), ] <- \n",
    "  lapply(plate_setup[grepl(\"blank\", rownames(plate_setup)), ], function(x) round(as.numeric(x), 4))"
   ]
  },
  {
   "cell_type": "code",
   "execution_count": 600,
   "id": "f872b6ba-b2e7-4b96-97a9-aebb07fad1e9",
   "metadata": {},
   "outputs": [
    {
     "data": {
      "text/html": [
       "<table class=\"dataframe\">\n",
       "<caption>A data.frame: 15 × 12</caption>\n",
       "<thead>\n",
       "\t<tr><th></th><th scope=col>1</th><th scope=col>2</th><th scope=col>3</th><th scope=col>4</th><th scope=col>5</th><th scope=col>6</th><th scope=col>7</th><th scope=col>8</th><th scope=col>9</th><th scope=col>10</th><th scope=col>11</th><th scope=col>12</th></tr>\n",
       "\t<tr><th></th><th scope=col>&lt;chr&gt;</th><th scope=col>&lt;chr&gt;</th><th scope=col>&lt;chr&gt;</th><th scope=col>&lt;chr&gt;</th><th scope=col>&lt;chr&gt;</th><th scope=col>&lt;chr&gt;</th><th scope=col>&lt;chr&gt;</th><th scope=col>&lt;chr&gt;</th><th scope=col>&lt;chr&gt;</th><th scope=col>&lt;chr&gt;</th><th scope=col>&lt;chr&gt;</th><th scope=col>&lt;chr&gt;</th></tr>\n",
       "</thead>\n",
       "<tbody>\n",
       "\t<tr><th scope=row>a</th><td>STD1 </td><td>STD2 </td><td>STD3 </td><td>STD4 </td><td>STD5 </td><td>STD6 </td><td>STD7 </td><td>BLK </td><td>QC:1</td><td>QC:2</td><td>QC:3</td><td>STD2 </td></tr>\n",
       "\t<tr><th scope=row>a_blank</th><td>0    </td><td>0.005</td><td>0.01 </td><td>0.02 </td><td>0.03 </td><td>0.04 </td><td>0.05 </td><td>NA  </td><td>1   </td><td>0.5 </td><td>0.05</td><td>0.005</td></tr>\n",
       "\t<tr><th scope=row>b</th><td>STDB1</td><td>STDB2</td><td>STDB3</td><td>STDB4</td><td>STDB5</td><td>STDB6</td><td>STDB7</td><td>BLK </td><td>QC:1</td><td>QC:2</td><td>QC:3</td><td>STD3 </td></tr>\n",
       "\t<tr><th scope=row>b_blank</th><td>0    </td><td>0.02 </td><td>0.05 </td><td>0.1  </td><td>0.2  </td><td>0.5  </td><td>1    </td><td>NA  </td><td>1   </td><td>0.5 </td><td>0.05</td><td>0.01 </td></tr>\n",
       "\t<tr><th scope=row>c</th><td>SPL1 </td><td>SPL1 </td><td>SPL1 </td><td>SPL2 </td><td>SPL2 </td><td>SPL2 </td><td>QC:1 </td><td>QC:3</td><td>BLK </td><td>BLK </td><td>BLK </td><td>STD4 </td></tr>\n",
       "\t<tr><th scope=row>c_blank</th><td>NA   </td><td>NA   </td><td>NA   </td><td>NA   </td><td>NA   </td><td>NA   </td><td>1    </td><td>0.05</td><td>NA  </td><td>NA  </td><td>NA  </td><td>0.02 </td></tr>\n",
       "\t<tr><th scope=row>d</th><td>SPL1 </td><td>SPL1 </td><td>SPL1 </td><td>SPL2 </td><td>SPL2 </td><td>SPL2 </td><td>QC:2 </td><td>BLK </td><td>BLK </td><td>BLK </td><td>BLK </td><td>STD5 </td></tr>\n",
       "\t<tr><th scope=row>d_blank</th><td>NA   </td><td>NA   </td><td>NA   </td><td>NA   </td><td>NA   </td><td>NA   </td><td>0.5  </td><td>NA  </td><td>NA  </td><td>NA  </td><td>NA  </td><td>0.03 </td></tr>\n",
       "\t<tr><th scope=row>e</th><td>STD1 </td><td>STD2 </td><td>STD3 </td><td>STD4 </td><td>STD5 </td><td>STD6 </td><td>STD7 </td><td>BLK </td><td>QC:1</td><td>QC:2</td><td>QC:3</td><td>STD6 </td></tr>\n",
       "\t<tr><th scope=row>e_blank</th><td>0    </td><td>0.005</td><td>0.01 </td><td>0.02 </td><td>0.03 </td><td>0.04 </td><td>0.05 </td><td>NA  </td><td>1   </td><td>0.5 </td><td>0.05</td><td>0.04 </td></tr>\n",
       "\t<tr><th scope=row>f</th><td>STDB1</td><td>STDB2</td><td>STDB3</td><td>STDB4</td><td>STDB5</td><td>STDB6</td><td>STDB7</td><td>BLK </td><td>QC:1</td><td>QC:2</td><td>QC:3</td><td>STD7 </td></tr>\n",
       "\t<tr><th scope=row>f_blank</th><td>0    </td><td>0.02 </td><td>0.05 </td><td>0.1  </td><td>0.2  </td><td>0.5  </td><td>1    </td><td>NA  </td><td>1   </td><td>0.5 </td><td>0.05</td><td>0.05 </td></tr>\n",
       "\t<tr><th scope=row>g</th><td>NA   </td><td>NA   </td><td>NA   </td><td>NA   </td><td>NA   </td><td>NA   </td><td>NA   </td><td>NA  </td><td>NA  </td><td>NA  </td><td>NA  </td><td>NA   </td></tr>\n",
       "\t<tr><th scope=row>g_blank</th><td>NA   </td><td>NA   </td><td>NA   </td><td>NA   </td><td>NA   </td><td>NA   </td><td>NA   </td><td>NA  </td><td>NA  </td><td>NA  </td><td>NA  </td><td>NA   </td></tr>\n",
       "\t<tr><th scope=row>h</th><td>NA   </td><td>NA   </td><td>NA   </td><td>NA   </td><td>NA   </td><td>NA   </td><td>NA   </td><td>NA  </td><td>NA  </td><td>NA  </td><td>NA  </td><td>NA   </td></tr>\n",
       "</tbody>\n",
       "</table>\n"
      ],
      "text/latex": [
       "A data.frame: 15 × 12\n",
       "\\begin{tabular}{r|llllllllllll}\n",
       "  & 1 & 2 & 3 & 4 & 5 & 6 & 7 & 8 & 9 & 10 & 11 & 12\\\\\n",
       "  & <chr> & <chr> & <chr> & <chr> & <chr> & <chr> & <chr> & <chr> & <chr> & <chr> & <chr> & <chr>\\\\\n",
       "\\hline\n",
       "\ta & STD1  & STD2  & STD3  & STD4  & STD5  & STD6  & STD7  & BLK  & QC:1 & QC:2 & QC:3 & STD2 \\\\\n",
       "\ta\\_blank & 0     & 0.005 & 0.01  & 0.02  & 0.03  & 0.04  & 0.05  & NA   & 1    & 0.5  & 0.05 & 0.005\\\\\n",
       "\tb & STDB1 & STDB2 & STDB3 & STDB4 & STDB5 & STDB6 & STDB7 & BLK  & QC:1 & QC:2 & QC:3 & STD3 \\\\\n",
       "\tb\\_blank & 0     & 0.02  & 0.05  & 0.1   & 0.2   & 0.5   & 1     & NA   & 1    & 0.5  & 0.05 & 0.01 \\\\\n",
       "\tc & SPL1  & SPL1  & SPL1  & SPL2  & SPL2  & SPL2  & QC:1  & QC:3 & BLK  & BLK  & BLK  & STD4 \\\\\n",
       "\tc\\_blank & NA    & NA    & NA    & NA    & NA    & NA    & 1     & 0.05 & NA   & NA   & NA   & 0.02 \\\\\n",
       "\td & SPL1  & SPL1  & SPL1  & SPL2  & SPL2  & SPL2  & QC:2  & BLK  & BLK  & BLK  & BLK  & STD5 \\\\\n",
       "\td\\_blank & NA    & NA    & NA    & NA    & NA    & NA    & 0.5   & NA   & NA   & NA   & NA   & 0.03 \\\\\n",
       "\te & STD1  & STD2  & STD3  & STD4  & STD5  & STD6  & STD7  & BLK  & QC:1 & QC:2 & QC:3 & STD6 \\\\\n",
       "\te\\_blank & 0     & 0.005 & 0.01  & 0.02  & 0.03  & 0.04  & 0.05  & NA   & 1    & 0.5  & 0.05 & 0.04 \\\\\n",
       "\tf & STDB1 & STDB2 & STDB3 & STDB4 & STDB5 & STDB6 & STDB7 & BLK  & QC:1 & QC:2 & QC:3 & STD7 \\\\\n",
       "\tf\\_blank & 0     & 0.02  & 0.05  & 0.1   & 0.2   & 0.5   & 1     & NA   & 1    & 0.5  & 0.05 & 0.05 \\\\\n",
       "\tg & NA    & NA    & NA    & NA    & NA    & NA    & NA    & NA   & NA   & NA   & NA   & NA   \\\\\n",
       "\tg\\_blank & NA    & NA    & NA    & NA    & NA    & NA    & NA    & NA   & NA   & NA   & NA   & NA   \\\\\n",
       "\th & NA    & NA    & NA    & NA    & NA    & NA    & NA    & NA   & NA   & NA   & NA   & NA   \\\\\n",
       "\\end{tabular}\n"
      ],
      "text/markdown": [
       "\n",
       "A data.frame: 15 × 12\n",
       "\n",
       "| <!--/--> | 1 &lt;chr&gt; | 2 &lt;chr&gt; | 3 &lt;chr&gt; | 4 &lt;chr&gt; | 5 &lt;chr&gt; | 6 &lt;chr&gt; | 7 &lt;chr&gt; | 8 &lt;chr&gt; | 9 &lt;chr&gt; | 10 &lt;chr&gt; | 11 &lt;chr&gt; | 12 &lt;chr&gt; |\n",
       "|---|---|---|---|---|---|---|---|---|---|---|---|---|\n",
       "| a | STD1  | STD2  | STD3  | STD4  | STD5  | STD6  | STD7  | BLK  | QC:1 | QC:2 | QC:3 | STD2  |\n",
       "| a_blank | 0     | 0.005 | 0.01  | 0.02  | 0.03  | 0.04  | 0.05  | NA   | 1    | 0.5  | 0.05 | 0.005 |\n",
       "| b | STDB1 | STDB2 | STDB3 | STDB4 | STDB5 | STDB6 | STDB7 | BLK  | QC:1 | QC:2 | QC:3 | STD3  |\n",
       "| b_blank | 0     | 0.02  | 0.05  | 0.1   | 0.2   | 0.5   | 1     | NA   | 1    | 0.5  | 0.05 | 0.01  |\n",
       "| c | SPL1  | SPL1  | SPL1  | SPL2  | SPL2  | SPL2  | QC:1  | QC:3 | BLK  | BLK  | BLK  | STD4  |\n",
       "| c_blank | NA    | NA    | NA    | NA    | NA    | NA    | 1     | 0.05 | NA   | NA   | NA   | 0.02  |\n",
       "| d | SPL1  | SPL1  | SPL1  | SPL2  | SPL2  | SPL2  | QC:2  | BLK  | BLK  | BLK  | BLK  | STD5  |\n",
       "| d_blank | NA    | NA    | NA    | NA    | NA    | NA    | 0.5   | NA   | NA   | NA   | NA   | 0.03  |\n",
       "| e | STD1  | STD2  | STD3  | STD4  | STD5  | STD6  | STD7  | BLK  | QC:1 | QC:2 | QC:3 | STD6  |\n",
       "| e_blank | 0     | 0.005 | 0.01  | 0.02  | 0.03  | 0.04  | 0.05  | NA   | 1    | 0.5  | 0.05 | 0.04  |\n",
       "| f | STDB1 | STDB2 | STDB3 | STDB4 | STDB5 | STDB6 | STDB7 | BLK  | QC:1 | QC:2 | QC:3 | STD7  |\n",
       "| f_blank | 0     | 0.02  | 0.05  | 0.1   | 0.2   | 0.5   | 1     | NA   | 1    | 0.5  | 0.05 | 0.05  |\n",
       "| g | NA    | NA    | NA    | NA    | NA    | NA    | NA    | NA   | NA   | NA   | NA   | NA    |\n",
       "| g_blank | NA    | NA    | NA    | NA    | NA    | NA    | NA    | NA   | NA   | NA   | NA   | NA    |\n",
       "| h | NA    | NA    | NA    | NA    | NA    | NA    | NA    | NA   | NA   | NA   | NA   | NA    |\n",
       "\n"
      ],
      "text/plain": [
       "        1     2     3     4     5     6     7     8    9    10   11   12   \n",
       "a       STD1  STD2  STD3  STD4  STD5  STD6  STD7  BLK  QC:1 QC:2 QC:3 STD2 \n",
       "a_blank 0     0.005 0.01  0.02  0.03  0.04  0.05  NA   1    0.5  0.05 0.005\n",
       "b       STDB1 STDB2 STDB3 STDB4 STDB5 STDB6 STDB7 BLK  QC:1 QC:2 QC:3 STD3 \n",
       "b_blank 0     0.02  0.05  0.1   0.2   0.5   1     NA   1    0.5  0.05 0.01 \n",
       "c       SPL1  SPL1  SPL1  SPL2  SPL2  SPL2  QC:1  QC:3 BLK  BLK  BLK  STD4 \n",
       "c_blank NA    NA    NA    NA    NA    NA    1     0.05 NA   NA   NA   0.02 \n",
       "d       SPL1  SPL1  SPL1  SPL2  SPL2  SPL2  QC:2  BLK  BLK  BLK  BLK  STD5 \n",
       "d_blank NA    NA    NA    NA    NA    NA    0.5   NA   NA   NA   NA   0.03 \n",
       "e       STD1  STD2  STD3  STD4  STD5  STD6  STD7  BLK  QC:1 QC:2 QC:3 STD6 \n",
       "e_blank 0     0.005 0.01  0.02  0.03  0.04  0.05  NA   1    0.5  0.05 0.04 \n",
       "f       STDB1 STDB2 STDB3 STDB4 STDB5 STDB6 STDB7 BLK  QC:1 QC:2 QC:3 STD7 \n",
       "f_blank 0     0.02  0.05  0.1   0.2   0.5   1     NA   1    0.5  0.05 0.05 \n",
       "g       NA    NA    NA    NA    NA    NA    NA    NA   NA   NA   NA   NA   \n",
       "g_blank NA    NA    NA    NA    NA    NA    NA    NA   NA   NA   NA   NA   \n",
       "h       NA    NA    NA    NA    NA    NA    NA    NA   NA   NA   NA   NA   "
      ]
     },
     "metadata": {},
     "output_type": "display_data"
    }
   ],
   "source": [
    "plate_setup"
   ]
  },
  {
   "cell_type": "code",
   "execution_count": 601,
   "id": "aa307666-ccf3-45b1-bf3d-38a1535157fa",
   "metadata": {},
   "outputs": [
    {
     "data": {
      "text/html": [
       "<table class=\"dataframe\">\n",
       "<caption>A data.frame: 7 × 4</caption>\n",
       "<thead>\n",
       "\t<tr><th></th><th scope=col>id</th><th scope=col>conc</th><th scope=col>od</th><th scope=col>od2</th></tr>\n",
       "\t<tr><th></th><th scope=col>&lt;chr&gt;</th><th scope=col>&lt;chr&gt;</th><th scope=col>&lt;dbl&gt;</th><th scope=col>&lt;dbl&gt;</th></tr>\n",
       "</thead>\n",
       "<tbody>\n",
       "\t<tr><th scope=row>1</th><td>STD1</td><td>0    </td><td>0.079</td><td>0.072</td></tr>\n",
       "\t<tr><th scope=row>2</th><td>STD2</td><td>0.005</td><td>0.098</td><td>0.073</td></tr>\n",
       "\t<tr><th scope=row>3</th><td>STD3</td><td>0.01 </td><td>0.082</td><td>0.107</td></tr>\n",
       "\t<tr><th scope=row>4</th><td>STD4</td><td>0.02 </td><td>0.092</td><td>0.092</td></tr>\n",
       "\t<tr><th scope=row>5</th><td>STD5</td><td>0.03 </td><td>0.145</td><td>0.098</td></tr>\n",
       "\t<tr><th scope=row>6</th><td>STD6</td><td>0.04 </td><td>0.114</td><td>0.106</td></tr>\n",
       "\t<tr><th scope=row>7</th><td>STD7</td><td>0.05 </td><td>0.121</td><td>0.199</td></tr>\n",
       "</tbody>\n",
       "</table>\n"
      ],
      "text/latex": [
       "A data.frame: 7 × 4\n",
       "\\begin{tabular}{r|llll}\n",
       "  & id & conc & od & od2\\\\\n",
       "  & <chr> & <chr> & <dbl> & <dbl>\\\\\n",
       "\\hline\n",
       "\t1 & STD1 & 0     & 0.079 & 0.072\\\\\n",
       "\t2 & STD2 & 0.005 & 0.098 & 0.073\\\\\n",
       "\t3 & STD3 & 0.01  & 0.082 & 0.107\\\\\n",
       "\t4 & STD4 & 0.02  & 0.092 & 0.092\\\\\n",
       "\t5 & STD5 & 0.03  & 0.145 & 0.098\\\\\n",
       "\t6 & STD6 & 0.04  & 0.114 & 0.106\\\\\n",
       "\t7 & STD7 & 0.05  & 0.121 & 0.199\\\\\n",
       "\\end{tabular}\n"
      ],
      "text/markdown": [
       "\n",
       "A data.frame: 7 × 4\n",
       "\n",
       "| <!--/--> | id &lt;chr&gt; | conc &lt;chr&gt; | od &lt;dbl&gt; | od2 &lt;dbl&gt; |\n",
       "|---|---|---|---|---|\n",
       "| 1 | STD1 | 0     | 0.079 | 0.072 |\n",
       "| 2 | STD2 | 0.005 | 0.098 | 0.073 |\n",
       "| 3 | STD3 | 0.01  | 0.082 | 0.107 |\n",
       "| 4 | STD4 | 0.02  | 0.092 | 0.092 |\n",
       "| 5 | STD5 | 0.03  | 0.145 | 0.098 |\n",
       "| 6 | STD6 | 0.04  | 0.114 | 0.106 |\n",
       "| 7 | STD7 | 0.05  | 0.121 | 0.199 |\n",
       "\n"
      ],
      "text/plain": [
       "  id   conc  od    od2  \n",
       "1 STD1 0     0.079 0.072\n",
       "2 STD2 0.005 0.098 0.073\n",
       "3 STD3 0.01  0.082 0.107\n",
       "4 STD4 0.02  0.092 0.092\n",
       "5 STD5 0.03  0.145 0.098\n",
       "6 STD6 0.04  0.114 0.106\n",
       "7 STD7 0.05  0.121 0.199"
      ]
     },
     "metadata": {},
     "output_type": "display_data"
    }
   ],
   "source": [
    "low <- data.frame(id = unlist(plate_setup[1, 1:7]),\n",
    "                    conc = unlist(plate_setup[2, 1:7]),\n",
    "                    od = unlist(raw[1, 1:7]),\n",
    "                    od2 = unlist(raw['e', 1:7])\n",
    "                 )\n",
    "low"
   ]
  },
  {
   "cell_type": "code",
   "execution_count": 602,
   "id": "8a960900-108e-4a31-a9fa-72fe37ab361a",
   "metadata": {},
   "outputs": [
    {
     "data": {
      "text/html": [
       "<table class=\"dataframe\">\n",
       "<caption>A data.frame: 7 × 5</caption>\n",
       "<thead>\n",
       "\t<tr><th></th><th scope=col>id</th><th scope=col>conc</th><th scope=col>od</th><th scope=col>od2</th><th scope=col>od3</th></tr>\n",
       "\t<tr><th></th><th scope=col>&lt;chr&gt;</th><th scope=col>&lt;chr&gt;</th><th scope=col>&lt;dbl&gt;</th><th scope=col>&lt;dbl&gt;</th><th scope=col>&lt;dbl&gt;</th></tr>\n",
       "</thead>\n",
       "<tbody>\n",
       "\t<tr><th scope=row>1</th><td>STD1</td><td>0    </td><td>0.079</td><td>0.072</td><td>0.066</td></tr>\n",
       "\t<tr><th scope=row>2</th><td>STD2</td><td>0.005</td><td>0.098</td><td>0.073</td><td>0.079</td></tr>\n",
       "\t<tr><th scope=row>3</th><td>STD3</td><td>0.01 </td><td>0.082</td><td>0.107</td><td>0.077</td></tr>\n",
       "\t<tr><th scope=row>4</th><td>STD4</td><td>0.02 </td><td>0.092</td><td>0.092</td><td>0.087</td></tr>\n",
       "\t<tr><th scope=row>5</th><td>STD5</td><td>0.03 </td><td>0.145</td><td>0.098</td><td>0.098</td></tr>\n",
       "\t<tr><th scope=row>6</th><td>STD6</td><td>0.04 </td><td>0.114</td><td>0.106</td><td>0.109</td></tr>\n",
       "\t<tr><th scope=row>7</th><td>STD7</td><td>0.05 </td><td>0.121</td><td>0.199</td><td>0.171</td></tr>\n",
       "</tbody>\n",
       "</table>\n"
      ],
      "text/latex": [
       "A data.frame: 7 × 5\n",
       "\\begin{tabular}{r|lllll}\n",
       "  & id & conc & od & od2 & od3\\\\\n",
       "  & <chr> & <chr> & <dbl> & <dbl> & <dbl>\\\\\n",
       "\\hline\n",
       "\t1 & STD1 & 0     & 0.079 & 0.072 & 0.066\\\\\n",
       "\t2 & STD2 & 0.005 & 0.098 & 0.073 & 0.079\\\\\n",
       "\t3 & STD3 & 0.01  & 0.082 & 0.107 & 0.077\\\\\n",
       "\t4 & STD4 & 0.02  & 0.092 & 0.092 & 0.087\\\\\n",
       "\t5 & STD5 & 0.03  & 0.145 & 0.098 & 0.098\\\\\n",
       "\t6 & STD6 & 0.04  & 0.114 & 0.106 & 0.109\\\\\n",
       "\t7 & STD7 & 0.05  & 0.121 & 0.199 & 0.171\\\\\n",
       "\\end{tabular}\n"
      ],
      "text/markdown": [
       "\n",
       "A data.frame: 7 × 5\n",
       "\n",
       "| <!--/--> | id &lt;chr&gt; | conc &lt;chr&gt; | od &lt;dbl&gt; | od2 &lt;dbl&gt; | od3 &lt;dbl&gt; |\n",
       "|---|---|---|---|---|---|\n",
       "| 1 | STD1 | 0     | 0.079 | 0.072 | 0.066 |\n",
       "| 2 | STD2 | 0.005 | 0.098 | 0.073 | 0.079 |\n",
       "| 3 | STD3 | 0.01  | 0.082 | 0.107 | 0.077 |\n",
       "| 4 | STD4 | 0.02  | 0.092 | 0.092 | 0.087 |\n",
       "| 5 | STD5 | 0.03  | 0.145 | 0.098 | 0.098 |\n",
       "| 6 | STD6 | 0.04  | 0.114 | 0.106 | 0.109 |\n",
       "| 7 | STD7 | 0.05  | 0.121 | 0.199 | 0.171 |\n",
       "\n"
      ],
      "text/plain": [
       "  id   conc  od    od2   od3  \n",
       "1 STD1 0     0.079 0.072 0.066\n",
       "2 STD2 0.005 0.098 0.073 0.079\n",
       "3 STD3 0.01  0.082 0.107 0.077\n",
       "4 STD4 0.02  0.092 0.092 0.087\n",
       "5 STD5 0.03  0.145 0.098 0.098\n",
       "6 STD6 0.04  0.114 0.106 0.109\n",
       "7 STD7 0.05  0.121 0.199 0.171"
      ]
     },
     "metadata": {},
     "output_type": "display_data"
    }
   ],
   "source": [
    "#blank as std 1 (for 3rd rep)\n",
    "low$od3 <- raw['a', 8] \n",
    "# rest of stds from 3rd rep  \n",
    "low[2:7,'od3'] <- raw[seq(from = 1, to = 11, by = 2), 12]\n",
    "low"
   ]
  },
  {
   "cell_type": "code",
   "execution_count": 603,
   "id": "edb37357-549b-4077-9061-45c06261818b",
   "metadata": {},
   "outputs": [
    {
     "name": "stdout",
     "output_type": "stream",
     "text": [
      "'data.frame':\t7 obs. of  5 variables:\n",
      " $ id  : chr  \"STD1\" \"STD2\" \"STD3\" \"STD4\" ...\n",
      " $ conc: chr  \"0\" \"0.005\" \"0.01\" \"0.02\" ...\n",
      " $ od  : num  0.079 0.098 0.082 0.092 0.145 0.114 0.121\n",
      " $ od2 : num  0.072 0.073 0.107 0.092 0.098 0.106 0.199\n",
      " $ od3 : num  0.066 0.079 0.077 0.087 0.098 0.109 0.171\n"
     ]
    }
   ],
   "source": [
    "# check character types (all need to be numeric to run model)\n",
    "str(low)"
   ]
  },
  {
   "cell_type": "code",
   "execution_count": 604,
   "id": "7c14a56c-191c-4f03-a06e-b18c49be9df7",
   "metadata": {},
   "outputs": [],
   "source": [
    "# convert concentration to numeric \n",
    "low$conc <- as.numeric(as.character(low$conc))"
   ]
  },
  {
   "cell_type": "code",
   "execution_count": 605,
   "id": "61d3d7e4-4e93-4215-9f9a-97c5a51148c4",
   "metadata": {},
   "outputs": [],
   "source": [
    "# calculate avg, standard deviation  and pivot \n",
    "low$avg_od <- rowMeans(low[, c(\"od\", \"od2\", \"od3\")])\n",
    "\n",
    "# pivot\n",
    "low_long<-low %>% pivot_longer(cols = c(\"od\", \"od2\", \"od3\"),\n",
    "             names_to = 'rep',\n",
    "             values_to = 'od')\n",
    "# std dev\n",
    "low_long <- low_long %>%\n",
    "  group_by(id) %>%\n",
    "  mutate(sd = sd(od)) %>%\n",
    "  ungroup()"
   ]
  },
  {
   "cell_type": "code",
   "execution_count": 606,
   "id": "dbf1e64b-a306-48d6-bec6-d6fdec504dc5",
   "metadata": {},
   "outputs": [
    {
     "data": {
      "text/html": [
       "<table class=\"dataframe\">\n",
       "<caption>A tibble: 7 × 6</caption>\n",
       "<thead>\n",
       "\t<tr><th scope=col>id</th><th scope=col>conc</th><th scope=col>avg_od</th><th scope=col>rep</th><th scope=col>od</th><th scope=col>sd</th></tr>\n",
       "\t<tr><th scope=col>&lt;chr&gt;</th><th scope=col>&lt;dbl&gt;</th><th scope=col>&lt;dbl&gt;</th><th scope=col>&lt;chr&gt;</th><th scope=col>&lt;dbl&gt;</th><th scope=col>&lt;dbl&gt;</th></tr>\n",
       "</thead>\n",
       "<tbody>\n",
       "\t<tr><td>STD1</td><td>0.000</td><td>0.072333</td><td>od</td><td>0.079</td><td>0.0065064</td></tr>\n",
       "\t<tr><td>STD2</td><td>0.005</td><td>0.083333</td><td>od</td><td>0.098</td><td>0.0130512</td></tr>\n",
       "\t<tr><td>STD3</td><td>0.010</td><td>0.088667</td><td>od</td><td>0.082</td><td>0.0160728</td></tr>\n",
       "\t<tr><td>STD4</td><td>0.020</td><td>0.090333</td><td>od</td><td>0.092</td><td>0.0028868</td></tr>\n",
       "\t<tr><td>STD5</td><td>0.030</td><td>0.113667</td><td>od</td><td>0.145</td><td>0.0271355</td></tr>\n",
       "\t<tr><td>STD6</td><td>0.040</td><td>0.109667</td><td>od</td><td>0.114</td><td>0.0040415</td></tr>\n",
       "\t<tr><td>STD7</td><td>0.050</td><td>0.163667</td><td>od</td><td>0.121</td><td>0.0395137</td></tr>\n",
       "</tbody>\n",
       "</table>\n"
      ],
      "text/latex": [
       "A tibble: 7 × 6\n",
       "\\begin{tabular}{llllll}\n",
       " id & conc & avg\\_od & rep & od & sd\\\\\n",
       " <chr> & <dbl> & <dbl> & <chr> & <dbl> & <dbl>\\\\\n",
       "\\hline\n",
       "\t STD1 & 0.000 & 0.072333 & od & 0.079 & 0.0065064\\\\\n",
       "\t STD2 & 0.005 & 0.083333 & od & 0.098 & 0.0130512\\\\\n",
       "\t STD3 & 0.010 & 0.088667 & od & 0.082 & 0.0160728\\\\\n",
       "\t STD4 & 0.020 & 0.090333 & od & 0.092 & 0.0028868\\\\\n",
       "\t STD5 & 0.030 & 0.113667 & od & 0.145 & 0.0271355\\\\\n",
       "\t STD6 & 0.040 & 0.109667 & od & 0.114 & 0.0040415\\\\\n",
       "\t STD7 & 0.050 & 0.163667 & od & 0.121 & 0.0395137\\\\\n",
       "\\end{tabular}\n"
      ],
      "text/markdown": [
       "\n",
       "A tibble: 7 × 6\n",
       "\n",
       "| id &lt;chr&gt; | conc &lt;dbl&gt; | avg_od &lt;dbl&gt; | rep &lt;chr&gt; | od &lt;dbl&gt; | sd &lt;dbl&gt; |\n",
       "|---|---|---|---|---|---|\n",
       "| STD1 | 0.000 | 0.072333 | od | 0.079 | 0.0065064 |\n",
       "| STD2 | 0.005 | 0.083333 | od | 0.098 | 0.0130512 |\n",
       "| STD3 | 0.010 | 0.088667 | od | 0.082 | 0.0160728 |\n",
       "| STD4 | 0.020 | 0.090333 | od | 0.092 | 0.0028868 |\n",
       "| STD5 | 0.030 | 0.113667 | od | 0.145 | 0.0271355 |\n",
       "| STD6 | 0.040 | 0.109667 | od | 0.114 | 0.0040415 |\n",
       "| STD7 | 0.050 | 0.163667 | od | 0.121 | 0.0395137 |\n",
       "\n"
      ],
      "text/plain": [
       "  id   conc  avg_od   rep od    sd       \n",
       "1 STD1 0.000 0.072333 od  0.079 0.0065064\n",
       "2 STD2 0.005 0.083333 od  0.098 0.0130512\n",
       "3 STD3 0.010 0.088667 od  0.082 0.0160728\n",
       "4 STD4 0.020 0.090333 od  0.092 0.0028868\n",
       "5 STD5 0.030 0.113667 od  0.145 0.0271355\n",
       "6 STD6 0.040 0.109667 od  0.114 0.0040415\n",
       "7 STD7 0.050 0.163667 od  0.121 0.0395137"
      ]
     },
     "metadata": {},
     "output_type": "display_data"
    }
   ],
   "source": [
    "low_long %>%\n",
    "  distinct(id, .keep_all = TRUE)"
   ]
  },
  {
   "cell_type": "code",
   "execution_count": 607,
   "id": "c0f36c09-9329-469a-bb01-6b046f11201f",
   "metadata": {},
   "outputs": [],
   "source": [
    "# add high curve?"
   ]
  },
  {
   "cell_type": "code",
   "execution_count": 608,
   "id": "75e7c07b-b875-4ee3-ae06-6045a527342d",
   "metadata": {},
   "outputs": [
    {
     "data": {
      "text/html": [
       "<table class=\"dataframe\">\n",
       "<caption>A data.frame: 7 × 4</caption>\n",
       "<thead>\n",
       "\t<tr><th></th><th scope=col>id</th><th scope=col>conc</th><th scope=col>od</th><th scope=col>od2</th></tr>\n",
       "\t<tr><th></th><th scope=col>&lt;chr&gt;</th><th scope=col>&lt;chr&gt;</th><th scope=col>&lt;dbl&gt;</th><th scope=col>&lt;dbl&gt;</th></tr>\n",
       "</thead>\n",
       "<tbody>\n",
       "\t<tr><th scope=row>1</th><td>STDB1</td><td>0   </td><td>0.070</td><td>0.072</td></tr>\n",
       "\t<tr><th scope=row>2</th><td>STDB2</td><td>0.02</td><td>0.086</td><td>0.073</td></tr>\n",
       "\t<tr><th scope=row>3</th><td>STDB3</td><td>0.05</td><td>0.112</td><td>0.107</td></tr>\n",
       "\t<tr><th scope=row>4</th><td>STDB4</td><td>0.1 </td><td>0.168</td><td>0.092</td></tr>\n",
       "\t<tr><th scope=row>5</th><td>STDB5</td><td>0.2 </td><td>0.310</td><td>0.098</td></tr>\n",
       "\t<tr><th scope=row>6</th><td>STDB6</td><td>0.5 </td><td>0.614</td><td>0.106</td></tr>\n",
       "\t<tr><th scope=row>7</th><td>STDB7</td><td>1   </td><td>0.964</td><td>0.199</td></tr>\n",
       "</tbody>\n",
       "</table>\n"
      ],
      "text/latex": [
       "A data.frame: 7 × 4\n",
       "\\begin{tabular}{r|llll}\n",
       "  & id & conc & od & od2\\\\\n",
       "  & <chr> & <chr> & <dbl> & <dbl>\\\\\n",
       "\\hline\n",
       "\t1 & STDB1 & 0    & 0.070 & 0.072\\\\\n",
       "\t2 & STDB2 & 0.02 & 0.086 & 0.073\\\\\n",
       "\t3 & STDB3 & 0.05 & 0.112 & 0.107\\\\\n",
       "\t4 & STDB4 & 0.1  & 0.168 & 0.092\\\\\n",
       "\t5 & STDB5 & 0.2  & 0.310 & 0.098\\\\\n",
       "\t6 & STDB6 & 0.5  & 0.614 & 0.106\\\\\n",
       "\t7 & STDB7 & 1    & 0.964 & 0.199\\\\\n",
       "\\end{tabular}\n"
      ],
      "text/markdown": [
       "\n",
       "A data.frame: 7 × 4\n",
       "\n",
       "| <!--/--> | id &lt;chr&gt; | conc &lt;chr&gt; | od &lt;dbl&gt; | od2 &lt;dbl&gt; |\n",
       "|---|---|---|---|---|\n",
       "| 1 | STDB1 | 0    | 0.070 | 0.072 |\n",
       "| 2 | STDB2 | 0.02 | 0.086 | 0.073 |\n",
       "| 3 | STDB3 | 0.05 | 0.112 | 0.107 |\n",
       "| 4 | STDB4 | 0.1  | 0.168 | 0.092 |\n",
       "| 5 | STDB5 | 0.2  | 0.310 | 0.098 |\n",
       "| 6 | STDB6 | 0.5  | 0.614 | 0.106 |\n",
       "| 7 | STDB7 | 1    | 0.964 | 0.199 |\n",
       "\n"
      ],
      "text/plain": [
       "  id    conc od    od2  \n",
       "1 STDB1 0    0.070 0.072\n",
       "2 STDB2 0.02 0.086 0.073\n",
       "3 STDB3 0.05 0.112 0.107\n",
       "4 STDB4 0.1  0.168 0.092\n",
       "5 STDB5 0.2  0.310 0.098\n",
       "6 STDB6 0.5  0.614 0.106\n",
       "7 STDB7 1    0.964 0.199"
      ]
     },
     "metadata": {},
     "output_type": "display_data"
    }
   ],
   "source": [
    "# b & e 1:7\n",
    "hi <- data.frame(id = unlist(plate_setup['b', 1:7]),\n",
    "                    conc = unlist(plate_setup['b_blank', 1:7]),\n",
    "                    od = unlist(raw['b', 1:7]),\n",
    "                    od2 = unlist(raw['e', 1:7])\n",
    "                 )\n",
    "hi"
   ]
  },
  {
   "cell_type": "markdown",
   "id": "f812944a-9843-4d0d-bd86-df1b802e2e67",
   "metadata": {},
   "source": [
    "#### Standard curve"
   ]
  },
  {
   "cell_type": "code",
   "execution_count": 609,
   "id": "b4a331fe-8694-4250-b0b2-40e118397cc0",
   "metadata": {},
   "outputs": [
    {
     "data": {
      "text/plain": [
       "\n",
       "Call:\n",
       "lm(formula = conc ~ od, data = low_long)\n",
       "\n",
       "Residuals:\n",
       "     Min       1Q   Median       3Q      Max \n",
       "-0.01500 -0.00906 -0.00117  0.01000  0.02033 \n",
       "\n",
       "Coefficients:\n",
       "            Estimate Std. Error t value Pr(>|t|)    \n",
       "(Intercept) -0.02122    0.00808   -2.63    0.017 *  \n",
       "od           0.42065    0.07473    5.63  0.00002 ***\n",
       "---\n",
       "Signif. codes:  0 ‘***’ 0.001 ‘**’ 0.01 ‘*’ 0.05 ‘.’ 0.1 ‘ ’ 1\n",
       "\n",
       "Residual standard error: 0.0111 on 19 degrees of freedom\n",
       "Multiple R-squared:  0.625,\tAdjusted R-squared:  0.605 \n",
       "F-statistic: 31.7 on 1 and 19 DF,  p-value: 0.0000199\n"
      ]
     },
     "metadata": {},
     "output_type": "display_data"
    }
   ],
   "source": [
    "# create linear standard curve \n",
    "# lm(target(y) ~ predictor(x))\n",
    "# normally concentration is predictor (x), absorbance is response variable (y)\n",
    "# but since we need to predict concentration, switching variables. since they are a linear relationship this should be fine. \n",
    "# SO: conc ~ od means absorbance is predictor (x) and concentration is response (y)\n",
    "low_model <- lm(conc ~ od, data = low_long)\n",
    "# view summary stats (R-squared)\n",
    "summary(low_model)"
   ]
  },
  {
   "cell_type": "code",
   "execution_count": 610,
   "id": "54bd8e7c-9e4b-44c2-b5b8-21e9a96d6dc9",
   "metadata": {},
   "outputs": [
    {
     "data": {
      "text/plain": [
       "\n",
       "Call:\n",
       "lm(formula = conc ~ avg_od, data = low_long)\n",
       "\n",
       "Residuals:\n",
       "     Min       1Q   Median       3Q      Max \n",
       "-0.00620 -0.00603 -0.00403  0.00503  0.01416 \n",
       "\n",
       "Coefficients:\n",
       "            Estimate Std. Error t value    Pr(>|t|)    \n",
       "(Intercept) -0.03582    0.00611   -5.86 0.000012132 ***\n",
       "avg_od       0.56226    0.05722    9.83 0.000000007 ***\n",
       "---\n",
       "Signif. codes:  0 ‘***’ 0.001 ‘**’ 0.01 ‘*’ 0.05 ‘.’ 0.1 ‘ ’ 1\n",
       "\n",
       "Residual standard error: 0.00737 on 19 degrees of freedom\n",
       "Multiple R-squared:  0.836,\tAdjusted R-squared:  0.827 \n",
       "F-statistic: 96.6 on 1 and 19 DF,  p-value: 0.00000000697\n"
      ]
     },
     "metadata": {},
     "output_type": "display_data"
    }
   ],
   "source": [
    "## use the averages for the curve \n",
    "low_avg_model <- lm(conc ~ avg_od, data = low_long)\n",
    "summary(low_avg_model)"
   ]
  },
  {
   "cell_type": "code",
   "execution_count": 611,
   "id": "db7deb57-be34-439f-a34b-03597bafaf49",
   "metadata": {},
   "outputs": [
    {
     "data": {
      "text/html": [
       "<table class=\"dataframe\">\n",
       "<caption>A data.frame: 2 × 2</caption>\n",
       "<thead>\n",
       "\t<tr><th></th><th scope=col>df</th><th scope=col>AIC</th></tr>\n",
       "\t<tr><th></th><th scope=col>&lt;dbl&gt;</th><th scope=col>&lt;dbl&gt;</th></tr>\n",
       "</thead>\n",
       "<tbody>\n",
       "\t<tr><th scope=row>low_model</th><td>3</td><td>-125.43</td></tr>\n",
       "\t<tr><th scope=row>low_avg_model</th><td>3</td><td>-142.73</td></tr>\n",
       "</tbody>\n",
       "</table>\n"
      ],
      "text/latex": [
       "A data.frame: 2 × 2\n",
       "\\begin{tabular}{r|ll}\n",
       "  & df & AIC\\\\\n",
       "  & <dbl> & <dbl>\\\\\n",
       "\\hline\n",
       "\tlow\\_model & 3 & -125.43\\\\\n",
       "\tlow\\_avg\\_model & 3 & -142.73\\\\\n",
       "\\end{tabular}\n"
      ],
      "text/markdown": [
       "\n",
       "A data.frame: 2 × 2\n",
       "\n",
       "| <!--/--> | df &lt;dbl&gt; | AIC &lt;dbl&gt; |\n",
       "|---|---|---|\n",
       "| low_model | 3 | -125.43 |\n",
       "| low_avg_model | 3 | -142.73 |\n",
       "\n"
      ],
      "text/plain": [
       "              df AIC    \n",
       "low_model     3  -125.43\n",
       "low_avg_model 3  -142.73"
      ]
     },
     "metadata": {},
     "output_type": "display_data"
    }
   ],
   "source": [
    "aic <- AIC(low_model, low_avg_model)\n",
    "aic\n",
    "# avg is better "
   ]
  },
  {
   "cell_type": "code",
   "execution_count": 612,
   "id": "e22a17a5-8af8-473b-a0ec-8353cf091f77",
   "metadata": {},
   "outputs": [
    {
     "name": "stderr",
     "output_type": "stream",
     "text": [
      "\u001b[1m\u001b[22m`geom_smooth()` using formula = 'y ~ x'\n"
     ]
    },
    {
     "data": {
      "image/png": "[encoded data removed]",
      "text/plain": [
       "plot without title"
      ]
     },
     "metadata": {
      "image/png": {
       "height": 420,
       "width": 420
      }
     },
     "output_type": "display_data"
    }
   ],
   "source": [
    "# Plot the data with the regression line\n",
    "ggplot(low_long, aes(x = od, y = conc, color = rep)) +\n",
    "       geom_point() +\n",
    "       geom_smooth(method = \"lm\", se = FALSE)"
   ]
  },
  {
   "cell_type": "code",
   "execution_count": 613,
   "id": "37b3405b-760f-4385-95ac-a792b2b471d4",
   "metadata": {
    "scrolled": true
   },
   "outputs": [
    {
     "name": "stderr",
     "output_type": "stream",
     "text": [
      "\u001b[1m\u001b[22m`geom_smooth()` using formula = 'y ~ x'\n"
     ]
    },
    {
     "data": {
      "image/png": "[encoded data removed]",
      "text/plain": [
       "plot without title"
      ]
     },
     "metadata": {
      "image/png": {
       "height": 420,
       "width": 420
      }
     },
     "output_type": "display_data"
    }
   ],
   "source": [
    "ggplot(low_long, aes(x = avg_od, y = conc)) + \n",
    "  geom_point() +  # Plot the average OD\n",
    "  geom_errorbarh(aes(xmin = avg_od - sd, xmax = avg_od + sd)) +  # Add horizontal error bars\n",
    "  geom_smooth(method = \"lm\", se = FALSE, linetype = \"solid\") +  # Add regression line\n",
    "  theme_minimal()"
   ]
  },
  {
   "cell_type": "markdown",
   "id": "af876fee-8b26-4ac2-a6fa-9fdca2e67f8c",
   "metadata": {},
   "source": [
    "### High"
   ]
  },
  {
   "cell_type": "code",
   "execution_count": 614,
   "id": "63ca779e-982a-4d3a-ae32-b76c3f667dfc",
   "metadata": {},
   "outputs": [],
   "source": [
    "# add data \n",
    "hi <- data.frame(id = unlist(plate_setup[3, 1:7]),\n",
    "                    conc = unlist(plate_setup[4, 1:7]),\n",
    "                    od = unlist(raw['b', 1:7]),\n",
    "                    od2 = unlist(raw['f', 1:7])\n",
    "                 )\n",
    "# convert to numeric\n",
    "hi$conc<-as.numeric(hi$conc)\n",
    "\n",
    "# calculate avg, standard deviation  and pivot \n",
    "hi$avg_od <- rowMeans(low[, c(\"od\", \"od2\")])\n",
    "\n",
    "# pivot\n",
    "hi_long<-hi %>% pivot_longer(cols = c(\"od\", \"od2\"),\n",
    "             names_to = 'rep',\n",
    "             values_to = 'od')\n",
    "# std dev\n",
    "hi_long <- hi_long %>%\n",
    "  group_by(id) %>%\n",
    "  mutate(sd = sd(od)) %>%\n",
    "  ungroup()"
   ]
  },
  {
   "cell_type": "code",
   "execution_count": 615,
   "id": "eb8f50fa-9ab6-42e3-8ce6-35b81aaa4173",
   "metadata": {},
   "outputs": [
    {
     "data": {
      "text/html": [
       "<table class=\"dataframe\">\n",
       "<caption>A tibble: 14 × 6</caption>\n",
       "<thead>\n",
       "\t<tr><th scope=col>id</th><th scope=col>conc</th><th scope=col>avg_od</th><th scope=col>rep</th><th scope=col>od</th><th scope=col>sd</th></tr>\n",
       "\t<tr><th scope=col>&lt;chr&gt;</th><th scope=col>&lt;dbl&gt;</th><th scope=col>&lt;dbl&gt;</th><th scope=col>&lt;chr&gt;</th><th scope=col>&lt;dbl&gt;</th><th scope=col>&lt;dbl&gt;</th></tr>\n",
       "</thead>\n",
       "<tbody>\n",
       "\t<tr><td>STDB1</td><td>0.00</td><td>0.0755</td><td>od </td><td>0.070</td><td>0.00848528</td></tr>\n",
       "\t<tr><td>STDB1</td><td>0.00</td><td>0.0755</td><td>od2</td><td>0.082</td><td>0.00848528</td></tr>\n",
       "\t<tr><td>STDB2</td><td>0.02</td><td>0.0855</td><td>od </td><td>0.086</td><td>0.00494975</td></tr>\n",
       "\t<tr><td>STDB2</td><td>0.02</td><td>0.0855</td><td>od2</td><td>0.093</td><td>0.00494975</td></tr>\n",
       "\t<tr><td>STDB3</td><td>0.05</td><td>0.0945</td><td>od </td><td>0.112</td><td>0.00707107</td></tr>\n",
       "\t<tr><td>STDB3</td><td>0.05</td><td>0.0945</td><td>od2</td><td>0.122</td><td>0.00707107</td></tr>\n",
       "\t<tr><td>STDB4</td><td>0.10</td><td>0.0920</td><td>od </td><td>0.168</td><td>0.00141421</td></tr>\n",
       "\t<tr><td>STDB4</td><td>0.10</td><td>0.0920</td><td>od2</td><td>0.166</td><td>0.00141421</td></tr>\n",
       "\t<tr><td>STDB5</td><td>0.20</td><td>0.1215</td><td>od </td><td>0.310</td><td>0.02687006</td></tr>\n",
       "\t<tr><td>STDB5</td><td>0.20</td><td>0.1215</td><td>od2</td><td>0.272</td><td>0.02687006</td></tr>\n",
       "\t<tr><td>STDB6</td><td>0.50</td><td>0.1100</td><td>od </td><td>0.614</td><td>0.00070711</td></tr>\n",
       "\t<tr><td>STDB6</td><td>0.50</td><td>0.1100</td><td>od2</td><td>0.615</td><td>0.00070711</td></tr>\n",
       "\t<tr><td>STDB7</td><td>1.00</td><td>0.1600</td><td>od </td><td>0.964</td><td>0.01131371</td></tr>\n",
       "\t<tr><td>STDB7</td><td>1.00</td><td>0.1600</td><td>od2</td><td>0.980</td><td>0.01131371</td></tr>\n",
       "</tbody>\n",
       "</table>\n"
      ],
      "text/latex": [
       "A tibble: 14 × 6\n",
       "\\begin{tabular}{llllll}\n",
       " id & conc & avg\\_od & rep & od & sd\\\\\n",
       " <chr> & <dbl> & <dbl> & <chr> & <dbl> & <dbl>\\\\\n",
       "\\hline\n",
       "\t STDB1 & 0.00 & 0.0755 & od  & 0.070 & 0.00848528\\\\\n",
       "\t STDB1 & 0.00 & 0.0755 & od2 & 0.082 & 0.00848528\\\\\n",
       "\t STDB2 & 0.02 & 0.0855 & od  & 0.086 & 0.00494975\\\\\n",
       "\t STDB2 & 0.02 & 0.0855 & od2 & 0.093 & 0.00494975\\\\\n",
       "\t STDB3 & 0.05 & 0.0945 & od  & 0.112 & 0.00707107\\\\\n",
       "\t STDB3 & 0.05 & 0.0945 & od2 & 0.122 & 0.00707107\\\\\n",
       "\t STDB4 & 0.10 & 0.0920 & od  & 0.168 & 0.00141421\\\\\n",
       "\t STDB4 & 0.10 & 0.0920 & od2 & 0.166 & 0.00141421\\\\\n",
       "\t STDB5 & 0.20 & 0.1215 & od  & 0.310 & 0.02687006\\\\\n",
       "\t STDB5 & 0.20 & 0.1215 & od2 & 0.272 & 0.02687006\\\\\n",
       "\t STDB6 & 0.50 & 0.1100 & od  & 0.614 & 0.00070711\\\\\n",
       "\t STDB6 & 0.50 & 0.1100 & od2 & 0.615 & 0.00070711\\\\\n",
       "\t STDB7 & 1.00 & 0.1600 & od  & 0.964 & 0.01131371\\\\\n",
       "\t STDB7 & 1.00 & 0.1600 & od2 & 0.980 & 0.01131371\\\\\n",
       "\\end{tabular}\n"
      ],
      "text/markdown": [
       "\n",
       "A tibble: 14 × 6\n",
       "\n",
       "| id &lt;chr&gt; | conc &lt;dbl&gt; | avg_od &lt;dbl&gt; | rep &lt;chr&gt; | od &lt;dbl&gt; | sd &lt;dbl&gt; |\n",
       "|---|---|---|---|---|---|\n",
       "| STDB1 | 0.00 | 0.0755 | od  | 0.070 | 0.00848528 |\n",
       "| STDB1 | 0.00 | 0.0755 | od2 | 0.082 | 0.00848528 |\n",
       "| STDB2 | 0.02 | 0.0855 | od  | 0.086 | 0.00494975 |\n",
       "| STDB2 | 0.02 | 0.0855 | od2 | 0.093 | 0.00494975 |\n",
       "| STDB3 | 0.05 | 0.0945 | od  | 0.112 | 0.00707107 |\n",
       "| STDB3 | 0.05 | 0.0945 | od2 | 0.122 | 0.00707107 |\n",
       "| STDB4 | 0.10 | 0.0920 | od  | 0.168 | 0.00141421 |\n",
       "| STDB4 | 0.10 | 0.0920 | od2 | 0.166 | 0.00141421 |\n",
       "| STDB5 | 0.20 | 0.1215 | od  | 0.310 | 0.02687006 |\n",
       "| STDB5 | 0.20 | 0.1215 | od2 | 0.272 | 0.02687006 |\n",
       "| STDB6 | 0.50 | 0.1100 | od  | 0.614 | 0.00070711 |\n",
       "| STDB6 | 0.50 | 0.1100 | od2 | 0.615 | 0.00070711 |\n",
       "| STDB7 | 1.00 | 0.1600 | od  | 0.964 | 0.01131371 |\n",
       "| STDB7 | 1.00 | 0.1600 | od2 | 0.980 | 0.01131371 |\n",
       "\n"
      ],
      "text/plain": [
       "   id    conc avg_od rep od    sd        \n",
       "1  STDB1 0.00 0.0755 od  0.070 0.00848528\n",
       "2  STDB1 0.00 0.0755 od2 0.082 0.00848528\n",
       "3  STDB2 0.02 0.0855 od  0.086 0.00494975\n",
       "4  STDB2 0.02 0.0855 od2 0.093 0.00494975\n",
       "5  STDB3 0.05 0.0945 od  0.112 0.00707107\n",
       "6  STDB3 0.05 0.0945 od2 0.122 0.00707107\n",
       "7  STDB4 0.10 0.0920 od  0.168 0.00141421\n",
       "8  STDB4 0.10 0.0920 od2 0.166 0.00141421\n",
       "9  STDB5 0.20 0.1215 od  0.310 0.02687006\n",
       "10 STDB5 0.20 0.1215 od2 0.272 0.02687006\n",
       "11 STDB6 0.50 0.1100 od  0.614 0.00070711\n",
       "12 STDB6 0.50 0.1100 od2 0.615 0.00070711\n",
       "13 STDB7 1.00 0.1600 od  0.964 0.01131371\n",
       "14 STDB7 1.00 0.1600 od2 0.980 0.01131371"
      ]
     },
     "metadata": {},
     "output_type": "display_data"
    }
   ],
   "source": [
    "hi_long"
   ]
  },
  {
   "cell_type": "markdown",
   "id": "163ade46-10a1-45a3-bc4b-43241d2d2b5f",
   "metadata": {},
   "source": [
    "#### Standard curve"
   ]
  },
  {
   "cell_type": "code",
   "execution_count": 616,
   "id": "16350188-ef1e-4fdc-928f-25b5adf9499e",
   "metadata": {},
   "outputs": [
    {
     "data": {
      "text/plain": [
       "\n",
       "Call:\n",
       "lm(formula = conc ~ od, data = hi_long)\n",
       "\n",
       "Residuals:\n",
       "     Min       1Q   Median       3Q      Max \n",
       "-0.07052 -0.00127  0.00966  0.01673  0.05477 \n",
       "\n",
       "Coefficients:\n",
       "            Estimate Std. Error t value         Pr(>|t|)    \n",
       "(Intercept)  -0.0898     0.0148   -6.06 0.00005666777797 ***\n",
       "od            1.0736     0.0324   33.14 0.00000000000036 ***\n",
       "---\n",
       "Signif. codes:  0 ‘***’ 0.001 ‘**’ 0.01 ‘*’ 0.05 ‘.’ 0.1 ‘ ’ 1\n",
       "\n",
       "Residual standard error: 0.038 on 12 degrees of freedom\n",
       "Multiple R-squared:  0.989,\tAdjusted R-squared:  0.988 \n",
       "F-statistic: 1.1e+03 on 1 and 12 DF,  p-value: 0.000000000000362\n"
      ]
     },
     "metadata": {},
     "output_type": "display_data"
    }
   ],
   "source": [
    "# create linear standard curve \n",
    "# lm(target(y) ~ predictor(x))\n",
    "# normally concentration is predictor (x), absorbance is response variable (y)\n",
    "# but since we need to predict concentration, switching variables. since they are a linear relationship this should be fine. \n",
    "# SO: conc ~ od means absorbance is predictor (x) and concentration is response (y)\n",
    "hi_model <- lm(conc ~ od, data = hi_long)\n",
    "# view summary stats (R-squared)\n",
    "summary(hi_model)"
   ]
  },
  {
   "cell_type": "code",
   "execution_count": 617,
   "id": "1cbbbea7-b252-4171-a1f4-68f5f85207f4",
   "metadata": {},
   "outputs": [
    {
     "data": {
      "text/plain": [
       "\n",
       "Call:\n",
       "lm(formula = conc ~ avg_od, data = hi_long)\n",
       "\n",
       "Residuals:\n",
       "     Min       1Q   Median       3Q      Max \n",
       "-0.25605 -0.06665 -0.00619  0.08896  0.18034 \n",
       "\n",
       "Coefficients:\n",
       "            Estimate Std. Error t value  Pr(>|t|)    \n",
       "(Intercept)   -0.985      0.157   -6.27 0.0000411 ***\n",
       "avg_od        11.860      1.443    8.22 0.0000029 ***\n",
       "---\n",
       "Signif. codes:  0 ‘***’ 0.001 ‘**’ 0.01 ‘*’ 0.05 ‘.’ 0.1 ‘ ’ 1\n",
       "\n",
       "Residual standard error: 0.142 on 12 degrees of freedom\n",
       "Multiple R-squared:  0.849,\tAdjusted R-squared:  0.837 \n",
       "F-statistic: 67.5 on 1 and 12 DF,  p-value: 0.00000285\n"
      ]
     },
     "metadata": {},
     "output_type": "display_data"
    }
   ],
   "source": [
    "## use the averages for the curve \n",
    "hi_avg_model <- lm(conc ~ avg_od, data = hi_long)\n",
    "summary(hi_avg_model)"
   ]
  },
  {
   "cell_type": "code",
   "execution_count": 618,
   "id": "78eb7b45-2f04-4277-b111-84d7d9f46d5c",
   "metadata": {},
   "outputs": [
    {
     "data": {
      "text/html": [
       "<table class=\"dataframe\">\n",
       "<caption>A data.frame: 2 × 2</caption>\n",
       "<thead>\n",
       "\t<tr><th></th><th scope=col>df</th><th scope=col>AIC</th></tr>\n",
       "\t<tr><th></th><th scope=col>&lt;dbl&gt;</th><th scope=col>&lt;dbl&gt;</th></tr>\n",
       "</thead>\n",
       "<tbody>\n",
       "\t<tr><th scope=row>hi_model</th><td>3</td><td>-47.960</td></tr>\n",
       "\t<tr><th scope=row>hi_avg_model</th><td>3</td><td>-11.055</td></tr>\n",
       "</tbody>\n",
       "</table>\n"
      ],
      "text/latex": [
       "A data.frame: 2 × 2\n",
       "\\begin{tabular}{r|ll}\n",
       "  & df & AIC\\\\\n",
       "  & <dbl> & <dbl>\\\\\n",
       "\\hline\n",
       "\thi\\_model & 3 & -47.960\\\\\n",
       "\thi\\_avg\\_model & 3 & -11.055\\\\\n",
       "\\end{tabular}\n"
      ],
      "text/markdown": [
       "\n",
       "A data.frame: 2 × 2\n",
       "\n",
       "| <!--/--> | df &lt;dbl&gt; | AIC &lt;dbl&gt; |\n",
       "|---|---|---|\n",
       "| hi_model | 3 | -47.960 |\n",
       "| hi_avg_model | 3 | -11.055 |\n",
       "\n"
      ],
      "text/plain": [
       "             df AIC    \n",
       "hi_model     3  -47.960\n",
       "hi_avg_model 3  -11.055"
      ]
     },
     "metadata": {},
     "output_type": "display_data"
    }
   ],
   "source": [
    "aic <- AIC(hi_model, hi_avg_model)\n",
    "aic\n",
    "# non-average is the better model (lower AIC)"
   ]
  },
  {
   "cell_type": "code",
   "execution_count": 619,
   "id": "206429c1-7af6-40e0-9908-f7dc906cbf76",
   "metadata": {},
   "outputs": [
    {
     "name": "stderr",
     "output_type": "stream",
     "text": [
      "\u001b[1m\u001b[22m`geom_smooth()` using formula = 'y ~ x'\n"
     ]
    },
    {
     "data": {
      "image/png": "[encoded data removed]",
      "text/plain": [
       "plot without title"
      ]
     },
     "metadata": {
      "image/png": {
       "height": 420,
       "width": 420
      }
     },
     "output_type": "display_data"
    }
   ],
   "source": [
    "# Plot the data with the regression line\n",
    "ggplot(hi_long, aes(x = od, y = conc, color = rep)) +\n",
    "       geom_point() +\n",
    "       geom_smooth(method = \"lm\", se = FALSE)"
   ]
  },
  {
   "cell_type": "code",
   "execution_count": 620,
   "id": "3cabb9c1-8043-4dd6-a84b-1ee1a0b111cd",
   "metadata": {},
   "outputs": [
    {
     "name": "stderr",
     "output_type": "stream",
     "text": [
      "\u001b[1m\u001b[22m`geom_smooth()` using formula = 'y ~ x'\n"
     ]
    },
    {
     "data": {
      "image/png": "[encoded data removed]",
      "text/plain": [
       "plot without title"
      ]
     },
     "metadata": {
      "image/png": {
       "height": 420,
       "width": 420
      }
     },
     "output_type": "display_data"
    }
   ],
   "source": [
    "ggplot(hi_long, aes(x = avg_od, y = conc)) + \n",
    "  geom_point() +  # Plot the average OD\n",
    "  geom_errorbarh(aes(xmin = avg_od - sd, xmax = avg_od + sd)) +  # Add horizontal error bars\n",
    "  geom_smooth(method = \"lm\", se = FALSE, linetype = \"solid\") +  # Add regression line\n",
    "  theme_minimal()"
   ]
  },
  {
   "cell_type": "markdown",
   "id": "0a17951b-6538-4efd-ac57-cd01c46621e2",
   "metadata": {},
   "source": [
    "### Combined "
   ]
  },
  {
   "cell_type": "code",
   "execution_count": 621,
   "id": "ea2048b6-6cc7-4caa-9170-5ca8908b7e0b",
   "metadata": {},
   "outputs": [
    {
     "data": {
      "text/html": [
       "<table class=\"dataframe\">\n",
       "<caption>A tibble: 6 × 6</caption>\n",
       "<thead>\n",
       "\t<tr><th scope=col>id</th><th scope=col>conc</th><th scope=col>avg_od</th><th scope=col>rep</th><th scope=col>od</th><th scope=col>sd</th></tr>\n",
       "\t<tr><th scope=col>&lt;chr&gt;</th><th scope=col>&lt;dbl&gt;</th><th scope=col>&lt;dbl&gt;</th><th scope=col>&lt;chr&gt;</th><th scope=col>&lt;dbl&gt;</th><th scope=col>&lt;dbl&gt;</th></tr>\n",
       "</thead>\n",
       "<tbody>\n",
       "\t<tr><td>STDB1</td><td>0.00</td><td>0.0755</td><td>od </td><td>0.070</td><td>0.0084853</td></tr>\n",
       "\t<tr><td>STDB1</td><td>0.00</td><td>0.0755</td><td>od2</td><td>0.082</td><td>0.0084853</td></tr>\n",
       "\t<tr><td>STDB2</td><td>0.02</td><td>0.0855</td><td>od </td><td>0.086</td><td>0.0049497</td></tr>\n",
       "\t<tr><td>STDB2</td><td>0.02</td><td>0.0855</td><td>od2</td><td>0.093</td><td>0.0049497</td></tr>\n",
       "\t<tr><td>STDB3</td><td>0.05</td><td>0.0945</td><td>od </td><td>0.112</td><td>0.0070711</td></tr>\n",
       "\t<tr><td>STDB3</td><td>0.05</td><td>0.0945</td><td>od2</td><td>0.122</td><td>0.0070711</td></tr>\n",
       "</tbody>\n",
       "</table>\n"
      ],
      "text/latex": [
       "A tibble: 6 × 6\n",
       "\\begin{tabular}{llllll}\n",
       " id & conc & avg\\_od & rep & od & sd\\\\\n",
       " <chr> & <dbl> & <dbl> & <chr> & <dbl> & <dbl>\\\\\n",
       "\\hline\n",
       "\t STDB1 & 0.00 & 0.0755 & od  & 0.070 & 0.0084853\\\\\n",
       "\t STDB1 & 0.00 & 0.0755 & od2 & 0.082 & 0.0084853\\\\\n",
       "\t STDB2 & 0.02 & 0.0855 & od  & 0.086 & 0.0049497\\\\\n",
       "\t STDB2 & 0.02 & 0.0855 & od2 & 0.093 & 0.0049497\\\\\n",
       "\t STDB3 & 0.05 & 0.0945 & od  & 0.112 & 0.0070711\\\\\n",
       "\t STDB3 & 0.05 & 0.0945 & od2 & 0.122 & 0.0070711\\\\\n",
       "\\end{tabular}\n"
      ],
      "text/markdown": [
       "\n",
       "A tibble: 6 × 6\n",
       "\n",
       "| id &lt;chr&gt; | conc &lt;dbl&gt; | avg_od &lt;dbl&gt; | rep &lt;chr&gt; | od &lt;dbl&gt; | sd &lt;dbl&gt; |\n",
       "|---|---|---|---|---|---|\n",
       "| STDB1 | 0.00 | 0.0755 | od  | 0.070 | 0.0084853 |\n",
       "| STDB1 | 0.00 | 0.0755 | od2 | 0.082 | 0.0084853 |\n",
       "| STDB2 | 0.02 | 0.0855 | od  | 0.086 | 0.0049497 |\n",
       "| STDB2 | 0.02 | 0.0855 | od2 | 0.093 | 0.0049497 |\n",
       "| STDB3 | 0.05 | 0.0945 | od  | 0.112 | 0.0070711 |\n",
       "| STDB3 | 0.05 | 0.0945 | od2 | 0.122 | 0.0070711 |\n",
       "\n"
      ],
      "text/plain": [
       "  id    conc avg_od rep od    sd       \n",
       "1 STDB1 0.00 0.0755 od  0.070 0.0084853\n",
       "2 STDB1 0.00 0.0755 od2 0.082 0.0084853\n",
       "3 STDB2 0.02 0.0855 od  0.086 0.0049497\n",
       "4 STDB2 0.02 0.0855 od2 0.093 0.0049497\n",
       "5 STDB3 0.05 0.0945 od  0.112 0.0070711\n",
       "6 STDB3 0.05 0.0945 od2 0.122 0.0070711"
      ]
     },
     "metadata": {},
     "output_type": "display_data"
    }
   ],
   "source": [
    "# merge rows \n",
    "stnds<-bind_rows(hi_long, low_long)\n",
    "\n",
    "head(stnds)"
   ]
  },
  {
   "cell_type": "code",
   "execution_count": 622,
   "id": "aaa43818-1be8-42ee-9ccf-4ce0903eb30e",
   "metadata": {},
   "outputs": [],
   "source": [
    "# recalculate averages \n",
    "stnds<-stnds %>% \n",
    "    group_by(conc) %>% \n",
    "        mutate(avg_od = mean(od))"
   ]
  },
  {
   "cell_type": "code",
   "execution_count": 623,
   "id": "9a4f2181-e6d0-4ac8-b8e6-59841e23cee7",
   "metadata": {},
   "outputs": [
    {
     "data": {
      "text/plain": [
       "\n",
       "Call:\n",
       "lm(formula = conc ~ od, data = stnds)\n",
       "\n",
       "Residuals:\n",
       "     Min       1Q   Median       3Q      Max \n",
       "-0.07458 -0.00116  0.00932  0.01367  0.06107 \n",
       "\n",
       "Coefficients:\n",
       "            Estimate Std. Error t value             Pr(>|t|)    \n",
       "(Intercept) -0.08725    0.00658   -13.3   0.0000000000000089 ***\n",
       "od           1.06451    0.02185    48.7 < 0.0000000000000002 ***\n",
       "---\n",
       "Signif. codes:  0 ‘***’ 0.001 ‘**’ 0.01 ‘*’ 0.05 ‘.’ 0.1 ‘ ’ 1\n",
       "\n",
       "Residual standard error: 0.0297 on 33 degrees of freedom\n",
       "Multiple R-squared:  0.986,\tAdjusted R-squared:  0.986 \n",
       "F-statistic: 2.37e+03 on 1 and 33 DF,  p-value: <0.0000000000000002\n"
      ]
     },
     "metadata": {},
     "output_type": "display_data"
    }
   ],
   "source": [
    "# create linear standard curve \n",
    "# lm(target(y) ~ predictor(x))\n",
    "# normally concentration is predictor (x), absorbance is response variable (y)\n",
    "# but since we need to predict concentration, switcstndsng variables. since they are a linear relationsstndsp tstndss should be fine. \n",
    "# SO: conc ~ od means absorbance is predictor (x) and concentration is response (y)\n",
    "stnds_model <- lm(conc ~ od, data = stnds)\n",
    "# view summary stats (R-squared)\n",
    "summary(stnds_model)"
   ]
  },
  {
   "cell_type": "code",
   "execution_count": 624,
   "id": "4a619c7a-7815-4acf-810b-0ae4bc7eba31",
   "metadata": {},
   "outputs": [
    {
     "data": {
      "text/plain": [
       "\n",
       "Call:\n",
       "lm(formula = conc ~ avg_od, data = stnds)\n",
       "\n",
       "Residuals:\n",
       "     Min       1Q   Median       3Q      Max \n",
       "-0.06913 -0.01007  0.00414  0.01097  0.04839 \n",
       "\n",
       "Coefficients:\n",
       "            Estimate Std. Error t value            Pr(>|t|)    \n",
       "(Intercept) -0.08830    0.00526   -16.8 <0.0000000000000002 ***\n",
       "avg_od       1.06986    0.01751    61.1 <0.0000000000000002 ***\n",
       "---\n",
       "Signif. codes:  0 ‘***’ 0.001 ‘**’ 0.01 ‘*’ 0.05 ‘.’ 0.1 ‘ ’ 1\n",
       "\n",
       "Residual standard error: 0.0237 on 33 degrees of freedom\n",
       "Multiple R-squared:  0.991,\tAdjusted R-squared:  0.991 \n",
       "F-statistic: 3.73e+03 on 1 and 33 DF,  p-value: <0.0000000000000002\n"
      ]
     },
     "metadata": {},
     "output_type": "display_data"
    }
   ],
   "source": [
    "## use the averages for the curve \n",
    "stnds_avg_model <- lm(conc ~ avg_od, data = stnds)\n",
    "summary(stnds_avg_model)"
   ]
  },
  {
   "cell_type": "code",
   "execution_count": 625,
   "id": "a65ae64e-459d-49bd-8f34-aea0c77ff0df",
   "metadata": {},
   "outputs": [
    {
     "name": "stderr",
     "output_type": "stream",
     "text": [
      "\u001b[1m\u001b[22m`geom_smooth()` using formula = 'y ~ x'\n"
     ]
    },
    {
     "data": {
      "image/png": "[encoded data removed]",
      "text/plain": [
       "plot without title"
      ]
     },
     "metadata": {
      "image/png": {
       "height": 420,
       "width": 420
      }
     },
     "output_type": "display_data"
    }
   ],
   "source": [
    "# Plot the data with the regression line\n",
    "ggplot(stnds, aes(x = od, y = conc, color = rep)) +\n",
    "       geom_point() +\n",
    "       geom_smooth(method = \"lm\", se = FALSE)"
   ]
  },
  {
   "cell_type": "code",
   "execution_count": 626,
   "id": "4ced40a0-f5f4-410b-a5b8-8ebcff276455",
   "metadata": {},
   "outputs": [
    {
     "name": "stderr",
     "output_type": "stream",
     "text": [
      "\u001b[1m\u001b[22m`geom_smooth()` using formula = 'y ~ x'\n"
     ]
    },
    {
     "data": {
      "image/png": "[encoded data removed]",
      "text/plain": [
       "plot without title"
      ]
     },
     "metadata": {
      "image/png": {
       "height": 420,
       "width": 420
      }
     },
     "output_type": "display_data"
    }
   ],
   "source": [
    "ggplot(hi_long, aes(x = avg_od, y = conc)) + \n",
    "  geom_point() +  # Plot the average OD\n",
    "  geom_errorbarh(aes(xmin = avg_od - sd, xmax = avg_od + sd)) +  # Add horizontal error bars\n",
    "  geom_smooth(method = \"lm\", se = FALSE, linetype = \"solid\") +  # Add regression line\n",
    "  theme_minimal()"
   ]
  },
  {
   "cell_type": "code",
   "execution_count": 627,
   "id": "139f5671-8ec7-419f-9796-14647235c0bc",
   "metadata": {},
   "outputs": [
    {
     "name": "stderr",
     "output_type": "stream",
     "text": [
      "Warning message in AIC.default(stnds_model, stnds_avg_model, hi_model, hi_avg_model, :\n",
      "“models are not all fitted to the same number of observations”\n"
     ]
    },
    {
     "data": {
      "text/html": [
       "<table class=\"dataframe\">\n",
       "<caption>A data.frame: 6 × 2</caption>\n",
       "<thead>\n",
       "\t<tr><th></th><th scope=col>df</th><th scope=col>AIC</th></tr>\n",
       "\t<tr><th></th><th scope=col>&lt;dbl&gt;</th><th scope=col>&lt;dbl&gt;</th></tr>\n",
       "</thead>\n",
       "<tbody>\n",
       "\t<tr><th scope=row>stnds_model</th><td>3</td><td>-142.980</td></tr>\n",
       "\t<tr><th scope=row>stnds_avg_model</th><td>3</td><td>-158.679</td></tr>\n",
       "\t<tr><th scope=row>hi_model</th><td>3</td><td> -47.960</td></tr>\n",
       "\t<tr><th scope=row>hi_avg_model</th><td>3</td><td> -11.055</td></tr>\n",
       "\t<tr><th scope=row>low_model</th><td>3</td><td>-125.427</td></tr>\n",
       "\t<tr><th scope=row>low_avg_model</th><td>3</td><td>-142.734</td></tr>\n",
       "</tbody>\n",
       "</table>\n"
      ],
      "text/latex": [
       "A data.frame: 6 × 2\n",
       "\\begin{tabular}{r|ll}\n",
       "  & df & AIC\\\\\n",
       "  & <dbl> & <dbl>\\\\\n",
       "\\hline\n",
       "\tstnds\\_model & 3 & -142.980\\\\\n",
       "\tstnds\\_avg\\_model & 3 & -158.679\\\\\n",
       "\thi\\_model & 3 &  -47.960\\\\\n",
       "\thi\\_avg\\_model & 3 &  -11.055\\\\\n",
       "\tlow\\_model & 3 & -125.427\\\\\n",
       "\tlow\\_avg\\_model & 3 & -142.734\\\\\n",
       "\\end{tabular}\n"
      ],
      "text/markdown": [
       "\n",
       "A data.frame: 6 × 2\n",
       "\n",
       "| <!--/--> | df &lt;dbl&gt; | AIC &lt;dbl&gt; |\n",
       "|---|---|---|\n",
       "| stnds_model | 3 | -142.980 |\n",
       "| stnds_avg_model | 3 | -158.679 |\n",
       "| hi_model | 3 |  -47.960 |\n",
       "| hi_avg_model | 3 |  -11.055 |\n",
       "| low_model | 3 | -125.427 |\n",
       "| low_avg_model | 3 | -142.734 |\n",
       "\n"
      ],
      "text/plain": [
       "                df AIC     \n",
       "stnds_model     3  -142.980\n",
       "stnds_avg_model 3  -158.679\n",
       "hi_model        3   -47.960\n",
       "hi_avg_model    3   -11.055\n",
       "low_model       3  -125.427\n",
       "low_avg_model   3  -142.734"
      ]
     },
     "metadata": {},
     "output_type": "display_data"
    }
   ],
   "source": [
    "aic <- AIC(stnds_model, stnds_avg_model, hi_model, hi_avg_model, low_model, low_avg_model)\n",
    "aic\n",
    "# non-average is the better model (lower AIC)"
   ]
  },
  {
   "cell_type": "markdown",
   "id": "8687fa6e-2500-4105-9ded-aafdea1feff6",
   "metadata": {},
   "source": [
    "## Samples and QC from curves"
   ]
  },
  {
   "cell_type": "markdown",
   "id": "247b73b1-8a43-446c-a195-d71f1549cfdf",
   "metadata": {},
   "source": [
    "### add data "
   ]
  },
  {
   "cell_type": "code",
   "execution_count": 628,
   "id": "5140f5ab-0abf-4d15-8946-19530b21dfdf",
   "metadata": {},
   "outputs": [],
   "source": [
    "# pull out sample data (samples, QCs, blanks) and use stnd curve to calculate concentrations"
   ]
  },
  {
   "cell_type": "code",
   "execution_count": 629,
   "id": "5ceca172-345e-4556-b409-028a6ba70086",
   "metadata": {},
   "outputs": [
    {
     "data": {
      "text/html": [
       "<table class=\"dataframe\">\n",
       "<caption>A tibble: 12 × 3</caption>\n",
       "<thead>\n",
       "\t<tr><th scope=col>sample</th><th scope=col>rep</th><th scope=col>od</th></tr>\n",
       "\t<tr><th scope=col>&lt;chr&gt;</th><th scope=col>&lt;chr&gt;</th><th scope=col>&lt;dbl&gt;</th></tr>\n",
       "</thead>\n",
       "<tbody>\n",
       "\t<tr><td>s123</td><td>1</td><td>0.074</td></tr>\n",
       "\t<tr><td>s123</td><td>2</td><td>0.072</td></tr>\n",
       "\t<tr><td>s123</td><td>3</td><td>0.070</td></tr>\n",
       "\t<tr><td>s123</td><td>1</td><td>0.080</td></tr>\n",
       "\t<tr><td>s123</td><td>2</td><td>0.071</td></tr>\n",
       "\t<tr><td>s123</td><td>3</td><td>0.072</td></tr>\n",
       "\t<tr><td>s159</td><td>1</td><td>0.071</td></tr>\n",
       "\t<tr><td>s159</td><td>2</td><td>0.071</td></tr>\n",
       "\t<tr><td>s159</td><td>3</td><td>0.073</td></tr>\n",
       "\t<tr><td>s159</td><td>1</td><td>0.068</td></tr>\n",
       "\t<tr><td>s159</td><td>2</td><td>0.066</td></tr>\n",
       "\t<tr><td>s159</td><td>3</td><td>0.067</td></tr>\n",
       "</tbody>\n",
       "</table>\n"
      ],
      "text/latex": [
       "A tibble: 12 × 3\n",
       "\\begin{tabular}{lll}\n",
       " sample & rep & od\\\\\n",
       " <chr> & <chr> & <dbl>\\\\\n",
       "\\hline\n",
       "\t s123 & 1 & 0.074\\\\\n",
       "\t s123 & 2 & 0.072\\\\\n",
       "\t s123 & 3 & 0.070\\\\\n",
       "\t s123 & 1 & 0.080\\\\\n",
       "\t s123 & 2 & 0.071\\\\\n",
       "\t s123 & 3 & 0.072\\\\\n",
       "\t s159 & 1 & 0.071\\\\\n",
       "\t s159 & 2 & 0.071\\\\\n",
       "\t s159 & 3 & 0.073\\\\\n",
       "\t s159 & 1 & 0.068\\\\\n",
       "\t s159 & 2 & 0.066\\\\\n",
       "\t s159 & 3 & 0.067\\\\\n",
       "\\end{tabular}\n"
      ],
      "text/markdown": [
       "\n",
       "A tibble: 12 × 3\n",
       "\n",
       "| sample &lt;chr&gt; | rep &lt;chr&gt; | od &lt;dbl&gt; |\n",
       "|---|---|---|\n",
       "| s123 | 1 | 0.074 |\n",
       "| s123 | 2 | 0.072 |\n",
       "| s123 | 3 | 0.070 |\n",
       "| s123 | 1 | 0.080 |\n",
       "| s123 | 2 | 0.071 |\n",
       "| s123 | 3 | 0.072 |\n",
       "| s159 | 1 | 0.071 |\n",
       "| s159 | 2 | 0.071 |\n",
       "| s159 | 3 | 0.073 |\n",
       "| s159 | 1 | 0.068 |\n",
       "| s159 | 2 | 0.066 |\n",
       "| s159 | 3 | 0.067 |\n",
       "\n"
      ],
      "text/plain": [
       "   sample rep od   \n",
       "1  s123   1   0.074\n",
       "2  s123   2   0.072\n",
       "3  s123   3   0.070\n",
       "4  s123   1   0.080\n",
       "5  s123   2   0.071\n",
       "6  s123   3   0.072\n",
       "7  s159   1   0.071\n",
       "8  s159   2   0.071\n",
       "9  s159   3   0.073\n",
       "10 s159   1   0.068\n",
       "11 s159   2   0.066\n",
       "12 s159   3   0.067"
      ]
     },
     "metadata": {},
     "output_type": "display_data"
    }
   ],
   "source": [
    "# samples\n",
    "#S123: C & D 1-3 \n",
    "#S159: C & D 4-6\n",
    "\n",
    "s123 <- raw[c(\"c\", \"d\"),1:3] %>%\n",
    "    mutate(sample = 's123')\n",
    "s159 <- raw[c(\"c\", \"d\"),4:6] %>% \n",
    "    mutate(sample = 's159') \n",
    "names(s159) <- c(1,2,3,'sample')\n",
    "samples <- rbind(s123, s159) %>%\n",
    "    pivot_longer(cols = 1:3,\n",
    "                names_to = 'rep',\n",
    "                 values_to = 'od')\n",
    "samples"
   ]
  },
  {
   "cell_type": "code",
   "execution_count": 630,
   "id": "94aa7012-91c2-46e8-8a62-28265f01e8c4",
   "metadata": {
    "scrolled": true
   },
   "outputs": [
    {
     "data": {
      "text/html": [
       "<table class=\"dataframe\">\n",
       "<caption>A data.frame: 15 × 3</caption>\n",
       "<thead>\n",
       "\t<tr><th scope=col>rep</th><th scope=col>od</th><th scope=col>sample</th></tr>\n",
       "\t<tr><th scope=col>&lt;dbl&gt;</th><th scope=col>&lt;dbl&gt;</th><th scope=col>&lt;chr&gt;</th></tr>\n",
       "</thead>\n",
       "<tbody>\n",
       "\t<tr><td>1</td><td>0.847</td><td>qc1</td></tr>\n",
       "\t<tr><td>2</td><td>0.846</td><td>qc1</td></tr>\n",
       "\t<tr><td>3</td><td>0.848</td><td>qc1</td></tr>\n",
       "\t<tr><td>4</td><td>0.842</td><td>qc1</td></tr>\n",
       "\t<tr><td>5</td><td>0.846</td><td>qc1</td></tr>\n",
       "\t<tr><td>1</td><td>0.474</td><td>qc2</td></tr>\n",
       "\t<tr><td>2</td><td>0.484</td><td>qc2</td></tr>\n",
       "\t<tr><td>3</td><td>0.485</td><td>qc2</td></tr>\n",
       "\t<tr><td>4</td><td>0.486</td><td>qc2</td></tr>\n",
       "\t<tr><td>5</td><td>0.478</td><td>qc2</td></tr>\n",
       "\t<tr><td>1</td><td>0.125</td><td>qc3</td></tr>\n",
       "\t<tr><td>2</td><td>0.118</td><td>qc3</td></tr>\n",
       "\t<tr><td>3</td><td>0.121</td><td>qc3</td></tr>\n",
       "\t<tr><td>4</td><td>0.119</td><td>qc3</td></tr>\n",
       "\t<tr><td>5</td><td>0.119</td><td>qc3</td></tr>\n",
       "</tbody>\n",
       "</table>\n"
      ],
      "text/latex": [
       "A data.frame: 15 × 3\n",
       "\\begin{tabular}{lll}\n",
       " rep & od & sample\\\\\n",
       " <dbl> & <dbl> & <chr>\\\\\n",
       "\\hline\n",
       "\t 1 & 0.847 & qc1\\\\\n",
       "\t 2 & 0.846 & qc1\\\\\n",
       "\t 3 & 0.848 & qc1\\\\\n",
       "\t 4 & 0.842 & qc1\\\\\n",
       "\t 5 & 0.846 & qc1\\\\\n",
       "\t 1 & 0.474 & qc2\\\\\n",
       "\t 2 & 0.484 & qc2\\\\\n",
       "\t 3 & 0.485 & qc2\\\\\n",
       "\t 4 & 0.486 & qc2\\\\\n",
       "\t 5 & 0.478 & qc2\\\\\n",
       "\t 1 & 0.125 & qc3\\\\\n",
       "\t 2 & 0.118 & qc3\\\\\n",
       "\t 3 & 0.121 & qc3\\\\\n",
       "\t 4 & 0.119 & qc3\\\\\n",
       "\t 5 & 0.119 & qc3\\\\\n",
       "\\end{tabular}\n"
      ],
      "text/markdown": [
       "\n",
       "A data.frame: 15 × 3\n",
       "\n",
       "| rep &lt;dbl&gt; | od &lt;dbl&gt; | sample &lt;chr&gt; |\n",
       "|---|---|---|\n",
       "| 1 | 0.847 | qc1 |\n",
       "| 2 | 0.846 | qc1 |\n",
       "| 3 | 0.848 | qc1 |\n",
       "| 4 | 0.842 | qc1 |\n",
       "| 5 | 0.846 | qc1 |\n",
       "| 1 | 0.474 | qc2 |\n",
       "| 2 | 0.484 | qc2 |\n",
       "| 3 | 0.485 | qc2 |\n",
       "| 4 | 0.486 | qc2 |\n",
       "| 5 | 0.478 | qc2 |\n",
       "| 1 | 0.125 | qc3 |\n",
       "| 2 | 0.118 | qc3 |\n",
       "| 3 | 0.121 | qc3 |\n",
       "| 4 | 0.119 | qc3 |\n",
       "| 5 | 0.119 | qc3 |\n",
       "\n"
      ],
      "text/plain": [
       "   rep od    sample\n",
       "1  1   0.847 qc1   \n",
       "2  2   0.846 qc1   \n",
       "3  3   0.848 qc1   \n",
       "4  4   0.842 qc1   \n",
       "5  5   0.846 qc1   \n",
       "6  1   0.474 qc2   \n",
       "7  2   0.484 qc2   \n",
       "8  3   0.485 qc2   \n",
       "9  4   0.486 qc2   \n",
       "10 5   0.478 qc2   \n",
       "11 1   0.125 qc3   \n",
       "12 2   0.118 qc3   \n",
       "13 3   0.121 qc3   \n",
       "14 4   0.119 qc3   \n",
       "15 5   0.119 qc3   "
      ]
     },
     "metadata": {},
     "output_type": "display_data"
    }
   ],
   "source": [
    "# QC1 (1ppm): A,B,E,F 9 & C7 \n",
    "# QC2 (0.5 ppm): A,B,E,F 10 & D7 \n",
    "# QC3 (0.05 ppm): A,B,E,F 11 & C8\n",
    "\n",
    "qc1 <- data.frame(\n",
    "  rep = c(1, 2, 3, 4, 5), # Replicate numbers\n",
    "  od = c(raw[\"a\", 9], raw[\"b\", 9], raw[\"e\", 9], raw[\"f\", 9], raw[\"c\", 7]), # Extract specific values\n",
    "  sample = \"qc1\"\n",
    ")\n",
    "\n",
    "qc2 <- data.frame(\n",
    "  rep = c(1, 2, 3, 4, 5),\n",
    "  od = c(raw[\"a\", 10], raw[\"b\", 10], raw[\"e\", 10], raw[\"f\", 10], raw[\"d\", 7]),\n",
    "  sample = \"qc2\" \n",
    ")\n",
    "\n",
    "qc3 <- data.frame(\n",
    "  rep = c(1, 2, 3, 4, 5), \n",
    "  od = c(raw[\"a\", 11], raw[\"b\", 11], raw[\"e\", 11], raw[\"f\", 11], raw[\"c\", 8]), \n",
    "  sample = \"qc3\" \n",
    ")\n",
    "\n",
    "# Combine\n",
    "qc_long <- bind_rows(qc1, qc2, qc3)\n",
    "qc_long"
   ]
  },
  {
   "cell_type": "code",
   "execution_count": 631,
   "id": "7d9de043-d70a-414c-b0a2-d51fb8f9e07a",
   "metadata": {},
   "outputs": [
    {
     "data": {
      "text/html": [
       "<table class=\"dataframe\">\n",
       "<caption>A data.frame: 11 × 3</caption>\n",
       "<thead>\n",
       "\t<tr><th scope=col>rep</th><th scope=col>od</th><th scope=col>sample</th></tr>\n",
       "\t<tr><th scope=col>&lt;int&gt;</th><th scope=col>&lt;dbl&gt;</th><th scope=col>&lt;chr&gt;</th></tr>\n",
       "</thead>\n",
       "<tbody>\n",
       "\t<tr><td> 1</td><td>0.066</td><td>blank</td></tr>\n",
       "\t<tr><td> 2</td><td>0.064</td><td>blank</td></tr>\n",
       "\t<tr><td> 3</td><td>0.064</td><td>blank</td></tr>\n",
       "\t<tr><td> 4</td><td>0.064</td><td>blank</td></tr>\n",
       "\t<tr><td> 5</td><td>0.067</td><td>blank</td></tr>\n",
       "\t<tr><td> 6</td><td>0.066</td><td>blank</td></tr>\n",
       "\t<tr><td> 7</td><td>0.064</td><td>blank</td></tr>\n",
       "\t<tr><td> 8</td><td>0.065</td><td>blank</td></tr>\n",
       "\t<tr><td> 9</td><td>0.064</td><td>blank</td></tr>\n",
       "\t<tr><td>10</td><td>0.064</td><td>blank</td></tr>\n",
       "\t<tr><td>11</td><td>0.064</td><td>blank</td></tr>\n",
       "</tbody>\n",
       "</table>\n"
      ],
      "text/latex": [
       "A data.frame: 11 × 3\n",
       "\\begin{tabular}{lll}\n",
       " rep & od & sample\\\\\n",
       " <int> & <dbl> & <chr>\\\\\n",
       "\\hline\n",
       "\t  1 & 0.066 & blank\\\\\n",
       "\t  2 & 0.064 & blank\\\\\n",
       "\t  3 & 0.064 & blank\\\\\n",
       "\t  4 & 0.064 & blank\\\\\n",
       "\t  5 & 0.067 & blank\\\\\n",
       "\t  6 & 0.066 & blank\\\\\n",
       "\t  7 & 0.064 & blank\\\\\n",
       "\t  8 & 0.065 & blank\\\\\n",
       "\t  9 & 0.064 & blank\\\\\n",
       "\t 10 & 0.064 & blank\\\\\n",
       "\t 11 & 0.064 & blank\\\\\n",
       "\\end{tabular}\n"
      ],
      "text/markdown": [
       "\n",
       "A data.frame: 11 × 3\n",
       "\n",
       "| rep &lt;int&gt; | od &lt;dbl&gt; | sample &lt;chr&gt; |\n",
       "|---|---|---|\n",
       "|  1 | 0.066 | blank |\n",
       "|  2 | 0.064 | blank |\n",
       "|  3 | 0.064 | blank |\n",
       "|  4 | 0.064 | blank |\n",
       "|  5 | 0.067 | blank |\n",
       "|  6 | 0.066 | blank |\n",
       "|  7 | 0.064 | blank |\n",
       "|  8 | 0.065 | blank |\n",
       "|  9 | 0.064 | blank |\n",
       "| 10 | 0.064 | blank |\n",
       "| 11 | 0.064 | blank |\n",
       "\n"
      ],
      "text/plain": [
       "   rep od    sample\n",
       "1   1  0.066 blank \n",
       "2   2  0.064 blank \n",
       "3   3  0.064 blank \n",
       "4   4  0.064 blank \n",
       "5   5  0.067 blank \n",
       "6   6  0.066 blank \n",
       "7   7  0.064 blank \n",
       "8   8  0.065 blank \n",
       "9   9  0.064 blank \n",
       "10 10  0.064 blank \n",
       "11 11  0.064 blank "
      ]
     },
     "metadata": {},
     "output_type": "display_data"
    }
   ],
   "source": [
    "#blanks \n",
    "# A,B,D, E, F 8\n",
    "# C 9-11\n",
    "# D 9-11\n",
    "blanks <- data.frame(\n",
    "  rep = c(seq(1:11)), # Replicate numbers\n",
    "  od = c(raw[\"a\", 8], raw[\"b\", 8],  raw[\"d\", 8], raw[\"e\", 8], raw[\"f\", 8], \n",
    "         raw[\"c\", 9], raw[\"d\", 9], raw[\"c\", 10], raw[\"d\", 10], raw[\"c\", 11], raw[\"d\", 11]),\n",
    "  sample = \"blank\"\n",
    ")\n",
    "blanks  "
   ]
  },
  {
   "cell_type": "code",
   "execution_count": 632,
   "id": "12b68a12-ca1e-4873-9454-3726a3ddb03b",
   "metadata": {
    "scrolled": true
   },
   "outputs": [],
   "source": [
    "samples<-rbind(samples, qc_long)\n",
    "samples<-rbind(samples, blanks)"
   ]
  },
  {
   "cell_type": "code",
   "execution_count": 633,
   "id": "c5607a82-2d17-4de7-b2ca-0400e6bfa1a2",
   "metadata": {
    "scrolled": true
   },
   "outputs": [
    {
     "data": {
      "text/html": [
       "<table class=\"dataframe\">\n",
       "<caption>A tibble: 38 × 5</caption>\n",
       "<thead>\n",
       "\t<tr><th scope=col>sample</th><th scope=col>rep</th><th scope=col>od</th><th scope=col>avg_od</th><th scope=col>sd_od</th></tr>\n",
       "\t<tr><th scope=col>&lt;chr&gt;</th><th scope=col>&lt;chr&gt;</th><th scope=col>&lt;dbl&gt;</th><th scope=col>&lt;dbl&gt;</th><th scope=col>&lt;dbl&gt;</th></tr>\n",
       "</thead>\n",
       "<tbody>\n",
       "\t<tr><td>s123 </td><td>1 </td><td>0.074</td><td>0.073167</td><td>0.0036009</td></tr>\n",
       "\t<tr><td>s123 </td><td>2 </td><td>0.072</td><td>0.073167</td><td>0.0036009</td></tr>\n",
       "\t<tr><td>s123 </td><td>3 </td><td>0.070</td><td>0.073167</td><td>0.0036009</td></tr>\n",
       "\t<tr><td>s123 </td><td>1 </td><td>0.080</td><td>0.073167</td><td>0.0036009</td></tr>\n",
       "\t<tr><td>s123 </td><td>2 </td><td>0.071</td><td>0.073167</td><td>0.0036009</td></tr>\n",
       "\t<tr><td>s123 </td><td>3 </td><td>0.072</td><td>0.073167</td><td>0.0036009</td></tr>\n",
       "\t<tr><td>s159 </td><td>1 </td><td>0.071</td><td>0.069333</td><td>0.0027325</td></tr>\n",
       "\t<tr><td>s159 </td><td>2 </td><td>0.071</td><td>0.069333</td><td>0.0027325</td></tr>\n",
       "\t<tr><td>s159 </td><td>3 </td><td>0.073</td><td>0.069333</td><td>0.0027325</td></tr>\n",
       "\t<tr><td>s159 </td><td>1 </td><td>0.068</td><td>0.069333</td><td>0.0027325</td></tr>\n",
       "\t<tr><td>s159 </td><td>2 </td><td>0.066</td><td>0.069333</td><td>0.0027325</td></tr>\n",
       "\t<tr><td>s159 </td><td>3 </td><td>0.067</td><td>0.069333</td><td>0.0027325</td></tr>\n",
       "\t<tr><td>qc1  </td><td>1 </td><td>0.847</td><td>0.845800</td><td>0.0022804</td></tr>\n",
       "\t<tr><td>qc1  </td><td>2 </td><td>0.846</td><td>0.845800</td><td>0.0022804</td></tr>\n",
       "\t<tr><td>qc1  </td><td>3 </td><td>0.848</td><td>0.845800</td><td>0.0022804</td></tr>\n",
       "\t<tr><td>qc1  </td><td>4 </td><td>0.842</td><td>0.845800</td><td>0.0022804</td></tr>\n",
       "\t<tr><td>qc1  </td><td>5 </td><td>0.846</td><td>0.845800</td><td>0.0022804</td></tr>\n",
       "\t<tr><td>qc2  </td><td>1 </td><td>0.474</td><td>0.481400</td><td>0.0051769</td></tr>\n",
       "\t<tr><td>qc2  </td><td>2 </td><td>0.484</td><td>0.481400</td><td>0.0051769</td></tr>\n",
       "\t<tr><td>qc2  </td><td>3 </td><td>0.485</td><td>0.481400</td><td>0.0051769</td></tr>\n",
       "\t<tr><td>qc2  </td><td>4 </td><td>0.486</td><td>0.481400</td><td>0.0051769</td></tr>\n",
       "\t<tr><td>qc2  </td><td>5 </td><td>0.478</td><td>0.481400</td><td>0.0051769</td></tr>\n",
       "\t<tr><td>qc3  </td><td>1 </td><td>0.125</td><td>0.120400</td><td>0.0027928</td></tr>\n",
       "\t<tr><td>qc3  </td><td>2 </td><td>0.118</td><td>0.120400</td><td>0.0027928</td></tr>\n",
       "\t<tr><td>qc3  </td><td>3 </td><td>0.121</td><td>0.120400</td><td>0.0027928</td></tr>\n",
       "\t<tr><td>qc3  </td><td>4 </td><td>0.119</td><td>0.120400</td><td>0.0027928</td></tr>\n",
       "\t<tr><td>qc3  </td><td>5 </td><td>0.119</td><td>0.120400</td><td>0.0027928</td></tr>\n",
       "\t<tr><td>blank</td><td>1 </td><td>0.066</td><td>0.064727</td><td>0.0011037</td></tr>\n",
       "\t<tr><td>blank</td><td>2 </td><td>0.064</td><td>0.064727</td><td>0.0011037</td></tr>\n",
       "\t<tr><td>blank</td><td>3 </td><td>0.064</td><td>0.064727</td><td>0.0011037</td></tr>\n",
       "\t<tr><td>blank</td><td>4 </td><td>0.064</td><td>0.064727</td><td>0.0011037</td></tr>\n",
       "\t<tr><td>blank</td><td>5 </td><td>0.067</td><td>0.064727</td><td>0.0011037</td></tr>\n",
       "\t<tr><td>blank</td><td>6 </td><td>0.066</td><td>0.064727</td><td>0.0011037</td></tr>\n",
       "\t<tr><td>blank</td><td>7 </td><td>0.064</td><td>0.064727</td><td>0.0011037</td></tr>\n",
       "\t<tr><td>blank</td><td>8 </td><td>0.065</td><td>0.064727</td><td>0.0011037</td></tr>\n",
       "\t<tr><td>blank</td><td>9 </td><td>0.064</td><td>0.064727</td><td>0.0011037</td></tr>\n",
       "\t<tr><td>blank</td><td>10</td><td>0.064</td><td>0.064727</td><td>0.0011037</td></tr>\n",
       "\t<tr><td>blank</td><td>11</td><td>0.064</td><td>0.064727</td><td>0.0011037</td></tr>\n",
       "</tbody>\n",
       "</table>\n"
      ],
      "text/latex": [
       "A tibble: 38 × 5\n",
       "\\begin{tabular}{lllll}\n",
       " sample & rep & od & avg\\_od & sd\\_od\\\\\n",
       " <chr> & <chr> & <dbl> & <dbl> & <dbl>\\\\\n",
       "\\hline\n",
       "\t s123  & 1  & 0.074 & 0.073167 & 0.0036009\\\\\n",
       "\t s123  & 2  & 0.072 & 0.073167 & 0.0036009\\\\\n",
       "\t s123  & 3  & 0.070 & 0.073167 & 0.0036009\\\\\n",
       "\t s123  & 1  & 0.080 & 0.073167 & 0.0036009\\\\\n",
       "\t s123  & 2  & 0.071 & 0.073167 & 0.0036009\\\\\n",
       "\t s123  & 3  & 0.072 & 0.073167 & 0.0036009\\\\\n",
       "\t s159  & 1  & 0.071 & 0.069333 & 0.0027325\\\\\n",
       "\t s159  & 2  & 0.071 & 0.069333 & 0.0027325\\\\\n",
       "\t s159  & 3  & 0.073 & 0.069333 & 0.0027325\\\\\n",
       "\t s159  & 1  & 0.068 & 0.069333 & 0.0027325\\\\\n",
       "\t s159  & 2  & 0.066 & 0.069333 & 0.0027325\\\\\n",
       "\t s159  & 3  & 0.067 & 0.069333 & 0.0027325\\\\\n",
       "\t qc1   & 1  & 0.847 & 0.845800 & 0.0022804\\\\\n",
       "\t qc1   & 2  & 0.846 & 0.845800 & 0.0022804\\\\\n",
       "\t qc1   & 3  & 0.848 & 0.845800 & 0.0022804\\\\\n",
       "\t qc1   & 4  & 0.842 & 0.845800 & 0.0022804\\\\\n",
       "\t qc1   & 5  & 0.846 & 0.845800 & 0.0022804\\\\\n",
       "\t qc2   & 1  & 0.474 & 0.481400 & 0.0051769\\\\\n",
       "\t qc2   & 2  & 0.484 & 0.481400 & 0.0051769\\\\\n",
       "\t qc2   & 3  & 0.485 & 0.481400 & 0.0051769\\\\\n",
       "\t qc2   & 4  & 0.486 & 0.481400 & 0.0051769\\\\\n",
       "\t qc2   & 5  & 0.478 & 0.481400 & 0.0051769\\\\\n",
       "\t qc3   & 1  & 0.125 & 0.120400 & 0.0027928\\\\\n",
       "\t qc3   & 2  & 0.118 & 0.120400 & 0.0027928\\\\\n",
       "\t qc3   & 3  & 0.121 & 0.120400 & 0.0027928\\\\\n",
       "\t qc3   & 4  & 0.119 & 0.120400 & 0.0027928\\\\\n",
       "\t qc3   & 5  & 0.119 & 0.120400 & 0.0027928\\\\\n",
       "\t blank & 1  & 0.066 & 0.064727 & 0.0011037\\\\\n",
       "\t blank & 2  & 0.064 & 0.064727 & 0.0011037\\\\\n",
       "\t blank & 3  & 0.064 & 0.064727 & 0.0011037\\\\\n",
       "\t blank & 4  & 0.064 & 0.064727 & 0.0011037\\\\\n",
       "\t blank & 5  & 0.067 & 0.064727 & 0.0011037\\\\\n",
       "\t blank & 6  & 0.066 & 0.064727 & 0.0011037\\\\\n",
       "\t blank & 7  & 0.064 & 0.064727 & 0.0011037\\\\\n",
       "\t blank & 8  & 0.065 & 0.064727 & 0.0011037\\\\\n",
       "\t blank & 9  & 0.064 & 0.064727 & 0.0011037\\\\\n",
       "\t blank & 10 & 0.064 & 0.064727 & 0.0011037\\\\\n",
       "\t blank & 11 & 0.064 & 0.064727 & 0.0011037\\\\\n",
       "\\end{tabular}\n"
      ],
      "text/markdown": [
       "\n",
       "A tibble: 38 × 5\n",
       "\n",
       "| sample &lt;chr&gt; | rep &lt;chr&gt; | od &lt;dbl&gt; | avg_od &lt;dbl&gt; | sd_od &lt;dbl&gt; |\n",
       "|---|---|---|---|---|\n",
       "| s123  | 1  | 0.074 | 0.073167 | 0.0036009 |\n",
       "| s123  | 2  | 0.072 | 0.073167 | 0.0036009 |\n",
       "| s123  | 3  | 0.070 | 0.073167 | 0.0036009 |\n",
       "| s123  | 1  | 0.080 | 0.073167 | 0.0036009 |\n",
       "| s123  | 2  | 0.071 | 0.073167 | 0.0036009 |\n",
       "| s123  | 3  | 0.072 | 0.073167 | 0.0036009 |\n",
       "| s159  | 1  | 0.071 | 0.069333 | 0.0027325 |\n",
       "| s159  | 2  | 0.071 | 0.069333 | 0.0027325 |\n",
       "| s159  | 3  | 0.073 | 0.069333 | 0.0027325 |\n",
       "| s159  | 1  | 0.068 | 0.069333 | 0.0027325 |\n",
       "| s159  | 2  | 0.066 | 0.069333 | 0.0027325 |\n",
       "| s159  | 3  | 0.067 | 0.069333 | 0.0027325 |\n",
       "| qc1   | 1  | 0.847 | 0.845800 | 0.0022804 |\n",
       "| qc1   | 2  | 0.846 | 0.845800 | 0.0022804 |\n",
       "| qc1   | 3  | 0.848 | 0.845800 | 0.0022804 |\n",
       "| qc1   | 4  | 0.842 | 0.845800 | 0.0022804 |\n",
       "| qc1   | 5  | 0.846 | 0.845800 | 0.0022804 |\n",
       "| qc2   | 1  | 0.474 | 0.481400 | 0.0051769 |\n",
       "| qc2   | 2  | 0.484 | 0.481400 | 0.0051769 |\n",
       "| qc2   | 3  | 0.485 | 0.481400 | 0.0051769 |\n",
       "| qc2   | 4  | 0.486 | 0.481400 | 0.0051769 |\n",
       "| qc2   | 5  | 0.478 | 0.481400 | 0.0051769 |\n",
       "| qc3   | 1  | 0.125 | 0.120400 | 0.0027928 |\n",
       "| qc3   | 2  | 0.118 | 0.120400 | 0.0027928 |\n",
       "| qc3   | 3  | 0.121 | 0.120400 | 0.0027928 |\n",
       "| qc3   | 4  | 0.119 | 0.120400 | 0.0027928 |\n",
       "| qc3   | 5  | 0.119 | 0.120400 | 0.0027928 |\n",
       "| blank | 1  | 0.066 | 0.064727 | 0.0011037 |\n",
       "| blank | 2  | 0.064 | 0.064727 | 0.0011037 |\n",
       "| blank | 3  | 0.064 | 0.064727 | 0.0011037 |\n",
       "| blank | 4  | 0.064 | 0.064727 | 0.0011037 |\n",
       "| blank | 5  | 0.067 | 0.064727 | 0.0011037 |\n",
       "| blank | 6  | 0.066 | 0.064727 | 0.0011037 |\n",
       "| blank | 7  | 0.064 | 0.064727 | 0.0011037 |\n",
       "| blank | 8  | 0.065 | 0.064727 | 0.0011037 |\n",
       "| blank | 9  | 0.064 | 0.064727 | 0.0011037 |\n",
       "| blank | 10 | 0.064 | 0.064727 | 0.0011037 |\n",
       "| blank | 11 | 0.064 | 0.064727 | 0.0011037 |\n",
       "\n"
      ],
      "text/plain": [
       "   sample rep od    avg_od   sd_od    \n",
       "1  s123   1   0.074 0.073167 0.0036009\n",
       "2  s123   2   0.072 0.073167 0.0036009\n",
       "3  s123   3   0.070 0.073167 0.0036009\n",
       "4  s123   1   0.080 0.073167 0.0036009\n",
       "5  s123   2   0.071 0.073167 0.0036009\n",
       "6  s123   3   0.072 0.073167 0.0036009\n",
       "7  s159   1   0.071 0.069333 0.0027325\n",
       "8  s159   2   0.071 0.069333 0.0027325\n",
       "9  s159   3   0.073 0.069333 0.0027325\n",
       "10 s159   1   0.068 0.069333 0.0027325\n",
       "11 s159   2   0.066 0.069333 0.0027325\n",
       "12 s159   3   0.067 0.069333 0.0027325\n",
       "13 qc1    1   0.847 0.845800 0.0022804\n",
       "14 qc1    2   0.846 0.845800 0.0022804\n",
       "15 qc1    3   0.848 0.845800 0.0022804\n",
       "16 qc1    4   0.842 0.845800 0.0022804\n",
       "17 qc1    5   0.846 0.845800 0.0022804\n",
       "18 qc2    1   0.474 0.481400 0.0051769\n",
       "19 qc2    2   0.484 0.481400 0.0051769\n",
       "20 qc2    3   0.485 0.481400 0.0051769\n",
       "21 qc2    4   0.486 0.481400 0.0051769\n",
       "22 qc2    5   0.478 0.481400 0.0051769\n",
       "23 qc3    1   0.125 0.120400 0.0027928\n",
       "24 qc3    2   0.118 0.120400 0.0027928\n",
       "25 qc3    3   0.121 0.120400 0.0027928\n",
       "26 qc3    4   0.119 0.120400 0.0027928\n",
       "27 qc3    5   0.119 0.120400 0.0027928\n",
       "28 blank  1   0.066 0.064727 0.0011037\n",
       "29 blank  2   0.064 0.064727 0.0011037\n",
       "30 blank  3   0.064 0.064727 0.0011037\n",
       "31 blank  4   0.064 0.064727 0.0011037\n",
       "32 blank  5   0.067 0.064727 0.0011037\n",
       "33 blank  6   0.066 0.064727 0.0011037\n",
       "34 blank  7   0.064 0.064727 0.0011037\n",
       "35 blank  8   0.065 0.064727 0.0011037\n",
       "36 blank  9   0.064 0.064727 0.0011037\n",
       "37 blank  10  0.064 0.064727 0.0011037\n",
       "38 blank  11  0.064 0.064727 0.0011037"
      ]
     },
     "metadata": {},
     "output_type": "display_data"
    }
   ],
   "source": [
    "samples <- samples %>%\n",
    "    group_by(sample) %>%\n",
    "    mutate(avg_od = mean(od)) %>% # Calculate mean within each group and add it as a new column\n",
    "    mutate(sd_od = sd(od)) %>%\n",
    "    ungroup() # Remove grouping for subsequent operations\n",
    "samples"
   ]
  },
  {
   "cell_type": "markdown",
   "id": "6c3c0611-3544-4508-8003-993425c016c3",
   "metadata": {},
   "source": [
    "### predicted values based on low curve (individual lm model)"
   ]
  },
  {
   "cell_type": "code",
   "execution_count": 634,
   "id": "72419337-63d9-4435-b648-b0dc3aa442c9",
   "metadata": {},
   "outputs": [],
   "source": [
    "# add actual concentrations\n",
    "samples <- samples %>%\n",
    "    mutate(actual_conc = (case_when(\n",
    "        sample == 'qc1' ~ 1,\n",
    "        sample == 'qc2' ~ 0.5,\n",
    "        sample == 'qc3' ~ 0.05,\n",
    "        sample == 'blank' ~ 0,\n",
    "        TRUE ~ NA))\n",
    "        )\n",
    "\n",
    "# calculate concentrations using curve \n",
    "samples$predicted_conc <- predict(low_model, newdata = samples)\n",
    "\n",
    "#calculate avgs and sd of predicted conc\n",
    "samples<-samples %>%\n",
    "    group_by(sample) %>%\n",
    "        mutate(avg_predicted_conc = mean(predicted_conc)) %>%\n",
    "        mutate(sd_predicted_conc = sd(predicted_conc)) %>%\n",
    "            ungroup()"
   ]
  },
  {
   "cell_type": "code",
   "execution_count": 635,
   "id": "d082769d-1cf6-44f4-a2ba-251f8871e5ed",
   "metadata": {},
   "outputs": [],
   "source": [
    "# calculate % error for qcs (individually, by rep)\n",
    "# make lists to loop through \n",
    "qc_list <- c('qc1','qc2','qc3')\n",
    "expected_conc <- c(1,0.5,0.05)\n",
    "\n",
    "# Add a percent_error column initialized with NA\n",
    "samples <- samples %>%\n",
    "  mutate(percent_error = NA_real_)\n",
    "\n",
    "# Loop through each QC sample\n",
    "for (q in c(1:length(qc_list))) {\n",
    "  # Update percent_error for matching QC samples and set others to NA\n",
    "  samples <- samples %>%\n",
    "    mutate(percent_error = ifelse(\n",
    "      sample == qc_list[q],  # Only apply to matching QC samples\n",
    "      (abs(predicted_conc - expected_conc[q]) / expected_conc[q]) * 100,  # Calculate % error\n",
    "      percent_error  # For non-matching rows, retain NA\n",
    "    ))\n",
    "}"
   ]
  },
  {
   "cell_type": "markdown",
   "id": "36d94ad4-6766-4e21-9efb-3875e79d866d",
   "metadata": {},
   "source": [
    "### predicted values based on averages from low curve (lm average)"
   ]
  },
  {
   "cell_type": "code",
   "execution_count": 636,
   "id": "ae6743cd-0611-42b3-8c69-5f8b0b24958b",
   "metadata": {},
   "outputs": [],
   "source": [
    "# calculate predictions from stnd curve \n",
    "samples$predicted_conc_avglm <- predict(low_avg_model, newdata = samples)\n",
    "\n",
    "#calculate avgs and sd of predicted conc\n",
    "samples<-samples %>%\n",
    "    group_by(sample) %>%\n",
    "        mutate(avg_predicted_conc_avglm = mean(predicted_conc_avglm)) %>%\n",
    "        mutate(sd_predicted_conc_avglm = sd(predicted_conc_avglm)) %>%\n",
    "            ungroup()"
   ]
  },
  {
   "cell_type": "code",
   "execution_count": 637,
   "id": "d89ec5da-4688-47d4-9d0c-4710802820a0",
   "metadata": {},
   "outputs": [],
   "source": [
    "# calculate % error for qcs (individually, by rep)\n",
    "\n",
    "# Add a percent_error column initialized with NA\n",
    "samples <- samples %>%\n",
    "  mutate(percent_error_avglm = NA_real_)\n",
    "\n",
    "# Loop through each QC sample\n",
    "for (q in c(1:length(qc_list))) {\n",
    "  # Update percent_error for matching QC samples and set others to NA\n",
    "  samples <- samples %>%\n",
    "    mutate(percent_error_avglm = ifelse(\n",
    "      sample == qc_list[q],  # Only apply to matching QC samples\n",
    "      (abs(predicted_conc_avglm - expected_conc[q]) / expected_conc[q]) * 100,  # Calculate % error\n",
    "      percent_error_avglm  # For non-matching rows, retain NA\n",
    "    ))\n",
    "}"
   ]
  },
  {
   "cell_type": "code",
   "execution_count": 638,
   "id": "c491ff32-02d7-48cc-97f1-5c2b38e8674b",
   "metadata": {},
   "outputs": [],
   "source": [
    "# avg is better bc of lower AIC and lower percent errors, \n",
    "# removing predictions based on other model "
   ]
  },
  {
   "cell_type": "code",
   "execution_count": 639,
   "id": "e2b87e1d-15ce-49d4-a57c-617047d86b77",
   "metadata": {
    "scrolled": true
   },
   "outputs": [],
   "source": [
    "# can remove results from individual rep-based low stnd curve \n",
    "# keeping to look at margin of errors later \n",
    "# samples<-samples %>%\n",
    "#     select(-c(predicted_conc, avg_predicted_conc, sd_predicted_conc, percent_error))"
   ]
  },
  {
   "cell_type": "code",
   "execution_count": 640,
   "id": "c156a0e9-b8cc-4d27-bc20-9214f8a8de99",
   "metadata": {},
   "outputs": [],
   "source": [
    "# margin of error \n",
    "# Margin of Error= z * s/sqrt(n)\n",
    "# z score = 1.96 for 95% confidence\n",
    "# s = stnd dev\n",
    "# n = sample size \n",
    "# sd<-pull(samples[samples$sample == 'blank' & samples$rep == 1, 'predicted_conc_avglm'][1])\n",
    "# me_blank <- 1.96 * sd/sqrt(11)\n",
    "# print(paste('ME of blank:', me_blank))\n",
    "\n",
    "# sd<-samples %>%\n",
    "#   filter(sample == 's123' & rep == 1) %>%\n",
    "#   pull(predicted_conc_avglm) %>%\n",
    "#   .[1]\n",
    "# me_s123 <- 1.96* sd/sqrt(6)\n",
    "# print(paste('ME of me_s123:', me_s123))\n",
    "\n",
    "# sd<-samples %>%\n",
    "#   filter(sample == 's159' & rep == 1) %>%\n",
    "#   pull(predicted_conc_avglm) %>%\n",
    "#   .[1]\n",
    "# me_s159 <- 1.96* sd/sqrt(6)\n",
    "# print(paste('ME of me_s159:', me_s159))"
   ]
  },
  {
   "cell_type": "code",
   "execution_count": 641,
   "id": "a14d73b1-5e7c-4094-b3de-4f9c481c503a",
   "metadata": {},
   "outputs": [],
   "source": [
    "# # blanks + or - margin of error\n",
    "# print('blanks + or - margin of error:')\n",
    "# pull(samples[samples$sample == 'blank' & samples$rep == 1, 'avg_predicted_conc_avglm'][1])+me_blank\n",
    "# pull(samples[samples$sample == 'blank' & samples$rep == 1, 'avg_predicted_conc_avglm'][1])-me_blank"
   ]
  },
  {
   "cell_type": "code",
   "execution_count": 642,
   "id": "ed8b0a52-3f8a-4a20-88d5-7d1b3a0719d5",
   "metadata": {},
   "outputs": [],
   "source": [
    "# # s123 + or - me \n",
    "# print('s123 + or - margin of error:')\n",
    "# pull(samples[samples$sample == 's123' & samples$rep == 1, 'avg_predicted_conc_avglm'][1])+me_s123\n",
    "# pull(samples[samples$sample == 's123' & samples$rep == 1, 'avg_predicted_conc_avglm'][1])-me_s123"
   ]
  },
  {
   "cell_type": "code",
   "execution_count": 643,
   "id": "8ca5e3a0-64a1-4250-bac1-4ad3db5b3e1a",
   "metadata": {},
   "outputs": [],
   "source": [
    "# s159 + or - me \n",
    "# print('s159 + or - margin of error:')\n",
    "# pull(samples[samples$sample == 's159' & samples$rep == 1, 'avg_predicted_conc_avglm'][1])+me_s159\n",
    "# pull(samples[samples$sample == 's159' & samples$rep == 1, 'avg_predicted_conc_avglm'][1])-me_s159"
   ]
  },
  {
   "cell_type": "markdown",
   "id": "7cb71be9-78c4-458f-9123-675e3a9d37b6",
   "metadata": {},
   "source": [
    "### predicted values based on all stnds together (stnds avg lm model) "
   ]
  },
  {
   "cell_type": "code",
   "execution_count": 644,
   "id": "b516cb99-cbe3-4623-a2cf-0872913361fc",
   "metadata": {},
   "outputs": [],
   "source": [
    "# calculate concentrations using curve \n",
    "samples$predicted_conc_stndsavglm <- predict(stnds_avg_model, newdata = samples)"
   ]
  },
  {
   "cell_type": "code",
   "execution_count": 645,
   "id": "394306c3-4476-492d-b77d-bc8c19b988fa",
   "metadata": {},
   "outputs": [],
   "source": [
    "# add avgs and sd\n",
    "samples<-samples %>%\n",
    "    group_by(sample) %>%\n",
    "        mutate(avg_predicted_conc_stndsavglm = mean(predicted_conc_stndsavglm)) %>%\n",
    "        mutate(sd_predicted_conc_stndsavglm = sd(predicted_conc_stndsavglm)) %>%\n",
    "               ungroup()"
   ]
  },
  {
   "cell_type": "code",
   "execution_count": 646,
   "id": "9034e08e-503e-43af-bd23-5c39327551ab",
   "metadata": {},
   "outputs": [],
   "source": [
    "# Add a percent_error column initialized with NA\n",
    "samples <- samples %>%\n",
    "  mutate(percent_error_stndsavglm = NA_real_)\n",
    "\n",
    "# Loop through each QC sample\n",
    "for (q in c(1:length(qc_list))) {\n",
    "  # Update percent_error for matching QC samples and set others to NA\n",
    "  samples <- samples %>%\n",
    "    mutate(percent_error_stndsavglm = ifelse(\n",
    "      sample == qc_list[q],  # Only apply to matching QC samples\n",
    "      (abs(predicted_conc_stndsavglm - expected_conc[q]) / expected_conc[q]) * 100,  # Calculate % error\n",
    "      percent_error_stndsavglm  # For non-matching rows, retain NA\n",
    "    ))\n",
    "}"
   ]
  },
  {
   "cell_type": "markdown",
   "id": "c669e7a6-59b1-4031-9020-2a46109935c1",
   "metadata": {},
   "source": [
    "### predicted values based on all stnds together (stnds lm model) "
   ]
  },
  {
   "cell_type": "code",
   "execution_count": 647,
   "id": "c4a7bb32-3b93-40a8-8a4e-46517fcd16c9",
   "metadata": {},
   "outputs": [],
   "source": [
    "# calculate concentrations using curve \n",
    "samples$predicted_conc_stndslm <- predict(stnds_model, newdata = samples)"
   ]
  },
  {
   "cell_type": "code",
   "execution_count": 648,
   "id": "110493dd-a779-4c9b-a5f3-657925b1e1ff",
   "metadata": {},
   "outputs": [],
   "source": [
    "# add avgs and sd\n",
    "samples<-samples %>%\n",
    "    group_by(sample) %>%\n",
    "        mutate(avg_predicted_conc_stndslm = mean(predicted_conc_stndslm)) %>%\n",
    "        mutate(sd_predicted_conc_stndslm = sd(predicted_conc_stndslm)) %>%\n",
    "               ungroup()"
   ]
  },
  {
   "cell_type": "code",
   "execution_count": 649,
   "id": "b36c304f-f360-46f6-8c16-177aa5a4ab20",
   "metadata": {},
   "outputs": [],
   "source": [
    "# Add a percent_error column initialized with NA\n",
    "samples <- samples %>%\n",
    "  mutate(percent_error_stndslm = NA_real_)\n",
    "\n",
    "# Loop through each QC sample\n",
    "for (q in c(1:length(qc_list))) {\n",
    "  # Update percent_error for matching QC samples and set others to NA\n",
    "  samples <- samples %>%\n",
    "    mutate(percent_error_stndslm = ifelse(\n",
    "      sample == qc_list[q],  # Only apply to matching QC samples\n",
    "      (abs(avg_predicted_conc_stndslm - expected_conc[q]) / expected_conc[q]) * 100,  # Calculate % error\n",
    "      percent_error_stndslm  # For non-matching rows, retain NA\n",
    "    ))\n",
    "}"
   ]
  },
  {
   "cell_type": "code",
   "execution_count": 650,
   "id": "86082134-d942-44a6-9b19-56e63151fca5",
   "metadata": {},
   "outputs": [
    {
     "data": {
      "text/html": [
       "<table class=\"dataframe\">\n",
       "<caption>A tibble: 6 × 22</caption>\n",
       "<thead>\n",
       "\t<tr><th scope=col>sample</th><th scope=col>rep</th><th scope=col>od</th><th scope=col>avg_od</th><th scope=col>sd_od</th><th scope=col>actual_conc</th><th scope=col>predicted_conc</th><th scope=col>avg_predicted_conc</th><th scope=col>sd_predicted_conc</th><th scope=col>percent_error</th><th scope=col>⋯</th><th scope=col>sd_predicted_conc_avglm</th><th scope=col>percent_error_avglm</th><th scope=col>predicted_conc_stndsavglm</th><th scope=col>avg_predicted_conc_stndsavglm</th><th scope=col>sd_predicted_conc_stndsavglm</th><th scope=col>percent_error_stndsavglm</th><th scope=col>predicted_conc_stndslm</th><th scope=col>avg_predicted_conc_stndslm</th><th scope=col>sd_predicted_conc_stndslm</th><th scope=col>percent_error_stndslm</th></tr>\n",
       "\t<tr><th scope=col>&lt;chr&gt;</th><th scope=col>&lt;chr&gt;</th><th scope=col>&lt;dbl&gt;</th><th scope=col>&lt;dbl&gt;</th><th scope=col>&lt;dbl&gt;</th><th scope=col>&lt;dbl&gt;</th><th scope=col>&lt;dbl&gt;</th><th scope=col>&lt;dbl&gt;</th><th scope=col>&lt;dbl&gt;</th><th scope=col>&lt;dbl&gt;</th><th scope=col>⋯</th><th scope=col>&lt;dbl&gt;</th><th scope=col>&lt;dbl&gt;</th><th scope=col>&lt;dbl&gt;</th><th scope=col>&lt;dbl&gt;</th><th scope=col>&lt;dbl&gt;</th><th scope=col>&lt;dbl&gt;</th><th scope=col>&lt;dbl&gt;</th><th scope=col>&lt;dbl&gt;</th><th scope=col>&lt;dbl&gt;</th><th scope=col>&lt;dbl&gt;</th></tr>\n",
       "</thead>\n",
       "<tbody>\n",
       "\t<tr><td>s123</td><td>1</td><td>0.074</td><td>0.073167</td><td>0.0036009</td><td>NA</td><td>0.0099040</td><td>0.0095535</td><td>0.0015147</td><td>NA</td><td>⋯</td><td>0</td><td>NA</td><td>-0.010018</td><td>-0.010018</td><td>0</td><td>NA</td><td>-0.0084801</td><td>-0.0093672</td><td>0.0038332</td><td>NA</td></tr>\n",
       "\t<tr><td>s123</td><td>2</td><td>0.072</td><td>0.073167</td><td>0.0036009</td><td>NA</td><td>0.0090627</td><td>0.0095535</td><td>0.0015147</td><td>NA</td><td>⋯</td><td>0</td><td>NA</td><td>-0.010018</td><td>-0.010018</td><td>0</td><td>NA</td><td>-0.0106092</td><td>-0.0093672</td><td>0.0038332</td><td>NA</td></tr>\n",
       "\t<tr><td>s123</td><td>3</td><td>0.070</td><td>0.073167</td><td>0.0036009</td><td>NA</td><td>0.0082214</td><td>0.0095535</td><td>0.0015147</td><td>NA</td><td>⋯</td><td>0</td><td>NA</td><td>-0.010018</td><td>-0.010018</td><td>0</td><td>NA</td><td>-0.0127382</td><td>-0.0093672</td><td>0.0038332</td><td>NA</td></tr>\n",
       "\t<tr><td>s123</td><td>1</td><td>0.080</td><td>0.073167</td><td>0.0036009</td><td>NA</td><td>0.0124279</td><td>0.0095535</td><td>0.0015147</td><td>NA</td><td>⋯</td><td>0</td><td>NA</td><td>-0.010018</td><td>-0.010018</td><td>0</td><td>NA</td><td>-0.0020931</td><td>-0.0093672</td><td>0.0038332</td><td>NA</td></tr>\n",
       "\t<tr><td>s123</td><td>2</td><td>0.071</td><td>0.073167</td><td>0.0036009</td><td>NA</td><td>0.0086421</td><td>0.0095535</td><td>0.0015147</td><td>NA</td><td>⋯</td><td>0</td><td>NA</td><td>-0.010018</td><td>-0.010018</td><td>0</td><td>NA</td><td>-0.0116737</td><td>-0.0093672</td><td>0.0038332</td><td>NA</td></tr>\n",
       "\t<tr><td>s123</td><td>3</td><td>0.072</td><td>0.073167</td><td>0.0036009</td><td>NA</td><td>0.0090627</td><td>0.0095535</td><td>0.0015147</td><td>NA</td><td>⋯</td><td>0</td><td>NA</td><td>-0.010018</td><td>-0.010018</td><td>0</td><td>NA</td><td>-0.0106092</td><td>-0.0093672</td><td>0.0038332</td><td>NA</td></tr>\n",
       "</tbody>\n",
       "</table>\n"
      ],
      "text/latex": [
       "A tibble: 6 × 22\n",
       "\\begin{tabular}{lllllllllllllllllllll}\n",
       " sample & rep & od & avg\\_od & sd\\_od & actual\\_conc & predicted\\_conc & avg\\_predicted\\_conc & sd\\_predicted\\_conc & percent\\_error & ⋯ & sd\\_predicted\\_conc\\_avglm & percent\\_error\\_avglm & predicted\\_conc\\_stndsavglm & avg\\_predicted\\_conc\\_stndsavglm & sd\\_predicted\\_conc\\_stndsavglm & percent\\_error\\_stndsavglm & predicted\\_conc\\_stndslm & avg\\_predicted\\_conc\\_stndslm & sd\\_predicted\\_conc\\_stndslm & percent\\_error\\_stndslm\\\\\n",
       " <chr> & <chr> & <dbl> & <dbl> & <dbl> & <dbl> & <dbl> & <dbl> & <dbl> & <dbl> & ⋯ & <dbl> & <dbl> & <dbl> & <dbl> & <dbl> & <dbl> & <dbl> & <dbl> & <dbl> & <dbl>\\\\\n",
       "\\hline\n",
       "\t s123 & 1 & 0.074 & 0.073167 & 0.0036009 & NA & 0.0099040 & 0.0095535 & 0.0015147 & NA & ⋯ & 0 & NA & -0.010018 & -0.010018 & 0 & NA & -0.0084801 & -0.0093672 & 0.0038332 & NA\\\\\n",
       "\t s123 & 2 & 0.072 & 0.073167 & 0.0036009 & NA & 0.0090627 & 0.0095535 & 0.0015147 & NA & ⋯ & 0 & NA & -0.010018 & -0.010018 & 0 & NA & -0.0106092 & -0.0093672 & 0.0038332 & NA\\\\\n",
       "\t s123 & 3 & 0.070 & 0.073167 & 0.0036009 & NA & 0.0082214 & 0.0095535 & 0.0015147 & NA & ⋯ & 0 & NA & -0.010018 & -0.010018 & 0 & NA & -0.0127382 & -0.0093672 & 0.0038332 & NA\\\\\n",
       "\t s123 & 1 & 0.080 & 0.073167 & 0.0036009 & NA & 0.0124279 & 0.0095535 & 0.0015147 & NA & ⋯ & 0 & NA & -0.010018 & -0.010018 & 0 & NA & -0.0020931 & -0.0093672 & 0.0038332 & NA\\\\\n",
       "\t s123 & 2 & 0.071 & 0.073167 & 0.0036009 & NA & 0.0086421 & 0.0095535 & 0.0015147 & NA & ⋯ & 0 & NA & -0.010018 & -0.010018 & 0 & NA & -0.0116737 & -0.0093672 & 0.0038332 & NA\\\\\n",
       "\t s123 & 3 & 0.072 & 0.073167 & 0.0036009 & NA & 0.0090627 & 0.0095535 & 0.0015147 & NA & ⋯ & 0 & NA & -0.010018 & -0.010018 & 0 & NA & -0.0106092 & -0.0093672 & 0.0038332 & NA\\\\\n",
       "\\end{tabular}\n"
      ],
      "text/markdown": [
       "\n",
       "A tibble: 6 × 22\n",
       "\n",
       "| sample &lt;chr&gt; | rep &lt;chr&gt; | od &lt;dbl&gt; | avg_od &lt;dbl&gt; | sd_od &lt;dbl&gt; | actual_conc &lt;dbl&gt; | predicted_conc &lt;dbl&gt; | avg_predicted_conc &lt;dbl&gt; | sd_predicted_conc &lt;dbl&gt; | percent_error &lt;dbl&gt; | ⋯ ⋯ | sd_predicted_conc_avglm &lt;dbl&gt; | percent_error_avglm &lt;dbl&gt; | predicted_conc_stndsavglm &lt;dbl&gt; | avg_predicted_conc_stndsavglm &lt;dbl&gt; | sd_predicted_conc_stndsavglm &lt;dbl&gt; | percent_error_stndsavglm &lt;dbl&gt; | predicted_conc_stndslm &lt;dbl&gt; | avg_predicted_conc_stndslm &lt;dbl&gt; | sd_predicted_conc_stndslm &lt;dbl&gt; | percent_error_stndslm &lt;dbl&gt; |\n",
       "|---|---|---|---|---|---|---|---|---|---|---|---|---|---|---|---|---|---|---|---|---|\n",
       "| s123 | 1 | 0.074 | 0.073167 | 0.0036009 | NA | 0.0099040 | 0.0095535 | 0.0015147 | NA | ⋯ | 0 | NA | -0.010018 | -0.010018 | 0 | NA | -0.0084801 | -0.0093672 | 0.0038332 | NA |\n",
       "| s123 | 2 | 0.072 | 0.073167 | 0.0036009 | NA | 0.0090627 | 0.0095535 | 0.0015147 | NA | ⋯ | 0 | NA | -0.010018 | -0.010018 | 0 | NA | -0.0106092 | -0.0093672 | 0.0038332 | NA |\n",
       "| s123 | 3 | 0.070 | 0.073167 | 0.0036009 | NA | 0.0082214 | 0.0095535 | 0.0015147 | NA | ⋯ | 0 | NA | -0.010018 | -0.010018 | 0 | NA | -0.0127382 | -0.0093672 | 0.0038332 | NA |\n",
       "| s123 | 1 | 0.080 | 0.073167 | 0.0036009 | NA | 0.0124279 | 0.0095535 | 0.0015147 | NA | ⋯ | 0 | NA | -0.010018 | -0.010018 | 0 | NA | -0.0020931 | -0.0093672 | 0.0038332 | NA |\n",
       "| s123 | 2 | 0.071 | 0.073167 | 0.0036009 | NA | 0.0086421 | 0.0095535 | 0.0015147 | NA | ⋯ | 0 | NA | -0.010018 | -0.010018 | 0 | NA | -0.0116737 | -0.0093672 | 0.0038332 | NA |\n",
       "| s123 | 3 | 0.072 | 0.073167 | 0.0036009 | NA | 0.0090627 | 0.0095535 | 0.0015147 | NA | ⋯ | 0 | NA | -0.010018 | -0.010018 | 0 | NA | -0.0106092 | -0.0093672 | 0.0038332 | NA |\n",
       "\n"
      ],
      "text/plain": [
       "  sample rep od    avg_od   sd_od     actual_conc predicted_conc\n",
       "1 s123   1   0.074 0.073167 0.0036009 NA          0.0099040     \n",
       "2 s123   2   0.072 0.073167 0.0036009 NA          0.0090627     \n",
       "3 s123   3   0.070 0.073167 0.0036009 NA          0.0082214     \n",
       "4 s123   1   0.080 0.073167 0.0036009 NA          0.0124279     \n",
       "5 s123   2   0.071 0.073167 0.0036009 NA          0.0086421     \n",
       "6 s123   3   0.072 0.073167 0.0036009 NA          0.0090627     \n",
       "  avg_predicted_conc sd_predicted_conc percent_error ⋯ sd_predicted_conc_avglm\n",
       "1 0.0095535          0.0015147         NA            ⋯ 0                      \n",
       "2 0.0095535          0.0015147         NA            ⋯ 0                      \n",
       "3 0.0095535          0.0015147         NA            ⋯ 0                      \n",
       "4 0.0095535          0.0015147         NA            ⋯ 0                      \n",
       "5 0.0095535          0.0015147         NA            ⋯ 0                      \n",
       "6 0.0095535          0.0015147         NA            ⋯ 0                      \n",
       "  percent_error_avglm predicted_conc_stndsavglm avg_predicted_conc_stndsavglm\n",
       "1 NA                  -0.010018                 -0.010018                    \n",
       "2 NA                  -0.010018                 -0.010018                    \n",
       "3 NA                  -0.010018                 -0.010018                    \n",
       "4 NA                  -0.010018                 -0.010018                    \n",
       "5 NA                  -0.010018                 -0.010018                    \n",
       "6 NA                  -0.010018                 -0.010018                    \n",
       "  sd_predicted_conc_stndsavglm percent_error_stndsavglm predicted_conc_stndslm\n",
       "1 0                            NA                       -0.0084801            \n",
       "2 0                            NA                       -0.0106092            \n",
       "3 0                            NA                       -0.0127382            \n",
       "4 0                            NA                       -0.0020931            \n",
       "5 0                            NA                       -0.0116737            \n",
       "6 0                            NA                       -0.0106092            \n",
       "  avg_predicted_conc_stndslm sd_predicted_conc_stndslm percent_error_stndslm\n",
       "1 -0.0093672                 0.0038332                 NA                   \n",
       "2 -0.0093672                 0.0038332                 NA                   \n",
       "3 -0.0093672                 0.0038332                 NA                   \n",
       "4 -0.0093672                 0.0038332                 NA                   \n",
       "5 -0.0093672                 0.0038332                 NA                   \n",
       "6 -0.0093672                 0.0038332                 NA                   "
      ]
     },
     "metadata": {},
     "output_type": "display_data"
    }
   ],
   "source": [
    "head(samples)"
   ]
  },
  {
   "cell_type": "code",
   "execution_count": 651,
   "id": "3d342385-0cf2-4211-8f8f-f652c029885f",
   "metadata": {},
   "outputs": [],
   "source": [
    "# renumber sample reps:\n",
    "samples <- samples %>%\n",
    "  group_by(sample) %>%\n",
    "  mutate(\n",
    "    rep = row_number()\n",
    "  ) %>%\n",
    "  ungroup()"
   ]
  },
  {
   "cell_type": "code",
   "execution_count": 652,
   "id": "820e22e6-d001-435d-8f7d-e110e3c2777f",
   "metadata": {},
   "outputs": [],
   "source": [
    "predictions_summary<-samples %>%\n",
    "    group_by(sample) %>%\n",
    "    slice(1) %>% #take first row of each sample since predictions are based on avgs not individual reps \n",
    "        select(sample,avg_od, sd_od, actual_conc, \n",
    "               predicted_conc_avglm, percent_error_avglm, \n",
    "               avg_predicted_conc_stndsavglm, percent_error_stndsavglm,\n",
    "               avg_predicted_conc_stndslm, percent_error_stndslm)"
   ]
  },
  {
   "cell_type": "code",
   "execution_count": 653,
   "id": "c152d8ed-c224-4773-87f9-00b10b9ff89f",
   "metadata": {},
   "outputs": [
    {
     "data": {
      "text/html": [
       "<table class=\"dataframe\">\n",
       "<caption>A grouped_df: 6 × 10</caption>\n",
       "<thead>\n",
       "\t<tr><th scope=col>sample</th><th scope=col>avg_od</th><th scope=col>sd_od</th><th scope=col>actual_conc</th><th scope=col>predicted_conc_avglm</th><th scope=col>percent_error_avglm</th><th scope=col>avg_predicted_conc_stndsavglm</th><th scope=col>percent_error_stndsavglm</th><th scope=col>avg_predicted_conc_stndslm</th><th scope=col>percent_error_stndslm</th></tr>\n",
       "\t<tr><th scope=col>&lt;chr&gt;</th><th scope=col>&lt;dbl&gt;</th><th scope=col>&lt;dbl&gt;</th><th scope=col>&lt;dbl&gt;</th><th scope=col>&lt;dbl&gt;</th><th scope=col>&lt;dbl&gt;</th><th scope=col>&lt;dbl&gt;</th><th scope=col>&lt;dbl&gt;</th><th scope=col>&lt;dbl&gt;</th><th scope=col>&lt;dbl&gt;</th></tr>\n",
       "</thead>\n",
       "<tbody>\n",
       "\t<tr><td>blank</td><td>0.064727</td><td>0.0011037</td><td>0.00</td><td>0.00057025</td><td>    NA</td><td>-0.019047</td><td>    NA</td><td>-0.0183510</td><td>    NA</td></tr>\n",
       "\t<tr><td>qc1  </td><td>0.845800</td><td>0.0022804</td><td>1.00</td><td>0.43973287</td><td>56.027</td><td> 0.816590</td><td>18.341</td><td> 0.8131073</td><td>18.689</td></tr>\n",
       "\t<tr><td>qc2  </td><td>0.481400</td><td>0.0051769</td><td>0.50</td><td>0.23484688</td><td>53.031</td><td> 0.426734</td><td>14.653</td><td> 0.4252005</td><td>14.960</td></tr>\n",
       "\t<tr><td>qc3  </td><td>0.120400</td><td>0.0027928</td><td>0.05</td><td>0.03187256</td><td>36.255</td><td> 0.040515</td><td>18.970</td><td> 0.0409130</td><td>18.174</td></tr>\n",
       "\t<tr><td>s123 </td><td>0.073167</td><td>0.0036009</td><td>  NA</td><td>0.00531535</td><td>    NA</td><td>-0.010018</td><td>    NA</td><td>-0.0093672</td><td>    NA</td></tr>\n",
       "\t<tr><td>s159 </td><td>0.069333</td><td>0.0027325</td><td>  NA</td><td>0.00316003</td><td>    NA</td><td>-0.014119</td><td>    NA</td><td>-0.0134479</td><td>    NA</td></tr>\n",
       "</tbody>\n",
       "</table>\n"
      ],
      "text/latex": [
       "A grouped\\_df: 6 × 10\n",
       "\\begin{tabular}{llllllllll}\n",
       " sample & avg\\_od & sd\\_od & actual\\_conc & predicted\\_conc\\_avglm & percent\\_error\\_avglm & avg\\_predicted\\_conc\\_stndsavglm & percent\\_error\\_stndsavglm & avg\\_predicted\\_conc\\_stndslm & percent\\_error\\_stndslm\\\\\n",
       " <chr> & <dbl> & <dbl> & <dbl> & <dbl> & <dbl> & <dbl> & <dbl> & <dbl> & <dbl>\\\\\n",
       "\\hline\n",
       "\t blank & 0.064727 & 0.0011037 & 0.00 & 0.00057025 &     NA & -0.019047 &     NA & -0.0183510 &     NA\\\\\n",
       "\t qc1   & 0.845800 & 0.0022804 & 1.00 & 0.43973287 & 56.027 &  0.816590 & 18.341 &  0.8131073 & 18.689\\\\\n",
       "\t qc2   & 0.481400 & 0.0051769 & 0.50 & 0.23484688 & 53.031 &  0.426734 & 14.653 &  0.4252005 & 14.960\\\\\n",
       "\t qc3   & 0.120400 & 0.0027928 & 0.05 & 0.03187256 & 36.255 &  0.040515 & 18.970 &  0.0409130 & 18.174\\\\\n",
       "\t s123  & 0.073167 & 0.0036009 &   NA & 0.00531535 &     NA & -0.010018 &     NA & -0.0093672 &     NA\\\\\n",
       "\t s159  & 0.069333 & 0.0027325 &   NA & 0.00316003 &     NA & -0.014119 &     NA & -0.0134479 &     NA\\\\\n",
       "\\end{tabular}\n"
      ],
      "text/markdown": [
       "\n",
       "A grouped_df: 6 × 10\n",
       "\n",
       "| sample &lt;chr&gt; | avg_od &lt;dbl&gt; | sd_od &lt;dbl&gt; | actual_conc &lt;dbl&gt; | predicted_conc_avglm &lt;dbl&gt; | percent_error_avglm &lt;dbl&gt; | avg_predicted_conc_stndsavglm &lt;dbl&gt; | percent_error_stndsavglm &lt;dbl&gt; | avg_predicted_conc_stndslm &lt;dbl&gt; | percent_error_stndslm &lt;dbl&gt; |\n",
       "|---|---|---|---|---|---|---|---|---|---|\n",
       "| blank | 0.064727 | 0.0011037 | 0.00 | 0.00057025 |     NA | -0.019047 |     NA | -0.0183510 |     NA |\n",
       "| qc1   | 0.845800 | 0.0022804 | 1.00 | 0.43973287 | 56.027 |  0.816590 | 18.341 |  0.8131073 | 18.689 |\n",
       "| qc2   | 0.481400 | 0.0051769 | 0.50 | 0.23484688 | 53.031 |  0.426734 | 14.653 |  0.4252005 | 14.960 |\n",
       "| qc3   | 0.120400 | 0.0027928 | 0.05 | 0.03187256 | 36.255 |  0.040515 | 18.970 |  0.0409130 | 18.174 |\n",
       "| s123  | 0.073167 | 0.0036009 |   NA | 0.00531535 |     NA | -0.010018 |     NA | -0.0093672 |     NA |\n",
       "| s159  | 0.069333 | 0.0027325 |   NA | 0.00316003 |     NA | -0.014119 |     NA | -0.0134479 |     NA |\n",
       "\n"
      ],
      "text/plain": [
       "   sample avg_od   sd_od     actual_conc predicted_conc_avglm\n",
       "28 blank  0.064727 0.0011037 0.00        0.00057025          \n",
       "13 qc1    0.845800 0.0022804 1.00        0.43973287          \n",
       "18 qc2    0.481400 0.0051769 0.50        0.23484688          \n",
       "23 qc3    0.120400 0.0027928 0.05        0.03187256          \n",
       "1  s123   0.073167 0.0036009   NA        0.00531535          \n",
       "7  s159   0.069333 0.0027325   NA        0.00316003          \n",
       "   percent_error_avglm avg_predicted_conc_stndsavglm percent_error_stndsavglm\n",
       "28     NA              -0.019047                         NA                  \n",
       "13 56.027               0.816590                     18.341                  \n",
       "18 53.031               0.426734                     14.653                  \n",
       "23 36.255               0.040515                     18.970                  \n",
       "1      NA              -0.010018                         NA                  \n",
       "7      NA              -0.014119                         NA                  \n",
       "   avg_predicted_conc_stndslm percent_error_stndslm\n",
       "28 -0.0183510                     NA               \n",
       "13  0.8131073                 18.689               \n",
       "18  0.4252005                 14.960               \n",
       "23  0.0409130                 18.174               \n",
       "1  -0.0093672                     NA               \n",
       "7  -0.0134479                     NA               "
      ]
     },
     "metadata": {},
     "output_type": "display_data"
    }
   ],
   "source": [
    "predictions_summary\n",
    "# avg lm = low standard curve (based on averages)\n",
    "# stnds avg lm = standard curve using BOTH low and high standards (based on avgs)\n",
    "# stnds lm = standard curve using BOTH low and high standards (model based on indiviudal values, as you can see it does not differ much by the avg one)"
   ]
  },
  {
   "cell_type": "code",
   "execution_count": 654,
   "id": "9c5ca004-0617-42f1-85fd-c7626b094c1f",
   "metadata": {},
   "outputs": [],
   "source": [
    "# Standard Curve with all stnds seems to be the best option..\n",
    "    # lowest percent errors for qcs are from standard curve using both sets of standards (stndsavglm and stndslm)\n",
    "    # HOWEVER blanks and samples now turn out to be negative \n",
    "        # samples are outside of blanks' margin of error though \n",
    "\n",
    "# using the low standard curve (avglm),\n",
    "    # samples are low but not negative \n",
    "        # only 1 sample is outside of the blanks' margin of error \n",
    "    # % erorr for qcs are very high \n"
   ]
  },
  {
   "cell_type": "markdown",
   "id": "4a02b37a-a00b-49e0-ba9e-cfb9aac8fd50",
   "metadata": {
    "jp-MarkdownHeadingCollapsed": true
   },
   "source": [
    "#### Margin of errors "
   ]
  },
  {
   "cell_type": "code",
   "execution_count": 687,
   "id": "fdc4aec1-9742-4847-a164-b21aa471089f",
   "metadata": {},
   "outputs": [],
   "source": [
    "calculate_me <- function(samples, sample_name, rep_num = 1, n_sample, n_blank =11, model_sd, model_avg) {\n",
    "  \"\n",
    "  Calculates margin of error and subtracts the average predicted value from the blank sample.\n",
    "\n",
    "  Args:\n",
    "    samples: The data frame containing the sample data.\n",
    "    sample_name: The name of the sample.\n",
    "    rep_num: The replicate number.\n",
    "    n: The sample size.\n",
    "    model: The column name for standard deviation calculation.\n",
    "\n",
    "  Returns:\n",
    "    The margin of error minus the average predicted value from the blank sample.\n",
    "  \"\n",
    "\n",
    "  # Calculate the margin of error\n",
    "  sd_sample <- samples %>%\n",
    "    filter(sample == sample_name & rep == rep_num) %>%\n",
    "    pull(model_sd) %>%\n",
    "    .[1]\n",
    "  me_sample <- 1.96 * sd / sqrt(n_sample)\n",
    "\n",
    "    # Calculate margin of error for the blank\n",
    "  sd_blank <- samples %>%\n",
    "    filter(sample == \"blank\") %>%\n",
    "    pull(model_sd) %>%\n",
    "    .[1]\n",
    "  me_blank <- 1.96 * sd_blank / sqrt(n_blank)\n",
    "\n",
    "    print(paste(\"sample me:\", me_sample))\n",
    "    print(paste(\"blank me:\", me_blank)) \n",
    "\n",
    "  # see if samples and blanks overlap with me considered \n",
    "    avg_sample <- samples %>%\n",
    "    filter(sample == sample_name) %>%\n",
    "    pull(model_avg) %>%\n",
    "    .[1]\n",
    "    print(avg_sample)\n",
    "         \n",
    "    avg_blank <- samples %>%\n",
    "    filter(sample == \"blank\") %>%\n",
    "    pull(model_avg) %>%\n",
    "    .[1]\n",
    "    print(avg_blank)\n",
    "    \n",
    "  # subtract me from blank to get lowest possibility for blank\n",
    "    low_blank <- avg_blank - me_blank\n",
    "    (print(paste(\"lowest blank value (-me):\", low_blank)))\n",
    "  # subtract me from sample to get lowest possibility for sample\n",
    "    low_s <- avg_sample - me_sample\n",
    "    (print(paste(\"lowest sample value (-me):\", low_s)))\n",
    "  # subtract from each other to see if they overlap \n",
    "    diff <- low_s - low_blank\n",
    "    if (diff > 0) {\n",
    "    print(paste(diff, 'sample is outside of blank margin of error'))\n",
    "  } else {\n",
    "    print(paste(diff, 'sample is NOT outside of blank margin of error'))\n",
    "  }\n",
    "\n",
    "  return(diff)\n",
    "}\n"
   ]
  },
  {
   "cell_type": "code",
   "execution_count": 689,
   "id": "a60ce1a1-044d-4c26-b375-a2104daf6239",
   "metadata": {},
   "outputs": [
    {
     "name": "stdout",
     "output_type": "stream",
     "text": [
      "[1] \"sample me: 0.00252855260303206\"\n",
      "[1] \"blank me: 0.000274368156290383\"\n",
      "[1] 0.0095535\n",
      "[1] 0.0060035\n",
      "[1] \"lowest blank value (-me): 0.00572911486614639\"\n",
      "[1] \"lowest sample value (-me): 0.00702493717194443\"\n",
      "[1] \"0.00129582230579804 sample is outside of blank margin of error\"\n"
     ]
    },
    {
     "data": {
      "text/html": [
       "<strong>7:</strong> 0.00129582230579804"
      ],
      "text/latex": [
       "\\textbf{7:} 0.00129582230579804"
      ],
      "text/markdown": [
       "**7:** 0.00129582230579804"
      ],
      "text/plain": [
       "        7 \n",
       "0.0012958 "
      ]
     },
     "metadata": {},
     "output_type": "display_data"
    },
    {
     "name": "stdout",
     "output_type": "stream",
     "text": [
      "[1] \"sample me: 0.00252855260303206\"\n",
      "[1] \"blank me: 0.000274368156290383\"\n",
      "[1] 0.007941\n",
      "[1] 0.0060035\n",
      "[1] \"lowest blank value (-me): 0.00572911486614639\"\n",
      "[1] \"lowest sample value (-me): 0.00541245654646409\"\n",
      "[1] \"-0.000316658319682301 sample is NOT outside of blank margin of error\"\n"
     ]
    },
    {
     "data": {
      "text/html": [
       "<strong>7:</strong> -0.000316658319682301"
      ],
      "text/latex": [
       "\\textbf{7:} -0.000316658319682301"
      ],
      "text/markdown": [
       "**7:** -0.000316658319682301"
      ],
      "text/plain": [
       "          7 \n",
       "-0.00031666 "
      ]
     },
     "metadata": {},
     "output_type": "display_data"
    }
   ],
   "source": [
    "# low curve (individual lm) \n",
    "calculate_me(samples, \"s123\", rep_num = 1, n_sample = 6, 11, \"sd_predicted_conc\",\"avg_predicted_conc\")\n",
    "calculate_me(samples, \"s159\", rep_num = 1, n_sample = 6, 11, \"sd_predicted_conc\",\"avg_predicted_conc\")"
   ]
  },
  {
   "cell_type": "code",
   "execution_count": 692,
   "id": "412d0e26-e3e6-42cd-9221-e0821b37c890",
   "metadata": {},
   "outputs": [
    {
     "name": "stdout",
     "output_type": "stream",
     "text": [
      "[1] \"sample me: 0.00252855260303206\"\n",
      "[1] \"blank me: 0.000694328192703275\"\n",
      "[1] -0.0093672\n",
      "[1] -0.018351\n",
      "[1] \"lowest blank value (-me): -0.019045371386761\"\n",
      "[1] \"lowest sample value (-me): -0.0118957916781943\"\n",
      "[1] \"0.00714957970856677 sample is outside of blank margin of error\"\n"
     ]
    },
    {
     "data": {
      "text/html": [
       "<strong>7:</strong> 0.00714957970856677"
      ],
      "text/latex": [
       "\\textbf{7:} 0.00714957970856677"
      ],
      "text/markdown": [
       "**7:** 0.00714957970856677"
      ],
      "text/plain": [
       "        7 \n",
       "0.0071496 "
      ]
     },
     "metadata": {},
     "output_type": "display_data"
    },
    {
     "name": "stdout",
     "output_type": "stream",
     "text": [
      "[1] \"sample me: 0.00252855260303206\"\n",
      "[1] \"blank me: 0.000694328192703275\"\n",
      "[1] -0.013448\n",
      "[1] -0.018351\n",
      "[1] \"lowest blank value (-me): -0.019045371386761\"\n",
      "[1] \"lowest sample value (-me): -0.0159764064754664\"\n",
      "[1] \"0.00306896491129464 sample is outside of blank margin of error\"\n"
     ]
    },
    {
     "data": {
      "text/html": [
       "<strong>7:</strong> 0.00306896491129464"
      ],
      "text/latex": [
       "\\textbf{7:} 0.00306896491129464"
      ],
      "text/markdown": [
       "**7:** 0.00306896491129464"
      ],
      "text/plain": [
       "       7 \n",
       "0.003069 "
      ]
     },
     "metadata": {},
     "output_type": "display_data"
    }
   ],
   "source": [
    "# all stnds together (individual lm)\n",
    "calculate_me(samples, \"s123\", rep_num = 1, n_sample = 6, 11, \"sd_predicted_conc_stndslm\",\"avg_predicted_conc_stndslm\")\n",
    "calculate_me(samples, \"s159\", rep_num = 1, n_sample = 6, 11, \"sd_predicted_conc_stndslm\",\"avg_predicted_conc_stndslm\")"
   ]
  }
 ],
 "metadata": {
  "kernelspec": {
   "display_name": "R",
   "language": "R",
   "name": "ir"
  },
  "language_info": {
   "codemirror_mode": "r",
   "file_extension": ".r",
   "mimetype": "text/x-r-source",
   "name": "R",
   "pygments_lexer": "r",
   "version": "4.3.3"
  }
 },
 "nbformat": 4,
 "nbformat_minor": 5
}
