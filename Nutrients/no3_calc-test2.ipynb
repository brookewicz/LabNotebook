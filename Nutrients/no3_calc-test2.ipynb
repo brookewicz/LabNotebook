{
 "cells": [
  {
   "cell_type": "markdown",
   "id": "0ddb159e-6e10-44b3-95cc-58a90d3699b4",
   "metadata": {},
   "source": [
    "# NO3 Plate Processing"
   ]
  },
  {
   "cell_type": "markdown",
   "id": "bb00be3b-534a-4125-b755-38b5e1f20ddc",
   "metadata": {},
   "source": [
    "### upload"
   ]
  },
  {
   "cell_type": "code",
   "execution_count": 281,
   "id": "ad5e82bf-60f6-40b9-a0c5-bd4ed54b7e3a",
   "metadata": {},
   "outputs": [],
   "source": [
    "#install.packages('tibble')"
   ]
  },
  {
   "cell_type": "code",
   "execution_count": 282,
   "id": "04c93854-4078-4667-8d91-407ae5127896",
   "metadata": {},
   "outputs": [],
   "source": [
    "library(readxl)\n",
    "library(tidyverse)\n",
    "library(dplyr)\n",
    "library(ggplot2)"
   ]
  },
  {
   "cell_type": "code",
   "execution_count": 283,
   "id": "bf4230a9-655b-4294-a1dc-337f60ad07b3",
   "metadata": {},
   "outputs": [
    {
     "data": {
      "text/html": [
       "'/Users/brookesienkiewicz/Documents/LabNotebook/Nutrients'"
      ],
      "text/latex": [
       "'/Users/brookesienkiewicz/Documents/LabNotebook/Nutrients'"
      ],
      "text/markdown": [
       "'/Users/brookesienkiewicz/Documents/LabNotebook/Nutrients'"
      ],
      "text/plain": [
       "[1] \"/Users/brookesienkiewicz/Documents/LabNotebook/Nutrients\""
      ]
     },
     "metadata": {},
     "output_type": "display_data"
    }
   ],
   "source": [
    "getwd()"
   ]
  },
  {
   "cell_type": "code",
   "execution_count": 284,
   "id": "79c2b4c0-3da8-48b3-b86e-b5d408e6cc55",
   "metadata": {
    "scrolled": true
   },
   "outputs": [],
   "source": [
    "# load plate raws \n",
    "raw <- read.table(\"plate_results/Nitrate_Test_4_11_25_BKS_edited.txt\",header=TRUE)"
   ]
  },
  {
   "cell_type": "code",
   "execution_count": 285,
   "id": "fd4131eb-1080-4126-9759-db58a7ebf1cf",
   "metadata": {},
   "outputs": [
    {
     "data": {
      "text/html": [
       "<table class=\"dataframe\">\n",
       "<caption>A data.frame: 8 × 12</caption>\n",
       "<thead>\n",
       "\t<tr><th scope=col>X1</th><th scope=col>X2</th><th scope=col>X3</th><th scope=col>X4</th><th scope=col>X5</th><th scope=col>X6</th><th scope=col>X7</th><th scope=col>X8</th><th scope=col>X9</th><th scope=col>X10</th><th scope=col>X11</th><th scope=col>X12</th></tr>\n",
       "\t<tr><th scope=col>&lt;dbl&gt;</th><th scope=col>&lt;dbl&gt;</th><th scope=col>&lt;dbl&gt;</th><th scope=col>&lt;dbl&gt;</th><th scope=col>&lt;dbl&gt;</th><th scope=col>&lt;dbl&gt;</th><th scope=col>&lt;dbl&gt;</th><th scope=col>&lt;dbl&gt;</th><th scope=col>&lt;dbl&gt;</th><th scope=col>&lt;dbl&gt;</th><th scope=col>&lt;dbl&gt;</th><th scope=col>&lt;dbl&gt;</th></tr>\n",
       "</thead>\n",
       "<tbody>\n",
       "\t<tr><td>0.0706</td><td>0.0736</td><td>0.0771</td><td>0.0800</td><td>0.0912</td><td>0.1030</td><td>0.1113</td><td>0.1249</td><td>0.8543</td><td>0.4853</td><td>0.1132</td><td>0.0712</td></tr>\n",
       "\t<tr><td>0.0679</td><td>0.0891</td><td>0.1218</td><td>0.1743</td><td>0.2821</td><td>0.5668</td><td>0.9947</td><td>0.0676</td><td>0.8750</td><td>0.4912</td><td>0.1115</td><td>0.0714</td></tr>\n",
       "\t<tr><td>0.0767</td><td>0.0752</td><td>0.0773</td><td>0.0762</td><td>0.0751</td><td>0.1259</td><td>0.8734</td><td>0.1136</td><td>0.0719</td><td>0.0709</td><td>0.0697</td><td>0.0693</td></tr>\n",
       "\t<tr><td>0.0860</td><td>0.0789</td><td>0.0836</td><td>0.0845</td><td>0.0964</td><td>0.0801</td><td>0.5002</td><td>0.0774</td><td>0.0753</td><td>0.0770</td><td>0.0769</td><td>0.0735</td></tr>\n",
       "\t<tr><td>0.0676</td><td>0.0737</td><td>0.0771</td><td>0.0796</td><td>0.0896</td><td>0.0986</td><td>0.1112</td><td>0.1221</td><td>0.8594</td><td>0.4971</td><td>0.0975</td><td>0.0751</td></tr>\n",
       "\t<tr><td>0.0672</td><td>0.0897</td><td>0.1222</td><td>0.1760</td><td>0.2838</td><td>0.5686</td><td>1.0071</td><td>0.0664</td><td>0.8670</td><td>0.4949</td><td>0.1126</td><td>0.0716</td></tr>\n",
       "\t<tr><td>0.0700</td><td>0.0743</td><td>0.0777</td><td>0.0804</td><td>0.0902</td><td>0.1011</td><td>0.1099</td><td>0.1243</td><td>0.2929</td><td>0.2904</td><td>0.2912</td><td>0.2912</td></tr>\n",
       "\t<tr><td>0.0704</td><td>0.0728</td><td>0.0751</td><td>0.0779</td><td>0.0875</td><td>0.0975</td><td>0.1095</td><td>0.1170</td><td>0.4866</td><td>0.4859</td><td>0.4870</td><td>0.4885</td></tr>\n",
       "</tbody>\n",
       "</table>\n"
      ],
      "text/latex": [
       "A data.frame: 8 × 12\n",
       "\\begin{tabular}{llllllllllll}\n",
       " X1 & X2 & X3 & X4 & X5 & X6 & X7 & X8 & X9 & X10 & X11 & X12\\\\\n",
       " <dbl> & <dbl> & <dbl> & <dbl> & <dbl> & <dbl> & <dbl> & <dbl> & <dbl> & <dbl> & <dbl> & <dbl>\\\\\n",
       "\\hline\n",
       "\t 0.0706 & 0.0736 & 0.0771 & 0.0800 & 0.0912 & 0.1030 & 0.1113 & 0.1249 & 0.8543 & 0.4853 & 0.1132 & 0.0712\\\\\n",
       "\t 0.0679 & 0.0891 & 0.1218 & 0.1743 & 0.2821 & 0.5668 & 0.9947 & 0.0676 & 0.8750 & 0.4912 & 0.1115 & 0.0714\\\\\n",
       "\t 0.0767 & 0.0752 & 0.0773 & 0.0762 & 0.0751 & 0.1259 & 0.8734 & 0.1136 & 0.0719 & 0.0709 & 0.0697 & 0.0693\\\\\n",
       "\t 0.0860 & 0.0789 & 0.0836 & 0.0845 & 0.0964 & 0.0801 & 0.5002 & 0.0774 & 0.0753 & 0.0770 & 0.0769 & 0.0735\\\\\n",
       "\t 0.0676 & 0.0737 & 0.0771 & 0.0796 & 0.0896 & 0.0986 & 0.1112 & 0.1221 & 0.8594 & 0.4971 & 0.0975 & 0.0751\\\\\n",
       "\t 0.0672 & 0.0897 & 0.1222 & 0.1760 & 0.2838 & 0.5686 & 1.0071 & 0.0664 & 0.8670 & 0.4949 & 0.1126 & 0.0716\\\\\n",
       "\t 0.0700 & 0.0743 & 0.0777 & 0.0804 & 0.0902 & 0.1011 & 0.1099 & 0.1243 & 0.2929 & 0.2904 & 0.2912 & 0.2912\\\\\n",
       "\t 0.0704 & 0.0728 & 0.0751 & 0.0779 & 0.0875 & 0.0975 & 0.1095 & 0.1170 & 0.4866 & 0.4859 & 0.4870 & 0.4885\\\\\n",
       "\\end{tabular}\n"
      ],
      "text/markdown": [
       "\n",
       "A data.frame: 8 × 12\n",
       "\n",
       "| X1 &lt;dbl&gt; | X2 &lt;dbl&gt; | X3 &lt;dbl&gt; | X4 &lt;dbl&gt; | X5 &lt;dbl&gt; | X6 &lt;dbl&gt; | X7 &lt;dbl&gt; | X8 &lt;dbl&gt; | X9 &lt;dbl&gt; | X10 &lt;dbl&gt; | X11 &lt;dbl&gt; | X12 &lt;dbl&gt; |\n",
       "|---|---|---|---|---|---|---|---|---|---|---|---|\n",
       "| 0.0706 | 0.0736 | 0.0771 | 0.0800 | 0.0912 | 0.1030 | 0.1113 | 0.1249 | 0.8543 | 0.4853 | 0.1132 | 0.0712 |\n",
       "| 0.0679 | 0.0891 | 0.1218 | 0.1743 | 0.2821 | 0.5668 | 0.9947 | 0.0676 | 0.8750 | 0.4912 | 0.1115 | 0.0714 |\n",
       "| 0.0767 | 0.0752 | 0.0773 | 0.0762 | 0.0751 | 0.1259 | 0.8734 | 0.1136 | 0.0719 | 0.0709 | 0.0697 | 0.0693 |\n",
       "| 0.0860 | 0.0789 | 0.0836 | 0.0845 | 0.0964 | 0.0801 | 0.5002 | 0.0774 | 0.0753 | 0.0770 | 0.0769 | 0.0735 |\n",
       "| 0.0676 | 0.0737 | 0.0771 | 0.0796 | 0.0896 | 0.0986 | 0.1112 | 0.1221 | 0.8594 | 0.4971 | 0.0975 | 0.0751 |\n",
       "| 0.0672 | 0.0897 | 0.1222 | 0.1760 | 0.2838 | 0.5686 | 1.0071 | 0.0664 | 0.8670 | 0.4949 | 0.1126 | 0.0716 |\n",
       "| 0.0700 | 0.0743 | 0.0777 | 0.0804 | 0.0902 | 0.1011 | 0.1099 | 0.1243 | 0.2929 | 0.2904 | 0.2912 | 0.2912 |\n",
       "| 0.0704 | 0.0728 | 0.0751 | 0.0779 | 0.0875 | 0.0975 | 0.1095 | 0.1170 | 0.4866 | 0.4859 | 0.4870 | 0.4885 |\n",
       "\n"
      ],
      "text/plain": [
       "  X1     X2     X3     X4     X5     X6     X7     X8     X9     X10    X11   \n",
       "1 0.0706 0.0736 0.0771 0.0800 0.0912 0.1030 0.1113 0.1249 0.8543 0.4853 0.1132\n",
       "2 0.0679 0.0891 0.1218 0.1743 0.2821 0.5668 0.9947 0.0676 0.8750 0.4912 0.1115\n",
       "3 0.0767 0.0752 0.0773 0.0762 0.0751 0.1259 0.8734 0.1136 0.0719 0.0709 0.0697\n",
       "4 0.0860 0.0789 0.0836 0.0845 0.0964 0.0801 0.5002 0.0774 0.0753 0.0770 0.0769\n",
       "5 0.0676 0.0737 0.0771 0.0796 0.0896 0.0986 0.1112 0.1221 0.8594 0.4971 0.0975\n",
       "6 0.0672 0.0897 0.1222 0.1760 0.2838 0.5686 1.0071 0.0664 0.8670 0.4949 0.1126\n",
       "7 0.0700 0.0743 0.0777 0.0804 0.0902 0.1011 0.1099 0.1243 0.2929 0.2904 0.2912\n",
       "8 0.0704 0.0728 0.0751 0.0779 0.0875 0.0975 0.1095 0.1170 0.4866 0.4859 0.4870\n",
       "  X12   \n",
       "1 0.0712\n",
       "2 0.0714\n",
       "3 0.0693\n",
       "4 0.0735\n",
       "5 0.0751\n",
       "6 0.0716\n",
       "7 0.2912\n",
       "8 0.4885"
      ]
     },
     "metadata": {},
     "output_type": "display_data"
    }
   ],
   "source": [
    "raw"
   ]
  },
  {
   "cell_type": "code",
   "execution_count": 286,
   "id": "2d717bcf-b899-40f1-9dd5-314ec9dc7aab",
   "metadata": {},
   "outputs": [],
   "source": [
    "options(scipen = 999)\n",
    "options(digits = 5)  "
   ]
  },
  {
   "cell_type": "code",
   "execution_count": 287,
   "id": "be1770b5-4a1f-4c7d-913e-a2b945713ffa",
   "metadata": {},
   "outputs": [
    {
     "data": {
      "text/html": [
       "<style>\n",
       ".list-inline {list-style: none; margin:0; padding: 0}\n",
       ".list-inline>li {display: inline-block}\n",
       ".list-inline>li:not(:last-child)::after {content: \"\\00b7\"; padding: 0 .5ex}\n",
       "</style>\n",
       "<ol class=list-inline><li>'a'</li><li>'b'</li><li>'c'</li><li>'d'</li><li>'e'</li></ol>\n"
      ],
      "text/latex": [
       "\\begin{enumerate*}\n",
       "\\item 'a'\n",
       "\\item 'b'\n",
       "\\item 'c'\n",
       "\\item 'd'\n",
       "\\item 'e'\n",
       "\\end{enumerate*}\n"
      ],
      "text/markdown": [
       "1. 'a'\n",
       "2. 'b'\n",
       "3. 'c'\n",
       "4. 'd'\n",
       "5. 'e'\n",
       "\n",
       "\n"
      ],
      "text/plain": [
       "[1] \"a\" \"b\" \"c\" \"d\" \"e\""
      ]
     },
     "metadata": {},
     "output_type": "display_data"
    }
   ],
   "source": [
    "letters[1:5]"
   ]
  },
  {
   "cell_type": "code",
   "execution_count": 288,
   "id": "bf46027e-b81e-4329-8c52-3ebcd556f7e2",
   "metadata": {},
   "outputs": [],
   "source": [
    "## data cleanup \n",
    "# fix colnames \n",
    "colnames(raw) <- seq(1:12)\n",
    "rownames(raw) <- letters[1:8]"
   ]
  },
  {
   "cell_type": "code",
   "execution_count": 289,
   "id": "43b90652-a783-40ad-8209-52a30619e0cc",
   "metadata": {},
   "outputs": [],
   "source": [
    "# convert to numeric \n",
    "# raw <- as.numeric(raw)"
   ]
  },
  {
   "cell_type": "markdown",
   "id": "17171a56-f856-4c99-a88e-0cce50f0e6ec",
   "metadata": {},
   "source": [
    "## Standard Test - processing \n",
    "this standards test plate was run on 4/11\n",
    "- 4x **extra low (0 - 0.05 ppm)**\n",
    "- and 2x **standards (0 - 1 ppm)**\n",
    "- 2x test samples\n",
    "- 2x spiked samples and 1 spiked blank (DI)\n",
    "    - row G 50 uL 0.5ppm from QC2, 50 uL sample\n",
    "    - row H 50 uL 1ppm from QC1, 50 uL sample \n",
    "- 1x filter blank\n",
    "    - C & D 9:11\n",
    "- 3x 4 QC checks using ERA standard "
   ]
  },
  {
   "cell_type": "code",
   "execution_count": 290,
   "id": "39709b23-dd72-4b0f-a165-bd86c08ea090",
   "metadata": {},
   "outputs": [
    {
     "name": "stderr",
     "output_type": "stream",
     "text": [
      "\u001b[1m\u001b[22mNew names:\n",
      "\u001b[36m•\u001b[39m `` -> `...1`\n",
      "\u001b[36m•\u001b[39m `` -> `...14`\n"
     ]
    }
   ],
   "source": [
    "# upload plate set up \n",
    "plate_setup <- read_excel('std_test_mapv2.xlsx',skip=1) %>% select(-1) %>% select(-13)%>% slice(1:8)"
   ]
  },
  {
   "cell_type": "code",
   "execution_count": 291,
   "id": "b5146e07-83a2-4fb2-a48b-b3ac2f0ee7b3",
   "metadata": {},
   "outputs": [],
   "source": [
    "## data cleanup \n",
    "plate_setup<-as.data.frame(plate_setup)\n",
    "rownames(plate_setup) <- letters[1:8]"
   ]
  },
  {
   "cell_type": "code",
   "execution_count": 292,
   "id": "2baea5e7-c6c8-45ea-8285-f61dc9e1a4a5",
   "metadata": {},
   "outputs": [
    {
     "data": {
      "text/html": [
       "<table class=\"dataframe\">\n",
       "<caption>A data.frame: 8 × 12</caption>\n",
       "<thead>\n",
       "\t<tr><th></th><th scope=col>1</th><th scope=col>2</th><th scope=col>3</th><th scope=col>4</th><th scope=col>5</th><th scope=col>6</th><th scope=col>7</th><th scope=col>8</th><th scope=col>9</th><th scope=col>10</th><th scope=col>11</th><th scope=col>12</th></tr>\n",
       "\t<tr><th></th><th scope=col>&lt;chr&gt;</th><th scope=col>&lt;chr&gt;</th><th scope=col>&lt;chr&gt;</th><th scope=col>&lt;chr&gt;</th><th scope=col>&lt;chr&gt;</th><th scope=col>&lt;chr&gt;</th><th scope=col>&lt;chr&gt;</th><th scope=col>&lt;chr&gt;</th><th scope=col>&lt;chr&gt;</th><th scope=col>&lt;chr&gt;</th><th scope=col>&lt;chr&gt;</th><th scope=col>&lt;chr&gt;</th></tr>\n",
       "</thead>\n",
       "<tbody>\n",
       "\t<tr><th scope=row>a</th><td>LOW 1</td><td>LOW 1.5</td><td>LOW 2</td><td>LOW 3</td><td>LOW 4</td><td>LOW 5</td><td>LOW 6</td><td>LOW 7</td><td>QC1   </td><td>QC2   </td><td>QC3   </td><td>QC4  </td></tr>\n",
       "\t<tr><th scope=row>b</th><td>Std 1</td><td>Std 2  </td><td>Std 3</td><td>Std 4</td><td>Std 5</td><td>Std 6</td><td>Std 7</td><td>DI   </td><td>QC1   </td><td>QC2   </td><td>QC3   </td><td>QC4  </td></tr>\n",
       "\t<tr><th scope=row>c</th><td>123  </td><td>123    </td><td>123  </td><td>159  </td><td>159  </td><td>159  </td><td>QC1  </td><td>QC3  </td><td>blank </td><td>blank </td><td>blank </td><td>DI   </td></tr>\n",
       "\t<tr><th scope=row>d</th><td>123  </td><td>123    </td><td>123  </td><td>159  </td><td>159  </td><td>159  </td><td>QC2  </td><td>QC4  </td><td>blank </td><td>blank </td><td>blank </td><td>DI   </td></tr>\n",
       "\t<tr><th scope=row>e</th><td>LOW 1</td><td>LOW 1.5</td><td>LOW 2</td><td>LOW 3</td><td>LOW 4</td><td>LOW 5</td><td>LOW 6</td><td>LOW 7</td><td>QC1   </td><td>QC2   </td><td>QC3   </td><td>QC4  </td></tr>\n",
       "\t<tr><th scope=row>f</th><td>Std 1</td><td>Std 2  </td><td>Std 3</td><td>Std 4</td><td>Std 5</td><td>Std 6</td><td>Std 7</td><td>DI   </td><td>QC1   </td><td>QC2   </td><td>QC3   </td><td>QC4  </td></tr>\n",
       "\t<tr><th scope=row>g</th><td>LOW 1</td><td>LOW 1.5</td><td>LOW 2</td><td>LOW 3</td><td>LOW 4</td><td>LOW 5</td><td>LOW 6</td><td>LOW 7</td><td>123spk</td><td>123spk</td><td>123spk</td><td>DIspk</td></tr>\n",
       "\t<tr><th scope=row>h</th><td>LOW 1</td><td>LOW 1.5</td><td>LOW 2</td><td>LOW 3</td><td>LOW 4</td><td>LOW 5</td><td>LOW 6</td><td>LOW 7</td><td>159spk</td><td>159spk</td><td>159spk</td><td>DIspk</td></tr>\n",
       "</tbody>\n",
       "</table>\n"
      ],
      "text/latex": [
       "A data.frame: 8 × 12\n",
       "\\begin{tabular}{r|llllllllllll}\n",
       "  & 1 & 2 & 3 & 4 & 5 & 6 & 7 & 8 & 9 & 10 & 11 & 12\\\\\n",
       "  & <chr> & <chr> & <chr> & <chr> & <chr> & <chr> & <chr> & <chr> & <chr> & <chr> & <chr> & <chr>\\\\\n",
       "\\hline\n",
       "\ta & LOW 1 & LOW 1.5 & LOW 2 & LOW 3 & LOW 4 & LOW 5 & LOW 6 & LOW 7 & QC1    & QC2    & QC3    & QC4  \\\\\n",
       "\tb & Std 1 & Std 2   & Std 3 & Std 4 & Std 5 & Std 6 & Std 7 & DI    & QC1    & QC2    & QC3    & QC4  \\\\\n",
       "\tc & 123   & 123     & 123   & 159   & 159   & 159   & QC1   & QC3   & blank  & blank  & blank  & DI   \\\\\n",
       "\td & 123   & 123     & 123   & 159   & 159   & 159   & QC2   & QC4   & blank  & blank  & blank  & DI   \\\\\n",
       "\te & LOW 1 & LOW 1.5 & LOW 2 & LOW 3 & LOW 4 & LOW 5 & LOW 6 & LOW 7 & QC1    & QC2    & QC3    & QC4  \\\\\n",
       "\tf & Std 1 & Std 2   & Std 3 & Std 4 & Std 5 & Std 6 & Std 7 & DI    & QC1    & QC2    & QC3    & QC4  \\\\\n",
       "\tg & LOW 1 & LOW 1.5 & LOW 2 & LOW 3 & LOW 4 & LOW 5 & LOW 6 & LOW 7 & 123spk & 123spk & 123spk & DIspk\\\\\n",
       "\th & LOW 1 & LOW 1.5 & LOW 2 & LOW 3 & LOW 4 & LOW 5 & LOW 6 & LOW 7 & 159spk & 159spk & 159spk & DIspk\\\\\n",
       "\\end{tabular}\n"
      ],
      "text/markdown": [
       "\n",
       "A data.frame: 8 × 12\n",
       "\n",
       "| <!--/--> | 1 &lt;chr&gt; | 2 &lt;chr&gt; | 3 &lt;chr&gt; | 4 &lt;chr&gt; | 5 &lt;chr&gt; | 6 &lt;chr&gt; | 7 &lt;chr&gt; | 8 &lt;chr&gt; | 9 &lt;chr&gt; | 10 &lt;chr&gt; | 11 &lt;chr&gt; | 12 &lt;chr&gt; |\n",
       "|---|---|---|---|---|---|---|---|---|---|---|---|---|\n",
       "| a | LOW 1 | LOW 1.5 | LOW 2 | LOW 3 | LOW 4 | LOW 5 | LOW 6 | LOW 7 | QC1    | QC2    | QC3    | QC4   |\n",
       "| b | Std 1 | Std 2   | Std 3 | Std 4 | Std 5 | Std 6 | Std 7 | DI    | QC1    | QC2    | QC3    | QC4   |\n",
       "| c | 123   | 123     | 123   | 159   | 159   | 159   | QC1   | QC3   | blank  | blank  | blank  | DI    |\n",
       "| d | 123   | 123     | 123   | 159   | 159   | 159   | QC2   | QC4   | blank  | blank  | blank  | DI    |\n",
       "| e | LOW 1 | LOW 1.5 | LOW 2 | LOW 3 | LOW 4 | LOW 5 | LOW 6 | LOW 7 | QC1    | QC2    | QC3    | QC4   |\n",
       "| f | Std 1 | Std 2   | Std 3 | Std 4 | Std 5 | Std 6 | Std 7 | DI    | QC1    | QC2    | QC3    | QC4   |\n",
       "| g | LOW 1 | LOW 1.5 | LOW 2 | LOW 3 | LOW 4 | LOW 5 | LOW 6 | LOW 7 | 123spk | 123spk | 123spk | DIspk |\n",
       "| h | LOW 1 | LOW 1.5 | LOW 2 | LOW 3 | LOW 4 | LOW 5 | LOW 6 | LOW 7 | 159spk | 159spk | 159spk | DIspk |\n",
       "\n"
      ],
      "text/plain": [
       "  1     2       3     4     5     6     7     8     9      10     11     12   \n",
       "a LOW 1 LOW 1.5 LOW 2 LOW 3 LOW 4 LOW 5 LOW 6 LOW 7 QC1    QC2    QC3    QC4  \n",
       "b Std 1 Std 2   Std 3 Std 4 Std 5 Std 6 Std 7 DI    QC1    QC2    QC3    QC4  \n",
       "c 123   123     123   159   159   159   QC1   QC3   blank  blank  blank  DI   \n",
       "d 123   123     123   159   159   159   QC2   QC4   blank  blank  blank  DI   \n",
       "e LOW 1 LOW 1.5 LOW 2 LOW 3 LOW 4 LOW 5 LOW 6 LOW 7 QC1    QC2    QC3    QC4  \n",
       "f Std 1 Std 2   Std 3 Std 4 Std 5 Std 6 Std 7 DI    QC1    QC2    QC3    QC4  \n",
       "g LOW 1 LOW 1.5 LOW 2 LOW 3 LOW 4 LOW 5 LOW 6 LOW 7 123spk 123spk 123spk DIspk\n",
       "h LOW 1 LOW 1.5 LOW 2 LOW 3 LOW 4 LOW 5 LOW 6 LOW 7 159spk 159spk 159spk DIspk"
      ]
     },
     "metadata": {},
     "output_type": "display_data"
    }
   ],
   "source": [
    "plate_setup"
   ]
  },
  {
   "cell_type": "markdown",
   "id": "737babf7-2bc3-404f-9787-ff9147d43ce5",
   "metadata": {},
   "source": [
    "### Low "
   ]
  },
  {
   "cell_type": "markdown",
   "id": "cd5e9fde-2364-4f84-88d5-a80a93a5a46b",
   "metadata": {},
   "source": [
    "#### add data "
   ]
  },
  {
   "cell_type": "code",
   "execution_count": 293,
   "id": "aa307666-ccf3-45b1-bf3d-38a1535157fa",
   "metadata": {},
   "outputs": [
    {
     "data": {
      "text/html": [
       "<table class=\"dataframe\">\n",
       "<caption>A data.frame: 8 × 6</caption>\n",
       "<thead>\n",
       "\t<tr><th></th><th scope=col>id</th><th scope=col>conc</th><th scope=col>od</th><th scope=col>od2</th><th scope=col>od3</th><th scope=col>od4</th></tr>\n",
       "\t<tr><th></th><th scope=col>&lt;chr&gt;</th><th scope=col>&lt;dbl&gt;</th><th scope=col>&lt;dbl&gt;</th><th scope=col>&lt;dbl&gt;</th><th scope=col>&lt;dbl&gt;</th><th scope=col>&lt;dbl&gt;</th></tr>\n",
       "</thead>\n",
       "<tbody>\n",
       "\t<tr><th scope=row>1</th><td>LOW 1  </td><td>0.000</td><td>0.0706</td><td>0.0676</td><td>0.0700</td><td>0.0704</td></tr>\n",
       "\t<tr><th scope=row>2</th><td>LOW 1.5</td><td>0.002</td><td>0.0736</td><td>0.0737</td><td>0.0743</td><td>0.0728</td></tr>\n",
       "\t<tr><th scope=row>3</th><td>LOW 2  </td><td>0.005</td><td>0.0771</td><td>0.0771</td><td>0.0777</td><td>0.0751</td></tr>\n",
       "\t<tr><th scope=row>4</th><td>LOW 3  </td><td>0.010</td><td>0.0800</td><td>0.0796</td><td>0.0804</td><td>0.0779</td></tr>\n",
       "\t<tr><th scope=row>5</th><td>LOW 4  </td><td>0.020</td><td>0.0912</td><td>0.0896</td><td>0.0902</td><td>0.0875</td></tr>\n",
       "\t<tr><th scope=row>6</th><td>LOW 5  </td><td>0.030</td><td>0.1030</td><td>0.0986</td><td>0.1011</td><td>0.0975</td></tr>\n",
       "\t<tr><th scope=row>7</th><td>LOW 6  </td><td>0.040</td><td>0.1113</td><td>0.1112</td><td>0.1099</td><td>0.1095</td></tr>\n",
       "\t<tr><th scope=row>8</th><td>LOW 7  </td><td>0.050</td><td>0.1249</td><td>0.1221</td><td>0.1243</td><td>0.1170</td></tr>\n",
       "</tbody>\n",
       "</table>\n"
      ],
      "text/latex": [
       "A data.frame: 8 × 6\n",
       "\\begin{tabular}{r|llllll}\n",
       "  & id & conc & od & od2 & od3 & od4\\\\\n",
       "  & <chr> & <dbl> & <dbl> & <dbl> & <dbl> & <dbl>\\\\\n",
       "\\hline\n",
       "\t1 & LOW 1   & 0.000 & 0.0706 & 0.0676 & 0.0700 & 0.0704\\\\\n",
       "\t2 & LOW 1.5 & 0.002 & 0.0736 & 0.0737 & 0.0743 & 0.0728\\\\\n",
       "\t3 & LOW 2   & 0.005 & 0.0771 & 0.0771 & 0.0777 & 0.0751\\\\\n",
       "\t4 & LOW 3   & 0.010 & 0.0800 & 0.0796 & 0.0804 & 0.0779\\\\\n",
       "\t5 & LOW 4   & 0.020 & 0.0912 & 0.0896 & 0.0902 & 0.0875\\\\\n",
       "\t6 & LOW 5   & 0.030 & 0.1030 & 0.0986 & 0.1011 & 0.0975\\\\\n",
       "\t7 & LOW 6   & 0.040 & 0.1113 & 0.1112 & 0.1099 & 0.1095\\\\\n",
       "\t8 & LOW 7   & 0.050 & 0.1249 & 0.1221 & 0.1243 & 0.1170\\\\\n",
       "\\end{tabular}\n"
      ],
      "text/markdown": [
       "\n",
       "A data.frame: 8 × 6\n",
       "\n",
       "| <!--/--> | id &lt;chr&gt; | conc &lt;dbl&gt; | od &lt;dbl&gt; | od2 &lt;dbl&gt; | od3 &lt;dbl&gt; | od4 &lt;dbl&gt; |\n",
       "|---|---|---|---|---|---|---|\n",
       "| 1 | LOW 1   | 0.000 | 0.0706 | 0.0676 | 0.0700 | 0.0704 |\n",
       "| 2 | LOW 1.5 | 0.002 | 0.0736 | 0.0737 | 0.0743 | 0.0728 |\n",
       "| 3 | LOW 2   | 0.005 | 0.0771 | 0.0771 | 0.0777 | 0.0751 |\n",
       "| 4 | LOW 3   | 0.010 | 0.0800 | 0.0796 | 0.0804 | 0.0779 |\n",
       "| 5 | LOW 4   | 0.020 | 0.0912 | 0.0896 | 0.0902 | 0.0875 |\n",
       "| 6 | LOW 5   | 0.030 | 0.1030 | 0.0986 | 0.1011 | 0.0975 |\n",
       "| 7 | LOW 6   | 0.040 | 0.1113 | 0.1112 | 0.1099 | 0.1095 |\n",
       "| 8 | LOW 7   | 0.050 | 0.1249 | 0.1221 | 0.1243 | 0.1170 |\n",
       "\n"
      ],
      "text/plain": [
       "  id      conc  od     od2    od3    od4   \n",
       "1 LOW 1   0.000 0.0706 0.0676 0.0700 0.0704\n",
       "2 LOW 1.5 0.002 0.0736 0.0737 0.0743 0.0728\n",
       "3 LOW 2   0.005 0.0771 0.0771 0.0777 0.0751\n",
       "4 LOW 3   0.010 0.0800 0.0796 0.0804 0.0779\n",
       "5 LOW 4   0.020 0.0912 0.0896 0.0902 0.0875\n",
       "6 LOW 5   0.030 0.1030 0.0986 0.1011 0.0975\n",
       "7 LOW 6   0.040 0.1113 0.1112 0.1099 0.1095\n",
       "8 LOW 7   0.050 0.1249 0.1221 0.1243 0.1170"
      ]
     },
     "metadata": {},
     "output_type": "display_data"
    }
   ],
   "source": [
    "low <- data.frame(id = unlist(plate_setup[1, 1:8]),\n",
    "                    conc = c(0,0.002,0.005,0.01,0.02,0.03,0.04,0.05),\n",
    "                    od = unlist(raw[1, 1:8]),\n",
    "                    od2 = unlist(raw['e', 1:8]),\n",
    "                    od3 = unlist(raw['g',1:8]),\n",
    "                    od4 = unlist(raw['h',1:8])\n",
    "                 )\n",
    "low"
   ]
  },
  {
   "cell_type": "code",
   "execution_count": 294,
   "id": "edb37357-549b-4077-9061-45c06261818b",
   "metadata": {},
   "outputs": [
    {
     "name": "stdout",
     "output_type": "stream",
     "text": [
      "'data.frame':\t8 obs. of  6 variables:\n",
      " $ id  : chr  \"LOW 1\" \"LOW 1.5\" \"LOW 2\" \"LOW 3\" ...\n",
      " $ conc: num  0 0.002 0.005 0.01 0.02 0.03 0.04 0.05\n",
      " $ od  : num  0.0706 0.0736 0.0771 0.08 0.0912 ...\n",
      " $ od2 : num  0.0676 0.0737 0.0771 0.0796 0.0896 ...\n",
      " $ od3 : num  0.07 0.0743 0.0777 0.0804 0.0902 ...\n",
      " $ od4 : num  0.0704 0.0728 0.0751 0.0779 0.0875 ...\n"
     ]
    }
   ],
   "source": [
    "# check character types (all need to be numeric to run model)\n",
    "str(low)"
   ]
  },
  {
   "cell_type": "code",
   "execution_count": 295,
   "id": "7c14a56c-191c-4f03-a06e-b18c49be9df7",
   "metadata": {},
   "outputs": [],
   "source": [
    "# convert concentration to numeric \n",
    "# low$conc <- as.numeric(as.character(low$conc))"
   ]
  },
  {
   "cell_type": "code",
   "execution_count": 296,
   "id": "61d3d7e4-4e93-4215-9f9a-97c5a51148c4",
   "metadata": {},
   "outputs": [],
   "source": [
    "# calculate avg, standard deviation  and pivot \n",
    "low$avg_od <- rowMeans(low[, c(\"od\", \"od2\", \"od3\",\"od4\")])\n",
    "\n",
    "# pivot\n",
    "low_long<-low %>% pivot_longer(cols = c(\"od\", \"od2\", \"od3\",\"od4\"),\n",
    "             names_to = 'rep',\n",
    "             values_to = 'od')\n",
    "# std dev\n",
    "low_long <- low_long %>%\n",
    "  group_by(id) %>%\n",
    "  mutate(sd = sd(od)) %>%\n",
    "  ungroup()"
   ]
  },
  {
   "cell_type": "code",
   "execution_count": 297,
   "id": "dbf1e64b-a306-48d6-bec6-d6fdec504dc5",
   "metadata": {},
   "outputs": [
    {
     "data": {
      "text/html": [
       "<table class=\"dataframe\">\n",
       "<caption>A tibble: 8 × 6</caption>\n",
       "<thead>\n",
       "\t<tr><th scope=col>id</th><th scope=col>conc</th><th scope=col>avg_od</th><th scope=col>rep</th><th scope=col>od</th><th scope=col>sd</th></tr>\n",
       "\t<tr><th scope=col>&lt;chr&gt;</th><th scope=col>&lt;dbl&gt;</th><th scope=col>&lt;dbl&gt;</th><th scope=col>&lt;chr&gt;</th><th scope=col>&lt;dbl&gt;</th><th scope=col>&lt;dbl&gt;</th></tr>\n",
       "</thead>\n",
       "<tbody>\n",
       "\t<tr><td>LOW 1  </td><td>0.000</td><td>0.069650</td><td>od</td><td>0.0706</td><td>0.00138924</td></tr>\n",
       "\t<tr><td>LOW 1.5</td><td>0.002</td><td>0.073600</td><td>od</td><td>0.0736</td><td>0.00061644</td></tr>\n",
       "\t<tr><td>LOW 2  </td><td>0.005</td><td>0.076750</td><td>od</td><td>0.0771</td><td>0.00113578</td></tr>\n",
       "\t<tr><td>LOW 3  </td><td>0.010</td><td>0.079475</td><td>od</td><td>0.0800</td><td>0.00109962</td></tr>\n",
       "\t<tr><td>LOW 4  </td><td>0.020</td><td>0.089625</td><td>od</td><td>0.0912</td><td>0.00156285</td></tr>\n",
       "\t<tr><td>LOW 5  </td><td>0.030</td><td>0.100050</td><td>od</td><td>0.1030</td><td>0.00247723</td></tr>\n",
       "\t<tr><td>LOW 6  </td><td>0.040</td><td>0.110475</td><td>od</td><td>0.1113</td><td>0.00091059</td></tr>\n",
       "\t<tr><td>LOW 7  </td><td>0.050</td><td>0.122075</td><td>od</td><td>0.1249</td><td>0.00359108</td></tr>\n",
       "</tbody>\n",
       "</table>\n"
      ],
      "text/latex": [
       "A tibble: 8 × 6\n",
       "\\begin{tabular}{llllll}\n",
       " id & conc & avg\\_od & rep & od & sd\\\\\n",
       " <chr> & <dbl> & <dbl> & <chr> & <dbl> & <dbl>\\\\\n",
       "\\hline\n",
       "\t LOW 1   & 0.000 & 0.069650 & od & 0.0706 & 0.00138924\\\\\n",
       "\t LOW 1.5 & 0.002 & 0.073600 & od & 0.0736 & 0.00061644\\\\\n",
       "\t LOW 2   & 0.005 & 0.076750 & od & 0.0771 & 0.00113578\\\\\n",
       "\t LOW 3   & 0.010 & 0.079475 & od & 0.0800 & 0.00109962\\\\\n",
       "\t LOW 4   & 0.020 & 0.089625 & od & 0.0912 & 0.00156285\\\\\n",
       "\t LOW 5   & 0.030 & 0.100050 & od & 0.1030 & 0.00247723\\\\\n",
       "\t LOW 6   & 0.040 & 0.110475 & od & 0.1113 & 0.00091059\\\\\n",
       "\t LOW 7   & 0.050 & 0.122075 & od & 0.1249 & 0.00359108\\\\\n",
       "\\end{tabular}\n"
      ],
      "text/markdown": [
       "\n",
       "A tibble: 8 × 6\n",
       "\n",
       "| id &lt;chr&gt; | conc &lt;dbl&gt; | avg_od &lt;dbl&gt; | rep &lt;chr&gt; | od &lt;dbl&gt; | sd &lt;dbl&gt; |\n",
       "|---|---|---|---|---|---|\n",
       "| LOW 1   | 0.000 | 0.069650 | od | 0.0706 | 0.00138924 |\n",
       "| LOW 1.5 | 0.002 | 0.073600 | od | 0.0736 | 0.00061644 |\n",
       "| LOW 2   | 0.005 | 0.076750 | od | 0.0771 | 0.00113578 |\n",
       "| LOW 3   | 0.010 | 0.079475 | od | 0.0800 | 0.00109962 |\n",
       "| LOW 4   | 0.020 | 0.089625 | od | 0.0912 | 0.00156285 |\n",
       "| LOW 5   | 0.030 | 0.100050 | od | 0.1030 | 0.00247723 |\n",
       "| LOW 6   | 0.040 | 0.110475 | od | 0.1113 | 0.00091059 |\n",
       "| LOW 7   | 0.050 | 0.122075 | od | 0.1249 | 0.00359108 |\n",
       "\n"
      ],
      "text/plain": [
       "  id      conc  avg_od   rep od     sd        \n",
       "1 LOW 1   0.000 0.069650 od  0.0706 0.00138924\n",
       "2 LOW 1.5 0.002 0.073600 od  0.0736 0.00061644\n",
       "3 LOW 2   0.005 0.076750 od  0.0771 0.00113578\n",
       "4 LOW 3   0.010 0.079475 od  0.0800 0.00109962\n",
       "5 LOW 4   0.020 0.089625 od  0.0912 0.00156285\n",
       "6 LOW 5   0.030 0.100050 od  0.1030 0.00247723\n",
       "7 LOW 6   0.040 0.110475 od  0.1113 0.00091059\n",
       "8 LOW 7   0.050 0.122075 od  0.1249 0.00359108"
      ]
     },
     "metadata": {},
     "output_type": "display_data"
    }
   ],
   "source": [
    "low_long %>%\n",
    "  distinct(id, .keep_all = TRUE)"
   ]
  },
  {
   "cell_type": "code",
   "execution_count": 298,
   "id": "c0f36c09-9329-469a-bb01-6b046f11201f",
   "metadata": {},
   "outputs": [],
   "source": [
    "# add high curve?"
   ]
  },
  {
   "cell_type": "code",
   "execution_count": 299,
   "id": "75e7c07b-b875-4ee3-ae06-6045a527342d",
   "metadata": {},
   "outputs": [
    {
     "data": {
      "text/html": [
       "<table class=\"dataframe\">\n",
       "<caption>A data.frame: 7 × 4</caption>\n",
       "<thead>\n",
       "\t<tr><th></th><th scope=col>id</th><th scope=col>conc</th><th scope=col>od</th><th scope=col>od2</th></tr>\n",
       "\t<tr><th></th><th scope=col>&lt;chr&gt;</th><th scope=col>&lt;chr&gt;</th><th scope=col>&lt;dbl&gt;</th><th scope=col>&lt;dbl&gt;</th></tr>\n",
       "</thead>\n",
       "<tbody>\n",
       "\t<tr><th scope=row>1</th><td>Std 1</td><td>0   </td><td>0.0679</td><td>0.0672</td></tr>\n",
       "\t<tr><th scope=row>2</th><td>Std 2</td><td>0.02</td><td>0.0891</td><td>0.0897</td></tr>\n",
       "\t<tr><th scope=row>3</th><td>Std 3</td><td>0.05</td><td>0.1218</td><td>0.1222</td></tr>\n",
       "\t<tr><th scope=row>4</th><td>Std 4</td><td>0.1 </td><td>0.1743</td><td>0.1760</td></tr>\n",
       "\t<tr><th scope=row>5</th><td>Std 5</td><td>0.2 </td><td>0.2821</td><td>0.2838</td></tr>\n",
       "\t<tr><th scope=row>6</th><td>Std 6</td><td>0.5 </td><td>0.5668</td><td>0.5686</td></tr>\n",
       "\t<tr><th scope=row>7</th><td>Std 7</td><td>1   </td><td>0.9947</td><td>1.0071</td></tr>\n",
       "</tbody>\n",
       "</table>\n"
      ],
      "text/latex": [
       "A data.frame: 7 × 4\n",
       "\\begin{tabular}{r|llll}\n",
       "  & id & conc & od & od2\\\\\n",
       "  & <chr> & <chr> & <dbl> & <dbl>\\\\\n",
       "\\hline\n",
       "\t1 & Std 1 & 0    & 0.0679 & 0.0672\\\\\n",
       "\t2 & Std 2 & 0.02 & 0.0891 & 0.0897\\\\\n",
       "\t3 & Std 3 & 0.05 & 0.1218 & 0.1222\\\\\n",
       "\t4 & Std 4 & 0.1  & 0.1743 & 0.1760\\\\\n",
       "\t5 & Std 5 & 0.2  & 0.2821 & 0.2838\\\\\n",
       "\t6 & Std 6 & 0.5  & 0.5668 & 0.5686\\\\\n",
       "\t7 & Std 7 & 1    & 0.9947 & 1.0071\\\\\n",
       "\\end{tabular}\n"
      ],
      "text/markdown": [
       "\n",
       "A data.frame: 7 × 4\n",
       "\n",
       "| <!--/--> | id &lt;chr&gt; | conc &lt;chr&gt; | od &lt;dbl&gt; | od2 &lt;dbl&gt; |\n",
       "|---|---|---|---|---|\n",
       "| 1 | Std 1 | 0    | 0.0679 | 0.0672 |\n",
       "| 2 | Std 2 | 0.02 | 0.0891 | 0.0897 |\n",
       "| 3 | Std 3 | 0.05 | 0.1218 | 0.1222 |\n",
       "| 4 | Std 4 | 0.1  | 0.1743 | 0.1760 |\n",
       "| 5 | Std 5 | 0.2  | 0.2821 | 0.2838 |\n",
       "| 6 | Std 6 | 0.5  | 0.5668 | 0.5686 |\n",
       "| 7 | Std 7 | 1    | 0.9947 | 1.0071 |\n",
       "\n"
      ],
      "text/plain": [
       "  id    conc od     od2   \n",
       "1 Std 1 0    0.0679 0.0672\n",
       "2 Std 2 0.02 0.0891 0.0897\n",
       "3 Std 3 0.05 0.1218 0.1222\n",
       "4 Std 4 0.1  0.1743 0.1760\n",
       "5 Std 5 0.2  0.2821 0.2838\n",
       "6 Std 6 0.5  0.5668 0.5686\n",
       "7 Std 7 1    0.9947 1.0071"
      ]
     },
     "metadata": {},
     "output_type": "display_data"
    }
   ],
   "source": [
    "# b & f 1:7\n",
    "hi <- data.frame(id = unlist(plate_setup['b', 1:7]),\n",
    "                    conc = c('0','0.02','0.05','0.1','0.2','0.5','1'),\n",
    "                    od = unlist(raw['b', 1:7]),\n",
    "                    od2 = unlist(raw['f', 1:7])\n",
    "                 )\n",
    "hi"
   ]
  },
  {
   "cell_type": "markdown",
   "id": "f812944a-9843-4d0d-bd86-df1b802e2e67",
   "metadata": {},
   "source": [
    "#### Standard curve"
   ]
  },
  {
   "cell_type": "code",
   "execution_count": 300,
   "id": "b4a331fe-8694-4250-b0b2-40e118397cc0",
   "metadata": {},
   "outputs": [
    {
     "data": {
      "text/plain": [
       "\n",
       "Call:\n",
       "lm(formula = conc ~ od, data = low_long)\n",
       "\n",
       "Residuals:\n",
       "     Min       1Q   Median       3Q      Max \n",
       "-0.00350 -0.00143 -0.00017  0.00102  0.00421 \n",
       "\n",
       "Coefficients:\n",
       "            Estimate Std. Error t value            Pr(>|t|)    \n",
       "(Intercept) -0.06847    0.00173   -39.6 <0.0000000000000002 ***\n",
       "od           0.97657    0.01879    52.0 <0.0000000000000002 ***\n",
       "---\n",
       "Signif. codes:  0 ‘***’ 0.001 ‘**’ 0.01 ‘*’ 0.05 ‘.’ 0.1 ‘ ’ 1\n",
       "\n",
       "Residual standard error: 0.00189 on 30 degrees of freedom\n",
       "Multiple R-squared:  0.989,\tAdjusted R-squared:  0.989 \n",
       "F-statistic: 2.7e+03 on 1 and 30 DF,  p-value: <0.0000000000000002\n"
      ]
     },
     "metadata": {},
     "output_type": "display_data"
    }
   ],
   "source": [
    "# create linear standard curve \n",
    "# lm(target(y) ~ predictor(x))\n",
    "# normally concentration is predictor (x), absorbance is response variable (y)\n",
    "# but since we need to predict concentration, switching variables. since they are a linear relationship this should be fine. \n",
    "# SO: conc ~ od means absorbance is predictor (x) and concentration is response (y)\n",
    "low_model <- lm(conc ~ od, data = low_long)\n",
    "# view summary stats (R-squared)\n",
    "summary(low_model)"
   ]
  },
  {
   "cell_type": "code",
   "execution_count": 301,
   "id": "54bd8e7c-9e4b-44c2-b5b8-21e9a96d6dc9",
   "metadata": {},
   "outputs": [
    {
     "data": {
      "text/plain": [
       "\n",
       "Call:\n",
       "lm(formula = conc ~ avg_od, data = low_long)\n",
       "\n",
       "Residuals:\n",
       "      Min        1Q    Median        3Q       Max \n",
       "-0.001372 -0.001062  0.000523  0.000754  0.000953 \n",
       "\n",
       "Coefficients:\n",
       "             Estimate Std. Error t value            Pr(>|t|)    \n",
       "(Intercept) -0.069185   0.000905   -76.4 <0.0000000000000002 ***\n",
       "avg_od       0.984455   0.009847   100.0 <0.0000000000000002 ***\n",
       "---\n",
       "Signif. codes:  0 ‘***’ 0.001 ‘**’ 0.01 ‘*’ 0.05 ‘.’ 0.1 ‘ ’ 1\n",
       "\n",
       "Residual standard error: 0.000988 on 30 degrees of freedom\n",
       "Multiple R-squared:  0.997,\tAdjusted R-squared:  0.997 \n",
       "F-statistic: 1e+04 on 1 and 30 DF,  p-value: <0.0000000000000002\n"
      ]
     },
     "metadata": {},
     "output_type": "display_data"
    }
   ],
   "source": [
    "## use the averages for the curve \n",
    "low_avg_model <- lm(conc ~ avg_od, data = low_long)\n",
    "summary(low_avg_model)"
   ]
  },
  {
   "cell_type": "code",
   "execution_count": 302,
   "id": "db7deb57-be34-439f-a34b-03597bafaf49",
   "metadata": {},
   "outputs": [
    {
     "data": {
      "text/html": [
       "<table class=\"dataframe\">\n",
       "<caption>A data.frame: 2 × 2</caption>\n",
       "<thead>\n",
       "\t<tr><th></th><th scope=col>df</th><th scope=col>AIC</th></tr>\n",
       "\t<tr><th></th><th scope=col>&lt;dbl&gt;</th><th scope=col>&lt;dbl&gt;</th></tr>\n",
       "</thead>\n",
       "<tbody>\n",
       "\t<tr><th scope=row>low_model</th><td>3</td><td>-306.51</td></tr>\n",
       "\t<tr><th scope=row>low_avg_model</th><td>3</td><td>-348.10</td></tr>\n",
       "</tbody>\n",
       "</table>\n"
      ],
      "text/latex": [
       "A data.frame: 2 × 2\n",
       "\\begin{tabular}{r|ll}\n",
       "  & df & AIC\\\\\n",
       "  & <dbl> & <dbl>\\\\\n",
       "\\hline\n",
       "\tlow\\_model & 3 & -306.51\\\\\n",
       "\tlow\\_avg\\_model & 3 & -348.10\\\\\n",
       "\\end{tabular}\n"
      ],
      "text/markdown": [
       "\n",
       "A data.frame: 2 × 2\n",
       "\n",
       "| <!--/--> | df &lt;dbl&gt; | AIC &lt;dbl&gt; |\n",
       "|---|---|---|\n",
       "| low_model | 3 | -306.51 |\n",
       "| low_avg_model | 3 | -348.10 |\n",
       "\n"
      ],
      "text/plain": [
       "              df AIC    \n",
       "low_model     3  -306.51\n",
       "low_avg_model 3  -348.10"
      ]
     },
     "metadata": {},
     "output_type": "display_data"
    }
   ],
   "source": [
    "aic <- AIC(low_model, low_avg_model)\n",
    "aic\n",
    "# non-avg is better, but avg has higher R2"
   ]
  },
  {
   "cell_type": "code",
   "execution_count": 303,
   "id": "e22a17a5-8af8-473b-a0ec-8353cf091f77",
   "metadata": {},
   "outputs": [
    {
     "name": "stderr",
     "output_type": "stream",
     "text": [
      "\u001b[1m\u001b[22m`geom_smooth()` using formula = 'y ~ x'\n"
     ]
    },
    {
     "data": {
      "image/png": "[encoded data removed]",
      "text/plain": [
       "plot without title"
      ]
     },
     "metadata": {
      "image/png": {
       "height": 420,
       "width": 420
      }
     },
     "output_type": "display_data"
    }
   ],
   "source": [
    "# Plot the data with the regression line\n",
    "ggplot(low_long, aes(x = od, y = conc, color = rep)) +\n",
    "       geom_point() +\n",
    "       geom_smooth(method = \"lm\", se = FALSE)"
   ]
  },
  {
   "cell_type": "code",
   "execution_count": 304,
   "id": "37b3405b-760f-4385-95ac-a792b2b471d4",
   "metadata": {},
   "outputs": [
    {
     "name": "stderr",
     "output_type": "stream",
     "text": [
      "\u001b[1m\u001b[22m`geom_smooth()` using formula = 'y ~ x'\n"
     ]
    },
    {
     "data": {
      "image/png": "[encoded data removed]",
      "text/plain": [
       "plot without title"
      ]
     },
     "metadata": {
      "image/png": {
       "height": 420,
       "width": 420
      }
     },
     "output_type": "display_data"
    }
   ],
   "source": [
    "ggplot(low_long, aes(x = avg_od, y = conc)) + \n",
    "  geom_point() +  # Plot the average OD\n",
    "  geom_errorbarh(aes(xmin = avg_od - sd, xmax = avg_od + sd)) +  # Add horizontal error bars\n",
    "  geom_smooth(method = \"lm\", se = FALSE, linetype = \"solid\") +  # Add regression line\n",
    "  theme_minimal()"
   ]
  },
  {
   "cell_type": "markdown",
   "id": "af876fee-8b26-4ac2-a6fa-9fdca2e67f8c",
   "metadata": {},
   "source": [
    "### High"
   ]
  },
  {
   "cell_type": "code",
   "execution_count": 305,
   "id": "080588a7-26a2-4e8a-be13-2786b82db55f",
   "metadata": {},
   "outputs": [
    {
     "data": {
      "text/html": [
       "<table class=\"dataframe\">\n",
       "<caption>A data.frame: 7 × 4</caption>\n",
       "<thead>\n",
       "\t<tr><th></th><th scope=col>id</th><th scope=col>conc</th><th scope=col>od</th><th scope=col>od2</th></tr>\n",
       "\t<tr><th></th><th scope=col>&lt;chr&gt;</th><th scope=col>&lt;chr&gt;</th><th scope=col>&lt;dbl&gt;</th><th scope=col>&lt;dbl&gt;</th></tr>\n",
       "</thead>\n",
       "<tbody>\n",
       "\t<tr><th scope=row>1</th><td>Std 1</td><td>0   </td><td>0.0679</td><td>0.0672</td></tr>\n",
       "\t<tr><th scope=row>2</th><td>Std 2</td><td>0.02</td><td>0.0891</td><td>0.0897</td></tr>\n",
       "\t<tr><th scope=row>3</th><td>Std 3</td><td>0.05</td><td>0.1218</td><td>0.1222</td></tr>\n",
       "\t<tr><th scope=row>4</th><td>Std 4</td><td>0.1 </td><td>0.1743</td><td>0.1760</td></tr>\n",
       "\t<tr><th scope=row>5</th><td>Std 5</td><td>0.2 </td><td>0.2821</td><td>0.2838</td></tr>\n",
       "\t<tr><th scope=row>6</th><td>Std 6</td><td>0.5 </td><td>0.5668</td><td>0.5686</td></tr>\n",
       "\t<tr><th scope=row>7</th><td>Std 7</td><td>1   </td><td>0.9947</td><td>1.0071</td></tr>\n",
       "</tbody>\n",
       "</table>\n"
      ],
      "text/latex": [
       "A data.frame: 7 × 4\n",
       "\\begin{tabular}{r|llll}\n",
       "  & id & conc & od & od2\\\\\n",
       "  & <chr> & <chr> & <dbl> & <dbl>\\\\\n",
       "\\hline\n",
       "\t1 & Std 1 & 0    & 0.0679 & 0.0672\\\\\n",
       "\t2 & Std 2 & 0.02 & 0.0891 & 0.0897\\\\\n",
       "\t3 & Std 3 & 0.05 & 0.1218 & 0.1222\\\\\n",
       "\t4 & Std 4 & 0.1  & 0.1743 & 0.1760\\\\\n",
       "\t5 & Std 5 & 0.2  & 0.2821 & 0.2838\\\\\n",
       "\t6 & Std 6 & 0.5  & 0.5668 & 0.5686\\\\\n",
       "\t7 & Std 7 & 1    & 0.9947 & 1.0071\\\\\n",
       "\\end{tabular}\n"
      ],
      "text/markdown": [
       "\n",
       "A data.frame: 7 × 4\n",
       "\n",
       "| <!--/--> | id &lt;chr&gt; | conc &lt;chr&gt; | od &lt;dbl&gt; | od2 &lt;dbl&gt; |\n",
       "|---|---|---|---|---|\n",
       "| 1 | Std 1 | 0    | 0.0679 | 0.0672 |\n",
       "| 2 | Std 2 | 0.02 | 0.0891 | 0.0897 |\n",
       "| 3 | Std 3 | 0.05 | 0.1218 | 0.1222 |\n",
       "| 4 | Std 4 | 0.1  | 0.1743 | 0.1760 |\n",
       "| 5 | Std 5 | 0.2  | 0.2821 | 0.2838 |\n",
       "| 6 | Std 6 | 0.5  | 0.5668 | 0.5686 |\n",
       "| 7 | Std 7 | 1    | 0.9947 | 1.0071 |\n",
       "\n"
      ],
      "text/plain": [
       "  id    conc od     od2   \n",
       "1 Std 1 0    0.0679 0.0672\n",
       "2 Std 2 0.02 0.0891 0.0897\n",
       "3 Std 3 0.05 0.1218 0.1222\n",
       "4 Std 4 0.1  0.1743 0.1760\n",
       "5 Std 5 0.2  0.2821 0.2838\n",
       "6 Std 6 0.5  0.5668 0.5686\n",
       "7 Std 7 1    0.9947 1.0071"
      ]
     },
     "metadata": {},
     "output_type": "display_data"
    }
   ],
   "source": [
    "hi"
   ]
  },
  {
   "cell_type": "code",
   "execution_count": 306,
   "id": "63ca779e-982a-4d3a-ae32-b76c3f667dfc",
   "metadata": {},
   "outputs": [],
   "source": [
    "# convert to numeric\n",
    "hi$conc<-as.numeric(hi$conc)\n",
    "\n",
    "# calculate avg, standard deviation  and pivot \n",
    "hi$avg_od <- rowMeans(hi[, c(\"od\", \"od2\")])\n",
    "\n",
    "# pivot\n",
    "hi_long<-hi %>% pivot_longer(cols = c(\"od\", \"od2\"),\n",
    "             names_to = 'rep',\n",
    "             values_to = 'od')\n",
    "# std dev\n",
    "hi_long <- hi_long %>%\n",
    "  group_by(id) %>%\n",
    "  mutate(sd = sd(od)) %>%\n",
    "  ungroup()"
   ]
  },
  {
   "cell_type": "code",
   "execution_count": 307,
   "id": "eb8f50fa-9ab6-42e3-8ce6-35b81aaa4173",
   "metadata": {},
   "outputs": [
    {
     "data": {
      "text/html": [
       "<table class=\"dataframe\">\n",
       "<caption>A tibble: 6 × 6</caption>\n",
       "<thead>\n",
       "\t<tr><th scope=col>id</th><th scope=col>conc</th><th scope=col>avg_od</th><th scope=col>rep</th><th scope=col>od</th><th scope=col>sd</th></tr>\n",
       "\t<tr><th scope=col>&lt;chr&gt;</th><th scope=col>&lt;dbl&gt;</th><th scope=col>&lt;dbl&gt;</th><th scope=col>&lt;chr&gt;</th><th scope=col>&lt;dbl&gt;</th><th scope=col>&lt;dbl&gt;</th></tr>\n",
       "</thead>\n",
       "<tbody>\n",
       "\t<tr><td>Std 1</td><td>0.00</td><td>0.06755</td><td>od </td><td>0.0679</td><td>0.00049497</td></tr>\n",
       "\t<tr><td>Std 1</td><td>0.00</td><td>0.06755</td><td>od2</td><td>0.0672</td><td>0.00049497</td></tr>\n",
       "\t<tr><td>Std 2</td><td>0.02</td><td>0.08940</td><td>od </td><td>0.0891</td><td>0.00042426</td></tr>\n",
       "\t<tr><td>Std 2</td><td>0.02</td><td>0.08940</td><td>od2</td><td>0.0897</td><td>0.00042426</td></tr>\n",
       "\t<tr><td>Std 3</td><td>0.05</td><td>0.12200</td><td>od </td><td>0.1218</td><td>0.00028284</td></tr>\n",
       "\t<tr><td>Std 3</td><td>0.05</td><td>0.12200</td><td>od2</td><td>0.1222</td><td>0.00028284</td></tr>\n",
       "</tbody>\n",
       "</table>\n"
      ],
      "text/latex": [
       "A tibble: 6 × 6\n",
       "\\begin{tabular}{llllll}\n",
       " id & conc & avg\\_od & rep & od & sd\\\\\n",
       " <chr> & <dbl> & <dbl> & <chr> & <dbl> & <dbl>\\\\\n",
       "\\hline\n",
       "\t Std 1 & 0.00 & 0.06755 & od  & 0.0679 & 0.00049497\\\\\n",
       "\t Std 1 & 0.00 & 0.06755 & od2 & 0.0672 & 0.00049497\\\\\n",
       "\t Std 2 & 0.02 & 0.08940 & od  & 0.0891 & 0.00042426\\\\\n",
       "\t Std 2 & 0.02 & 0.08940 & od2 & 0.0897 & 0.00042426\\\\\n",
       "\t Std 3 & 0.05 & 0.12200 & od  & 0.1218 & 0.00028284\\\\\n",
       "\t Std 3 & 0.05 & 0.12200 & od2 & 0.1222 & 0.00028284\\\\\n",
       "\\end{tabular}\n"
      ],
      "text/markdown": [
       "\n",
       "A tibble: 6 × 6\n",
       "\n",
       "| id &lt;chr&gt; | conc &lt;dbl&gt; | avg_od &lt;dbl&gt; | rep &lt;chr&gt; | od &lt;dbl&gt; | sd &lt;dbl&gt; |\n",
       "|---|---|---|---|---|---|\n",
       "| Std 1 | 0.00 | 0.06755 | od  | 0.0679 | 0.00049497 |\n",
       "| Std 1 | 0.00 | 0.06755 | od2 | 0.0672 | 0.00049497 |\n",
       "| Std 2 | 0.02 | 0.08940 | od  | 0.0891 | 0.00042426 |\n",
       "| Std 2 | 0.02 | 0.08940 | od2 | 0.0897 | 0.00042426 |\n",
       "| Std 3 | 0.05 | 0.12200 | od  | 0.1218 | 0.00028284 |\n",
       "| Std 3 | 0.05 | 0.12200 | od2 | 0.1222 | 0.00028284 |\n",
       "\n"
      ],
      "text/plain": [
       "  id    conc avg_od  rep od     sd        \n",
       "1 Std 1 0.00 0.06755 od  0.0679 0.00049497\n",
       "2 Std 1 0.00 0.06755 od2 0.0672 0.00049497\n",
       "3 Std 2 0.02 0.08940 od  0.0891 0.00042426\n",
       "4 Std 2 0.02 0.08940 od2 0.0897 0.00042426\n",
       "5 Std 3 0.05 0.12200 od  0.1218 0.00028284\n",
       "6 Std 3 0.05 0.12200 od2 0.1222 0.00028284"
      ]
     },
     "metadata": {},
     "output_type": "display_data"
    }
   ],
   "source": [
    "head(hi_long)"
   ]
  },
  {
   "cell_type": "markdown",
   "id": "163ade46-10a1-45a3-bc4b-43241d2d2b5f",
   "metadata": {},
   "source": [
    "#### Standard curve"
   ]
  },
  {
   "cell_type": "code",
   "execution_count": 308,
   "id": "16350188-ef1e-4fdc-928f-25b5adf9499e",
   "metadata": {},
   "outputs": [
    {
     "data": {
      "text/plain": [
       "\n",
       "Call:\n",
       "lm(formula = conc ~ od, data = hi_long)\n",
       "\n",
       "Residuals:\n",
       "     Min       1Q   Median       3Q      Max \n",
       "-0.02268 -0.01331  0.00438  0.00937  0.02216 \n",
       "\n",
       "Coefficients:\n",
       "            Estimate Std. Error t value             Pr(>|t|)    \n",
       "(Intercept) -0.08470    0.00575   -14.7         0.0000000048 ***\n",
       "od           1.06820    0.01258    84.9 < 0.0000000000000002 ***\n",
       "---\n",
       "Signif. codes:  0 ‘***’ 0.001 ‘**’ 0.01 ‘*’ 0.05 ‘.’ 0.1 ‘ ’ 1\n",
       "\n",
       "Residual standard error: 0.0149 on 12 degrees of freedom\n",
       "Multiple R-squared:  0.998,\tAdjusted R-squared:  0.998 \n",
       "F-statistic: 7.21e+03 on 1 and 12 DF,  p-value: <0.0000000000000002\n"
      ]
     },
     "metadata": {},
     "output_type": "display_data"
    }
   ],
   "source": [
    "# create linear standard curve \n",
    "# lm(target(y) ~ predictor(x))\n",
    "# normally concentration is predictor (x), absorbance is response variable (y)\n",
    "# but since we need to predict concentration, switching variables. since they are a linear relationship this should be fine. \n",
    "# SO: conc ~ od means absorbance is predictor (x) and concentration is response (y)\n",
    "hi_model <- lm(conc ~ od, data = hi_long)\n",
    "# view summary stats (R-squared)\n",
    "summary(hi_model)"
   ]
  },
  {
   "cell_type": "code",
   "execution_count": 309,
   "id": "1cbbbea7-b252-4171-a1f4-68f5f85207f4",
   "metadata": {},
   "outputs": [
    {
     "data": {
      "text/plain": [
       "\n",
       "Call:\n",
       "lm(formula = conc ~ avg_od, data = hi_long)\n",
       "\n",
       "Residuals:\n",
       "     Min       1Q   Median       3Q      Max \n",
       "-0.02173 -0.01375  0.00439  0.01172  0.01550 \n",
       "\n",
       "Coefficients:\n",
       "            Estimate Std. Error t value             Pr(>|t|)    \n",
       "(Intercept) -0.08472    0.00565   -15.0         0.0000000039 ***\n",
       "avg_od       1.06826    0.01236    86.5 < 0.0000000000000002 ***\n",
       "---\n",
       "Signif. codes:  0 ‘***’ 0.001 ‘**’ 0.01 ‘*’ 0.05 ‘.’ 0.1 ‘ ’ 1\n",
       "\n",
       "Residual standard error: 0.0147 on 12 degrees of freedom\n",
       "Multiple R-squared:  0.998,\tAdjusted R-squared:  0.998 \n",
       "F-statistic: 7.47e+03 on 1 and 12 DF,  p-value: <0.0000000000000002\n"
      ]
     },
     "metadata": {},
     "output_type": "display_data"
    }
   ],
   "source": [
    "## use the averages for the curve \n",
    "hi_avg_model <- lm(conc ~ avg_od, data = hi_long)\n",
    "summary(hi_avg_model)"
   ]
  },
  {
   "cell_type": "code",
   "execution_count": 310,
   "id": "78eb7b45-2f04-4277-b111-84d7d9f46d5c",
   "metadata": {},
   "outputs": [
    {
     "data": {
      "text/html": [
       "<table class=\"dataframe\">\n",
       "<caption>A data.frame: 2 × 2</caption>\n",
       "<thead>\n",
       "\t<tr><th></th><th scope=col>df</th><th scope=col>AIC</th></tr>\n",
       "\t<tr><th></th><th scope=col>&lt;dbl&gt;</th><th scope=col>&lt;dbl&gt;</th></tr>\n",
       "</thead>\n",
       "<tbody>\n",
       "\t<tr><th scope=row>hi_model</th><td>3</td><td>-74.180</td></tr>\n",
       "\t<tr><th scope=row>hi_avg_model</th><td>3</td><td>-74.679</td></tr>\n",
       "</tbody>\n",
       "</table>\n"
      ],
      "text/latex": [
       "A data.frame: 2 × 2\n",
       "\\begin{tabular}{r|ll}\n",
       "  & df & AIC\\\\\n",
       "  & <dbl> & <dbl>\\\\\n",
       "\\hline\n",
       "\thi\\_model & 3 & -74.180\\\\\n",
       "\thi\\_avg\\_model & 3 & -74.679\\\\\n",
       "\\end{tabular}\n"
      ],
      "text/markdown": [
       "\n",
       "A data.frame: 2 × 2\n",
       "\n",
       "| <!--/--> | df &lt;dbl&gt; | AIC &lt;dbl&gt; |\n",
       "|---|---|---|\n",
       "| hi_model | 3 | -74.180 |\n",
       "| hi_avg_model | 3 | -74.679 |\n",
       "\n"
      ],
      "text/plain": [
       "             df AIC    \n",
       "hi_model     3  -74.180\n",
       "hi_avg_model 3  -74.679"
      ]
     },
     "metadata": {},
     "output_type": "display_data"
    }
   ],
   "source": [
    "aic <- AIC(hi_model, hi_avg_model)\n",
    "aic\n",
    "# soo close for aic and r squared, so just use avg "
   ]
  },
  {
   "cell_type": "code",
   "execution_count": 311,
   "id": "206429c1-7af6-40e0-9908-f7dc906cbf76",
   "metadata": {},
   "outputs": [
    {
     "name": "stderr",
     "output_type": "stream",
     "text": [
      "\u001b[1m\u001b[22m`geom_smooth()` using formula = 'y ~ x'\n"
     ]
    },
    {
     "data": {
      "image/png": "[encoded data removed]",
      "text/plain": [
       "plot without title"
      ]
     },
     "metadata": {
      "image/png": {
       "height": 420,
       "width": 420
      }
     },
     "output_type": "display_data"
    }
   ],
   "source": [
    "# Plot the data with the regression line\n",
    "ggplot(hi_long, aes(x = od, y = conc, color = rep)) +\n",
    "       geom_point() +\n",
    "       geom_smooth(method = \"lm\", se = FALSE)"
   ]
  },
  {
   "cell_type": "code",
   "execution_count": 312,
   "id": "3cabb9c1-8043-4dd6-a84b-1ee1a0b111cd",
   "metadata": {},
   "outputs": [
    {
     "name": "stderr",
     "output_type": "stream",
     "text": [
      "\u001b[1m\u001b[22m`geom_smooth()` using formula = 'y ~ x'\n"
     ]
    },
    {
     "data": {
      "image/png": "[encoded data removed]",
      "text/plain": [
       "plot without title"
      ]
     },
     "metadata": {
      "image/png": {
       "height": 420,
       "width": 420
      }
     },
     "output_type": "display_data"
    }
   ],
   "source": [
    "ggplot(hi_long, aes(x = avg_od, y = conc)) + \n",
    "  geom_point() +  # Plot the average OD\n",
    "  geom_errorbarh(aes(xmin = avg_od - sd, xmax = avg_od + sd)) +  # Add horizontal error bars\n",
    "  geom_smooth(method = \"lm\", se = FALSE, linetype = \"solid\") +  # Add regression line\n",
    "  theme_minimal()"
   ]
  },
  {
   "cell_type": "markdown",
   "id": "0a17951b-6538-4efd-ac57-cd01c46621e2",
   "metadata": {},
   "source": [
    "### Combined "
   ]
  },
  {
   "cell_type": "code",
   "execution_count": 313,
   "id": "ea2048b6-6cc7-4caa-9170-5ca8908b7e0b",
   "metadata": {},
   "outputs": [
    {
     "data": {
      "text/html": [
       "<table class=\"dataframe\">\n",
       "<caption>A tibble: 6 × 6</caption>\n",
       "<thead>\n",
       "\t<tr><th scope=col>id</th><th scope=col>conc</th><th scope=col>avg_od</th><th scope=col>rep</th><th scope=col>od</th><th scope=col>sd</th></tr>\n",
       "\t<tr><th scope=col>&lt;chr&gt;</th><th scope=col>&lt;dbl&gt;</th><th scope=col>&lt;dbl&gt;</th><th scope=col>&lt;chr&gt;</th><th scope=col>&lt;dbl&gt;</th><th scope=col>&lt;dbl&gt;</th></tr>\n",
       "</thead>\n",
       "<tbody>\n",
       "\t<tr><td>Std 1</td><td>0.00</td><td>0.06755</td><td>od </td><td>0.0679</td><td>0.00049497</td></tr>\n",
       "\t<tr><td>Std 1</td><td>0.00</td><td>0.06755</td><td>od2</td><td>0.0672</td><td>0.00049497</td></tr>\n",
       "\t<tr><td>Std 2</td><td>0.02</td><td>0.08940</td><td>od </td><td>0.0891</td><td>0.00042426</td></tr>\n",
       "\t<tr><td>Std 2</td><td>0.02</td><td>0.08940</td><td>od2</td><td>0.0897</td><td>0.00042426</td></tr>\n",
       "\t<tr><td>Std 3</td><td>0.05</td><td>0.12200</td><td>od </td><td>0.1218</td><td>0.00028284</td></tr>\n",
       "\t<tr><td>Std 3</td><td>0.05</td><td>0.12200</td><td>od2</td><td>0.1222</td><td>0.00028284</td></tr>\n",
       "</tbody>\n",
       "</table>\n"
      ],
      "text/latex": [
       "A tibble: 6 × 6\n",
       "\\begin{tabular}{llllll}\n",
       " id & conc & avg\\_od & rep & od & sd\\\\\n",
       " <chr> & <dbl> & <dbl> & <chr> & <dbl> & <dbl>\\\\\n",
       "\\hline\n",
       "\t Std 1 & 0.00 & 0.06755 & od  & 0.0679 & 0.00049497\\\\\n",
       "\t Std 1 & 0.00 & 0.06755 & od2 & 0.0672 & 0.00049497\\\\\n",
       "\t Std 2 & 0.02 & 0.08940 & od  & 0.0891 & 0.00042426\\\\\n",
       "\t Std 2 & 0.02 & 0.08940 & od2 & 0.0897 & 0.00042426\\\\\n",
       "\t Std 3 & 0.05 & 0.12200 & od  & 0.1218 & 0.00028284\\\\\n",
       "\t Std 3 & 0.05 & 0.12200 & od2 & 0.1222 & 0.00028284\\\\\n",
       "\\end{tabular}\n"
      ],
      "text/markdown": [
       "\n",
       "A tibble: 6 × 6\n",
       "\n",
       "| id &lt;chr&gt; | conc &lt;dbl&gt; | avg_od &lt;dbl&gt; | rep &lt;chr&gt; | od &lt;dbl&gt; | sd &lt;dbl&gt; |\n",
       "|---|---|---|---|---|---|\n",
       "| Std 1 | 0.00 | 0.06755 | od  | 0.0679 | 0.00049497 |\n",
       "| Std 1 | 0.00 | 0.06755 | od2 | 0.0672 | 0.00049497 |\n",
       "| Std 2 | 0.02 | 0.08940 | od  | 0.0891 | 0.00042426 |\n",
       "| Std 2 | 0.02 | 0.08940 | od2 | 0.0897 | 0.00042426 |\n",
       "| Std 3 | 0.05 | 0.12200 | od  | 0.1218 | 0.00028284 |\n",
       "| Std 3 | 0.05 | 0.12200 | od2 | 0.1222 | 0.00028284 |\n",
       "\n"
      ],
      "text/plain": [
       "  id    conc avg_od  rep od     sd        \n",
       "1 Std 1 0.00 0.06755 od  0.0679 0.00049497\n",
       "2 Std 1 0.00 0.06755 od2 0.0672 0.00049497\n",
       "3 Std 2 0.02 0.08940 od  0.0891 0.00042426\n",
       "4 Std 2 0.02 0.08940 od2 0.0897 0.00042426\n",
       "5 Std 3 0.05 0.12200 od  0.1218 0.00028284\n",
       "6 Std 3 0.05 0.12200 od2 0.1222 0.00028284"
      ]
     },
     "metadata": {},
     "output_type": "display_data"
    }
   ],
   "source": [
    "# merge rows \n",
    "stnds<-bind_rows(hi_long, low_long)\n",
    "\n",
    "head(stnds)"
   ]
  },
  {
   "cell_type": "code",
   "execution_count": 314,
   "id": "aaa43818-1be8-42ee-9ccf-4ce0903eb30e",
   "metadata": {},
   "outputs": [],
   "source": [
    "# recalculate averages \n",
    "stnds<-stnds %>% \n",
    "    group_by(conc) %>% \n",
    "        mutate(avg_od = mean(od))"
   ]
  },
  {
   "cell_type": "code",
   "execution_count": 315,
   "id": "9a4f2181-e6d0-4ac8-b8e6-59841e23cee7",
   "metadata": {},
   "outputs": [
    {
     "data": {
      "text/plain": [
       "\n",
       "Call:\n",
       "lm(formula = conc ~ od, data = stnds)\n",
       "\n",
       "Residuals:\n",
       "     Min       1Q   Median       3Q      Max \n",
       "-0.02421 -0.00107  0.00166  0.00324  0.02483 \n",
       "\n",
       "Coefficients:\n",
       "            Estimate Std. Error t value            Pr(>|t|)    \n",
       "(Intercept) -0.07755    0.00162   -47.8 <0.0000000000000002 ***\n",
       "od           1.05833    0.00615   172.0 <0.0000000000000002 ***\n",
       "---\n",
       "Signif. codes:  0 ‘***’ 0.001 ‘**’ 0.01 ‘*’ 0.05 ‘.’ 0.1 ‘ ’ 1\n",
       "\n",
       "Residual standard error: 0.00864 on 44 degrees of freedom\n",
       "Multiple R-squared:  0.999,\tAdjusted R-squared:  0.998 \n",
       "F-statistic: 2.96e+04 on 1 and 44 DF,  p-value: <0.0000000000000002\n"
      ]
     },
     "metadata": {},
     "output_type": "display_data"
    }
   ],
   "source": [
    "# create linear standard curve \n",
    "# lm(target(y) ~ predictor(x))\n",
    "# normally concentration is predictor (x), absorbance is response variable (y)\n",
    "# but since we need to predict concentration, switcstndsng variables. since they are a linear relationsstndsp tstndss should be fine. \n",
    "# SO: conc ~ od means absorbance is predictor (x) and concentration is response (y)\n",
    "stnds_model <- lm(conc ~ od, data = stnds)\n",
    "# view summary stats (R-squared)\n",
    "summary(stnds_model)"
   ]
  },
  {
   "cell_type": "code",
   "execution_count": 316,
   "id": "4a619c7a-7815-4acf-810b-0ae4bc7eba31",
   "metadata": {},
   "outputs": [
    {
     "data": {
      "text/plain": [
       "\n",
       "Call:\n",
       "lm(formula = conc ~ avg_od, data = stnds)\n",
       "\n",
       "Residuals:\n",
       "     Min       1Q   Median       3Q      Max \n",
       "-0.02330 -0.00105  0.00167  0.00328  0.01819 \n",
       "\n",
       "Coefficients:\n",
       "            Estimate Std. Error t value            Pr(>|t|)    \n",
       "(Intercept) -0.07757    0.00157   -49.3 <0.0000000000000002 ***\n",
       "avg_od       1.05842    0.00597   177.2 <0.0000000000000002 ***\n",
       "---\n",
       "Signif. codes:  0 ‘***’ 0.001 ‘**’ 0.01 ‘*’ 0.05 ‘.’ 0.1 ‘ ’ 1\n",
       "\n",
       "Residual standard error: 0.00839 on 44 degrees of freedom\n",
       "Multiple R-squared:  0.999,\tAdjusted R-squared:  0.999 \n",
       "F-statistic: 3.14e+04 on 1 and 44 DF,  p-value: <0.0000000000000002\n"
      ]
     },
     "metadata": {},
     "output_type": "display_data"
    }
   ],
   "source": [
    "## use the averages for the curve \n",
    "stnds_avg_model <- lm(conc ~ avg_od, data = stnds)\n",
    "summary(stnds_avg_model)"
   ]
  },
  {
   "cell_type": "code",
   "execution_count": 317,
   "id": "a65ae64e-459d-49bd-8f34-aea0c77ff0df",
   "metadata": {},
   "outputs": [
    {
     "name": "stderr",
     "output_type": "stream",
     "text": [
      "\u001b[1m\u001b[22m`geom_smooth()` using formula = 'y ~ x'\n"
     ]
    },
    {
     "data": {
      "image/png": "[encoded data removed]",
      "text/plain": [
       "plot without title"
      ]
     },
     "metadata": {
      "image/png": {
       "height": 420,
       "width": 420
      }
     },
     "output_type": "display_data"
    }
   ],
   "source": [
    "# Plot the data with the regression line\n",
    "ggplot(stnds, aes(x = od, y = conc, color = rep)) +\n",
    "       geom_point() +\n",
    "       geom_smooth(method = \"lm\", se = FALSE)"
   ]
  },
  {
   "cell_type": "code",
   "execution_count": 318,
   "id": "4ced40a0-f5f4-410b-a5b8-8ebcff276455",
   "metadata": {},
   "outputs": [
    {
     "name": "stderr",
     "output_type": "stream",
     "text": [
      "\u001b[1m\u001b[22m`geom_smooth()` using formula = 'y ~ x'\n"
     ]
    },
    {
     "data": {
      "image/png": "[encoded data removed]",
      "text/plain": [
       "plot without title"
      ]
     },
     "metadata": {
      "image/png": {
       "height": 420,
       "width": 420
      }
     },
     "output_type": "display_data"
    }
   ],
   "source": [
    "ggplot(hi_long, aes(x = avg_od, y = conc)) + \n",
    "  geom_point() +  # Plot the average OD\n",
    "  geom_errorbarh(aes(xmin = avg_od - sd, xmax = avg_od + sd)) +  # Add horizontal error bars\n",
    "  geom_smooth(method = \"lm\", se = FALSE, linetype = \"solid\") +  # Add regression line\n",
    "  theme_minimal()"
   ]
  },
  {
   "cell_type": "code",
   "execution_count": 319,
   "id": "139f5671-8ec7-419f-9796-14647235c0bc",
   "metadata": {},
   "outputs": [
    {
     "name": "stderr",
     "output_type": "stream",
     "text": [
      "Warning message in AIC.default(stnds_model, stnds_avg_model, hi_model, hi_avg_model, :\n",
      "“models are not all fitted to the same number of observations”\n"
     ]
    },
    {
     "data": {
      "text/html": [
       "<table class=\"dataframe\">\n",
       "<caption>A data.frame: 6 × 2</caption>\n",
       "<thead>\n",
       "\t<tr><th></th><th scope=col>df</th><th scope=col>AIC</th></tr>\n",
       "\t<tr><th></th><th scope=col>&lt;dbl&gt;</th><th scope=col>&lt;dbl&gt;</th></tr>\n",
       "</thead>\n",
       "<tbody>\n",
       "\t<tr><th scope=row>stnds_model</th><td>3</td><td>-302.595</td></tr>\n",
       "\t<tr><th scope=row>stnds_avg_model</th><td>3</td><td>-305.327</td></tr>\n",
       "\t<tr><th scope=row>hi_model</th><td>3</td><td> -74.180</td></tr>\n",
       "\t<tr><th scope=row>hi_avg_model</th><td>3</td><td> -74.679</td></tr>\n",
       "\t<tr><th scope=row>low_model</th><td>3</td><td>-306.508</td></tr>\n",
       "\t<tr><th scope=row>low_avg_model</th><td>3</td><td>-348.104</td></tr>\n",
       "</tbody>\n",
       "</table>\n"
      ],
      "text/latex": [
       "A data.frame: 6 × 2\n",
       "\\begin{tabular}{r|ll}\n",
       "  & df & AIC\\\\\n",
       "  & <dbl> & <dbl>\\\\\n",
       "\\hline\n",
       "\tstnds\\_model & 3 & -302.595\\\\\n",
       "\tstnds\\_avg\\_model & 3 & -305.327\\\\\n",
       "\thi\\_model & 3 &  -74.180\\\\\n",
       "\thi\\_avg\\_model & 3 &  -74.679\\\\\n",
       "\tlow\\_model & 3 & -306.508\\\\\n",
       "\tlow\\_avg\\_model & 3 & -348.104\\\\\n",
       "\\end{tabular}\n"
      ],
      "text/markdown": [
       "\n",
       "A data.frame: 6 × 2\n",
       "\n",
       "| <!--/--> | df &lt;dbl&gt; | AIC &lt;dbl&gt; |\n",
       "|---|---|---|\n",
       "| stnds_model | 3 | -302.595 |\n",
       "| stnds_avg_model | 3 | -305.327 |\n",
       "| hi_model | 3 |  -74.180 |\n",
       "| hi_avg_model | 3 |  -74.679 |\n",
       "| low_model | 3 | -306.508 |\n",
       "| low_avg_model | 3 | -348.104 |\n",
       "\n"
      ],
      "text/plain": [
       "                df AIC     \n",
       "stnds_model     3  -302.595\n",
       "stnds_avg_model 3  -305.327\n",
       "hi_model        3   -74.180\n",
       "hi_avg_model    3   -74.679\n",
       "low_model       3  -306.508\n",
       "low_avg_model   3  -348.104"
      ]
     },
     "metadata": {},
     "output_type": "display_data"
    }
   ],
   "source": [
    "aic <- AIC(stnds_model, stnds_avg_model, hi_model, hi_avg_model, low_model, low_avg_model)\n",
    "aic\n",
    "# yay combined is better than low model alone\n",
    "# using avg since thats what typically is used and the adjusted r squared is 0.999"
   ]
  },
  {
   "cell_type": "markdown",
   "id": "8687fa6e-2500-4105-9ded-aafdea1feff6",
   "metadata": {},
   "source": [
    "## Samples and QC from curves"
   ]
  },
  {
   "cell_type": "markdown",
   "id": "247b73b1-8a43-446c-a195-d71f1549cfdf",
   "metadata": {},
   "source": [
    "### add data "
   ]
  },
  {
   "cell_type": "code",
   "execution_count": 320,
   "id": "5140f5ab-0abf-4d15-8946-19530b21dfdf",
   "metadata": {},
   "outputs": [],
   "source": [
    "# pull out sample data (samples, QCs, blanks) and use stnd curve to calculate concentrations"
   ]
  },
  {
   "cell_type": "code",
   "execution_count": 321,
   "id": "5ceca172-345e-4556-b409-028a6ba70086",
   "metadata": {},
   "outputs": [
    {
     "data": {
      "text/html": [
       "<table class=\"dataframe\">\n",
       "<caption>A data.frame: 2 × 2</caption>\n",
       "<thead>\n",
       "\t<tr><th></th><th scope=col>1</th><th scope=col>sample</th></tr>\n",
       "\t<tr><th></th><th scope=col>&lt;dbl&gt;</th><th scope=col>&lt;chr&gt;</th></tr>\n",
       "</thead>\n",
       "<tbody>\n",
       "\t<tr><th scope=row>g</th><td>0.2912</td><td>dispk_q2</td></tr>\n",
       "\t<tr><th scope=row>h</th><td>0.4885</td><td>dispk_q1</td></tr>\n",
       "</tbody>\n",
       "</table>\n"
      ],
      "text/latex": [
       "A data.frame: 2 × 2\n",
       "\\begin{tabular}{r|ll}\n",
       "  & 1 & sample\\\\\n",
       "  & <dbl> & <chr>\\\\\n",
       "\\hline\n",
       "\tg & 0.2912 & dispk\\_q2\\\\\n",
       "\th & 0.4885 & dispk\\_q1\\\\\n",
       "\\end{tabular}\n"
      ],
      "text/markdown": [
       "\n",
       "A data.frame: 2 × 2\n",
       "\n",
       "| <!--/--> | 1 &lt;dbl&gt; | sample &lt;chr&gt; |\n",
       "|---|---|---|\n",
       "| g | 0.2912 | dispk_q2 |\n",
       "| h | 0.4885 | dispk_q1 |\n",
       "\n"
      ],
      "text/plain": [
       "  1      sample  \n",
       "g 0.2912 dispk_q2\n",
       "h 0.4885 dispk_q1"
      ]
     },
     "metadata": {},
     "output_type": "display_data"
    },
    {
     "data": {
      "text/html": [
       "<table class=\"dataframe\">\n",
       "<caption>A tibble: 6 × 3</caption>\n",
       "<thead>\n",
       "\t<tr><th scope=col>sample</th><th scope=col>rep</th><th scope=col>od</th></tr>\n",
       "\t<tr><th scope=col>&lt;chr&gt;</th><th scope=col>&lt;chr&gt;</th><th scope=col>&lt;dbl&gt;</th></tr>\n",
       "</thead>\n",
       "<tbody>\n",
       "\t<tr><td>s123</td><td>1</td><td>0.0767</td></tr>\n",
       "\t<tr><td>s123</td><td>2</td><td>0.0752</td></tr>\n",
       "\t<tr><td>s123</td><td>3</td><td>0.0773</td></tr>\n",
       "\t<tr><td>s123</td><td>1</td><td>0.0860</td></tr>\n",
       "\t<tr><td>s123</td><td>2</td><td>0.0789</td></tr>\n",
       "\t<tr><td>s123</td><td>3</td><td>0.0836</td></tr>\n",
       "</tbody>\n",
       "</table>\n"
      ],
      "text/latex": [
       "A tibble: 6 × 3\n",
       "\\begin{tabular}{lll}\n",
       " sample & rep & od\\\\\n",
       " <chr> & <chr> & <dbl>\\\\\n",
       "\\hline\n",
       "\t s123 & 1 & 0.0767\\\\\n",
       "\t s123 & 2 & 0.0752\\\\\n",
       "\t s123 & 3 & 0.0773\\\\\n",
       "\t s123 & 1 & 0.0860\\\\\n",
       "\t s123 & 2 & 0.0789\\\\\n",
       "\t s123 & 3 & 0.0836\\\\\n",
       "\\end{tabular}\n"
      ],
      "text/markdown": [
       "\n",
       "A tibble: 6 × 3\n",
       "\n",
       "| sample &lt;chr&gt; | rep &lt;chr&gt; | od &lt;dbl&gt; |\n",
       "|---|---|---|\n",
       "| s123 | 1 | 0.0767 |\n",
       "| s123 | 2 | 0.0752 |\n",
       "| s123 | 3 | 0.0773 |\n",
       "| s123 | 1 | 0.0860 |\n",
       "| s123 | 2 | 0.0789 |\n",
       "| s123 | 3 | 0.0836 |\n",
       "\n"
      ],
      "text/plain": [
       "  sample rep od    \n",
       "1 s123   1   0.0767\n",
       "2 s123   2   0.0752\n",
       "3 s123   3   0.0773\n",
       "4 s123   1   0.0860\n",
       "5 s123   2   0.0789\n",
       "6 s123   3   0.0836"
      ]
     },
     "metadata": {},
     "output_type": "display_data"
    }
   ],
   "source": [
    "# samples\n",
    "#S123: C & D 1-3 \n",
    "#S159: C & D 4-6\n",
    "\n",
    "s123 <- raw[c(\"c\", \"d\"),1:3] %>%\n",
    "    mutate(sample = 's123')\n",
    "s159 <- raw[c(\"c\", \"d\"),4:6] %>% \n",
    "    mutate(sample = 's159') \n",
    "# rename cols to match \n",
    "names(s159) <- c(1,2,3,'sample')\n",
    "\n",
    "#spiked samples\n",
    "#S123: g 9:11\n",
    "#S159: h 9:11\n",
    "#blanks: g,h 12\n",
    "\n",
    "s123spk <- raw[\"g\",9:11] %>%\n",
    "    mutate(sample = 's123spk')\n",
    "names(s123spk) <- c(1,2,3,'sample')\n",
    "\n",
    "s159spk <- raw[\"h\",9:11] %>%\n",
    "    mutate(sample = 's159spk')\n",
    "names(s159spk) <- c(1,2,3,'sample')\n",
    "\n",
    "dispk <- raw[c(\"g\", \"h\"), 12, drop = FALSE] %>%\n",
    "  mutate(sample = c(\"dispk_q2\",\"dispk_q1\")) \n",
    "names(dispk) <- c(1,'sample')\n",
    "dispk\n",
    "\n",
    "# combine and pivot\n",
    "samples <- rbind(s123, s159) \n",
    "samples <- rbind(samples, s123spk)\n",
    "samples <- rbind(samples, s159spk) %>%\n",
    "    pivot_longer(cols = 1:3,\n",
    "                names_to = 'rep',\n",
    "                 values_to = 'od')\n",
    "head(samples)"
   ]
  },
  {
   "cell_type": "code",
   "execution_count": 322,
   "id": "94aa7012-91c2-46e8-8a62-28265f01e8c4",
   "metadata": {
    "scrolled": true
   },
   "outputs": [
    {
     "data": {
      "text/html": [
       "<table class=\"dataframe\">\n",
       "<caption>A data.frame: 6 × 3</caption>\n",
       "<thead>\n",
       "\t<tr><th></th><th scope=col>rep</th><th scope=col>od</th><th scope=col>sample</th></tr>\n",
       "\t<tr><th></th><th scope=col>&lt;dbl&gt;</th><th scope=col>&lt;dbl&gt;</th><th scope=col>&lt;chr&gt;</th></tr>\n",
       "</thead>\n",
       "<tbody>\n",
       "\t<tr><th scope=row>1</th><td>1</td><td>0.8543</td><td>qc1</td></tr>\n",
       "\t<tr><th scope=row>2</th><td>2</td><td>0.8750</td><td>qc1</td></tr>\n",
       "\t<tr><th scope=row>3</th><td>3</td><td>0.8594</td><td>qc1</td></tr>\n",
       "\t<tr><th scope=row>4</th><td>4</td><td>0.8670</td><td>qc1</td></tr>\n",
       "\t<tr><th scope=row>5</th><td>5</td><td>0.8734</td><td>qc1</td></tr>\n",
       "\t<tr><th scope=row>6</th><td>1</td><td>0.4853</td><td>qc2</td></tr>\n",
       "</tbody>\n",
       "</table>\n"
      ],
      "text/latex": [
       "A data.frame: 6 × 3\n",
       "\\begin{tabular}{r|lll}\n",
       "  & rep & od & sample\\\\\n",
       "  & <dbl> & <dbl> & <chr>\\\\\n",
       "\\hline\n",
       "\t1 & 1 & 0.8543 & qc1\\\\\n",
       "\t2 & 2 & 0.8750 & qc1\\\\\n",
       "\t3 & 3 & 0.8594 & qc1\\\\\n",
       "\t4 & 4 & 0.8670 & qc1\\\\\n",
       "\t5 & 5 & 0.8734 & qc1\\\\\n",
       "\t6 & 1 & 0.4853 & qc2\\\\\n",
       "\\end{tabular}\n"
      ],
      "text/markdown": [
       "\n",
       "A data.frame: 6 × 3\n",
       "\n",
       "| <!--/--> | rep &lt;dbl&gt; | od &lt;dbl&gt; | sample &lt;chr&gt; |\n",
       "|---|---|---|---|\n",
       "| 1 | 1 | 0.8543 | qc1 |\n",
       "| 2 | 2 | 0.8750 | qc1 |\n",
       "| 3 | 3 | 0.8594 | qc1 |\n",
       "| 4 | 4 | 0.8670 | qc1 |\n",
       "| 5 | 5 | 0.8734 | qc1 |\n",
       "| 6 | 1 | 0.4853 | qc2 |\n",
       "\n"
      ],
      "text/plain": [
       "  rep od     sample\n",
       "1 1   0.8543 qc1   \n",
       "2 2   0.8750 qc1   \n",
       "3 3   0.8594 qc1   \n",
       "4 4   0.8670 qc1   \n",
       "5 5   0.8734 qc1   \n",
       "6 1   0.4853 qc2   "
      ]
     },
     "metadata": {},
     "output_type": "display_data"
    }
   ],
   "source": [
    "# QC1 (1ppm): A,B,E,F 9 & C7 \n",
    "# QC2 (0.5 ppm): A,B,E,F 10 & D7 \n",
    "# QC3 (0.05 ppm): A,B,E,F 11 & C8\n",
    "# QC4 (0.005 ppm): A,B,E,F 12 & D8\n",
    "\n",
    "qc1 <- data.frame(\n",
    "  rep = c(1, 2, 3, 4, 5), # Replicate numbers\n",
    "  od = c(raw[\"a\", 9], raw[\"b\", 9], raw[\"e\", 9], raw[\"f\", 9], raw[\"c\", 7]), # Extract specific values\n",
    "  sample = \"qc1\"\n",
    ")\n",
    "\n",
    "qc2 <- data.frame(\n",
    "  rep = c(1, 2, 3, 4, 5),\n",
    "  od = c(raw[\"a\", 10], raw[\"b\", 10], raw[\"e\", 10], raw[\"f\", 10], raw[\"d\", 7]),\n",
    "  sample = \"qc2\" \n",
    ")\n",
    "\n",
    "qc3 <- data.frame(\n",
    "  rep = c(1, 2, 3, 4, 5), \n",
    "  od = c(raw[\"a\", 11], raw[\"b\", 11], raw[\"e\", 11], raw[\"f\", 11], raw[\"c\", 8]), \n",
    "  sample = \"qc3\" \n",
    ")\n",
    "\n",
    "qc4 <- data.frame(\n",
    "  rep = c(1, 2, 3, 4, 5), \n",
    "  od = c(raw[\"a\", 12], raw[\"b\", 12], raw[\"e\", 12], raw[\"f\", 12], raw[\"d\", 8]), \n",
    "  sample = \"qc4\" \n",
    ")\n",
    "\n",
    "# Combine\n",
    "qc_long <- bind_rows(qc1, qc2, qc3, qc4)\n",
    "head(qc_long)"
   ]
  },
  {
   "cell_type": "code",
   "execution_count": 323,
   "id": "7d9de043-d70a-414c-b0a2-d51fb8f9e07a",
   "metadata": {},
   "outputs": [
    {
     "data": {
      "text/html": [
       "<table class=\"dataframe\">\n",
       "<caption>A data.frame: 6 × 3</caption>\n",
       "<thead>\n",
       "\t<tr><th></th><th scope=col>rep</th><th scope=col>od</th><th scope=col>sample</th></tr>\n",
       "\t<tr><th></th><th scope=col>&lt;int&gt;</th><th scope=col>&lt;dbl&gt;</th><th scope=col>&lt;chr&gt;</th></tr>\n",
       "</thead>\n",
       "<tbody>\n",
       "\t<tr><th scope=row>1</th><td>1</td><td>0.0676</td><td>di_blank    </td></tr>\n",
       "\t<tr><th scope=row>2</th><td>2</td><td>0.0664</td><td>di_blank    </td></tr>\n",
       "\t<tr><th scope=row>3</th><td>3</td><td>0.0693</td><td>di_blank    </td></tr>\n",
       "\t<tr><th scope=row>4</th><td>4</td><td>0.0735</td><td>di_blank    </td></tr>\n",
       "\t<tr><th scope=row>5</th><td>1</td><td>0.0719</td><td>filter_blank</td></tr>\n",
       "\t<tr><th scope=row>6</th><td>2</td><td>0.0709</td><td>filter_blank</td></tr>\n",
       "</tbody>\n",
       "</table>\n"
      ],
      "text/latex": [
       "A data.frame: 6 × 3\n",
       "\\begin{tabular}{r|lll}\n",
       "  & rep & od & sample\\\\\n",
       "  & <int> & <dbl> & <chr>\\\\\n",
       "\\hline\n",
       "\t1 & 1 & 0.0676 & di\\_blank    \\\\\n",
       "\t2 & 2 & 0.0664 & di\\_blank    \\\\\n",
       "\t3 & 3 & 0.0693 & di\\_blank    \\\\\n",
       "\t4 & 4 & 0.0735 & di\\_blank    \\\\\n",
       "\t5 & 1 & 0.0719 & filter\\_blank\\\\\n",
       "\t6 & 2 & 0.0709 & filter\\_blank\\\\\n",
       "\\end{tabular}\n"
      ],
      "text/markdown": [
       "\n",
       "A data.frame: 6 × 3\n",
       "\n",
       "| <!--/--> | rep &lt;int&gt; | od &lt;dbl&gt; | sample &lt;chr&gt; |\n",
       "|---|---|---|---|\n",
       "| 1 | 1 | 0.0676 | di_blank     |\n",
       "| 2 | 2 | 0.0664 | di_blank     |\n",
       "| 3 | 3 | 0.0693 | di_blank     |\n",
       "| 4 | 4 | 0.0735 | di_blank     |\n",
       "| 5 | 1 | 0.0719 | filter_blank |\n",
       "| 6 | 2 | 0.0709 | filter_blank |\n",
       "\n"
      ],
      "text/plain": [
       "  rep od     sample      \n",
       "1 1   0.0676 di_blank    \n",
       "2 2   0.0664 di_blank    \n",
       "3 3   0.0693 di_blank    \n",
       "4 4   0.0735 di_blank    \n",
       "5 1   0.0719 filter_blank\n",
       "6 2   0.0709 filter_blank"
      ]
     },
     "metadata": {},
     "output_type": "display_data"
    }
   ],
   "source": [
    "# di blanks \n",
    "# B,F 8\n",
    "# C,D 12\n",
    "di <- data.frame(\n",
    "  rep = c(seq(1:4)), # Replicate numbers\n",
    "  od = c(raw[\"b\", 8], raw[\"f\", 8], \n",
    "         raw[\"c\", 12], raw[\"d\", 12]),\n",
    "  sample = \"di_blank\"\n",
    ")\n",
    "\n",
    "# filter blanks \n",
    "# c,d 9:11\n",
    "blank <- data.frame(\n",
    "  rep = c(seq(1:6)), # Replicate numbers\n",
    "  od = c(raw[\"c\", 9], raw[\"c\", 10], raw[\"c\", 11], \n",
    "         raw[\"d\", 9], raw[\"d\", 10], raw[\"d\", 11]),\n",
    "  sample = \"filter_blank\"\n",
    ")\n",
    "\n",
    "# combine \n",
    "blanks<-bind_rows(di,blank)\n",
    "head(blanks)"
   ]
  },
  {
   "cell_type": "code",
   "execution_count": 324,
   "id": "12b68a12-ca1e-4873-9454-3726a3ddb03b",
   "metadata": {
    "scrolled": true
   },
   "outputs": [],
   "source": [
    "samples<-rbind(samples, qc_long)\n",
    "samples<-rbind(samples, blanks)"
   ]
  },
  {
   "cell_type": "code",
   "execution_count": 325,
   "id": "c5607a82-2d17-4de7-b2ca-0400e6bfa1a2",
   "metadata": {
    "scrolled": true
   },
   "outputs": [
    {
     "data": {
      "text/html": [
       "<table class=\"dataframe\">\n",
       "<caption>A tibble: 48 × 5</caption>\n",
       "<thead>\n",
       "\t<tr><th scope=col>sample</th><th scope=col>rep</th><th scope=col>od</th><th scope=col>avg_od</th><th scope=col>sd_od</th></tr>\n",
       "\t<tr><th scope=col>&lt;chr&gt;</th><th scope=col>&lt;chr&gt;</th><th scope=col>&lt;dbl&gt;</th><th scope=col>&lt;dbl&gt;</th><th scope=col>&lt;dbl&gt;</th></tr>\n",
       "</thead>\n",
       "<tbody>\n",
       "\t<tr><td>s123        </td><td>1</td><td>0.0767</td><td>0.079617</td><td>0.00425461</td></tr>\n",
       "\t<tr><td>s123        </td><td>2</td><td>0.0752</td><td>0.079617</td><td>0.00425461</td></tr>\n",
       "\t<tr><td>s123        </td><td>3</td><td>0.0773</td><td>0.079617</td><td>0.00425461</td></tr>\n",
       "\t<tr><td>s123        </td><td>1</td><td>0.0860</td><td>0.079617</td><td>0.00425461</td></tr>\n",
       "\t<tr><td>s123        </td><td>2</td><td>0.0789</td><td>0.079617</td><td>0.00425461</td></tr>\n",
       "\t<tr><td>s123        </td><td>3</td><td>0.0836</td><td>0.079617</td><td>0.00425461</td></tr>\n",
       "\t<tr><td>s159        </td><td>1</td><td>0.0762</td><td>0.089700</td><td>0.01933877</td></tr>\n",
       "\t<tr><td>s159        </td><td>2</td><td>0.0751</td><td>0.089700</td><td>0.01933877</td></tr>\n",
       "\t<tr><td>s159        </td><td>3</td><td>0.1259</td><td>0.089700</td><td>0.01933877</td></tr>\n",
       "\t<tr><td>s159        </td><td>1</td><td>0.0845</td><td>0.089700</td><td>0.01933877</td></tr>\n",
       "\t<tr><td>s159        </td><td>2</td><td>0.0964</td><td>0.089700</td><td>0.01933877</td></tr>\n",
       "\t<tr><td>s159        </td><td>3</td><td>0.0801</td><td>0.089700</td><td>0.01933877</td></tr>\n",
       "\t<tr><td>s123spk     </td><td>1</td><td>0.2929</td><td>0.291500</td><td>0.00127671</td></tr>\n",
       "\t<tr><td>s123spk     </td><td>2</td><td>0.2904</td><td>0.291500</td><td>0.00127671</td></tr>\n",
       "\t<tr><td>s123spk     </td><td>3</td><td>0.2912</td><td>0.291500</td><td>0.00127671</td></tr>\n",
       "\t<tr><td>s159spk     </td><td>1</td><td>0.4866</td><td>0.486500</td><td>0.00055678</td></tr>\n",
       "\t<tr><td>s159spk     </td><td>2</td><td>0.4859</td><td>0.486500</td><td>0.00055678</td></tr>\n",
       "\t<tr><td>s159spk     </td><td>3</td><td>0.4870</td><td>0.486500</td><td>0.00055678</td></tr>\n",
       "\t<tr><td>qc1         </td><td>1</td><td>0.8543</td><td>0.865820</td><td>0.00890292</td></tr>\n",
       "\t<tr><td>qc1         </td><td>2</td><td>0.8750</td><td>0.865820</td><td>0.00890292</td></tr>\n",
       "\t<tr><td>qc1         </td><td>3</td><td>0.8594</td><td>0.865820</td><td>0.00890292</td></tr>\n",
       "\t<tr><td>qc1         </td><td>4</td><td>0.8670</td><td>0.865820</td><td>0.00890292</td></tr>\n",
       "\t<tr><td>qc1         </td><td>5</td><td>0.8734</td><td>0.865820</td><td>0.00890292</td></tr>\n",
       "\t<tr><td>qc2         </td><td>1</td><td>0.4853</td><td>0.493740</td><td>0.00574569</td></tr>\n",
       "\t<tr><td>qc2         </td><td>2</td><td>0.4912</td><td>0.493740</td><td>0.00574569</td></tr>\n",
       "\t<tr><td>qc2         </td><td>3</td><td>0.4971</td><td>0.493740</td><td>0.00574569</td></tr>\n",
       "\t<tr><td>qc2         </td><td>4</td><td>0.4949</td><td>0.493740</td><td>0.00574569</td></tr>\n",
       "\t<tr><td>qc2         </td><td>5</td><td>0.5002</td><td>0.493740</td><td>0.00574569</td></tr>\n",
       "\t<tr><td>qc3         </td><td>1</td><td>0.1132</td><td>0.109680</td><td>0.00685471</td></tr>\n",
       "\t<tr><td>qc3         </td><td>2</td><td>0.1115</td><td>0.109680</td><td>0.00685471</td></tr>\n",
       "\t<tr><td>qc3         </td><td>3</td><td>0.0975</td><td>0.109680</td><td>0.00685471</td></tr>\n",
       "\t<tr><td>qc3         </td><td>4</td><td>0.1126</td><td>0.109680</td><td>0.00685471</td></tr>\n",
       "\t<tr><td>qc3         </td><td>5</td><td>0.1136</td><td>0.109680</td><td>0.00685471</td></tr>\n",
       "\t<tr><td>qc4         </td><td>1</td><td>0.0712</td><td>0.073340</td><td>0.00278173</td></tr>\n",
       "\t<tr><td>qc4         </td><td>2</td><td>0.0714</td><td>0.073340</td><td>0.00278173</td></tr>\n",
       "\t<tr><td>qc4         </td><td>3</td><td>0.0751</td><td>0.073340</td><td>0.00278173</td></tr>\n",
       "\t<tr><td>qc4         </td><td>4</td><td>0.0716</td><td>0.073340</td><td>0.00278173</td></tr>\n",
       "\t<tr><td>qc4         </td><td>5</td><td>0.0774</td><td>0.073340</td><td>0.00278173</td></tr>\n",
       "\t<tr><td>di_blank    </td><td>1</td><td>0.0676</td><td>0.069200</td><td>0.00310376</td></tr>\n",
       "\t<tr><td>di_blank    </td><td>2</td><td>0.0664</td><td>0.069200</td><td>0.00310376</td></tr>\n",
       "\t<tr><td>di_blank    </td><td>3</td><td>0.0693</td><td>0.069200</td><td>0.00310376</td></tr>\n",
       "\t<tr><td>di_blank    </td><td>4</td><td>0.0735</td><td>0.069200</td><td>0.00310376</td></tr>\n",
       "\t<tr><td>filter_blank</td><td>1</td><td>0.0719</td><td>0.073617</td><td>0.00318523</td></tr>\n",
       "\t<tr><td>filter_blank</td><td>2</td><td>0.0709</td><td>0.073617</td><td>0.00318523</td></tr>\n",
       "\t<tr><td>filter_blank</td><td>3</td><td>0.0697</td><td>0.073617</td><td>0.00318523</td></tr>\n",
       "\t<tr><td>filter_blank</td><td>4</td><td>0.0753</td><td>0.073617</td><td>0.00318523</td></tr>\n",
       "\t<tr><td>filter_blank</td><td>5</td><td>0.0770</td><td>0.073617</td><td>0.00318523</td></tr>\n",
       "\t<tr><td>filter_blank</td><td>6</td><td>0.0769</td><td>0.073617</td><td>0.00318523</td></tr>\n",
       "</tbody>\n",
       "</table>\n"
      ],
      "text/latex": [
       "A tibble: 48 × 5\n",
       "\\begin{tabular}{lllll}\n",
       " sample & rep & od & avg\\_od & sd\\_od\\\\\n",
       " <chr> & <chr> & <dbl> & <dbl> & <dbl>\\\\\n",
       "\\hline\n",
       "\t s123         & 1 & 0.0767 & 0.079617 & 0.00425461\\\\\n",
       "\t s123         & 2 & 0.0752 & 0.079617 & 0.00425461\\\\\n",
       "\t s123         & 3 & 0.0773 & 0.079617 & 0.00425461\\\\\n",
       "\t s123         & 1 & 0.0860 & 0.079617 & 0.00425461\\\\\n",
       "\t s123         & 2 & 0.0789 & 0.079617 & 0.00425461\\\\\n",
       "\t s123         & 3 & 0.0836 & 0.079617 & 0.00425461\\\\\n",
       "\t s159         & 1 & 0.0762 & 0.089700 & 0.01933877\\\\\n",
       "\t s159         & 2 & 0.0751 & 0.089700 & 0.01933877\\\\\n",
       "\t s159         & 3 & 0.1259 & 0.089700 & 0.01933877\\\\\n",
       "\t s159         & 1 & 0.0845 & 0.089700 & 0.01933877\\\\\n",
       "\t s159         & 2 & 0.0964 & 0.089700 & 0.01933877\\\\\n",
       "\t s159         & 3 & 0.0801 & 0.089700 & 0.01933877\\\\\n",
       "\t s123spk      & 1 & 0.2929 & 0.291500 & 0.00127671\\\\\n",
       "\t s123spk      & 2 & 0.2904 & 0.291500 & 0.00127671\\\\\n",
       "\t s123spk      & 3 & 0.2912 & 0.291500 & 0.00127671\\\\\n",
       "\t s159spk      & 1 & 0.4866 & 0.486500 & 0.00055678\\\\\n",
       "\t s159spk      & 2 & 0.4859 & 0.486500 & 0.00055678\\\\\n",
       "\t s159spk      & 3 & 0.4870 & 0.486500 & 0.00055678\\\\\n",
       "\t qc1          & 1 & 0.8543 & 0.865820 & 0.00890292\\\\\n",
       "\t qc1          & 2 & 0.8750 & 0.865820 & 0.00890292\\\\\n",
       "\t qc1          & 3 & 0.8594 & 0.865820 & 0.00890292\\\\\n",
       "\t qc1          & 4 & 0.8670 & 0.865820 & 0.00890292\\\\\n",
       "\t qc1          & 5 & 0.8734 & 0.865820 & 0.00890292\\\\\n",
       "\t qc2          & 1 & 0.4853 & 0.493740 & 0.00574569\\\\\n",
       "\t qc2          & 2 & 0.4912 & 0.493740 & 0.00574569\\\\\n",
       "\t qc2          & 3 & 0.4971 & 0.493740 & 0.00574569\\\\\n",
       "\t qc2          & 4 & 0.4949 & 0.493740 & 0.00574569\\\\\n",
       "\t qc2          & 5 & 0.5002 & 0.493740 & 0.00574569\\\\\n",
       "\t qc3          & 1 & 0.1132 & 0.109680 & 0.00685471\\\\\n",
       "\t qc3          & 2 & 0.1115 & 0.109680 & 0.00685471\\\\\n",
       "\t qc3          & 3 & 0.0975 & 0.109680 & 0.00685471\\\\\n",
       "\t qc3          & 4 & 0.1126 & 0.109680 & 0.00685471\\\\\n",
       "\t qc3          & 5 & 0.1136 & 0.109680 & 0.00685471\\\\\n",
       "\t qc4          & 1 & 0.0712 & 0.073340 & 0.00278173\\\\\n",
       "\t qc4          & 2 & 0.0714 & 0.073340 & 0.00278173\\\\\n",
       "\t qc4          & 3 & 0.0751 & 0.073340 & 0.00278173\\\\\n",
       "\t qc4          & 4 & 0.0716 & 0.073340 & 0.00278173\\\\\n",
       "\t qc4          & 5 & 0.0774 & 0.073340 & 0.00278173\\\\\n",
       "\t di\\_blank     & 1 & 0.0676 & 0.069200 & 0.00310376\\\\\n",
       "\t di\\_blank     & 2 & 0.0664 & 0.069200 & 0.00310376\\\\\n",
       "\t di\\_blank     & 3 & 0.0693 & 0.069200 & 0.00310376\\\\\n",
       "\t di\\_blank     & 4 & 0.0735 & 0.069200 & 0.00310376\\\\\n",
       "\t filter\\_blank & 1 & 0.0719 & 0.073617 & 0.00318523\\\\\n",
       "\t filter\\_blank & 2 & 0.0709 & 0.073617 & 0.00318523\\\\\n",
       "\t filter\\_blank & 3 & 0.0697 & 0.073617 & 0.00318523\\\\\n",
       "\t filter\\_blank & 4 & 0.0753 & 0.073617 & 0.00318523\\\\\n",
       "\t filter\\_blank & 5 & 0.0770 & 0.073617 & 0.00318523\\\\\n",
       "\t filter\\_blank & 6 & 0.0769 & 0.073617 & 0.00318523\\\\\n",
       "\\end{tabular}\n"
      ],
      "text/markdown": [
       "\n",
       "A tibble: 48 × 5\n",
       "\n",
       "| sample &lt;chr&gt; | rep &lt;chr&gt; | od &lt;dbl&gt; | avg_od &lt;dbl&gt; | sd_od &lt;dbl&gt; |\n",
       "|---|---|---|---|---|\n",
       "| s123         | 1 | 0.0767 | 0.079617 | 0.00425461 |\n",
       "| s123         | 2 | 0.0752 | 0.079617 | 0.00425461 |\n",
       "| s123         | 3 | 0.0773 | 0.079617 | 0.00425461 |\n",
       "| s123         | 1 | 0.0860 | 0.079617 | 0.00425461 |\n",
       "| s123         | 2 | 0.0789 | 0.079617 | 0.00425461 |\n",
       "| s123         | 3 | 0.0836 | 0.079617 | 0.00425461 |\n",
       "| s159         | 1 | 0.0762 | 0.089700 | 0.01933877 |\n",
       "| s159         | 2 | 0.0751 | 0.089700 | 0.01933877 |\n",
       "| s159         | 3 | 0.1259 | 0.089700 | 0.01933877 |\n",
       "| s159         | 1 | 0.0845 | 0.089700 | 0.01933877 |\n",
       "| s159         | 2 | 0.0964 | 0.089700 | 0.01933877 |\n",
       "| s159         | 3 | 0.0801 | 0.089700 | 0.01933877 |\n",
       "| s123spk      | 1 | 0.2929 | 0.291500 | 0.00127671 |\n",
       "| s123spk      | 2 | 0.2904 | 0.291500 | 0.00127671 |\n",
       "| s123spk      | 3 | 0.2912 | 0.291500 | 0.00127671 |\n",
       "| s159spk      | 1 | 0.4866 | 0.486500 | 0.00055678 |\n",
       "| s159spk      | 2 | 0.4859 | 0.486500 | 0.00055678 |\n",
       "| s159spk      | 3 | 0.4870 | 0.486500 | 0.00055678 |\n",
       "| qc1          | 1 | 0.8543 | 0.865820 | 0.00890292 |\n",
       "| qc1          | 2 | 0.8750 | 0.865820 | 0.00890292 |\n",
       "| qc1          | 3 | 0.8594 | 0.865820 | 0.00890292 |\n",
       "| qc1          | 4 | 0.8670 | 0.865820 | 0.00890292 |\n",
       "| qc1          | 5 | 0.8734 | 0.865820 | 0.00890292 |\n",
       "| qc2          | 1 | 0.4853 | 0.493740 | 0.00574569 |\n",
       "| qc2          | 2 | 0.4912 | 0.493740 | 0.00574569 |\n",
       "| qc2          | 3 | 0.4971 | 0.493740 | 0.00574569 |\n",
       "| qc2          | 4 | 0.4949 | 0.493740 | 0.00574569 |\n",
       "| qc2          | 5 | 0.5002 | 0.493740 | 0.00574569 |\n",
       "| qc3          | 1 | 0.1132 | 0.109680 | 0.00685471 |\n",
       "| qc3          | 2 | 0.1115 | 0.109680 | 0.00685471 |\n",
       "| qc3          | 3 | 0.0975 | 0.109680 | 0.00685471 |\n",
       "| qc3          | 4 | 0.1126 | 0.109680 | 0.00685471 |\n",
       "| qc3          | 5 | 0.1136 | 0.109680 | 0.00685471 |\n",
       "| qc4          | 1 | 0.0712 | 0.073340 | 0.00278173 |\n",
       "| qc4          | 2 | 0.0714 | 0.073340 | 0.00278173 |\n",
       "| qc4          | 3 | 0.0751 | 0.073340 | 0.00278173 |\n",
       "| qc4          | 4 | 0.0716 | 0.073340 | 0.00278173 |\n",
       "| qc4          | 5 | 0.0774 | 0.073340 | 0.00278173 |\n",
       "| di_blank     | 1 | 0.0676 | 0.069200 | 0.00310376 |\n",
       "| di_blank     | 2 | 0.0664 | 0.069200 | 0.00310376 |\n",
       "| di_blank     | 3 | 0.0693 | 0.069200 | 0.00310376 |\n",
       "| di_blank     | 4 | 0.0735 | 0.069200 | 0.00310376 |\n",
       "| filter_blank | 1 | 0.0719 | 0.073617 | 0.00318523 |\n",
       "| filter_blank | 2 | 0.0709 | 0.073617 | 0.00318523 |\n",
       "| filter_blank | 3 | 0.0697 | 0.073617 | 0.00318523 |\n",
       "| filter_blank | 4 | 0.0753 | 0.073617 | 0.00318523 |\n",
       "| filter_blank | 5 | 0.0770 | 0.073617 | 0.00318523 |\n",
       "| filter_blank | 6 | 0.0769 | 0.073617 | 0.00318523 |\n",
       "\n"
      ],
      "text/plain": [
       "   sample       rep od     avg_od   sd_od     \n",
       "1  s123         1   0.0767 0.079617 0.00425461\n",
       "2  s123         2   0.0752 0.079617 0.00425461\n",
       "3  s123         3   0.0773 0.079617 0.00425461\n",
       "4  s123         1   0.0860 0.079617 0.00425461\n",
       "5  s123         2   0.0789 0.079617 0.00425461\n",
       "6  s123         3   0.0836 0.079617 0.00425461\n",
       "7  s159         1   0.0762 0.089700 0.01933877\n",
       "8  s159         2   0.0751 0.089700 0.01933877\n",
       "9  s159         3   0.1259 0.089700 0.01933877\n",
       "10 s159         1   0.0845 0.089700 0.01933877\n",
       "11 s159         2   0.0964 0.089700 0.01933877\n",
       "12 s159         3   0.0801 0.089700 0.01933877\n",
       "13 s123spk      1   0.2929 0.291500 0.00127671\n",
       "14 s123spk      2   0.2904 0.291500 0.00127671\n",
       "15 s123spk      3   0.2912 0.291500 0.00127671\n",
       "16 s159spk      1   0.4866 0.486500 0.00055678\n",
       "17 s159spk      2   0.4859 0.486500 0.00055678\n",
       "18 s159spk      3   0.4870 0.486500 0.00055678\n",
       "19 qc1          1   0.8543 0.865820 0.00890292\n",
       "20 qc1          2   0.8750 0.865820 0.00890292\n",
       "21 qc1          3   0.8594 0.865820 0.00890292\n",
       "22 qc1          4   0.8670 0.865820 0.00890292\n",
       "23 qc1          5   0.8734 0.865820 0.00890292\n",
       "24 qc2          1   0.4853 0.493740 0.00574569\n",
       "25 qc2          2   0.4912 0.493740 0.00574569\n",
       "26 qc2          3   0.4971 0.493740 0.00574569\n",
       "27 qc2          4   0.4949 0.493740 0.00574569\n",
       "28 qc2          5   0.5002 0.493740 0.00574569\n",
       "29 qc3          1   0.1132 0.109680 0.00685471\n",
       "30 qc3          2   0.1115 0.109680 0.00685471\n",
       "31 qc3          3   0.0975 0.109680 0.00685471\n",
       "32 qc3          4   0.1126 0.109680 0.00685471\n",
       "33 qc3          5   0.1136 0.109680 0.00685471\n",
       "34 qc4          1   0.0712 0.073340 0.00278173\n",
       "35 qc4          2   0.0714 0.073340 0.00278173\n",
       "36 qc4          3   0.0751 0.073340 0.00278173\n",
       "37 qc4          4   0.0716 0.073340 0.00278173\n",
       "38 qc4          5   0.0774 0.073340 0.00278173\n",
       "39 di_blank     1   0.0676 0.069200 0.00310376\n",
       "40 di_blank     2   0.0664 0.069200 0.00310376\n",
       "41 di_blank     3   0.0693 0.069200 0.00310376\n",
       "42 di_blank     4   0.0735 0.069200 0.00310376\n",
       "43 filter_blank 1   0.0719 0.073617 0.00318523\n",
       "44 filter_blank 2   0.0709 0.073617 0.00318523\n",
       "45 filter_blank 3   0.0697 0.073617 0.00318523\n",
       "46 filter_blank 4   0.0753 0.073617 0.00318523\n",
       "47 filter_blank 5   0.0770 0.073617 0.00318523\n",
       "48 filter_blank 6   0.0769 0.073617 0.00318523"
      ]
     },
     "metadata": {},
     "output_type": "display_data"
    }
   ],
   "source": [
    "samples <- samples %>%\n",
    "    group_by(sample) %>%\n",
    "    mutate(avg_od = mean(od)) %>% # Calculate mean within each group and add it as a new column\n",
    "    mutate(sd_od = sd(od)) %>%\n",
    "    ungroup() # Remove grouping for subsequent operations\n",
    "samples"
   ]
  },
  {
   "cell_type": "markdown",
   "id": "6c3c0611-3544-4508-8003-993425c016c3",
   "metadata": {},
   "source": [
    "### predicted values based on standard curve (avgs using both low and regular standards)"
   ]
  },
  {
   "cell_type": "code",
   "execution_count": 326,
   "id": "a163ea18-0638-4b88-afdc-b318b617d9a6",
   "metadata": {},
   "outputs": [],
   "source": [
    "# add stnds \n",
    "stnds<-stnds %>%\n",
    "    rename(sd_od=sd,\n",
    "          sample=id)"
   ]
  },
  {
   "cell_type": "code",
   "execution_count": 328,
   "id": "72419337-63d9-4435-b648-b0dc3aa442c9",
   "metadata": {},
   "outputs": [],
   "source": [
    "# add actual concentrations\n",
    "samples <- samples %>%\n",
    "    mutate(actual_conc = (case_when(\n",
    "        sample == 'qc1' ~ 1,\n",
    "        sample == 'qc2' ~ 0.5,\n",
    "        sample == 'qc3' ~ 0.05,\n",
    "        sample == 'qc4' ~ 0.005,\n",
    "        sample == 'blank' ~ 0,\n",
    "        TRUE ~ NA))\n",
    "        )\n",
    "\n",
    "# calculate predictions from stnd curve \n",
    "samples$predicted_conc_avglm <- predict(low_avg_model, newdata = samples)\n",
    "\n",
    "#calculate avgs and sd of predicted conc\n",
    "samples<-samples %>%\n",
    "    group_by(sample) %>%\n",
    "        mutate(avg_predicted_conc_avglm = mean(predicted_conc_avglm)) %>%\n",
    "        # mutate(sd_predicted_conc_avglm = sd(predicted_conc_avglm)) %>%\n",
    "        # no std dev since its avgs \n",
    "            ungroup()"
   ]
  },
  {
   "cell_type": "code",
   "execution_count": 329,
   "id": "03ce4200-a181-49de-b7ca-6b0cc689ccd5",
   "metadata": {},
   "outputs": [
    {
     "data": {
      "text/html": [
       "<strong>1:</strong> 0.00919388018487164"
      ],
      "text/latex": [
       "\\textbf{1:} 0.00919388018487164"
      ],
      "text/markdown": [
       "**1:** 0.00919388018487164"
      ],
      "text/plain": [
       "        1 \n",
       "0.0091939 "
      ]
     },
     "metadata": {},
     "output_type": "display_data"
    },
    {
     "data": {
      "text/html": [
       "<strong>1:</strong> 0.259193880184872"
      ],
      "text/latex": [
       "\\textbf{1:} 0.259193880184872"
      ],
      "text/markdown": [
       "**1:** 0.259193880184872"
      ],
      "text/plain": [
       "      1 \n",
       "0.25919 "
      ]
     },
     "metadata": {},
     "output_type": "display_data"
    }
   ],
   "source": [
    "# add in concentration for spiked samples\n",
    "# g 9:12 + (q2) 0.25ppm (s123, di g12)\n",
    "# h 9:12 + (q1) 0.5ppm (s159, di h12)\n",
    "s123_value <- samples %>%\n",
    "  filter(sample == \"s123\") %>%\n",
    "  slice(1) %>%\n",
    "  pull(predicted_conc_avglm)\n",
    "spk123_value<-s123_value+0.25\n",
    "s123_value\n",
    "spk123_value\n",
    "\n",
    "di_q2_value <- samples %>%\n",
    "  filter(sample == \"dispk_q2\") %>%\n",
    "  slice(1) %>%\n",
    "  pull(predicted_conc_avglm)\n",
    "spkdi_q2_value<-di_q2_value+0.25\n",
    "\n",
    "s159_value <- samples %>%\n",
    "  filter(sample == \"s159\") %>%\n",
    "  slice(1) %>%\n",
    "  pull(predicted_conc_avglm)\n",
    "spk159_value<-s159_value+0.5\n",
    "\n",
    "di_q1_value <- samples %>%\n",
    "  filter(sample == \"dispk_q1\") %>%\n",
    "  slice(1) %>%\n",
    "  pull(predicted_conc_avglm)\n",
    "spkdi_q1_value<-di_q1_value+0.5\n"
   ]
  },
  {
   "cell_type": "code",
   "execution_count": 330,
   "id": "d082769d-1cf6-44f4-a2ba-251f8871e5ed",
   "metadata": {},
   "outputs": [],
   "source": [
    "# calculate % error for qcs (individually, by rep)\n",
    "# make lists to loop through \n",
    "qc_list <- c('qc1','qc2','qc3','qc4','s123spk','s159spk','dispk_q1','dispk_q2')\n",
    "expected_conc <- c(1,0.5,0.05,0.005,spk123_value,spk159_value,spkdi_q1_value,spkdi_q2_value)\n",
    "\n",
    "# calculate % error for qcs (individually, by rep)\n",
    "\n",
    "# Add a percent_error column initialized with NA\n",
    "samples <- samples %>%\n",
    "  mutate(percent_error_avglm = NA_real_)\n",
    "\n",
    "# Loop through each QC sample\n",
    "for (q in c(1:length(qc_list))) {\n",
    "  # Update percent_error for matching QC samples and set others to NA\n",
    "  samples <- samples %>%\n",
    "    mutate(percent_error_avglm = ifelse(\n",
    "      sample == qc_list[q],  # Only apply to matching QC samples\n",
    "      (abs(predicted_conc_avglm - expected_conc[q]) / expected_conc[q]) * 100,  # Calculate % error\n",
    "      percent_error_avglm  # For non-matching rows, retain NA\n",
    "    ))\n",
    "}"
   ]
  },
  {
   "cell_type": "markdown",
   "id": "1e6e45e3-d79c-4d6b-8384-781662c104a2",
   "metadata": {},
   "source": [
    "### predicted values based on standard curve (using both low and regular standards - NOT AVGS)"
   ]
  },
  {
   "cell_type": "code",
   "execution_count": 332,
   "id": "aec1e0f9-2aac-4614-9a18-cb6f43be084d",
   "metadata": {},
   "outputs": [],
   "source": [
    "# calculate concentrations using curve \n",
    "samples$predicted_conc <- predict(stnds_model, newdata = samples)\n",
    "\n",
    "#calculate avgs and sd of predicted conc\n",
    "samples<-samples %>%\n",
    "    group_by(sample) %>%\n",
    "        mutate(avg_predicted_conc = mean(predicted_conc)) %>%\n",
    "        mutate(sd_predicted_conc = sd(predicted_conc)) %>%\n",
    "            ungroup()"
   ]
  },
  {
   "cell_type": "code",
   "execution_count": 333,
   "id": "b6b7e85e-0c20-4271-936b-15bfcba6400e",
   "metadata": {},
   "outputs": [],
   "source": [
    "# calculate % error for qcs (individually, by rep)\n",
    "\n",
    "# Add a percent_error column initialized with NA\n",
    "samples <- samples %>%\n",
    "  mutate(percent_error = NA_real_)\n",
    "\n",
    "# Loop through each QC sample\n",
    "for (q in c(1:length(qc_list))) {\n",
    "  # Update percent_error for matching QC samples and set others to NA\n",
    "  samples <- samples %>%\n",
    "    mutate(percent_error = ifelse(\n",
    "      sample == qc_list[q],  # Only apply to matching QC samples\n",
    "      (abs(predicted_conc - expected_conc[q]) / expected_conc[q]) * 100,  # Calculate % error\n",
    "      percent_error  # For non-matching rows, retain NA\n",
    "    ))\n",
    "}"
   ]
  },
  {
   "cell_type": "code",
   "execution_count": 334,
   "id": "191f3307-fddf-4d65-9bb4-d4c8a798a255",
   "metadata": {},
   "outputs": [],
   "source": [
    "### Final predictions "
   ]
  },
  {
   "cell_type": "code",
   "execution_count": 335,
   "id": "3d342385-0cf2-4211-8f8f-f652c029885f",
   "metadata": {},
   "outputs": [],
   "source": [
    "# renumber sample reps:\n",
    "samples <- samples %>%\n",
    "  group_by(sample) %>%\n",
    "  mutate(\n",
    "    rep = row_number()\n",
    "  ) %>%\n",
    "  ungroup()"
   ]
  },
  {
   "cell_type": "code",
   "execution_count": 336,
   "id": "820e22e6-d001-435d-8f7d-e110e3c2777f",
   "metadata": {},
   "outputs": [],
   "source": [
    "predictions_summary<-samples %>%\n",
    "    group_by(sample) %>%\n",
    "    slice(1)  #take first row of each sample since predictions are based on avgs not individual reps "
   ]
  },
  {
   "cell_type": "code",
   "execution_count": 337,
   "id": "c152d8ed-c224-4773-87f9-00b10b9ff89f",
   "metadata": {},
   "outputs": [
    {
     "data": {
      "text/html": [
       "<table class=\"dataframe\">\n",
       "<caption>A grouped_df: 10 × 13</caption>\n",
       "<thead>\n",
       "\t<tr><th scope=col>sample</th><th scope=col>rep</th><th scope=col>od</th><th scope=col>avg_od</th><th scope=col>sd_od</th><th scope=col>actual_conc</th><th scope=col>predicted_conc_avglm</th><th scope=col>avg_predicted_conc_avglm</th><th scope=col>percent_error_avglm</th><th scope=col>predicted_conc</th><th scope=col>avg_predicted_conc</th><th scope=col>sd_predicted_conc</th><th scope=col>percent_error</th></tr>\n",
       "\t<tr><th scope=col>&lt;chr&gt;</th><th scope=col>&lt;int&gt;</th><th scope=col>&lt;dbl&gt;</th><th scope=col>&lt;dbl&gt;</th><th scope=col>&lt;dbl&gt;</th><th scope=col>&lt;dbl&gt;</th><th scope=col>&lt;dbl&gt;</th><th scope=col>&lt;dbl&gt;</th><th scope=col>&lt;dbl&gt;</th><th scope=col>&lt;dbl&gt;</th><th scope=col>&lt;dbl&gt;</th><th scope=col>&lt;dbl&gt;</th><th scope=col>&lt;dbl&gt;</th></tr>\n",
       "</thead>\n",
       "<tbody>\n",
       "\t<tr><td>di_blank    </td><td>1</td><td>0.0676</td><td>0.069200</td><td>0.00310376</td><td>   NA</td><td>-0.0010609</td><td>-0.0010609</td><td>    NA</td><td>-0.0060105</td><td>-0.004317137</td><td>0.00328480</td><td>     NA</td></tr>\n",
       "\t<tr><td>filter_blank</td><td>1</td><td>0.0719</td><td>0.073617</td><td>0.00318523</td><td>   NA</td><td> 0.0032872</td><td> 0.0032872</td><td>    NA</td><td>-0.0014596</td><td> 0.000357154</td><td>0.00337102</td><td>     NA</td></tr>\n",
       "\t<tr><td>qc1         </td><td>1</td><td>0.8543</td><td>0.865820</td><td>0.00890292</td><td>1.000</td><td> 0.7831756</td><td> 0.7831756</td><td>21.682</td><td> 0.8265778</td><td> 0.838769742</td><td>0.00942223</td><td> 17.342</td></tr>\n",
       "\t<tr><td>qc2         </td><td>1</td><td>0.4853</td><td>0.493740</td><td>0.00574569</td><td>0.500</td><td> 0.4168796</td><td> 0.4168796</td><td>16.624</td><td> 0.4360540</td><td> 0.444986299</td><td>0.00608084</td><td> 12.789</td></tr>\n",
       "\t<tr><td>qc3         </td><td>1</td><td>0.1132</td><td>0.109680</td><td>0.00685471</td><td>0.050</td><td> 0.0387899</td><td> 0.0387899</td><td>22.420</td><td> 0.0422494</td><td> 0.038524063</td><td>0.00725454</td><td> 15.501</td></tr>\n",
       "\t<tr><td>qc4         </td><td>1</td><td>0.0712</td><td>0.073340</td><td>0.00278173</td><td>0.005</td><td> 0.0030148</td><td> 0.0030148</td><td>39.704</td><td>-0.0022005</td><td> 0.000064349</td><td>0.00294398</td><td>144.010</td></tr>\n",
       "\t<tr><td>s123        </td><td>1</td><td>0.0767</td><td>0.079617</td><td>0.00425461</td><td>   NA</td><td> 0.0091939</td><td> 0.0091939</td><td>    NA</td><td> 0.0036203</td><td> 0.006707134</td><td>0.00450278</td><td>     NA</td></tr>\n",
       "\t<tr><td>s123spk     </td><td>1</td><td>0.2929</td><td>0.291500</td><td>0.00127671</td><td>   NA</td><td> 0.2177835</td><td> 0.2177835</td><td>15.977</td><td> 0.2324313</td><td> 0.230949632</td><td>0.00135119</td><td> 10.325</td></tr>\n",
       "\t<tr><td>s159        </td><td>1</td><td>0.0762</td><td>0.089700</td><td>0.01933877</td><td>   NA</td><td> 0.0191205</td><td> 0.0191205</td><td>    NA</td><td> 0.0030912</td><td> 0.017378629</td><td>0.02046680</td><td>     NA</td></tr>\n",
       "\t<tr><td>s159spk     </td><td>1</td><td>0.4866</td><td>0.486500</td><td>0.00055678</td><td>   NA</td><td> 0.4097522</td><td> 0.4097522</td><td>21.068</td><td> 0.4374298</td><td> 0.437323990</td><td>0.00058925</td><td> 15.736</td></tr>\n",
       "</tbody>\n",
       "</table>\n"
      ],
      "text/latex": [
       "A grouped\\_df: 10 × 13\n",
       "\\begin{tabular}{lllllllllllll}\n",
       " sample & rep & od & avg\\_od & sd\\_od & actual\\_conc & predicted\\_conc\\_avglm & avg\\_predicted\\_conc\\_avglm & percent\\_error\\_avglm & predicted\\_conc & avg\\_predicted\\_conc & sd\\_predicted\\_conc & percent\\_error\\\\\n",
       " <chr> & <int> & <dbl> & <dbl> & <dbl> & <dbl> & <dbl> & <dbl> & <dbl> & <dbl> & <dbl> & <dbl> & <dbl>\\\\\n",
       "\\hline\n",
       "\t di\\_blank     & 1 & 0.0676 & 0.069200 & 0.00310376 &    NA & -0.0010609 & -0.0010609 &     NA & -0.0060105 & -0.004317137 & 0.00328480 &      NA\\\\\n",
       "\t filter\\_blank & 1 & 0.0719 & 0.073617 & 0.00318523 &    NA &  0.0032872 &  0.0032872 &     NA & -0.0014596 &  0.000357154 & 0.00337102 &      NA\\\\\n",
       "\t qc1          & 1 & 0.8543 & 0.865820 & 0.00890292 & 1.000 &  0.7831756 &  0.7831756 & 21.682 &  0.8265778 &  0.838769742 & 0.00942223 &  17.342\\\\\n",
       "\t qc2          & 1 & 0.4853 & 0.493740 & 0.00574569 & 0.500 &  0.4168796 &  0.4168796 & 16.624 &  0.4360540 &  0.444986299 & 0.00608084 &  12.789\\\\\n",
       "\t qc3          & 1 & 0.1132 & 0.109680 & 0.00685471 & 0.050 &  0.0387899 &  0.0387899 & 22.420 &  0.0422494 &  0.038524063 & 0.00725454 &  15.501\\\\\n",
       "\t qc4          & 1 & 0.0712 & 0.073340 & 0.00278173 & 0.005 &  0.0030148 &  0.0030148 & 39.704 & -0.0022005 &  0.000064349 & 0.00294398 & 144.010\\\\\n",
       "\t s123         & 1 & 0.0767 & 0.079617 & 0.00425461 &    NA &  0.0091939 &  0.0091939 &     NA &  0.0036203 &  0.006707134 & 0.00450278 &      NA\\\\\n",
       "\t s123spk      & 1 & 0.2929 & 0.291500 & 0.00127671 &    NA &  0.2177835 &  0.2177835 & 15.977 &  0.2324313 &  0.230949632 & 0.00135119 &  10.325\\\\\n",
       "\t s159         & 1 & 0.0762 & 0.089700 & 0.01933877 &    NA &  0.0191205 &  0.0191205 &     NA &  0.0030912 &  0.017378629 & 0.02046680 &      NA\\\\\n",
       "\t s159spk      & 1 & 0.4866 & 0.486500 & 0.00055678 &    NA &  0.4097522 &  0.4097522 & 21.068 &  0.4374298 &  0.437323990 & 0.00058925 &  15.736\\\\\n",
       "\\end{tabular}\n"
      ],
      "text/markdown": [
       "\n",
       "A grouped_df: 10 × 13\n",
       "\n",
       "| sample &lt;chr&gt; | rep &lt;int&gt; | od &lt;dbl&gt; | avg_od &lt;dbl&gt; | sd_od &lt;dbl&gt; | actual_conc &lt;dbl&gt; | predicted_conc_avglm &lt;dbl&gt; | avg_predicted_conc_avglm &lt;dbl&gt; | percent_error_avglm &lt;dbl&gt; | predicted_conc &lt;dbl&gt; | avg_predicted_conc &lt;dbl&gt; | sd_predicted_conc &lt;dbl&gt; | percent_error &lt;dbl&gt; |\n",
       "|---|---|---|---|---|---|---|---|---|---|---|---|---|\n",
       "| di_blank     | 1 | 0.0676 | 0.069200 | 0.00310376 |    NA | -0.0010609 | -0.0010609 |     NA | -0.0060105 | -0.004317137 | 0.00328480 |      NA |\n",
       "| filter_blank | 1 | 0.0719 | 0.073617 | 0.00318523 |    NA |  0.0032872 |  0.0032872 |     NA | -0.0014596 |  0.000357154 | 0.00337102 |      NA |\n",
       "| qc1          | 1 | 0.8543 | 0.865820 | 0.00890292 | 1.000 |  0.7831756 |  0.7831756 | 21.682 |  0.8265778 |  0.838769742 | 0.00942223 |  17.342 |\n",
       "| qc2          | 1 | 0.4853 | 0.493740 | 0.00574569 | 0.500 |  0.4168796 |  0.4168796 | 16.624 |  0.4360540 |  0.444986299 | 0.00608084 |  12.789 |\n",
       "| qc3          | 1 | 0.1132 | 0.109680 | 0.00685471 | 0.050 |  0.0387899 |  0.0387899 | 22.420 |  0.0422494 |  0.038524063 | 0.00725454 |  15.501 |\n",
       "| qc4          | 1 | 0.0712 | 0.073340 | 0.00278173 | 0.005 |  0.0030148 |  0.0030148 | 39.704 | -0.0022005 |  0.000064349 | 0.00294398 | 144.010 |\n",
       "| s123         | 1 | 0.0767 | 0.079617 | 0.00425461 |    NA |  0.0091939 |  0.0091939 |     NA |  0.0036203 |  0.006707134 | 0.00450278 |      NA |\n",
       "| s123spk      | 1 | 0.2929 | 0.291500 | 0.00127671 |    NA |  0.2177835 |  0.2177835 | 15.977 |  0.2324313 |  0.230949632 | 0.00135119 |  10.325 |\n",
       "| s159         | 1 | 0.0762 | 0.089700 | 0.01933877 |    NA |  0.0191205 |  0.0191205 |     NA |  0.0030912 |  0.017378629 | 0.02046680 |      NA |\n",
       "| s159spk      | 1 | 0.4866 | 0.486500 | 0.00055678 |    NA |  0.4097522 |  0.4097522 | 21.068 |  0.4374298 |  0.437323990 | 0.00058925 |  15.736 |\n",
       "\n"
      ],
      "text/plain": [
       "   sample       rep od     avg_od   sd_od      actual_conc predicted_conc_avglm\n",
       "39 di_blank     1   0.0676 0.069200 0.00310376    NA       -0.0010609          \n",
       "43 filter_blank 1   0.0719 0.073617 0.00318523    NA        0.0032872          \n",
       "19 qc1          1   0.8543 0.865820 0.00890292 1.000        0.7831756          \n",
       "24 qc2          1   0.4853 0.493740 0.00574569 0.500        0.4168796          \n",
       "29 qc3          1   0.1132 0.109680 0.00685471 0.050        0.0387899          \n",
       "34 qc4          1   0.0712 0.073340 0.00278173 0.005        0.0030148          \n",
       "1  s123         1   0.0767 0.079617 0.00425461    NA        0.0091939          \n",
       "13 s123spk      1   0.2929 0.291500 0.00127671    NA        0.2177835          \n",
       "7  s159         1   0.0762 0.089700 0.01933877    NA        0.0191205          \n",
       "16 s159spk      1   0.4866 0.486500 0.00055678    NA        0.4097522          \n",
       "   avg_predicted_conc_avglm percent_error_avglm predicted_conc\n",
       "39 -0.0010609                   NA              -0.0060105    \n",
       "43  0.0032872                   NA              -0.0014596    \n",
       "19  0.7831756               21.682               0.8265778    \n",
       "24  0.4168796               16.624               0.4360540    \n",
       "29  0.0387899               22.420               0.0422494    \n",
       "34  0.0030148               39.704              -0.0022005    \n",
       "1   0.0091939                   NA               0.0036203    \n",
       "13  0.2177835               15.977               0.2324313    \n",
       "7   0.0191205                   NA               0.0030912    \n",
       "16  0.4097522               21.068               0.4374298    \n",
       "   avg_predicted_conc sd_predicted_conc percent_error\n",
       "39 -0.004317137       0.00328480             NA      \n",
       "43  0.000357154       0.00337102             NA      \n",
       "19  0.838769742       0.00942223         17.342      \n",
       "24  0.444986299       0.00608084         12.789      \n",
       "29  0.038524063       0.00725454         15.501      \n",
       "34  0.000064349       0.00294398        144.010      \n",
       "1   0.006707134       0.00450278             NA      \n",
       "13  0.230949632       0.00135119         10.325      \n",
       "7   0.017378629       0.02046680             NA      \n",
       "16  0.437323990       0.00058925         15.736      "
      ]
     },
     "metadata": {},
     "output_type": "display_data"
    }
   ],
   "source": [
    "predictions_summary\n",
    "# avg_predicted_conc_avglm = full standard curve (based on averages)\n",
    "# avg_predicted_conc = full standard curve (based on individuals)"
   ]
  },
  {
   "cell_type": "code",
   "execution_count": null,
   "id": "663abc80-7f5c-4312-8a02-b552159a825d",
   "metadata": {},
   "outputs": [],
   "source": [
    "# errors to fix: need to add in di spk and stnds to predictions "
   ]
  },
  {
   "cell_type": "code",
   "execution_count": null,
   "id": "e00a97a1-d5ee-4fa1-b949-cfd07fd98256",
   "metadata": {},
   "outputs": [],
   "source": [
    "# qc checks (percent error) look way better in individual-based curve \n",
    "    # except qc4..may have been a pipetting error since its SO low \n"
   ]
  },
  {
   "cell_type": "code",
   "execution_count": 344,
   "id": "39e7f1b1-0cfc-4803-b01a-976c4bb97d86",
   "metadata": {},
   "outputs": [
    {
     "name": "stdout",
     "output_type": "stream",
     "text": [
      "[1] \"s123 spike - concentration added: 0.21\"\n",
      "[1] \"s159 spike - concentration added: 0.39\"\n"
     ]
    }
   ],
   "source": [
    "# check spk for avg curve\n",
    "s123spk <- samples %>%\n",
    "  filter(sample == \"s123spk\") %>%\n",
    "  slice(1) %>%\n",
    "  pull(predicted_conc_avglm)\n",
    "# calculate the added concentration (difference b/w predicted values) \n",
    "concentration_added <- round(s123spk - s123_value,2)\n",
    "print(paste(\"s123 spike - concentration added:\", concentration_added))\n",
    "# pretty close to 0.25 \n",
    "\n",
    "s159spk <- samples %>%\n",
    "  filter(sample == \"s159spk\") %>%\n",
    "  slice(1) %>%\n",
    "  pull(predicted_conc_avglm)\n",
    "# calculate the added concentration (difference b/w predicted values) \n",
    "concentration_added <- round(s159spk - s159_value,digits=2)\n",
    "print(paste(\"s159 spike - concentration added:\", concentration_added))\n",
    "# a lil further but still pretty close to 0.5\n"
   ]
  },
  {
   "cell_type": "code",
   "execution_count": 345,
   "id": "dfebe92c-0c6f-407f-a400-49944b6674aa",
   "metadata": {},
   "outputs": [
    {
     "name": "stdout",
     "output_type": "stream",
     "text": [
      "[1] \"s123 spike - concentration added: 0.23\"\n",
      "[1] \"s159 spike - concentration added: 0.43\"\n"
     ]
    }
   ],
   "source": [
    "# repeat: check spk for individual-based curve\n",
    "s123_value <- samples %>%\n",
    "  filter(sample == \"s123\") %>%\n",
    "  slice(1) %>%\n",
    "  pull(predicted_conc)\n",
    "\n",
    "s123spk <- samples %>%\n",
    "  filter(sample == \"s123spk\") %>%\n",
    "  slice(1) %>%\n",
    "  pull(predicted_conc)\n",
    "# calculate the added concentration (difference b/w predicted values) \n",
    "concentration_added <- round(s123spk - s123_value,2)\n",
    "print(paste(\"s123 spike - concentration added:\", concentration_added))\n",
    "# very close to 0.25 \n",
    "\n",
    "s159_value <- samples %>%\n",
    "  filter(sample == \"s159\") %>%\n",
    "  slice(1) %>%\n",
    "  pull(predicted_conc)\n",
    "\n",
    "s159spk <- samples %>%\n",
    "  filter(sample == \"s159spk\") %>%\n",
    "  slice(1) %>%\n",
    "  pull(predicted_conc)\n",
    "# calculate the added concentration (difference b/w predicted values) \n",
    "concentration_added <- round(s159spk - s159_value,digits=2)\n",
    "print(paste(\"s159 spike - concentration added:\", concentration_added))\n",
    "# very close to 0.5\n",
    "# both look better in the individual-based"
   ]
  },
  {
   "cell_type": "code",
   "execution_count": 338,
   "id": "f6a3daa8-d3f1-4749-93a1-1956c6c1ee47",
   "metadata": {},
   "outputs": [
    {
     "data": {
      "text/html": [
       "<table class=\"dataframe\">\n",
       "<caption>A tibble: 48 × 13</caption>\n",
       "<thead>\n",
       "\t<tr><th scope=col>sample</th><th scope=col>rep</th><th scope=col>od</th><th scope=col>avg_od</th><th scope=col>sd_od</th><th scope=col>actual_conc</th><th scope=col>predicted_conc_avglm</th><th scope=col>avg_predicted_conc_avglm</th><th scope=col>percent_error_avglm</th><th scope=col>predicted_conc</th><th scope=col>avg_predicted_conc</th><th scope=col>sd_predicted_conc</th><th scope=col>percent_error</th></tr>\n",
       "\t<tr><th scope=col>&lt;chr&gt;</th><th scope=col>&lt;int&gt;</th><th scope=col>&lt;dbl&gt;</th><th scope=col>&lt;dbl&gt;</th><th scope=col>&lt;dbl&gt;</th><th scope=col>&lt;dbl&gt;</th><th scope=col>&lt;dbl&gt;</th><th scope=col>&lt;dbl&gt;</th><th scope=col>&lt;dbl&gt;</th><th scope=col>&lt;dbl&gt;</th><th scope=col>&lt;dbl&gt;</th><th scope=col>&lt;dbl&gt;</th><th scope=col>&lt;dbl&gt;</th></tr>\n",
       "</thead>\n",
       "<tbody>\n",
       "\t<tr><td>s123        </td><td>1</td><td>0.0767</td><td>0.079617</td><td>0.00425461</td><td>   NA</td><td> 0.0091939</td><td> 0.0091939</td><td>    NA</td><td> 0.00362034</td><td> 0.006707134</td><td>0.00450278</td><td>      NA</td></tr>\n",
       "\t<tr><td>s123        </td><td>2</td><td>0.0752</td><td>0.079617</td><td>0.00425461</td><td>   NA</td><td> 0.0091939</td><td> 0.0091939</td><td>    NA</td><td> 0.00203284</td><td> 0.006707134</td><td>0.00450278</td><td>      NA</td></tr>\n",
       "\t<tr><td>s123        </td><td>3</td><td>0.0773</td><td>0.079617</td><td>0.00425461</td><td>   NA</td><td> 0.0091939</td><td> 0.0091939</td><td>    NA</td><td> 0.00425534</td><td> 0.006707134</td><td>0.00450278</td><td>      NA</td></tr>\n",
       "\t<tr><td>s123        </td><td>4</td><td>0.0860</td><td>0.079617</td><td>0.00425461</td><td>   NA</td><td> 0.0091939</td><td> 0.0091939</td><td>    NA</td><td> 0.01346281</td><td> 0.006707134</td><td>0.00450278</td><td>      NA</td></tr>\n",
       "\t<tr><td>s123        </td><td>5</td><td>0.0789</td><td>0.079617</td><td>0.00425461</td><td>   NA</td><td> 0.0091939</td><td> 0.0091939</td><td>    NA</td><td> 0.00594866</td><td> 0.006707134</td><td>0.00450278</td><td>      NA</td></tr>\n",
       "\t<tr><td>s123        </td><td>6</td><td>0.0836</td><td>0.079617</td><td>0.00425461</td><td>   NA</td><td> 0.0091939</td><td> 0.0091939</td><td>    NA</td><td> 0.01092282</td><td> 0.006707134</td><td>0.00450278</td><td>      NA</td></tr>\n",
       "\t<tr><td>s159        </td><td>1</td><td>0.0762</td><td>0.089700</td><td>0.01933877</td><td>   NA</td><td> 0.0191205</td><td> 0.0191205</td><td>    NA</td><td> 0.00309117</td><td> 0.017378629</td><td>0.02046680</td><td>      NA</td></tr>\n",
       "\t<tr><td>s159        </td><td>2</td><td>0.0751</td><td>0.089700</td><td>0.01933877</td><td>   NA</td><td> 0.0191205</td><td> 0.0191205</td><td>    NA</td><td> 0.00192701</td><td> 0.017378629</td><td>0.02046680</td><td>      NA</td></tr>\n",
       "\t<tr><td>s159        </td><td>3</td><td>0.1259</td><td>0.089700</td><td>0.01933877</td><td>   NA</td><td> 0.0191205</td><td> 0.0191205</td><td>    NA</td><td> 0.05569018</td><td> 0.017378629</td><td>0.02046680</td><td>      NA</td></tr>\n",
       "\t<tr><td>s159        </td><td>4</td><td>0.0845</td><td>0.089700</td><td>0.01933877</td><td>   NA</td><td> 0.0191205</td><td> 0.0191205</td><td>    NA</td><td> 0.01187531</td><td> 0.017378629</td><td>0.02046680</td><td>      NA</td></tr>\n",
       "\t<tr><td>s159        </td><td>5</td><td>0.0964</td><td>0.089700</td><td>0.01933877</td><td>   NA</td><td> 0.0191205</td><td> 0.0191205</td><td>    NA</td><td> 0.02446944</td><td> 0.017378629</td><td>0.02046680</td><td>      NA</td></tr>\n",
       "\t<tr><td>s159        </td><td>6</td><td>0.0801</td><td>0.089700</td><td>0.01933877</td><td>   NA</td><td> 0.0191205</td><td> 0.0191205</td><td>    NA</td><td> 0.00721866</td><td> 0.017378629</td><td>0.02046680</td><td>      NA</td></tr>\n",
       "\t<tr><td>s123spk     </td><td>1</td><td>0.2929</td><td>0.291500</td><td>0.00127671</td><td>   NA</td><td> 0.2177835</td><td> 0.2177835</td><td>15.977</td><td> 0.23243129</td><td> 0.230949632</td><td>0.00135119</td><td> 10.3253</td></tr>\n",
       "\t<tr><td>s123spk     </td><td>2</td><td>0.2904</td><td>0.291500</td><td>0.00127671</td><td>   NA</td><td> 0.2177835</td><td> 0.2177835</td><td>15.977</td><td> 0.22978547</td><td> 0.230949632</td><td>0.00135119</td><td> 11.3461</td></tr>\n",
       "\t<tr><td>s123spk     </td><td>3</td><td>0.2912</td><td>0.291500</td><td>0.00127671</td><td>   NA</td><td> 0.2177835</td><td> 0.2177835</td><td>15.977</td><td> 0.23063213</td><td> 0.230949632</td><td>0.00135119</td><td> 11.0195</td></tr>\n",
       "\t<tr><td>s159spk     </td><td>1</td><td>0.4866</td><td>0.486500</td><td>0.00055678</td><td>   NA</td><td> 0.4097522</td><td> 0.4097522</td><td>21.068</td><td> 0.43742982</td><td> 0.437323990</td><td>0.00058925</td><td> 15.7364</td></tr>\n",
       "\t<tr><td>s159spk     </td><td>2</td><td>0.4859</td><td>0.486500</td><td>0.00055678</td><td>   NA</td><td> 0.4097522</td><td> 0.4097522</td><td>21.068</td><td> 0.43668899</td><td> 0.437323990</td><td>0.00058925</td><td> 15.8791</td></tr>\n",
       "\t<tr><td>s159spk     </td><td>3</td><td>0.4870</td><td>0.486500</td><td>0.00055678</td><td>   NA</td><td> 0.4097522</td><td> 0.4097522</td><td>21.068</td><td> 0.43785315</td><td> 0.437323990</td><td>0.00058925</td><td> 15.6548</td></tr>\n",
       "\t<tr><td>qc1         </td><td>1</td><td>0.8543</td><td>0.865820</td><td>0.00890292</td><td>1.000</td><td> 0.7831756</td><td> 0.7831756</td><td>21.682</td><td> 0.82657778</td><td> 0.838769742</td><td>0.00942223</td><td> 17.3422</td></tr>\n",
       "\t<tr><td>qc1         </td><td>2</td><td>0.8750</td><td>0.865820</td><td>0.00890292</td><td>1.000</td><td> 0.7831756</td><td> 0.7831756</td><td>21.682</td><td> 0.84848521</td><td> 0.838769742</td><td>0.00942223</td><td> 15.1515</td></tr>\n",
       "\t<tr><td>qc1         </td><td>3</td><td>0.8594</td><td>0.865820</td><td>0.00890292</td><td>1.000</td><td> 0.7831756</td><td> 0.7831756</td><td>21.682</td><td> 0.83197526</td><td> 0.838769742</td><td>0.00942223</td><td> 16.8025</td></tr>\n",
       "\t<tr><td>qc1         </td><td>4</td><td>0.8670</td><td>0.865820</td><td>0.00890292</td><td>1.000</td><td> 0.7831756</td><td> 0.7831756</td><td>21.682</td><td> 0.84001857</td><td> 0.838769742</td><td>0.00942223</td><td> 15.9981</td></tr>\n",
       "\t<tr><td>qc1         </td><td>5</td><td>0.8734</td><td>0.865820</td><td>0.00890292</td><td>1.000</td><td> 0.7831756</td><td> 0.7831756</td><td>21.682</td><td> 0.84679188</td><td> 0.838769742</td><td>0.00942223</td><td> 15.3208</td></tr>\n",
       "\t<tr><td>qc2         </td><td>1</td><td>0.4853</td><td>0.493740</td><td>0.00574569</td><td>0.500</td><td> 0.4168796</td><td> 0.4168796</td><td>16.624</td><td> 0.43605399</td><td> 0.444986299</td><td>0.00608084</td><td> 12.7892</td></tr>\n",
       "\t<tr><td>qc2         </td><td>2</td><td>0.4912</td><td>0.493740</td><td>0.00574569</td><td>0.500</td><td> 0.4168796</td><td> 0.4168796</td><td>16.624</td><td> 0.44229814</td><td> 0.444986299</td><td>0.00608084</td><td> 11.5404</td></tr>\n",
       "\t<tr><td>qc2         </td><td>3</td><td>0.4971</td><td>0.493740</td><td>0.00574569</td><td>0.500</td><td> 0.4168796</td><td> 0.4168796</td><td>16.624</td><td> 0.44854229</td><td> 0.444986299</td><td>0.00608084</td><td> 10.2915</td></tr>\n",
       "\t<tr><td>qc2         </td><td>4</td><td>0.4949</td><td>0.493740</td><td>0.00574569</td><td>0.500</td><td> 0.4168796</td><td> 0.4168796</td><td>16.624</td><td> 0.44621396</td><td> 0.444986299</td><td>0.00608084</td><td> 10.7572</td></tr>\n",
       "\t<tr><td>qc2         </td><td>5</td><td>0.5002</td><td>0.493740</td><td>0.00574569</td><td>0.500</td><td> 0.4168796</td><td> 0.4168796</td><td>16.624</td><td> 0.45182311</td><td> 0.444986299</td><td>0.00608084</td><td>  9.6354</td></tr>\n",
       "\t<tr><td>qc3         </td><td>1</td><td>0.1132</td><td>0.109680</td><td>0.00685471</td><td>0.050</td><td> 0.0387899</td><td> 0.0387899</td><td>22.420</td><td> 0.04224938</td><td> 0.038524063</td><td>0.00725454</td><td> 15.5012</td></tr>\n",
       "\t<tr><td>qc3         </td><td>2</td><td>0.1115</td><td>0.109680</td><td>0.00685471</td><td>0.050</td><td> 0.0387899</td><td> 0.0387899</td><td>22.420</td><td> 0.04045022</td><td> 0.038524063</td><td>0.00725454</td><td> 19.0996</td></tr>\n",
       "\t<tr><td>qc3         </td><td>3</td><td>0.0975</td><td>0.109680</td><td>0.00685471</td><td>0.050</td><td> 0.0387899</td><td> 0.0387899</td><td>22.420</td><td> 0.02563360</td><td> 0.038524063</td><td>0.00725454</td><td> 48.7328</td></tr>\n",
       "\t<tr><td>qc3         </td><td>4</td><td>0.1126</td><td>0.109680</td><td>0.00685471</td><td>0.050</td><td> 0.0387899</td><td> 0.0387899</td><td>22.420</td><td> 0.04161439</td><td> 0.038524063</td><td>0.00725454</td><td> 16.7712</td></tr>\n",
       "\t<tr><td>qc3         </td><td>5</td><td>0.1136</td><td>0.109680</td><td>0.00685471</td><td>0.050</td><td> 0.0387899</td><td> 0.0387899</td><td>22.420</td><td> 0.04267272</td><td> 0.038524063</td><td>0.00725454</td><td> 14.6546</td></tr>\n",
       "\t<tr><td>qc4         </td><td>1</td><td>0.0712</td><td>0.073340</td><td>0.00278173</td><td>0.005</td><td> 0.0030148</td><td> 0.0030148</td><td>39.704</td><td>-0.00220048</td><td> 0.000064349</td><td>0.00294398</td><td>144.0095</td></tr>\n",
       "\t<tr><td>qc4         </td><td>2</td><td>0.0714</td><td>0.073340</td><td>0.00278173</td><td>0.005</td><td> 0.0030148</td><td> 0.0030148</td><td>39.704</td><td>-0.00198881</td><td> 0.000064349</td><td>0.00294398</td><td>139.7762</td></tr>\n",
       "\t<tr><td>qc4         </td><td>3</td><td>0.0751</td><td>0.073340</td><td>0.00278173</td><td>0.005</td><td> 0.0030148</td><td> 0.0030148</td><td>39.704</td><td> 0.00192701</td><td> 0.000064349</td><td>0.00294398</td><td> 61.4598</td></tr>\n",
       "\t<tr><td>qc4         </td><td>4</td><td>0.0716</td><td>0.073340</td><td>0.00278173</td><td>0.005</td><td> 0.0030148</td><td> 0.0030148</td><td>39.704</td><td>-0.00177714</td><td> 0.000064349</td><td>0.00294398</td><td>135.5429</td></tr>\n",
       "\t<tr><td>qc4         </td><td>5</td><td>0.0774</td><td>0.073340</td><td>0.00278173</td><td>0.005</td><td> 0.0030148</td><td> 0.0030148</td><td>39.704</td><td> 0.00436117</td><td> 0.000064349</td><td>0.00294398</td><td> 12.7766</td></tr>\n",
       "\t<tr><td>di_blank    </td><td>1</td><td>0.0676</td><td>0.069200</td><td>0.00310376</td><td>   NA</td><td>-0.0010609</td><td>-0.0010609</td><td>    NA</td><td>-0.00601047</td><td>-0.004317137</td><td>0.00328480</td><td>      NA</td></tr>\n",
       "\t<tr><td>di_blank    </td><td>2</td><td>0.0664</td><td>0.069200</td><td>0.00310376</td><td>   NA</td><td>-0.0010609</td><td>-0.0010609</td><td>    NA</td><td>-0.00728046</td><td>-0.004317137</td><td>0.00328480</td><td>      NA</td></tr>\n",
       "\t<tr><td>di_blank    </td><td>3</td><td>0.0693</td><td>0.069200</td><td>0.00310376</td><td>   NA</td><td>-0.0010609</td><td>-0.0010609</td><td>    NA</td><td>-0.00421130</td><td>-0.004317137</td><td>0.00328480</td><td>      NA</td></tr>\n",
       "\t<tr><td>di_blank    </td><td>4</td><td>0.0735</td><td>0.069200</td><td>0.00310376</td><td>   NA</td><td>-0.0010609</td><td>-0.0010609</td><td>    NA</td><td> 0.00023368</td><td>-0.004317137</td><td>0.00328480</td><td>      NA</td></tr>\n",
       "\t<tr><td>filter_blank</td><td>1</td><td>0.0719</td><td>0.073617</td><td>0.00318523</td><td>   NA</td><td> 0.0032872</td><td> 0.0032872</td><td>    NA</td><td>-0.00145965</td><td> 0.000357154</td><td>0.00337102</td><td>      NA</td></tr>\n",
       "\t<tr><td>filter_blank</td><td>2</td><td>0.0709</td><td>0.073617</td><td>0.00318523</td><td>   NA</td><td> 0.0032872</td><td> 0.0032872</td><td>    NA</td><td>-0.00251798</td><td> 0.000357154</td><td>0.00337102</td><td>      NA</td></tr>\n",
       "\t<tr><td>filter_blank</td><td>3</td><td>0.0697</td><td>0.073617</td><td>0.00318523</td><td>   NA</td><td> 0.0032872</td><td> 0.0032872</td><td>    NA</td><td>-0.00378797</td><td> 0.000357154</td><td>0.00337102</td><td>      NA</td></tr>\n",
       "\t<tr><td>filter_blank</td><td>4</td><td>0.0753</td><td>0.073617</td><td>0.00318523</td><td>   NA</td><td> 0.0032872</td><td> 0.0032872</td><td>    NA</td><td> 0.00213868</td><td> 0.000357154</td><td>0.00337102</td><td>      NA</td></tr>\n",
       "\t<tr><td>filter_blank</td><td>5</td><td>0.0770</td><td>0.073617</td><td>0.00318523</td><td>   NA</td><td> 0.0032872</td><td> 0.0032872</td><td>    NA</td><td> 0.00393784</td><td> 0.000357154</td><td>0.00337102</td><td>      NA</td></tr>\n",
       "\t<tr><td>filter_blank</td><td>6</td><td>0.0769</td><td>0.073617</td><td>0.00318523</td><td>   NA</td><td> 0.0032872</td><td> 0.0032872</td><td>    NA</td><td> 0.00383200</td><td> 0.000357154</td><td>0.00337102</td><td>      NA</td></tr>\n",
       "</tbody>\n",
       "</table>\n"
      ],
      "text/latex": [
       "A tibble: 48 × 13\n",
       "\\begin{tabular}{lllllllllllll}\n",
       " sample & rep & od & avg\\_od & sd\\_od & actual\\_conc & predicted\\_conc\\_avglm & avg\\_predicted\\_conc\\_avglm & percent\\_error\\_avglm & predicted\\_conc & avg\\_predicted\\_conc & sd\\_predicted\\_conc & percent\\_error\\\\\n",
       " <chr> & <int> & <dbl> & <dbl> & <dbl> & <dbl> & <dbl> & <dbl> & <dbl> & <dbl> & <dbl> & <dbl> & <dbl>\\\\\n",
       "\\hline\n",
       "\t s123         & 1 & 0.0767 & 0.079617 & 0.00425461 &    NA &  0.0091939 &  0.0091939 &     NA &  0.00362034 &  0.006707134 & 0.00450278 &       NA\\\\\n",
       "\t s123         & 2 & 0.0752 & 0.079617 & 0.00425461 &    NA &  0.0091939 &  0.0091939 &     NA &  0.00203284 &  0.006707134 & 0.00450278 &       NA\\\\\n",
       "\t s123         & 3 & 0.0773 & 0.079617 & 0.00425461 &    NA &  0.0091939 &  0.0091939 &     NA &  0.00425534 &  0.006707134 & 0.00450278 &       NA\\\\\n",
       "\t s123         & 4 & 0.0860 & 0.079617 & 0.00425461 &    NA &  0.0091939 &  0.0091939 &     NA &  0.01346281 &  0.006707134 & 0.00450278 &       NA\\\\\n",
       "\t s123         & 5 & 0.0789 & 0.079617 & 0.00425461 &    NA &  0.0091939 &  0.0091939 &     NA &  0.00594866 &  0.006707134 & 0.00450278 &       NA\\\\\n",
       "\t s123         & 6 & 0.0836 & 0.079617 & 0.00425461 &    NA &  0.0091939 &  0.0091939 &     NA &  0.01092282 &  0.006707134 & 0.00450278 &       NA\\\\\n",
       "\t s159         & 1 & 0.0762 & 0.089700 & 0.01933877 &    NA &  0.0191205 &  0.0191205 &     NA &  0.00309117 &  0.017378629 & 0.02046680 &       NA\\\\\n",
       "\t s159         & 2 & 0.0751 & 0.089700 & 0.01933877 &    NA &  0.0191205 &  0.0191205 &     NA &  0.00192701 &  0.017378629 & 0.02046680 &       NA\\\\\n",
       "\t s159         & 3 & 0.1259 & 0.089700 & 0.01933877 &    NA &  0.0191205 &  0.0191205 &     NA &  0.05569018 &  0.017378629 & 0.02046680 &       NA\\\\\n",
       "\t s159         & 4 & 0.0845 & 0.089700 & 0.01933877 &    NA &  0.0191205 &  0.0191205 &     NA &  0.01187531 &  0.017378629 & 0.02046680 &       NA\\\\\n",
       "\t s159         & 5 & 0.0964 & 0.089700 & 0.01933877 &    NA &  0.0191205 &  0.0191205 &     NA &  0.02446944 &  0.017378629 & 0.02046680 &       NA\\\\\n",
       "\t s159         & 6 & 0.0801 & 0.089700 & 0.01933877 &    NA &  0.0191205 &  0.0191205 &     NA &  0.00721866 &  0.017378629 & 0.02046680 &       NA\\\\\n",
       "\t s123spk      & 1 & 0.2929 & 0.291500 & 0.00127671 &    NA &  0.2177835 &  0.2177835 & 15.977 &  0.23243129 &  0.230949632 & 0.00135119 &  10.3253\\\\\n",
       "\t s123spk      & 2 & 0.2904 & 0.291500 & 0.00127671 &    NA &  0.2177835 &  0.2177835 & 15.977 &  0.22978547 &  0.230949632 & 0.00135119 &  11.3461\\\\\n",
       "\t s123spk      & 3 & 0.2912 & 0.291500 & 0.00127671 &    NA &  0.2177835 &  0.2177835 & 15.977 &  0.23063213 &  0.230949632 & 0.00135119 &  11.0195\\\\\n",
       "\t s159spk      & 1 & 0.4866 & 0.486500 & 0.00055678 &    NA &  0.4097522 &  0.4097522 & 21.068 &  0.43742982 &  0.437323990 & 0.00058925 &  15.7364\\\\\n",
       "\t s159spk      & 2 & 0.4859 & 0.486500 & 0.00055678 &    NA &  0.4097522 &  0.4097522 & 21.068 &  0.43668899 &  0.437323990 & 0.00058925 &  15.8791\\\\\n",
       "\t s159spk      & 3 & 0.4870 & 0.486500 & 0.00055678 &    NA &  0.4097522 &  0.4097522 & 21.068 &  0.43785315 &  0.437323990 & 0.00058925 &  15.6548\\\\\n",
       "\t qc1          & 1 & 0.8543 & 0.865820 & 0.00890292 & 1.000 &  0.7831756 &  0.7831756 & 21.682 &  0.82657778 &  0.838769742 & 0.00942223 &  17.3422\\\\\n",
       "\t qc1          & 2 & 0.8750 & 0.865820 & 0.00890292 & 1.000 &  0.7831756 &  0.7831756 & 21.682 &  0.84848521 &  0.838769742 & 0.00942223 &  15.1515\\\\\n",
       "\t qc1          & 3 & 0.8594 & 0.865820 & 0.00890292 & 1.000 &  0.7831756 &  0.7831756 & 21.682 &  0.83197526 &  0.838769742 & 0.00942223 &  16.8025\\\\\n",
       "\t qc1          & 4 & 0.8670 & 0.865820 & 0.00890292 & 1.000 &  0.7831756 &  0.7831756 & 21.682 &  0.84001857 &  0.838769742 & 0.00942223 &  15.9981\\\\\n",
       "\t qc1          & 5 & 0.8734 & 0.865820 & 0.00890292 & 1.000 &  0.7831756 &  0.7831756 & 21.682 &  0.84679188 &  0.838769742 & 0.00942223 &  15.3208\\\\\n",
       "\t qc2          & 1 & 0.4853 & 0.493740 & 0.00574569 & 0.500 &  0.4168796 &  0.4168796 & 16.624 &  0.43605399 &  0.444986299 & 0.00608084 &  12.7892\\\\\n",
       "\t qc2          & 2 & 0.4912 & 0.493740 & 0.00574569 & 0.500 &  0.4168796 &  0.4168796 & 16.624 &  0.44229814 &  0.444986299 & 0.00608084 &  11.5404\\\\\n",
       "\t qc2          & 3 & 0.4971 & 0.493740 & 0.00574569 & 0.500 &  0.4168796 &  0.4168796 & 16.624 &  0.44854229 &  0.444986299 & 0.00608084 &  10.2915\\\\\n",
       "\t qc2          & 4 & 0.4949 & 0.493740 & 0.00574569 & 0.500 &  0.4168796 &  0.4168796 & 16.624 &  0.44621396 &  0.444986299 & 0.00608084 &  10.7572\\\\\n",
       "\t qc2          & 5 & 0.5002 & 0.493740 & 0.00574569 & 0.500 &  0.4168796 &  0.4168796 & 16.624 &  0.45182311 &  0.444986299 & 0.00608084 &   9.6354\\\\\n",
       "\t qc3          & 1 & 0.1132 & 0.109680 & 0.00685471 & 0.050 &  0.0387899 &  0.0387899 & 22.420 &  0.04224938 &  0.038524063 & 0.00725454 &  15.5012\\\\\n",
       "\t qc3          & 2 & 0.1115 & 0.109680 & 0.00685471 & 0.050 &  0.0387899 &  0.0387899 & 22.420 &  0.04045022 &  0.038524063 & 0.00725454 &  19.0996\\\\\n",
       "\t qc3          & 3 & 0.0975 & 0.109680 & 0.00685471 & 0.050 &  0.0387899 &  0.0387899 & 22.420 &  0.02563360 &  0.038524063 & 0.00725454 &  48.7328\\\\\n",
       "\t qc3          & 4 & 0.1126 & 0.109680 & 0.00685471 & 0.050 &  0.0387899 &  0.0387899 & 22.420 &  0.04161439 &  0.038524063 & 0.00725454 &  16.7712\\\\\n",
       "\t qc3          & 5 & 0.1136 & 0.109680 & 0.00685471 & 0.050 &  0.0387899 &  0.0387899 & 22.420 &  0.04267272 &  0.038524063 & 0.00725454 &  14.6546\\\\\n",
       "\t qc4          & 1 & 0.0712 & 0.073340 & 0.00278173 & 0.005 &  0.0030148 &  0.0030148 & 39.704 & -0.00220048 &  0.000064349 & 0.00294398 & 144.0095\\\\\n",
       "\t qc4          & 2 & 0.0714 & 0.073340 & 0.00278173 & 0.005 &  0.0030148 &  0.0030148 & 39.704 & -0.00198881 &  0.000064349 & 0.00294398 & 139.7762\\\\\n",
       "\t qc4          & 3 & 0.0751 & 0.073340 & 0.00278173 & 0.005 &  0.0030148 &  0.0030148 & 39.704 &  0.00192701 &  0.000064349 & 0.00294398 &  61.4598\\\\\n",
       "\t qc4          & 4 & 0.0716 & 0.073340 & 0.00278173 & 0.005 &  0.0030148 &  0.0030148 & 39.704 & -0.00177714 &  0.000064349 & 0.00294398 & 135.5429\\\\\n",
       "\t qc4          & 5 & 0.0774 & 0.073340 & 0.00278173 & 0.005 &  0.0030148 &  0.0030148 & 39.704 &  0.00436117 &  0.000064349 & 0.00294398 &  12.7766\\\\\n",
       "\t di\\_blank     & 1 & 0.0676 & 0.069200 & 0.00310376 &    NA & -0.0010609 & -0.0010609 &     NA & -0.00601047 & -0.004317137 & 0.00328480 &       NA\\\\\n",
       "\t di\\_blank     & 2 & 0.0664 & 0.069200 & 0.00310376 &    NA & -0.0010609 & -0.0010609 &     NA & -0.00728046 & -0.004317137 & 0.00328480 &       NA\\\\\n",
       "\t di\\_blank     & 3 & 0.0693 & 0.069200 & 0.00310376 &    NA & -0.0010609 & -0.0010609 &     NA & -0.00421130 & -0.004317137 & 0.00328480 &       NA\\\\\n",
       "\t di\\_blank     & 4 & 0.0735 & 0.069200 & 0.00310376 &    NA & -0.0010609 & -0.0010609 &     NA &  0.00023368 & -0.004317137 & 0.00328480 &       NA\\\\\n",
       "\t filter\\_blank & 1 & 0.0719 & 0.073617 & 0.00318523 &    NA &  0.0032872 &  0.0032872 &     NA & -0.00145965 &  0.000357154 & 0.00337102 &       NA\\\\\n",
       "\t filter\\_blank & 2 & 0.0709 & 0.073617 & 0.00318523 &    NA &  0.0032872 &  0.0032872 &     NA & -0.00251798 &  0.000357154 & 0.00337102 &       NA\\\\\n",
       "\t filter\\_blank & 3 & 0.0697 & 0.073617 & 0.00318523 &    NA &  0.0032872 &  0.0032872 &     NA & -0.00378797 &  0.000357154 & 0.00337102 &       NA\\\\\n",
       "\t filter\\_blank & 4 & 0.0753 & 0.073617 & 0.00318523 &    NA &  0.0032872 &  0.0032872 &     NA &  0.00213868 &  0.000357154 & 0.00337102 &       NA\\\\\n",
       "\t filter\\_blank & 5 & 0.0770 & 0.073617 & 0.00318523 &    NA &  0.0032872 &  0.0032872 &     NA &  0.00393784 &  0.000357154 & 0.00337102 &       NA\\\\\n",
       "\t filter\\_blank & 6 & 0.0769 & 0.073617 & 0.00318523 &    NA &  0.0032872 &  0.0032872 &     NA &  0.00383200 &  0.000357154 & 0.00337102 &       NA\\\\\n",
       "\\end{tabular}\n"
      ],
      "text/markdown": [
       "\n",
       "A tibble: 48 × 13\n",
       "\n",
       "| sample &lt;chr&gt; | rep &lt;int&gt; | od &lt;dbl&gt; | avg_od &lt;dbl&gt; | sd_od &lt;dbl&gt; | actual_conc &lt;dbl&gt; | predicted_conc_avglm &lt;dbl&gt; | avg_predicted_conc_avglm &lt;dbl&gt; | percent_error_avglm &lt;dbl&gt; | predicted_conc &lt;dbl&gt; | avg_predicted_conc &lt;dbl&gt; | sd_predicted_conc &lt;dbl&gt; | percent_error &lt;dbl&gt; |\n",
       "|---|---|---|---|---|---|---|---|---|---|---|---|---|\n",
       "| s123         | 1 | 0.0767 | 0.079617 | 0.00425461 |    NA |  0.0091939 |  0.0091939 |     NA |  0.00362034 |  0.006707134 | 0.00450278 |       NA |\n",
       "| s123         | 2 | 0.0752 | 0.079617 | 0.00425461 |    NA |  0.0091939 |  0.0091939 |     NA |  0.00203284 |  0.006707134 | 0.00450278 |       NA |\n",
       "| s123         | 3 | 0.0773 | 0.079617 | 0.00425461 |    NA |  0.0091939 |  0.0091939 |     NA |  0.00425534 |  0.006707134 | 0.00450278 |       NA |\n",
       "| s123         | 4 | 0.0860 | 0.079617 | 0.00425461 |    NA |  0.0091939 |  0.0091939 |     NA |  0.01346281 |  0.006707134 | 0.00450278 |       NA |\n",
       "| s123         | 5 | 0.0789 | 0.079617 | 0.00425461 |    NA |  0.0091939 |  0.0091939 |     NA |  0.00594866 |  0.006707134 | 0.00450278 |       NA |\n",
       "| s123         | 6 | 0.0836 | 0.079617 | 0.00425461 |    NA |  0.0091939 |  0.0091939 |     NA |  0.01092282 |  0.006707134 | 0.00450278 |       NA |\n",
       "| s159         | 1 | 0.0762 | 0.089700 | 0.01933877 |    NA |  0.0191205 |  0.0191205 |     NA |  0.00309117 |  0.017378629 | 0.02046680 |       NA |\n",
       "| s159         | 2 | 0.0751 | 0.089700 | 0.01933877 |    NA |  0.0191205 |  0.0191205 |     NA |  0.00192701 |  0.017378629 | 0.02046680 |       NA |\n",
       "| s159         | 3 | 0.1259 | 0.089700 | 0.01933877 |    NA |  0.0191205 |  0.0191205 |     NA |  0.05569018 |  0.017378629 | 0.02046680 |       NA |\n",
       "| s159         | 4 | 0.0845 | 0.089700 | 0.01933877 |    NA |  0.0191205 |  0.0191205 |     NA |  0.01187531 |  0.017378629 | 0.02046680 |       NA |\n",
       "| s159         | 5 | 0.0964 | 0.089700 | 0.01933877 |    NA |  0.0191205 |  0.0191205 |     NA |  0.02446944 |  0.017378629 | 0.02046680 |       NA |\n",
       "| s159         | 6 | 0.0801 | 0.089700 | 0.01933877 |    NA |  0.0191205 |  0.0191205 |     NA |  0.00721866 |  0.017378629 | 0.02046680 |       NA |\n",
       "| s123spk      | 1 | 0.2929 | 0.291500 | 0.00127671 |    NA |  0.2177835 |  0.2177835 | 15.977 |  0.23243129 |  0.230949632 | 0.00135119 |  10.3253 |\n",
       "| s123spk      | 2 | 0.2904 | 0.291500 | 0.00127671 |    NA |  0.2177835 |  0.2177835 | 15.977 |  0.22978547 |  0.230949632 | 0.00135119 |  11.3461 |\n",
       "| s123spk      | 3 | 0.2912 | 0.291500 | 0.00127671 |    NA |  0.2177835 |  0.2177835 | 15.977 |  0.23063213 |  0.230949632 | 0.00135119 |  11.0195 |\n",
       "| s159spk      | 1 | 0.4866 | 0.486500 | 0.00055678 |    NA |  0.4097522 |  0.4097522 | 21.068 |  0.43742982 |  0.437323990 | 0.00058925 |  15.7364 |\n",
       "| s159spk      | 2 | 0.4859 | 0.486500 | 0.00055678 |    NA |  0.4097522 |  0.4097522 | 21.068 |  0.43668899 |  0.437323990 | 0.00058925 |  15.8791 |\n",
       "| s159spk      | 3 | 0.4870 | 0.486500 | 0.00055678 |    NA |  0.4097522 |  0.4097522 | 21.068 |  0.43785315 |  0.437323990 | 0.00058925 |  15.6548 |\n",
       "| qc1          | 1 | 0.8543 | 0.865820 | 0.00890292 | 1.000 |  0.7831756 |  0.7831756 | 21.682 |  0.82657778 |  0.838769742 | 0.00942223 |  17.3422 |\n",
       "| qc1          | 2 | 0.8750 | 0.865820 | 0.00890292 | 1.000 |  0.7831756 |  0.7831756 | 21.682 |  0.84848521 |  0.838769742 | 0.00942223 |  15.1515 |\n",
       "| qc1          | 3 | 0.8594 | 0.865820 | 0.00890292 | 1.000 |  0.7831756 |  0.7831756 | 21.682 |  0.83197526 |  0.838769742 | 0.00942223 |  16.8025 |\n",
       "| qc1          | 4 | 0.8670 | 0.865820 | 0.00890292 | 1.000 |  0.7831756 |  0.7831756 | 21.682 |  0.84001857 |  0.838769742 | 0.00942223 |  15.9981 |\n",
       "| qc1          | 5 | 0.8734 | 0.865820 | 0.00890292 | 1.000 |  0.7831756 |  0.7831756 | 21.682 |  0.84679188 |  0.838769742 | 0.00942223 |  15.3208 |\n",
       "| qc2          | 1 | 0.4853 | 0.493740 | 0.00574569 | 0.500 |  0.4168796 |  0.4168796 | 16.624 |  0.43605399 |  0.444986299 | 0.00608084 |  12.7892 |\n",
       "| qc2          | 2 | 0.4912 | 0.493740 | 0.00574569 | 0.500 |  0.4168796 |  0.4168796 | 16.624 |  0.44229814 |  0.444986299 | 0.00608084 |  11.5404 |\n",
       "| qc2          | 3 | 0.4971 | 0.493740 | 0.00574569 | 0.500 |  0.4168796 |  0.4168796 | 16.624 |  0.44854229 |  0.444986299 | 0.00608084 |  10.2915 |\n",
       "| qc2          | 4 | 0.4949 | 0.493740 | 0.00574569 | 0.500 |  0.4168796 |  0.4168796 | 16.624 |  0.44621396 |  0.444986299 | 0.00608084 |  10.7572 |\n",
       "| qc2          | 5 | 0.5002 | 0.493740 | 0.00574569 | 0.500 |  0.4168796 |  0.4168796 | 16.624 |  0.45182311 |  0.444986299 | 0.00608084 |   9.6354 |\n",
       "| qc3          | 1 | 0.1132 | 0.109680 | 0.00685471 | 0.050 |  0.0387899 |  0.0387899 | 22.420 |  0.04224938 |  0.038524063 | 0.00725454 |  15.5012 |\n",
       "| qc3          | 2 | 0.1115 | 0.109680 | 0.00685471 | 0.050 |  0.0387899 |  0.0387899 | 22.420 |  0.04045022 |  0.038524063 | 0.00725454 |  19.0996 |\n",
       "| qc3          | 3 | 0.0975 | 0.109680 | 0.00685471 | 0.050 |  0.0387899 |  0.0387899 | 22.420 |  0.02563360 |  0.038524063 | 0.00725454 |  48.7328 |\n",
       "| qc3          | 4 | 0.1126 | 0.109680 | 0.00685471 | 0.050 |  0.0387899 |  0.0387899 | 22.420 |  0.04161439 |  0.038524063 | 0.00725454 |  16.7712 |\n",
       "| qc3          | 5 | 0.1136 | 0.109680 | 0.00685471 | 0.050 |  0.0387899 |  0.0387899 | 22.420 |  0.04267272 |  0.038524063 | 0.00725454 |  14.6546 |\n",
       "| qc4          | 1 | 0.0712 | 0.073340 | 0.00278173 | 0.005 |  0.0030148 |  0.0030148 | 39.704 | -0.00220048 |  0.000064349 | 0.00294398 | 144.0095 |\n",
       "| qc4          | 2 | 0.0714 | 0.073340 | 0.00278173 | 0.005 |  0.0030148 |  0.0030148 | 39.704 | -0.00198881 |  0.000064349 | 0.00294398 | 139.7762 |\n",
       "| qc4          | 3 | 0.0751 | 0.073340 | 0.00278173 | 0.005 |  0.0030148 |  0.0030148 | 39.704 |  0.00192701 |  0.000064349 | 0.00294398 |  61.4598 |\n",
       "| qc4          | 4 | 0.0716 | 0.073340 | 0.00278173 | 0.005 |  0.0030148 |  0.0030148 | 39.704 | -0.00177714 |  0.000064349 | 0.00294398 | 135.5429 |\n",
       "| qc4          | 5 | 0.0774 | 0.073340 | 0.00278173 | 0.005 |  0.0030148 |  0.0030148 | 39.704 |  0.00436117 |  0.000064349 | 0.00294398 |  12.7766 |\n",
       "| di_blank     | 1 | 0.0676 | 0.069200 | 0.00310376 |    NA | -0.0010609 | -0.0010609 |     NA | -0.00601047 | -0.004317137 | 0.00328480 |       NA |\n",
       "| di_blank     | 2 | 0.0664 | 0.069200 | 0.00310376 |    NA | -0.0010609 | -0.0010609 |     NA | -0.00728046 | -0.004317137 | 0.00328480 |       NA |\n",
       "| di_blank     | 3 | 0.0693 | 0.069200 | 0.00310376 |    NA | -0.0010609 | -0.0010609 |     NA | -0.00421130 | -0.004317137 | 0.00328480 |       NA |\n",
       "| di_blank     | 4 | 0.0735 | 0.069200 | 0.00310376 |    NA | -0.0010609 | -0.0010609 |     NA |  0.00023368 | -0.004317137 | 0.00328480 |       NA |\n",
       "| filter_blank | 1 | 0.0719 | 0.073617 | 0.00318523 |    NA |  0.0032872 |  0.0032872 |     NA | -0.00145965 |  0.000357154 | 0.00337102 |       NA |\n",
       "| filter_blank | 2 | 0.0709 | 0.073617 | 0.00318523 |    NA |  0.0032872 |  0.0032872 |     NA | -0.00251798 |  0.000357154 | 0.00337102 |       NA |\n",
       "| filter_blank | 3 | 0.0697 | 0.073617 | 0.00318523 |    NA |  0.0032872 |  0.0032872 |     NA | -0.00378797 |  0.000357154 | 0.00337102 |       NA |\n",
       "| filter_blank | 4 | 0.0753 | 0.073617 | 0.00318523 |    NA |  0.0032872 |  0.0032872 |     NA |  0.00213868 |  0.000357154 | 0.00337102 |       NA |\n",
       "| filter_blank | 5 | 0.0770 | 0.073617 | 0.00318523 |    NA |  0.0032872 |  0.0032872 |     NA |  0.00393784 |  0.000357154 | 0.00337102 |       NA |\n",
       "| filter_blank | 6 | 0.0769 | 0.073617 | 0.00318523 |    NA |  0.0032872 |  0.0032872 |     NA |  0.00383200 |  0.000357154 | 0.00337102 |       NA |\n",
       "\n"
      ],
      "text/plain": [
       "   sample       rep od     avg_od   sd_od      actual_conc predicted_conc_avglm\n",
       "1  s123         1   0.0767 0.079617 0.00425461    NA        0.0091939          \n",
       "2  s123         2   0.0752 0.079617 0.00425461    NA        0.0091939          \n",
       "3  s123         3   0.0773 0.079617 0.00425461    NA        0.0091939          \n",
       "4  s123         4   0.0860 0.079617 0.00425461    NA        0.0091939          \n",
       "5  s123         5   0.0789 0.079617 0.00425461    NA        0.0091939          \n",
       "6  s123         6   0.0836 0.079617 0.00425461    NA        0.0091939          \n",
       "7  s159         1   0.0762 0.089700 0.01933877    NA        0.0191205          \n",
       "8  s159         2   0.0751 0.089700 0.01933877    NA        0.0191205          \n",
       "9  s159         3   0.1259 0.089700 0.01933877    NA        0.0191205          \n",
       "10 s159         4   0.0845 0.089700 0.01933877    NA        0.0191205          \n",
       "11 s159         5   0.0964 0.089700 0.01933877    NA        0.0191205          \n",
       "12 s159         6   0.0801 0.089700 0.01933877    NA        0.0191205          \n",
       "13 s123spk      1   0.2929 0.291500 0.00127671    NA        0.2177835          \n",
       "14 s123spk      2   0.2904 0.291500 0.00127671    NA        0.2177835          \n",
       "15 s123spk      3   0.2912 0.291500 0.00127671    NA        0.2177835          \n",
       "16 s159spk      1   0.4866 0.486500 0.00055678    NA        0.4097522          \n",
       "17 s159spk      2   0.4859 0.486500 0.00055678    NA        0.4097522          \n",
       "18 s159spk      3   0.4870 0.486500 0.00055678    NA        0.4097522          \n",
       "19 qc1          1   0.8543 0.865820 0.00890292 1.000        0.7831756          \n",
       "20 qc1          2   0.8750 0.865820 0.00890292 1.000        0.7831756          \n",
       "21 qc1          3   0.8594 0.865820 0.00890292 1.000        0.7831756          \n",
       "22 qc1          4   0.8670 0.865820 0.00890292 1.000        0.7831756          \n",
       "23 qc1          5   0.8734 0.865820 0.00890292 1.000        0.7831756          \n",
       "24 qc2          1   0.4853 0.493740 0.00574569 0.500        0.4168796          \n",
       "25 qc2          2   0.4912 0.493740 0.00574569 0.500        0.4168796          \n",
       "26 qc2          3   0.4971 0.493740 0.00574569 0.500        0.4168796          \n",
       "27 qc2          4   0.4949 0.493740 0.00574569 0.500        0.4168796          \n",
       "28 qc2          5   0.5002 0.493740 0.00574569 0.500        0.4168796          \n",
       "29 qc3          1   0.1132 0.109680 0.00685471 0.050        0.0387899          \n",
       "30 qc3          2   0.1115 0.109680 0.00685471 0.050        0.0387899          \n",
       "31 qc3          3   0.0975 0.109680 0.00685471 0.050        0.0387899          \n",
       "32 qc3          4   0.1126 0.109680 0.00685471 0.050        0.0387899          \n",
       "33 qc3          5   0.1136 0.109680 0.00685471 0.050        0.0387899          \n",
       "34 qc4          1   0.0712 0.073340 0.00278173 0.005        0.0030148          \n",
       "35 qc4          2   0.0714 0.073340 0.00278173 0.005        0.0030148          \n",
       "36 qc4          3   0.0751 0.073340 0.00278173 0.005        0.0030148          \n",
       "37 qc4          4   0.0716 0.073340 0.00278173 0.005        0.0030148          \n",
       "38 qc4          5   0.0774 0.073340 0.00278173 0.005        0.0030148          \n",
       "39 di_blank     1   0.0676 0.069200 0.00310376    NA       -0.0010609          \n",
       "40 di_blank     2   0.0664 0.069200 0.00310376    NA       -0.0010609          \n",
       "41 di_blank     3   0.0693 0.069200 0.00310376    NA       -0.0010609          \n",
       "42 di_blank     4   0.0735 0.069200 0.00310376    NA       -0.0010609          \n",
       "43 filter_blank 1   0.0719 0.073617 0.00318523    NA        0.0032872          \n",
       "44 filter_blank 2   0.0709 0.073617 0.00318523    NA        0.0032872          \n",
       "45 filter_blank 3   0.0697 0.073617 0.00318523    NA        0.0032872          \n",
       "46 filter_blank 4   0.0753 0.073617 0.00318523    NA        0.0032872          \n",
       "47 filter_blank 5   0.0770 0.073617 0.00318523    NA        0.0032872          \n",
       "48 filter_blank 6   0.0769 0.073617 0.00318523    NA        0.0032872          \n",
       "   avg_predicted_conc_avglm percent_error_avglm predicted_conc\n",
       "1   0.0091939                   NA               0.00362034   \n",
       "2   0.0091939                   NA               0.00203284   \n",
       "3   0.0091939                   NA               0.00425534   \n",
       "4   0.0091939                   NA               0.01346281   \n",
       "5   0.0091939                   NA               0.00594866   \n",
       "6   0.0091939                   NA               0.01092282   \n",
       "7   0.0191205                   NA               0.00309117   \n",
       "8   0.0191205                   NA               0.00192701   \n",
       "9   0.0191205                   NA               0.05569018   \n",
       "10  0.0191205                   NA               0.01187531   \n",
       "11  0.0191205                   NA               0.02446944   \n",
       "12  0.0191205                   NA               0.00721866   \n",
       "13  0.2177835               15.977               0.23243129   \n",
       "14  0.2177835               15.977               0.22978547   \n",
       "15  0.2177835               15.977               0.23063213   \n",
       "16  0.4097522               21.068               0.43742982   \n",
       "17  0.4097522               21.068               0.43668899   \n",
       "18  0.4097522               21.068               0.43785315   \n",
       "19  0.7831756               21.682               0.82657778   \n",
       "20  0.7831756               21.682               0.84848521   \n",
       "21  0.7831756               21.682               0.83197526   \n",
       "22  0.7831756               21.682               0.84001857   \n",
       "23  0.7831756               21.682               0.84679188   \n",
       "24  0.4168796               16.624               0.43605399   \n",
       "25  0.4168796               16.624               0.44229814   \n",
       "26  0.4168796               16.624               0.44854229   \n",
       "27  0.4168796               16.624               0.44621396   \n",
       "28  0.4168796               16.624               0.45182311   \n",
       "29  0.0387899               22.420               0.04224938   \n",
       "30  0.0387899               22.420               0.04045022   \n",
       "31  0.0387899               22.420               0.02563360   \n",
       "32  0.0387899               22.420               0.04161439   \n",
       "33  0.0387899               22.420               0.04267272   \n",
       "34  0.0030148               39.704              -0.00220048   \n",
       "35  0.0030148               39.704              -0.00198881   \n",
       "36  0.0030148               39.704               0.00192701   \n",
       "37  0.0030148               39.704              -0.00177714   \n",
       "38  0.0030148               39.704               0.00436117   \n",
       "39 -0.0010609                   NA              -0.00601047   \n",
       "40 -0.0010609                   NA              -0.00728046   \n",
       "41 -0.0010609                   NA              -0.00421130   \n",
       "42 -0.0010609                   NA               0.00023368   \n",
       "43  0.0032872                   NA              -0.00145965   \n",
       "44  0.0032872                   NA              -0.00251798   \n",
       "45  0.0032872                   NA              -0.00378797   \n",
       "46  0.0032872                   NA               0.00213868   \n",
       "47  0.0032872                   NA               0.00393784   \n",
       "48  0.0032872                   NA               0.00383200   \n",
       "   avg_predicted_conc sd_predicted_conc percent_error\n",
       "1   0.006707134       0.00450278              NA     \n",
       "2   0.006707134       0.00450278              NA     \n",
       "3   0.006707134       0.00450278              NA     \n",
       "4   0.006707134       0.00450278              NA     \n",
       "5   0.006707134       0.00450278              NA     \n",
       "6   0.006707134       0.00450278              NA     \n",
       "7   0.017378629       0.02046680              NA     \n",
       "8   0.017378629       0.02046680              NA     \n",
       "9   0.017378629       0.02046680              NA     \n",
       "10  0.017378629       0.02046680              NA     \n",
       "11  0.017378629       0.02046680              NA     \n",
       "12  0.017378629       0.02046680              NA     \n",
       "13  0.230949632       0.00135119         10.3253     \n",
       "14  0.230949632       0.00135119         11.3461     \n",
       "15  0.230949632       0.00135119         11.0195     \n",
       "16  0.437323990       0.00058925         15.7364     \n",
       "17  0.437323990       0.00058925         15.8791     \n",
       "18  0.437323990       0.00058925         15.6548     \n",
       "19  0.838769742       0.00942223         17.3422     \n",
       "20  0.838769742       0.00942223         15.1515     \n",
       "21  0.838769742       0.00942223         16.8025     \n",
       "22  0.838769742       0.00942223         15.9981     \n",
       "23  0.838769742       0.00942223         15.3208     \n",
       "24  0.444986299       0.00608084         12.7892     \n",
       "25  0.444986299       0.00608084         11.5404     \n",
       "26  0.444986299       0.00608084         10.2915     \n",
       "27  0.444986299       0.00608084         10.7572     \n",
       "28  0.444986299       0.00608084          9.6354     \n",
       "29  0.038524063       0.00725454         15.5012     \n",
       "30  0.038524063       0.00725454         19.0996     \n",
       "31  0.038524063       0.00725454         48.7328     \n",
       "32  0.038524063       0.00725454         16.7712     \n",
       "33  0.038524063       0.00725454         14.6546     \n",
       "34  0.000064349       0.00294398        144.0095     \n",
       "35  0.000064349       0.00294398        139.7762     \n",
       "36  0.000064349       0.00294398         61.4598     \n",
       "37  0.000064349       0.00294398        135.5429     \n",
       "38  0.000064349       0.00294398         12.7766     \n",
       "39 -0.004317137       0.00328480              NA     \n",
       "40 -0.004317137       0.00328480              NA     \n",
       "41 -0.004317137       0.00328480              NA     \n",
       "42 -0.004317137       0.00328480              NA     \n",
       "43  0.000357154       0.00337102              NA     \n",
       "44  0.000357154       0.00337102              NA     \n",
       "45  0.000357154       0.00337102              NA     \n",
       "46  0.000357154       0.00337102              NA     \n",
       "47  0.000357154       0.00337102              NA     \n",
       "48  0.000357154       0.00337102              NA     "
      ]
     },
     "metadata": {},
     "output_type": "display_data"
    }
   ],
   "source": [
    "samples"
   ]
  },
  {
   "cell_type": "code",
   "execution_count": null,
   "id": "ef8cdc49-802b-4950-bbb5-90457ff7513f",
   "metadata": {},
   "outputs": [],
   "source": []
  }
 ],
 "metadata": {
  "kernelspec": {
   "display_name": "R",
   "language": "R",
   "name": "ir"
  },
  "language_info": {
   "codemirror_mode": "r",
   "file_extension": ".r",
   "mimetype": "text/x-r-source",
   "name": "R",
   "pygments_lexer": "r",
   "version": "4.3.3"
  }
 },
 "nbformat": 4,
 "nbformat_minor": 5
}
