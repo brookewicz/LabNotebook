{
 "cells": [
  {
   "cell_type": "markdown",
   "id": "0ddb159e-6e10-44b3-95cc-58a90d3699b4",
   "metadata": {},
   "source": [
    "# NO3 Plate Processing"
   ]
  },
  {
   "cell_type": "markdown",
   "id": "bb00be3b-534a-4125-b755-38b5e1f20ddc",
   "metadata": {},
   "source": [
    "### upload"
   ]
  },
  {
   "cell_type": "code",
   "execution_count": 29,
   "id": "ad5e82bf-60f6-40b9-a0c5-bd4ed54b7e3a",
   "metadata": {},
   "outputs": [],
   "source": [
    "#install.packages('tibble')"
   ]
  },
  {
   "cell_type": "code",
   "execution_count": 30,
   "id": "04c93854-4078-4667-8d91-407ae5127896",
   "metadata": {},
   "outputs": [],
   "source": [
    "library(readxl)\n",
    "library(tidyverse)\n",
    "library(dplyr)\n",
    "library(ggplot2)\n",
    "library(purrr)"
   ]
  },
  {
   "cell_type": "code",
   "execution_count": 31,
   "id": "bf4230a9-655b-4294-a1dc-337f60ad07b3",
   "metadata": {},
   "outputs": [],
   "source": [
    "setwd('/Users/brookesienkiewicz/Documents/LabNotebook/Nutrients/')"
   ]
  },
  {
   "cell_type": "code",
   "execution_count": 32,
   "id": "79c2b4c0-3da8-48b3-b86e-b5d408e6cc55",
   "metadata": {
    "scrolled": true
   },
   "outputs": [],
   "source": [
    "# load plate raws \n",
    "raw <- read.table(\"plate_results/test_apr25_2025.txt\",skip = 3, sep = '\\t',fill=TRUE)\n",
    "# can't figure out how to read in the txt file as is, so manually editing to remove unneccesary cols and rows"
   ]
  },
  {
   "cell_type": "code",
   "execution_count": 33,
   "id": "fd4131eb-1080-4126-9759-db58a7ebf1cf",
   "metadata": {},
   "outputs": [],
   "source": [
    "#suppressWarnings(raw)"
   ]
  },
  {
   "cell_type": "code",
   "execution_count": 34,
   "id": "a8f881ef-7bed-475e-a571-bd25d30efb7d",
   "metadata": {},
   "outputs": [],
   "source": [
    "# filter out unnecessary cols\n",
    "raw<-raw %>%\n",
    "    select(-c(1,2,15,16)) \n",
    "\n",
    "# and seperate plates into 2 dfs\n",
    "raw1<-raw %>%\n",
    "    slice_head(n=8)\n",
    "\n",
    "raw2<-raw[c(13:20),]"
   ]
  },
  {
   "cell_type": "code",
   "execution_count": 35,
   "id": "2d717bcf-b899-40f1-9dd5-314ec9dc7aab",
   "metadata": {},
   "outputs": [],
   "source": [
    "options(scipen = 999)\n",
    "options(digits = 5)  "
   ]
  },
  {
   "cell_type": "code",
   "execution_count": 36,
   "id": "be1770b5-4a1f-4c7d-913e-a2b945713ffa",
   "metadata": {},
   "outputs": [
    {
     "data": {
      "text/html": [
       "<style>\n",
       ".list-inline {list-style: none; margin:0; padding: 0}\n",
       ".list-inline>li {display: inline-block}\n",
       ".list-inline>li:not(:last-child)::after {content: \"\\00b7\"; padding: 0 .5ex}\n",
       "</style>\n",
       "<ol class=list-inline><li>'a'</li><li>'b'</li><li>'c'</li><li>'d'</li><li>'e'</li></ol>\n"
      ],
      "text/latex": [
       "\\begin{enumerate*}\n",
       "\\item 'a'\n",
       "\\item 'b'\n",
       "\\item 'c'\n",
       "\\item 'd'\n",
       "\\item 'e'\n",
       "\\end{enumerate*}\n"
      ],
      "text/markdown": [
       "1. 'a'\n",
       "2. 'b'\n",
       "3. 'c'\n",
       "4. 'd'\n",
       "5. 'e'\n",
       "\n",
       "\n"
      ],
      "text/plain": [
       "[1] \"a\" \"b\" \"c\" \"d\" \"e\""
      ]
     },
     "metadata": {},
     "output_type": "display_data"
    }
   ],
   "source": [
    "letters[1:5]"
   ]
  },
  {
   "cell_type": "code",
   "execution_count": 37,
   "id": "3c53bba9-dcee-44f6-ae5f-55d77a0f6f31",
   "metadata": {},
   "outputs": [],
   "source": [
    "# store dfs in a list to apply all fxns to both \n",
    "raw <- list(raw1,raw2)"
   ]
  },
  {
   "cell_type": "code",
   "execution_count": 38,
   "id": "bc557530-b8b7-4773-a11d-ab908e68846b",
   "metadata": {},
   "outputs": [],
   "source": [
    "## data cleanup \n",
    "# fix colnames \n",
    "\n",
    "# make fxns\n",
    "colname <- function(df) {\n",
    "  colnames(df) <- seq(1:12)\n",
    "  df\n",
    "}\n",
    "\n",
    "rowname <- function(df) {\n",
    "  rownames(df) <- letters[1:8]\n",
    "  df\n",
    "}\n",
    "# convert all to numeric \n",
    "raw <- map(raw, ~ data.frame(map(.x, as.numeric)))\n",
    "\n",
    "#apply fxns \n",
    "raw <- lapply(raw, colname)\n",
    "raw <- lapply(raw, rowname)\n",
    "\n",
    "# seperate dfs \n",
    "raw1 <- raw[[1]]\n",
    "raw2 <- raw[[2]]"
   ]
  },
  {
   "cell_type": "code",
   "execution_count": 39,
   "id": "91b2e3c6-56bc-4755-8764-a929fe888ee8",
   "metadata": {},
   "outputs": [
    {
     "data": {
      "text/html": [
       "<ol>\n",
       "\t<li><table class=\"dataframe\">\n",
       "<caption>A data.frame: 8 × 12</caption>\n",
       "<thead>\n",
       "\t<tr><th></th><th scope=col>1</th><th scope=col>2</th><th scope=col>3</th><th scope=col>4</th><th scope=col>5</th><th scope=col>6</th><th scope=col>7</th><th scope=col>8</th><th scope=col>9</th><th scope=col>10</th><th scope=col>11</th><th scope=col>12</th></tr>\n",
       "\t<tr><th></th><th scope=col>&lt;dbl&gt;</th><th scope=col>&lt;dbl&gt;</th><th scope=col>&lt;dbl&gt;</th><th scope=col>&lt;dbl&gt;</th><th scope=col>&lt;dbl&gt;</th><th scope=col>&lt;dbl&gt;</th><th scope=col>&lt;dbl&gt;</th><th scope=col>&lt;dbl&gt;</th><th scope=col>&lt;dbl&gt;</th><th scope=col>&lt;dbl&gt;</th><th scope=col>&lt;dbl&gt;</th><th scope=col>&lt;dbl&gt;</th></tr>\n",
       "</thead>\n",
       "<tbody>\n",
       "\t<tr><th scope=row>a</th><td>0.0758</td><td>0.0696</td><td>0.0733</td><td>0.0822</td><td>0.0940</td><td>0.0943</td><td>0.1020</td><td>0.1237</td><td>0.0651</td><td>0.0770</td><td>0.0772</td><td>0.0782</td></tr>\n",
       "\t<tr><th scope=row>b</th><td>0.0678</td><td>0.0813</td><td>0.1077</td><td>0.1434</td><td>0.2274</td><td>0.4475</td><td>0.7830</td><td>0.8162</td><td>0.4516</td><td>0.0637</td><td>0.0652</td><td>0.0641</td></tr>\n",
       "\t<tr><th scope=row>c</th><td>0.0680</td><td>0.4031</td><td>0.7271</td><td>1.3046</td><td>2.0966</td><td>1.4425</td><td>0.0706</td><td>0.1093</td><td>0.0739</td><td>0.0659</td><td>0.0658</td><td>0.0665</td></tr>\n",
       "\t<tr><th scope=row>d</th><td>0.0753</td><td>0.0791</td><td>0.0744</td><td>0.0838</td><td>0.0771</td><td>0.0803</td><td>0.0773</td><td>0.0783</td><td>0.0771</td><td>0.0738</td><td>0.0734</td><td>0.0735</td></tr>\n",
       "\t<tr><th scope=row>e</th><td>0.0874</td><td>0.0865</td><td>0.0862</td><td>0.1447</td><td>0.1441</td><td>0.1500</td><td>0.0733</td><td>0.0732</td><td>0.8000</td><td>0.4571</td><td>0.1087</td><td>0.0755</td></tr>\n",
       "\t<tr><th scope=row>f</th><td>0.0695</td><td>0.0671</td><td>0.0660</td><td>0.0685</td><td>0.0687</td><td>0.0689</td><td>0.0722</td><td>0.0650</td><td>0.8201</td><td>0.4570</td><td>0.1089</td><td>0.0726</td></tr>\n",
       "\t<tr><th scope=row>g</th><td>0.0751</td><td>0.0724</td><td>0.0744</td><td>0.0789</td><td>0.0847</td><td>0.0915</td><td>0.1011</td><td>0.0661</td><td>0.1102</td><td>0.3978</td><td>0.7355</td><td>1.3216</td></tr>\n",
       "\t<tr><th scope=row>h</th><td>0.0738</td><td>0.0856</td><td>0.1113</td><td>0.1462</td><td>0.2295</td><td>0.4471</td><td>0.7945</td><td>0.0670</td><td>0.0692</td><td>2.0516</td><td>1.3343</td><td>0.0787</td></tr>\n",
       "</tbody>\n",
       "</table>\n",
       "</li>\n",
       "\t<li><table class=\"dataframe\">\n",
       "<caption>A data.frame: 8 × 12</caption>\n",
       "<thead>\n",
       "\t<tr><th></th><th scope=col>1</th><th scope=col>2</th><th scope=col>3</th><th scope=col>4</th><th scope=col>5</th><th scope=col>6</th><th scope=col>7</th><th scope=col>8</th><th scope=col>9</th><th scope=col>10</th><th scope=col>11</th><th scope=col>12</th></tr>\n",
       "\t<tr><th></th><th scope=col>&lt;dbl&gt;</th><th scope=col>&lt;dbl&gt;</th><th scope=col>&lt;dbl&gt;</th><th scope=col>&lt;dbl&gt;</th><th scope=col>&lt;dbl&gt;</th><th scope=col>&lt;dbl&gt;</th><th scope=col>&lt;dbl&gt;</th><th scope=col>&lt;dbl&gt;</th><th scope=col>&lt;dbl&gt;</th><th scope=col>&lt;dbl&gt;</th><th scope=col>&lt;dbl&gt;</th><th scope=col>&lt;dbl&gt;</th></tr>\n",
       "</thead>\n",
       "<tbody>\n",
       "\t<tr><th scope=row>a</th><td>0.0764</td><td>0.0720</td><td>0.0738</td><td>0.0774</td><td>0.0884</td><td>0.0944</td><td>0.1024</td><td>0.1234</td><td>0.0697</td><td>0.4196</td><td>0.7226</td><td>1.3625</td></tr>\n",
       "\t<tr><th scope=row>b</th><td>0.0566</td><td>0.0721</td><td>0.0965</td><td>0.1315</td><td>0.2113</td><td>0.4151</td><td>0.7365</td><td>0.0696</td><td>1.9883</td><td>1.7696</td><td>0.0708</td><td>0.0701</td></tr>\n",
       "\t<tr><th scope=row>c</th><td>0.0749</td><td>0.0694</td><td>0.0693</td><td>0.0813</td><td>0.0707</td><td>0.0711</td><td>0.0823</td><td>0.0965</td><td>0.0803</td><td>0.0826</td><td>0.0839</td><td>0.0837</td></tr>\n",
       "\t<tr><th scope=row>d</th><td>0.0812</td><td>0.0757</td><td>0.0763</td><td>0.0940</td><td>0.0901</td><td>0.0948</td><td>0.0757</td><td>0.0917</td><td>0.0811</td><td>0.0791</td><td>0.0817</td><td>0.0898</td></tr>\n",
       "\t<tr><th scope=row>e</th><td>0.0706</td><td>0.4059</td><td>0.7066</td><td>1.3574</td><td>2.0121</td><td>1.4808</td><td>0.0676</td><td>0.8859</td><td>0.3620</td><td>0.1154</td><td>0.1151</td><td>0.0706</td></tr>\n",
       "\t<tr><th scope=row>f</th><td>0.0718</td><td>0.0811</td><td>0.1038</td><td>0.1434</td><td>0.2293</td><td>0.4456</td><td>0.7692</td><td>0.8881</td><td>0.4719</td><td>0.1208</td><td>0.0771</td><td>0.0698</td></tr>\n",
       "\t<tr><th scope=row>g</th><td>0.0739</td><td>0.0731</td><td>0.0739</td><td>0.0801</td><td>0.0904</td><td>0.0969</td><td>0.1025</td><td>0.1215</td><td>0.0857</td><td>0.0800</td><td>0.0827</td><td>0.0749</td></tr>\n",
       "\t<tr><th scope=row>h</th><td>0.0741</td><td>0.0752</td><td>0.0776</td><td>0.0770</td><td>0.0901</td><td>0.0944</td><td>0.1053</td><td>0.1276</td><td>0.0723</td><td>0.0733</td><td>0.0755</td><td>0.0691</td></tr>\n",
       "</tbody>\n",
       "</table>\n",
       "</li>\n",
       "</ol>\n"
      ],
      "text/latex": [
       "\\begin{enumerate}\n",
       "\\item A data.frame: 8 × 12\n",
       "\\begin{tabular}{r|llllllllllll}\n",
       "  & 1 & 2 & 3 & 4 & 5 & 6 & 7 & 8 & 9 & 10 & 11 & 12\\\\\n",
       "  & <dbl> & <dbl> & <dbl> & <dbl> & <dbl> & <dbl> & <dbl> & <dbl> & <dbl> & <dbl> & <dbl> & <dbl>\\\\\n",
       "\\hline\n",
       "\ta & 0.0758 & 0.0696 & 0.0733 & 0.0822 & 0.0940 & 0.0943 & 0.1020 & 0.1237 & 0.0651 & 0.0770 & 0.0772 & 0.0782\\\\\n",
       "\tb & 0.0678 & 0.0813 & 0.1077 & 0.1434 & 0.2274 & 0.4475 & 0.7830 & 0.8162 & 0.4516 & 0.0637 & 0.0652 & 0.0641\\\\\n",
       "\tc & 0.0680 & 0.4031 & 0.7271 & 1.3046 & 2.0966 & 1.4425 & 0.0706 & 0.1093 & 0.0739 & 0.0659 & 0.0658 & 0.0665\\\\\n",
       "\td & 0.0753 & 0.0791 & 0.0744 & 0.0838 & 0.0771 & 0.0803 & 0.0773 & 0.0783 & 0.0771 & 0.0738 & 0.0734 & 0.0735\\\\\n",
       "\te & 0.0874 & 0.0865 & 0.0862 & 0.1447 & 0.1441 & 0.1500 & 0.0733 & 0.0732 & 0.8000 & 0.4571 & 0.1087 & 0.0755\\\\\n",
       "\tf & 0.0695 & 0.0671 & 0.0660 & 0.0685 & 0.0687 & 0.0689 & 0.0722 & 0.0650 & 0.8201 & 0.4570 & 0.1089 & 0.0726\\\\\n",
       "\tg & 0.0751 & 0.0724 & 0.0744 & 0.0789 & 0.0847 & 0.0915 & 0.1011 & 0.0661 & 0.1102 & 0.3978 & 0.7355 & 1.3216\\\\\n",
       "\th & 0.0738 & 0.0856 & 0.1113 & 0.1462 & 0.2295 & 0.4471 & 0.7945 & 0.0670 & 0.0692 & 2.0516 & 1.3343 & 0.0787\\\\\n",
       "\\end{tabular}\n",
       "\n",
       "\\item A data.frame: 8 × 12\n",
       "\\begin{tabular}{r|llllllllllll}\n",
       "  & 1 & 2 & 3 & 4 & 5 & 6 & 7 & 8 & 9 & 10 & 11 & 12\\\\\n",
       "  & <dbl> & <dbl> & <dbl> & <dbl> & <dbl> & <dbl> & <dbl> & <dbl> & <dbl> & <dbl> & <dbl> & <dbl>\\\\\n",
       "\\hline\n",
       "\ta & 0.0764 & 0.0720 & 0.0738 & 0.0774 & 0.0884 & 0.0944 & 0.1024 & 0.1234 & 0.0697 & 0.4196 & 0.7226 & 1.3625\\\\\n",
       "\tb & 0.0566 & 0.0721 & 0.0965 & 0.1315 & 0.2113 & 0.4151 & 0.7365 & 0.0696 & 1.9883 & 1.7696 & 0.0708 & 0.0701\\\\\n",
       "\tc & 0.0749 & 0.0694 & 0.0693 & 0.0813 & 0.0707 & 0.0711 & 0.0823 & 0.0965 & 0.0803 & 0.0826 & 0.0839 & 0.0837\\\\\n",
       "\td & 0.0812 & 0.0757 & 0.0763 & 0.0940 & 0.0901 & 0.0948 & 0.0757 & 0.0917 & 0.0811 & 0.0791 & 0.0817 & 0.0898\\\\\n",
       "\te & 0.0706 & 0.4059 & 0.7066 & 1.3574 & 2.0121 & 1.4808 & 0.0676 & 0.8859 & 0.3620 & 0.1154 & 0.1151 & 0.0706\\\\\n",
       "\tf & 0.0718 & 0.0811 & 0.1038 & 0.1434 & 0.2293 & 0.4456 & 0.7692 & 0.8881 & 0.4719 & 0.1208 & 0.0771 & 0.0698\\\\\n",
       "\tg & 0.0739 & 0.0731 & 0.0739 & 0.0801 & 0.0904 & 0.0969 & 0.1025 & 0.1215 & 0.0857 & 0.0800 & 0.0827 & 0.0749\\\\\n",
       "\th & 0.0741 & 0.0752 & 0.0776 & 0.0770 & 0.0901 & 0.0944 & 0.1053 & 0.1276 & 0.0723 & 0.0733 & 0.0755 & 0.0691\\\\\n",
       "\\end{tabular}\n",
       "\n",
       "\\end{enumerate}\n"
      ],
      "text/markdown": [
       "1. \n",
       "A data.frame: 8 × 12\n",
       "\n",
       "| <!--/--> | 1 &lt;dbl&gt; | 2 &lt;dbl&gt; | 3 &lt;dbl&gt; | 4 &lt;dbl&gt; | 5 &lt;dbl&gt; | 6 &lt;dbl&gt; | 7 &lt;dbl&gt; | 8 &lt;dbl&gt; | 9 &lt;dbl&gt; | 10 &lt;dbl&gt; | 11 &lt;dbl&gt; | 12 &lt;dbl&gt; |\n",
       "|---|---|---|---|---|---|---|---|---|---|---|---|---|\n",
       "| a | 0.0758 | 0.0696 | 0.0733 | 0.0822 | 0.0940 | 0.0943 | 0.1020 | 0.1237 | 0.0651 | 0.0770 | 0.0772 | 0.0782 |\n",
       "| b | 0.0678 | 0.0813 | 0.1077 | 0.1434 | 0.2274 | 0.4475 | 0.7830 | 0.8162 | 0.4516 | 0.0637 | 0.0652 | 0.0641 |\n",
       "| c | 0.0680 | 0.4031 | 0.7271 | 1.3046 | 2.0966 | 1.4425 | 0.0706 | 0.1093 | 0.0739 | 0.0659 | 0.0658 | 0.0665 |\n",
       "| d | 0.0753 | 0.0791 | 0.0744 | 0.0838 | 0.0771 | 0.0803 | 0.0773 | 0.0783 | 0.0771 | 0.0738 | 0.0734 | 0.0735 |\n",
       "| e | 0.0874 | 0.0865 | 0.0862 | 0.1447 | 0.1441 | 0.1500 | 0.0733 | 0.0732 | 0.8000 | 0.4571 | 0.1087 | 0.0755 |\n",
       "| f | 0.0695 | 0.0671 | 0.0660 | 0.0685 | 0.0687 | 0.0689 | 0.0722 | 0.0650 | 0.8201 | 0.4570 | 0.1089 | 0.0726 |\n",
       "| g | 0.0751 | 0.0724 | 0.0744 | 0.0789 | 0.0847 | 0.0915 | 0.1011 | 0.0661 | 0.1102 | 0.3978 | 0.7355 | 1.3216 |\n",
       "| h | 0.0738 | 0.0856 | 0.1113 | 0.1462 | 0.2295 | 0.4471 | 0.7945 | 0.0670 | 0.0692 | 2.0516 | 1.3343 | 0.0787 |\n",
       "\n",
       "\n",
       "2. \n",
       "A data.frame: 8 × 12\n",
       "\n",
       "| <!--/--> | 1 &lt;dbl&gt; | 2 &lt;dbl&gt; | 3 &lt;dbl&gt; | 4 &lt;dbl&gt; | 5 &lt;dbl&gt; | 6 &lt;dbl&gt; | 7 &lt;dbl&gt; | 8 &lt;dbl&gt; | 9 &lt;dbl&gt; | 10 &lt;dbl&gt; | 11 &lt;dbl&gt; | 12 &lt;dbl&gt; |\n",
       "|---|---|---|---|---|---|---|---|---|---|---|---|---|\n",
       "| a | 0.0764 | 0.0720 | 0.0738 | 0.0774 | 0.0884 | 0.0944 | 0.1024 | 0.1234 | 0.0697 | 0.4196 | 0.7226 | 1.3625 |\n",
       "| b | 0.0566 | 0.0721 | 0.0965 | 0.1315 | 0.2113 | 0.4151 | 0.7365 | 0.0696 | 1.9883 | 1.7696 | 0.0708 | 0.0701 |\n",
       "| c | 0.0749 | 0.0694 | 0.0693 | 0.0813 | 0.0707 | 0.0711 | 0.0823 | 0.0965 | 0.0803 | 0.0826 | 0.0839 | 0.0837 |\n",
       "| d | 0.0812 | 0.0757 | 0.0763 | 0.0940 | 0.0901 | 0.0948 | 0.0757 | 0.0917 | 0.0811 | 0.0791 | 0.0817 | 0.0898 |\n",
       "| e | 0.0706 | 0.4059 | 0.7066 | 1.3574 | 2.0121 | 1.4808 | 0.0676 | 0.8859 | 0.3620 | 0.1154 | 0.1151 | 0.0706 |\n",
       "| f | 0.0718 | 0.0811 | 0.1038 | 0.1434 | 0.2293 | 0.4456 | 0.7692 | 0.8881 | 0.4719 | 0.1208 | 0.0771 | 0.0698 |\n",
       "| g | 0.0739 | 0.0731 | 0.0739 | 0.0801 | 0.0904 | 0.0969 | 0.1025 | 0.1215 | 0.0857 | 0.0800 | 0.0827 | 0.0749 |\n",
       "| h | 0.0741 | 0.0752 | 0.0776 | 0.0770 | 0.0901 | 0.0944 | 0.1053 | 0.1276 | 0.0723 | 0.0733 | 0.0755 | 0.0691 |\n",
       "\n",
       "\n",
       "\n",
       "\n"
      ],
      "text/plain": [
       "[[1]]\n",
       "       1      2      3      4      5      6      7      8      9     10     11\n",
       "a 0.0758 0.0696 0.0733 0.0822 0.0940 0.0943 0.1020 0.1237 0.0651 0.0770 0.0772\n",
       "b 0.0678 0.0813 0.1077 0.1434 0.2274 0.4475 0.7830 0.8162 0.4516 0.0637 0.0652\n",
       "c 0.0680 0.4031 0.7271 1.3046 2.0966 1.4425 0.0706 0.1093 0.0739 0.0659 0.0658\n",
       "d 0.0753 0.0791 0.0744 0.0838 0.0771 0.0803 0.0773 0.0783 0.0771 0.0738 0.0734\n",
       "e 0.0874 0.0865 0.0862 0.1447 0.1441 0.1500 0.0733 0.0732 0.8000 0.4571 0.1087\n",
       "f 0.0695 0.0671 0.0660 0.0685 0.0687 0.0689 0.0722 0.0650 0.8201 0.4570 0.1089\n",
       "g 0.0751 0.0724 0.0744 0.0789 0.0847 0.0915 0.1011 0.0661 0.1102 0.3978 0.7355\n",
       "h 0.0738 0.0856 0.1113 0.1462 0.2295 0.4471 0.7945 0.0670 0.0692 2.0516 1.3343\n",
       "      12\n",
       "a 0.0782\n",
       "b 0.0641\n",
       "c 0.0665\n",
       "d 0.0735\n",
       "e 0.0755\n",
       "f 0.0726\n",
       "g 1.3216\n",
       "h 0.0787\n",
       "\n",
       "[[2]]\n",
       "       1      2      3      4      5      6      7      8      9     10     11\n",
       "a 0.0764 0.0720 0.0738 0.0774 0.0884 0.0944 0.1024 0.1234 0.0697 0.4196 0.7226\n",
       "b 0.0566 0.0721 0.0965 0.1315 0.2113 0.4151 0.7365 0.0696 1.9883 1.7696 0.0708\n",
       "c 0.0749 0.0694 0.0693 0.0813 0.0707 0.0711 0.0823 0.0965 0.0803 0.0826 0.0839\n",
       "d 0.0812 0.0757 0.0763 0.0940 0.0901 0.0948 0.0757 0.0917 0.0811 0.0791 0.0817\n",
       "e 0.0706 0.4059 0.7066 1.3574 2.0121 1.4808 0.0676 0.8859 0.3620 0.1154 0.1151\n",
       "f 0.0718 0.0811 0.1038 0.1434 0.2293 0.4456 0.7692 0.8881 0.4719 0.1208 0.0771\n",
       "g 0.0739 0.0731 0.0739 0.0801 0.0904 0.0969 0.1025 0.1215 0.0857 0.0800 0.0827\n",
       "h 0.0741 0.0752 0.0776 0.0770 0.0901 0.0944 0.1053 0.1276 0.0723 0.0733 0.0755\n",
       "      12\n",
       "a 1.3625\n",
       "b 0.0701\n",
       "c 0.0837\n",
       "d 0.0898\n",
       "e 0.0706\n",
       "f 0.0698\n",
       "g 0.0749\n",
       "h 0.0691\n"
      ]
     },
     "metadata": {},
     "output_type": "display_data"
    }
   ],
   "source": [
    "raw"
   ]
  },
  {
   "cell_type": "markdown",
   "id": "17171a56-f856-4c99-a88e-0cce50f0e6ec",
   "metadata": {},
   "source": [
    "## Standard Test - processing \n",
    "this standards test plate was run on 4/11\n",
    "- 5x **extra low (0 - 0.05 ppm)**\n",
    "- 4x **standards (0 - 1 ppm)**\n",
    "- 4x high **standards (0-10ppm)**\n",
    "- 7x filter blank wells\n",
    "    - plate 1 B 9:11, F8\n",
    "    - plate 2 F-H 12\n",
    "- 3 reps of 4 QC checks using ERA standard\n",
    "- 6x DI\n",
    "- 16 samples (3x each)\n",
    "- 5x Halka's cocrystal (5 dilutions, 3x each)"
   ]
  },
  {
   "cell_type": "code",
   "execution_count": 40,
   "id": "39709b23-dd72-4b0f-a165-bd86c08ea090",
   "metadata": {},
   "outputs": [
    {
     "name": "stderr",
     "output_type": "stream",
     "text": [
      "\u001b[1m\u001b[22mNew names:\n",
      "\u001b[36m•\u001b[39m `` -> `...1`\n",
      "\u001b[36m•\u001b[39m `` -> `...14`\n",
      "\u001b[36m•\u001b[39m `` -> `...15`\n",
      "\u001b[36m•\u001b[39m `` -> `...16`\n"
     ]
    }
   ],
   "source": [
    "# upload plate set up \n",
    "plate_setup <- read_excel('plate_maps/SampleMap_4_24_2025.xlsx') %>% select(-1)\n",
    "# %>% select(-1) %>% select(-13)%>% slice(1:8)"
   ]
  },
  {
   "cell_type": "code",
   "execution_count": 41,
   "id": "e36b4d76-1cf5-4bd1-a5eb-a8abab465279",
   "metadata": {},
   "outputs": [],
   "source": [
    "plate_setup1 <-plate_setup %>% select(1:12)%>% slice(1:8)\n",
    "plate_setup2 <-plate_setup %>% select(1:12)%>% slice(11:18)"
   ]
  },
  {
   "cell_type": "code",
   "execution_count": 42,
   "id": "b5146e07-83a2-4fb2-a48b-b3ac2f0ee7b3",
   "metadata": {},
   "outputs": [],
   "source": [
    "## data cleanup \n",
    "plate_setup1<-as.data.frame(plate_setup1)\n",
    "plate_setup2<-as.data.frame(plate_setup2)\n",
    "\n",
    "rownames(plate_setup1) <- letters[1:8]\n",
    "rownames(plate_setup2) <- letters[1:8]"
   ]
  },
  {
   "cell_type": "code",
   "execution_count": 43,
   "id": "2baea5e7-c6c8-45ea-8285-f61dc9e1a4a5",
   "metadata": {},
   "outputs": [
    {
     "data": {
      "text/html": [
       "<table class=\"dataframe\">\n",
       "<caption>A data.frame: 8 × 12</caption>\n",
       "<thead>\n",
       "\t<tr><th></th><th scope=col>1</th><th scope=col>2</th><th scope=col>3</th><th scope=col>4</th><th scope=col>5</th><th scope=col>6</th><th scope=col>7</th><th scope=col>8</th><th scope=col>9</th><th scope=col>10</th><th scope=col>11</th><th scope=col>12</th></tr>\n",
       "\t<tr><th></th><th scope=col>&lt;chr&gt;</th><th scope=col>&lt;chr&gt;</th><th scope=col>&lt;chr&gt;</th><th scope=col>&lt;chr&gt;</th><th scope=col>&lt;chr&gt;</th><th scope=col>&lt;chr&gt;</th><th scope=col>&lt;chr&gt;</th><th scope=col>&lt;chr&gt;</th><th scope=col>&lt;chr&gt;</th><th scope=col>&lt;chr&gt;</th><th scope=col>&lt;chr&gt;</th><th scope=col>&lt;chr&gt;</th></tr>\n",
       "</thead>\n",
       "<tbody>\n",
       "\t<tr><th scope=row>a</th><td>LOW 1</td><td>LOW 1.5</td><td>LOW 2</td><td>LOW 3</td><td>LOW 4</td><td>LOW 5</td><td>LOW 6     </td><td>LOW 7     </td><td>DI  </td><td>cocrystal1</td><td>cocrystal1</td><td>cocrystal1</td></tr>\n",
       "\t<tr><th scope=row>b</th><td>Std 1</td><td>Std 2  </td><td>Std 3</td><td>Std 4</td><td>Std 5</td><td>Std 6</td><td>Std 7     </td><td>QC1       </td><td>QC2 </td><td>blank     </td><td>blank     </td><td>blank     </td></tr>\n",
       "\t<tr><th scope=row>c</th><td>Hi 1 </td><td>Hi 2   </td><td>Hi 3 </td><td>Hi 4 </td><td>Hi 5 </td><td>Hi 6 </td><td>cocrystal6</td><td>QC3       </td><td>QC4 </td><td>N155      </td><td>N155      </td><td>N155      </td></tr>\n",
       "\t<tr><th scope=row>d</th><td>N148 </td><td>N148   </td><td>N148 </td><td>N128 </td><td>N128 </td><td>N128 </td><td>N124      </td><td>N124      </td><td>N124</td><td>N445      </td><td>N445      </td><td>N445      </td></tr>\n",
       "\t<tr><th scope=row>e</th><td>N489 </td><td>N489   </td><td>N489 </td><td>N478 </td><td>N478 </td><td>N478 </td><td>cocrystal2</td><td>cocrystal2</td><td>QC1 </td><td>QC2       </td><td>QC3       </td><td>QC4       </td></tr>\n",
       "\t<tr><th scope=row>f</th><td>N173 </td><td>N173   </td><td>N173 </td><td>N159 </td><td>N159 </td><td>N159 </td><td>cocrystal2</td><td>blank     </td><td>QC1 </td><td>QC2       </td><td>QC3       </td><td>QC4       </td></tr>\n",
       "\t<tr><th scope=row>g</th><td>LOW 1</td><td>LOW 1.5</td><td>LOW 2</td><td>LOW 3</td><td>LOW 4</td><td>LOW 5</td><td>LOW 6     </td><td>LOW 7     </td><td>Hi 1</td><td>Hi 2      </td><td>Hi 3      </td><td>Hi 4      </td></tr>\n",
       "\t<tr><th scope=row>h</th><td>Std 1</td><td>Std 2  </td><td>Std 3</td><td>Std 4</td><td>Std 5</td><td>Std 6</td><td>Std 7     </td><td>DI        </td><td>DI  </td><td>Hi 5      </td><td>Hi 6      </td><td>cocrystal6</td></tr>\n",
       "</tbody>\n",
       "</table>\n"
      ],
      "text/latex": [
       "A data.frame: 8 × 12\n",
       "\\begin{tabular}{r|llllllllllll}\n",
       "  & 1 & 2 & 3 & 4 & 5 & 6 & 7 & 8 & 9 & 10 & 11 & 12\\\\\n",
       "  & <chr> & <chr> & <chr> & <chr> & <chr> & <chr> & <chr> & <chr> & <chr> & <chr> & <chr> & <chr>\\\\\n",
       "\\hline\n",
       "\ta & LOW 1 & LOW 1.5 & LOW 2 & LOW 3 & LOW 4 & LOW 5 & LOW 6      & LOW 7      & DI   & cocrystal1 & cocrystal1 & cocrystal1\\\\\n",
       "\tb & Std 1 & Std 2   & Std 3 & Std 4 & Std 5 & Std 6 & Std 7      & QC1        & QC2  & blank      & blank      & blank     \\\\\n",
       "\tc & Hi 1  & Hi 2    & Hi 3  & Hi 4  & Hi 5  & Hi 6  & cocrystal6 & QC3        & QC4  & N155       & N155       & N155      \\\\\n",
       "\td & N148  & N148    & N148  & N128  & N128  & N128  & N124       & N124       & N124 & N445       & N445       & N445      \\\\\n",
       "\te & N489  & N489    & N489  & N478  & N478  & N478  & cocrystal2 & cocrystal2 & QC1  & QC2        & QC3        & QC4       \\\\\n",
       "\tf & N173  & N173    & N173  & N159  & N159  & N159  & cocrystal2 & blank      & QC1  & QC2        & QC3        & QC4       \\\\\n",
       "\tg & LOW 1 & LOW 1.5 & LOW 2 & LOW 3 & LOW 4 & LOW 5 & LOW 6      & LOW 7      & Hi 1 & Hi 2       & Hi 3       & Hi 4      \\\\\n",
       "\th & Std 1 & Std 2   & Std 3 & Std 4 & Std 5 & Std 6 & Std 7      & DI         & DI   & Hi 5       & Hi 6       & cocrystal6\\\\\n",
       "\\end{tabular}\n"
      ],
      "text/markdown": [
       "\n",
       "A data.frame: 8 × 12\n",
       "\n",
       "| <!--/--> | 1 &lt;chr&gt; | 2 &lt;chr&gt; | 3 &lt;chr&gt; | 4 &lt;chr&gt; | 5 &lt;chr&gt; | 6 &lt;chr&gt; | 7 &lt;chr&gt; | 8 &lt;chr&gt; | 9 &lt;chr&gt; | 10 &lt;chr&gt; | 11 &lt;chr&gt; | 12 &lt;chr&gt; |\n",
       "|---|---|---|---|---|---|---|---|---|---|---|---|---|\n",
       "| a | LOW 1 | LOW 1.5 | LOW 2 | LOW 3 | LOW 4 | LOW 5 | LOW 6      | LOW 7      | DI   | cocrystal1 | cocrystal1 | cocrystal1 |\n",
       "| b | Std 1 | Std 2   | Std 3 | Std 4 | Std 5 | Std 6 | Std 7      | QC1        | QC2  | blank      | blank      | blank      |\n",
       "| c | Hi 1  | Hi 2    | Hi 3  | Hi 4  | Hi 5  | Hi 6  | cocrystal6 | QC3        | QC4  | N155       | N155       | N155       |\n",
       "| d | N148  | N148    | N148  | N128  | N128  | N128  | N124       | N124       | N124 | N445       | N445       | N445       |\n",
       "| e | N489  | N489    | N489  | N478  | N478  | N478  | cocrystal2 | cocrystal2 | QC1  | QC2        | QC3        | QC4        |\n",
       "| f | N173  | N173    | N173  | N159  | N159  | N159  | cocrystal2 | blank      | QC1  | QC2        | QC3        | QC4        |\n",
       "| g | LOW 1 | LOW 1.5 | LOW 2 | LOW 3 | LOW 4 | LOW 5 | LOW 6      | LOW 7      | Hi 1 | Hi 2       | Hi 3       | Hi 4       |\n",
       "| h | Std 1 | Std 2   | Std 3 | Std 4 | Std 5 | Std 6 | Std 7      | DI         | DI   | Hi 5       | Hi 6       | cocrystal6 |\n",
       "\n"
      ],
      "text/plain": [
       "  1     2       3     4     5     6     7          8          9    10        \n",
       "a LOW 1 LOW 1.5 LOW 2 LOW 3 LOW 4 LOW 5 LOW 6      LOW 7      DI   cocrystal1\n",
       "b Std 1 Std 2   Std 3 Std 4 Std 5 Std 6 Std 7      QC1        QC2  blank     \n",
       "c Hi 1  Hi 2    Hi 3  Hi 4  Hi 5  Hi 6  cocrystal6 QC3        QC4  N155      \n",
       "d N148  N148    N148  N128  N128  N128  N124       N124       N124 N445      \n",
       "e N489  N489    N489  N478  N478  N478  cocrystal2 cocrystal2 QC1  QC2       \n",
       "f N173  N173    N173  N159  N159  N159  cocrystal2 blank      QC1  QC2       \n",
       "g LOW 1 LOW 1.5 LOW 2 LOW 3 LOW 4 LOW 5 LOW 6      LOW 7      Hi 1 Hi 2      \n",
       "h Std 1 Std 2   Std 3 Std 4 Std 5 Std 6 Std 7      DI         DI   Hi 5      \n",
       "  11         12        \n",
       "a cocrystal1 cocrystal1\n",
       "b blank      blank     \n",
       "c N155       N155      \n",
       "d N445       N445      \n",
       "e QC3        QC4       \n",
       "f QC3        QC4       \n",
       "g Hi 3       Hi 4      \n",
       "h Hi 6       cocrystal6"
      ]
     },
     "metadata": {},
     "output_type": "display_data"
    }
   ],
   "source": [
    "plate_setup1"
   ]
  },
  {
   "cell_type": "markdown",
   "id": "737babf7-2bc3-404f-9787-ff9147d43ce5",
   "metadata": {},
   "source": [
    "### Low "
   ]
  },
  {
   "cell_type": "markdown",
   "id": "cd5e9fde-2364-4f84-88d5-a80a93a5a46b",
   "metadata": {},
   "source": [
    "#### add data "
   ]
  },
  {
   "cell_type": "code",
   "execution_count": 44,
   "id": "aa307666-ccf3-45b1-bf3d-38a1535157fa",
   "metadata": {},
   "outputs": [
    {
     "data": {
      "text/html": [
       "<table class=\"dataframe\">\n",
       "<caption>A data.frame: 8 × 7</caption>\n",
       "<thead>\n",
       "\t<tr><th></th><th scope=col>id</th><th scope=col>conc</th><th scope=col>od</th><th scope=col>od2</th><th scope=col>od3</th><th scope=col>od4</th><th scope=col>od5</th></tr>\n",
       "\t<tr><th></th><th scope=col>&lt;chr&gt;</th><th scope=col>&lt;dbl&gt;</th><th scope=col>&lt;dbl&gt;</th><th scope=col>&lt;dbl&gt;</th><th scope=col>&lt;dbl&gt;</th><th scope=col>&lt;dbl&gt;</th><th scope=col>&lt;dbl&gt;</th></tr>\n",
       "</thead>\n",
       "<tbody>\n",
       "\t<tr><th scope=row>1</th><td>LOW 1  </td><td>0.000</td><td>0.0758</td><td>0.0874</td><td>0.0764</td><td>0.0739</td><td>0.0741</td></tr>\n",
       "\t<tr><th scope=row>2</th><td>LOW 1.5</td><td>0.002</td><td>0.0696</td><td>0.0865</td><td>0.0720</td><td>0.0731</td><td>0.0752</td></tr>\n",
       "\t<tr><th scope=row>3</th><td>LOW 2  </td><td>0.005</td><td>0.0733</td><td>0.0862</td><td>0.0738</td><td>0.0739</td><td>0.0776</td></tr>\n",
       "\t<tr><th scope=row>4</th><td>LOW 3  </td><td>0.010</td><td>0.0822</td><td>0.1447</td><td>0.0774</td><td>0.0801</td><td>0.0770</td></tr>\n",
       "\t<tr><th scope=row>5</th><td>LOW 4  </td><td>0.020</td><td>0.0940</td><td>0.1441</td><td>0.0884</td><td>0.0904</td><td>0.0901</td></tr>\n",
       "\t<tr><th scope=row>6</th><td>LOW 5  </td><td>0.030</td><td>0.0943</td><td>0.1500</td><td>0.0944</td><td>0.0969</td><td>0.0944</td></tr>\n",
       "\t<tr><th scope=row>7</th><td>LOW 6  </td><td>0.040</td><td>0.1020</td><td>0.0733</td><td>0.1024</td><td>0.1025</td><td>0.1053</td></tr>\n",
       "\t<tr><th scope=row>8</th><td>LOW 7  </td><td>0.050</td><td>0.1237</td><td>0.0732</td><td>0.1234</td><td>0.1215</td><td>0.1276</td></tr>\n",
       "</tbody>\n",
       "</table>\n"
      ],
      "text/latex": [
       "A data.frame: 8 × 7\n",
       "\\begin{tabular}{r|lllllll}\n",
       "  & id & conc & od & od2 & od3 & od4 & od5\\\\\n",
       "  & <chr> & <dbl> & <dbl> & <dbl> & <dbl> & <dbl> & <dbl>\\\\\n",
       "\\hline\n",
       "\t1 & LOW 1   & 0.000 & 0.0758 & 0.0874 & 0.0764 & 0.0739 & 0.0741\\\\\n",
       "\t2 & LOW 1.5 & 0.002 & 0.0696 & 0.0865 & 0.0720 & 0.0731 & 0.0752\\\\\n",
       "\t3 & LOW 2   & 0.005 & 0.0733 & 0.0862 & 0.0738 & 0.0739 & 0.0776\\\\\n",
       "\t4 & LOW 3   & 0.010 & 0.0822 & 0.1447 & 0.0774 & 0.0801 & 0.0770\\\\\n",
       "\t5 & LOW 4   & 0.020 & 0.0940 & 0.1441 & 0.0884 & 0.0904 & 0.0901\\\\\n",
       "\t6 & LOW 5   & 0.030 & 0.0943 & 0.1500 & 0.0944 & 0.0969 & 0.0944\\\\\n",
       "\t7 & LOW 6   & 0.040 & 0.1020 & 0.0733 & 0.1024 & 0.1025 & 0.1053\\\\\n",
       "\t8 & LOW 7   & 0.050 & 0.1237 & 0.0732 & 0.1234 & 0.1215 & 0.1276\\\\\n",
       "\\end{tabular}\n"
      ],
      "text/markdown": [
       "\n",
       "A data.frame: 8 × 7\n",
       "\n",
       "| <!--/--> | id &lt;chr&gt; | conc &lt;dbl&gt; | od &lt;dbl&gt; | od2 &lt;dbl&gt; | od3 &lt;dbl&gt; | od4 &lt;dbl&gt; | od5 &lt;dbl&gt; |\n",
       "|---|---|---|---|---|---|---|---|\n",
       "| 1 | LOW 1   | 0.000 | 0.0758 | 0.0874 | 0.0764 | 0.0739 | 0.0741 |\n",
       "| 2 | LOW 1.5 | 0.002 | 0.0696 | 0.0865 | 0.0720 | 0.0731 | 0.0752 |\n",
       "| 3 | LOW 2   | 0.005 | 0.0733 | 0.0862 | 0.0738 | 0.0739 | 0.0776 |\n",
       "| 4 | LOW 3   | 0.010 | 0.0822 | 0.1447 | 0.0774 | 0.0801 | 0.0770 |\n",
       "| 5 | LOW 4   | 0.020 | 0.0940 | 0.1441 | 0.0884 | 0.0904 | 0.0901 |\n",
       "| 6 | LOW 5   | 0.030 | 0.0943 | 0.1500 | 0.0944 | 0.0969 | 0.0944 |\n",
       "| 7 | LOW 6   | 0.040 | 0.1020 | 0.0733 | 0.1024 | 0.1025 | 0.1053 |\n",
       "| 8 | LOW 7   | 0.050 | 0.1237 | 0.0732 | 0.1234 | 0.1215 | 0.1276 |\n",
       "\n"
      ],
      "text/plain": [
       "  id      conc  od     od2    od3    od4    od5   \n",
       "1 LOW 1   0.000 0.0758 0.0874 0.0764 0.0739 0.0741\n",
       "2 LOW 1.5 0.002 0.0696 0.0865 0.0720 0.0731 0.0752\n",
       "3 LOW 2   0.005 0.0733 0.0862 0.0738 0.0739 0.0776\n",
       "4 LOW 3   0.010 0.0822 0.1447 0.0774 0.0801 0.0770\n",
       "5 LOW 4   0.020 0.0940 0.1441 0.0884 0.0904 0.0901\n",
       "6 LOW 5   0.030 0.0943 0.1500 0.0944 0.0969 0.0944\n",
       "7 LOW 6   0.040 0.1020 0.0733 0.1024 0.1025 0.1053\n",
       "8 LOW 7   0.050 0.1237 0.0732 0.1234 0.1215 0.1276"
      ]
     },
     "metadata": {},
     "output_type": "display_data"
    }
   ],
   "source": [
    "low <- data.frame(id = unlist(plate_setup1[1, 1:8]),\n",
    "                    conc = c(0,0.002,0.005,0.01,0.02,0.03,0.04,0.05),\n",
    "                  # plate 1\n",
    "                    od = unlist(raw1['a', 1:8]),\n",
    "                    od2 = unlist(raw1['e', 1:8]),\n",
    "                  # plate 2\n",
    "                    od3 = unlist(raw2['a',1:8]),\n",
    "                    od4 = unlist(raw2['g',1:8]),\n",
    "                    od5 = unlist(raw2['h',1:8])\n",
    "                 )\n",
    "low"
   ]
  },
  {
   "cell_type": "code",
   "execution_count": 45,
   "id": "edb37357-549b-4077-9061-45c06261818b",
   "metadata": {},
   "outputs": [
    {
     "name": "stdout",
     "output_type": "stream",
     "text": [
      "'data.frame':\t8 obs. of  7 variables:\n",
      " $ id  : chr  \"LOW 1\" \"LOW 1.5\" \"LOW 2\" \"LOW 3\" ...\n",
      " $ conc: num  0 0.002 0.005 0.01 0.02 0.03 0.04 0.05\n",
      " $ od  : num  0.0758 0.0696 0.0733 0.0822 0.094 ...\n",
      " $ od2 : num  0.0874 0.0865 0.0862 0.1447 0.1441 ...\n",
      " $ od3 : num  0.0764 0.072 0.0738 0.0774 0.0884 ...\n",
      " $ od4 : num  0.0739 0.0731 0.0739 0.0801 0.0904 ...\n",
      " $ od5 : num  0.0741 0.0752 0.0776 0.077 0.0901 ...\n"
     ]
    }
   ],
   "source": [
    "# check character types (all need to be numeric to run model)\n",
    "str(low)"
   ]
  },
  {
   "cell_type": "code",
   "execution_count": 46,
   "id": "7c14a56c-191c-4f03-a06e-b18c49be9df7",
   "metadata": {},
   "outputs": [],
   "source": [
    "# convert concentration to numeric \n",
    "# low$conc <- as.numeric(as.character(low$conc))"
   ]
  },
  {
   "cell_type": "code",
   "execution_count": 47,
   "id": "61d3d7e4-4e93-4215-9f9a-97c5a51148c4",
   "metadata": {},
   "outputs": [],
   "source": [
    "# calculate avg, standard deviation  and pivot \n",
    "low$avg_od <- rowMeans(low[, c(\"od\", \"od2\", \"od3\",\"od4\",\"od5\")])\n",
    "\n",
    "# pivot\n",
    "low_long<-low %>% pivot_longer(cols = c(\"od\", \"od2\", \"od3\",\"od4\",\"od5\"),\n",
    "             names_to = 'rep',\n",
    "             values_to = 'od')\n",
    "# std dev\n",
    "low_long <- low_long %>%\n",
    "  group_by(id) %>%\n",
    "  mutate(sd = sd(od)) %>%\n",
    "  ungroup()"
   ]
  },
  {
   "cell_type": "code",
   "execution_count": 48,
   "id": "dbf1e64b-a306-48d6-bec6-d6fdec504dc5",
   "metadata": {},
   "outputs": [
    {
     "data": {
      "text/html": [
       "<table class=\"dataframe\">\n",
       "<caption>A tibble: 8 × 6</caption>\n",
       "<thead>\n",
       "\t<tr><th scope=col>id</th><th scope=col>conc</th><th scope=col>avg_od</th><th scope=col>rep</th><th scope=col>od</th><th scope=col>sd</th></tr>\n",
       "\t<tr><th scope=col>&lt;chr&gt;</th><th scope=col>&lt;dbl&gt;</th><th scope=col>&lt;dbl&gt;</th><th scope=col>&lt;chr&gt;</th><th scope=col>&lt;dbl&gt;</th><th scope=col>&lt;dbl&gt;</th></tr>\n",
       "</thead>\n",
       "<tbody>\n",
       "\t<tr><td>LOW 1  </td><td>0.000</td><td>0.07752</td><td>od</td><td>0.0758</td><td>0.0056265</td></tr>\n",
       "\t<tr><td>LOW 1.5</td><td>0.002</td><td>0.07528</td><td>od</td><td>0.0696</td><td>0.0065892</td></tr>\n",
       "\t<tr><td>LOW 2  </td><td>0.005</td><td>0.07696</td><td>od</td><td>0.0733</td><td>0.0054436</td></tr>\n",
       "\t<tr><td>LOW 3  </td><td>0.010</td><td>0.09228</td><td>od</td><td>0.0822</td><td>0.0293799</td></tr>\n",
       "\t<tr><td>LOW 4  </td><td>0.020</td><td>0.10140</td><td>od</td><td>0.0940</td><td>0.0239569</td></tr>\n",
       "\t<tr><td>LOW 5  </td><td>0.030</td><td>0.10600</td><td>od</td><td>0.0943</td><td>0.0246212</td></tr>\n",
       "\t<tr><td>LOW 6  </td><td>0.040</td><td>0.09710</td><td>od</td><td>0.1020</td><td>0.0133692</td></tr>\n",
       "\t<tr><td>LOW 7  </td><td>0.050</td><td>0.11388</td><td>od</td><td>0.1237</td><td>0.0228486</td></tr>\n",
       "</tbody>\n",
       "</table>\n"
      ],
      "text/latex": [
       "A tibble: 8 × 6\n",
       "\\begin{tabular}{llllll}\n",
       " id & conc & avg\\_od & rep & od & sd\\\\\n",
       " <chr> & <dbl> & <dbl> & <chr> & <dbl> & <dbl>\\\\\n",
       "\\hline\n",
       "\t LOW 1   & 0.000 & 0.07752 & od & 0.0758 & 0.0056265\\\\\n",
       "\t LOW 1.5 & 0.002 & 0.07528 & od & 0.0696 & 0.0065892\\\\\n",
       "\t LOW 2   & 0.005 & 0.07696 & od & 0.0733 & 0.0054436\\\\\n",
       "\t LOW 3   & 0.010 & 0.09228 & od & 0.0822 & 0.0293799\\\\\n",
       "\t LOW 4   & 0.020 & 0.10140 & od & 0.0940 & 0.0239569\\\\\n",
       "\t LOW 5   & 0.030 & 0.10600 & od & 0.0943 & 0.0246212\\\\\n",
       "\t LOW 6   & 0.040 & 0.09710 & od & 0.1020 & 0.0133692\\\\\n",
       "\t LOW 7   & 0.050 & 0.11388 & od & 0.1237 & 0.0228486\\\\\n",
       "\\end{tabular}\n"
      ],
      "text/markdown": [
       "\n",
       "A tibble: 8 × 6\n",
       "\n",
       "| id &lt;chr&gt; | conc &lt;dbl&gt; | avg_od &lt;dbl&gt; | rep &lt;chr&gt; | od &lt;dbl&gt; | sd &lt;dbl&gt; |\n",
       "|---|---|---|---|---|---|\n",
       "| LOW 1   | 0.000 | 0.07752 | od | 0.0758 | 0.0056265 |\n",
       "| LOW 1.5 | 0.002 | 0.07528 | od | 0.0696 | 0.0065892 |\n",
       "| LOW 2   | 0.005 | 0.07696 | od | 0.0733 | 0.0054436 |\n",
       "| LOW 3   | 0.010 | 0.09228 | od | 0.0822 | 0.0293799 |\n",
       "| LOW 4   | 0.020 | 0.10140 | od | 0.0940 | 0.0239569 |\n",
       "| LOW 5   | 0.030 | 0.10600 | od | 0.0943 | 0.0246212 |\n",
       "| LOW 6   | 0.040 | 0.09710 | od | 0.1020 | 0.0133692 |\n",
       "| LOW 7   | 0.050 | 0.11388 | od | 0.1237 | 0.0228486 |\n",
       "\n"
      ],
      "text/plain": [
       "  id      conc  avg_od  rep od     sd       \n",
       "1 LOW 1   0.000 0.07752 od  0.0758 0.0056265\n",
       "2 LOW 1.5 0.002 0.07528 od  0.0696 0.0065892\n",
       "3 LOW 2   0.005 0.07696 od  0.0733 0.0054436\n",
       "4 LOW 3   0.010 0.09228 od  0.0822 0.0293799\n",
       "5 LOW 4   0.020 0.10140 od  0.0940 0.0239569\n",
       "6 LOW 5   0.030 0.10600 od  0.0943 0.0246212\n",
       "7 LOW 6   0.040 0.09710 od  0.1020 0.0133692\n",
       "8 LOW 7   0.050 0.11388 od  0.1237 0.0228486"
      ]
     },
     "metadata": {},
     "output_type": "display_data"
    }
   ],
   "source": [
    "low_long %>%\n",
    "  distinct(id, .keep_all = TRUE)"
   ]
  },
  {
   "cell_type": "markdown",
   "id": "f812944a-9843-4d0d-bd86-df1b802e2e67",
   "metadata": {},
   "source": [
    "### Standard curve"
   ]
  },
  {
   "cell_type": "code",
   "execution_count": 49,
   "id": "b4a331fe-8694-4250-b0b2-40e118397cc0",
   "metadata": {},
   "outputs": [
    {
     "data": {
      "text/plain": [
       "\n",
       "Call:\n",
       "lm(formula = conc ~ od, data = low_long)\n",
       "\n",
       "Residuals:\n",
       "     Min       1Q   Median       3Q      Max \n",
       "-0.03326 -0.01011 -0.00337  0.01081  0.03914 \n",
       "\n",
       "Coefficients:\n",
       "            Estimate Std. Error t value Pr(>|t|)    \n",
       "(Intercept)  -0.0223     0.0103   -2.18  0.03583 *  \n",
       "od            0.4531     0.1079    4.20  0.00015 ***\n",
       "---\n",
       "Signif. codes:  0 ‘***’ 0.001 ‘**’ 0.01 ‘*’ 0.05 ‘.’ 0.1 ‘ ’ 1\n",
       "\n",
       "Residual standard error: 0.0148 on 38 degrees of freedom\n",
       "Multiple R-squared:  0.317,\tAdjusted R-squared:  0.299 \n",
       "F-statistic: 17.7 on 1 and 38 DF,  p-value: 0.000155\n"
      ]
     },
     "metadata": {},
     "output_type": "display_data"
    }
   ],
   "source": [
    "# create linear standard curve \n",
    "# lm(target(y) ~ predictor(x))\n",
    "# normally concentration is predictor (x), absorbance is response variable (y)\n",
    "# but since we need to predict concentration, switching variables. since they are a linear relationship this should be fine. \n",
    "# SO: conc ~ od means absorbance is predictor (x) and concentration is response (y)\n",
    "low_model <- lm(conc ~ od, data = low_long)\n",
    "# view summary stats (R-squared)\n",
    "summary(low_model)"
   ]
  },
  {
   "cell_type": "code",
   "execution_count": 50,
   "id": "54bd8e7c-9e4b-44c2-b5b8-21e9a96d6dc9",
   "metadata": {},
   "outputs": [
    {
     "data": {
      "text/plain": [
       "\n",
       "Call:\n",
       "lm(formula = conc ~ avg_od, data = low_long)\n",
       "\n",
       "Residuals:\n",
       "      Min        1Q    Median        3Q       Max \n",
       "-0.009717 -0.006051 -0.000201  0.003882  0.015188 \n",
       "\n",
       "Coefficients:\n",
       "            Estimate Std. Error t value           Pr(>|t|)    \n",
       "(Intercept)  -0.0859     0.0087   -9.88 0.0000000000047815 ***\n",
       "avg_od        1.1406     0.0930   12.27 0.0000000000000087 ***\n",
       "---\n",
       "Signif. codes:  0 ‘***’ 0.001 ‘**’ 0.01 ‘*’ 0.05 ‘.’ 0.1 ‘ ’ 1\n",
       "\n",
       "Residual standard error: 0.00806 on 38 degrees of freedom\n",
       "Multiple R-squared:  0.798,\tAdjusted R-squared:  0.793 \n",
       "F-statistic:  150 on 1 and 38 DF,  p-value: 0.00000000000000873\n"
      ]
     },
     "metadata": {},
     "output_type": "display_data"
    }
   ],
   "source": [
    "## use the averages for the curve \n",
    "low_avg_model <- lm(conc ~ avg_od, data = low_long)\n",
    "summary(low_avg_model)"
   ]
  },
  {
   "cell_type": "code",
   "execution_count": 51,
   "id": "db7deb57-be34-439f-a34b-03597bafaf49",
   "metadata": {},
   "outputs": [
    {
     "data": {
      "text/html": [
       "<table class=\"dataframe\">\n",
       "<caption>A data.frame: 2 × 2</caption>\n",
       "<thead>\n",
       "\t<tr><th></th><th scope=col>df</th><th scope=col>AIC</th></tr>\n",
       "\t<tr><th></th><th scope=col>&lt;dbl&gt;</th><th scope=col>&lt;dbl&gt;</th></tr>\n",
       "</thead>\n",
       "<tbody>\n",
       "\t<tr><th scope=row>low_model</th><td>3</td><td>-219.42</td></tr>\n",
       "\t<tr><th scope=row>low_avg_model</th><td>3</td><td>-268.22</td></tr>\n",
       "</tbody>\n",
       "</table>\n"
      ],
      "text/latex": [
       "A data.frame: 2 × 2\n",
       "\\begin{tabular}{r|ll}\n",
       "  & df & AIC\\\\\n",
       "  & <dbl> & <dbl>\\\\\n",
       "\\hline\n",
       "\tlow\\_model & 3 & -219.42\\\\\n",
       "\tlow\\_avg\\_model & 3 & -268.22\\\\\n",
       "\\end{tabular}\n"
      ],
      "text/markdown": [
       "\n",
       "A data.frame: 2 × 2\n",
       "\n",
       "| <!--/--> | df &lt;dbl&gt; | AIC &lt;dbl&gt; |\n",
       "|---|---|---|\n",
       "| low_model | 3 | -219.42 |\n",
       "| low_avg_model | 3 | -268.22 |\n",
       "\n"
      ],
      "text/plain": [
       "              df AIC    \n",
       "low_model     3  -219.42\n",
       "low_avg_model 3  -268.22"
      ]
     },
     "metadata": {},
     "output_type": "display_data"
    }
   ],
   "source": [
    "aic <- AIC(low_model, low_avg_model)\n",
    "aic\n",
    "# non-avg is better, but avg has higher R2"
   ]
  },
  {
   "cell_type": "code",
   "execution_count": null,
   "id": "e22a17a5-8af8-473b-a0ec-8353cf091f77",
   "metadata": {},
   "outputs": [
    {
     "name": "stderr",
     "output_type": "stream",
     "text": [
      "\u001b[1m\u001b[22m`geom_smooth()` using formula = 'y ~ x'\n"
     ]
    }
   ],
   "source": [
    "# Plot the data with the regression line\n",
    "ggplot(low_long, aes(x = od, y = conc, color = rep)) +\n",
    "       geom_point() +\n",
    "       geom_smooth(method = \"lm\", se = FALSE)"
   ]
  },
  {
   "cell_type": "code",
   "execution_count": null,
   "id": "37b3405b-760f-4385-95ac-a792b2b471d4",
   "metadata": {},
   "outputs": [],
   "source": [
    "ggplot(low_long, aes(x = avg_od, y = conc)) + \n",
    "  geom_point() +  # Plot the average OD\n",
    "  geom_errorbarh(aes(xmin = avg_od - sd, xmax = avg_od + sd)) +  # Add horizontal error bars\n",
    "  geom_smooth(method = \"lm\", se = FALSE, linetype = \"solid\") +  # Add regression line\n",
    "  theme_minimal()"
   ]
  },
  {
   "cell_type": "code",
   "execution_count": null,
   "id": "4a9df9b8-ef72-46e2-9127-0141d6bbc9a4",
   "metadata": {},
   "outputs": [],
   "source": [
    "# remove od 2\n",
    "low_long<-low_long %>%\n",
    "    filter(!rep=='od2')\n",
    "\n",
    "# rerun lm \n",
    "low_model <- lm(conc ~ od, data = low_long)\n",
    "summary(low_model)\n",
    "\n",
    "low_avg_model <- lm(conc ~ avg_od, data = low_long)\n",
    "summary(low_avg_model)\n",
    "\n",
    "AIC(low_model, low_avg_model)"
   ]
  },
  {
   "cell_type": "code",
   "execution_count": null,
   "id": "4574cafd-9eb6-4538-8085-daff91e5ac4b",
   "metadata": {},
   "outputs": [],
   "source": [
    "# Plot the data with the regression line\n",
    "ggplot(low_long, aes(x = od, y = conc, color = rep)) +\n",
    "       geom_point() +\n",
    "       geom_smooth(method = \"lm\", se = FALSE)"
   ]
  },
  {
   "cell_type": "code",
   "execution_count": null,
   "id": "7e248124-932e-4814-94cb-d7840e35b942",
   "metadata": {},
   "outputs": [],
   "source": [
    "ggplot(low_long, aes(x = avg_od, y = conc)) + \n",
    "  geom_point() +  # Plot the average OD\n",
    "  geom_errorbarh(aes(xmin = avg_od - sd, xmax = avg_od + sd)) +  # Add horizontal error bars\n",
    "  geom_smooth(method = \"lm\", se = FALSE, linetype = \"solid\") +  # Add regression line\n",
    "  theme_minimal()"
   ]
  },
  {
   "cell_type": "markdown",
   "id": "af876fee-8b26-4ac2-a6fa-9fdca2e67f8c",
   "metadata": {},
   "source": [
    "### High"
   ]
  },
  {
   "cell_type": "code",
   "execution_count": null,
   "id": "c0f36c09-9329-469a-bb01-6b046f11201f",
   "metadata": {},
   "outputs": [],
   "source": [
    "# add high curve\n",
    "\n",
    "# high\n",
    "# plate1 - c 1:6\n",
    "        # - g 9:12\n",
    "        # - h 10:11\n",
    "# plate 2 - e 1:6\n",
    "        # - a 9:12\n",
    "        # - b 9:10"
   ]
  },
  {
   "cell_type": "code",
   "execution_count": null,
   "id": "75e7c07b-b875-4ee3-ae06-6045a527342d",
   "metadata": {},
   "outputs": [],
   "source": [
    "hi <- data.frame(id = unlist(plate_setup1['c', 1:6]),\n",
    "                    conc = c(0,0.05,1,2,5,10),\n",
    "                 # plate 1 \n",
    "                    od = unlist(raw1['c', 1:6]),\n",
    "                    od2 = c(unlist(raw1['g', 9:12]), unlist(raw1['h', 10:11])),\n",
    "                 # plate 2\n",
    "                    od3 = unlist(raw2['e', 1:6]),\n",
    "                    od4 = c(unlist(raw2['a', 9:12]), unlist(raw2['b', 9:10]))\n",
    ")\n",
    "\n",
    "hi"
   ]
  },
  {
   "cell_type": "code",
   "execution_count": null,
   "id": "63ca779e-982a-4d3a-ae32-b76c3f667dfc",
   "metadata": {},
   "outputs": [],
   "source": [
    "# calculate avg, standard deviation  and pivot \n",
    "hi$avg_od <- rowMeans(hi[, c(\"od\", \"od2\",\"od3\",\"od4\")])\n",
    "\n",
    "# pivot\n",
    "hi_long<-hi %>% pivot_longer(cols = c(\"od\", \"od2\",\"od3\",\"od4\"),\n",
    "             names_to = 'rep',\n",
    "             values_to = 'od')\n",
    "# std dev\n",
    "hi_long <- hi_long %>%\n",
    "  group_by(id) %>%\n",
    "  mutate(sd = sd(od)) %>%\n",
    "  ungroup()"
   ]
  },
  {
   "cell_type": "code",
   "execution_count": null,
   "id": "eb8f50fa-9ab6-42e3-8ce6-35b81aaa4173",
   "metadata": {},
   "outputs": [],
   "source": [
    "head(hi_long)"
   ]
  },
  {
   "cell_type": "markdown",
   "id": "163ade46-10a1-45a3-bc4b-43241d2d2b5f",
   "metadata": {},
   "source": [
    "#### Standard curve"
   ]
  },
  {
   "cell_type": "code",
   "execution_count": null,
   "id": "16350188-ef1e-4fdc-928f-25b5adf9499e",
   "metadata": {},
   "outputs": [],
   "source": [
    "# create linear standard curve \n",
    "# lm(target(y) ~ predictor(x))\n",
    "# normally concentration is predictor (x), absorbance is response variable (y)\n",
    "# but since we need to predict concentration, switching variables. since they are a linear relationship this should be fine. \n",
    "# SO: conc ~ od means absorbance is predictor (x) and concentration is response (y)\n",
    "hi_model <- lm(conc ~ od, data = hi_long)\n",
    "# view summary stats (R-squared)\n",
    "summary(hi_model)"
   ]
  },
  {
   "cell_type": "code",
   "execution_count": null,
   "id": "1cbbbea7-b252-4171-a1f4-68f5f85207f4",
   "metadata": {},
   "outputs": [],
   "source": [
    "## use the averages for the curve \n",
    "hi_avg_model <- lm(conc ~ avg_od, data = hi_long)\n",
    "summary(hi_avg_model)"
   ]
  },
  {
   "cell_type": "code",
   "execution_count": null,
   "id": "78eb7b45-2f04-4277-b111-84d7d9f46d5c",
   "metadata": {},
   "outputs": [],
   "source": [
    "aic <- AIC(hi_model, hi_avg_model)\n",
    "aic\n",
    "# soo close for aic and r squared, so just use avg "
   ]
  },
  {
   "cell_type": "code",
   "execution_count": null,
   "id": "206429c1-7af6-40e0-9908-f7dc906cbf76",
   "metadata": {},
   "outputs": [],
   "source": [
    "# Plot the data with the regression line\n",
    "ggplot(hi_long, aes(x = od, y = conc, color = rep)) +\n",
    "       geom_point() +\n",
    "       geom_smooth(method = \"lm\", se = FALSE)"
   ]
  },
  {
   "cell_type": "code",
   "execution_count": null,
   "id": "3cabb9c1-8043-4dd6-a84b-1ee1a0b111cd",
   "metadata": {},
   "outputs": [],
   "source": [
    "ggplot(hi_long, aes(x = avg_od, y = conc)) + \n",
    "  geom_point() +  # Plot the average OD\n",
    "  geom_errorbarh(aes(xmin = avg_od - sd, xmax = avg_od + sd)) +  # Add horizontal error bars\n",
    "  geom_smooth(method = \"lm\", se = FALSE, linetype = \"solid\") +  # Add regression line\n",
    "  theme_minimal()"
   ]
  },
  {
   "cell_type": "markdown",
   "id": "5f86c983-0081-4ec9-9d19-be8fb08c979a",
   "metadata": {},
   "source": [
    "### stnd (mid) curve"
   ]
  },
  {
   "cell_type": "code",
   "execution_count": null,
   "id": "2bed21ca-1e08-438a-8737-1b760c1aa67c",
   "metadata": {},
   "outputs": [],
   "source": [
    "# add standard (mid) curve \n",
    "\n",
    "stnd <- data.frame(id = unlist(plate_setup1['b', 1:7]),\n",
    "                    conc = c(0,0.02,0.05,0.1,0.2,0.5,1),\n",
    "                   # plate 1\n",
    "                    od = unlist(raw1['b', 1:7]),\n",
    "                    od2 = unlist(raw1['h', 1:7]),\n",
    "                   # plate 2\n",
    "                    od3 = unlist(raw2['b', 1:7]),\n",
    "                    od4 = unlist(raw2['f', 1:7])\n",
    "                 )\n",
    "stnd"
   ]
  },
  {
   "cell_type": "code",
   "execution_count": null,
   "id": "74062d9a-5b48-40f9-9fc5-f14e1456aa38",
   "metadata": {},
   "outputs": [],
   "source": [
    "# calculate avg, standard deviation  and pivot \n",
    "stnd$avg_od <- rowMeans(stnd[, c(\"od\", \"od2\",\"od3\",\"od4\")])\n",
    "\n",
    "# pivot\n",
    "stnd_long<-stnd %>% pivot_longer(cols = c(\"od\", \"od2\",\"od3\",\"od4\"),\n",
    "             names_to = 'rep',\n",
    "             values_to = 'od')\n",
    "# std dev\n",
    "stnd_long <- stnd_long %>%\n",
    "  group_by(id) %>%\n",
    "  mutate(sd = sd(od)) %>%\n",
    "  ungroup()"
   ]
  },
  {
   "cell_type": "code",
   "execution_count": null,
   "id": "7baa6231-dbab-49d5-89c0-baf9433abd4a",
   "metadata": {},
   "outputs": [],
   "source": [
    "head(stnd_long)"
   ]
  },
  {
   "cell_type": "markdown",
   "id": "e0039c38-e346-43b8-8f0d-ef2c0ddabc13",
   "metadata": {},
   "source": [
    "#### Standard curve"
   ]
  },
  {
   "cell_type": "code",
   "execution_count": null,
   "id": "8b42d94a-b6ba-44a2-8010-a27d9085539d",
   "metadata": {},
   "outputs": [],
   "source": [
    "# create linear standard curve \n",
    "# lm(target(y) ~ predictor(x))\n",
    "# normally concentration is predictor (x), absorbance is response variable (y)\n",
    "# but since we need to predict concentration, switching variables. since they are a linear relationship this should be fine. \n",
    "# SO: conc ~ od means absorbance is predictor (x) and concentration is response (y)\n",
    "stnd_model <- lm(conc ~ od, data = stnd_long)\n",
    "# view summary stats (R-squared)\n",
    "summary(stnd_model)"
   ]
  },
  {
   "cell_type": "code",
   "execution_count": null,
   "id": "8a871e62-0b91-403c-8842-752748b61ef0",
   "metadata": {},
   "outputs": [],
   "source": [
    "## use the averages for the curve \n",
    "stnd_avg_model <- lm(conc ~ avg_od, data = stnd_long)\n",
    "summary(stnd_avg_model)"
   ]
  },
  {
   "cell_type": "code",
   "execution_count": null,
   "id": "040edb23-d81a-4b59-9415-9e691019e091",
   "metadata": {},
   "outputs": [],
   "source": [
    "aic <- AIC(stnd_model, stnd_avg_model)\n",
    "aic\n",
    "# soo close for aic and r squared, so just use avg "
   ]
  },
  {
   "cell_type": "code",
   "execution_count": null,
   "id": "22927cdc-36ee-4cb2-9cf0-96ef3850d08a",
   "metadata": {},
   "outputs": [],
   "source": [
    "# Plot the data with the regression line\n",
    "ggplot(stnd_long, aes(x = od, y = conc, color = rep)) +\n",
    "       geom_point() +\n",
    "       geom_smooth(method = \"lm\", se = FALSE)"
   ]
  },
  {
   "cell_type": "code",
   "execution_count": null,
   "id": "cdd2f00e-1f72-44dd-885a-a08156cdba3a",
   "metadata": {},
   "outputs": [],
   "source": [
    "ggplot(stnd_long, aes(x = avg_od, y = conc)) + \n",
    "  geom_point() +  # Plot the average OD\n",
    "  geom_errorbarh(aes(xmin = avg_od - sd, xmax = avg_od + sd)) +  # Add horizontal error bars\n",
    "  geom_smooth(method = \"lm\", se = FALSE, linetype = \"solid\") +  # Add regression line\n",
    "  theme_minimal()"
   ]
  },
  {
   "cell_type": "markdown",
   "id": "0a17951b-6538-4efd-ac57-cd01c46621e2",
   "metadata": {},
   "source": [
    "### Combined "
   ]
  },
  {
   "cell_type": "code",
   "execution_count": null,
   "id": "ea2048b6-6cc7-4caa-9170-5ca8908b7e0b",
   "metadata": {},
   "outputs": [],
   "source": [
    "# merge rows \n",
    "stnds<-bind_rows(hi_long, low_long,stnd_long)\n",
    "\n",
    "head(stnds)"
   ]
  },
  {
   "cell_type": "code",
   "execution_count": null,
   "id": "aaa43818-1be8-42ee-9ccf-4ce0903eb30e",
   "metadata": {},
   "outputs": [],
   "source": [
    "# recalculate averages \n",
    "stnds<-stnds %>% \n",
    "    group_by(conc) %>% \n",
    "        mutate(avg_od = mean(od))"
   ]
  },
  {
   "cell_type": "code",
   "execution_count": null,
   "id": "9a4f2181-e6d0-4ac8-b8e6-59841e23cee7",
   "metadata": {},
   "outputs": [],
   "source": [
    "# create linear standard curve \n",
    "# lm(target(y) ~ predictor(x))\n",
    "# normally concentration is predictor (x), absorbance is response variable (y)\n",
    "# but since we need to predict concentration, switcstndsng variables. since they are a linear relationsstndsp tstndss should be fine. \n",
    "# SO: conc ~ od means absorbance is predictor (x) and concentration is response (y)\n",
    "stnds_model <- lm(conc ~ od, data = stnds)\n",
    "# view summary stats (R-squared)\n",
    "summary(stnds_model)"
   ]
  },
  {
   "cell_type": "code",
   "execution_count": null,
   "id": "4a619c7a-7815-4acf-810b-0ae4bc7eba31",
   "metadata": {},
   "outputs": [],
   "source": [
    "## use the averages for the curve \n",
    "stnds_avg_model <- lm(conc ~ avg_od, data = stnds)\n",
    "summary(stnds_avg_model)"
   ]
  },
  {
   "cell_type": "markdown",
   "id": "9418fa52-1ca0-4fcd-9142-44dd874886bb",
   "metadata": {},
   "source": [
    "#### without high stnd "
   ]
  },
  {
   "cell_type": "code",
   "execution_count": null,
   "id": "4afe0337-1c1d-429e-aaf4-5a45d413ad32",
   "metadata": {},
   "outputs": [],
   "source": [
    "stnds<-bind_rows(low_long,stnd_long)\n",
    "# recalculate averages \n",
    "stnds<-stnds %>% \n",
    "    group_by(conc) %>% \n",
    "        mutate(avg_od = mean(od))\n",
    "\n",
    "# rerun lm\n",
    "stnds_model <- lm(conc ~ od, data = stnds)\n",
    "summary(stnds_model)\n",
    "\n",
    "stnds_avg_model <- lm(conc ~ avg_od, data = stnds)\n",
    "summary(stnds_avg_model)"
   ]
  },
  {
   "cell_type": "code",
   "execution_count": null,
   "id": "a65ae64e-459d-49bd-8f34-aea0c77ff0df",
   "metadata": {},
   "outputs": [],
   "source": [
    "# Plot the data with the regression line\n",
    "ggplot(stnds, aes(x = od, y = conc, color = rep)) +\n",
    "       geom_point() +\n",
    "       geom_smooth(method = \"lm\", se = FALSE)"
   ]
  },
  {
   "cell_type": "code",
   "execution_count": null,
   "id": "4ced40a0-f5f4-410b-a5b8-8ebcff276455",
   "metadata": {},
   "outputs": [],
   "source": [
    "ggplot(stnds, aes(x = avg_od, y = conc)) + \n",
    "  geom_point() +  # Plot the average OD\n",
    "  geom_errorbarh(aes(xmin = avg_od - sd, xmax = avg_od + sd)) +  # Add horizontal error bars\n",
    "  geom_smooth(method = \"lm\", se = FALSE, linetype = \"solid\") +  # Add regression line\n",
    "  theme_minimal()"
   ]
  },
  {
   "cell_type": "code",
   "execution_count": null,
   "id": "139f5671-8ec7-419f-9796-14647235c0bc",
   "metadata": {},
   "outputs": [],
   "source": [
    "aic <- AIC(stnds_model, stnds_avg_model, hi_model, hi_avg_model, stnd_model, stnd_avg_model, low_model, low_avg_model)\n",
    "aic\n",
    "# yay combined is better than low model alone\n",
    "# using avg since thats what typically is used and the adjusted r squared is 0.999"
   ]
  },
  {
   "cell_type": "code",
   "execution_count": null,
   "id": "18cce100-7af9-4d6c-aa4a-bdbd572628ef",
   "metadata": {},
   "outputs": [],
   "source": [
    "# raw <- map(raw, ~ data.frame(map(.x, as.numeric)))\n",
    "\n",
    "summary(stnds_model)$adj.r.squared"
   ]
  },
  {
   "cell_type": "markdown",
   "id": "8687fa6e-2500-4105-9ded-aafdea1feff6",
   "metadata": {},
   "source": [
    "## Samples and QC from curves"
   ]
  },
  {
   "cell_type": "markdown",
   "id": "247b73b1-8a43-446c-a195-d71f1549cfdf",
   "metadata": {},
   "source": [
    "### add data "
   ]
  },
  {
   "cell_type": "code",
   "execution_count": 320,
   "id": "5140f5ab-0abf-4d15-8946-19530b21dfdf",
   "metadata": {},
   "outputs": [],
   "source": [
    "# pull out sample data (samples, QCs, blanks) and use stnd curve to calculate concentrations"
   ]
  },
  {
   "cell_type": "code",
   "execution_count": 321,
   "id": "5ceca172-345e-4556-b409-028a6ba70086",
   "metadata": {},
   "outputs": [
    {
     "data": {
      "text/html": [
       "<table class=\"dataframe\">\n",
       "<caption>A data.frame: 2 × 2</caption>\n",
       "<thead>\n",
       "\t<tr><th></th><th scope=col>1</th><th scope=col>sample</th></tr>\n",
       "\t<tr><th></th><th scope=col>&lt;dbl&gt;</th><th scope=col>&lt;chr&gt;</th></tr>\n",
       "</thead>\n",
       "<tbody>\n",
       "\t<tr><th scope=row>g</th><td>0.2912</td><td>dispk_q2</td></tr>\n",
       "\t<tr><th scope=row>h</th><td>0.4885</td><td>dispk_q1</td></tr>\n",
       "</tbody>\n",
       "</table>\n"
      ],
      "text/latex": [
       "A data.frame: 2 × 2\n",
       "\\begin{tabular}{r|ll}\n",
       "  & 1 & sample\\\\\n",
       "  & <dbl> & <chr>\\\\\n",
       "\\hline\n",
       "\tg & 0.2912 & dispk\\_q2\\\\\n",
       "\th & 0.4885 & dispk\\_q1\\\\\n",
       "\\end{tabular}\n"
      ],
      "text/markdown": [
       "\n",
       "A data.frame: 2 × 2\n",
       "\n",
       "| <!--/--> | 1 &lt;dbl&gt; | sample &lt;chr&gt; |\n",
       "|---|---|---|\n",
       "| g | 0.2912 | dispk_q2 |\n",
       "| h | 0.4885 | dispk_q1 |\n",
       "\n"
      ],
      "text/plain": [
       "  1      sample  \n",
       "g 0.2912 dispk_q2\n",
       "h 0.4885 dispk_q1"
      ]
     },
     "metadata": {},
     "output_type": "display_data"
    },
    {
     "data": {
      "text/html": [
       "<table class=\"dataframe\">\n",
       "<caption>A tibble: 6 × 3</caption>\n",
       "<thead>\n",
       "\t<tr><th scope=col>sample</th><th scope=col>rep</th><th scope=col>od</th></tr>\n",
       "\t<tr><th scope=col>&lt;chr&gt;</th><th scope=col>&lt;chr&gt;</th><th scope=col>&lt;dbl&gt;</th></tr>\n",
       "</thead>\n",
       "<tbody>\n",
       "\t<tr><td>s123</td><td>1</td><td>0.0767</td></tr>\n",
       "\t<tr><td>s123</td><td>2</td><td>0.0752</td></tr>\n",
       "\t<tr><td>s123</td><td>3</td><td>0.0773</td></tr>\n",
       "\t<tr><td>s123</td><td>1</td><td>0.0860</td></tr>\n",
       "\t<tr><td>s123</td><td>2</td><td>0.0789</td></tr>\n",
       "\t<tr><td>s123</td><td>3</td><td>0.0836</td></tr>\n",
       "</tbody>\n",
       "</table>\n"
      ],
      "text/latex": [
       "A tibble: 6 × 3\n",
       "\\begin{tabular}{lll}\n",
       " sample & rep & od\\\\\n",
       " <chr> & <chr> & <dbl>\\\\\n",
       "\\hline\n",
       "\t s123 & 1 & 0.0767\\\\\n",
       "\t s123 & 2 & 0.0752\\\\\n",
       "\t s123 & 3 & 0.0773\\\\\n",
       "\t s123 & 1 & 0.0860\\\\\n",
       "\t s123 & 2 & 0.0789\\\\\n",
       "\t s123 & 3 & 0.0836\\\\\n",
       "\\end{tabular}\n"
      ],
      "text/markdown": [
       "\n",
       "A tibble: 6 × 3\n",
       "\n",
       "| sample &lt;chr&gt; | rep &lt;chr&gt; | od &lt;dbl&gt; |\n",
       "|---|---|---|\n",
       "| s123 | 1 | 0.0767 |\n",
       "| s123 | 2 | 0.0752 |\n",
       "| s123 | 3 | 0.0773 |\n",
       "| s123 | 1 | 0.0860 |\n",
       "| s123 | 2 | 0.0789 |\n",
       "| s123 | 3 | 0.0836 |\n",
       "\n"
      ],
      "text/plain": [
       "  sample rep od    \n",
       "1 s123   1   0.0767\n",
       "2 s123   2   0.0752\n",
       "3 s123   3   0.0773\n",
       "4 s123   1   0.0860\n",
       "5 s123   2   0.0789\n",
       "6 s123   3   0.0836"
      ]
     },
     "metadata": {},
     "output_type": "display_data"
    }
   ],
   "source": [
    "# samples\n",
    "#S123: C & D 1-3 \n",
    "#S159: C & D 4-6\n",
    "\n",
    "s123 <- raw[c(\"c\", \"d\"),1:3] %>%\n",
    "    mutate(sample = 's123')\n",
    "s159 <- raw[c(\"c\", \"d\"),4:6] %>% \n",
    "    mutate(sample = 's159') \n",
    "# rename cols to match \n",
    "names(s159) <- c(1,2,3,'sample')\n",
    "\n",
    "#spiked samples\n",
    "#S123: g 9:11\n",
    "#S159: h 9:11\n",
    "#blanks: g,h 12\n",
    "\n",
    "s123spk <- raw[\"g\",9:11] %>%\n",
    "    mutate(sample = 's123spk')\n",
    "names(s123spk) <- c(1,2,3,'sample')\n",
    "\n",
    "s159spk <- raw[\"h\",9:11] %>%\n",
    "    mutate(sample = 's159spk')\n",
    "names(s159spk) <- c(1,2,3,'sample')\n",
    "\n",
    "dispk <- raw[c(\"g\", \"h\"), 12, drop = FALSE] %>%\n",
    "  mutate(sample = c(\"dispk_q2\",\"dispk_q1\")) \n",
    "names(dispk) <- c(1,'sample')\n",
    "dispk\n",
    "\n",
    "# combine and pivot\n",
    "samples <- rbind(s123, s159) \n",
    "samples <- rbind(samples, s123spk)\n",
    "samples <- rbind(samples, s159spk) %>%\n",
    "    pivot_longer(cols = 1:3,\n",
    "                names_to = 'rep',\n",
    "                 values_to = 'od')\n",
    "head(samples)"
   ]
  },
  {
   "cell_type": "code",
   "execution_count": 322,
   "id": "94aa7012-91c2-46e8-8a62-28265f01e8c4",
   "metadata": {
    "scrolled": true
   },
   "outputs": [
    {
     "data": {
      "text/html": [
       "<table class=\"dataframe\">\n",
       "<caption>A data.frame: 6 × 3</caption>\n",
       "<thead>\n",
       "\t<tr><th></th><th scope=col>rep</th><th scope=col>od</th><th scope=col>sample</th></tr>\n",
       "\t<tr><th></th><th scope=col>&lt;dbl&gt;</th><th scope=col>&lt;dbl&gt;</th><th scope=col>&lt;chr&gt;</th></tr>\n",
       "</thead>\n",
       "<tbody>\n",
       "\t<tr><th scope=row>1</th><td>1</td><td>0.8543</td><td>qc1</td></tr>\n",
       "\t<tr><th scope=row>2</th><td>2</td><td>0.8750</td><td>qc1</td></tr>\n",
       "\t<tr><th scope=row>3</th><td>3</td><td>0.8594</td><td>qc1</td></tr>\n",
       "\t<tr><th scope=row>4</th><td>4</td><td>0.8670</td><td>qc1</td></tr>\n",
       "\t<tr><th scope=row>5</th><td>5</td><td>0.8734</td><td>qc1</td></tr>\n",
       "\t<tr><th scope=row>6</th><td>1</td><td>0.4853</td><td>qc2</td></tr>\n",
       "</tbody>\n",
       "</table>\n"
      ],
      "text/latex": [
       "A data.frame: 6 × 3\n",
       "\\begin{tabular}{r|lll}\n",
       "  & rep & od & sample\\\\\n",
       "  & <dbl> & <dbl> & <chr>\\\\\n",
       "\\hline\n",
       "\t1 & 1 & 0.8543 & qc1\\\\\n",
       "\t2 & 2 & 0.8750 & qc1\\\\\n",
       "\t3 & 3 & 0.8594 & qc1\\\\\n",
       "\t4 & 4 & 0.8670 & qc1\\\\\n",
       "\t5 & 5 & 0.8734 & qc1\\\\\n",
       "\t6 & 1 & 0.4853 & qc2\\\\\n",
       "\\end{tabular}\n"
      ],
      "text/markdown": [
       "\n",
       "A data.frame: 6 × 3\n",
       "\n",
       "| <!--/--> | rep &lt;dbl&gt; | od &lt;dbl&gt; | sample &lt;chr&gt; |\n",
       "|---|---|---|---|\n",
       "| 1 | 1 | 0.8543 | qc1 |\n",
       "| 2 | 2 | 0.8750 | qc1 |\n",
       "| 3 | 3 | 0.8594 | qc1 |\n",
       "| 4 | 4 | 0.8670 | qc1 |\n",
       "| 5 | 5 | 0.8734 | qc1 |\n",
       "| 6 | 1 | 0.4853 | qc2 |\n",
       "\n"
      ],
      "text/plain": [
       "  rep od     sample\n",
       "1 1   0.8543 qc1   \n",
       "2 2   0.8750 qc1   \n",
       "3 3   0.8594 qc1   \n",
       "4 4   0.8670 qc1   \n",
       "5 5   0.8734 qc1   \n",
       "6 1   0.4853 qc2   "
      ]
     },
     "metadata": {},
     "output_type": "display_data"
    }
   ],
   "source": [
    "# QC1 (1ppm): A,B,E,F 9 & C7 \n",
    "# QC2 (0.5 ppm): A,B,E,F 10 & D7 \n",
    "# QC3 (0.05 ppm): A,B,E,F 11 & C8\n",
    "# QC4 (0.005 ppm): A,B,E,F 12 & D8\n",
    "\n",
    "qc1 <- data.frame(\n",
    "  rep = c(1, 2, 3, 4, 5), # Replicate numbers\n",
    "  od = c(raw[\"a\", 9], raw[\"b\", 9], raw[\"e\", 9], raw[\"f\", 9], raw[\"c\", 7]), # Extract specific values\n",
    "  sample = \"qc1\"\n",
    ")\n",
    "\n",
    "qc2 <- data.frame(\n",
    "  rep = c(1, 2, 3, 4, 5),\n",
    "  od = c(raw[\"a\", 10], raw[\"b\", 10], raw[\"e\", 10], raw[\"f\", 10], raw[\"d\", 7]),\n",
    "  sample = \"qc2\" \n",
    ")\n",
    "\n",
    "qc3 <- data.frame(\n",
    "  rep = c(1, 2, 3, 4, 5), \n",
    "  od = c(raw[\"a\", 11], raw[\"b\", 11], raw[\"e\", 11], raw[\"f\", 11], raw[\"c\", 8]), \n",
    "  sample = \"qc3\" \n",
    ")\n",
    "\n",
    "qc4 <- data.frame(\n",
    "  rep = c(1, 2, 3, 4, 5), \n",
    "  od = c(raw[\"a\", 12], raw[\"b\", 12], raw[\"e\", 12], raw[\"f\", 12], raw[\"d\", 8]), \n",
    "  sample = \"qc4\" \n",
    ")\n",
    "\n",
    "# Combine\n",
    "qc_long <- bind_rows(qc1, qc2, qc3, qc4)\n",
    "head(qc_long)"
   ]
  },
  {
   "cell_type": "code",
   "execution_count": 323,
   "id": "7d9de043-d70a-414c-b0a2-d51fb8f9e07a",
   "metadata": {},
   "outputs": [
    {
     "data": {
      "text/html": [
       "<table class=\"dataframe\">\n",
       "<caption>A data.frame: 6 × 3</caption>\n",
       "<thead>\n",
       "\t<tr><th></th><th scope=col>rep</th><th scope=col>od</th><th scope=col>sample</th></tr>\n",
       "\t<tr><th></th><th scope=col>&lt;int&gt;</th><th scope=col>&lt;dbl&gt;</th><th scope=col>&lt;chr&gt;</th></tr>\n",
       "</thead>\n",
       "<tbody>\n",
       "\t<tr><th scope=row>1</th><td>1</td><td>0.0676</td><td>di_blank    </td></tr>\n",
       "\t<tr><th scope=row>2</th><td>2</td><td>0.0664</td><td>di_blank    </td></tr>\n",
       "\t<tr><th scope=row>3</th><td>3</td><td>0.0693</td><td>di_blank    </td></tr>\n",
       "\t<tr><th scope=row>4</th><td>4</td><td>0.0735</td><td>di_blank    </td></tr>\n",
       "\t<tr><th scope=row>5</th><td>1</td><td>0.0719</td><td>filter_blank</td></tr>\n",
       "\t<tr><th scope=row>6</th><td>2</td><td>0.0709</td><td>filter_blank</td></tr>\n",
       "</tbody>\n",
       "</table>\n"
      ],
      "text/latex": [
       "A data.frame: 6 × 3\n",
       "\\begin{tabular}{r|lll}\n",
       "  & rep & od & sample\\\\\n",
       "  & <int> & <dbl> & <chr>\\\\\n",
       "\\hline\n",
       "\t1 & 1 & 0.0676 & di\\_blank    \\\\\n",
       "\t2 & 2 & 0.0664 & di\\_blank    \\\\\n",
       "\t3 & 3 & 0.0693 & di\\_blank    \\\\\n",
       "\t4 & 4 & 0.0735 & di\\_blank    \\\\\n",
       "\t5 & 1 & 0.0719 & filter\\_blank\\\\\n",
       "\t6 & 2 & 0.0709 & filter\\_blank\\\\\n",
       "\\end{tabular}\n"
      ],
      "text/markdown": [
       "\n",
       "A data.frame: 6 × 3\n",
       "\n",
       "| <!--/--> | rep &lt;int&gt; | od &lt;dbl&gt; | sample &lt;chr&gt; |\n",
       "|---|---|---|---|\n",
       "| 1 | 1 | 0.0676 | di_blank     |\n",
       "| 2 | 2 | 0.0664 | di_blank     |\n",
       "| 3 | 3 | 0.0693 | di_blank     |\n",
       "| 4 | 4 | 0.0735 | di_blank     |\n",
       "| 5 | 1 | 0.0719 | filter_blank |\n",
       "| 6 | 2 | 0.0709 | filter_blank |\n",
       "\n"
      ],
      "text/plain": [
       "  rep od     sample      \n",
       "1 1   0.0676 di_blank    \n",
       "2 2   0.0664 di_blank    \n",
       "3 3   0.0693 di_blank    \n",
       "4 4   0.0735 di_blank    \n",
       "5 1   0.0719 filter_blank\n",
       "6 2   0.0709 filter_blank"
      ]
     },
     "metadata": {},
     "output_type": "display_data"
    }
   ],
   "source": [
    "# di blanks \n",
    "# B,F 8\n",
    "# C,D 12\n",
    "di <- data.frame(\n",
    "  rep = c(seq(1:4)), # Replicate numbers\n",
    "  od = c(raw[\"b\", 8], raw[\"f\", 8], \n",
    "         raw[\"c\", 12], raw[\"d\", 12]),\n",
    "  sample = \"di_blank\"\n",
    ")\n",
    "\n",
    "# filter blanks \n",
    "# c,d 9:11\n",
    "blank <- data.frame(\n",
    "  rep = c(seq(1:6)), # Replicate numbers\n",
    "  od = c(raw[\"c\", 9], raw[\"c\", 10], raw[\"c\", 11], \n",
    "         raw[\"d\", 9], raw[\"d\", 10], raw[\"d\", 11]),\n",
    "  sample = \"filter_blank\"\n",
    ")\n",
    "\n",
    "# combine \n",
    "blanks<-bind_rows(di,blank)\n",
    "head(blanks)"
   ]
  },
  {
   "cell_type": "code",
   "execution_count": 324,
   "id": "12b68a12-ca1e-4873-9454-3726a3ddb03b",
   "metadata": {
    "scrolled": true
   },
   "outputs": [],
   "source": [
    "samples<-rbind(samples, qc_long)\n",
    "samples<-rbind(samples, blanks)"
   ]
  },
  {
   "cell_type": "code",
   "execution_count": 325,
   "id": "c5607a82-2d17-4de7-b2ca-0400e6bfa1a2",
   "metadata": {
    "scrolled": true
   },
   "outputs": [
    {
     "data": {
      "text/html": [
       "<table class=\"dataframe\">\n",
       "<caption>A tibble: 48 × 5</caption>\n",
       "<thead>\n",
       "\t<tr><th scope=col>sample</th><th scope=col>rep</th><th scope=col>od</th><th scope=col>avg_od</th><th scope=col>sd_od</th></tr>\n",
       "\t<tr><th scope=col>&lt;chr&gt;</th><th scope=col>&lt;chr&gt;</th><th scope=col>&lt;dbl&gt;</th><th scope=col>&lt;dbl&gt;</th><th scope=col>&lt;dbl&gt;</th></tr>\n",
       "</thead>\n",
       "<tbody>\n",
       "\t<tr><td>s123        </td><td>1</td><td>0.0767</td><td>0.079617</td><td>0.00425461</td></tr>\n",
       "\t<tr><td>s123        </td><td>2</td><td>0.0752</td><td>0.079617</td><td>0.00425461</td></tr>\n",
       "\t<tr><td>s123        </td><td>3</td><td>0.0773</td><td>0.079617</td><td>0.00425461</td></tr>\n",
       "\t<tr><td>s123        </td><td>1</td><td>0.0860</td><td>0.079617</td><td>0.00425461</td></tr>\n",
       "\t<tr><td>s123        </td><td>2</td><td>0.0789</td><td>0.079617</td><td>0.00425461</td></tr>\n",
       "\t<tr><td>s123        </td><td>3</td><td>0.0836</td><td>0.079617</td><td>0.00425461</td></tr>\n",
       "\t<tr><td>s159        </td><td>1</td><td>0.0762</td><td>0.089700</td><td>0.01933877</td></tr>\n",
       "\t<tr><td>s159        </td><td>2</td><td>0.0751</td><td>0.089700</td><td>0.01933877</td></tr>\n",
       "\t<tr><td>s159        </td><td>3</td><td>0.1259</td><td>0.089700</td><td>0.01933877</td></tr>\n",
       "\t<tr><td>s159        </td><td>1</td><td>0.0845</td><td>0.089700</td><td>0.01933877</td></tr>\n",
       "\t<tr><td>s159        </td><td>2</td><td>0.0964</td><td>0.089700</td><td>0.01933877</td></tr>\n",
       "\t<tr><td>s159        </td><td>3</td><td>0.0801</td><td>0.089700</td><td>0.01933877</td></tr>\n",
       "\t<tr><td>s123spk     </td><td>1</td><td>0.2929</td><td>0.291500</td><td>0.00127671</td></tr>\n",
       "\t<tr><td>s123spk     </td><td>2</td><td>0.2904</td><td>0.291500</td><td>0.00127671</td></tr>\n",
       "\t<tr><td>s123spk     </td><td>3</td><td>0.2912</td><td>0.291500</td><td>0.00127671</td></tr>\n",
       "\t<tr><td>s159spk     </td><td>1</td><td>0.4866</td><td>0.486500</td><td>0.00055678</td></tr>\n",
       "\t<tr><td>s159spk     </td><td>2</td><td>0.4859</td><td>0.486500</td><td>0.00055678</td></tr>\n",
       "\t<tr><td>s159spk     </td><td>3</td><td>0.4870</td><td>0.486500</td><td>0.00055678</td></tr>\n",
       "\t<tr><td>qc1         </td><td>1</td><td>0.8543</td><td>0.865820</td><td>0.00890292</td></tr>\n",
       "\t<tr><td>qc1         </td><td>2</td><td>0.8750</td><td>0.865820</td><td>0.00890292</td></tr>\n",
       "\t<tr><td>qc1         </td><td>3</td><td>0.8594</td><td>0.865820</td><td>0.00890292</td></tr>\n",
       "\t<tr><td>qc1         </td><td>4</td><td>0.8670</td><td>0.865820</td><td>0.00890292</td></tr>\n",
       "\t<tr><td>qc1         </td><td>5</td><td>0.8734</td><td>0.865820</td><td>0.00890292</td></tr>\n",
       "\t<tr><td>qc2         </td><td>1</td><td>0.4853</td><td>0.493740</td><td>0.00574569</td></tr>\n",
       "\t<tr><td>qc2         </td><td>2</td><td>0.4912</td><td>0.493740</td><td>0.00574569</td></tr>\n",
       "\t<tr><td>qc2         </td><td>3</td><td>0.4971</td><td>0.493740</td><td>0.00574569</td></tr>\n",
       "\t<tr><td>qc2         </td><td>4</td><td>0.4949</td><td>0.493740</td><td>0.00574569</td></tr>\n",
       "\t<tr><td>qc2         </td><td>5</td><td>0.5002</td><td>0.493740</td><td>0.00574569</td></tr>\n",
       "\t<tr><td>qc3         </td><td>1</td><td>0.1132</td><td>0.109680</td><td>0.00685471</td></tr>\n",
       "\t<tr><td>qc3         </td><td>2</td><td>0.1115</td><td>0.109680</td><td>0.00685471</td></tr>\n",
       "\t<tr><td>qc3         </td><td>3</td><td>0.0975</td><td>0.109680</td><td>0.00685471</td></tr>\n",
       "\t<tr><td>qc3         </td><td>4</td><td>0.1126</td><td>0.109680</td><td>0.00685471</td></tr>\n",
       "\t<tr><td>qc3         </td><td>5</td><td>0.1136</td><td>0.109680</td><td>0.00685471</td></tr>\n",
       "\t<tr><td>qc4         </td><td>1</td><td>0.0712</td><td>0.073340</td><td>0.00278173</td></tr>\n",
       "\t<tr><td>qc4         </td><td>2</td><td>0.0714</td><td>0.073340</td><td>0.00278173</td></tr>\n",
       "\t<tr><td>qc4         </td><td>3</td><td>0.0751</td><td>0.073340</td><td>0.00278173</td></tr>\n",
       "\t<tr><td>qc4         </td><td>4</td><td>0.0716</td><td>0.073340</td><td>0.00278173</td></tr>\n",
       "\t<tr><td>qc4         </td><td>5</td><td>0.0774</td><td>0.073340</td><td>0.00278173</td></tr>\n",
       "\t<tr><td>di_blank    </td><td>1</td><td>0.0676</td><td>0.069200</td><td>0.00310376</td></tr>\n",
       "\t<tr><td>di_blank    </td><td>2</td><td>0.0664</td><td>0.069200</td><td>0.00310376</td></tr>\n",
       "\t<tr><td>di_blank    </td><td>3</td><td>0.0693</td><td>0.069200</td><td>0.00310376</td></tr>\n",
       "\t<tr><td>di_blank    </td><td>4</td><td>0.0735</td><td>0.069200</td><td>0.00310376</td></tr>\n",
       "\t<tr><td>filter_blank</td><td>1</td><td>0.0719</td><td>0.073617</td><td>0.00318523</td></tr>\n",
       "\t<tr><td>filter_blank</td><td>2</td><td>0.0709</td><td>0.073617</td><td>0.00318523</td></tr>\n",
       "\t<tr><td>filter_blank</td><td>3</td><td>0.0697</td><td>0.073617</td><td>0.00318523</td></tr>\n",
       "\t<tr><td>filter_blank</td><td>4</td><td>0.0753</td><td>0.073617</td><td>0.00318523</td></tr>\n",
       "\t<tr><td>filter_blank</td><td>5</td><td>0.0770</td><td>0.073617</td><td>0.00318523</td></tr>\n",
       "\t<tr><td>filter_blank</td><td>6</td><td>0.0769</td><td>0.073617</td><td>0.00318523</td></tr>\n",
       "</tbody>\n",
       "</table>\n"
      ],
      "text/latex": [
       "A tibble: 48 × 5\n",
       "\\begin{tabular}{lllll}\n",
       " sample & rep & od & avg\\_od & sd\\_od\\\\\n",
       " <chr> & <chr> & <dbl> & <dbl> & <dbl>\\\\\n",
       "\\hline\n",
       "\t s123         & 1 & 0.0767 & 0.079617 & 0.00425461\\\\\n",
       "\t s123         & 2 & 0.0752 & 0.079617 & 0.00425461\\\\\n",
       "\t s123         & 3 & 0.0773 & 0.079617 & 0.00425461\\\\\n",
       "\t s123         & 1 & 0.0860 & 0.079617 & 0.00425461\\\\\n",
       "\t s123         & 2 & 0.0789 & 0.079617 & 0.00425461\\\\\n",
       "\t s123         & 3 & 0.0836 & 0.079617 & 0.00425461\\\\\n",
       "\t s159         & 1 & 0.0762 & 0.089700 & 0.01933877\\\\\n",
       "\t s159         & 2 & 0.0751 & 0.089700 & 0.01933877\\\\\n",
       "\t s159         & 3 & 0.1259 & 0.089700 & 0.01933877\\\\\n",
       "\t s159         & 1 & 0.0845 & 0.089700 & 0.01933877\\\\\n",
       "\t s159         & 2 & 0.0964 & 0.089700 & 0.01933877\\\\\n",
       "\t s159         & 3 & 0.0801 & 0.089700 & 0.01933877\\\\\n",
       "\t s123spk      & 1 & 0.2929 & 0.291500 & 0.00127671\\\\\n",
       "\t s123spk      & 2 & 0.2904 & 0.291500 & 0.00127671\\\\\n",
       "\t s123spk      & 3 & 0.2912 & 0.291500 & 0.00127671\\\\\n",
       "\t s159spk      & 1 & 0.4866 & 0.486500 & 0.00055678\\\\\n",
       "\t s159spk      & 2 & 0.4859 & 0.486500 & 0.00055678\\\\\n",
       "\t s159spk      & 3 & 0.4870 & 0.486500 & 0.00055678\\\\\n",
       "\t qc1          & 1 & 0.8543 & 0.865820 & 0.00890292\\\\\n",
       "\t qc1          & 2 & 0.8750 & 0.865820 & 0.00890292\\\\\n",
       "\t qc1          & 3 & 0.8594 & 0.865820 & 0.00890292\\\\\n",
       "\t qc1          & 4 & 0.8670 & 0.865820 & 0.00890292\\\\\n",
       "\t qc1          & 5 & 0.8734 & 0.865820 & 0.00890292\\\\\n",
       "\t qc2          & 1 & 0.4853 & 0.493740 & 0.00574569\\\\\n",
       "\t qc2          & 2 & 0.4912 & 0.493740 & 0.00574569\\\\\n",
       "\t qc2          & 3 & 0.4971 & 0.493740 & 0.00574569\\\\\n",
       "\t qc2          & 4 & 0.4949 & 0.493740 & 0.00574569\\\\\n",
       "\t qc2          & 5 & 0.5002 & 0.493740 & 0.00574569\\\\\n",
       "\t qc3          & 1 & 0.1132 & 0.109680 & 0.00685471\\\\\n",
       "\t qc3          & 2 & 0.1115 & 0.109680 & 0.00685471\\\\\n",
       "\t qc3          & 3 & 0.0975 & 0.109680 & 0.00685471\\\\\n",
       "\t qc3          & 4 & 0.1126 & 0.109680 & 0.00685471\\\\\n",
       "\t qc3          & 5 & 0.1136 & 0.109680 & 0.00685471\\\\\n",
       "\t qc4          & 1 & 0.0712 & 0.073340 & 0.00278173\\\\\n",
       "\t qc4          & 2 & 0.0714 & 0.073340 & 0.00278173\\\\\n",
       "\t qc4          & 3 & 0.0751 & 0.073340 & 0.00278173\\\\\n",
       "\t qc4          & 4 & 0.0716 & 0.073340 & 0.00278173\\\\\n",
       "\t qc4          & 5 & 0.0774 & 0.073340 & 0.00278173\\\\\n",
       "\t di\\_blank     & 1 & 0.0676 & 0.069200 & 0.00310376\\\\\n",
       "\t di\\_blank     & 2 & 0.0664 & 0.069200 & 0.00310376\\\\\n",
       "\t di\\_blank     & 3 & 0.0693 & 0.069200 & 0.00310376\\\\\n",
       "\t di\\_blank     & 4 & 0.0735 & 0.069200 & 0.00310376\\\\\n",
       "\t filter\\_blank & 1 & 0.0719 & 0.073617 & 0.00318523\\\\\n",
       "\t filter\\_blank & 2 & 0.0709 & 0.073617 & 0.00318523\\\\\n",
       "\t filter\\_blank & 3 & 0.0697 & 0.073617 & 0.00318523\\\\\n",
       "\t filter\\_blank & 4 & 0.0753 & 0.073617 & 0.00318523\\\\\n",
       "\t filter\\_blank & 5 & 0.0770 & 0.073617 & 0.00318523\\\\\n",
       "\t filter\\_blank & 6 & 0.0769 & 0.073617 & 0.00318523\\\\\n",
       "\\end{tabular}\n"
      ],
      "text/markdown": [
       "\n",
       "A tibble: 48 × 5\n",
       "\n",
       "| sample &lt;chr&gt; | rep &lt;chr&gt; | od &lt;dbl&gt; | avg_od &lt;dbl&gt; | sd_od &lt;dbl&gt; |\n",
       "|---|---|---|---|---|\n",
       "| s123         | 1 | 0.0767 | 0.079617 | 0.00425461 |\n",
       "| s123         | 2 | 0.0752 | 0.079617 | 0.00425461 |\n",
       "| s123         | 3 | 0.0773 | 0.079617 | 0.00425461 |\n",
       "| s123         | 1 | 0.0860 | 0.079617 | 0.00425461 |\n",
       "| s123         | 2 | 0.0789 | 0.079617 | 0.00425461 |\n",
       "| s123         | 3 | 0.0836 | 0.079617 | 0.00425461 |\n",
       "| s159         | 1 | 0.0762 | 0.089700 | 0.01933877 |\n",
       "| s159         | 2 | 0.0751 | 0.089700 | 0.01933877 |\n",
       "| s159         | 3 | 0.1259 | 0.089700 | 0.01933877 |\n",
       "| s159         | 1 | 0.0845 | 0.089700 | 0.01933877 |\n",
       "| s159         | 2 | 0.0964 | 0.089700 | 0.01933877 |\n",
       "| s159         | 3 | 0.0801 | 0.089700 | 0.01933877 |\n",
       "| s123spk      | 1 | 0.2929 | 0.291500 | 0.00127671 |\n",
       "| s123spk      | 2 | 0.2904 | 0.291500 | 0.00127671 |\n",
       "| s123spk      | 3 | 0.2912 | 0.291500 | 0.00127671 |\n",
       "| s159spk      | 1 | 0.4866 | 0.486500 | 0.00055678 |\n",
       "| s159spk      | 2 | 0.4859 | 0.486500 | 0.00055678 |\n",
       "| s159spk      | 3 | 0.4870 | 0.486500 | 0.00055678 |\n",
       "| qc1          | 1 | 0.8543 | 0.865820 | 0.00890292 |\n",
       "| qc1          | 2 | 0.8750 | 0.865820 | 0.00890292 |\n",
       "| qc1          | 3 | 0.8594 | 0.865820 | 0.00890292 |\n",
       "| qc1          | 4 | 0.8670 | 0.865820 | 0.00890292 |\n",
       "| qc1          | 5 | 0.8734 | 0.865820 | 0.00890292 |\n",
       "| qc2          | 1 | 0.4853 | 0.493740 | 0.00574569 |\n",
       "| qc2          | 2 | 0.4912 | 0.493740 | 0.00574569 |\n",
       "| qc2          | 3 | 0.4971 | 0.493740 | 0.00574569 |\n",
       "| qc2          | 4 | 0.4949 | 0.493740 | 0.00574569 |\n",
       "| qc2          | 5 | 0.5002 | 0.493740 | 0.00574569 |\n",
       "| qc3          | 1 | 0.1132 | 0.109680 | 0.00685471 |\n",
       "| qc3          | 2 | 0.1115 | 0.109680 | 0.00685471 |\n",
       "| qc3          | 3 | 0.0975 | 0.109680 | 0.00685471 |\n",
       "| qc3          | 4 | 0.1126 | 0.109680 | 0.00685471 |\n",
       "| qc3          | 5 | 0.1136 | 0.109680 | 0.00685471 |\n",
       "| qc4          | 1 | 0.0712 | 0.073340 | 0.00278173 |\n",
       "| qc4          | 2 | 0.0714 | 0.073340 | 0.00278173 |\n",
       "| qc4          | 3 | 0.0751 | 0.073340 | 0.00278173 |\n",
       "| qc4          | 4 | 0.0716 | 0.073340 | 0.00278173 |\n",
       "| qc4          | 5 | 0.0774 | 0.073340 | 0.00278173 |\n",
       "| di_blank     | 1 | 0.0676 | 0.069200 | 0.00310376 |\n",
       "| di_blank     | 2 | 0.0664 | 0.069200 | 0.00310376 |\n",
       "| di_blank     | 3 | 0.0693 | 0.069200 | 0.00310376 |\n",
       "| di_blank     | 4 | 0.0735 | 0.069200 | 0.00310376 |\n",
       "| filter_blank | 1 | 0.0719 | 0.073617 | 0.00318523 |\n",
       "| filter_blank | 2 | 0.0709 | 0.073617 | 0.00318523 |\n",
       "| filter_blank | 3 | 0.0697 | 0.073617 | 0.00318523 |\n",
       "| filter_blank | 4 | 0.0753 | 0.073617 | 0.00318523 |\n",
       "| filter_blank | 5 | 0.0770 | 0.073617 | 0.00318523 |\n",
       "| filter_blank | 6 | 0.0769 | 0.073617 | 0.00318523 |\n",
       "\n"
      ],
      "text/plain": [
       "   sample       rep od     avg_od   sd_od     \n",
       "1  s123         1   0.0767 0.079617 0.00425461\n",
       "2  s123         2   0.0752 0.079617 0.00425461\n",
       "3  s123         3   0.0773 0.079617 0.00425461\n",
       "4  s123         1   0.0860 0.079617 0.00425461\n",
       "5  s123         2   0.0789 0.079617 0.00425461\n",
       "6  s123         3   0.0836 0.079617 0.00425461\n",
       "7  s159         1   0.0762 0.089700 0.01933877\n",
       "8  s159         2   0.0751 0.089700 0.01933877\n",
       "9  s159         3   0.1259 0.089700 0.01933877\n",
       "10 s159         1   0.0845 0.089700 0.01933877\n",
       "11 s159         2   0.0964 0.089700 0.01933877\n",
       "12 s159         3   0.0801 0.089700 0.01933877\n",
       "13 s123spk      1   0.2929 0.291500 0.00127671\n",
       "14 s123spk      2   0.2904 0.291500 0.00127671\n",
       "15 s123spk      3   0.2912 0.291500 0.00127671\n",
       "16 s159spk      1   0.4866 0.486500 0.00055678\n",
       "17 s159spk      2   0.4859 0.486500 0.00055678\n",
       "18 s159spk      3   0.4870 0.486500 0.00055678\n",
       "19 qc1          1   0.8543 0.865820 0.00890292\n",
       "20 qc1          2   0.8750 0.865820 0.00890292\n",
       "21 qc1          3   0.8594 0.865820 0.00890292\n",
       "22 qc1          4   0.8670 0.865820 0.00890292\n",
       "23 qc1          5   0.8734 0.865820 0.00890292\n",
       "24 qc2          1   0.4853 0.493740 0.00574569\n",
       "25 qc2          2   0.4912 0.493740 0.00574569\n",
       "26 qc2          3   0.4971 0.493740 0.00574569\n",
       "27 qc2          4   0.4949 0.493740 0.00574569\n",
       "28 qc2          5   0.5002 0.493740 0.00574569\n",
       "29 qc3          1   0.1132 0.109680 0.00685471\n",
       "30 qc3          2   0.1115 0.109680 0.00685471\n",
       "31 qc3          3   0.0975 0.109680 0.00685471\n",
       "32 qc3          4   0.1126 0.109680 0.00685471\n",
       "33 qc3          5   0.1136 0.109680 0.00685471\n",
       "34 qc4          1   0.0712 0.073340 0.00278173\n",
       "35 qc4          2   0.0714 0.073340 0.00278173\n",
       "36 qc4          3   0.0751 0.073340 0.00278173\n",
       "37 qc4          4   0.0716 0.073340 0.00278173\n",
       "38 qc4          5   0.0774 0.073340 0.00278173\n",
       "39 di_blank     1   0.0676 0.069200 0.00310376\n",
       "40 di_blank     2   0.0664 0.069200 0.00310376\n",
       "41 di_blank     3   0.0693 0.069200 0.00310376\n",
       "42 di_blank     4   0.0735 0.069200 0.00310376\n",
       "43 filter_blank 1   0.0719 0.073617 0.00318523\n",
       "44 filter_blank 2   0.0709 0.073617 0.00318523\n",
       "45 filter_blank 3   0.0697 0.073617 0.00318523\n",
       "46 filter_blank 4   0.0753 0.073617 0.00318523\n",
       "47 filter_blank 5   0.0770 0.073617 0.00318523\n",
       "48 filter_blank 6   0.0769 0.073617 0.00318523"
      ]
     },
     "metadata": {},
     "output_type": "display_data"
    }
   ],
   "source": [
    "samples <- samples %>%\n",
    "    group_by(sample) %>%\n",
    "    mutate(avg_od = mean(od)) %>% # Calculate mean within each group and add it as a new column\n",
    "    mutate(sd_od = sd(od)) %>%\n",
    "    ungroup() # Remove grouping for subsequent operations\n",
    "samples"
   ]
  },
  {
   "cell_type": "markdown",
   "id": "6c3c0611-3544-4508-8003-993425c016c3",
   "metadata": {},
   "source": [
    "### predicted values based on standard curve (avgs using both low and regular standards)"
   ]
  },
  {
   "cell_type": "code",
   "execution_count": 326,
   "id": "a163ea18-0638-4b88-afdc-b318b617d9a6",
   "metadata": {},
   "outputs": [],
   "source": [
    "# add stnds \n",
    "stnds<-stnds %>%\n",
    "    rename(sd_od=sd,\n",
    "          sample=id)"
   ]
  },
  {
   "cell_type": "code",
   "execution_count": 328,
   "id": "72419337-63d9-4435-b648-b0dc3aa442c9",
   "metadata": {},
   "outputs": [],
   "source": [
    "# add actual concentrations\n",
    "samples <- samples %>%\n",
    "    mutate(actual_conc = (case_when(\n",
    "        sample == 'qc1' ~ 1,\n",
    "        sample == 'qc2' ~ 0.5,\n",
    "        sample == 'qc3' ~ 0.05,\n",
    "        sample == 'qc4' ~ 0.005,\n",
    "        sample == 'blank' ~ 0,\n",
    "        TRUE ~ NA))\n",
    "        )\n",
    "\n",
    "# calculate predictions from stnd curve \n",
    "samples$predicted_conc_avglm <- predict(low_avg_model, newdata = samples)\n",
    "\n",
    "#calculate avgs and sd of predicted conc\n",
    "samples<-samples %>%\n",
    "    group_by(sample) %>%\n",
    "        mutate(avg_predicted_conc_avglm = mean(predicted_conc_avglm)) %>%\n",
    "        # mutate(sd_predicted_conc_avglm = sd(predicted_conc_avglm)) %>%\n",
    "        # no std dev since its avgs \n",
    "            ungroup()"
   ]
  },
  {
   "cell_type": "code",
   "execution_count": 329,
   "id": "03ce4200-a181-49de-b7ca-6b0cc689ccd5",
   "metadata": {},
   "outputs": [
    {
     "data": {
      "text/html": [
       "<strong>1:</strong> 0.00919388018487164"
      ],
      "text/latex": [
       "\\textbf{1:} 0.00919388018487164"
      ],
      "text/markdown": [
       "**1:** 0.00919388018487164"
      ],
      "text/plain": [
       "        1 \n",
       "0.0091939 "
      ]
     },
     "metadata": {},
     "output_type": "display_data"
    },
    {
     "data": {
      "text/html": [
       "<strong>1:</strong> 0.259193880184872"
      ],
      "text/latex": [
       "\\textbf{1:} 0.259193880184872"
      ],
      "text/markdown": [
       "**1:** 0.259193880184872"
      ],
      "text/plain": [
       "      1 \n",
       "0.25919 "
      ]
     },
     "metadata": {},
     "output_type": "display_data"
    }
   ],
   "source": [
    "# add in concentration for spiked samples\n",
    "# g 9:12 + (q2) 0.25ppm (s123, di g12)\n",
    "# h 9:12 + (q1) 0.5ppm (s159, di h12)\n",
    "s123_value <- samples %>%\n",
    "  filter(sample == \"s123\") %>%\n",
    "  slice(1) %>%\n",
    "  pull(predicted_conc_avglm)\n",
    "spk123_value<-s123_value+0.25\n",
    "s123_value\n",
    "spk123_value\n",
    "\n",
    "di_q2_value <- samples %>%\n",
    "  filter(sample == \"dispk_q2\") %>%\n",
    "  slice(1) %>%\n",
    "  pull(predicted_conc_avglm)\n",
    "spkdi_q2_value<-di_q2_value+0.25\n",
    "\n",
    "s159_value <- samples %>%\n",
    "  filter(sample == \"s159\") %>%\n",
    "  slice(1) %>%\n",
    "  pull(predicted_conc_avglm)\n",
    "spk159_value<-s159_value+0.5\n",
    "\n",
    "di_q1_value <- samples %>%\n",
    "  filter(sample == \"dispk_q1\") %>%\n",
    "  slice(1) %>%\n",
    "  pull(predicted_conc_avglm)\n",
    "spkdi_q1_value<-di_q1_value+0.5\n"
   ]
  },
  {
   "cell_type": "code",
   "execution_count": 330,
   "id": "d082769d-1cf6-44f4-a2ba-251f8871e5ed",
   "metadata": {},
   "outputs": [],
   "source": [
    "# calculate % error for qcs (individually, by rep)\n",
    "# make lists to loop through \n",
    "qc_list <- c('qc1','qc2','qc3','qc4','s123spk','s159spk','dispk_q1','dispk_q2')\n",
    "expected_conc <- c(1,0.5,0.05,0.005,spk123_value,spk159_value,spkdi_q1_value,spkdi_q2_value)\n",
    "\n",
    "# calculate % error for qcs (individually, by rep)\n",
    "\n",
    "# Add a percent_error column initialized with NA\n",
    "samples <- samples %>%\n",
    "  mutate(percent_error_avglm = NA_real_)\n",
    "\n",
    "# Loop through each QC sample\n",
    "for (q in c(1:length(qc_list))) {\n",
    "  # Update percent_error for matching QC samples and set others to NA\n",
    "  samples <- samples %>%\n",
    "    mutate(percent_error_avglm = ifelse(\n",
    "      sample == qc_list[q],  # Only apply to matching QC samples\n",
    "      (abs(predicted_conc_avglm - expected_conc[q]) / expected_conc[q]) * 100,  # Calculate % error\n",
    "      percent_error_avglm  # For non-matching rows, retain NA\n",
    "    ))\n",
    "}"
   ]
  },
  {
   "cell_type": "markdown",
   "id": "1e6e45e3-d79c-4d6b-8384-781662c104a2",
   "metadata": {},
   "source": [
    "### predicted values based on standard curve (using both low and regular standards - NOT AVGS)"
   ]
  },
  {
   "cell_type": "code",
   "execution_count": 332,
   "id": "aec1e0f9-2aac-4614-9a18-cb6f43be084d",
   "metadata": {},
   "outputs": [],
   "source": [
    "# calculate concentrations using curve \n",
    "samples$predicted_conc <- predict(stnds_model, newdata = samples)\n",
    "\n",
    "#calculate avgs and sd of predicted conc\n",
    "samples<-samples %>%\n",
    "    group_by(sample) %>%\n",
    "        mutate(avg_predicted_conc = mean(predicted_conc)) %>%\n",
    "        mutate(sd_predicted_conc = sd(predicted_conc)) %>%\n",
    "            ungroup()"
   ]
  },
  {
   "cell_type": "code",
   "execution_count": 333,
   "id": "b6b7e85e-0c20-4271-936b-15bfcba6400e",
   "metadata": {},
   "outputs": [],
   "source": [
    "# calculate % error for qcs (individually, by rep)\n",
    "\n",
    "# Add a percent_error column initialized with NA\n",
    "samples <- samples %>%\n",
    "  mutate(percent_error = NA_real_)\n",
    "\n",
    "# Loop through each QC sample\n",
    "for (q in c(1:length(qc_list))) {\n",
    "  # Update percent_error for matching QC samples and set others to NA\n",
    "  samples <- samples %>%\n",
    "    mutate(percent_error = ifelse(\n",
    "      sample == qc_list[q],  # Only apply to matching QC samples\n",
    "      (abs(predicted_conc - expected_conc[q]) / expected_conc[q]) * 100,  # Calculate % error\n",
    "      percent_error  # For non-matching rows, retain NA\n",
    "    ))\n",
    "}"
   ]
  },
  {
   "cell_type": "code",
   "execution_count": 334,
   "id": "191f3307-fddf-4d65-9bb4-d4c8a798a255",
   "metadata": {},
   "outputs": [],
   "source": [
    "### Final predictions "
   ]
  },
  {
   "cell_type": "code",
   "execution_count": 335,
   "id": "3d342385-0cf2-4211-8f8f-f652c029885f",
   "metadata": {},
   "outputs": [],
   "source": [
    "# renumber sample reps:\n",
    "samples <- samples %>%\n",
    "  group_by(sample) %>%\n",
    "  mutate(\n",
    "    rep = row_number()\n",
    "  ) %>%\n",
    "  ungroup()"
   ]
  },
  {
   "cell_type": "code",
   "execution_count": 336,
   "id": "820e22e6-d001-435d-8f7d-e110e3c2777f",
   "metadata": {},
   "outputs": [],
   "source": [
    "predictions_summary<-samples %>%\n",
    "    group_by(sample) %>%\n",
    "    slice(1)  #take first row of each sample since predictions are based on avgs not individual reps "
   ]
  },
  {
   "cell_type": "code",
   "execution_count": 337,
   "id": "c152d8ed-c224-4773-87f9-00b10b9ff89f",
   "metadata": {},
   "outputs": [
    {
     "data": {
      "text/html": [
       "<table class=\"dataframe\">\n",
       "<caption>A grouped_df: 10 × 13</caption>\n",
       "<thead>\n",
       "\t<tr><th scope=col>sample</th><th scope=col>rep</th><th scope=col>od</th><th scope=col>avg_od</th><th scope=col>sd_od</th><th scope=col>actual_conc</th><th scope=col>predicted_conc_avglm</th><th scope=col>avg_predicted_conc_avglm</th><th scope=col>percent_error_avglm</th><th scope=col>predicted_conc</th><th scope=col>avg_predicted_conc</th><th scope=col>sd_predicted_conc</th><th scope=col>percent_error</th></tr>\n",
       "\t<tr><th scope=col>&lt;chr&gt;</th><th scope=col>&lt;int&gt;</th><th scope=col>&lt;dbl&gt;</th><th scope=col>&lt;dbl&gt;</th><th scope=col>&lt;dbl&gt;</th><th scope=col>&lt;dbl&gt;</th><th scope=col>&lt;dbl&gt;</th><th scope=col>&lt;dbl&gt;</th><th scope=col>&lt;dbl&gt;</th><th scope=col>&lt;dbl&gt;</th><th scope=col>&lt;dbl&gt;</th><th scope=col>&lt;dbl&gt;</th><th scope=col>&lt;dbl&gt;</th></tr>\n",
       "</thead>\n",
       "<tbody>\n",
       "\t<tr><td>di_blank    </td><td>1</td><td>0.0676</td><td>0.069200</td><td>0.00310376</td><td>   NA</td><td>-0.0010609</td><td>-0.0010609</td><td>    NA</td><td>-0.0060105</td><td>-0.004317137</td><td>0.00328480</td><td>     NA</td></tr>\n",
       "\t<tr><td>filter_blank</td><td>1</td><td>0.0719</td><td>0.073617</td><td>0.00318523</td><td>   NA</td><td> 0.0032872</td><td> 0.0032872</td><td>    NA</td><td>-0.0014596</td><td> 0.000357154</td><td>0.00337102</td><td>     NA</td></tr>\n",
       "\t<tr><td>qc1         </td><td>1</td><td>0.8543</td><td>0.865820</td><td>0.00890292</td><td>1.000</td><td> 0.7831756</td><td> 0.7831756</td><td>21.682</td><td> 0.8265778</td><td> 0.838769742</td><td>0.00942223</td><td> 17.342</td></tr>\n",
       "\t<tr><td>qc2         </td><td>1</td><td>0.4853</td><td>0.493740</td><td>0.00574569</td><td>0.500</td><td> 0.4168796</td><td> 0.4168796</td><td>16.624</td><td> 0.4360540</td><td> 0.444986299</td><td>0.00608084</td><td> 12.789</td></tr>\n",
       "\t<tr><td>qc3         </td><td>1</td><td>0.1132</td><td>0.109680</td><td>0.00685471</td><td>0.050</td><td> 0.0387899</td><td> 0.0387899</td><td>22.420</td><td> 0.0422494</td><td> 0.038524063</td><td>0.00725454</td><td> 15.501</td></tr>\n",
       "\t<tr><td>qc4         </td><td>1</td><td>0.0712</td><td>0.073340</td><td>0.00278173</td><td>0.005</td><td> 0.0030148</td><td> 0.0030148</td><td>39.704</td><td>-0.0022005</td><td> 0.000064349</td><td>0.00294398</td><td>144.010</td></tr>\n",
       "\t<tr><td>s123        </td><td>1</td><td>0.0767</td><td>0.079617</td><td>0.00425461</td><td>   NA</td><td> 0.0091939</td><td> 0.0091939</td><td>    NA</td><td> 0.0036203</td><td> 0.006707134</td><td>0.00450278</td><td>     NA</td></tr>\n",
       "\t<tr><td>s123spk     </td><td>1</td><td>0.2929</td><td>0.291500</td><td>0.00127671</td><td>   NA</td><td> 0.2177835</td><td> 0.2177835</td><td>15.977</td><td> 0.2324313</td><td> 0.230949632</td><td>0.00135119</td><td> 10.325</td></tr>\n",
       "\t<tr><td>s159        </td><td>1</td><td>0.0762</td><td>0.089700</td><td>0.01933877</td><td>   NA</td><td> 0.0191205</td><td> 0.0191205</td><td>    NA</td><td> 0.0030912</td><td> 0.017378629</td><td>0.02046680</td><td>     NA</td></tr>\n",
       "\t<tr><td>s159spk     </td><td>1</td><td>0.4866</td><td>0.486500</td><td>0.00055678</td><td>   NA</td><td> 0.4097522</td><td> 0.4097522</td><td>21.068</td><td> 0.4374298</td><td> 0.437323990</td><td>0.00058925</td><td> 15.736</td></tr>\n",
       "</tbody>\n",
       "</table>\n"
      ],
      "text/latex": [
       "A grouped\\_df: 10 × 13\n",
       "\\begin{tabular}{lllllllllllll}\n",
       " sample & rep & od & avg\\_od & sd\\_od & actual\\_conc & predicted\\_conc\\_avglm & avg\\_predicted\\_conc\\_avglm & percent\\_error\\_avglm & predicted\\_conc & avg\\_predicted\\_conc & sd\\_predicted\\_conc & percent\\_error\\\\\n",
       " <chr> & <int> & <dbl> & <dbl> & <dbl> & <dbl> & <dbl> & <dbl> & <dbl> & <dbl> & <dbl> & <dbl> & <dbl>\\\\\n",
       "\\hline\n",
       "\t di\\_blank     & 1 & 0.0676 & 0.069200 & 0.00310376 &    NA & -0.0010609 & -0.0010609 &     NA & -0.0060105 & -0.004317137 & 0.00328480 &      NA\\\\\n",
       "\t filter\\_blank & 1 & 0.0719 & 0.073617 & 0.00318523 &    NA &  0.0032872 &  0.0032872 &     NA & -0.0014596 &  0.000357154 & 0.00337102 &      NA\\\\\n",
       "\t qc1          & 1 & 0.8543 & 0.865820 & 0.00890292 & 1.000 &  0.7831756 &  0.7831756 & 21.682 &  0.8265778 &  0.838769742 & 0.00942223 &  17.342\\\\\n",
       "\t qc2          & 1 & 0.4853 & 0.493740 & 0.00574569 & 0.500 &  0.4168796 &  0.4168796 & 16.624 &  0.4360540 &  0.444986299 & 0.00608084 &  12.789\\\\\n",
       "\t qc3          & 1 & 0.1132 & 0.109680 & 0.00685471 & 0.050 &  0.0387899 &  0.0387899 & 22.420 &  0.0422494 &  0.038524063 & 0.00725454 &  15.501\\\\\n",
       "\t qc4          & 1 & 0.0712 & 0.073340 & 0.00278173 & 0.005 &  0.0030148 &  0.0030148 & 39.704 & -0.0022005 &  0.000064349 & 0.00294398 & 144.010\\\\\n",
       "\t s123         & 1 & 0.0767 & 0.079617 & 0.00425461 &    NA &  0.0091939 &  0.0091939 &     NA &  0.0036203 &  0.006707134 & 0.00450278 &      NA\\\\\n",
       "\t s123spk      & 1 & 0.2929 & 0.291500 & 0.00127671 &    NA &  0.2177835 &  0.2177835 & 15.977 &  0.2324313 &  0.230949632 & 0.00135119 &  10.325\\\\\n",
       "\t s159         & 1 & 0.0762 & 0.089700 & 0.01933877 &    NA &  0.0191205 &  0.0191205 &     NA &  0.0030912 &  0.017378629 & 0.02046680 &      NA\\\\\n",
       "\t s159spk      & 1 & 0.4866 & 0.486500 & 0.00055678 &    NA &  0.4097522 &  0.4097522 & 21.068 &  0.4374298 &  0.437323990 & 0.00058925 &  15.736\\\\\n",
       "\\end{tabular}\n"
      ],
      "text/markdown": [
       "\n",
       "A grouped_df: 10 × 13\n",
       "\n",
       "| sample &lt;chr&gt; | rep &lt;int&gt; | od &lt;dbl&gt; | avg_od &lt;dbl&gt; | sd_od &lt;dbl&gt; | actual_conc &lt;dbl&gt; | predicted_conc_avglm &lt;dbl&gt; | avg_predicted_conc_avglm &lt;dbl&gt; | percent_error_avglm &lt;dbl&gt; | predicted_conc &lt;dbl&gt; | avg_predicted_conc &lt;dbl&gt; | sd_predicted_conc &lt;dbl&gt; | percent_error &lt;dbl&gt; |\n",
       "|---|---|---|---|---|---|---|---|---|---|---|---|---|\n",
       "| di_blank     | 1 | 0.0676 | 0.069200 | 0.00310376 |    NA | -0.0010609 | -0.0010609 |     NA | -0.0060105 | -0.004317137 | 0.00328480 |      NA |\n",
       "| filter_blank | 1 | 0.0719 | 0.073617 | 0.00318523 |    NA |  0.0032872 |  0.0032872 |     NA | -0.0014596 |  0.000357154 | 0.00337102 |      NA |\n",
       "| qc1          | 1 | 0.8543 | 0.865820 | 0.00890292 | 1.000 |  0.7831756 |  0.7831756 | 21.682 |  0.8265778 |  0.838769742 | 0.00942223 |  17.342 |\n",
       "| qc2          | 1 | 0.4853 | 0.493740 | 0.00574569 | 0.500 |  0.4168796 |  0.4168796 | 16.624 |  0.4360540 |  0.444986299 | 0.00608084 |  12.789 |\n",
       "| qc3          | 1 | 0.1132 | 0.109680 | 0.00685471 | 0.050 |  0.0387899 |  0.0387899 | 22.420 |  0.0422494 |  0.038524063 | 0.00725454 |  15.501 |\n",
       "| qc4          | 1 | 0.0712 | 0.073340 | 0.00278173 | 0.005 |  0.0030148 |  0.0030148 | 39.704 | -0.0022005 |  0.000064349 | 0.00294398 | 144.010 |\n",
       "| s123         | 1 | 0.0767 | 0.079617 | 0.00425461 |    NA |  0.0091939 |  0.0091939 |     NA |  0.0036203 |  0.006707134 | 0.00450278 |      NA |\n",
       "| s123spk      | 1 | 0.2929 | 0.291500 | 0.00127671 |    NA |  0.2177835 |  0.2177835 | 15.977 |  0.2324313 |  0.230949632 | 0.00135119 |  10.325 |\n",
       "| s159         | 1 | 0.0762 | 0.089700 | 0.01933877 |    NA |  0.0191205 |  0.0191205 |     NA |  0.0030912 |  0.017378629 | 0.02046680 |      NA |\n",
       "| s159spk      | 1 | 0.4866 | 0.486500 | 0.00055678 |    NA |  0.4097522 |  0.4097522 | 21.068 |  0.4374298 |  0.437323990 | 0.00058925 |  15.736 |\n",
       "\n"
      ],
      "text/plain": [
       "   sample       rep od     avg_od   sd_od      actual_conc predicted_conc_avglm\n",
       "39 di_blank     1   0.0676 0.069200 0.00310376    NA       -0.0010609          \n",
       "43 filter_blank 1   0.0719 0.073617 0.00318523    NA        0.0032872          \n",
       "19 qc1          1   0.8543 0.865820 0.00890292 1.000        0.7831756          \n",
       "24 qc2          1   0.4853 0.493740 0.00574569 0.500        0.4168796          \n",
       "29 qc3          1   0.1132 0.109680 0.00685471 0.050        0.0387899          \n",
       "34 qc4          1   0.0712 0.073340 0.00278173 0.005        0.0030148          \n",
       "1  s123         1   0.0767 0.079617 0.00425461    NA        0.0091939          \n",
       "13 s123spk      1   0.2929 0.291500 0.00127671    NA        0.2177835          \n",
       "7  s159         1   0.0762 0.089700 0.01933877    NA        0.0191205          \n",
       "16 s159spk      1   0.4866 0.486500 0.00055678    NA        0.4097522          \n",
       "   avg_predicted_conc_avglm percent_error_avglm predicted_conc\n",
       "39 -0.0010609                   NA              -0.0060105    \n",
       "43  0.0032872                   NA              -0.0014596    \n",
       "19  0.7831756               21.682               0.8265778    \n",
       "24  0.4168796               16.624               0.4360540    \n",
       "29  0.0387899               22.420               0.0422494    \n",
       "34  0.0030148               39.704              -0.0022005    \n",
       "1   0.0091939                   NA               0.0036203    \n",
       "13  0.2177835               15.977               0.2324313    \n",
       "7   0.0191205                   NA               0.0030912    \n",
       "16  0.4097522               21.068               0.4374298    \n",
       "   avg_predicted_conc sd_predicted_conc percent_error\n",
       "39 -0.004317137       0.00328480             NA      \n",
       "43  0.000357154       0.00337102             NA      \n",
       "19  0.838769742       0.00942223         17.342      \n",
       "24  0.444986299       0.00608084         12.789      \n",
       "29  0.038524063       0.00725454         15.501      \n",
       "34  0.000064349       0.00294398        144.010      \n",
       "1   0.006707134       0.00450278             NA      \n",
       "13  0.230949632       0.00135119         10.325      \n",
       "7   0.017378629       0.02046680             NA      \n",
       "16  0.437323990       0.00058925         15.736      "
      ]
     },
     "metadata": {},
     "output_type": "display_data"
    }
   ],
   "source": [
    "predictions_summary\n",
    "# avg_predicted_conc_avglm = full standard curve (based on averages)\n",
    "# avg_predicted_conc = full standard curve (based on individuals)"
   ]
  },
  {
   "cell_type": "code",
   "execution_count": null,
   "id": "663abc80-7f5c-4312-8a02-b552159a825d",
   "metadata": {},
   "outputs": [],
   "source": [
    "# errors to fix: need to add in di spk and stnds to predictions "
   ]
  },
  {
   "cell_type": "code",
   "execution_count": null,
   "id": "e00a97a1-d5ee-4fa1-b949-cfd07fd98256",
   "metadata": {},
   "outputs": [],
   "source": [
    "# qc checks (percent error) look way better in individual-based curve \n",
    "    # except qc4..may have been a pipetting error since its SO low \n"
   ]
  },
  {
   "cell_type": "code",
   "execution_count": 344,
   "id": "39e7f1b1-0cfc-4803-b01a-976c4bb97d86",
   "metadata": {},
   "outputs": [
    {
     "name": "stdout",
     "output_type": "stream",
     "text": [
      "[1] \"s123 spike - concentration added: 0.21\"\n",
      "[1] \"s159 spike - concentration added: 0.39\"\n"
     ]
    }
   ],
   "source": [
    "# check spk for avg curve\n",
    "s123spk <- samples %>%\n",
    "  filter(sample == \"s123spk\") %>%\n",
    "  slice(1) %>%\n",
    "  pull(predicted_conc_avglm)\n",
    "# calculate the added concentration (difference b/w predicted values) \n",
    "concentration_added <- round(s123spk - s123_value,2)\n",
    "print(paste(\"s123 spike - concentration added:\", concentration_added))\n",
    "# pretty close to 0.25 \n",
    "\n",
    "s159spk <- samples %>%\n",
    "  filter(sample == \"s159spk\") %>%\n",
    "  slice(1) %>%\n",
    "  pull(predicted_conc_avglm)\n",
    "# calculate the added concentration (difference b/w predicted values) \n",
    "concentration_added <- round(s159spk - s159_value,digits=2)\n",
    "print(paste(\"s159 spike - concentration added:\", concentration_added))\n",
    "# a lil further but still pretty close to 0.5\n"
   ]
  },
  {
   "cell_type": "code",
   "execution_count": 345,
   "id": "dfebe92c-0c6f-407f-a400-49944b6674aa",
   "metadata": {},
   "outputs": [
    {
     "name": "stdout",
     "output_type": "stream",
     "text": [
      "[1] \"s123 spike - concentration added: 0.23\"\n",
      "[1] \"s159 spike - concentration added: 0.43\"\n"
     ]
    }
   ],
   "source": [
    "# repeat: check spk for individual-based curve\n",
    "s123_value <- samples %>%\n",
    "  filter(sample == \"s123\") %>%\n",
    "  slice(1) %>%\n",
    "  pull(predicted_conc)\n",
    "\n",
    "s123spk <- samples %>%\n",
    "  filter(sample == \"s123spk\") %>%\n",
    "  slice(1) %>%\n",
    "  pull(predicted_conc)\n",
    "# calculate the added concentration (difference b/w predicted values) \n",
    "concentration_added <- round(s123spk - s123_value,2)\n",
    "print(paste(\"s123 spike - concentration added:\", concentration_added))\n",
    "# very close to 0.25 \n",
    "\n",
    "s159_value <- samples %>%\n",
    "  filter(sample == \"s159\") %>%\n",
    "  slice(1) %>%\n",
    "  pull(predicted_conc)\n",
    "\n",
    "s159spk <- samples %>%\n",
    "  filter(sample == \"s159spk\") %>%\n",
    "  slice(1) %>%\n",
    "  pull(predicted_conc)\n",
    "# calculate the added concentration (difference b/w predicted values) \n",
    "concentration_added <- round(s159spk - s159_value,digits=2)\n",
    "print(paste(\"s159 spike - concentration added:\", concentration_added))\n",
    "# very close to 0.5\n",
    "# both look better in the individual-based"
   ]
  },
  {
   "cell_type": "code",
   "execution_count": 338,
   "id": "f6a3daa8-d3f1-4749-93a1-1956c6c1ee47",
   "metadata": {},
   "outputs": [
    {
     "data": {
      "text/html": [
       "<table class=\"dataframe\">\n",
       "<caption>A tibble: 48 × 13</caption>\n",
       "<thead>\n",
       "\t<tr><th scope=col>sample</th><th scope=col>rep</th><th scope=col>od</th><th scope=col>avg_od</th><th scope=col>sd_od</th><th scope=col>actual_conc</th><th scope=col>predicted_conc_avglm</th><th scope=col>avg_predicted_conc_avglm</th><th scope=col>percent_error_avglm</th><th scope=col>predicted_conc</th><th scope=col>avg_predicted_conc</th><th scope=col>sd_predicted_conc</th><th scope=col>percent_error</th></tr>\n",
       "\t<tr><th scope=col>&lt;chr&gt;</th><th scope=col>&lt;int&gt;</th><th scope=col>&lt;dbl&gt;</th><th scope=col>&lt;dbl&gt;</th><th scope=col>&lt;dbl&gt;</th><th scope=col>&lt;dbl&gt;</th><th scope=col>&lt;dbl&gt;</th><th scope=col>&lt;dbl&gt;</th><th scope=col>&lt;dbl&gt;</th><th scope=col>&lt;dbl&gt;</th><th scope=col>&lt;dbl&gt;</th><th scope=col>&lt;dbl&gt;</th><th scope=col>&lt;dbl&gt;</th></tr>\n",
       "</thead>\n",
       "<tbody>\n",
       "\t<tr><td>s123        </td><td>1</td><td>0.0767</td><td>0.079617</td><td>0.00425461</td><td>   NA</td><td> 0.0091939</td><td> 0.0091939</td><td>    NA</td><td> 0.00362034</td><td> 0.006707134</td><td>0.00450278</td><td>      NA</td></tr>\n",
       "\t<tr><td>s123        </td><td>2</td><td>0.0752</td><td>0.079617</td><td>0.00425461</td><td>   NA</td><td> 0.0091939</td><td> 0.0091939</td><td>    NA</td><td> 0.00203284</td><td> 0.006707134</td><td>0.00450278</td><td>      NA</td></tr>\n",
       "\t<tr><td>s123        </td><td>3</td><td>0.0773</td><td>0.079617</td><td>0.00425461</td><td>   NA</td><td> 0.0091939</td><td> 0.0091939</td><td>    NA</td><td> 0.00425534</td><td> 0.006707134</td><td>0.00450278</td><td>      NA</td></tr>\n",
       "\t<tr><td>s123        </td><td>4</td><td>0.0860</td><td>0.079617</td><td>0.00425461</td><td>   NA</td><td> 0.0091939</td><td> 0.0091939</td><td>    NA</td><td> 0.01346281</td><td> 0.006707134</td><td>0.00450278</td><td>      NA</td></tr>\n",
       "\t<tr><td>s123        </td><td>5</td><td>0.0789</td><td>0.079617</td><td>0.00425461</td><td>   NA</td><td> 0.0091939</td><td> 0.0091939</td><td>    NA</td><td> 0.00594866</td><td> 0.006707134</td><td>0.00450278</td><td>      NA</td></tr>\n",
       "\t<tr><td>s123        </td><td>6</td><td>0.0836</td><td>0.079617</td><td>0.00425461</td><td>   NA</td><td> 0.0091939</td><td> 0.0091939</td><td>    NA</td><td> 0.01092282</td><td> 0.006707134</td><td>0.00450278</td><td>      NA</td></tr>\n",
       "\t<tr><td>s159        </td><td>1</td><td>0.0762</td><td>0.089700</td><td>0.01933877</td><td>   NA</td><td> 0.0191205</td><td> 0.0191205</td><td>    NA</td><td> 0.00309117</td><td> 0.017378629</td><td>0.02046680</td><td>      NA</td></tr>\n",
       "\t<tr><td>s159        </td><td>2</td><td>0.0751</td><td>0.089700</td><td>0.01933877</td><td>   NA</td><td> 0.0191205</td><td> 0.0191205</td><td>    NA</td><td> 0.00192701</td><td> 0.017378629</td><td>0.02046680</td><td>      NA</td></tr>\n",
       "\t<tr><td>s159        </td><td>3</td><td>0.1259</td><td>0.089700</td><td>0.01933877</td><td>   NA</td><td> 0.0191205</td><td> 0.0191205</td><td>    NA</td><td> 0.05569018</td><td> 0.017378629</td><td>0.02046680</td><td>      NA</td></tr>\n",
       "\t<tr><td>s159        </td><td>4</td><td>0.0845</td><td>0.089700</td><td>0.01933877</td><td>   NA</td><td> 0.0191205</td><td> 0.0191205</td><td>    NA</td><td> 0.01187531</td><td> 0.017378629</td><td>0.02046680</td><td>      NA</td></tr>\n",
       "\t<tr><td>s159        </td><td>5</td><td>0.0964</td><td>0.089700</td><td>0.01933877</td><td>   NA</td><td> 0.0191205</td><td> 0.0191205</td><td>    NA</td><td> 0.02446944</td><td> 0.017378629</td><td>0.02046680</td><td>      NA</td></tr>\n",
       "\t<tr><td>s159        </td><td>6</td><td>0.0801</td><td>0.089700</td><td>0.01933877</td><td>   NA</td><td> 0.0191205</td><td> 0.0191205</td><td>    NA</td><td> 0.00721866</td><td> 0.017378629</td><td>0.02046680</td><td>      NA</td></tr>\n",
       "\t<tr><td>s123spk     </td><td>1</td><td>0.2929</td><td>0.291500</td><td>0.00127671</td><td>   NA</td><td> 0.2177835</td><td> 0.2177835</td><td>15.977</td><td> 0.23243129</td><td> 0.230949632</td><td>0.00135119</td><td> 10.3253</td></tr>\n",
       "\t<tr><td>s123spk     </td><td>2</td><td>0.2904</td><td>0.291500</td><td>0.00127671</td><td>   NA</td><td> 0.2177835</td><td> 0.2177835</td><td>15.977</td><td> 0.22978547</td><td> 0.230949632</td><td>0.00135119</td><td> 11.3461</td></tr>\n",
       "\t<tr><td>s123spk     </td><td>3</td><td>0.2912</td><td>0.291500</td><td>0.00127671</td><td>   NA</td><td> 0.2177835</td><td> 0.2177835</td><td>15.977</td><td> 0.23063213</td><td> 0.230949632</td><td>0.00135119</td><td> 11.0195</td></tr>\n",
       "\t<tr><td>s159spk     </td><td>1</td><td>0.4866</td><td>0.486500</td><td>0.00055678</td><td>   NA</td><td> 0.4097522</td><td> 0.4097522</td><td>21.068</td><td> 0.43742982</td><td> 0.437323990</td><td>0.00058925</td><td> 15.7364</td></tr>\n",
       "\t<tr><td>s159spk     </td><td>2</td><td>0.4859</td><td>0.486500</td><td>0.00055678</td><td>   NA</td><td> 0.4097522</td><td> 0.4097522</td><td>21.068</td><td> 0.43668899</td><td> 0.437323990</td><td>0.00058925</td><td> 15.8791</td></tr>\n",
       "\t<tr><td>s159spk     </td><td>3</td><td>0.4870</td><td>0.486500</td><td>0.00055678</td><td>   NA</td><td> 0.4097522</td><td> 0.4097522</td><td>21.068</td><td> 0.43785315</td><td> 0.437323990</td><td>0.00058925</td><td> 15.6548</td></tr>\n",
       "\t<tr><td>qc1         </td><td>1</td><td>0.8543</td><td>0.865820</td><td>0.00890292</td><td>1.000</td><td> 0.7831756</td><td> 0.7831756</td><td>21.682</td><td> 0.82657778</td><td> 0.838769742</td><td>0.00942223</td><td> 17.3422</td></tr>\n",
       "\t<tr><td>qc1         </td><td>2</td><td>0.8750</td><td>0.865820</td><td>0.00890292</td><td>1.000</td><td> 0.7831756</td><td> 0.7831756</td><td>21.682</td><td> 0.84848521</td><td> 0.838769742</td><td>0.00942223</td><td> 15.1515</td></tr>\n",
       "\t<tr><td>qc1         </td><td>3</td><td>0.8594</td><td>0.865820</td><td>0.00890292</td><td>1.000</td><td> 0.7831756</td><td> 0.7831756</td><td>21.682</td><td> 0.83197526</td><td> 0.838769742</td><td>0.00942223</td><td> 16.8025</td></tr>\n",
       "\t<tr><td>qc1         </td><td>4</td><td>0.8670</td><td>0.865820</td><td>0.00890292</td><td>1.000</td><td> 0.7831756</td><td> 0.7831756</td><td>21.682</td><td> 0.84001857</td><td> 0.838769742</td><td>0.00942223</td><td> 15.9981</td></tr>\n",
       "\t<tr><td>qc1         </td><td>5</td><td>0.8734</td><td>0.865820</td><td>0.00890292</td><td>1.000</td><td> 0.7831756</td><td> 0.7831756</td><td>21.682</td><td> 0.84679188</td><td> 0.838769742</td><td>0.00942223</td><td> 15.3208</td></tr>\n",
       "\t<tr><td>qc2         </td><td>1</td><td>0.4853</td><td>0.493740</td><td>0.00574569</td><td>0.500</td><td> 0.4168796</td><td> 0.4168796</td><td>16.624</td><td> 0.43605399</td><td> 0.444986299</td><td>0.00608084</td><td> 12.7892</td></tr>\n",
       "\t<tr><td>qc2         </td><td>2</td><td>0.4912</td><td>0.493740</td><td>0.00574569</td><td>0.500</td><td> 0.4168796</td><td> 0.4168796</td><td>16.624</td><td> 0.44229814</td><td> 0.444986299</td><td>0.00608084</td><td> 11.5404</td></tr>\n",
       "\t<tr><td>qc2         </td><td>3</td><td>0.4971</td><td>0.493740</td><td>0.00574569</td><td>0.500</td><td> 0.4168796</td><td> 0.4168796</td><td>16.624</td><td> 0.44854229</td><td> 0.444986299</td><td>0.00608084</td><td> 10.2915</td></tr>\n",
       "\t<tr><td>qc2         </td><td>4</td><td>0.4949</td><td>0.493740</td><td>0.00574569</td><td>0.500</td><td> 0.4168796</td><td> 0.4168796</td><td>16.624</td><td> 0.44621396</td><td> 0.444986299</td><td>0.00608084</td><td> 10.7572</td></tr>\n",
       "\t<tr><td>qc2         </td><td>5</td><td>0.5002</td><td>0.493740</td><td>0.00574569</td><td>0.500</td><td> 0.4168796</td><td> 0.4168796</td><td>16.624</td><td> 0.45182311</td><td> 0.444986299</td><td>0.00608084</td><td>  9.6354</td></tr>\n",
       "\t<tr><td>qc3         </td><td>1</td><td>0.1132</td><td>0.109680</td><td>0.00685471</td><td>0.050</td><td> 0.0387899</td><td> 0.0387899</td><td>22.420</td><td> 0.04224938</td><td> 0.038524063</td><td>0.00725454</td><td> 15.5012</td></tr>\n",
       "\t<tr><td>qc3         </td><td>2</td><td>0.1115</td><td>0.109680</td><td>0.00685471</td><td>0.050</td><td> 0.0387899</td><td> 0.0387899</td><td>22.420</td><td> 0.04045022</td><td> 0.038524063</td><td>0.00725454</td><td> 19.0996</td></tr>\n",
       "\t<tr><td>qc3         </td><td>3</td><td>0.0975</td><td>0.109680</td><td>0.00685471</td><td>0.050</td><td> 0.0387899</td><td> 0.0387899</td><td>22.420</td><td> 0.02563360</td><td> 0.038524063</td><td>0.00725454</td><td> 48.7328</td></tr>\n",
       "\t<tr><td>qc3         </td><td>4</td><td>0.1126</td><td>0.109680</td><td>0.00685471</td><td>0.050</td><td> 0.0387899</td><td> 0.0387899</td><td>22.420</td><td> 0.04161439</td><td> 0.038524063</td><td>0.00725454</td><td> 16.7712</td></tr>\n",
       "\t<tr><td>qc3         </td><td>5</td><td>0.1136</td><td>0.109680</td><td>0.00685471</td><td>0.050</td><td> 0.0387899</td><td> 0.0387899</td><td>22.420</td><td> 0.04267272</td><td> 0.038524063</td><td>0.00725454</td><td> 14.6546</td></tr>\n",
       "\t<tr><td>qc4         </td><td>1</td><td>0.0712</td><td>0.073340</td><td>0.00278173</td><td>0.005</td><td> 0.0030148</td><td> 0.0030148</td><td>39.704</td><td>-0.00220048</td><td> 0.000064349</td><td>0.00294398</td><td>144.0095</td></tr>\n",
       "\t<tr><td>qc4         </td><td>2</td><td>0.0714</td><td>0.073340</td><td>0.00278173</td><td>0.005</td><td> 0.0030148</td><td> 0.0030148</td><td>39.704</td><td>-0.00198881</td><td> 0.000064349</td><td>0.00294398</td><td>139.7762</td></tr>\n",
       "\t<tr><td>qc4         </td><td>3</td><td>0.0751</td><td>0.073340</td><td>0.00278173</td><td>0.005</td><td> 0.0030148</td><td> 0.0030148</td><td>39.704</td><td> 0.00192701</td><td> 0.000064349</td><td>0.00294398</td><td> 61.4598</td></tr>\n",
       "\t<tr><td>qc4         </td><td>4</td><td>0.0716</td><td>0.073340</td><td>0.00278173</td><td>0.005</td><td> 0.0030148</td><td> 0.0030148</td><td>39.704</td><td>-0.00177714</td><td> 0.000064349</td><td>0.00294398</td><td>135.5429</td></tr>\n",
       "\t<tr><td>qc4         </td><td>5</td><td>0.0774</td><td>0.073340</td><td>0.00278173</td><td>0.005</td><td> 0.0030148</td><td> 0.0030148</td><td>39.704</td><td> 0.00436117</td><td> 0.000064349</td><td>0.00294398</td><td> 12.7766</td></tr>\n",
       "\t<tr><td>di_blank    </td><td>1</td><td>0.0676</td><td>0.069200</td><td>0.00310376</td><td>   NA</td><td>-0.0010609</td><td>-0.0010609</td><td>    NA</td><td>-0.00601047</td><td>-0.004317137</td><td>0.00328480</td><td>      NA</td></tr>\n",
       "\t<tr><td>di_blank    </td><td>2</td><td>0.0664</td><td>0.069200</td><td>0.00310376</td><td>   NA</td><td>-0.0010609</td><td>-0.0010609</td><td>    NA</td><td>-0.00728046</td><td>-0.004317137</td><td>0.00328480</td><td>      NA</td></tr>\n",
       "\t<tr><td>di_blank    </td><td>3</td><td>0.0693</td><td>0.069200</td><td>0.00310376</td><td>   NA</td><td>-0.0010609</td><td>-0.0010609</td><td>    NA</td><td>-0.00421130</td><td>-0.004317137</td><td>0.00328480</td><td>      NA</td></tr>\n",
       "\t<tr><td>di_blank    </td><td>4</td><td>0.0735</td><td>0.069200</td><td>0.00310376</td><td>   NA</td><td>-0.0010609</td><td>-0.0010609</td><td>    NA</td><td> 0.00023368</td><td>-0.004317137</td><td>0.00328480</td><td>      NA</td></tr>\n",
       "\t<tr><td>filter_blank</td><td>1</td><td>0.0719</td><td>0.073617</td><td>0.00318523</td><td>   NA</td><td> 0.0032872</td><td> 0.0032872</td><td>    NA</td><td>-0.00145965</td><td> 0.000357154</td><td>0.00337102</td><td>      NA</td></tr>\n",
       "\t<tr><td>filter_blank</td><td>2</td><td>0.0709</td><td>0.073617</td><td>0.00318523</td><td>   NA</td><td> 0.0032872</td><td> 0.0032872</td><td>    NA</td><td>-0.00251798</td><td> 0.000357154</td><td>0.00337102</td><td>      NA</td></tr>\n",
       "\t<tr><td>filter_blank</td><td>3</td><td>0.0697</td><td>0.073617</td><td>0.00318523</td><td>   NA</td><td> 0.0032872</td><td> 0.0032872</td><td>    NA</td><td>-0.00378797</td><td> 0.000357154</td><td>0.00337102</td><td>      NA</td></tr>\n",
       "\t<tr><td>filter_blank</td><td>4</td><td>0.0753</td><td>0.073617</td><td>0.00318523</td><td>   NA</td><td> 0.0032872</td><td> 0.0032872</td><td>    NA</td><td> 0.00213868</td><td> 0.000357154</td><td>0.00337102</td><td>      NA</td></tr>\n",
       "\t<tr><td>filter_blank</td><td>5</td><td>0.0770</td><td>0.073617</td><td>0.00318523</td><td>   NA</td><td> 0.0032872</td><td> 0.0032872</td><td>    NA</td><td> 0.00393784</td><td> 0.000357154</td><td>0.00337102</td><td>      NA</td></tr>\n",
       "\t<tr><td>filter_blank</td><td>6</td><td>0.0769</td><td>0.073617</td><td>0.00318523</td><td>   NA</td><td> 0.0032872</td><td> 0.0032872</td><td>    NA</td><td> 0.00383200</td><td> 0.000357154</td><td>0.00337102</td><td>      NA</td></tr>\n",
       "</tbody>\n",
       "</table>\n"
      ],
      "text/latex": [
       "A tibble: 48 × 13\n",
       "\\begin{tabular}{lllllllllllll}\n",
       " sample & rep & od & avg\\_od & sd\\_od & actual\\_conc & predicted\\_conc\\_avglm & avg\\_predicted\\_conc\\_avglm & percent\\_error\\_avglm & predicted\\_conc & avg\\_predicted\\_conc & sd\\_predicted\\_conc & percent\\_error\\\\\n",
       " <chr> & <int> & <dbl> & <dbl> & <dbl> & <dbl> & <dbl> & <dbl> & <dbl> & <dbl> & <dbl> & <dbl> & <dbl>\\\\\n",
       "\\hline\n",
       "\t s123         & 1 & 0.0767 & 0.079617 & 0.00425461 &    NA &  0.0091939 &  0.0091939 &     NA &  0.00362034 &  0.006707134 & 0.00450278 &       NA\\\\\n",
       "\t s123         & 2 & 0.0752 & 0.079617 & 0.00425461 &    NA &  0.0091939 &  0.0091939 &     NA &  0.00203284 &  0.006707134 & 0.00450278 &       NA\\\\\n",
       "\t s123         & 3 & 0.0773 & 0.079617 & 0.00425461 &    NA &  0.0091939 &  0.0091939 &     NA &  0.00425534 &  0.006707134 & 0.00450278 &       NA\\\\\n",
       "\t s123         & 4 & 0.0860 & 0.079617 & 0.00425461 &    NA &  0.0091939 &  0.0091939 &     NA &  0.01346281 &  0.006707134 & 0.00450278 &       NA\\\\\n",
       "\t s123         & 5 & 0.0789 & 0.079617 & 0.00425461 &    NA &  0.0091939 &  0.0091939 &     NA &  0.00594866 &  0.006707134 & 0.00450278 &       NA\\\\\n",
       "\t s123         & 6 & 0.0836 & 0.079617 & 0.00425461 &    NA &  0.0091939 &  0.0091939 &     NA &  0.01092282 &  0.006707134 & 0.00450278 &       NA\\\\\n",
       "\t s159         & 1 & 0.0762 & 0.089700 & 0.01933877 &    NA &  0.0191205 &  0.0191205 &     NA &  0.00309117 &  0.017378629 & 0.02046680 &       NA\\\\\n",
       "\t s159         & 2 & 0.0751 & 0.089700 & 0.01933877 &    NA &  0.0191205 &  0.0191205 &     NA &  0.00192701 &  0.017378629 & 0.02046680 &       NA\\\\\n",
       "\t s159         & 3 & 0.1259 & 0.089700 & 0.01933877 &    NA &  0.0191205 &  0.0191205 &     NA &  0.05569018 &  0.017378629 & 0.02046680 &       NA\\\\\n",
       "\t s159         & 4 & 0.0845 & 0.089700 & 0.01933877 &    NA &  0.0191205 &  0.0191205 &     NA &  0.01187531 &  0.017378629 & 0.02046680 &       NA\\\\\n",
       "\t s159         & 5 & 0.0964 & 0.089700 & 0.01933877 &    NA &  0.0191205 &  0.0191205 &     NA &  0.02446944 &  0.017378629 & 0.02046680 &       NA\\\\\n",
       "\t s159         & 6 & 0.0801 & 0.089700 & 0.01933877 &    NA &  0.0191205 &  0.0191205 &     NA &  0.00721866 &  0.017378629 & 0.02046680 &       NA\\\\\n",
       "\t s123spk      & 1 & 0.2929 & 0.291500 & 0.00127671 &    NA &  0.2177835 &  0.2177835 & 15.977 &  0.23243129 &  0.230949632 & 0.00135119 &  10.3253\\\\\n",
       "\t s123spk      & 2 & 0.2904 & 0.291500 & 0.00127671 &    NA &  0.2177835 &  0.2177835 & 15.977 &  0.22978547 &  0.230949632 & 0.00135119 &  11.3461\\\\\n",
       "\t s123spk      & 3 & 0.2912 & 0.291500 & 0.00127671 &    NA &  0.2177835 &  0.2177835 & 15.977 &  0.23063213 &  0.230949632 & 0.00135119 &  11.0195\\\\\n",
       "\t s159spk      & 1 & 0.4866 & 0.486500 & 0.00055678 &    NA &  0.4097522 &  0.4097522 & 21.068 &  0.43742982 &  0.437323990 & 0.00058925 &  15.7364\\\\\n",
       "\t s159spk      & 2 & 0.4859 & 0.486500 & 0.00055678 &    NA &  0.4097522 &  0.4097522 & 21.068 &  0.43668899 &  0.437323990 & 0.00058925 &  15.8791\\\\\n",
       "\t s159spk      & 3 & 0.4870 & 0.486500 & 0.00055678 &    NA &  0.4097522 &  0.4097522 & 21.068 &  0.43785315 &  0.437323990 & 0.00058925 &  15.6548\\\\\n",
       "\t qc1          & 1 & 0.8543 & 0.865820 & 0.00890292 & 1.000 &  0.7831756 &  0.7831756 & 21.682 &  0.82657778 &  0.838769742 & 0.00942223 &  17.3422\\\\\n",
       "\t qc1          & 2 & 0.8750 & 0.865820 & 0.00890292 & 1.000 &  0.7831756 &  0.7831756 & 21.682 &  0.84848521 &  0.838769742 & 0.00942223 &  15.1515\\\\\n",
       "\t qc1          & 3 & 0.8594 & 0.865820 & 0.00890292 & 1.000 &  0.7831756 &  0.7831756 & 21.682 &  0.83197526 &  0.838769742 & 0.00942223 &  16.8025\\\\\n",
       "\t qc1          & 4 & 0.8670 & 0.865820 & 0.00890292 & 1.000 &  0.7831756 &  0.7831756 & 21.682 &  0.84001857 &  0.838769742 & 0.00942223 &  15.9981\\\\\n",
       "\t qc1          & 5 & 0.8734 & 0.865820 & 0.00890292 & 1.000 &  0.7831756 &  0.7831756 & 21.682 &  0.84679188 &  0.838769742 & 0.00942223 &  15.3208\\\\\n",
       "\t qc2          & 1 & 0.4853 & 0.493740 & 0.00574569 & 0.500 &  0.4168796 &  0.4168796 & 16.624 &  0.43605399 &  0.444986299 & 0.00608084 &  12.7892\\\\\n",
       "\t qc2          & 2 & 0.4912 & 0.493740 & 0.00574569 & 0.500 &  0.4168796 &  0.4168796 & 16.624 &  0.44229814 &  0.444986299 & 0.00608084 &  11.5404\\\\\n",
       "\t qc2          & 3 & 0.4971 & 0.493740 & 0.00574569 & 0.500 &  0.4168796 &  0.4168796 & 16.624 &  0.44854229 &  0.444986299 & 0.00608084 &  10.2915\\\\\n",
       "\t qc2          & 4 & 0.4949 & 0.493740 & 0.00574569 & 0.500 &  0.4168796 &  0.4168796 & 16.624 &  0.44621396 &  0.444986299 & 0.00608084 &  10.7572\\\\\n",
       "\t qc2          & 5 & 0.5002 & 0.493740 & 0.00574569 & 0.500 &  0.4168796 &  0.4168796 & 16.624 &  0.45182311 &  0.444986299 & 0.00608084 &   9.6354\\\\\n",
       "\t qc3          & 1 & 0.1132 & 0.109680 & 0.00685471 & 0.050 &  0.0387899 &  0.0387899 & 22.420 &  0.04224938 &  0.038524063 & 0.00725454 &  15.5012\\\\\n",
       "\t qc3          & 2 & 0.1115 & 0.109680 & 0.00685471 & 0.050 &  0.0387899 &  0.0387899 & 22.420 &  0.04045022 &  0.038524063 & 0.00725454 &  19.0996\\\\\n",
       "\t qc3          & 3 & 0.0975 & 0.109680 & 0.00685471 & 0.050 &  0.0387899 &  0.0387899 & 22.420 &  0.02563360 &  0.038524063 & 0.00725454 &  48.7328\\\\\n",
       "\t qc3          & 4 & 0.1126 & 0.109680 & 0.00685471 & 0.050 &  0.0387899 &  0.0387899 & 22.420 &  0.04161439 &  0.038524063 & 0.00725454 &  16.7712\\\\\n",
       "\t qc3          & 5 & 0.1136 & 0.109680 & 0.00685471 & 0.050 &  0.0387899 &  0.0387899 & 22.420 &  0.04267272 &  0.038524063 & 0.00725454 &  14.6546\\\\\n",
       "\t qc4          & 1 & 0.0712 & 0.073340 & 0.00278173 & 0.005 &  0.0030148 &  0.0030148 & 39.704 & -0.00220048 &  0.000064349 & 0.00294398 & 144.0095\\\\\n",
       "\t qc4          & 2 & 0.0714 & 0.073340 & 0.00278173 & 0.005 &  0.0030148 &  0.0030148 & 39.704 & -0.00198881 &  0.000064349 & 0.00294398 & 139.7762\\\\\n",
       "\t qc4          & 3 & 0.0751 & 0.073340 & 0.00278173 & 0.005 &  0.0030148 &  0.0030148 & 39.704 &  0.00192701 &  0.000064349 & 0.00294398 &  61.4598\\\\\n",
       "\t qc4          & 4 & 0.0716 & 0.073340 & 0.00278173 & 0.005 &  0.0030148 &  0.0030148 & 39.704 & -0.00177714 &  0.000064349 & 0.00294398 & 135.5429\\\\\n",
       "\t qc4          & 5 & 0.0774 & 0.073340 & 0.00278173 & 0.005 &  0.0030148 &  0.0030148 & 39.704 &  0.00436117 &  0.000064349 & 0.00294398 &  12.7766\\\\\n",
       "\t di\\_blank     & 1 & 0.0676 & 0.069200 & 0.00310376 &    NA & -0.0010609 & -0.0010609 &     NA & -0.00601047 & -0.004317137 & 0.00328480 &       NA\\\\\n",
       "\t di\\_blank     & 2 & 0.0664 & 0.069200 & 0.00310376 &    NA & -0.0010609 & -0.0010609 &     NA & -0.00728046 & -0.004317137 & 0.00328480 &       NA\\\\\n",
       "\t di\\_blank     & 3 & 0.0693 & 0.069200 & 0.00310376 &    NA & -0.0010609 & -0.0010609 &     NA & -0.00421130 & -0.004317137 & 0.00328480 &       NA\\\\\n",
       "\t di\\_blank     & 4 & 0.0735 & 0.069200 & 0.00310376 &    NA & -0.0010609 & -0.0010609 &     NA &  0.00023368 & -0.004317137 & 0.00328480 &       NA\\\\\n",
       "\t filter\\_blank & 1 & 0.0719 & 0.073617 & 0.00318523 &    NA &  0.0032872 &  0.0032872 &     NA & -0.00145965 &  0.000357154 & 0.00337102 &       NA\\\\\n",
       "\t filter\\_blank & 2 & 0.0709 & 0.073617 & 0.00318523 &    NA &  0.0032872 &  0.0032872 &     NA & -0.00251798 &  0.000357154 & 0.00337102 &       NA\\\\\n",
       "\t filter\\_blank & 3 & 0.0697 & 0.073617 & 0.00318523 &    NA &  0.0032872 &  0.0032872 &     NA & -0.00378797 &  0.000357154 & 0.00337102 &       NA\\\\\n",
       "\t filter\\_blank & 4 & 0.0753 & 0.073617 & 0.00318523 &    NA &  0.0032872 &  0.0032872 &     NA &  0.00213868 &  0.000357154 & 0.00337102 &       NA\\\\\n",
       "\t filter\\_blank & 5 & 0.0770 & 0.073617 & 0.00318523 &    NA &  0.0032872 &  0.0032872 &     NA &  0.00393784 &  0.000357154 & 0.00337102 &       NA\\\\\n",
       "\t filter\\_blank & 6 & 0.0769 & 0.073617 & 0.00318523 &    NA &  0.0032872 &  0.0032872 &     NA &  0.00383200 &  0.000357154 & 0.00337102 &       NA\\\\\n",
       "\\end{tabular}\n"
      ],
      "text/markdown": [
       "\n",
       "A tibble: 48 × 13\n",
       "\n",
       "| sample &lt;chr&gt; | rep &lt;int&gt; | od &lt;dbl&gt; | avg_od &lt;dbl&gt; | sd_od &lt;dbl&gt; | actual_conc &lt;dbl&gt; | predicted_conc_avglm &lt;dbl&gt; | avg_predicted_conc_avglm &lt;dbl&gt; | percent_error_avglm &lt;dbl&gt; | predicted_conc &lt;dbl&gt; | avg_predicted_conc &lt;dbl&gt; | sd_predicted_conc &lt;dbl&gt; | percent_error &lt;dbl&gt; |\n",
       "|---|---|---|---|---|---|---|---|---|---|---|---|---|\n",
       "| s123         | 1 | 0.0767 | 0.079617 | 0.00425461 |    NA |  0.0091939 |  0.0091939 |     NA |  0.00362034 |  0.006707134 | 0.00450278 |       NA |\n",
       "| s123         | 2 | 0.0752 | 0.079617 | 0.00425461 |    NA |  0.0091939 |  0.0091939 |     NA |  0.00203284 |  0.006707134 | 0.00450278 |       NA |\n",
       "| s123         | 3 | 0.0773 | 0.079617 | 0.00425461 |    NA |  0.0091939 |  0.0091939 |     NA |  0.00425534 |  0.006707134 | 0.00450278 |       NA |\n",
       "| s123         | 4 | 0.0860 | 0.079617 | 0.00425461 |    NA |  0.0091939 |  0.0091939 |     NA |  0.01346281 |  0.006707134 | 0.00450278 |       NA |\n",
       "| s123         | 5 | 0.0789 | 0.079617 | 0.00425461 |    NA |  0.0091939 |  0.0091939 |     NA |  0.00594866 |  0.006707134 | 0.00450278 |       NA |\n",
       "| s123         | 6 | 0.0836 | 0.079617 | 0.00425461 |    NA |  0.0091939 |  0.0091939 |     NA |  0.01092282 |  0.006707134 | 0.00450278 |       NA |\n",
       "| s159         | 1 | 0.0762 | 0.089700 | 0.01933877 |    NA |  0.0191205 |  0.0191205 |     NA |  0.00309117 |  0.017378629 | 0.02046680 |       NA |\n",
       "| s159         | 2 | 0.0751 | 0.089700 | 0.01933877 |    NA |  0.0191205 |  0.0191205 |     NA |  0.00192701 |  0.017378629 | 0.02046680 |       NA |\n",
       "| s159         | 3 | 0.1259 | 0.089700 | 0.01933877 |    NA |  0.0191205 |  0.0191205 |     NA |  0.05569018 |  0.017378629 | 0.02046680 |       NA |\n",
       "| s159         | 4 | 0.0845 | 0.089700 | 0.01933877 |    NA |  0.0191205 |  0.0191205 |     NA |  0.01187531 |  0.017378629 | 0.02046680 |       NA |\n",
       "| s159         | 5 | 0.0964 | 0.089700 | 0.01933877 |    NA |  0.0191205 |  0.0191205 |     NA |  0.02446944 |  0.017378629 | 0.02046680 |       NA |\n",
       "| s159         | 6 | 0.0801 | 0.089700 | 0.01933877 |    NA |  0.0191205 |  0.0191205 |     NA |  0.00721866 |  0.017378629 | 0.02046680 |       NA |\n",
       "| s123spk      | 1 | 0.2929 | 0.291500 | 0.00127671 |    NA |  0.2177835 |  0.2177835 | 15.977 |  0.23243129 |  0.230949632 | 0.00135119 |  10.3253 |\n",
       "| s123spk      | 2 | 0.2904 | 0.291500 | 0.00127671 |    NA |  0.2177835 |  0.2177835 | 15.977 |  0.22978547 |  0.230949632 | 0.00135119 |  11.3461 |\n",
       "| s123spk      | 3 | 0.2912 | 0.291500 | 0.00127671 |    NA |  0.2177835 |  0.2177835 | 15.977 |  0.23063213 |  0.230949632 | 0.00135119 |  11.0195 |\n",
       "| s159spk      | 1 | 0.4866 | 0.486500 | 0.00055678 |    NA |  0.4097522 |  0.4097522 | 21.068 |  0.43742982 |  0.437323990 | 0.00058925 |  15.7364 |\n",
       "| s159spk      | 2 | 0.4859 | 0.486500 | 0.00055678 |    NA |  0.4097522 |  0.4097522 | 21.068 |  0.43668899 |  0.437323990 | 0.00058925 |  15.8791 |\n",
       "| s159spk      | 3 | 0.4870 | 0.486500 | 0.00055678 |    NA |  0.4097522 |  0.4097522 | 21.068 |  0.43785315 |  0.437323990 | 0.00058925 |  15.6548 |\n",
       "| qc1          | 1 | 0.8543 | 0.865820 | 0.00890292 | 1.000 |  0.7831756 |  0.7831756 | 21.682 |  0.82657778 |  0.838769742 | 0.00942223 |  17.3422 |\n",
       "| qc1          | 2 | 0.8750 | 0.865820 | 0.00890292 | 1.000 |  0.7831756 |  0.7831756 | 21.682 |  0.84848521 |  0.838769742 | 0.00942223 |  15.1515 |\n",
       "| qc1          | 3 | 0.8594 | 0.865820 | 0.00890292 | 1.000 |  0.7831756 |  0.7831756 | 21.682 |  0.83197526 |  0.838769742 | 0.00942223 |  16.8025 |\n",
       "| qc1          | 4 | 0.8670 | 0.865820 | 0.00890292 | 1.000 |  0.7831756 |  0.7831756 | 21.682 |  0.84001857 |  0.838769742 | 0.00942223 |  15.9981 |\n",
       "| qc1          | 5 | 0.8734 | 0.865820 | 0.00890292 | 1.000 |  0.7831756 |  0.7831756 | 21.682 |  0.84679188 |  0.838769742 | 0.00942223 |  15.3208 |\n",
       "| qc2          | 1 | 0.4853 | 0.493740 | 0.00574569 | 0.500 |  0.4168796 |  0.4168796 | 16.624 |  0.43605399 |  0.444986299 | 0.00608084 |  12.7892 |\n",
       "| qc2          | 2 | 0.4912 | 0.493740 | 0.00574569 | 0.500 |  0.4168796 |  0.4168796 | 16.624 |  0.44229814 |  0.444986299 | 0.00608084 |  11.5404 |\n",
       "| qc2          | 3 | 0.4971 | 0.493740 | 0.00574569 | 0.500 |  0.4168796 |  0.4168796 | 16.624 |  0.44854229 |  0.444986299 | 0.00608084 |  10.2915 |\n",
       "| qc2          | 4 | 0.4949 | 0.493740 | 0.00574569 | 0.500 |  0.4168796 |  0.4168796 | 16.624 |  0.44621396 |  0.444986299 | 0.00608084 |  10.7572 |\n",
       "| qc2          | 5 | 0.5002 | 0.493740 | 0.00574569 | 0.500 |  0.4168796 |  0.4168796 | 16.624 |  0.45182311 |  0.444986299 | 0.00608084 |   9.6354 |\n",
       "| qc3          | 1 | 0.1132 | 0.109680 | 0.00685471 | 0.050 |  0.0387899 |  0.0387899 | 22.420 |  0.04224938 |  0.038524063 | 0.00725454 |  15.5012 |\n",
       "| qc3          | 2 | 0.1115 | 0.109680 | 0.00685471 | 0.050 |  0.0387899 |  0.0387899 | 22.420 |  0.04045022 |  0.038524063 | 0.00725454 |  19.0996 |\n",
       "| qc3          | 3 | 0.0975 | 0.109680 | 0.00685471 | 0.050 |  0.0387899 |  0.0387899 | 22.420 |  0.02563360 |  0.038524063 | 0.00725454 |  48.7328 |\n",
       "| qc3          | 4 | 0.1126 | 0.109680 | 0.00685471 | 0.050 |  0.0387899 |  0.0387899 | 22.420 |  0.04161439 |  0.038524063 | 0.00725454 |  16.7712 |\n",
       "| qc3          | 5 | 0.1136 | 0.109680 | 0.00685471 | 0.050 |  0.0387899 |  0.0387899 | 22.420 |  0.04267272 |  0.038524063 | 0.00725454 |  14.6546 |\n",
       "| qc4          | 1 | 0.0712 | 0.073340 | 0.00278173 | 0.005 |  0.0030148 |  0.0030148 | 39.704 | -0.00220048 |  0.000064349 | 0.00294398 | 144.0095 |\n",
       "| qc4          | 2 | 0.0714 | 0.073340 | 0.00278173 | 0.005 |  0.0030148 |  0.0030148 | 39.704 | -0.00198881 |  0.000064349 | 0.00294398 | 139.7762 |\n",
       "| qc4          | 3 | 0.0751 | 0.073340 | 0.00278173 | 0.005 |  0.0030148 |  0.0030148 | 39.704 |  0.00192701 |  0.000064349 | 0.00294398 |  61.4598 |\n",
       "| qc4          | 4 | 0.0716 | 0.073340 | 0.00278173 | 0.005 |  0.0030148 |  0.0030148 | 39.704 | -0.00177714 |  0.000064349 | 0.00294398 | 135.5429 |\n",
       "| qc4          | 5 | 0.0774 | 0.073340 | 0.00278173 | 0.005 |  0.0030148 |  0.0030148 | 39.704 |  0.00436117 |  0.000064349 | 0.00294398 |  12.7766 |\n",
       "| di_blank     | 1 | 0.0676 | 0.069200 | 0.00310376 |    NA | -0.0010609 | -0.0010609 |     NA | -0.00601047 | -0.004317137 | 0.00328480 |       NA |\n",
       "| di_blank     | 2 | 0.0664 | 0.069200 | 0.00310376 |    NA | -0.0010609 | -0.0010609 |     NA | -0.00728046 | -0.004317137 | 0.00328480 |       NA |\n",
       "| di_blank     | 3 | 0.0693 | 0.069200 | 0.00310376 |    NA | -0.0010609 | -0.0010609 |     NA | -0.00421130 | -0.004317137 | 0.00328480 |       NA |\n",
       "| di_blank     | 4 | 0.0735 | 0.069200 | 0.00310376 |    NA | -0.0010609 | -0.0010609 |     NA |  0.00023368 | -0.004317137 | 0.00328480 |       NA |\n",
       "| filter_blank | 1 | 0.0719 | 0.073617 | 0.00318523 |    NA |  0.0032872 |  0.0032872 |     NA | -0.00145965 |  0.000357154 | 0.00337102 |       NA |\n",
       "| filter_blank | 2 | 0.0709 | 0.073617 | 0.00318523 |    NA |  0.0032872 |  0.0032872 |     NA | -0.00251798 |  0.000357154 | 0.00337102 |       NA |\n",
       "| filter_blank | 3 | 0.0697 | 0.073617 | 0.00318523 |    NA |  0.0032872 |  0.0032872 |     NA | -0.00378797 |  0.000357154 | 0.00337102 |       NA |\n",
       "| filter_blank | 4 | 0.0753 | 0.073617 | 0.00318523 |    NA |  0.0032872 |  0.0032872 |     NA |  0.00213868 |  0.000357154 | 0.00337102 |       NA |\n",
       "| filter_blank | 5 | 0.0770 | 0.073617 | 0.00318523 |    NA |  0.0032872 |  0.0032872 |     NA |  0.00393784 |  0.000357154 | 0.00337102 |       NA |\n",
       "| filter_blank | 6 | 0.0769 | 0.073617 | 0.00318523 |    NA |  0.0032872 |  0.0032872 |     NA |  0.00383200 |  0.000357154 | 0.00337102 |       NA |\n",
       "\n"
      ],
      "text/plain": [
       "   sample       rep od     avg_od   sd_od      actual_conc predicted_conc_avglm\n",
       "1  s123         1   0.0767 0.079617 0.00425461    NA        0.0091939          \n",
       "2  s123         2   0.0752 0.079617 0.00425461    NA        0.0091939          \n",
       "3  s123         3   0.0773 0.079617 0.00425461    NA        0.0091939          \n",
       "4  s123         4   0.0860 0.079617 0.00425461    NA        0.0091939          \n",
       "5  s123         5   0.0789 0.079617 0.00425461    NA        0.0091939          \n",
       "6  s123         6   0.0836 0.079617 0.00425461    NA        0.0091939          \n",
       "7  s159         1   0.0762 0.089700 0.01933877    NA        0.0191205          \n",
       "8  s159         2   0.0751 0.089700 0.01933877    NA        0.0191205          \n",
       "9  s159         3   0.1259 0.089700 0.01933877    NA        0.0191205          \n",
       "10 s159         4   0.0845 0.089700 0.01933877    NA        0.0191205          \n",
       "11 s159         5   0.0964 0.089700 0.01933877    NA        0.0191205          \n",
       "12 s159         6   0.0801 0.089700 0.01933877    NA        0.0191205          \n",
       "13 s123spk      1   0.2929 0.291500 0.00127671    NA        0.2177835          \n",
       "14 s123spk      2   0.2904 0.291500 0.00127671    NA        0.2177835          \n",
       "15 s123spk      3   0.2912 0.291500 0.00127671    NA        0.2177835          \n",
       "16 s159spk      1   0.4866 0.486500 0.00055678    NA        0.4097522          \n",
       "17 s159spk      2   0.4859 0.486500 0.00055678    NA        0.4097522          \n",
       "18 s159spk      3   0.4870 0.486500 0.00055678    NA        0.4097522          \n",
       "19 qc1          1   0.8543 0.865820 0.00890292 1.000        0.7831756          \n",
       "20 qc1          2   0.8750 0.865820 0.00890292 1.000        0.7831756          \n",
       "21 qc1          3   0.8594 0.865820 0.00890292 1.000        0.7831756          \n",
       "22 qc1          4   0.8670 0.865820 0.00890292 1.000        0.7831756          \n",
       "23 qc1          5   0.8734 0.865820 0.00890292 1.000        0.7831756          \n",
       "24 qc2          1   0.4853 0.493740 0.00574569 0.500        0.4168796          \n",
       "25 qc2          2   0.4912 0.493740 0.00574569 0.500        0.4168796          \n",
       "26 qc2          3   0.4971 0.493740 0.00574569 0.500        0.4168796          \n",
       "27 qc2          4   0.4949 0.493740 0.00574569 0.500        0.4168796          \n",
       "28 qc2          5   0.5002 0.493740 0.00574569 0.500        0.4168796          \n",
       "29 qc3          1   0.1132 0.109680 0.00685471 0.050        0.0387899          \n",
       "30 qc3          2   0.1115 0.109680 0.00685471 0.050        0.0387899          \n",
       "31 qc3          3   0.0975 0.109680 0.00685471 0.050        0.0387899          \n",
       "32 qc3          4   0.1126 0.109680 0.00685471 0.050        0.0387899          \n",
       "33 qc3          5   0.1136 0.109680 0.00685471 0.050        0.0387899          \n",
       "34 qc4          1   0.0712 0.073340 0.00278173 0.005        0.0030148          \n",
       "35 qc4          2   0.0714 0.073340 0.00278173 0.005        0.0030148          \n",
       "36 qc4          3   0.0751 0.073340 0.00278173 0.005        0.0030148          \n",
       "37 qc4          4   0.0716 0.073340 0.00278173 0.005        0.0030148          \n",
       "38 qc4          5   0.0774 0.073340 0.00278173 0.005        0.0030148          \n",
       "39 di_blank     1   0.0676 0.069200 0.00310376    NA       -0.0010609          \n",
       "40 di_blank     2   0.0664 0.069200 0.00310376    NA       -0.0010609          \n",
       "41 di_blank     3   0.0693 0.069200 0.00310376    NA       -0.0010609          \n",
       "42 di_blank     4   0.0735 0.069200 0.00310376    NA       -0.0010609          \n",
       "43 filter_blank 1   0.0719 0.073617 0.00318523    NA        0.0032872          \n",
       "44 filter_blank 2   0.0709 0.073617 0.00318523    NA        0.0032872          \n",
       "45 filter_blank 3   0.0697 0.073617 0.00318523    NA        0.0032872          \n",
       "46 filter_blank 4   0.0753 0.073617 0.00318523    NA        0.0032872          \n",
       "47 filter_blank 5   0.0770 0.073617 0.00318523    NA        0.0032872          \n",
       "48 filter_blank 6   0.0769 0.073617 0.00318523    NA        0.0032872          \n",
       "   avg_predicted_conc_avglm percent_error_avglm predicted_conc\n",
       "1   0.0091939                   NA               0.00362034   \n",
       "2   0.0091939                   NA               0.00203284   \n",
       "3   0.0091939                   NA               0.00425534   \n",
       "4   0.0091939                   NA               0.01346281   \n",
       "5   0.0091939                   NA               0.00594866   \n",
       "6   0.0091939                   NA               0.01092282   \n",
       "7   0.0191205                   NA               0.00309117   \n",
       "8   0.0191205                   NA               0.00192701   \n",
       "9   0.0191205                   NA               0.05569018   \n",
       "10  0.0191205                   NA               0.01187531   \n",
       "11  0.0191205                   NA               0.02446944   \n",
       "12  0.0191205                   NA               0.00721866   \n",
       "13  0.2177835               15.977               0.23243129   \n",
       "14  0.2177835               15.977               0.22978547   \n",
       "15  0.2177835               15.977               0.23063213   \n",
       "16  0.4097522               21.068               0.43742982   \n",
       "17  0.4097522               21.068               0.43668899   \n",
       "18  0.4097522               21.068               0.43785315   \n",
       "19  0.7831756               21.682               0.82657778   \n",
       "20  0.7831756               21.682               0.84848521   \n",
       "21  0.7831756               21.682               0.83197526   \n",
       "22  0.7831756               21.682               0.84001857   \n",
       "23  0.7831756               21.682               0.84679188   \n",
       "24  0.4168796               16.624               0.43605399   \n",
       "25  0.4168796               16.624               0.44229814   \n",
       "26  0.4168796               16.624               0.44854229   \n",
       "27  0.4168796               16.624               0.44621396   \n",
       "28  0.4168796               16.624               0.45182311   \n",
       "29  0.0387899               22.420               0.04224938   \n",
       "30  0.0387899               22.420               0.04045022   \n",
       "31  0.0387899               22.420               0.02563360   \n",
       "32  0.0387899               22.420               0.04161439   \n",
       "33  0.0387899               22.420               0.04267272   \n",
       "34  0.0030148               39.704              -0.00220048   \n",
       "35  0.0030148               39.704              -0.00198881   \n",
       "36  0.0030148               39.704               0.00192701   \n",
       "37  0.0030148               39.704              -0.00177714   \n",
       "38  0.0030148               39.704               0.00436117   \n",
       "39 -0.0010609                   NA              -0.00601047   \n",
       "40 -0.0010609                   NA              -0.00728046   \n",
       "41 -0.0010609                   NA              -0.00421130   \n",
       "42 -0.0010609                   NA               0.00023368   \n",
       "43  0.0032872                   NA              -0.00145965   \n",
       "44  0.0032872                   NA              -0.00251798   \n",
       "45  0.0032872                   NA              -0.00378797   \n",
       "46  0.0032872                   NA               0.00213868   \n",
       "47  0.0032872                   NA               0.00393784   \n",
       "48  0.0032872                   NA               0.00383200   \n",
       "   avg_predicted_conc sd_predicted_conc percent_error\n",
       "1   0.006707134       0.00450278              NA     \n",
       "2   0.006707134       0.00450278              NA     \n",
       "3   0.006707134       0.00450278              NA     \n",
       "4   0.006707134       0.00450278              NA     \n",
       "5   0.006707134       0.00450278              NA     \n",
       "6   0.006707134       0.00450278              NA     \n",
       "7   0.017378629       0.02046680              NA     \n",
       "8   0.017378629       0.02046680              NA     \n",
       "9   0.017378629       0.02046680              NA     \n",
       "10  0.017378629       0.02046680              NA     \n",
       "11  0.017378629       0.02046680              NA     \n",
       "12  0.017378629       0.02046680              NA     \n",
       "13  0.230949632       0.00135119         10.3253     \n",
       "14  0.230949632       0.00135119         11.3461     \n",
       "15  0.230949632       0.00135119         11.0195     \n",
       "16  0.437323990       0.00058925         15.7364     \n",
       "17  0.437323990       0.00058925         15.8791     \n",
       "18  0.437323990       0.00058925         15.6548     \n",
       "19  0.838769742       0.00942223         17.3422     \n",
       "20  0.838769742       0.00942223         15.1515     \n",
       "21  0.838769742       0.00942223         16.8025     \n",
       "22  0.838769742       0.00942223         15.9981     \n",
       "23  0.838769742       0.00942223         15.3208     \n",
       "24  0.444986299       0.00608084         12.7892     \n",
       "25  0.444986299       0.00608084         11.5404     \n",
       "26  0.444986299       0.00608084         10.2915     \n",
       "27  0.444986299       0.00608084         10.7572     \n",
       "28  0.444986299       0.00608084          9.6354     \n",
       "29  0.038524063       0.00725454         15.5012     \n",
       "30  0.038524063       0.00725454         19.0996     \n",
       "31  0.038524063       0.00725454         48.7328     \n",
       "32  0.038524063       0.00725454         16.7712     \n",
       "33  0.038524063       0.00725454         14.6546     \n",
       "34  0.000064349       0.00294398        144.0095     \n",
       "35  0.000064349       0.00294398        139.7762     \n",
       "36  0.000064349       0.00294398         61.4598     \n",
       "37  0.000064349       0.00294398        135.5429     \n",
       "38  0.000064349       0.00294398         12.7766     \n",
       "39 -0.004317137       0.00328480              NA     \n",
       "40 -0.004317137       0.00328480              NA     \n",
       "41 -0.004317137       0.00328480              NA     \n",
       "42 -0.004317137       0.00328480              NA     \n",
       "43  0.000357154       0.00337102              NA     \n",
       "44  0.000357154       0.00337102              NA     \n",
       "45  0.000357154       0.00337102              NA     \n",
       "46  0.000357154       0.00337102              NA     \n",
       "47  0.000357154       0.00337102              NA     \n",
       "48  0.000357154       0.00337102              NA     "
      ]
     },
     "metadata": {},
     "output_type": "display_data"
    }
   ],
   "source": [
    "samples"
   ]
  },
  {
   "cell_type": "code",
   "execution_count": null,
   "id": "ef8cdc49-802b-4950-bbb5-90457ff7513f",
   "metadata": {},
   "outputs": [],
   "source": []
  }
 ],
 "metadata": {
  "kernelspec": {
   "display_name": "R",
   "language": "R",
   "name": "ir"
  },
  "language_info": {
   "codemirror_mode": "r",
   "file_extension": ".r",
   "mimetype": "text/x-r-source",
   "name": "R",
   "pygments_lexer": "r",
   "version": "4.4.3"
  }
 },
 "nbformat": 4,
 "nbformat_minor": 5
}
